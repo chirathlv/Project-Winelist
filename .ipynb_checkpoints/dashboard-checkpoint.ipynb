{
 "cells": [
  {
   "cell_type": "markdown",
   "metadata": {},
   "source": [
    "# Nationwide Target Wine Customer Profile Analysis"
   ]
  },
  {
   "cell_type": "code",
   "execution_count": 1,
   "metadata": {},
   "outputs": [],
   "source": [
    "# Imports\n",
    "import os\n",
    "import requests\n",
    "import json\n",
    "from dotenv import load_dotenv\n",
    "import pandas as pd\n",
    "import numpy as np\n",
    "from geopy.geocoders import Nominatim\n",
    "import plotly.express as px"
   ]
  },
  {
   "cell_type": "code",
   "execution_count": 2,
   "metadata": {},
   "outputs": [],
   "source": [
    "# Read the Census API Key\n",
    "load_dotenv()\n",
    "CENSUS_API_KEY = os.getenv(\"census\")\n",
    "map_box_api = os.getenv(\"mapbox\")"
   ]
  },
  {
   "cell_type": "raw",
   "metadata": {},
   "source": [
    "API Parameter Definition\n",
    "'''\n",
    "Marital Status CODE: S0102_C01_028E (Estimate!!Total!!MARITAL STATUS!!Now MARRIED, except separated)\n",
    "Income CODE: S0102_C02_076E (Estimate!!INDIVIDUALS' Mean income (dollars))\n",
    "Age CODE: S0601_C03_006E (Estimate!!Total population!!AGE!!Roughly 40 to 60 years)\n",
    "Education \n",
    "    CODE: S0601_C03_035E (Estimate!!Some college or associate's degree)\n",
    "    CODE: S0601_C03_036E (Estimate!!Bachelor's degree)\n",
    "    CODE: S0601_C03_037E (Estimate!!Graduate or professional degree)\n",
    "'''"
   ]
  },
  {
   "cell_type": "code",
   "execution_count": 3,
   "metadata": {},
   "outputs": [],
   "source": [
    "# Census URL\n",
    "census_url = 'https://api.census.gov/data/2019/acs/acs1/subject?get=NAME,S0102_C01_028E,S0102_C02_076E,S0601_C03_006E,S0601_C03_035E,S0601_C03_036E,S0601_C03_037E&for=county:*&key=' + CENSUS_API_KEY"
   ]
  },
  {
   "cell_type": "code",
   "execution_count": 4,
   "metadata": {},
   "outputs": [],
   "source": [
    "# Fetiching Required Census data from an API\n",
    "res_data = requests.get(census_url).json()"
   ]
  },
  {
   "cell_type": "code",
   "execution_count": 5,
   "metadata": {},
   "outputs": [
    {
     "data": {
      "text/html": [
       "<div>\n",
       "<style scoped>\n",
       "    .dataframe tbody tr th:only-of-type {\n",
       "        vertical-align: middle;\n",
       "    }\n",
       "\n",
       "    .dataframe tbody tr th {\n",
       "        vertical-align: top;\n",
       "    }\n",
       "\n",
       "    .dataframe thead th {\n",
       "        text-align: right;\n",
       "    }\n",
       "</style>\n",
       "<table border=\"1\" class=\"dataframe\">\n",
       "  <thead>\n",
       "    <tr style=\"text-align: right;\">\n",
       "      <th></th>\n",
       "      <th>NAME</th>\n",
       "      <th>S0102_C01_028E</th>\n",
       "      <th>S0102_C02_076E</th>\n",
       "      <th>S0601_C03_006E</th>\n",
       "      <th>S0601_C03_035E</th>\n",
       "      <th>S0601_C03_036E</th>\n",
       "      <th>S0601_C03_037E</th>\n",
       "      <th>state</th>\n",
       "      <th>county</th>\n",
       "    </tr>\n",
       "  </thead>\n",
       "  <tbody>\n",
       "    <tr>\n",
       "      <th>0</th>\n",
       "      <td>Jefferson County, Kentucky</td>\n",
       "      <td>44.1</td>\n",
       "      <td>64495</td>\n",
       "      <td>13.2</td>\n",
       "      <td>30.3</td>\n",
       "      <td>25.5</td>\n",
       "      <td>18.6</td>\n",
       "      <td>21</td>\n",
       "      <td>111</td>\n",
       "    </tr>\n",
       "    <tr>\n",
       "      <th>1</th>\n",
       "      <td>Hennepin County, Minnesota</td>\n",
       "      <td>47.1</td>\n",
       "      <td>85434</td>\n",
       "      <td>15.0</td>\n",
       "      <td>24.8</td>\n",
       "      <td>35.9</td>\n",
       "      <td>23.8</td>\n",
       "      <td>27</td>\n",
       "      <td>053</td>\n",
       "    </tr>\n",
       "    <tr>\n",
       "      <th>2</th>\n",
       "      <td>Olmsted County, Minnesota</td>\n",
       "      <td>None</td>\n",
       "      <td>None</td>\n",
       "      <td>12.8</td>\n",
       "      <td>23.8</td>\n",
       "      <td>29.0</td>\n",
       "      <td>30.7</td>\n",
       "      <td>27</td>\n",
       "      <td>109</td>\n",
       "    </tr>\n",
       "    <tr>\n",
       "      <th>3</th>\n",
       "      <td>Scott County, Minnesota</td>\n",
       "      <td>None</td>\n",
       "      <td>None</td>\n",
       "      <td>22.3</td>\n",
       "      <td>28.8</td>\n",
       "      <td>39.3</td>\n",
       "      <td>15.8</td>\n",
       "      <td>27</td>\n",
       "      <td>139</td>\n",
       "    </tr>\n",
       "    <tr>\n",
       "      <th>4</th>\n",
       "      <td>Faulkner County, Arkansas</td>\n",
       "      <td>None</td>\n",
       "      <td>None</td>\n",
       "      <td>14.8</td>\n",
       "      <td>35.1</td>\n",
       "      <td>21.0</td>\n",
       "      <td>9.5</td>\n",
       "      <td>05</td>\n",
       "      <td>045</td>\n",
       "    </tr>\n",
       "  </tbody>\n",
       "</table>\n",
       "</div>"
      ],
      "text/plain": [
       "                         NAME S0102_C01_028E S0102_C02_076E S0601_C03_006E  \\\n",
       "0  Jefferson County, Kentucky           44.1          64495           13.2   \n",
       "1  Hennepin County, Minnesota           47.1          85434           15.0   \n",
       "2   Olmsted County, Minnesota           None           None           12.8   \n",
       "3     Scott County, Minnesota           None           None           22.3   \n",
       "4   Faulkner County, Arkansas           None           None           14.8   \n",
       "\n",
       "  S0601_C03_035E S0601_C03_036E S0601_C03_037E state county  \n",
       "0           30.3           25.5           18.6    21    111  \n",
       "1           24.8           35.9           23.8    27    053  \n",
       "2           23.8           29.0           30.7    27    109  \n",
       "3           28.8           39.3           15.8    27    139  \n",
       "4           35.1           21.0            9.5    05    045  "
      ]
     },
     "execution_count": 5,
     "metadata": {},
     "output_type": "execute_result"
    }
   ],
   "source": [
    "# Convert the Census Data into a DataFrame\n",
    "census_data = pd.DataFrame(res_data[1:], columns=res_data[0])\n",
    "census_data.head()"
   ]
  },
  {
   "cell_type": "code",
   "execution_count": 6,
   "metadata": {},
   "outputs": [
    {
     "data": {
      "text/html": [
       "<div>\n",
       "<style scoped>\n",
       "    .dataframe tbody tr th:only-of-type {\n",
       "        vertical-align: middle;\n",
       "    }\n",
       "\n",
       "    .dataframe tbody tr th {\n",
       "        vertical-align: top;\n",
       "    }\n",
       "\n",
       "    .dataframe thead th {\n",
       "        text-align: right;\n",
       "    }\n",
       "</style>\n",
       "<table border=\"1\" class=\"dataframe\">\n",
       "  <thead>\n",
       "    <tr style=\"text-align: right;\">\n",
       "      <th></th>\n",
       "      <th>S0102_C01_028E</th>\n",
       "      <th>S0102_C02_076E</th>\n",
       "      <th>S0601_C03_006E</th>\n",
       "      <th>S0601_C03_035E</th>\n",
       "      <th>S0601_C03_036E</th>\n",
       "      <th>S0601_C03_037E</th>\n",
       "      <th>state</th>\n",
       "      <th>county</th>\n",
       "      <th>County</th>\n",
       "      <th>State</th>\n",
       "    </tr>\n",
       "  </thead>\n",
       "  <tbody>\n",
       "    <tr>\n",
       "      <th>0</th>\n",
       "      <td>44.1</td>\n",
       "      <td>64495</td>\n",
       "      <td>13.2</td>\n",
       "      <td>30.3</td>\n",
       "      <td>25.5</td>\n",
       "      <td>18.6</td>\n",
       "      <td>21</td>\n",
       "      <td>111</td>\n",
       "      <td>Jefferson</td>\n",
       "      <td>Kentucky</td>\n",
       "    </tr>\n",
       "    <tr>\n",
       "      <th>1</th>\n",
       "      <td>47.1</td>\n",
       "      <td>85434</td>\n",
       "      <td>15.0</td>\n",
       "      <td>24.8</td>\n",
       "      <td>35.9</td>\n",
       "      <td>23.8</td>\n",
       "      <td>27</td>\n",
       "      <td>053</td>\n",
       "      <td>Hennepin</td>\n",
       "      <td>Minnesota</td>\n",
       "    </tr>\n",
       "    <tr>\n",
       "      <th>2</th>\n",
       "      <td>None</td>\n",
       "      <td>None</td>\n",
       "      <td>12.8</td>\n",
       "      <td>23.8</td>\n",
       "      <td>29.0</td>\n",
       "      <td>30.7</td>\n",
       "      <td>27</td>\n",
       "      <td>109</td>\n",
       "      <td>Olmsted</td>\n",
       "      <td>Minnesota</td>\n",
       "    </tr>\n",
       "    <tr>\n",
       "      <th>3</th>\n",
       "      <td>None</td>\n",
       "      <td>None</td>\n",
       "      <td>22.3</td>\n",
       "      <td>28.8</td>\n",
       "      <td>39.3</td>\n",
       "      <td>15.8</td>\n",
       "      <td>27</td>\n",
       "      <td>139</td>\n",
       "      <td>Scott</td>\n",
       "      <td>Minnesota</td>\n",
       "    </tr>\n",
       "    <tr>\n",
       "      <th>4</th>\n",
       "      <td>None</td>\n",
       "      <td>None</td>\n",
       "      <td>14.8</td>\n",
       "      <td>35.1</td>\n",
       "      <td>21.0</td>\n",
       "      <td>9.5</td>\n",
       "      <td>05</td>\n",
       "      <td>045</td>\n",
       "      <td>Faulkner</td>\n",
       "      <td>Arkansas</td>\n",
       "    </tr>\n",
       "  </tbody>\n",
       "</table>\n",
       "</div>"
      ],
      "text/plain": [
       "  S0102_C01_028E S0102_C02_076E S0601_C03_006E S0601_C03_035E S0601_C03_036E  \\\n",
       "0           44.1          64495           13.2           30.3           25.5   \n",
       "1           47.1          85434           15.0           24.8           35.9   \n",
       "2           None           None           12.8           23.8           29.0   \n",
       "3           None           None           22.3           28.8           39.3   \n",
       "4           None           None           14.8           35.1           21.0   \n",
       "\n",
       "  S0601_C03_037E state county     County       State  \n",
       "0           18.6    21    111  Jefferson    Kentucky  \n",
       "1           23.8    27    053   Hennepin   Minnesota  \n",
       "2           30.7    27    109    Olmsted   Minnesota  \n",
       "3           15.8    27    139      Scott   Minnesota  \n",
       "4            9.5    05    045   Faulkner    Arkansas  "
      ]
     },
     "execution_count": 6,
     "metadata": {},
     "output_type": "execute_result"
    }
   ],
   "source": [
    "# Split the NAME column into County and State\n",
    "census_data[['County', 'State']] = census_data['NAME'].str.split(',', 1, expand=True)\n",
    "census_data['County'] = census_data['County'].str.split(expand=True)\n",
    "\n",
    "# Drop the NAME Column\n",
    "census_data.drop(columns='NAME', inplace=True)\n",
    "census_data.head()"
   ]
  },
  {
   "cell_type": "code",
   "execution_count": 7,
   "metadata": {},
   "outputs": [],
   "source": [
    "# Drop state code and county code columns\n",
    "census_data.drop(columns=['state','county'], inplace=True)"
   ]
  },
  {
   "cell_type": "code",
   "execution_count": 8,
   "metadata": {},
   "outputs": [
    {
     "data": {
      "text/html": [
       "<div>\n",
       "<style scoped>\n",
       "    .dataframe tbody tr th:only-of-type {\n",
       "        vertical-align: middle;\n",
       "    }\n",
       "\n",
       "    .dataframe tbody tr th {\n",
       "        vertical-align: top;\n",
       "    }\n",
       "\n",
       "    .dataframe thead th {\n",
       "        text-align: right;\n",
       "    }\n",
       "</style>\n",
       "<table border=\"1\" class=\"dataframe\">\n",
       "  <thead>\n",
       "    <tr style=\"text-align: right;\">\n",
       "      <th></th>\n",
       "      <th>S0102_C01_028E</th>\n",
       "      <th>S0102_C02_076E</th>\n",
       "      <th>S0601_C03_006E</th>\n",
       "      <th>County</th>\n",
       "      <th>State</th>\n",
       "      <th>Education_Pop</th>\n",
       "    </tr>\n",
       "  </thead>\n",
       "  <tbody>\n",
       "    <tr>\n",
       "      <th>0</th>\n",
       "      <td>44.1</td>\n",
       "      <td>64495</td>\n",
       "      <td>13.2</td>\n",
       "      <td>Jefferson</td>\n",
       "      <td>Kentucky</td>\n",
       "      <td>74.4</td>\n",
       "    </tr>\n",
       "    <tr>\n",
       "      <th>1</th>\n",
       "      <td>47.1</td>\n",
       "      <td>85434</td>\n",
       "      <td>15.0</td>\n",
       "      <td>Hennepin</td>\n",
       "      <td>Minnesota</td>\n",
       "      <td>84.5</td>\n",
       "    </tr>\n",
       "    <tr>\n",
       "      <th>2</th>\n",
       "      <td>None</td>\n",
       "      <td>None</td>\n",
       "      <td>12.8</td>\n",
       "      <td>Olmsted</td>\n",
       "      <td>Minnesota</td>\n",
       "      <td>83.5</td>\n",
       "    </tr>\n",
       "    <tr>\n",
       "      <th>3</th>\n",
       "      <td>None</td>\n",
       "      <td>None</td>\n",
       "      <td>22.3</td>\n",
       "      <td>Scott</td>\n",
       "      <td>Minnesota</td>\n",
       "      <td>83.9</td>\n",
       "    </tr>\n",
       "    <tr>\n",
       "      <th>4</th>\n",
       "      <td>None</td>\n",
       "      <td>None</td>\n",
       "      <td>14.8</td>\n",
       "      <td>Faulkner</td>\n",
       "      <td>Arkansas</td>\n",
       "      <td>65.6</td>\n",
       "    </tr>\n",
       "  </tbody>\n",
       "</table>\n",
       "</div>"
      ],
      "text/plain": [
       "  S0102_C01_028E S0102_C02_076E S0601_C03_006E     County       State  \\\n",
       "0           44.1          64495           13.2  Jefferson    Kentucky   \n",
       "1           47.1          85434           15.0   Hennepin   Minnesota   \n",
       "2           None           None           12.8    Olmsted   Minnesota   \n",
       "3           None           None           22.3      Scott   Minnesota   \n",
       "4           None           None           14.8   Faulkner    Arkansas   \n",
       "\n",
       "   Education_Pop  \n",
       "0           74.4  \n",
       "1           84.5  \n",
       "2           83.5  \n",
       "3           83.9  \n",
       "4           65.6  "
      ]
     },
     "execution_count": 8,
     "metadata": {},
     "output_type": "execute_result"
    }
   ],
   "source": [
    "# Education Count Column = All the College Degree +  Bachelor Degree + professional Degree Population\n",
    "census_data['Education_Pop'] = census_data['S0601_C03_035E'].astype(np.float) + census_data['S0601_C03_036E'].astype(np.float) + census_data['S0601_C03_037E'].astype(np.float)\n",
    "census_data.drop(columns=['S0601_C03_035E','S0601_C03_036E','S0601_C03_037E'], inplace=True)\n",
    "census_data.head()"
   ]
  },
  {
   "cell_type": "code",
   "execution_count": 9,
   "metadata": {},
   "outputs": [
    {
     "data": {
      "text/html": [
       "<div>\n",
       "<style scoped>\n",
       "    .dataframe tbody tr th:only-of-type {\n",
       "        vertical-align: middle;\n",
       "    }\n",
       "\n",
       "    .dataframe tbody tr th {\n",
       "        vertical-align: top;\n",
       "    }\n",
       "\n",
       "    .dataframe thead th {\n",
       "        text-align: right;\n",
       "    }\n",
       "</style>\n",
       "<table border=\"1\" class=\"dataframe\">\n",
       "  <thead>\n",
       "    <tr style=\"text-align: right;\">\n",
       "      <th></th>\n",
       "      <th>Marital_Pop</th>\n",
       "      <th>Income</th>\n",
       "      <th>Age_Pop</th>\n",
       "      <th>County</th>\n",
       "      <th>State</th>\n",
       "      <th>Education_Pop</th>\n",
       "    </tr>\n",
       "  </thead>\n",
       "  <tbody>\n",
       "    <tr>\n",
       "      <th>0</th>\n",
       "      <td>44.1</td>\n",
       "      <td>64495</td>\n",
       "      <td>13.2</td>\n",
       "      <td>Jefferson</td>\n",
       "      <td>Kentucky</td>\n",
       "      <td>74.4</td>\n",
       "    </tr>\n",
       "    <tr>\n",
       "      <th>1</th>\n",
       "      <td>47.1</td>\n",
       "      <td>85434</td>\n",
       "      <td>15.0</td>\n",
       "      <td>Hennepin</td>\n",
       "      <td>Minnesota</td>\n",
       "      <td>84.5</td>\n",
       "    </tr>\n",
       "    <tr>\n",
       "      <th>2</th>\n",
       "      <td>None</td>\n",
       "      <td>None</td>\n",
       "      <td>12.8</td>\n",
       "      <td>Olmsted</td>\n",
       "      <td>Minnesota</td>\n",
       "      <td>83.5</td>\n",
       "    </tr>\n",
       "    <tr>\n",
       "      <th>3</th>\n",
       "      <td>None</td>\n",
       "      <td>None</td>\n",
       "      <td>22.3</td>\n",
       "      <td>Scott</td>\n",
       "      <td>Minnesota</td>\n",
       "      <td>83.9</td>\n",
       "    </tr>\n",
       "    <tr>\n",
       "      <th>4</th>\n",
       "      <td>None</td>\n",
       "      <td>None</td>\n",
       "      <td>14.8</td>\n",
       "      <td>Faulkner</td>\n",
       "      <td>Arkansas</td>\n",
       "      <td>65.6</td>\n",
       "    </tr>\n",
       "  </tbody>\n",
       "</table>\n",
       "</div>"
      ],
      "text/plain": [
       "  Marital_Pop Income Age_Pop     County       State  Education_Pop\n",
       "0        44.1  64495    13.2  Jefferson    Kentucky           74.4\n",
       "1        47.1  85434    15.0   Hennepin   Minnesota           84.5\n",
       "2        None   None    12.8    Olmsted   Minnesota           83.5\n",
       "3        None   None    22.3      Scott   Minnesota           83.9\n",
       "4        None   None    14.8   Faulkner    Arkansas           65.6"
      ]
     },
     "execution_count": 9,
     "metadata": {},
     "output_type": "execute_result"
    }
   ],
   "source": [
    "# Defining each column with Meaningfull data definition\n",
    "census_data.rename(columns={\n",
    "    'S0102_C01_028E': 'Marital_Pop',\n",
    "    'S0102_C02_076E': 'Income',\n",
    "    'S0601_C03_006E': 'Age_Pop'\n",
    "}, inplace=True)\n",
    "census_data.head()"
   ]
  },
  {
   "cell_type": "code",
   "execution_count": 10,
   "metadata": {},
   "outputs": [],
   "source": [
    "# dropping all the None values\n",
    "census_data.dropna(inplace=True)"
   ]
  },
  {
   "cell_type": "code",
   "execution_count": 11,
   "metadata": {},
   "outputs": [],
   "source": [
    "# Remove all the duplicates\n",
    "census_data.drop_duplicates(inplace=True)"
   ]
  },
  {
   "cell_type": "code",
   "execution_count": 12,
   "metadata": {},
   "outputs": [
    {
     "data": {
      "text/plain": [
       "Marital_Pop       object\n",
       "Income            object\n",
       "Age_Pop           object\n",
       "County            object\n",
       "State             object\n",
       "Education_Pop    float64\n",
       "dtype: object"
      ]
     },
     "execution_count": 12,
     "metadata": {},
     "output_type": "execute_result"
    }
   ],
   "source": [
    "# inspecting Data Types\n",
    "census_data.dtypes"
   ]
  },
  {
   "cell_type": "code",
   "execution_count": 13,
   "metadata": {},
   "outputs": [],
   "source": [
    "# Converting String Numeric columns to Numeric\n",
    "census_data['Marital_Pop'] = census_data['Marital_Pop'].astype(np.float)\n",
    "census_data['Income'] = census_data['Income'].astype(np.int)\n",
    "census_data['Age_Pop'] = census_data['Age_Pop'].astype(np.float)\n",
    "census_data['Education_Pop'] = census_data['Education_Pop'].astype(np.float)"
   ]
  },
  {
   "cell_type": "code",
   "execution_count": 14,
   "metadata": {},
   "outputs": [
    {
     "data": {
      "text/html": [
       "<div>\n",
       "<style scoped>\n",
       "    .dataframe tbody tr th:only-of-type {\n",
       "        vertical-align: middle;\n",
       "    }\n",
       "\n",
       "    .dataframe tbody tr th {\n",
       "        vertical-align: top;\n",
       "    }\n",
       "\n",
       "    .dataframe thead th {\n",
       "        text-align: right;\n",
       "    }\n",
       "</style>\n",
       "<table border=\"1\" class=\"dataframe\">\n",
       "  <thead>\n",
       "    <tr style=\"text-align: right;\">\n",
       "      <th></th>\n",
       "      <th>Marital_Pop</th>\n",
       "      <th>Income</th>\n",
       "      <th>Age_Pop</th>\n",
       "      <th>County</th>\n",
       "      <th>State</th>\n",
       "      <th>Education_Pop</th>\n",
       "    </tr>\n",
       "  </thead>\n",
       "  <tbody>\n",
       "    <tr>\n",
       "      <th>0</th>\n",
       "      <td>44.1</td>\n",
       "      <td>64495</td>\n",
       "      <td>13.2</td>\n",
       "      <td>Jefferson</td>\n",
       "      <td>Kentucky</td>\n",
       "      <td>74.4</td>\n",
       "    </tr>\n",
       "    <tr>\n",
       "      <th>1</th>\n",
       "      <td>47.1</td>\n",
       "      <td>85434</td>\n",
       "      <td>15.0</td>\n",
       "      <td>Hennepin</td>\n",
       "      <td>Minnesota</td>\n",
       "      <td>84.5</td>\n",
       "    </tr>\n",
       "    <tr>\n",
       "      <th>6</th>\n",
       "      <td>48.6</td>\n",
       "      <td>57972</td>\n",
       "      <td>13.7</td>\n",
       "      <td>Sedgwick</td>\n",
       "      <td>Kansas</td>\n",
       "      <td>68.0</td>\n",
       "    </tr>\n",
       "    <tr>\n",
       "      <th>9</th>\n",
       "      <td>45.7</td>\n",
       "      <td>80766</td>\n",
       "      <td>11.4</td>\n",
       "      <td>Allegheny</td>\n",
       "      <td>Pennsylvania</td>\n",
       "      <td>82.0</td>\n",
       "    </tr>\n",
       "    <tr>\n",
       "      <th>14</th>\n",
       "      <td>54.8</td>\n",
       "      <td>104728</td>\n",
       "      <td>16.0</td>\n",
       "      <td>Chester</td>\n",
       "      <td>Pennsylvania</td>\n",
       "      <td>84.0</td>\n",
       "    </tr>\n",
       "  </tbody>\n",
       "</table>\n",
       "</div>"
      ],
      "text/plain": [
       "    Marital_Pop  Income  Age_Pop     County          State  Education_Pop\n",
       "0          44.1   64495     13.2  Jefferson       Kentucky           74.4\n",
       "1          47.1   85434     15.0   Hennepin      Minnesota           84.5\n",
       "6          48.6   57972     13.7   Sedgwick         Kansas           68.0\n",
       "9          45.7   80766     11.4  Allegheny   Pennsylvania           82.0\n",
       "14         54.8  104728     16.0    Chester   Pennsylvania           84.0"
      ]
     },
     "execution_count": 14,
     "metadata": {},
     "output_type": "execute_result"
    }
   ],
   "source": [
    "# Checking a sample of census_data\n",
    "census_data.head()"
   ]
  },
  {
   "cell_type": "markdown",
   "metadata": {},
   "source": [
    "- - -"
   ]
  },
  {
   "cell_type": "markdown",
   "metadata": {},
   "source": [
    "## States and Counties which are Income (60K-80K), Age (40 - 60), Educated and Married"
   ]
  },
  {
   "cell_type": "code",
   "execution_count": 15,
   "metadata": {},
   "outputs": [],
   "source": [
    "# Fetch Geo Codes and append to the existing DataFrame\n",
    "def geo_coordinates(df):\n",
    "    # Geolocator object\n",
    "    geolocator = Nominatim(user_agent=\"http\")\n",
    "    Lat_list, Long_list = [], []\n",
    "    \n",
    "    # Iterate eah rows and get County and State and passing to geolocator\n",
    "    for i, row in df[['County','State']].iterrows():\n",
    "        coordinates = geolocator.geocode(f\"{row['County']}, {row['State']}\")\n",
    "        \n",
    "        # Append the latitude to Lat_list\n",
    "        Lat_list.append(coordinates.latitude)\n",
    "        \n",
    "        # Append the latitude to Long_list\n",
    "        Long_list.append(coordinates.longitude)\n",
    "    \n",
    "    new_data = pd.DataFrame({\n",
    "        'Lat': Lat_list,\n",
    "        'Lon': Long_list\n",
    "    })\n",
    "    \n",
    "    # Reset the index before joining\n",
    "    df.reset_index(drop=True, inplace=True)\n",
    "    \n",
    "    # Concat the existing df with the new data and return\n",
    "    return pd.concat([df,new_data], axis='columns', join='inner')"
   ]
  },
  {
   "cell_type": "code",
   "execution_count": 16,
   "metadata": {},
   "outputs": [
    {
     "data": {
      "text/html": [
       "<div>\n",
       "<style scoped>\n",
       "    .dataframe tbody tr th:only-of-type {\n",
       "        vertical-align: middle;\n",
       "    }\n",
       "\n",
       "    .dataframe tbody tr th {\n",
       "        vertical-align: top;\n",
       "    }\n",
       "\n",
       "    .dataframe thead th {\n",
       "        text-align: right;\n",
       "    }\n",
       "</style>\n",
       "<table border=\"1\" class=\"dataframe\">\n",
       "  <thead>\n",
       "    <tr style=\"text-align: right;\">\n",
       "      <th></th>\n",
       "      <th>Marital_Pop</th>\n",
       "      <th>Income</th>\n",
       "      <th>Age_Pop</th>\n",
       "      <th>County</th>\n",
       "      <th>State</th>\n",
       "      <th>Education_Pop</th>\n",
       "    </tr>\n",
       "  </thead>\n",
       "  <tbody>\n",
       "    <tr>\n",
       "      <th>0</th>\n",
       "      <td>44.1</td>\n",
       "      <td>64495</td>\n",
       "      <td>13.2</td>\n",
       "      <td>Jefferson</td>\n",
       "      <td>Kentucky</td>\n",
       "      <td>74.4</td>\n",
       "    </tr>\n",
       "    <tr>\n",
       "      <th>21</th>\n",
       "      <td>44.7</td>\n",
       "      <td>60722</td>\n",
       "      <td>12.2</td>\n",
       "      <td>Jackson</td>\n",
       "      <td>Missouri</td>\n",
       "      <td>68.7</td>\n",
       "    </tr>\n",
       "    <tr>\n",
       "      <th>31</th>\n",
       "      <td>51.5</td>\n",
       "      <td>76660</td>\n",
       "      <td>15.9</td>\n",
       "      <td>Williamson</td>\n",
       "      <td>Texas</td>\n",
       "      <td>78.1</td>\n",
       "    </tr>\n",
       "    <tr>\n",
       "      <th>43</th>\n",
       "      <td>51.7</td>\n",
       "      <td>75104</td>\n",
       "      <td>16.0</td>\n",
       "      <td>Will</td>\n",
       "      <td>Illinois</td>\n",
       "      <td>71.3</td>\n",
       "    </tr>\n",
       "    <tr>\n",
       "      <th>73</th>\n",
       "      <td>42.1</td>\n",
       "      <td>71318</td>\n",
       "      <td>15.1</td>\n",
       "      <td>Duval</td>\n",
       "      <td>Florida</td>\n",
       "      <td>66.8</td>\n",
       "    </tr>\n",
       "  </tbody>\n",
       "</table>\n",
       "</div>"
      ],
      "text/plain": [
       "    Marital_Pop  Income  Age_Pop      County      State  Education_Pop\n",
       "0          44.1   64495     13.2   Jefferson   Kentucky           74.4\n",
       "21         44.7   60722     12.2     Jackson   Missouri           68.7\n",
       "31         51.5   76660     15.9  Williamson      Texas           78.1\n",
       "43         51.7   75104     16.0        Will   Illinois           71.3\n",
       "73         42.1   71318     15.1       Duval    Florida           66.8"
      ]
     },
     "execution_count": 16,
     "metadata": {},
     "output_type": "execute_result"
    }
   ],
   "source": [
    "# Records which has income 60K to 80K\n",
    "top_income_df = census_data.loc[(census_data['Income']>=60000) & (census_data['Income']<=80000)]\n",
    "top_income_df.head()"
   ]
  },
  {
   "cell_type": "code",
   "execution_count": 17,
   "metadata": {},
   "outputs": [],
   "source": [
    "# Group them by State and County\n",
    "df = top_income_df.groupby(['State', 'County']).sum()"
   ]
  },
  {
   "cell_type": "code",
   "execution_count": 18,
   "metadata": {},
   "outputs": [
    {
     "data": {
      "text/html": [
       "<div>\n",
       "<style scoped>\n",
       "    .dataframe tbody tr th:only-of-type {\n",
       "        vertical-align: middle;\n",
       "    }\n",
       "\n",
       "    .dataframe tbody tr th {\n",
       "        vertical-align: top;\n",
       "    }\n",
       "\n",
       "    .dataframe thead th {\n",
       "        text-align: right;\n",
       "    }\n",
       "</style>\n",
       "<table border=\"1\" class=\"dataframe\">\n",
       "  <thead>\n",
       "    <tr style=\"text-align: right;\">\n",
       "      <th></th>\n",
       "      <th></th>\n",
       "      <th>Marital_Pop</th>\n",
       "      <th>Income</th>\n",
       "      <th>Age_Pop</th>\n",
       "      <th>Education_Pop</th>\n",
       "      <th>Rank</th>\n",
       "    </tr>\n",
       "    <tr>\n",
       "      <th>State</th>\n",
       "      <th>County</th>\n",
       "      <th></th>\n",
       "      <th></th>\n",
       "      <th></th>\n",
       "      <th></th>\n",
       "      <th></th>\n",
       "    </tr>\n",
       "  </thead>\n",
       "  <tbody>\n",
       "    <tr>\n",
       "      <th>Alabama</th>\n",
       "      <th>Jefferson</th>\n",
       "      <td>44.3</td>\n",
       "      <td>65833</td>\n",
       "      <td>15.0</td>\n",
       "      <td>75.6</td>\n",
       "      <td>134.9</td>\n",
       "    </tr>\n",
       "    <tr>\n",
       "      <th>Arizona</th>\n",
       "      <th>Maricopa</th>\n",
       "      <td>46.7</td>\n",
       "      <td>77186</td>\n",
       "      <td>14.8</td>\n",
       "      <td>74.3</td>\n",
       "      <td>135.8</td>\n",
       "    </tr>\n",
       "    <tr>\n",
       "      <th rowspan=\"3\" valign=\"top\">California</th>\n",
       "      <th>Fresno</th>\n",
       "      <td>44.2</td>\n",
       "      <td>72806</td>\n",
       "      <td>12.3</td>\n",
       "      <td>66.9</td>\n",
       "      <td>123.4</td>\n",
       "    </tr>\n",
       "    <tr>\n",
       "      <th>Kern</th>\n",
       "      <td>45.2</td>\n",
       "      <td>78001</td>\n",
       "      <td>11.9</td>\n",
       "      <td>61.8</td>\n",
       "      <td>118.9</td>\n",
       "    </tr>\n",
       "    <tr>\n",
       "      <th>Riverside</th>\n",
       "      <td>47.3</td>\n",
       "      <td>77961</td>\n",
       "      <td>11.7</td>\n",
       "      <td>70.7</td>\n",
       "      <td>129.7</td>\n",
       "    </tr>\n",
       "  </tbody>\n",
       "</table>\n",
       "</div>"
      ],
      "text/plain": [
       "                       Marital_Pop  Income  Age_Pop  Education_Pop   Rank\n",
       "State       County                                                       \n",
       " Alabama    Jefferson         44.3   65833     15.0           75.6  134.9\n",
       " Arizona    Maricopa          46.7   77186     14.8           74.3  135.8\n",
       " California Fresno            44.2   72806     12.3           66.9  123.4\n",
       "            Kern              45.2   78001     11.9           61.8  118.9\n",
       "            Riverside         47.3   77961     11.7           70.7  129.7"
      ]
     },
     "execution_count": 18,
     "metadata": {},
     "output_type": "execute_result"
    }
   ],
   "source": [
    "# Rank column which has total of Marital_Pop, Age_Pop and Education_Pop\n",
    "df['Rank'] = df[['Marital_Pop', 'Age_Pop', 'Education_Pop']].sum(axis=1)\n",
    "df.head()"
   ]
  },
  {
   "cell_type": "code",
   "execution_count": 31,
   "metadata": {},
   "outputs": [
    {
     "data": {
      "text/html": [
       "<div>\n",
       "<style scoped>\n",
       "    .dataframe tbody tr th:only-of-type {\n",
       "        vertical-align: middle;\n",
       "    }\n",
       "\n",
       "    .dataframe tbody tr th {\n",
       "        vertical-align: top;\n",
       "    }\n",
       "\n",
       "    .dataframe thead th {\n",
       "        text-align: right;\n",
       "    }\n",
       "</style>\n",
       "<table border=\"1\" class=\"dataframe\">\n",
       "  <thead>\n",
       "    <tr style=\"text-align: right;\">\n",
       "      <th></th>\n",
       "      <th>level_0</th>\n",
       "      <th>index</th>\n",
       "      <th>State</th>\n",
       "      <th>County</th>\n",
       "      <th>Marital_Pop</th>\n",
       "      <th>Income</th>\n",
       "      <th>Age_Pop</th>\n",
       "      <th>Education_Pop</th>\n",
       "      <th>Rank</th>\n",
       "      <th>Lat</th>\n",
       "      <th>Lon</th>\n",
       "    </tr>\n",
       "  </thead>\n",
       "  <tbody>\n",
       "    <tr>\n",
       "      <th>0</th>\n",
       "      <td>0</td>\n",
       "      <td>0</td>\n",
       "      <td>Georgia</td>\n",
       "      <td>Gwinnett</td>\n",
       "      <td>52.8</td>\n",
       "      <td>79612</td>\n",
       "      <td>17.5</td>\n",
       "      <td>78.7</td>\n",
       "      <td>149.0</td>\n",
       "      <td>33.956687</td>\n",
       "      <td>-84.022747</td>\n",
       "    </tr>\n",
       "    <tr>\n",
       "      <th>1</th>\n",
       "      <td>1</td>\n",
       "      <td>1</td>\n",
       "      <td>Wisconsin</td>\n",
       "      <td>Dane</td>\n",
       "      <td>46.4</td>\n",
       "      <td>77379</td>\n",
       "      <td>13.1</td>\n",
       "      <td>86.7</td>\n",
       "      <td>146.2</td>\n",
       "      <td>43.250547</td>\n",
       "      <td>-89.501509</td>\n",
       "    </tr>\n",
       "    <tr>\n",
       "      <th>2</th>\n",
       "      <td>2</td>\n",
       "      <td>2</td>\n",
       "      <td>Texas</td>\n",
       "      <td>Williamson</td>\n",
       "      <td>51.5</td>\n",
       "      <td>76660</td>\n",
       "      <td>15.9</td>\n",
       "      <td>78.1</td>\n",
       "      <td>145.5</td>\n",
       "      <td>30.658093</td>\n",
       "      <td>-97.604165</td>\n",
       "    </tr>\n",
       "    <tr>\n",
       "      <th>3</th>\n",
       "      <td>3</td>\n",
       "      <td>3</td>\n",
       "      <td>Colorado</td>\n",
       "      <td>El</td>\n",
       "      <td>52.8</td>\n",
       "      <td>76095</td>\n",
       "      <td>12.9</td>\n",
       "      <td>78.2</td>\n",
       "      <td>143.9</td>\n",
       "      <td>38.725178</td>\n",
       "      <td>-105.607716</td>\n",
       "    </tr>\n",
       "    <tr>\n",
       "      <th>4</th>\n",
       "      <td>4</td>\n",
       "      <td>4</td>\n",
       "      <td>South Carolina</td>\n",
       "      <td>Greenville</td>\n",
       "      <td>49.8</td>\n",
       "      <td>66334</td>\n",
       "      <td>15.0</td>\n",
       "      <td>79.1</td>\n",
       "      <td>143.9</td>\n",
       "      <td>34.851354</td>\n",
       "      <td>-82.398488</td>\n",
       "    </tr>\n",
       "  </tbody>\n",
       "</table>\n",
       "</div>"
      ],
      "text/plain": [
       "   level_0  index            State      County  Marital_Pop  Income  Age_Pop  \\\n",
       "0        0      0          Georgia    Gwinnett         52.8   79612     17.5   \n",
       "1        1      1        Wisconsin        Dane         46.4   77379     13.1   \n",
       "2        2      2            Texas  Williamson         51.5   76660     15.9   \n",
       "3        3      3         Colorado          El         52.8   76095     12.9   \n",
       "4        4      4   South Carolina  Greenville         49.8   66334     15.0   \n",
       "\n",
       "   Education_Pop   Rank        Lat         Lon  \n",
       "0           78.7  149.0  33.956687  -84.022747  \n",
       "1           86.7  146.2  43.250547  -89.501509  \n",
       "2           78.1  145.5  30.658093  -97.604165  \n",
       "3           78.2  143.9  38.725178 -105.607716  \n",
       "4           79.1  143.9  34.851354  -82.398488  "
      ]
     },
     "execution_count": 31,
     "metadata": {},
     "output_type": "execute_result"
    }
   ],
   "source": [
    "# Top States and its countys which has highest Marital Population, Age (40-60) Population and Most Educated\n",
    "df = df.sort_values('Rank', ascending=False).reset_index()\n",
    "df.head()"
   ]
  },
  {
   "cell_type": "code",
   "execution_count": 20,
   "metadata": {},
   "outputs": [
    {
     "data": {
      "text/html": [
       "<div>\n",
       "<style scoped>\n",
       "    .dataframe tbody tr th:only-of-type {\n",
       "        vertical-align: middle;\n",
       "    }\n",
       "\n",
       "    .dataframe tbody tr th {\n",
       "        vertical-align: top;\n",
       "    }\n",
       "\n",
       "    .dataframe thead th {\n",
       "        text-align: right;\n",
       "    }\n",
       "</style>\n",
       "<table border=\"1\" class=\"dataframe\">\n",
       "  <thead>\n",
       "    <tr style=\"text-align: right;\">\n",
       "      <th></th>\n",
       "      <th>State</th>\n",
       "      <th>County</th>\n",
       "      <th>Marital_Pop</th>\n",
       "      <th>Income</th>\n",
       "      <th>Age_Pop</th>\n",
       "      <th>Education_Pop</th>\n",
       "      <th>Rank</th>\n",
       "      <th>Lat</th>\n",
       "      <th>Lon</th>\n",
       "    </tr>\n",
       "  </thead>\n",
       "  <tbody>\n",
       "    <tr>\n",
       "      <th>0</th>\n",
       "      <td>Georgia</td>\n",
       "      <td>Gwinnett</td>\n",
       "      <td>52.8</td>\n",
       "      <td>79612</td>\n",
       "      <td>17.5</td>\n",
       "      <td>78.7</td>\n",
       "      <td>149.0</td>\n",
       "      <td>33.956687</td>\n",
       "      <td>-84.022747</td>\n",
       "    </tr>\n",
       "    <tr>\n",
       "      <th>1</th>\n",
       "      <td>Wisconsin</td>\n",
       "      <td>Dane</td>\n",
       "      <td>46.4</td>\n",
       "      <td>77379</td>\n",
       "      <td>13.1</td>\n",
       "      <td>86.7</td>\n",
       "      <td>146.2</td>\n",
       "      <td>43.250547</td>\n",
       "      <td>-89.501509</td>\n",
       "    </tr>\n",
       "    <tr>\n",
       "      <th>2</th>\n",
       "      <td>Texas</td>\n",
       "      <td>Williamson</td>\n",
       "      <td>51.5</td>\n",
       "      <td>76660</td>\n",
       "      <td>15.9</td>\n",
       "      <td>78.1</td>\n",
       "      <td>145.5</td>\n",
       "      <td>30.658093</td>\n",
       "      <td>-97.604165</td>\n",
       "    </tr>\n",
       "    <tr>\n",
       "      <th>3</th>\n",
       "      <td>Colorado</td>\n",
       "      <td>El</td>\n",
       "      <td>52.8</td>\n",
       "      <td>76095</td>\n",
       "      <td>12.9</td>\n",
       "      <td>78.2</td>\n",
       "      <td>143.9</td>\n",
       "      <td>38.725178</td>\n",
       "      <td>-105.607716</td>\n",
       "    </tr>\n",
       "    <tr>\n",
       "      <th>4</th>\n",
       "      <td>South Carolina</td>\n",
       "      <td>Greenville</td>\n",
       "      <td>49.8</td>\n",
       "      <td>66334</td>\n",
       "      <td>15.0</td>\n",
       "      <td>79.1</td>\n",
       "      <td>143.9</td>\n",
       "      <td>34.851354</td>\n",
       "      <td>-82.398488</td>\n",
       "    </tr>\n",
       "    <tr>\n",
       "      <th>5</th>\n",
       "      <td>Oregon</td>\n",
       "      <td>Multnomah</td>\n",
       "      <td>41.3</td>\n",
       "      <td>72965</td>\n",
       "      <td>14.9</td>\n",
       "      <td>84.5</td>\n",
       "      <td>140.7</td>\n",
       "      <td>45.466151</td>\n",
       "      <td>-122.712787</td>\n",
       "    </tr>\n",
       "    <tr>\n",
       "      <th>6</th>\n",
       "      <td>Illinois</td>\n",
       "      <td>Will</td>\n",
       "      <td>51.7</td>\n",
       "      <td>75104</td>\n",
       "      <td>16.0</td>\n",
       "      <td>71.3</td>\n",
       "      <td>139.0</td>\n",
       "      <td>41.419406</td>\n",
       "      <td>-87.999475</td>\n",
       "    </tr>\n",
       "    <tr>\n",
       "      <th>7</th>\n",
       "      <td>Washington</td>\n",
       "      <td>Spokane</td>\n",
       "      <td>48.9</td>\n",
       "      <td>74279</td>\n",
       "      <td>14.1</td>\n",
       "      <td>74.1</td>\n",
       "      <td>137.1</td>\n",
       "      <td>47.657193</td>\n",
       "      <td>-117.423511</td>\n",
       "    </tr>\n",
       "    <tr>\n",
       "      <th>8</th>\n",
       "      <td>Minnesota</td>\n",
       "      <td>Ramsey</td>\n",
       "      <td>42.8</td>\n",
       "      <td>72572</td>\n",
       "      <td>13.9</td>\n",
       "      <td>80.4</td>\n",
       "      <td>137.1</td>\n",
       "      <td>45.016573</td>\n",
       "      <td>-93.094950</td>\n",
       "    </tr>\n",
       "    <tr>\n",
       "      <th>9</th>\n",
       "      <td>Nebraska</td>\n",
       "      <td>Douglas</td>\n",
       "      <td>48.1</td>\n",
       "      <td>78910</td>\n",
       "      <td>14.0</td>\n",
       "      <td>74.8</td>\n",
       "      <td>136.9</td>\n",
       "      <td>41.295411</td>\n",
       "      <td>-96.141567</td>\n",
       "    </tr>\n",
       "    <tr>\n",
       "      <th>10</th>\n",
       "      <td>Georgia</td>\n",
       "      <td>DeKalb</td>\n",
       "      <td>38.2</td>\n",
       "      <td>72684</td>\n",
       "      <td>17.7</td>\n",
       "      <td>80.3</td>\n",
       "      <td>136.2</td>\n",
       "      <td>33.757561</td>\n",
       "      <td>-84.218651</td>\n",
       "    </tr>\n",
       "    <tr>\n",
       "      <th>11</th>\n",
       "      <td>Tennessee</td>\n",
       "      <td>Davidson</td>\n",
       "      <td>41.2</td>\n",
       "      <td>74472</td>\n",
       "      <td>12.4</td>\n",
       "      <td>82.2</td>\n",
       "      <td>135.8</td>\n",
       "      <td>36.568123</td>\n",
       "      <td>-85.022449</td>\n",
       "    </tr>\n",
       "    <tr>\n",
       "      <th>12</th>\n",
       "      <td>Arizona</td>\n",
       "      <td>Maricopa</td>\n",
       "      <td>46.7</td>\n",
       "      <td>77186</td>\n",
       "      <td>14.8</td>\n",
       "      <td>74.3</td>\n",
       "      <td>135.8</td>\n",
       "      <td>33.348830</td>\n",
       "      <td>-112.491230</td>\n",
       "    </tr>\n",
       "    <tr>\n",
       "      <th>13</th>\n",
       "      <td>Michigan</td>\n",
       "      <td>Kent</td>\n",
       "      <td>48.8</td>\n",
       "      <td>76878</td>\n",
       "      <td>11.8</td>\n",
       "      <td>74.5</td>\n",
       "      <td>135.1</td>\n",
       "      <td>43.002401</td>\n",
       "      <td>-85.550272</td>\n",
       "    </tr>\n",
       "    <tr>\n",
       "      <th>14</th>\n",
       "      <td>Alabama</td>\n",
       "      <td>Jefferson</td>\n",
       "      <td>44.3</td>\n",
       "      <td>65833</td>\n",
       "      <td>15.0</td>\n",
       "      <td>75.6</td>\n",
       "      <td>134.9</td>\n",
       "      <td>33.522818</td>\n",
       "      <td>-86.916451</td>\n",
       "    </tr>\n",
       "    <tr>\n",
       "      <th>15</th>\n",
       "      <td>North Carolina</td>\n",
       "      <td>Guilford</td>\n",
       "      <td>42.5</td>\n",
       "      <td>67393</td>\n",
       "      <td>16.7</td>\n",
       "      <td>74.0</td>\n",
       "      <td>133.2</td>\n",
       "      <td>36.076803</td>\n",
       "      <td>-79.898091</td>\n",
       "    </tr>\n",
       "    <tr>\n",
       "      <th>16</th>\n",
       "      <td>California</td>\n",
       "      <td>Sacramento</td>\n",
       "      <td>45.5</td>\n",
       "      <td>75557</td>\n",
       "      <td>13.6</td>\n",
       "      <td>73.8</td>\n",
       "      <td>132.9</td>\n",
       "      <td>38.581061</td>\n",
       "      <td>-121.493895</td>\n",
       "    </tr>\n",
       "    <tr>\n",
       "      <th>17</th>\n",
       "      <td>Colorado</td>\n",
       "      <td>Adams</td>\n",
       "      <td>49.7</td>\n",
       "      <td>63958</td>\n",
       "      <td>14.6</td>\n",
       "      <td>68.6</td>\n",
       "      <td>132.9</td>\n",
       "      <td>39.871409</td>\n",
       "      <td>-104.270137</td>\n",
       "    </tr>\n",
       "    <tr>\n",
       "      <th>18</th>\n",
       "      <td>Pennsylvania</td>\n",
       "      <td>Lancaster</td>\n",
       "      <td>53.5</td>\n",
       "      <td>67306</td>\n",
       "      <td>14.2</td>\n",
       "      <td>65.1</td>\n",
       "      <td>132.8</td>\n",
       "      <td>40.038130</td>\n",
       "      <td>-76.305669</td>\n",
       "    </tr>\n",
       "    <tr>\n",
       "      <th>19</th>\n",
       "      <td>Oklahoma</td>\n",
       "      <td>Tulsa</td>\n",
       "      <td>47.5</td>\n",
       "      <td>76753</td>\n",
       "      <td>14.7</td>\n",
       "      <td>70.5</td>\n",
       "      <td>132.7</td>\n",
       "      <td>36.155681</td>\n",
       "      <td>-95.992911</td>\n",
       "    </tr>\n",
       "    <tr>\n",
       "      <th>20</th>\n",
       "      <td>New Mexico</td>\n",
       "      <td>Bernalillo</td>\n",
       "      <td>41.1</td>\n",
       "      <td>72036</td>\n",
       "      <td>12.7</td>\n",
       "      <td>78.3</td>\n",
       "      <td>132.1</td>\n",
       "      <td>35.034924</td>\n",
       "      <td>-106.687069</td>\n",
       "    </tr>\n",
       "    <tr>\n",
       "      <th>21</th>\n",
       "      <td>Washington</td>\n",
       "      <td>Pierce</td>\n",
       "      <td>48.7</td>\n",
       "      <td>77506</td>\n",
       "      <td>13.7</td>\n",
       "      <td>69.5</td>\n",
       "      <td>131.9</td>\n",
       "      <td>46.634353</td>\n",
       "      <td>-119.452175</td>\n",
       "    </tr>\n",
       "    <tr>\n",
       "      <th>22</th>\n",
       "      <td>Kentucky</td>\n",
       "      <td>Jefferson</td>\n",
       "      <td>44.1</td>\n",
       "      <td>64495</td>\n",
       "      <td>13.2</td>\n",
       "      <td>74.4</td>\n",
       "      <td>131.7</td>\n",
       "      <td>34.192170</td>\n",
       "      <td>-91.992852</td>\n",
       "    </tr>\n",
       "    <tr>\n",
       "      <th>23</th>\n",
       "      <td>Ohio</td>\n",
       "      <td>Franklin</td>\n",
       "      <td>42.9</td>\n",
       "      <td>67680</td>\n",
       "      <td>13.4</td>\n",
       "      <td>74.8</td>\n",
       "      <td>131.1</td>\n",
       "      <td>39.558947</td>\n",
       "      <td>-84.304107</td>\n",
       "    </tr>\n",
       "    <tr>\n",
       "      <th>24</th>\n",
       "      <td>Florida</td>\n",
       "      <td>Miami-Dade</td>\n",
       "      <td>43.3</td>\n",
       "      <td>77665</td>\n",
       "      <td>16.0</td>\n",
       "      <td>71.8</td>\n",
       "      <td>131.1</td>\n",
       "      <td>25.636425</td>\n",
       "      <td>-80.498947</td>\n",
       "    </tr>\n",
       "    <tr>\n",
       "      <th>25</th>\n",
       "      <td>Texas</td>\n",
       "      <td>Bexar</td>\n",
       "      <td>41.1</td>\n",
       "      <td>67728</td>\n",
       "      <td>14.1</td>\n",
       "      <td>75.3</td>\n",
       "      <td>130.5</td>\n",
       "      <td>29.426399</td>\n",
       "      <td>-98.510478</td>\n",
       "    </tr>\n",
       "    <tr>\n",
       "      <th>26</th>\n",
       "      <td>California</td>\n",
       "      <td>Riverside</td>\n",
       "      <td>47.3</td>\n",
       "      <td>77961</td>\n",
       "      <td>11.7</td>\n",
       "      <td>70.7</td>\n",
       "      <td>129.7</td>\n",
       "      <td>33.953355</td>\n",
       "      <td>-117.396162</td>\n",
       "    </tr>\n",
       "    <tr>\n",
       "      <th>27</th>\n",
       "      <td>New York</td>\n",
       "      <td>Monroe</td>\n",
       "      <td>43.8</td>\n",
       "      <td>67322</td>\n",
       "      <td>12.9</td>\n",
       "      <td>72.1</td>\n",
       "      <td>128.8</td>\n",
       "      <td>41.330477</td>\n",
       "      <td>-74.186635</td>\n",
       "    </tr>\n",
       "    <tr>\n",
       "      <th>28</th>\n",
       "      <td>Massachusetts</td>\n",
       "      <td>Bristol</td>\n",
       "      <td>46.1</td>\n",
       "      <td>73042</td>\n",
       "      <td>14.4</td>\n",
       "      <td>68.1</td>\n",
       "      <td>128.6</td>\n",
       "      <td>41.742554</td>\n",
       "      <td>-71.085655</td>\n",
       "    </tr>\n",
       "    <tr>\n",
       "      <th>29</th>\n",
       "      <td>Florida</td>\n",
       "      <td>Hillsborough</td>\n",
       "      <td>43.5</td>\n",
       "      <td>71794</td>\n",
       "      <td>15.9</td>\n",
       "      <td>69.1</td>\n",
       "      <td>128.5</td>\n",
       "      <td>27.918454</td>\n",
       "      <td>-82.348806</td>\n",
       "    </tr>\n",
       "    <tr>\n",
       "      <th>30</th>\n",
       "      <td>Florida</td>\n",
       "      <td>Broward</td>\n",
       "      <td>42.5</td>\n",
       "      <td>79108</td>\n",
       "      <td>16.2</td>\n",
       "      <td>68.7</td>\n",
       "      <td>127.4</td>\n",
       "      <td>26.159807</td>\n",
       "      <td>-80.462364</td>\n",
       "    </tr>\n",
       "    <tr>\n",
       "      <th>31</th>\n",
       "      <td>Florida</td>\n",
       "      <td>Lee</td>\n",
       "      <td>50.9</td>\n",
       "      <td>70164</td>\n",
       "      <td>12.0</td>\n",
       "      <td>64.1</td>\n",
       "      <td>127.0</td>\n",
       "      <td>26.599926</td>\n",
       "      <td>-81.882313</td>\n",
       "    </tr>\n",
       "    <tr>\n",
       "      <th>32</th>\n",
       "      <td>Ohio</td>\n",
       "      <td>Summit</td>\n",
       "      <td>46.4</td>\n",
       "      <td>70186</td>\n",
       "      <td>12.6</td>\n",
       "      <td>67.2</td>\n",
       "      <td>126.2</td>\n",
       "      <td>39.126610</td>\n",
       "      <td>-84.621930</td>\n",
       "    </tr>\n",
       "    <tr>\n",
       "      <th>33</th>\n",
       "      <td>Michigan</td>\n",
       "      <td>Macomb</td>\n",
       "      <td>48.2</td>\n",
       "      <td>65169</td>\n",
       "      <td>13.5</td>\n",
       "      <td>64.2</td>\n",
       "      <td>125.9</td>\n",
       "      <td>42.674119</td>\n",
       "      <td>-82.902901</td>\n",
       "    </tr>\n",
       "    <tr>\n",
       "      <th>34</th>\n",
       "      <td>Ohio</td>\n",
       "      <td>Hamilton</td>\n",
       "      <td>42.9</td>\n",
       "      <td>76413</td>\n",
       "      <td>12.0</td>\n",
       "      <td>70.9</td>\n",
       "      <td>125.8</td>\n",
       "      <td>39.399507</td>\n",
       "      <td>-84.561343</td>\n",
       "    </tr>\n",
       "    <tr>\n",
       "      <th>35</th>\n",
       "      <td>Missouri</td>\n",
       "      <td>Jackson</td>\n",
       "      <td>44.7</td>\n",
       "      <td>60722</td>\n",
       "      <td>12.2</td>\n",
       "      <td>68.7</td>\n",
       "      <td>125.6</td>\n",
       "      <td>39.035409</td>\n",
       "      <td>-94.358275</td>\n",
       "    </tr>\n",
       "    <tr>\n",
       "      <th>36</th>\n",
       "      <td>New York</td>\n",
       "      <td>Erie</td>\n",
       "      <td>44.2</td>\n",
       "      <td>73205</td>\n",
       "      <td>11.3</td>\n",
       "      <td>68.6</td>\n",
       "      <td>124.1</td>\n",
       "      <td>42.716426</td>\n",
       "      <td>-78.762033</td>\n",
       "    </tr>\n",
       "    <tr>\n",
       "      <th>37</th>\n",
       "      <td>Florida</td>\n",
       "      <td>Duval</td>\n",
       "      <td>42.1</td>\n",
       "      <td>71318</td>\n",
       "      <td>15.1</td>\n",
       "      <td>66.8</td>\n",
       "      <td>124.0</td>\n",
       "      <td>30.354007</td>\n",
       "      <td>-81.663211</td>\n",
       "    </tr>\n",
       "    <tr>\n",
       "      <th>38</th>\n",
       "      <td>New Jersey</td>\n",
       "      <td>Ocean</td>\n",
       "      <td>51.8</td>\n",
       "      <td>75920</td>\n",
       "      <td>11.7</td>\n",
       "      <td>60.1</td>\n",
       "      <td>123.6</td>\n",
       "      <td>39.977818</td>\n",
       "      <td>-74.331929</td>\n",
       "    </tr>\n",
       "    <tr>\n",
       "      <th>39</th>\n",
       "      <td>California</td>\n",
       "      <td>Fresno</td>\n",
       "      <td>44.2</td>\n",
       "      <td>72806</td>\n",
       "      <td>12.3</td>\n",
       "      <td>66.9</td>\n",
       "      <td>123.4</td>\n",
       "      <td>36.739442</td>\n",
       "      <td>-119.784831</td>\n",
       "    </tr>\n",
       "    <tr>\n",
       "      <th>40</th>\n",
       "      <td>California</td>\n",
       "      <td>San</td>\n",
       "      <td>45.6</td>\n",
       "      <td>76196</td>\n",
       "      <td>11.8</td>\n",
       "      <td>65.7</td>\n",
       "      <td>123.1</td>\n",
       "      <td>32.733361</td>\n",
       "      <td>-117.192246</td>\n",
       "    </tr>\n",
       "    <tr>\n",
       "      <th>41</th>\n",
       "      <td>Nevada</td>\n",
       "      <td>Clark</td>\n",
       "      <td>44.0</td>\n",
       "      <td>69360</td>\n",
       "      <td>14.0</td>\n",
       "      <td>64.7</td>\n",
       "      <td>122.7</td>\n",
       "      <td>36.346773</td>\n",
       "      <td>-115.090738</td>\n",
       "    </tr>\n",
       "    <tr>\n",
       "      <th>42</th>\n",
       "      <td>Florida</td>\n",
       "      <td>Pinellas</td>\n",
       "      <td>43.0</td>\n",
       "      <td>66946</td>\n",
       "      <td>14.6</td>\n",
       "      <td>65.1</td>\n",
       "      <td>122.7</td>\n",
       "      <td>27.877890</td>\n",
       "      <td>-82.732931</td>\n",
       "    </tr>\n",
       "    <tr>\n",
       "      <th>43</th>\n",
       "      <td>Rhode Island</td>\n",
       "      <td>Providence</td>\n",
       "      <td>38.7</td>\n",
       "      <td>75082</td>\n",
       "      <td>11.8</td>\n",
       "      <td>71.1</td>\n",
       "      <td>121.6</td>\n",
       "      <td>41.823989</td>\n",
       "      <td>-71.412834</td>\n",
       "    </tr>\n",
       "    <tr>\n",
       "      <th>44</th>\n",
       "      <td>Tennessee</td>\n",
       "      <td>Shelby</td>\n",
       "      <td>39.0</td>\n",
       "      <td>74555</td>\n",
       "      <td>14.6</td>\n",
       "      <td>67.3</td>\n",
       "      <td>120.9</td>\n",
       "      <td>31.956557</td>\n",
       "      <td>-94.318255</td>\n",
       "    </tr>\n",
       "    <tr>\n",
       "      <th>45</th>\n",
       "      <td>Florida</td>\n",
       "      <td>Volusia</td>\n",
       "      <td>46.4</td>\n",
       "      <td>60148</td>\n",
       "      <td>13.7</td>\n",
       "      <td>59.5</td>\n",
       "      <td>119.6</td>\n",
       "      <td>29.053341</td>\n",
       "      <td>-81.131076</td>\n",
       "    </tr>\n",
       "    <tr>\n",
       "      <th>46</th>\n",
       "      <td>California</td>\n",
       "      <td>Stanislaus</td>\n",
       "      <td>46.3</td>\n",
       "      <td>66035</td>\n",
       "      <td>11.9</td>\n",
       "      <td>61.4</td>\n",
       "      <td>119.6</td>\n",
       "      <td>37.550087</td>\n",
       "      <td>-121.050143</td>\n",
       "    </tr>\n",
       "    <tr>\n",
       "      <th>47</th>\n",
       "      <td>California</td>\n",
       "      <td>Kern</td>\n",
       "      <td>45.2</td>\n",
       "      <td>78001</td>\n",
       "      <td>11.9</td>\n",
       "      <td>61.8</td>\n",
       "      <td>118.9</td>\n",
       "      <td>35.314570</td>\n",
       "      <td>-118.753822</td>\n",
       "    </tr>\n",
       "    <tr>\n",
       "      <th>48</th>\n",
       "      <td>Ohio</td>\n",
       "      <td>Cuyahoga</td>\n",
       "      <td>39.7</td>\n",
       "      <td>66204</td>\n",
       "      <td>11.2</td>\n",
       "      <td>67.5</td>\n",
       "      <td>118.4</td>\n",
       "      <td>41.487410</td>\n",
       "      <td>-81.684896</td>\n",
       "    </tr>\n",
       "    <tr>\n",
       "      <th>49</th>\n",
       "      <td>Indiana</td>\n",
       "      <td>Marion</td>\n",
       "      <td>38.2</td>\n",
       "      <td>69082</td>\n",
       "      <td>12.3</td>\n",
       "      <td>63.7</td>\n",
       "      <td>114.2</td>\n",
       "      <td>40.558374</td>\n",
       "      <td>-85.659144</td>\n",
       "    </tr>\n",
       "    <tr>\n",
       "      <th>50</th>\n",
       "      <td>Maryland</td>\n",
       "      <td>Baltimore</td>\n",
       "      <td>26.8</td>\n",
       "      <td>65437</td>\n",
       "      <td>13.3</td>\n",
       "      <td>72.9</td>\n",
       "      <td>113.0</td>\n",
       "      <td>39.290882</td>\n",
       "      <td>-76.610759</td>\n",
       "    </tr>\n",
       "    <tr>\n",
       "      <th>51</th>\n",
       "      <td>Pennsylvania</td>\n",
       "      <td>Philadelphia</td>\n",
       "      <td>30.9</td>\n",
       "      <td>61265</td>\n",
       "      <td>9.4</td>\n",
       "      <td>70.0</td>\n",
       "      <td>110.3</td>\n",
       "      <td>39.952724</td>\n",
       "      <td>-75.163526</td>\n",
       "    </tr>\n",
       "    <tr>\n",
       "      <th>52</th>\n",
       "      <td>Michigan</td>\n",
       "      <td>Wayne</td>\n",
       "      <td>37.6</td>\n",
       "      <td>64280</td>\n",
       "      <td>12.5</td>\n",
       "      <td>56.9</td>\n",
       "      <td>107.0</td>\n",
       "      <td>42.268241</td>\n",
       "      <td>-83.284417</td>\n",
       "    </tr>\n",
       "    <tr>\n",
       "      <th>53</th>\n",
       "      <td>New York</td>\n",
       "      <td>Bronx</td>\n",
       "      <td>30.9</td>\n",
       "      <td>69185</td>\n",
       "      <td>8.0</td>\n",
       "      <td>58.0</td>\n",
       "      <td>96.9</td>\n",
       "      <td>40.846651</td>\n",
       "      <td>-73.878594</td>\n",
       "    </tr>\n",
       "  </tbody>\n",
       "</table>\n",
       "</div>"
      ],
      "text/plain": [
       "              State        County  Marital_Pop  Income  Age_Pop  \\\n",
       "0           Georgia      Gwinnett         52.8   79612     17.5   \n",
       "1         Wisconsin          Dane         46.4   77379     13.1   \n",
       "2             Texas    Williamson         51.5   76660     15.9   \n",
       "3          Colorado            El         52.8   76095     12.9   \n",
       "4    South Carolina    Greenville         49.8   66334     15.0   \n",
       "5            Oregon     Multnomah         41.3   72965     14.9   \n",
       "6          Illinois          Will         51.7   75104     16.0   \n",
       "7        Washington       Spokane         48.9   74279     14.1   \n",
       "8         Minnesota        Ramsey         42.8   72572     13.9   \n",
       "9          Nebraska       Douglas         48.1   78910     14.0   \n",
       "10          Georgia        DeKalb         38.2   72684     17.7   \n",
       "11        Tennessee      Davidson         41.2   74472     12.4   \n",
       "12          Arizona      Maricopa         46.7   77186     14.8   \n",
       "13         Michigan          Kent         48.8   76878     11.8   \n",
       "14          Alabama     Jefferson         44.3   65833     15.0   \n",
       "15   North Carolina      Guilford         42.5   67393     16.7   \n",
       "16       California    Sacramento         45.5   75557     13.6   \n",
       "17         Colorado         Adams         49.7   63958     14.6   \n",
       "18     Pennsylvania     Lancaster         53.5   67306     14.2   \n",
       "19         Oklahoma         Tulsa         47.5   76753     14.7   \n",
       "20       New Mexico    Bernalillo         41.1   72036     12.7   \n",
       "21       Washington        Pierce         48.7   77506     13.7   \n",
       "22         Kentucky     Jefferson         44.1   64495     13.2   \n",
       "23             Ohio      Franklin         42.9   67680     13.4   \n",
       "24          Florida    Miami-Dade         43.3   77665     16.0   \n",
       "25            Texas         Bexar         41.1   67728     14.1   \n",
       "26       California     Riverside         47.3   77961     11.7   \n",
       "27         New York        Monroe         43.8   67322     12.9   \n",
       "28    Massachusetts       Bristol         46.1   73042     14.4   \n",
       "29          Florida  Hillsborough         43.5   71794     15.9   \n",
       "30          Florida       Broward         42.5   79108     16.2   \n",
       "31          Florida           Lee         50.9   70164     12.0   \n",
       "32             Ohio        Summit         46.4   70186     12.6   \n",
       "33         Michigan        Macomb         48.2   65169     13.5   \n",
       "34             Ohio      Hamilton         42.9   76413     12.0   \n",
       "35         Missouri       Jackson         44.7   60722     12.2   \n",
       "36         New York          Erie         44.2   73205     11.3   \n",
       "37          Florida         Duval         42.1   71318     15.1   \n",
       "38       New Jersey         Ocean         51.8   75920     11.7   \n",
       "39       California        Fresno         44.2   72806     12.3   \n",
       "40       California           San         45.6   76196     11.8   \n",
       "41           Nevada         Clark         44.0   69360     14.0   \n",
       "42          Florida      Pinellas         43.0   66946     14.6   \n",
       "43     Rhode Island    Providence         38.7   75082     11.8   \n",
       "44        Tennessee        Shelby         39.0   74555     14.6   \n",
       "45          Florida       Volusia         46.4   60148     13.7   \n",
       "46       California    Stanislaus         46.3   66035     11.9   \n",
       "47       California          Kern         45.2   78001     11.9   \n",
       "48             Ohio      Cuyahoga         39.7   66204     11.2   \n",
       "49          Indiana        Marion         38.2   69082     12.3   \n",
       "50         Maryland     Baltimore         26.8   65437     13.3   \n",
       "51     Pennsylvania  Philadelphia         30.9   61265      9.4   \n",
       "52         Michigan         Wayne         37.6   64280     12.5   \n",
       "53         New York         Bronx         30.9   69185      8.0   \n",
       "\n",
       "    Education_Pop   Rank        Lat         Lon  \n",
       "0            78.7  149.0  33.956687  -84.022747  \n",
       "1            86.7  146.2  43.250547  -89.501509  \n",
       "2            78.1  145.5  30.658093  -97.604165  \n",
       "3            78.2  143.9  38.725178 -105.607716  \n",
       "4            79.1  143.9  34.851354  -82.398488  \n",
       "5            84.5  140.7  45.466151 -122.712787  \n",
       "6            71.3  139.0  41.419406  -87.999475  \n",
       "7            74.1  137.1  47.657193 -117.423511  \n",
       "8            80.4  137.1  45.016573  -93.094950  \n",
       "9            74.8  136.9  41.295411  -96.141567  \n",
       "10           80.3  136.2  33.757561  -84.218651  \n",
       "11           82.2  135.8  36.568123  -85.022449  \n",
       "12           74.3  135.8  33.348830 -112.491230  \n",
       "13           74.5  135.1  43.002401  -85.550272  \n",
       "14           75.6  134.9  33.522818  -86.916451  \n",
       "15           74.0  133.2  36.076803  -79.898091  \n",
       "16           73.8  132.9  38.581061 -121.493895  \n",
       "17           68.6  132.9  39.871409 -104.270137  \n",
       "18           65.1  132.8  40.038130  -76.305669  \n",
       "19           70.5  132.7  36.155681  -95.992911  \n",
       "20           78.3  132.1  35.034924 -106.687069  \n",
       "21           69.5  131.9  46.634353 -119.452175  \n",
       "22           74.4  131.7  34.192170  -91.992852  \n",
       "23           74.8  131.1  39.558947  -84.304107  \n",
       "24           71.8  131.1  25.636425  -80.498947  \n",
       "25           75.3  130.5  29.426399  -98.510478  \n",
       "26           70.7  129.7  33.953355 -117.396162  \n",
       "27           72.1  128.8  41.330477  -74.186635  \n",
       "28           68.1  128.6  41.742554  -71.085655  \n",
       "29           69.1  128.5  27.918454  -82.348806  \n",
       "30           68.7  127.4  26.159807  -80.462364  \n",
       "31           64.1  127.0  26.599926  -81.882313  \n",
       "32           67.2  126.2  39.126610  -84.621930  \n",
       "33           64.2  125.9  42.674119  -82.902901  \n",
       "34           70.9  125.8  39.399507  -84.561343  \n",
       "35           68.7  125.6  39.035409  -94.358275  \n",
       "36           68.6  124.1  42.716426  -78.762033  \n",
       "37           66.8  124.0  30.354007  -81.663211  \n",
       "38           60.1  123.6  39.977818  -74.331929  \n",
       "39           66.9  123.4  36.739442 -119.784831  \n",
       "40           65.7  123.1  32.733361 -117.192246  \n",
       "41           64.7  122.7  36.346773 -115.090738  \n",
       "42           65.1  122.7  27.877890  -82.732931  \n",
       "43           71.1  121.6  41.823989  -71.412834  \n",
       "44           67.3  120.9  31.956557  -94.318255  \n",
       "45           59.5  119.6  29.053341  -81.131076  \n",
       "46           61.4  119.6  37.550087 -121.050143  \n",
       "47           61.8  118.9  35.314570 -118.753822  \n",
       "48           67.5  118.4  41.487410  -81.684896  \n",
       "49           63.7  114.2  40.558374  -85.659144  \n",
       "50           72.9  113.0  39.290882  -76.610759  \n",
       "51           70.0  110.3  39.952724  -75.163526  \n",
       "52           56.9  107.0  42.268241  -83.284417  \n",
       "53           58.0   96.9  40.846651  -73.878594  "
      ]
     },
     "execution_count": 20,
     "metadata": {},
     "output_type": "execute_result"
    }
   ],
   "source": [
    "# Get the Latitude and Longitude coordinates\n",
    "df = geo_coordinates(df)"
   ]
  },
  {
   "cell_type": "code",
   "execution_count": 29,
   "metadata": {},
   "outputs": [
    {
     "data": {
      "application/vnd.plotly.v1+json": {
       "config": {
        "plotlyServerURL": "https://plot.ly"
       },
       "data": [
        {
         "hovertemplate": "State= Georgia<br>Rank=%{marker.size}<br>Lat=%{lat}<br>Lon=%{lon}<extra></extra>",
         "lat": [
          33.9566869,
          33.7575613
         ],
         "legendgroup": " Georgia",
         "lon": [
          -84.0227467,
          -84.2186508
         ],
         "marker": {
          "color": "#636efa",
          "size": [
           149,
           136.20000000000002
          ],
          "sizemode": "area",
          "sizeref": 1.49
         },
         "mode": "markers",
         "name": " Georgia",
         "showlegend": true,
         "subplot": "mapbox",
         "type": "scattermapbox"
        },
        {
         "hovertemplate": "State= Wisconsin<br>Rank=%{marker.size}<br>Lat=%{lat}<br>Lon=%{lon}<extra></extra>",
         "lat": [
          43.2505472
         ],
         "legendgroup": " Wisconsin",
         "lon": [
          -89.5015088
         ],
         "marker": {
          "color": "#EF553B",
          "size": [
           146.2
          ],
          "sizemode": "area",
          "sizeref": 1.49
         },
         "mode": "markers",
         "name": " Wisconsin",
         "showlegend": true,
         "subplot": "mapbox",
         "type": "scattermapbox"
        },
        {
         "hovertemplate": "State= Texas<br>Rank=%{marker.size}<br>Lat=%{lat}<br>Lon=%{lon}<extra></extra>",
         "lat": [
          30.6580927,
          29.4263987
         ],
         "legendgroup": " Texas",
         "lon": [
          -97.6041649,
          -98.5104781
         ],
         "marker": {
          "color": "#00cc96",
          "size": [
           145.5,
           130.5
          ],
          "sizemode": "area",
          "sizeref": 1.49
         },
         "mode": "markers",
         "name": " Texas",
         "showlegend": true,
         "subplot": "mapbox",
         "type": "scattermapbox"
        },
        {
         "hovertemplate": "State= Colorado<br>Rank=%{marker.size}<br>Lat=%{lat}<br>Lon=%{lon}<extra></extra>",
         "lat": [
          38.7251776,
          39.8714085
         ],
         "legendgroup": " Colorado",
         "lon": [
          -105.607716,
          -104.2701374
         ],
         "marker": {
          "color": "#ab63fa",
          "size": [
           143.9,
           132.89999999999998
          ],
          "sizemode": "area",
          "sizeref": 1.49
         },
         "mode": "markers",
         "name": " Colorado",
         "showlegend": true,
         "subplot": "mapbox",
         "type": "scattermapbox"
        },
        {
         "hovertemplate": "State= South Carolina<br>Rank=%{marker.size}<br>Lat=%{lat}<br>Lon=%{lon}<extra></extra>",
         "lat": [
          34.851354
         ],
         "legendgroup": " South Carolina",
         "lon": [
          -82.3984882
         ],
         "marker": {
          "color": "#FFA15A",
          "size": [
           143.89999999999998
          ],
          "sizemode": "area",
          "sizeref": 1.49
         },
         "mode": "markers",
         "name": " South Carolina",
         "showlegend": true,
         "subplot": "mapbox",
         "type": "scattermapbox"
        },
        {
         "hovertemplate": "State= Oregon<br>Rank=%{marker.size}<br>Lat=%{lat}<br>Lon=%{lon}<extra></extra>",
         "lat": [
          45.4661508
         ],
         "legendgroup": " Oregon",
         "lon": [
          -122.7127865
         ],
         "marker": {
          "color": "#19d3f3",
          "size": [
           140.7
          ],
          "sizemode": "area",
          "sizeref": 1.49
         },
         "mode": "markers",
         "name": " Oregon",
         "showlegend": true,
         "subplot": "mapbox",
         "type": "scattermapbox"
        },
        {
         "hovertemplate": "State= Illinois<br>Rank=%{marker.size}<br>Lat=%{lat}<br>Lon=%{lon}<extra></extra>",
         "lat": [
          41.4194058
         ],
         "legendgroup": " Illinois",
         "lon": [
          -87.9994754
         ],
         "marker": {
          "color": "#FF6692",
          "size": [
           139
          ],
          "sizemode": "area",
          "sizeref": 1.49
         },
         "mode": "markers",
         "name": " Illinois",
         "showlegend": true,
         "subplot": "mapbox",
         "type": "scattermapbox"
        },
        {
         "hovertemplate": "State= Washington<br>Rank=%{marker.size}<br>Lat=%{lat}<br>Lon=%{lon}<extra></extra>",
         "lat": [
          47.6571934,
          46.6343532
         ],
         "legendgroup": " Washington",
         "lon": [
          -117.4235106,
          -119.4521747
         ],
         "marker": {
          "color": "#B6E880",
          "size": [
           137.1,
           131.9
          ],
          "sizemode": "area",
          "sizeref": 1.49
         },
         "mode": "markers",
         "name": " Washington",
         "showlegend": true,
         "subplot": "mapbox",
         "type": "scattermapbox"
        },
        {
         "hovertemplate": "State= Minnesota<br>Rank=%{marker.size}<br>Lat=%{lat}<br>Lon=%{lon}<extra></extra>",
         "lat": [
          45.0165728
         ],
         "legendgroup": " Minnesota",
         "lon": [
          -93.0949501
         ],
         "marker": {
          "color": "#FF97FF",
          "size": [
           137.1
          ],
          "sizemode": "area",
          "sizeref": 1.49
         },
         "mode": "markers",
         "name": " Minnesota",
         "showlegend": true,
         "subplot": "mapbox",
         "type": "scattermapbox"
        },
        {
         "hovertemplate": "State= Nebraska<br>Rank=%{marker.size}<br>Lat=%{lat}<br>Lon=%{lon}<extra></extra>",
         "lat": [
          41.2954112
         ],
         "legendgroup": " Nebraska",
         "lon": [
          -96.1415672
         ],
         "marker": {
          "color": "#FECB52",
          "size": [
           136.9
          ],
          "sizemode": "area",
          "sizeref": 1.49
         },
         "mode": "markers",
         "name": " Nebraska",
         "showlegend": true,
         "subplot": "mapbox",
         "type": "scattermapbox"
        },
        {
         "hovertemplate": "State= Tennessee<br>Rank=%{marker.size}<br>Lat=%{lat}<br>Lon=%{lon}<extra></extra>",
         "lat": [
          36.5681234,
          31.9565572
         ],
         "legendgroup": " Tennessee",
         "lon": [
          -85.0224493,
          -94.3182551
         ],
         "marker": {
          "color": "#636efa",
          "size": [
           135.8,
           120.9
          ],
          "sizemode": "area",
          "sizeref": 1.49
         },
         "mode": "markers",
         "name": " Tennessee",
         "showlegend": true,
         "subplot": "mapbox",
         "type": "scattermapbox"
        },
        {
         "hovertemplate": "State= Arizona<br>Rank=%{marker.size}<br>Lat=%{lat}<br>Lon=%{lon}<extra></extra>",
         "lat": [
          33.34883
         ],
         "legendgroup": " Arizona",
         "lon": [
          -112.49123
         ],
         "marker": {
          "color": "#EF553B",
          "size": [
           135.8
          ],
          "sizemode": "area",
          "sizeref": 1.49
         },
         "mode": "markers",
         "name": " Arizona",
         "showlegend": true,
         "subplot": "mapbox",
         "type": "scattermapbox"
        },
        {
         "hovertemplate": "State= Michigan<br>Rank=%{marker.size}<br>Lat=%{lat}<br>Lon=%{lon}<extra></extra>",
         "lat": [
          43.0024013,
          42.6741189,
          42.2682408
         ],
         "legendgroup": " Michigan",
         "lon": [
          -85.5502718,
          -82.902901,
          -83.2844172
         ],
         "marker": {
          "color": "#00cc96",
          "size": [
           135.1,
           125.9,
           107
          ],
          "sizemode": "area",
          "sizeref": 1.49
         },
         "mode": "markers",
         "name": " Michigan",
         "showlegend": true,
         "subplot": "mapbox",
         "type": "scattermapbox"
        },
        {
         "hovertemplate": "State= Alabama<br>Rank=%{marker.size}<br>Lat=%{lat}<br>Lon=%{lon}<extra></extra>",
         "lat": [
          33.5228184
         ],
         "legendgroup": " Alabama",
         "lon": [
          -86.9164513
         ],
         "marker": {
          "color": "#ab63fa",
          "size": [
           134.9
          ],
          "sizemode": "area",
          "sizeref": 1.49
         },
         "mode": "markers",
         "name": " Alabama",
         "showlegend": true,
         "subplot": "mapbox",
         "type": "scattermapbox"
        },
        {
         "hovertemplate": "State= North Carolina<br>Rank=%{marker.size}<br>Lat=%{lat}<br>Lon=%{lon}<extra></extra>",
         "lat": [
          36.0768027
         ],
         "legendgroup": " North Carolina",
         "lon": [
          -79.8980907
         ],
         "marker": {
          "color": "#FFA15A",
          "size": [
           133.2
          ],
          "sizemode": "area",
          "sizeref": 1.49
         },
         "mode": "markers",
         "name": " North Carolina",
         "showlegend": true,
         "subplot": "mapbox",
         "type": "scattermapbox"
        },
        {
         "hovertemplate": "State= California<br>Rank=%{marker.size}<br>Lat=%{lat}<br>Lon=%{lon}<extra></extra>",
         "lat": [
          38.5810606,
          33.9533546,
          36.7394421,
          32.73336075,
          37.5500871,
          35.3145701
         ],
         "legendgroup": " California",
         "lon": [
          -121.493895,
          -117.3961623,
          -119.7848307,
          -117.19224641277626,
          -121.0501425,
          -118.7538222
         ],
         "marker": {
          "color": "#19d3f3",
          "size": [
           132.9,
           129.7,
           123.39999999999999,
           123.10000000000001,
           119.6,
           118.9
          ],
          "sizemode": "area",
          "sizeref": 1.49
         },
         "mode": "markers",
         "name": " California",
         "showlegend": true,
         "subplot": "mapbox",
         "type": "scattermapbox"
        },
        {
         "hovertemplate": "State= Pennsylvania<br>Rank=%{marker.size}<br>Lat=%{lat}<br>Lon=%{lon}<extra></extra>",
         "lat": [
          40.03813,
          39.9527237
         ],
         "legendgroup": " Pennsylvania",
         "lon": [
          -76.3056686,
          -75.1635262
         ],
         "marker": {
          "color": "#FF6692",
          "size": [
           132.8,
           110.3
          ],
          "sizemode": "area",
          "sizeref": 1.49
         },
         "mode": "markers",
         "name": " Pennsylvania",
         "showlegend": true,
         "subplot": "mapbox",
         "type": "scattermapbox"
        },
        {
         "hovertemplate": "State= Oklahoma<br>Rank=%{marker.size}<br>Lat=%{lat}<br>Lon=%{lon}<extra></extra>",
         "lat": [
          36.1556805
         ],
         "legendgroup": " Oklahoma",
         "lon": [
          -95.9929113
         ],
         "marker": {
          "color": "#B6E880",
          "size": [
           132.7
          ],
          "sizemode": "area",
          "sizeref": 1.49
         },
         "mode": "markers",
         "name": " Oklahoma",
         "showlegend": true,
         "subplot": "mapbox",
         "type": "scattermapbox"
        },
        {
         "hovertemplate": "State= New Mexico<br>Rank=%{marker.size}<br>Lat=%{lat}<br>Lon=%{lon}<extra></extra>",
         "lat": [
          35.0349239
         ],
         "legendgroup": " New Mexico",
         "lon": [
          -106.6870693
         ],
         "marker": {
          "color": "#FF97FF",
          "size": [
           132.10000000000002
          ],
          "sizemode": "area",
          "sizeref": 1.49
         },
         "mode": "markers",
         "name": " New Mexico",
         "showlegend": true,
         "subplot": "mapbox",
         "type": "scattermapbox"
        },
        {
         "hovertemplate": "State= Kentucky<br>Rank=%{marker.size}<br>Lat=%{lat}<br>Lon=%{lon}<extra></extra>",
         "lat": [
          34.19217
         ],
         "legendgroup": " Kentucky",
         "lon": [
          -91.992852
         ],
         "marker": {
          "color": "#FECB52",
          "size": [
           131.7
          ],
          "sizemode": "area",
          "sizeref": 1.49
         },
         "mode": "markers",
         "name": " Kentucky",
         "showlegend": true,
         "subplot": "mapbox",
         "type": "scattermapbox"
        },
        {
         "hovertemplate": "State= Ohio<br>Rank=%{marker.size}<br>Lat=%{lat}<br>Lon=%{lon}<extra></extra>",
         "lat": [
          39.5589474,
          39.1266104,
          39.3995067,
          41.48741
         ],
         "legendgroup": " Ohio",
         "lon": [
          -84.3041074,
          -84.6219297,
          -84.5613428,
          -81.684896
         ],
         "marker": {
          "color": "#636efa",
          "size": [
           131.1,
           126.2,
           125.80000000000001,
           118.4
          ],
          "sizemode": "area",
          "sizeref": 1.49
         },
         "mode": "markers",
         "name": " Ohio",
         "showlegend": true,
         "subplot": "mapbox",
         "type": "scattermapbox"
        },
        {
         "hovertemplate": "State= Florida<br>Rank=%{marker.size}<br>Lat=%{lat}<br>Lon=%{lon}<extra></extra>",
         "lat": [
          25.6364246,
          27.9184543,
          26.1598074,
          26.5999265,
          30.3540073,
          27.8778904,
          29.0533409
         ],
         "legendgroup": " Florida",
         "lon": [
          -80.4989467,
          -82.3488057,
          -80.4623642,
          -81.8823135,
          -81.6632109,
          -82.7329309,
          -81.1310761
         ],
         "marker": {
          "color": "#EF553B",
          "size": [
           131.1,
           128.5,
           127.4,
           127,
           124.00000000000001,
           122.69999999999999,
           119.6
          ],
          "sizemode": "area",
          "sizeref": 1.49
         },
         "mode": "markers",
         "name": " Florida",
         "showlegend": true,
         "subplot": "mapbox",
         "type": "scattermapbox"
        },
        {
         "hovertemplate": "State= New York<br>Rank=%{marker.size}<br>Lat=%{lat}<br>Lon=%{lon}<extra></extra>",
         "lat": [
          41.3304767,
          42.7164263,
          40.8466508
         ],
         "legendgroup": " New York",
         "lon": [
          -74.1866348,
          -78.7620327,
          -73.8785937
         ],
         "marker": {
          "color": "#00cc96",
          "size": [
           128.79999999999998,
           124.1,
           96.9
          ],
          "sizemode": "area",
          "sizeref": 1.49
         },
         "mode": "markers",
         "name": " New York",
         "showlegend": true,
         "subplot": "mapbox",
         "type": "scattermapbox"
        },
        {
         "hovertemplate": "State= Massachusetts<br>Rank=%{marker.size}<br>Lat=%{lat}<br>Lon=%{lon}<extra></extra>",
         "lat": [
          41.7425538
         ],
         "legendgroup": " Massachusetts",
         "lon": [
          -71.0856545
         ],
         "marker": {
          "color": "#ab63fa",
          "size": [
           128.6
          ],
          "sizemode": "area",
          "sizeref": 1.49
         },
         "mode": "markers",
         "name": " Massachusetts",
         "showlegend": true,
         "subplot": "mapbox",
         "type": "scattermapbox"
        },
        {
         "hovertemplate": "State= Missouri<br>Rank=%{marker.size}<br>Lat=%{lat}<br>Lon=%{lon}<extra></extra>",
         "lat": [
          39.03540865
         ],
         "legendgroup": " Missouri",
         "lon": [
          -94.35827545075793
         ],
         "marker": {
          "color": "#FFA15A",
          "size": [
           125.60000000000001
          ],
          "sizemode": "area",
          "sizeref": 1.49
         },
         "mode": "markers",
         "name": " Missouri",
         "showlegend": true,
         "subplot": "mapbox",
         "type": "scattermapbox"
        },
        {
         "hovertemplate": "State= New Jersey<br>Rank=%{marker.size}<br>Lat=%{lat}<br>Lon=%{lon}<extra></extra>",
         "lat": [
          39.977818
         ],
         "legendgroup": " New Jersey",
         "lon": [
          -74.3319287
         ],
         "marker": {
          "color": "#19d3f3",
          "size": [
           123.6
          ],
          "sizemode": "area",
          "sizeref": 1.49
         },
         "mode": "markers",
         "name": " New Jersey",
         "showlegend": true,
         "subplot": "mapbox",
         "type": "scattermapbox"
        },
        {
         "hovertemplate": "State= Nevada<br>Rank=%{marker.size}<br>Lat=%{lat}<br>Lon=%{lon}<extra></extra>",
         "lat": [
          36.3467726
         ],
         "legendgroup": " Nevada",
         "lon": [
          -115.0907378
         ],
         "marker": {
          "color": "#FF6692",
          "size": [
           122.7
          ],
          "sizemode": "area",
          "sizeref": 1.49
         },
         "mode": "markers",
         "name": " Nevada",
         "showlegend": true,
         "subplot": "mapbox",
         "type": "scattermapbox"
        },
        {
         "hovertemplate": "State= Rhode Island<br>Rank=%{marker.size}<br>Lat=%{lat}<br>Lon=%{lon}<extra></extra>",
         "lat": [
          41.8239891
         ],
         "legendgroup": " Rhode Island",
         "lon": [
          -71.4128343
         ],
         "marker": {
          "color": "#B6E880",
          "size": [
           121.60000000000001
          ],
          "sizemode": "area",
          "sizeref": 1.49
         },
         "mode": "markers",
         "name": " Rhode Island",
         "showlegend": true,
         "subplot": "mapbox",
         "type": "scattermapbox"
        },
        {
         "hovertemplate": "State= Indiana<br>Rank=%{marker.size}<br>Lat=%{lat}<br>Lon=%{lon}<extra></extra>",
         "lat": [
          40.5583739
         ],
         "legendgroup": " Indiana",
         "lon": [
          -85.6591442
         ],
         "marker": {
          "color": "#FF97FF",
          "size": [
           114.2
          ],
          "sizemode": "area",
          "sizeref": 1.49
         },
         "mode": "markers",
         "name": " Indiana",
         "showlegend": true,
         "subplot": "mapbox",
         "type": "scattermapbox"
        },
        {
         "hovertemplate": "State= Maryland<br>Rank=%{marker.size}<br>Lat=%{lat}<br>Lon=%{lon}<extra></extra>",
         "lat": [
          39.2908816
         ],
         "legendgroup": " Maryland",
         "lon": [
          -76.610759
         ],
         "marker": {
          "color": "#FECB52",
          "size": [
           113
          ],
          "sizemode": "area",
          "sizeref": 1.49
         },
         "mode": "markers",
         "name": " Maryland",
         "showlegend": true,
         "subplot": "mapbox",
         "type": "scattermapbox"
        }
       ],
       "layout": {
        "autosize": true,
        "legend": {
         "itemsizing": "constant",
         "title": {
          "text": "State"
         },
         "tracegroupgap": 0
        },
        "mapbox": {
         "accesstoken": "pk.eyJ1IjoiY2hpcmF0aGRldmluZGEiLCJhIjoiY2t0anlsbGc1MWdybzJ1cGF1dWNodWcwOCJ9.SsSKqiRycn7_xaVsjGIdBw",
         "center": {
          "lat": 37.1942849537037,
          "lon": -92.15600124747287
         },
         "domain": {
          "x": [
           0,
           1
          ],
          "y": [
           0,
           1
          ]
         },
         "zoom": 3
        },
        "template": {
         "data": {
          "bar": [
           {
            "error_x": {
             "color": "#2a3f5f"
            },
            "error_y": {
             "color": "#2a3f5f"
            },
            "marker": {
             "line": {
              "color": "#E5ECF6",
              "width": 0.5
             },
             "pattern": {
              "fillmode": "overlay",
              "size": 10,
              "solidity": 0.2
             }
            },
            "type": "bar"
           }
          ],
          "barpolar": [
           {
            "marker": {
             "line": {
              "color": "#E5ECF6",
              "width": 0.5
             },
             "pattern": {
              "fillmode": "overlay",
              "size": 10,
              "solidity": 0.2
             }
            },
            "type": "barpolar"
           }
          ],
          "carpet": [
           {
            "aaxis": {
             "endlinecolor": "#2a3f5f",
             "gridcolor": "white",
             "linecolor": "white",
             "minorgridcolor": "white",
             "startlinecolor": "#2a3f5f"
            },
            "baxis": {
             "endlinecolor": "#2a3f5f",
             "gridcolor": "white",
             "linecolor": "white",
             "minorgridcolor": "white",
             "startlinecolor": "#2a3f5f"
            },
            "type": "carpet"
           }
          ],
          "choropleth": [
           {
            "colorbar": {
             "outlinewidth": 0,
             "ticks": ""
            },
            "type": "choropleth"
           }
          ],
          "contour": [
           {
            "colorbar": {
             "outlinewidth": 0,
             "ticks": ""
            },
            "colorscale": [
             [
              0,
              "#0d0887"
             ],
             [
              0.1111111111111111,
              "#46039f"
             ],
             [
              0.2222222222222222,
              "#7201a8"
             ],
             [
              0.3333333333333333,
              "#9c179e"
             ],
             [
              0.4444444444444444,
              "#bd3786"
             ],
             [
              0.5555555555555556,
              "#d8576b"
             ],
             [
              0.6666666666666666,
              "#ed7953"
             ],
             [
              0.7777777777777778,
              "#fb9f3a"
             ],
             [
              0.8888888888888888,
              "#fdca26"
             ],
             [
              1,
              "#f0f921"
             ]
            ],
            "type": "contour"
           }
          ],
          "contourcarpet": [
           {
            "colorbar": {
             "outlinewidth": 0,
             "ticks": ""
            },
            "type": "contourcarpet"
           }
          ],
          "heatmap": [
           {
            "colorbar": {
             "outlinewidth": 0,
             "ticks": ""
            },
            "colorscale": [
             [
              0,
              "#0d0887"
             ],
             [
              0.1111111111111111,
              "#46039f"
             ],
             [
              0.2222222222222222,
              "#7201a8"
             ],
             [
              0.3333333333333333,
              "#9c179e"
             ],
             [
              0.4444444444444444,
              "#bd3786"
             ],
             [
              0.5555555555555556,
              "#d8576b"
             ],
             [
              0.6666666666666666,
              "#ed7953"
             ],
             [
              0.7777777777777778,
              "#fb9f3a"
             ],
             [
              0.8888888888888888,
              "#fdca26"
             ],
             [
              1,
              "#f0f921"
             ]
            ],
            "type": "heatmap"
           }
          ],
          "heatmapgl": [
           {
            "colorbar": {
             "outlinewidth": 0,
             "ticks": ""
            },
            "colorscale": [
             [
              0,
              "#0d0887"
             ],
             [
              0.1111111111111111,
              "#46039f"
             ],
             [
              0.2222222222222222,
              "#7201a8"
             ],
             [
              0.3333333333333333,
              "#9c179e"
             ],
             [
              0.4444444444444444,
              "#bd3786"
             ],
             [
              0.5555555555555556,
              "#d8576b"
             ],
             [
              0.6666666666666666,
              "#ed7953"
             ],
             [
              0.7777777777777778,
              "#fb9f3a"
             ],
             [
              0.8888888888888888,
              "#fdca26"
             ],
             [
              1,
              "#f0f921"
             ]
            ],
            "type": "heatmapgl"
           }
          ],
          "histogram": [
           {
            "marker": {
             "pattern": {
              "fillmode": "overlay",
              "size": 10,
              "solidity": 0.2
             }
            },
            "type": "histogram"
           }
          ],
          "histogram2d": [
           {
            "colorbar": {
             "outlinewidth": 0,
             "ticks": ""
            },
            "colorscale": [
             [
              0,
              "#0d0887"
             ],
             [
              0.1111111111111111,
              "#46039f"
             ],
             [
              0.2222222222222222,
              "#7201a8"
             ],
             [
              0.3333333333333333,
              "#9c179e"
             ],
             [
              0.4444444444444444,
              "#bd3786"
             ],
             [
              0.5555555555555556,
              "#d8576b"
             ],
             [
              0.6666666666666666,
              "#ed7953"
             ],
             [
              0.7777777777777778,
              "#fb9f3a"
             ],
             [
              0.8888888888888888,
              "#fdca26"
             ],
             [
              1,
              "#f0f921"
             ]
            ],
            "type": "histogram2d"
           }
          ],
          "histogram2dcontour": [
           {
            "colorbar": {
             "outlinewidth": 0,
             "ticks": ""
            },
            "colorscale": [
             [
              0,
              "#0d0887"
             ],
             [
              0.1111111111111111,
              "#46039f"
             ],
             [
              0.2222222222222222,
              "#7201a8"
             ],
             [
              0.3333333333333333,
              "#9c179e"
             ],
             [
              0.4444444444444444,
              "#bd3786"
             ],
             [
              0.5555555555555556,
              "#d8576b"
             ],
             [
              0.6666666666666666,
              "#ed7953"
             ],
             [
              0.7777777777777778,
              "#fb9f3a"
             ],
             [
              0.8888888888888888,
              "#fdca26"
             ],
             [
              1,
              "#f0f921"
             ]
            ],
            "type": "histogram2dcontour"
           }
          ],
          "mesh3d": [
           {
            "colorbar": {
             "outlinewidth": 0,
             "ticks": ""
            },
            "type": "mesh3d"
           }
          ],
          "parcoords": [
           {
            "line": {
             "colorbar": {
              "outlinewidth": 0,
              "ticks": ""
             }
            },
            "type": "parcoords"
           }
          ],
          "pie": [
           {
            "automargin": true,
            "type": "pie"
           }
          ],
          "scatter": [
           {
            "marker": {
             "colorbar": {
              "outlinewidth": 0,
              "ticks": ""
             }
            },
            "type": "scatter"
           }
          ],
          "scatter3d": [
           {
            "line": {
             "colorbar": {
              "outlinewidth": 0,
              "ticks": ""
             }
            },
            "marker": {
             "colorbar": {
              "outlinewidth": 0,
              "ticks": ""
             }
            },
            "type": "scatter3d"
           }
          ],
          "scattercarpet": [
           {
            "marker": {
             "colorbar": {
              "outlinewidth": 0,
              "ticks": ""
             }
            },
            "type": "scattercarpet"
           }
          ],
          "scattergeo": [
           {
            "marker": {
             "colorbar": {
              "outlinewidth": 0,
              "ticks": ""
             }
            },
            "type": "scattergeo"
           }
          ],
          "scattergl": [
           {
            "marker": {
             "colorbar": {
              "outlinewidth": 0,
              "ticks": ""
             }
            },
            "type": "scattergl"
           }
          ],
          "scattermapbox": [
           {
            "marker": {
             "colorbar": {
              "outlinewidth": 0,
              "ticks": ""
             }
            },
            "type": "scattermapbox"
           }
          ],
          "scatterpolar": [
           {
            "marker": {
             "colorbar": {
              "outlinewidth": 0,
              "ticks": ""
             }
            },
            "type": "scatterpolar"
           }
          ],
          "scatterpolargl": [
           {
            "marker": {
             "colorbar": {
              "outlinewidth": 0,
              "ticks": ""
             }
            },
            "type": "scatterpolargl"
           }
          ],
          "scatterternary": [
           {
            "marker": {
             "colorbar": {
              "outlinewidth": 0,
              "ticks": ""
             }
            },
            "type": "scatterternary"
           }
          ],
          "surface": [
           {
            "colorbar": {
             "outlinewidth": 0,
             "ticks": ""
            },
            "colorscale": [
             [
              0,
              "#0d0887"
             ],
             [
              0.1111111111111111,
              "#46039f"
             ],
             [
              0.2222222222222222,
              "#7201a8"
             ],
             [
              0.3333333333333333,
              "#9c179e"
             ],
             [
              0.4444444444444444,
              "#bd3786"
             ],
             [
              0.5555555555555556,
              "#d8576b"
             ],
             [
              0.6666666666666666,
              "#ed7953"
             ],
             [
              0.7777777777777778,
              "#fb9f3a"
             ],
             [
              0.8888888888888888,
              "#fdca26"
             ],
             [
              1,
              "#f0f921"
             ]
            ],
            "type": "surface"
           }
          ],
          "table": [
           {
            "cells": {
             "fill": {
              "color": "#EBF0F8"
             },
             "line": {
              "color": "white"
             }
            },
            "header": {
             "fill": {
              "color": "#C8D4E3"
             },
             "line": {
              "color": "white"
             }
            },
            "type": "table"
           }
          ]
         },
         "layout": {
          "annotationdefaults": {
           "arrowcolor": "#2a3f5f",
           "arrowhead": 0,
           "arrowwidth": 1
          },
          "autotypenumbers": "strict",
          "coloraxis": {
           "colorbar": {
            "outlinewidth": 0,
            "ticks": ""
           }
          },
          "colorscale": {
           "diverging": [
            [
             0,
             "#8e0152"
            ],
            [
             0.1,
             "#c51b7d"
            ],
            [
             0.2,
             "#de77ae"
            ],
            [
             0.3,
             "#f1b6da"
            ],
            [
             0.4,
             "#fde0ef"
            ],
            [
             0.5,
             "#f7f7f7"
            ],
            [
             0.6,
             "#e6f5d0"
            ],
            [
             0.7,
             "#b8e186"
            ],
            [
             0.8,
             "#7fbc41"
            ],
            [
             0.9,
             "#4d9221"
            ],
            [
             1,
             "#276419"
            ]
           ],
           "sequential": [
            [
             0,
             "#0d0887"
            ],
            [
             0.1111111111111111,
             "#46039f"
            ],
            [
             0.2222222222222222,
             "#7201a8"
            ],
            [
             0.3333333333333333,
             "#9c179e"
            ],
            [
             0.4444444444444444,
             "#bd3786"
            ],
            [
             0.5555555555555556,
             "#d8576b"
            ],
            [
             0.6666666666666666,
             "#ed7953"
            ],
            [
             0.7777777777777778,
             "#fb9f3a"
            ],
            [
             0.8888888888888888,
             "#fdca26"
            ],
            [
             1,
             "#f0f921"
            ]
           ],
           "sequentialminus": [
            [
             0,
             "#0d0887"
            ],
            [
             0.1111111111111111,
             "#46039f"
            ],
            [
             0.2222222222222222,
             "#7201a8"
            ],
            [
             0.3333333333333333,
             "#9c179e"
            ],
            [
             0.4444444444444444,
             "#bd3786"
            ],
            [
             0.5555555555555556,
             "#d8576b"
            ],
            [
             0.6666666666666666,
             "#ed7953"
            ],
            [
             0.7777777777777778,
             "#fb9f3a"
            ],
            [
             0.8888888888888888,
             "#fdca26"
            ],
            [
             1,
             "#f0f921"
            ]
           ]
          },
          "colorway": [
           "#636efa",
           "#EF553B",
           "#00cc96",
           "#ab63fa",
           "#FFA15A",
           "#19d3f3",
           "#FF6692",
           "#B6E880",
           "#FF97FF",
           "#FECB52"
          ],
          "font": {
           "color": "#2a3f5f"
          },
          "geo": {
           "bgcolor": "white",
           "lakecolor": "white",
           "landcolor": "#E5ECF6",
           "showlakes": true,
           "showland": true,
           "subunitcolor": "white"
          },
          "hoverlabel": {
           "align": "left"
          },
          "hovermode": "closest",
          "mapbox": {
           "style": "light"
          },
          "paper_bgcolor": "white",
          "plot_bgcolor": "#E5ECF6",
          "polar": {
           "angularaxis": {
            "gridcolor": "white",
            "linecolor": "white",
            "ticks": ""
           },
           "bgcolor": "#E5ECF6",
           "radialaxis": {
            "gridcolor": "white",
            "linecolor": "white",
            "ticks": ""
           }
          },
          "scene": {
           "xaxis": {
            "backgroundcolor": "#E5ECF6",
            "gridcolor": "white",
            "gridwidth": 2,
            "linecolor": "white",
            "showbackground": true,
            "ticks": "",
            "zerolinecolor": "white"
           },
           "yaxis": {
            "backgroundcolor": "#E5ECF6",
            "gridcolor": "white",
            "gridwidth": 2,
            "linecolor": "white",
            "showbackground": true,
            "ticks": "",
            "zerolinecolor": "white"
           },
           "zaxis": {
            "backgroundcolor": "#E5ECF6",
            "gridcolor": "white",
            "gridwidth": 2,
            "linecolor": "white",
            "showbackground": true,
            "ticks": "",
            "zerolinecolor": "white"
           }
          },
          "shapedefaults": {
           "line": {
            "color": "#2a3f5f"
           }
          },
          "ternary": {
           "aaxis": {
            "gridcolor": "white",
            "linecolor": "white",
            "ticks": ""
           },
           "baxis": {
            "gridcolor": "white",
            "linecolor": "white",
            "ticks": ""
           },
           "bgcolor": "#E5ECF6",
           "caxis": {
            "gridcolor": "white",
            "linecolor": "white",
            "ticks": ""
           }
          },
          "title": {
           "x": 0.05
          },
          "xaxis": {
           "automargin": true,
           "gridcolor": "white",
           "linecolor": "white",
           "ticks": "",
           "title": {
            "standoff": 15
           },
           "zerolinecolor": "white",
           "zerolinewidth": 2
          },
          "yaxis": {
           "automargin": true,
           "gridcolor": "white",
           "linecolor": "white",
           "ticks": "",
           "title": {
            "standoff": 15
           },
           "zerolinecolor": "white",
           "zerolinewidth": 2
          }
         }
        },
        "title": {
         "text": "Top Wine States in US"
        }
       }
      },
      "image/png": "[encoded data removed]",
      "text/html": [
       "<div>                            <div id=\"828054b6-3a1b-4281-b482-505b8c59a096\" class=\"plotly-graph-div\" style=\"height:525px; width:100%;\"></div>            <script type=\"text/javascript\">                require([\"plotly\"], function(Plotly) {                    window.PLOTLYENV=window.PLOTLYENV || {};                                    if (document.getElementById(\"828054b6-3a1b-4281-b482-505b8c59a096\")) {                    Plotly.newPlot(                        \"828054b6-3a1b-4281-b482-505b8c59a096\",                        [{\"hovertemplate\":\"State= Georgia<br>Rank=%{marker.size}<br>Lat=%{lat}<br>Lon=%{lon}<extra></extra>\",\"lat\":[33.9566869,33.7575613],\"legendgroup\":\" Georgia\",\"lon\":[-84.0227467,-84.2186508],\"marker\":{\"color\":\"#636efa\",\"size\":[149.0,136.20000000000002],\"sizemode\":\"area\",\"sizeref\":1.49},\"mode\":\"markers\",\"name\":\" Georgia\",\"showlegend\":true,\"subplot\":\"mapbox\",\"type\":\"scattermapbox\"},{\"hovertemplate\":\"State= Wisconsin<br>Rank=%{marker.size}<br>Lat=%{lat}<br>Lon=%{lon}<extra></extra>\",\"lat\":[43.2505472],\"legendgroup\":\" Wisconsin\",\"lon\":[-89.5015088],\"marker\":{\"color\":\"#EF553B\",\"size\":[146.2],\"sizemode\":\"area\",\"sizeref\":1.49},\"mode\":\"markers\",\"name\":\" Wisconsin\",\"showlegend\":true,\"subplot\":\"mapbox\",\"type\":\"scattermapbox\"},{\"hovertemplate\":\"State= Texas<br>Rank=%{marker.size}<br>Lat=%{lat}<br>Lon=%{lon}<extra></extra>\",\"lat\":[30.6580927,29.4263987],\"legendgroup\":\" Texas\",\"lon\":[-97.6041649,-98.5104781],\"marker\":{\"color\":\"#00cc96\",\"size\":[145.5,130.5],\"sizemode\":\"area\",\"sizeref\":1.49},\"mode\":\"markers\",\"name\":\" Texas\",\"showlegend\":true,\"subplot\":\"mapbox\",\"type\":\"scattermapbox\"},{\"hovertemplate\":\"State= Colorado<br>Rank=%{marker.size}<br>Lat=%{lat}<br>Lon=%{lon}<extra></extra>\",\"lat\":[38.7251776,39.8714085],\"legendgroup\":\" Colorado\",\"lon\":[-105.607716,-104.2701374],\"marker\":{\"color\":\"#ab63fa\",\"size\":[143.9,132.89999999999998],\"sizemode\":\"area\",\"sizeref\":1.49},\"mode\":\"markers\",\"name\":\" Colorado\",\"showlegend\":true,\"subplot\":\"mapbox\",\"type\":\"scattermapbox\"},{\"hovertemplate\":\"State= South Carolina<br>Rank=%{marker.size}<br>Lat=%{lat}<br>Lon=%{lon}<extra></extra>\",\"lat\":[34.851354],\"legendgroup\":\" South Carolina\",\"lon\":[-82.3984882],\"marker\":{\"color\":\"#FFA15A\",\"size\":[143.89999999999998],\"sizemode\":\"area\",\"sizeref\":1.49},\"mode\":\"markers\",\"name\":\" South Carolina\",\"showlegend\":true,\"subplot\":\"mapbox\",\"type\":\"scattermapbox\"},{\"hovertemplate\":\"State= Oregon<br>Rank=%{marker.size}<br>Lat=%{lat}<br>Lon=%{lon}<extra></extra>\",\"lat\":[45.4661508],\"legendgroup\":\" Oregon\",\"lon\":[-122.7127865],\"marker\":{\"color\":\"#19d3f3\",\"size\":[140.7],\"sizemode\":\"area\",\"sizeref\":1.49},\"mode\":\"markers\",\"name\":\" Oregon\",\"showlegend\":true,\"subplot\":\"mapbox\",\"type\":\"scattermapbox\"},{\"hovertemplate\":\"State= Illinois<br>Rank=%{marker.size}<br>Lat=%{lat}<br>Lon=%{lon}<extra></extra>\",\"lat\":[41.4194058],\"legendgroup\":\" Illinois\",\"lon\":[-87.9994754],\"marker\":{\"color\":\"#FF6692\",\"size\":[139.0],\"sizemode\":\"area\",\"sizeref\":1.49},\"mode\":\"markers\",\"name\":\" Illinois\",\"showlegend\":true,\"subplot\":\"mapbox\",\"type\":\"scattermapbox\"},{\"hovertemplate\":\"State= Washington<br>Rank=%{marker.size}<br>Lat=%{lat}<br>Lon=%{lon}<extra></extra>\",\"lat\":[47.6571934,46.6343532],\"legendgroup\":\" Washington\",\"lon\":[-117.4235106,-119.4521747],\"marker\":{\"color\":\"#B6E880\",\"size\":[137.1,131.9],\"sizemode\":\"area\",\"sizeref\":1.49},\"mode\":\"markers\",\"name\":\" Washington\",\"showlegend\":true,\"subplot\":\"mapbox\",\"type\":\"scattermapbox\"},{\"hovertemplate\":\"State= Minnesota<br>Rank=%{marker.size}<br>Lat=%{lat}<br>Lon=%{lon}<extra></extra>\",\"lat\":[45.0165728],\"legendgroup\":\" Minnesota\",\"lon\":[-93.0949501],\"marker\":{\"color\":\"#FF97FF\",\"size\":[137.1],\"sizemode\":\"area\",\"sizeref\":1.49},\"mode\":\"markers\",\"name\":\" Minnesota\",\"showlegend\":true,\"subplot\":\"mapbox\",\"type\":\"scattermapbox\"},{\"hovertemplate\":\"State= Nebraska<br>Rank=%{marker.size}<br>Lat=%{lat}<br>Lon=%{lon}<extra></extra>\",\"lat\":[41.2954112],\"legendgroup\":\" Nebraska\",\"lon\":[-96.1415672],\"marker\":{\"color\":\"#FECB52\",\"size\":[136.9],\"sizemode\":\"area\",\"sizeref\":1.49},\"mode\":\"markers\",\"name\":\" Nebraska\",\"showlegend\":true,\"subplot\":\"mapbox\",\"type\":\"scattermapbox\"},{\"hovertemplate\":\"State= Tennessee<br>Rank=%{marker.size}<br>Lat=%{lat}<br>Lon=%{lon}<extra></extra>\",\"lat\":[36.5681234,31.9565572],\"legendgroup\":\" Tennessee\",\"lon\":[-85.0224493,-94.3182551],\"marker\":{\"color\":\"#636efa\",\"size\":[135.8,120.9],\"sizemode\":\"area\",\"sizeref\":1.49},\"mode\":\"markers\",\"name\":\" Tennessee\",\"showlegend\":true,\"subplot\":\"mapbox\",\"type\":\"scattermapbox\"},{\"hovertemplate\":\"State= Arizona<br>Rank=%{marker.size}<br>Lat=%{lat}<br>Lon=%{lon}<extra></extra>\",\"lat\":[33.34883],\"legendgroup\":\" Arizona\",\"lon\":[-112.49123],\"marker\":{\"color\":\"#EF553B\",\"size\":[135.8],\"sizemode\":\"area\",\"sizeref\":1.49},\"mode\":\"markers\",\"name\":\" Arizona\",\"showlegend\":true,\"subplot\":\"mapbox\",\"type\":\"scattermapbox\"},{\"hovertemplate\":\"State= Michigan<br>Rank=%{marker.size}<br>Lat=%{lat}<br>Lon=%{lon}<extra></extra>\",\"lat\":[43.0024013,42.6741189,42.2682408],\"legendgroup\":\" Michigan\",\"lon\":[-85.5502718,-82.902901,-83.2844172],\"marker\":{\"color\":\"#00cc96\",\"size\":[135.1,125.9,107.0],\"sizemode\":\"area\",\"sizeref\":1.49},\"mode\":\"markers\",\"name\":\" Michigan\",\"showlegend\":true,\"subplot\":\"mapbox\",\"type\":\"scattermapbox\"},{\"hovertemplate\":\"State= Alabama<br>Rank=%{marker.size}<br>Lat=%{lat}<br>Lon=%{lon}<extra></extra>\",\"lat\":[33.5228184],\"legendgroup\":\" Alabama\",\"lon\":[-86.9164513],\"marker\":{\"color\":\"#ab63fa\",\"size\":[134.9],\"sizemode\":\"area\",\"sizeref\":1.49},\"mode\":\"markers\",\"name\":\" Alabama\",\"showlegend\":true,\"subplot\":\"mapbox\",\"type\":\"scattermapbox\"},{\"hovertemplate\":\"State= North Carolina<br>Rank=%{marker.size}<br>Lat=%{lat}<br>Lon=%{lon}<extra></extra>\",\"lat\":[36.0768027],\"legendgroup\":\" North Carolina\",\"lon\":[-79.8980907],\"marker\":{\"color\":\"#FFA15A\",\"size\":[133.2],\"sizemode\":\"area\",\"sizeref\":1.49},\"mode\":\"markers\",\"name\":\" North Carolina\",\"showlegend\":true,\"subplot\":\"mapbox\",\"type\":\"scattermapbox\"},{\"hovertemplate\":\"State= California<br>Rank=%{marker.size}<br>Lat=%{lat}<br>Lon=%{lon}<extra></extra>\",\"lat\":[38.5810606,33.9533546,36.7394421,32.73336075,37.5500871,35.3145701],\"legendgroup\":\" California\",\"lon\":[-121.493895,-117.3961623,-119.7848307,-117.19224641277626,-121.0501425,-118.7538222],\"marker\":{\"color\":\"#19d3f3\",\"size\":[132.9,129.7,123.39999999999999,123.10000000000001,119.6,118.9],\"sizemode\":\"area\",\"sizeref\":1.49},\"mode\":\"markers\",\"name\":\" California\",\"showlegend\":true,\"subplot\":\"mapbox\",\"type\":\"scattermapbox\"},{\"hovertemplate\":\"State= Pennsylvania<br>Rank=%{marker.size}<br>Lat=%{lat}<br>Lon=%{lon}<extra></extra>\",\"lat\":[40.03813,39.9527237],\"legendgroup\":\" Pennsylvania\",\"lon\":[-76.3056686,-75.1635262],\"marker\":{\"color\":\"#FF6692\",\"size\":[132.8,110.3],\"sizemode\":\"area\",\"sizeref\":1.49},\"mode\":\"markers\",\"name\":\" Pennsylvania\",\"showlegend\":true,\"subplot\":\"mapbox\",\"type\":\"scattermapbox\"},{\"hovertemplate\":\"State= Oklahoma<br>Rank=%{marker.size}<br>Lat=%{lat}<br>Lon=%{lon}<extra></extra>\",\"lat\":[36.1556805],\"legendgroup\":\" Oklahoma\",\"lon\":[-95.9929113],\"marker\":{\"color\":\"#B6E880\",\"size\":[132.7],\"sizemode\":\"area\",\"sizeref\":1.49},\"mode\":\"markers\",\"name\":\" Oklahoma\",\"showlegend\":true,\"subplot\":\"mapbox\",\"type\":\"scattermapbox\"},{\"hovertemplate\":\"State= New Mexico<br>Rank=%{marker.size}<br>Lat=%{lat}<br>Lon=%{lon}<extra></extra>\",\"lat\":[35.0349239],\"legendgroup\":\" New Mexico\",\"lon\":[-106.6870693],\"marker\":{\"color\":\"#FF97FF\",\"size\":[132.10000000000002],\"sizemode\":\"area\",\"sizeref\":1.49},\"mode\":\"markers\",\"name\":\" New Mexico\",\"showlegend\":true,\"subplot\":\"mapbox\",\"type\":\"scattermapbox\"},{\"hovertemplate\":\"State= Kentucky<br>Rank=%{marker.size}<br>Lat=%{lat}<br>Lon=%{lon}<extra></extra>\",\"lat\":[34.19217],\"legendgroup\":\" Kentucky\",\"lon\":[-91.992852],\"marker\":{\"color\":\"#FECB52\",\"size\":[131.7],\"sizemode\":\"area\",\"sizeref\":1.49},\"mode\":\"markers\",\"name\":\" Kentucky\",\"showlegend\":true,\"subplot\":\"mapbox\",\"type\":\"scattermapbox\"},{\"hovertemplate\":\"State= Ohio<br>Rank=%{marker.size}<br>Lat=%{lat}<br>Lon=%{lon}<extra></extra>\",\"lat\":[39.5589474,39.1266104,39.3995067,41.48741],\"legendgroup\":\" Ohio\",\"lon\":[-84.3041074,-84.6219297,-84.5613428,-81.684896],\"marker\":{\"color\":\"#636efa\",\"size\":[131.1,126.2,125.80000000000001,118.4],\"sizemode\":\"area\",\"sizeref\":1.49},\"mode\":\"markers\",\"name\":\" Ohio\",\"showlegend\":true,\"subplot\":\"mapbox\",\"type\":\"scattermapbox\"},{\"hovertemplate\":\"State= Florida<br>Rank=%{marker.size}<br>Lat=%{lat}<br>Lon=%{lon}<extra></extra>\",\"lat\":[25.6364246,27.9184543,26.1598074,26.5999265,30.3540073,27.8778904,29.0533409],\"legendgroup\":\" Florida\",\"lon\":[-80.4989467,-82.3488057,-80.4623642,-81.8823135,-81.6632109,-82.7329309,-81.1310761],\"marker\":{\"color\":\"#EF553B\",\"size\":[131.1,128.5,127.4,127.0,124.00000000000001,122.69999999999999,119.6],\"sizemode\":\"area\",\"sizeref\":1.49},\"mode\":\"markers\",\"name\":\" Florida\",\"showlegend\":true,\"subplot\":\"mapbox\",\"type\":\"scattermapbox\"},{\"hovertemplate\":\"State= New York<br>Rank=%{marker.size}<br>Lat=%{lat}<br>Lon=%{lon}<extra></extra>\",\"lat\":[41.3304767,42.7164263,40.8466508],\"legendgroup\":\" New York\",\"lon\":[-74.1866348,-78.7620327,-73.8785937],\"marker\":{\"color\":\"#00cc96\",\"size\":[128.79999999999998,124.1,96.9],\"sizemode\":\"area\",\"sizeref\":1.49},\"mode\":\"markers\",\"name\":\" New York\",\"showlegend\":true,\"subplot\":\"mapbox\",\"type\":\"scattermapbox\"},{\"hovertemplate\":\"State= Massachusetts<br>Rank=%{marker.size}<br>Lat=%{lat}<br>Lon=%{lon}<extra></extra>\",\"lat\":[41.7425538],\"legendgroup\":\" Massachusetts\",\"lon\":[-71.0856545],\"marker\":{\"color\":\"#ab63fa\",\"size\":[128.6],\"sizemode\":\"area\",\"sizeref\":1.49},\"mode\":\"markers\",\"name\":\" Massachusetts\",\"showlegend\":true,\"subplot\":\"mapbox\",\"type\":\"scattermapbox\"},{\"hovertemplate\":\"State= Missouri<br>Rank=%{marker.size}<br>Lat=%{lat}<br>Lon=%{lon}<extra></extra>\",\"lat\":[39.03540865],\"legendgroup\":\" Missouri\",\"lon\":[-94.35827545075793],\"marker\":{\"color\":\"#FFA15A\",\"size\":[125.60000000000001],\"sizemode\":\"area\",\"sizeref\":1.49},\"mode\":\"markers\",\"name\":\" Missouri\",\"showlegend\":true,\"subplot\":\"mapbox\",\"type\":\"scattermapbox\"},{\"hovertemplate\":\"State= New Jersey<br>Rank=%{marker.size}<br>Lat=%{lat}<br>Lon=%{lon}<extra></extra>\",\"lat\":[39.977818],\"legendgroup\":\" New Jersey\",\"lon\":[-74.3319287],\"marker\":{\"color\":\"#19d3f3\",\"size\":[123.6],\"sizemode\":\"area\",\"sizeref\":1.49},\"mode\":\"markers\",\"name\":\" New Jersey\",\"showlegend\":true,\"subplot\":\"mapbox\",\"type\":\"scattermapbox\"},{\"hovertemplate\":\"State= Nevada<br>Rank=%{marker.size}<br>Lat=%{lat}<br>Lon=%{lon}<extra></extra>\",\"lat\":[36.3467726],\"legendgroup\":\" Nevada\",\"lon\":[-115.0907378],\"marker\":{\"color\":\"#FF6692\",\"size\":[122.7],\"sizemode\":\"area\",\"sizeref\":1.49},\"mode\":\"markers\",\"name\":\" Nevada\",\"showlegend\":true,\"subplot\":\"mapbox\",\"type\":\"scattermapbox\"},{\"hovertemplate\":\"State= Rhode Island<br>Rank=%{marker.size}<br>Lat=%{lat}<br>Lon=%{lon}<extra></extra>\",\"lat\":[41.8239891],\"legendgroup\":\" Rhode Island\",\"lon\":[-71.4128343],\"marker\":{\"color\":\"#B6E880\",\"size\":[121.60000000000001],\"sizemode\":\"area\",\"sizeref\":1.49},\"mode\":\"markers\",\"name\":\" Rhode Island\",\"showlegend\":true,\"subplot\":\"mapbox\",\"type\":\"scattermapbox\"},{\"hovertemplate\":\"State= Indiana<br>Rank=%{marker.size}<br>Lat=%{lat}<br>Lon=%{lon}<extra></extra>\",\"lat\":[40.5583739],\"legendgroup\":\" Indiana\",\"lon\":[-85.6591442],\"marker\":{\"color\":\"#FF97FF\",\"size\":[114.2],\"sizemode\":\"area\",\"sizeref\":1.49},\"mode\":\"markers\",\"name\":\" Indiana\",\"showlegend\":true,\"subplot\":\"mapbox\",\"type\":\"scattermapbox\"},{\"hovertemplate\":\"State= Maryland<br>Rank=%{marker.size}<br>Lat=%{lat}<br>Lon=%{lon}<extra></extra>\",\"lat\":[39.2908816],\"legendgroup\":\" Maryland\",\"lon\":[-76.610759],\"marker\":{\"color\":\"#FECB52\",\"size\":[113.0],\"sizemode\":\"area\",\"sizeref\":1.49},\"mode\":\"markers\",\"name\":\" Maryland\",\"showlegend\":true,\"subplot\":\"mapbox\",\"type\":\"scattermapbox\"}],                        {\"legend\":{\"itemsizing\":\"constant\",\"title\":{\"text\":\"State\"},\"tracegroupgap\":0},\"mapbox\":{\"accesstoken\":\"pk.eyJ1IjoiY2hpcmF0aGRldmluZGEiLCJhIjoiY2t0anlsbGc1MWdybzJ1cGF1dWNodWcwOCJ9.SsSKqiRycn7_xaVsjGIdBw\",\"center\":{\"lat\":37.1942849537037,\"lon\":-92.15600124747287},\"domain\":{\"x\":[0.0,1.0],\"y\":[0.0,1.0]},\"zoom\":3},\"template\":{\"data\":{\"bar\":[{\"error_x\":{\"color\":\"#2a3f5f\"},\"error_y\":{\"color\":\"#2a3f5f\"},\"marker\":{\"line\":{\"color\":\"#E5ECF6\",\"width\":0.5},\"pattern\":{\"fillmode\":\"overlay\",\"size\":10,\"solidity\":0.2}},\"type\":\"bar\"}],\"barpolar\":[{\"marker\":{\"line\":{\"color\":\"#E5ECF6\",\"width\":0.5},\"pattern\":{\"fillmode\":\"overlay\",\"size\":10,\"solidity\":0.2}},\"type\":\"barpolar\"}],\"carpet\":[{\"aaxis\":{\"endlinecolor\":\"#2a3f5f\",\"gridcolor\":\"white\",\"linecolor\":\"white\",\"minorgridcolor\":\"white\",\"startlinecolor\":\"#2a3f5f\"},\"baxis\":{\"endlinecolor\":\"#2a3f5f\",\"gridcolor\":\"white\",\"linecolor\":\"white\",\"minorgridcolor\":\"white\",\"startlinecolor\":\"#2a3f5f\"},\"type\":\"carpet\"}],\"choropleth\":[{\"colorbar\":{\"outlinewidth\":0,\"ticks\":\"\"},\"type\":\"choropleth\"}],\"contour\":[{\"colorbar\":{\"outlinewidth\":0,\"ticks\":\"\"},\"colorscale\":[[0.0,\"#0d0887\"],[0.1111111111111111,\"#46039f\"],[0.2222222222222222,\"#7201a8\"],[0.3333333333333333,\"#9c179e\"],[0.4444444444444444,\"#bd3786\"],[0.5555555555555556,\"#d8576b\"],[0.6666666666666666,\"#ed7953\"],[0.7777777777777778,\"#fb9f3a\"],[0.8888888888888888,\"#fdca26\"],[1.0,\"#f0f921\"]],\"type\":\"contour\"}],\"contourcarpet\":[{\"colorbar\":{\"outlinewidth\":0,\"ticks\":\"\"},\"type\":\"contourcarpet\"}],\"heatmap\":[{\"colorbar\":{\"outlinewidth\":0,\"ticks\":\"\"},\"colorscale\":[[0.0,\"#0d0887\"],[0.1111111111111111,\"#46039f\"],[0.2222222222222222,\"#7201a8\"],[0.3333333333333333,\"#9c179e\"],[0.4444444444444444,\"#bd3786\"],[0.5555555555555556,\"#d8576b\"],[0.6666666666666666,\"#ed7953\"],[0.7777777777777778,\"#fb9f3a\"],[0.8888888888888888,\"#fdca26\"],[1.0,\"#f0f921\"]],\"type\":\"heatmap\"}],\"heatmapgl\":[{\"colorbar\":{\"outlinewidth\":0,\"ticks\":\"\"},\"colorscale\":[[0.0,\"#0d0887\"],[0.1111111111111111,\"#46039f\"],[0.2222222222222222,\"#7201a8\"],[0.3333333333333333,\"#9c179e\"],[0.4444444444444444,\"#bd3786\"],[0.5555555555555556,\"#d8576b\"],[0.6666666666666666,\"#ed7953\"],[0.7777777777777778,\"#fb9f3a\"],[0.8888888888888888,\"#fdca26\"],[1.0,\"#f0f921\"]],\"type\":\"heatmapgl\"}],\"histogram\":[{\"marker\":{\"pattern\":{\"fillmode\":\"overlay\",\"size\":10,\"solidity\":0.2}},\"type\":\"histogram\"}],\"histogram2d\":[{\"colorbar\":{\"outlinewidth\":0,\"ticks\":\"\"},\"colorscale\":[[0.0,\"#0d0887\"],[0.1111111111111111,\"#46039f\"],[0.2222222222222222,\"#7201a8\"],[0.3333333333333333,\"#9c179e\"],[0.4444444444444444,\"#bd3786\"],[0.5555555555555556,\"#d8576b\"],[0.6666666666666666,\"#ed7953\"],[0.7777777777777778,\"#fb9f3a\"],[0.8888888888888888,\"#fdca26\"],[1.0,\"#f0f921\"]],\"type\":\"histogram2d\"}],\"histogram2dcontour\":[{\"colorbar\":{\"outlinewidth\":0,\"ticks\":\"\"},\"colorscale\":[[0.0,\"#0d0887\"],[0.1111111111111111,\"#46039f\"],[0.2222222222222222,\"#7201a8\"],[0.3333333333333333,\"#9c179e\"],[0.4444444444444444,\"#bd3786\"],[0.5555555555555556,\"#d8576b\"],[0.6666666666666666,\"#ed7953\"],[0.7777777777777778,\"#fb9f3a\"],[0.8888888888888888,\"#fdca26\"],[1.0,\"#f0f921\"]],\"type\":\"histogram2dcontour\"}],\"mesh3d\":[{\"colorbar\":{\"outlinewidth\":0,\"ticks\":\"\"},\"type\":\"mesh3d\"}],\"parcoords\":[{\"line\":{\"colorbar\":{\"outlinewidth\":0,\"ticks\":\"\"}},\"type\":\"parcoords\"}],\"pie\":[{\"automargin\":true,\"type\":\"pie\"}],\"scatter\":[{\"marker\":{\"colorbar\":{\"outlinewidth\":0,\"ticks\":\"\"}},\"type\":\"scatter\"}],\"scatter3d\":[{\"line\":{\"colorbar\":{\"outlinewidth\":0,\"ticks\":\"\"}},\"marker\":{\"colorbar\":{\"outlinewidth\":0,\"ticks\":\"\"}},\"type\":\"scatter3d\"}],\"scattercarpet\":[{\"marker\":{\"colorbar\":{\"outlinewidth\":0,\"ticks\":\"\"}},\"type\":\"scattercarpet\"}],\"scattergeo\":[{\"marker\":{\"colorbar\":{\"outlinewidth\":0,\"ticks\":\"\"}},\"type\":\"scattergeo\"}],\"scattergl\":[{\"marker\":{\"colorbar\":{\"outlinewidth\":0,\"ticks\":\"\"}},\"type\":\"scattergl\"}],\"scattermapbox\":[{\"marker\":{\"colorbar\":{\"outlinewidth\":0,\"ticks\":\"\"}},\"type\":\"scattermapbox\"}],\"scatterpolar\":[{\"marker\":{\"colorbar\":{\"outlinewidth\":0,\"ticks\":\"\"}},\"type\":\"scatterpolar\"}],\"scatterpolargl\":[{\"marker\":{\"colorbar\":{\"outlinewidth\":0,\"ticks\":\"\"}},\"type\":\"scatterpolargl\"}],\"scatterternary\":[{\"marker\":{\"colorbar\":{\"outlinewidth\":0,\"ticks\":\"\"}},\"type\":\"scatterternary\"}],\"surface\":[{\"colorbar\":{\"outlinewidth\":0,\"ticks\":\"\"},\"colorscale\":[[0.0,\"#0d0887\"],[0.1111111111111111,\"#46039f\"],[0.2222222222222222,\"#7201a8\"],[0.3333333333333333,\"#9c179e\"],[0.4444444444444444,\"#bd3786\"],[0.5555555555555556,\"#d8576b\"],[0.6666666666666666,\"#ed7953\"],[0.7777777777777778,\"#fb9f3a\"],[0.8888888888888888,\"#fdca26\"],[1.0,\"#f0f921\"]],\"type\":\"surface\"}],\"table\":[{\"cells\":{\"fill\":{\"color\":\"#EBF0F8\"},\"line\":{\"color\":\"white\"}},\"header\":{\"fill\":{\"color\":\"#C8D4E3\"},\"line\":{\"color\":\"white\"}},\"type\":\"table\"}]},\"layout\":{\"annotationdefaults\":{\"arrowcolor\":\"#2a3f5f\",\"arrowhead\":0,\"arrowwidth\":1},\"autotypenumbers\":\"strict\",\"coloraxis\":{\"colorbar\":{\"outlinewidth\":0,\"ticks\":\"\"}},\"colorscale\":{\"diverging\":[[0,\"#8e0152\"],[0.1,\"#c51b7d\"],[0.2,\"#de77ae\"],[0.3,\"#f1b6da\"],[0.4,\"#fde0ef\"],[0.5,\"#f7f7f7\"],[0.6,\"#e6f5d0\"],[0.7,\"#b8e186\"],[0.8,\"#7fbc41\"],[0.9,\"#4d9221\"],[1,\"#276419\"]],\"sequential\":[[0.0,\"#0d0887\"],[0.1111111111111111,\"#46039f\"],[0.2222222222222222,\"#7201a8\"],[0.3333333333333333,\"#9c179e\"],[0.4444444444444444,\"#bd3786\"],[0.5555555555555556,\"#d8576b\"],[0.6666666666666666,\"#ed7953\"],[0.7777777777777778,\"#fb9f3a\"],[0.8888888888888888,\"#fdca26\"],[1.0,\"#f0f921\"]],\"sequentialminus\":[[0.0,\"#0d0887\"],[0.1111111111111111,\"#46039f\"],[0.2222222222222222,\"#7201a8\"],[0.3333333333333333,\"#9c179e\"],[0.4444444444444444,\"#bd3786\"],[0.5555555555555556,\"#d8576b\"],[0.6666666666666666,\"#ed7953\"],[0.7777777777777778,\"#fb9f3a\"],[0.8888888888888888,\"#fdca26\"],[1.0,\"#f0f921\"]]},\"colorway\":[\"#636efa\",\"#EF553B\",\"#00cc96\",\"#ab63fa\",\"#FFA15A\",\"#19d3f3\",\"#FF6692\",\"#B6E880\",\"#FF97FF\",\"#FECB52\"],\"font\":{\"color\":\"#2a3f5f\"},\"geo\":{\"bgcolor\":\"white\",\"lakecolor\":\"white\",\"landcolor\":\"#E5ECF6\",\"showlakes\":true,\"showland\":true,\"subunitcolor\":\"white\"},\"hoverlabel\":{\"align\":\"left\"},\"hovermode\":\"closest\",\"mapbox\":{\"style\":\"light\"},\"paper_bgcolor\":\"white\",\"plot_bgcolor\":\"#E5ECF6\",\"polar\":{\"angularaxis\":{\"gridcolor\":\"white\",\"linecolor\":\"white\",\"ticks\":\"\"},\"bgcolor\":\"#E5ECF6\",\"radialaxis\":{\"gridcolor\":\"white\",\"linecolor\":\"white\",\"ticks\":\"\"}},\"scene\":{\"xaxis\":{\"backgroundcolor\":\"#E5ECF6\",\"gridcolor\":\"white\",\"gridwidth\":2,\"linecolor\":\"white\",\"showbackground\":true,\"ticks\":\"\",\"zerolinecolor\":\"white\"},\"yaxis\":{\"backgroundcolor\":\"#E5ECF6\",\"gridcolor\":\"white\",\"gridwidth\":2,\"linecolor\":\"white\",\"showbackground\":true,\"ticks\":\"\",\"zerolinecolor\":\"white\"},\"zaxis\":{\"backgroundcolor\":\"#E5ECF6\",\"gridcolor\":\"white\",\"gridwidth\":2,\"linecolor\":\"white\",\"showbackground\":true,\"ticks\":\"\",\"zerolinecolor\":\"white\"}},\"shapedefaults\":{\"line\":{\"color\":\"#2a3f5f\"}},\"ternary\":{\"aaxis\":{\"gridcolor\":\"white\",\"linecolor\":\"white\",\"ticks\":\"\"},\"baxis\":{\"gridcolor\":\"white\",\"linecolor\":\"white\",\"ticks\":\"\"},\"bgcolor\":\"#E5ECF6\",\"caxis\":{\"gridcolor\":\"white\",\"linecolor\":\"white\",\"ticks\":\"\"}},\"title\":{\"x\":0.05},\"xaxis\":{\"automargin\":true,\"gridcolor\":\"white\",\"linecolor\":\"white\",\"ticks\":\"\",\"title\":{\"standoff\":15},\"zerolinecolor\":\"white\",\"zerolinewidth\":2},\"yaxis\":{\"automargin\":true,\"gridcolor\":\"white\",\"linecolor\":\"white\",\"ticks\":\"\",\"title\":{\"standoff\":15},\"zerolinecolor\":\"white\",\"zerolinewidth\":2}}},\"title\":{\"text\":\"Top Wine States in US\"}},                        {\"responsive\": true}                    ).then(function(){\n",
       "                            \n",
       "var gd = document.getElementById('828054b6-3a1b-4281-b482-505b8c59a096');\n",
       "var x = new MutationObserver(function (mutations, observer) {{\n",
       "        var display = window.getComputedStyle(gd).display;\n",
       "        if (!display || display === 'none') {{\n",
       "            console.log([gd, 'removed!']);\n",
       "            Plotly.purge(gd);\n",
       "            observer.disconnect();\n",
       "        }}\n",
       "}});\n",
       "\n",
       "// Listen for the removal of the full notebook cells\n",
       "var notebookContainer = gd.closest('#notebook-container');\n",
       "if (notebookContainer) {{\n",
       "    x.observe(notebookContainer, {childList: true});\n",
       "}}\n",
       "\n",
       "// Listen for the clearing of the current output cell\n",
       "var outputEl = gd.closest('.output');\n",
       "if (outputEl) {{\n",
       "    x.observe(outputEl, {childList: true});\n",
       "}}\n",
       "\n",
       "                        })                };                });            </script>        </div>"
      ]
     },
     "metadata": {},
     "output_type": "display_data"
    }
   ],
   "source": [
    "# Set the mapbox access token\n",
    "px.set_mapbox_access_token(map_box_api)\n",
    "\n",
    "# Create a scatter mapbox to analyze wine states info\n",
    "map_plot = px.scatter_mapbox(\n",
    "    df,\n",
    "    lat='Lat',\n",
    "    lon='Lon',\n",
    "    color='State',\n",
    "    size='Rank',\n",
    "    title='Top Wine States in US',\n",
    "    color_continuous_scale=px.colors.sequential.Rainbow,\n",
    "    size_max=10,\n",
    "    zoom=3\n",
    ")\n",
    "\n",
    "map_plot.show()"
   ]
  },
  {
   "cell_type": "code",
   "execution_count": 28,
   "metadata": {},
   "outputs": [
    {
     "data": {
      "application/vnd.plotly.v1+json": {
       "config": {
        "plotlyServerURL": "https://plot.ly"
       },
       "data": [
        {
         "hovertemplate": "County=Gwinnett<br>Rank=%{marker.size}<br>Lat=%{lat}<br>Lon=%{lon}<extra></extra>",
         "lat": [
          33.9566869
         ],
         "legendgroup": "Gwinnett",
         "lon": [
          -84.0227467
         ],
         "marker": {
          "color": "#636efa",
          "size": [
           149
          ],
          "sizemode": "area",
          "sizeref": 5.96
         },
         "mode": "markers",
         "name": "Gwinnett",
         "showlegend": true,
         "subplot": "mapbox",
         "type": "scattermapbox"
        },
        {
         "hovertemplate": "County=Dane<br>Rank=%{marker.size}<br>Lat=%{lat}<br>Lon=%{lon}<extra></extra>",
         "lat": [
          43.2505472
         ],
         "legendgroup": "Dane",
         "lon": [
          -89.5015088
         ],
         "marker": {
          "color": "#EF553B",
          "size": [
           146.2
          ],
          "sizemode": "area",
          "sizeref": 5.96
         },
         "mode": "markers",
         "name": "Dane",
         "showlegend": true,
         "subplot": "mapbox",
         "type": "scattermapbox"
        },
        {
         "hovertemplate": "County=Williamson<br>Rank=%{marker.size}<br>Lat=%{lat}<br>Lon=%{lon}<extra></extra>",
         "lat": [
          30.6580927
         ],
         "legendgroup": "Williamson",
         "lon": [
          -97.6041649
         ],
         "marker": {
          "color": "#00cc96",
          "size": [
           145.5
          ],
          "sizemode": "area",
          "sizeref": 5.96
         },
         "mode": "markers",
         "name": "Williamson",
         "showlegend": true,
         "subplot": "mapbox",
         "type": "scattermapbox"
        },
        {
         "hovertemplate": "County=El<br>Rank=%{marker.size}<br>Lat=%{lat}<br>Lon=%{lon}<extra></extra>",
         "lat": [
          38.7251776
         ],
         "legendgroup": "El",
         "lon": [
          -105.607716
         ],
         "marker": {
          "color": "#ab63fa",
          "size": [
           143.9
          ],
          "sizemode": "area",
          "sizeref": 5.96
         },
         "mode": "markers",
         "name": "El",
         "showlegend": true,
         "subplot": "mapbox",
         "type": "scattermapbox"
        },
        {
         "hovertemplate": "County=Greenville<br>Rank=%{marker.size}<br>Lat=%{lat}<br>Lon=%{lon}<extra></extra>",
         "lat": [
          34.851354
         ],
         "legendgroup": "Greenville",
         "lon": [
          -82.3984882
         ],
         "marker": {
          "color": "#FFA15A",
          "size": [
           143.89999999999998
          ],
          "sizemode": "area",
          "sizeref": 5.96
         },
         "mode": "markers",
         "name": "Greenville",
         "showlegend": true,
         "subplot": "mapbox",
         "type": "scattermapbox"
        },
        {
         "hovertemplate": "County=Multnomah<br>Rank=%{marker.size}<br>Lat=%{lat}<br>Lon=%{lon}<extra></extra>",
         "lat": [
          45.4661508
         ],
         "legendgroup": "Multnomah",
         "lon": [
          -122.7127865
         ],
         "marker": {
          "color": "#19d3f3",
          "size": [
           140.7
          ],
          "sizemode": "area",
          "sizeref": 5.96
         },
         "mode": "markers",
         "name": "Multnomah",
         "showlegend": true,
         "subplot": "mapbox",
         "type": "scattermapbox"
        },
        {
         "hovertemplate": "County=Will<br>Rank=%{marker.size}<br>Lat=%{lat}<br>Lon=%{lon}<extra></extra>",
         "lat": [
          41.4194058
         ],
         "legendgroup": "Will",
         "lon": [
          -87.9994754
         ],
         "marker": {
          "color": "#FF6692",
          "size": [
           139
          ],
          "sizemode": "area",
          "sizeref": 5.96
         },
         "mode": "markers",
         "name": "Will",
         "showlegend": true,
         "subplot": "mapbox",
         "type": "scattermapbox"
        },
        {
         "hovertemplate": "County=Spokane<br>Rank=%{marker.size}<br>Lat=%{lat}<br>Lon=%{lon}<extra></extra>",
         "lat": [
          47.6571934
         ],
         "legendgroup": "Spokane",
         "lon": [
          -117.4235106
         ],
         "marker": {
          "color": "#B6E880",
          "size": [
           137.1
          ],
          "sizemode": "area",
          "sizeref": 5.96
         },
         "mode": "markers",
         "name": "Spokane",
         "showlegend": true,
         "subplot": "mapbox",
         "type": "scattermapbox"
        },
        {
         "hovertemplate": "County=Ramsey<br>Rank=%{marker.size}<br>Lat=%{lat}<br>Lon=%{lon}<extra></extra>",
         "lat": [
          45.0165728
         ],
         "legendgroup": "Ramsey",
         "lon": [
          -93.0949501
         ],
         "marker": {
          "color": "#FF97FF",
          "size": [
           137.1
          ],
          "sizemode": "area",
          "sizeref": 5.96
         },
         "mode": "markers",
         "name": "Ramsey",
         "showlegend": true,
         "subplot": "mapbox",
         "type": "scattermapbox"
        },
        {
         "hovertemplate": "County=Douglas<br>Rank=%{marker.size}<br>Lat=%{lat}<br>Lon=%{lon}<extra></extra>",
         "lat": [
          41.2954112
         ],
         "legendgroup": "Douglas",
         "lon": [
          -96.1415672
         ],
         "marker": {
          "color": "#FECB52",
          "size": [
           136.9
          ],
          "sizemode": "area",
          "sizeref": 5.96
         },
         "mode": "markers",
         "name": "Douglas",
         "showlegend": true,
         "subplot": "mapbox",
         "type": "scattermapbox"
        },
        {
         "hovertemplate": "County=DeKalb<br>Rank=%{marker.size}<br>Lat=%{lat}<br>Lon=%{lon}<extra></extra>",
         "lat": [
          33.7575613
         ],
         "legendgroup": "DeKalb",
         "lon": [
          -84.2186508
         ],
         "marker": {
          "color": "#636efa",
          "size": [
           136.20000000000002
          ],
          "sizemode": "area",
          "sizeref": 5.96
         },
         "mode": "markers",
         "name": "DeKalb",
         "showlegend": true,
         "subplot": "mapbox",
         "type": "scattermapbox"
        },
        {
         "hovertemplate": "County=Davidson<br>Rank=%{marker.size}<br>Lat=%{lat}<br>Lon=%{lon}<extra></extra>",
         "lat": [
          36.5681234
         ],
         "legendgroup": "Davidson",
         "lon": [
          -85.0224493
         ],
         "marker": {
          "color": "#EF553B",
          "size": [
           135.8
          ],
          "sizemode": "area",
          "sizeref": 5.96
         },
         "mode": "markers",
         "name": "Davidson",
         "showlegend": true,
         "subplot": "mapbox",
         "type": "scattermapbox"
        },
        {
         "hovertemplate": "County=Maricopa<br>Rank=%{marker.size}<br>Lat=%{lat}<br>Lon=%{lon}<extra></extra>",
         "lat": [
          33.34883
         ],
         "legendgroup": "Maricopa",
         "lon": [
          -112.49123
         ],
         "marker": {
          "color": "#00cc96",
          "size": [
           135.8
          ],
          "sizemode": "area",
          "sizeref": 5.96
         },
         "mode": "markers",
         "name": "Maricopa",
         "showlegend": true,
         "subplot": "mapbox",
         "type": "scattermapbox"
        },
        {
         "hovertemplate": "County=Kent<br>Rank=%{marker.size}<br>Lat=%{lat}<br>Lon=%{lon}<extra></extra>",
         "lat": [
          43.0024013
         ],
         "legendgroup": "Kent",
         "lon": [
          -85.5502718
         ],
         "marker": {
          "color": "#ab63fa",
          "size": [
           135.1
          ],
          "sizemode": "area",
          "sizeref": 5.96
         },
         "mode": "markers",
         "name": "Kent",
         "showlegend": true,
         "subplot": "mapbox",
         "type": "scattermapbox"
        },
        {
         "hovertemplate": "County=Jefferson<br>Rank=%{marker.size}<br>Lat=%{lat}<br>Lon=%{lon}<extra></extra>",
         "lat": [
          33.5228184,
          34.19217
         ],
         "legendgroup": "Jefferson",
         "lon": [
          -86.9164513,
          -91.992852
         ],
         "marker": {
          "color": "#FFA15A",
          "size": [
           134.9,
           131.7
          ],
          "sizemode": "area",
          "sizeref": 5.96
         },
         "mode": "markers",
         "name": "Jefferson",
         "showlegend": true,
         "subplot": "mapbox",
         "type": "scattermapbox"
        },
        {
         "hovertemplate": "County=Guilford<br>Rank=%{marker.size}<br>Lat=%{lat}<br>Lon=%{lon}<extra></extra>",
         "lat": [
          36.0768027
         ],
         "legendgroup": "Guilford",
         "lon": [
          -79.8980907
         ],
         "marker": {
          "color": "#19d3f3",
          "size": [
           133.2
          ],
          "sizemode": "area",
          "sizeref": 5.96
         },
         "mode": "markers",
         "name": "Guilford",
         "showlegend": true,
         "subplot": "mapbox",
         "type": "scattermapbox"
        },
        {
         "hovertemplate": "County=Sacramento<br>Rank=%{marker.size}<br>Lat=%{lat}<br>Lon=%{lon}<extra></extra>",
         "lat": [
          38.5810606
         ],
         "legendgroup": "Sacramento",
         "lon": [
          -121.493895
         ],
         "marker": {
          "color": "#FF6692",
          "size": [
           132.9
          ],
          "sizemode": "area",
          "sizeref": 5.96
         },
         "mode": "markers",
         "name": "Sacramento",
         "showlegend": true,
         "subplot": "mapbox",
         "type": "scattermapbox"
        },
        {
         "hovertemplate": "County=Adams<br>Rank=%{marker.size}<br>Lat=%{lat}<br>Lon=%{lon}<extra></extra>",
         "lat": [
          39.8714085
         ],
         "legendgroup": "Adams",
         "lon": [
          -104.2701374
         ],
         "marker": {
          "color": "#B6E880",
          "size": [
           132.89999999999998
          ],
          "sizemode": "area",
          "sizeref": 5.96
         },
         "mode": "markers",
         "name": "Adams",
         "showlegend": true,
         "subplot": "mapbox",
         "type": "scattermapbox"
        },
        {
         "hovertemplate": "County=Lancaster<br>Rank=%{marker.size}<br>Lat=%{lat}<br>Lon=%{lon}<extra></extra>",
         "lat": [
          40.03813
         ],
         "legendgroup": "Lancaster",
         "lon": [
          -76.3056686
         ],
         "marker": {
          "color": "#FF97FF",
          "size": [
           132.8
          ],
          "sizemode": "area",
          "sizeref": 5.96
         },
         "mode": "markers",
         "name": "Lancaster",
         "showlegend": true,
         "subplot": "mapbox",
         "type": "scattermapbox"
        },
        {
         "hovertemplate": "County=Tulsa<br>Rank=%{marker.size}<br>Lat=%{lat}<br>Lon=%{lon}<extra></extra>",
         "lat": [
          36.1556805
         ],
         "legendgroup": "Tulsa",
         "lon": [
          -95.9929113
         ],
         "marker": {
          "color": "#FECB52",
          "size": [
           132.7
          ],
          "sizemode": "area",
          "sizeref": 5.96
         },
         "mode": "markers",
         "name": "Tulsa",
         "showlegend": true,
         "subplot": "mapbox",
         "type": "scattermapbox"
        },
        {
         "hovertemplate": "County=Bernalillo<br>Rank=%{marker.size}<br>Lat=%{lat}<br>Lon=%{lon}<extra></extra>",
         "lat": [
          35.0349239
         ],
         "legendgroup": "Bernalillo",
         "lon": [
          -106.6870693
         ],
         "marker": {
          "color": "#636efa",
          "size": [
           132.10000000000002
          ],
          "sizemode": "area",
          "sizeref": 5.96
         },
         "mode": "markers",
         "name": "Bernalillo",
         "showlegend": true,
         "subplot": "mapbox",
         "type": "scattermapbox"
        },
        {
         "hovertemplate": "County=Pierce<br>Rank=%{marker.size}<br>Lat=%{lat}<br>Lon=%{lon}<extra></extra>",
         "lat": [
          46.6343532
         ],
         "legendgroup": "Pierce",
         "lon": [
          -119.4521747
         ],
         "marker": {
          "color": "#EF553B",
          "size": [
           131.9
          ],
          "sizemode": "area",
          "sizeref": 5.96
         },
         "mode": "markers",
         "name": "Pierce",
         "showlegend": true,
         "subplot": "mapbox",
         "type": "scattermapbox"
        },
        {
         "hovertemplate": "County=Franklin<br>Rank=%{marker.size}<br>Lat=%{lat}<br>Lon=%{lon}<extra></extra>",
         "lat": [
          39.5589474
         ],
         "legendgroup": "Franklin",
         "lon": [
          -84.3041074
         ],
         "marker": {
          "color": "#00cc96",
          "size": [
           131.1
          ],
          "sizemode": "area",
          "sizeref": 5.96
         },
         "mode": "markers",
         "name": "Franklin",
         "showlegend": true,
         "subplot": "mapbox",
         "type": "scattermapbox"
        },
        {
         "hovertemplate": "County=Miami-Dade<br>Rank=%{marker.size}<br>Lat=%{lat}<br>Lon=%{lon}<extra></extra>",
         "lat": [
          25.6364246
         ],
         "legendgroup": "Miami-Dade",
         "lon": [
          -80.4989467
         ],
         "marker": {
          "color": "#ab63fa",
          "size": [
           131.1
          ],
          "sizemode": "area",
          "sizeref": 5.96
         },
         "mode": "markers",
         "name": "Miami-Dade",
         "showlegend": true,
         "subplot": "mapbox",
         "type": "scattermapbox"
        },
        {
         "hovertemplate": "County=Bexar<br>Rank=%{marker.size}<br>Lat=%{lat}<br>Lon=%{lon}<extra></extra>",
         "lat": [
          29.4263987
         ],
         "legendgroup": "Bexar",
         "lon": [
          -98.5104781
         ],
         "marker": {
          "color": "#FFA15A",
          "size": [
           130.5
          ],
          "sizemode": "area",
          "sizeref": 5.96
         },
         "mode": "markers",
         "name": "Bexar",
         "showlegend": true,
         "subplot": "mapbox",
         "type": "scattermapbox"
        },
        {
         "hovertemplate": "County=Riverside<br>Rank=%{marker.size}<br>Lat=%{lat}<br>Lon=%{lon}<extra></extra>",
         "lat": [
          33.9533546
         ],
         "legendgroup": "Riverside",
         "lon": [
          -117.3961623
         ],
         "marker": {
          "color": "#19d3f3",
          "size": [
           129.7
          ],
          "sizemode": "area",
          "sizeref": 5.96
         },
         "mode": "markers",
         "name": "Riverside",
         "showlegend": true,
         "subplot": "mapbox",
         "type": "scattermapbox"
        },
        {
         "hovertemplate": "County=Monroe<br>Rank=%{marker.size}<br>Lat=%{lat}<br>Lon=%{lon}<extra></extra>",
         "lat": [
          41.3304767
         ],
         "legendgroup": "Monroe",
         "lon": [
          -74.1866348
         ],
         "marker": {
          "color": "#FF6692",
          "size": [
           128.79999999999998
          ],
          "sizemode": "area",
          "sizeref": 5.96
         },
         "mode": "markers",
         "name": "Monroe",
         "showlegend": true,
         "subplot": "mapbox",
         "type": "scattermapbox"
        },
        {
         "hovertemplate": "County=Bristol<br>Rank=%{marker.size}<br>Lat=%{lat}<br>Lon=%{lon}<extra></extra>",
         "lat": [
          41.7425538
         ],
         "legendgroup": "Bristol",
         "lon": [
          -71.0856545
         ],
         "marker": {
          "color": "#B6E880",
          "size": [
           128.6
          ],
          "sizemode": "area",
          "sizeref": 5.96
         },
         "mode": "markers",
         "name": "Bristol",
         "showlegend": true,
         "subplot": "mapbox",
         "type": "scattermapbox"
        },
        {
         "hovertemplate": "County=Hillsborough<br>Rank=%{marker.size}<br>Lat=%{lat}<br>Lon=%{lon}<extra></extra>",
         "lat": [
          27.9184543
         ],
         "legendgroup": "Hillsborough",
         "lon": [
          -82.3488057
         ],
         "marker": {
          "color": "#FF97FF",
          "size": [
           128.5
          ],
          "sizemode": "area",
          "sizeref": 5.96
         },
         "mode": "markers",
         "name": "Hillsborough",
         "showlegend": true,
         "subplot": "mapbox",
         "type": "scattermapbox"
        },
        {
         "hovertemplate": "County=Broward<br>Rank=%{marker.size}<br>Lat=%{lat}<br>Lon=%{lon}<extra></extra>",
         "lat": [
          26.1598074
         ],
         "legendgroup": "Broward",
         "lon": [
          -80.4623642
         ],
         "marker": {
          "color": "#FECB52",
          "size": [
           127.4
          ],
          "sizemode": "area",
          "sizeref": 5.96
         },
         "mode": "markers",
         "name": "Broward",
         "showlegend": true,
         "subplot": "mapbox",
         "type": "scattermapbox"
        },
        {
         "hovertemplate": "County=Lee<br>Rank=%{marker.size}<br>Lat=%{lat}<br>Lon=%{lon}<extra></extra>",
         "lat": [
          26.5999265
         ],
         "legendgroup": "Lee",
         "lon": [
          -81.8823135
         ],
         "marker": {
          "color": "#636efa",
          "size": [
           127
          ],
          "sizemode": "area",
          "sizeref": 5.96
         },
         "mode": "markers",
         "name": "Lee",
         "showlegend": true,
         "subplot": "mapbox",
         "type": "scattermapbox"
        },
        {
         "hovertemplate": "County=Summit<br>Rank=%{marker.size}<br>Lat=%{lat}<br>Lon=%{lon}<extra></extra>",
         "lat": [
          39.1266104
         ],
         "legendgroup": "Summit",
         "lon": [
          -84.6219297
         ],
         "marker": {
          "color": "#EF553B",
          "size": [
           126.2
          ],
          "sizemode": "area",
          "sizeref": 5.96
         },
         "mode": "markers",
         "name": "Summit",
         "showlegend": true,
         "subplot": "mapbox",
         "type": "scattermapbox"
        },
        {
         "hovertemplate": "County=Macomb<br>Rank=%{marker.size}<br>Lat=%{lat}<br>Lon=%{lon}<extra></extra>",
         "lat": [
          42.6741189
         ],
         "legendgroup": "Macomb",
         "lon": [
          -82.902901
         ],
         "marker": {
          "color": "#00cc96",
          "size": [
           125.9
          ],
          "sizemode": "area",
          "sizeref": 5.96
         },
         "mode": "markers",
         "name": "Macomb",
         "showlegend": true,
         "subplot": "mapbox",
         "type": "scattermapbox"
        },
        {
         "hovertemplate": "County=Hamilton<br>Rank=%{marker.size}<br>Lat=%{lat}<br>Lon=%{lon}<extra></extra>",
         "lat": [
          39.3995067
         ],
         "legendgroup": "Hamilton",
         "lon": [
          -84.5613428
         ],
         "marker": {
          "color": "#ab63fa",
          "size": [
           125.80000000000001
          ],
          "sizemode": "area",
          "sizeref": 5.96
         },
         "mode": "markers",
         "name": "Hamilton",
         "showlegend": true,
         "subplot": "mapbox",
         "type": "scattermapbox"
        },
        {
         "hovertemplate": "County=Jackson<br>Rank=%{marker.size}<br>Lat=%{lat}<br>Lon=%{lon}<extra></extra>",
         "lat": [
          39.03540865
         ],
         "legendgroup": "Jackson",
         "lon": [
          -94.35827545075793
         ],
         "marker": {
          "color": "#FFA15A",
          "size": [
           125.60000000000001
          ],
          "sizemode": "area",
          "sizeref": 5.96
         },
         "mode": "markers",
         "name": "Jackson",
         "showlegend": true,
         "subplot": "mapbox",
         "type": "scattermapbox"
        },
        {
         "hovertemplate": "County=Erie<br>Rank=%{marker.size}<br>Lat=%{lat}<br>Lon=%{lon}<extra></extra>",
         "lat": [
          42.7164263
         ],
         "legendgroup": "Erie",
         "lon": [
          -78.7620327
         ],
         "marker": {
          "color": "#19d3f3",
          "size": [
           124.1
          ],
          "sizemode": "area",
          "sizeref": 5.96
         },
         "mode": "markers",
         "name": "Erie",
         "showlegend": true,
         "subplot": "mapbox",
         "type": "scattermapbox"
        },
        {
         "hovertemplate": "County=Duval<br>Rank=%{marker.size}<br>Lat=%{lat}<br>Lon=%{lon}<extra></extra>",
         "lat": [
          30.3540073
         ],
         "legendgroup": "Duval",
         "lon": [
          -81.6632109
         ],
         "marker": {
          "color": "#FF6692",
          "size": [
           124.00000000000001
          ],
          "sizemode": "area",
          "sizeref": 5.96
         },
         "mode": "markers",
         "name": "Duval",
         "showlegend": true,
         "subplot": "mapbox",
         "type": "scattermapbox"
        },
        {
         "hovertemplate": "County=Ocean<br>Rank=%{marker.size}<br>Lat=%{lat}<br>Lon=%{lon}<extra></extra>",
         "lat": [
          39.977818
         ],
         "legendgroup": "Ocean",
         "lon": [
          -74.3319287
         ],
         "marker": {
          "color": "#B6E880",
          "size": [
           123.6
          ],
          "sizemode": "area",
          "sizeref": 5.96
         },
         "mode": "markers",
         "name": "Ocean",
         "showlegend": true,
         "subplot": "mapbox",
         "type": "scattermapbox"
        },
        {
         "hovertemplate": "County=Fresno<br>Rank=%{marker.size}<br>Lat=%{lat}<br>Lon=%{lon}<extra></extra>",
         "lat": [
          36.7394421
         ],
         "legendgroup": "Fresno",
         "lon": [
          -119.7848307
         ],
         "marker": {
          "color": "#FF97FF",
          "size": [
           123.39999999999999
          ],
          "sizemode": "area",
          "sizeref": 5.96
         },
         "mode": "markers",
         "name": "Fresno",
         "showlegend": true,
         "subplot": "mapbox",
         "type": "scattermapbox"
        },
        {
         "hovertemplate": "County=San<br>Rank=%{marker.size}<br>Lat=%{lat}<br>Lon=%{lon}<extra></extra>",
         "lat": [
          32.73336075
         ],
         "legendgroup": "San",
         "lon": [
          -117.19224641277626
         ],
         "marker": {
          "color": "#FECB52",
          "size": [
           123.10000000000001
          ],
          "sizemode": "area",
          "sizeref": 5.96
         },
         "mode": "markers",
         "name": "San",
         "showlegend": true,
         "subplot": "mapbox",
         "type": "scattermapbox"
        },
        {
         "hovertemplate": "County=Clark<br>Rank=%{marker.size}<br>Lat=%{lat}<br>Lon=%{lon}<extra></extra>",
         "lat": [
          36.3467726
         ],
         "legendgroup": "Clark",
         "lon": [
          -115.0907378
         ],
         "marker": {
          "color": "#636efa",
          "size": [
           122.7
          ],
          "sizemode": "area",
          "sizeref": 5.96
         },
         "mode": "markers",
         "name": "Clark",
         "showlegend": true,
         "subplot": "mapbox",
         "type": "scattermapbox"
        },
        {
         "hovertemplate": "County=Pinellas<br>Rank=%{marker.size}<br>Lat=%{lat}<br>Lon=%{lon}<extra></extra>",
         "lat": [
          27.8778904
         ],
         "legendgroup": "Pinellas",
         "lon": [
          -82.7329309
         ],
         "marker": {
          "color": "#EF553B",
          "size": [
           122.69999999999999
          ],
          "sizemode": "area",
          "sizeref": 5.96
         },
         "mode": "markers",
         "name": "Pinellas",
         "showlegend": true,
         "subplot": "mapbox",
         "type": "scattermapbox"
        },
        {
         "hovertemplate": "County=Providence<br>Rank=%{marker.size}<br>Lat=%{lat}<br>Lon=%{lon}<extra></extra>",
         "lat": [
          41.8239891
         ],
         "legendgroup": "Providence",
         "lon": [
          -71.4128343
         ],
         "marker": {
          "color": "#00cc96",
          "size": [
           121.60000000000001
          ],
          "sizemode": "area",
          "sizeref": 5.96
         },
         "mode": "markers",
         "name": "Providence",
         "showlegend": true,
         "subplot": "mapbox",
         "type": "scattermapbox"
        },
        {
         "hovertemplate": "County=Shelby<br>Rank=%{marker.size}<br>Lat=%{lat}<br>Lon=%{lon}<extra></extra>",
         "lat": [
          31.9565572
         ],
         "legendgroup": "Shelby",
         "lon": [
          -94.3182551
         ],
         "marker": {
          "color": "#ab63fa",
          "size": [
           120.9
          ],
          "sizemode": "area",
          "sizeref": 5.96
         },
         "mode": "markers",
         "name": "Shelby",
         "showlegend": true,
         "subplot": "mapbox",
         "type": "scattermapbox"
        },
        {
         "hovertemplate": "County=Volusia<br>Rank=%{marker.size}<br>Lat=%{lat}<br>Lon=%{lon}<extra></extra>",
         "lat": [
          29.0533409
         ],
         "legendgroup": "Volusia",
         "lon": [
          -81.1310761
         ],
         "marker": {
          "color": "#FFA15A",
          "size": [
           119.6
          ],
          "sizemode": "area",
          "sizeref": 5.96
         },
         "mode": "markers",
         "name": "Volusia",
         "showlegend": true,
         "subplot": "mapbox",
         "type": "scattermapbox"
        },
        {
         "hovertemplate": "County=Stanislaus<br>Rank=%{marker.size}<br>Lat=%{lat}<br>Lon=%{lon}<extra></extra>",
         "lat": [
          37.5500871
         ],
         "legendgroup": "Stanislaus",
         "lon": [
          -121.0501425
         ],
         "marker": {
          "color": "#19d3f3",
          "size": [
           119.6
          ],
          "sizemode": "area",
          "sizeref": 5.96
         },
         "mode": "markers",
         "name": "Stanislaus",
         "showlegend": true,
         "subplot": "mapbox",
         "type": "scattermapbox"
        },
        {
         "hovertemplate": "County=Kern<br>Rank=%{marker.size}<br>Lat=%{lat}<br>Lon=%{lon}<extra></extra>",
         "lat": [
          35.3145701
         ],
         "legendgroup": "Kern",
         "lon": [
          -118.7538222
         ],
         "marker": {
          "color": "#FF6692",
          "size": [
           118.9
          ],
          "sizemode": "area",
          "sizeref": 5.96
         },
         "mode": "markers",
         "name": "Kern",
         "showlegend": true,
         "subplot": "mapbox",
         "type": "scattermapbox"
        },
        {
         "hovertemplate": "County=Cuyahoga<br>Rank=%{marker.size}<br>Lat=%{lat}<br>Lon=%{lon}<extra></extra>",
         "lat": [
          41.48741
         ],
         "legendgroup": "Cuyahoga",
         "lon": [
          -81.684896
         ],
         "marker": {
          "color": "#B6E880",
          "size": [
           118.4
          ],
          "sizemode": "area",
          "sizeref": 5.96
         },
         "mode": "markers",
         "name": "Cuyahoga",
         "showlegend": true,
         "subplot": "mapbox",
         "type": "scattermapbox"
        },
        {
         "hovertemplate": "County=Marion<br>Rank=%{marker.size}<br>Lat=%{lat}<br>Lon=%{lon}<extra></extra>",
         "lat": [
          40.5583739
         ],
         "legendgroup": "Marion",
         "lon": [
          -85.6591442
         ],
         "marker": {
          "color": "#FF97FF",
          "size": [
           114.2
          ],
          "sizemode": "area",
          "sizeref": 5.96
         },
         "mode": "markers",
         "name": "Marion",
         "showlegend": true,
         "subplot": "mapbox",
         "type": "scattermapbox"
        },
        {
         "hovertemplate": "County=Baltimore<br>Rank=%{marker.size}<br>Lat=%{lat}<br>Lon=%{lon}<extra></extra>",
         "lat": [
          39.2908816
         ],
         "legendgroup": "Baltimore",
         "lon": [
          -76.610759
         ],
         "marker": {
          "color": "#FECB52",
          "size": [
           113
          ],
          "sizemode": "area",
          "sizeref": 5.96
         },
         "mode": "markers",
         "name": "Baltimore",
         "showlegend": true,
         "subplot": "mapbox",
         "type": "scattermapbox"
        },
        {
         "hovertemplate": "County=Philadelphia<br>Rank=%{marker.size}<br>Lat=%{lat}<br>Lon=%{lon}<extra></extra>",
         "lat": [
          39.9527237
         ],
         "legendgroup": "Philadelphia",
         "lon": [
          -75.1635262
         ],
         "marker": {
          "color": "#636efa",
          "size": [
           110.3
          ],
          "sizemode": "area",
          "sizeref": 5.96
         },
         "mode": "markers",
         "name": "Philadelphia",
         "showlegend": true,
         "subplot": "mapbox",
         "type": "scattermapbox"
        },
        {
         "hovertemplate": "County=Wayne<br>Rank=%{marker.size}<br>Lat=%{lat}<br>Lon=%{lon}<extra></extra>",
         "lat": [
          42.2682408
         ],
         "legendgroup": "Wayne",
         "lon": [
          -83.2844172
         ],
         "marker": {
          "color": "#EF553B",
          "size": [
           107
          ],
          "sizemode": "area",
          "sizeref": 5.96
         },
         "mode": "markers",
         "name": "Wayne",
         "showlegend": true,
         "subplot": "mapbox",
         "type": "scattermapbox"
        },
        {
         "hovertemplate": "County=Bronx<br>Rank=%{marker.size}<br>Lat=%{lat}<br>Lon=%{lon}<extra></extra>",
         "lat": [
          40.8466508
         ],
         "legendgroup": "Bronx",
         "lon": [
          -73.8785937
         ],
         "marker": {
          "color": "#00cc96",
          "size": [
           96.9
          ],
          "sizemode": "area",
          "sizeref": 5.96
         },
         "mode": "markers",
         "name": "Bronx",
         "showlegend": true,
         "subplot": "mapbox",
         "type": "scattermapbox"
        }
       ],
       "layout": {
        "autosize": true,
        "legend": {
         "itemsizing": "constant",
         "title": {
          "text": "County"
         },
         "tracegroupgap": 0
        },
        "mapbox": {
         "accesstoken": "pk.eyJ1IjoiY2hpcmF0aGRldmluZGEiLCJhIjoiY2t0anlsbGc1MWdybzJ1cGF1dWNodWcwOCJ9.SsSKqiRycn7_xaVsjGIdBw",
         "center": {
          "lat": 37.1942849537037,
          "lon": -92.15600124747287
         },
         "domain": {
          "x": [
           0,
           1
          ],
          "y": [
           0,
           1
          ]
         },
         "zoom": 3
        },
        "template": {
         "data": {
          "bar": [
           {
            "error_x": {
             "color": "#2a3f5f"
            },
            "error_y": {
             "color": "#2a3f5f"
            },
            "marker": {
             "line": {
              "color": "#E5ECF6",
              "width": 0.5
             },
             "pattern": {
              "fillmode": "overlay",
              "size": 10,
              "solidity": 0.2
             }
            },
            "type": "bar"
           }
          ],
          "barpolar": [
           {
            "marker": {
             "line": {
              "color": "#E5ECF6",
              "width": 0.5
             },
             "pattern": {
              "fillmode": "overlay",
              "size": 10,
              "solidity": 0.2
             }
            },
            "type": "barpolar"
           }
          ],
          "carpet": [
           {
            "aaxis": {
             "endlinecolor": "#2a3f5f",
             "gridcolor": "white",
             "linecolor": "white",
             "minorgridcolor": "white",
             "startlinecolor": "#2a3f5f"
            },
            "baxis": {
             "endlinecolor": "#2a3f5f",
             "gridcolor": "white",
             "linecolor": "white",
             "minorgridcolor": "white",
             "startlinecolor": "#2a3f5f"
            },
            "type": "carpet"
           }
          ],
          "choropleth": [
           {
            "colorbar": {
             "outlinewidth": 0,
             "ticks": ""
            },
            "type": "choropleth"
           }
          ],
          "contour": [
           {
            "colorbar": {
             "outlinewidth": 0,
             "ticks": ""
            },
            "colorscale": [
             [
              0,
              "#0d0887"
             ],
             [
              0.1111111111111111,
              "#46039f"
             ],
             [
              0.2222222222222222,
              "#7201a8"
             ],
             [
              0.3333333333333333,
              "#9c179e"
             ],
             [
              0.4444444444444444,
              "#bd3786"
             ],
             [
              0.5555555555555556,
              "#d8576b"
             ],
             [
              0.6666666666666666,
              "#ed7953"
             ],
             [
              0.7777777777777778,
              "#fb9f3a"
             ],
             [
              0.8888888888888888,
              "#fdca26"
             ],
             [
              1,
              "#f0f921"
             ]
            ],
            "type": "contour"
           }
          ],
          "contourcarpet": [
           {
            "colorbar": {
             "outlinewidth": 0,
             "ticks": ""
            },
            "type": "contourcarpet"
           }
          ],
          "heatmap": [
           {
            "colorbar": {
             "outlinewidth": 0,
             "ticks": ""
            },
            "colorscale": [
             [
              0,
              "#0d0887"
             ],
             [
              0.1111111111111111,
              "#46039f"
             ],
             [
              0.2222222222222222,
              "#7201a8"
             ],
             [
              0.3333333333333333,
              "#9c179e"
             ],
             [
              0.4444444444444444,
              "#bd3786"
             ],
             [
              0.5555555555555556,
              "#d8576b"
             ],
             [
              0.6666666666666666,
              "#ed7953"
             ],
             [
              0.7777777777777778,
              "#fb9f3a"
             ],
             [
              0.8888888888888888,
              "#fdca26"
             ],
             [
              1,
              "#f0f921"
             ]
            ],
            "type": "heatmap"
           }
          ],
          "heatmapgl": [
           {
            "colorbar": {
             "outlinewidth": 0,
             "ticks": ""
            },
            "colorscale": [
             [
              0,
              "#0d0887"
             ],
             [
              0.1111111111111111,
              "#46039f"
             ],
             [
              0.2222222222222222,
              "#7201a8"
             ],
             [
              0.3333333333333333,
              "#9c179e"
             ],
             [
              0.4444444444444444,
              "#bd3786"
             ],
             [
              0.5555555555555556,
              "#d8576b"
             ],
             [
              0.6666666666666666,
              "#ed7953"
             ],
             [
              0.7777777777777778,
              "#fb9f3a"
             ],
             [
              0.8888888888888888,
              "#fdca26"
             ],
             [
              1,
              "#f0f921"
             ]
            ],
            "type": "heatmapgl"
           }
          ],
          "histogram": [
           {
            "marker": {
             "pattern": {
              "fillmode": "overlay",
              "size": 10,
              "solidity": 0.2
             }
            },
            "type": "histogram"
           }
          ],
          "histogram2d": [
           {
            "colorbar": {
             "outlinewidth": 0,
             "ticks": ""
            },
            "colorscale": [
             [
              0,
              "#0d0887"
             ],
             [
              0.1111111111111111,
              "#46039f"
             ],
             [
              0.2222222222222222,
              "#7201a8"
             ],
             [
              0.3333333333333333,
              "#9c179e"
             ],
             [
              0.4444444444444444,
              "#bd3786"
             ],
             [
              0.5555555555555556,
              "#d8576b"
             ],
             [
              0.6666666666666666,
              "#ed7953"
             ],
             [
              0.7777777777777778,
              "#fb9f3a"
             ],
             [
              0.8888888888888888,
              "#fdca26"
             ],
             [
              1,
              "#f0f921"
             ]
            ],
            "type": "histogram2d"
           }
          ],
          "histogram2dcontour": [
           {
            "colorbar": {
             "outlinewidth": 0,
             "ticks": ""
            },
            "colorscale": [
             [
              0,
              "#0d0887"
             ],
             [
              0.1111111111111111,
              "#46039f"
             ],
             [
              0.2222222222222222,
              "#7201a8"
             ],
             [
              0.3333333333333333,
              "#9c179e"
             ],
             [
              0.4444444444444444,
              "#bd3786"
             ],
             [
              0.5555555555555556,
              "#d8576b"
             ],
             [
              0.6666666666666666,
              "#ed7953"
             ],
             [
              0.7777777777777778,
              "#fb9f3a"
             ],
             [
              0.8888888888888888,
              "#fdca26"
             ],
             [
              1,
              "#f0f921"
             ]
            ],
            "type": "histogram2dcontour"
           }
          ],
          "mesh3d": [
           {
            "colorbar": {
             "outlinewidth": 0,
             "ticks": ""
            },
            "type": "mesh3d"
           }
          ],
          "parcoords": [
           {
            "line": {
             "colorbar": {
              "outlinewidth": 0,
              "ticks": ""
             }
            },
            "type": "parcoords"
           }
          ],
          "pie": [
           {
            "automargin": true,
            "type": "pie"
           }
          ],
          "scatter": [
           {
            "marker": {
             "colorbar": {
              "outlinewidth": 0,
              "ticks": ""
             }
            },
            "type": "scatter"
           }
          ],
          "scatter3d": [
           {
            "line": {
             "colorbar": {
              "outlinewidth": 0,
              "ticks": ""
             }
            },
            "marker": {
             "colorbar": {
              "outlinewidth": 0,
              "ticks": ""
             }
            },
            "type": "scatter3d"
           }
          ],
          "scattercarpet": [
           {
            "marker": {
             "colorbar": {
              "outlinewidth": 0,
              "ticks": ""
             }
            },
            "type": "scattercarpet"
           }
          ],
          "scattergeo": [
           {
            "marker": {
             "colorbar": {
              "outlinewidth": 0,
              "ticks": ""
             }
            },
            "type": "scattergeo"
           }
          ],
          "scattergl": [
           {
            "marker": {
             "colorbar": {
              "outlinewidth": 0,
              "ticks": ""
             }
            },
            "type": "scattergl"
           }
          ],
          "scattermapbox": [
           {
            "marker": {
             "colorbar": {
              "outlinewidth": 0,
              "ticks": ""
             }
            },
            "type": "scattermapbox"
           }
          ],
          "scatterpolar": [
           {
            "marker": {
             "colorbar": {
              "outlinewidth": 0,
              "ticks": ""
             }
            },
            "type": "scatterpolar"
           }
          ],
          "scatterpolargl": [
           {
            "marker": {
             "colorbar": {
              "outlinewidth": 0,
              "ticks": ""
             }
            },
            "type": "scatterpolargl"
           }
          ],
          "scatterternary": [
           {
            "marker": {
             "colorbar": {
              "outlinewidth": 0,
              "ticks": ""
             }
            },
            "type": "scatterternary"
           }
          ],
          "surface": [
           {
            "colorbar": {
             "outlinewidth": 0,
             "ticks": ""
            },
            "colorscale": [
             [
              0,
              "#0d0887"
             ],
             [
              0.1111111111111111,
              "#46039f"
             ],
             [
              0.2222222222222222,
              "#7201a8"
             ],
             [
              0.3333333333333333,
              "#9c179e"
             ],
             [
              0.4444444444444444,
              "#bd3786"
             ],
             [
              0.5555555555555556,
              "#d8576b"
             ],
             [
              0.6666666666666666,
              "#ed7953"
             ],
             [
              0.7777777777777778,
              "#fb9f3a"
             ],
             [
              0.8888888888888888,
              "#fdca26"
             ],
             [
              1,
              "#f0f921"
             ]
            ],
            "type": "surface"
           }
          ],
          "table": [
           {
            "cells": {
             "fill": {
              "color": "#EBF0F8"
             },
             "line": {
              "color": "white"
             }
            },
            "header": {
             "fill": {
              "color": "#C8D4E3"
             },
             "line": {
              "color": "white"
             }
            },
            "type": "table"
           }
          ]
         },
         "layout": {
          "annotationdefaults": {
           "arrowcolor": "#2a3f5f",
           "arrowhead": 0,
           "arrowwidth": 1
          },
          "autotypenumbers": "strict",
          "coloraxis": {
           "colorbar": {
            "outlinewidth": 0,
            "ticks": ""
           }
          },
          "colorscale": {
           "diverging": [
            [
             0,
             "#8e0152"
            ],
            [
             0.1,
             "#c51b7d"
            ],
            [
             0.2,
             "#de77ae"
            ],
            [
             0.3,
             "#f1b6da"
            ],
            [
             0.4,
             "#fde0ef"
            ],
            [
             0.5,
             "#f7f7f7"
            ],
            [
             0.6,
             "#e6f5d0"
            ],
            [
             0.7,
             "#b8e186"
            ],
            [
             0.8,
             "#7fbc41"
            ],
            [
             0.9,
             "#4d9221"
            ],
            [
             1,
             "#276419"
            ]
           ],
           "sequential": [
            [
             0,
             "#0d0887"
            ],
            [
             0.1111111111111111,
             "#46039f"
            ],
            [
             0.2222222222222222,
             "#7201a8"
            ],
            [
             0.3333333333333333,
             "#9c179e"
            ],
            [
             0.4444444444444444,
             "#bd3786"
            ],
            [
             0.5555555555555556,
             "#d8576b"
            ],
            [
             0.6666666666666666,
             "#ed7953"
            ],
            [
             0.7777777777777778,
             "#fb9f3a"
            ],
            [
             0.8888888888888888,
             "#fdca26"
            ],
            [
             1,
             "#f0f921"
            ]
           ],
           "sequentialminus": [
            [
             0,
             "#0d0887"
            ],
            [
             0.1111111111111111,
             "#46039f"
            ],
            [
             0.2222222222222222,
             "#7201a8"
            ],
            [
             0.3333333333333333,
             "#9c179e"
            ],
            [
             0.4444444444444444,
             "#bd3786"
            ],
            [
             0.5555555555555556,
             "#d8576b"
            ],
            [
             0.6666666666666666,
             "#ed7953"
            ],
            [
             0.7777777777777778,
             "#fb9f3a"
            ],
            [
             0.8888888888888888,
             "#fdca26"
            ],
            [
             1,
             "#f0f921"
            ]
           ]
          },
          "colorway": [
           "#636efa",
           "#EF553B",
           "#00cc96",
           "#ab63fa",
           "#FFA15A",
           "#19d3f3",
           "#FF6692",
           "#B6E880",
           "#FF97FF",
           "#FECB52"
          ],
          "font": {
           "color": "#2a3f5f"
          },
          "geo": {
           "bgcolor": "white",
           "lakecolor": "white",
           "landcolor": "#E5ECF6",
           "showlakes": true,
           "showland": true,
           "subunitcolor": "white"
          },
          "hoverlabel": {
           "align": "left"
          },
          "hovermode": "closest",
          "mapbox": {
           "style": "light"
          },
          "paper_bgcolor": "white",
          "plot_bgcolor": "#E5ECF6",
          "polar": {
           "angularaxis": {
            "gridcolor": "white",
            "linecolor": "white",
            "ticks": ""
           },
           "bgcolor": "#E5ECF6",
           "radialaxis": {
            "gridcolor": "white",
            "linecolor": "white",
            "ticks": ""
           }
          },
          "scene": {
           "xaxis": {
            "backgroundcolor": "#E5ECF6",
            "gridcolor": "white",
            "gridwidth": 2,
            "linecolor": "white",
            "showbackground": true,
            "ticks": "",
            "zerolinecolor": "white"
           },
           "yaxis": {
            "backgroundcolor": "#E5ECF6",
            "gridcolor": "white",
            "gridwidth": 2,
            "linecolor": "white",
            "showbackground": true,
            "ticks": "",
            "zerolinecolor": "white"
           },
           "zaxis": {
            "backgroundcolor": "#E5ECF6",
            "gridcolor": "white",
            "gridwidth": 2,
            "linecolor": "white",
            "showbackground": true,
            "ticks": "",
            "zerolinecolor": "white"
           }
          },
          "shapedefaults": {
           "line": {
            "color": "#2a3f5f"
           }
          },
          "ternary": {
           "aaxis": {
            "gridcolor": "white",
            "linecolor": "white",
            "ticks": ""
           },
           "baxis": {
            "gridcolor": "white",
            "linecolor": "white",
            "ticks": ""
           },
           "bgcolor": "#E5ECF6",
           "caxis": {
            "gridcolor": "white",
            "linecolor": "white",
            "ticks": ""
           }
          },
          "title": {
           "x": 0.05
          },
          "xaxis": {
           "automargin": true,
           "gridcolor": "white",
           "linecolor": "white",
           "ticks": "",
           "title": {
            "standoff": 15
           },
           "zerolinecolor": "white",
           "zerolinewidth": 2
          },
          "yaxis": {
           "automargin": true,
           "gridcolor": "white",
           "linecolor": "white",
           "ticks": "",
           "title": {
            "standoff": 15
           },
           "zerolinecolor": "white",
           "zerolinewidth": 2
          }
         }
        },
        "title": {
         "text": "Top Wine Counties in US"
        }
       }
      },
      "image/png": "[encoded data removed]",
      "text/html": [
       "<div>                            <div id=\"01e196c6-85e1-4954-8091-f89719c74691\" class=\"plotly-graph-div\" style=\"height:525px; width:100%;\"></div>            <script type=\"text/javascript\">                require([\"plotly\"], function(Plotly) {                    window.PLOTLYENV=window.PLOTLYENV || {};                                    if (document.getElementById(\"01e196c6-85e1-4954-8091-f89719c74691\")) {                    Plotly.newPlot(                        \"01e196c6-85e1-4954-8091-f89719c74691\",                        [{\"hovertemplate\":\"County=Gwinnett<br>Rank=%{marker.size}<br>Lat=%{lat}<br>Lon=%{lon}<extra></extra>\",\"lat\":[33.9566869],\"legendgroup\":\"Gwinnett\",\"lon\":[-84.0227467],\"marker\":{\"color\":\"#636efa\",\"size\":[149.0],\"sizemode\":\"area\",\"sizeref\":5.96},\"mode\":\"markers\",\"name\":\"Gwinnett\",\"showlegend\":true,\"subplot\":\"mapbox\",\"type\":\"scattermapbox\"},{\"hovertemplate\":\"County=Dane<br>Rank=%{marker.size}<br>Lat=%{lat}<br>Lon=%{lon}<extra></extra>\",\"lat\":[43.2505472],\"legendgroup\":\"Dane\",\"lon\":[-89.5015088],\"marker\":{\"color\":\"#EF553B\",\"size\":[146.2],\"sizemode\":\"area\",\"sizeref\":5.96},\"mode\":\"markers\",\"name\":\"Dane\",\"showlegend\":true,\"subplot\":\"mapbox\",\"type\":\"scattermapbox\"},{\"hovertemplate\":\"County=Williamson<br>Rank=%{marker.size}<br>Lat=%{lat}<br>Lon=%{lon}<extra></extra>\",\"lat\":[30.6580927],\"legendgroup\":\"Williamson\",\"lon\":[-97.6041649],\"marker\":{\"color\":\"#00cc96\",\"size\":[145.5],\"sizemode\":\"area\",\"sizeref\":5.96},\"mode\":\"markers\",\"name\":\"Williamson\",\"showlegend\":true,\"subplot\":\"mapbox\",\"type\":\"scattermapbox\"},{\"hovertemplate\":\"County=El<br>Rank=%{marker.size}<br>Lat=%{lat}<br>Lon=%{lon}<extra></extra>\",\"lat\":[38.7251776],\"legendgroup\":\"El\",\"lon\":[-105.607716],\"marker\":{\"color\":\"#ab63fa\",\"size\":[143.9],\"sizemode\":\"area\",\"sizeref\":5.96},\"mode\":\"markers\",\"name\":\"El\",\"showlegend\":true,\"subplot\":\"mapbox\",\"type\":\"scattermapbox\"},{\"hovertemplate\":\"County=Greenville<br>Rank=%{marker.size}<br>Lat=%{lat}<br>Lon=%{lon}<extra></extra>\",\"lat\":[34.851354],\"legendgroup\":\"Greenville\",\"lon\":[-82.3984882],\"marker\":{\"color\":\"#FFA15A\",\"size\":[143.89999999999998],\"sizemode\":\"area\",\"sizeref\":5.96},\"mode\":\"markers\",\"name\":\"Greenville\",\"showlegend\":true,\"subplot\":\"mapbox\",\"type\":\"scattermapbox\"},{\"hovertemplate\":\"County=Multnomah<br>Rank=%{marker.size}<br>Lat=%{lat}<br>Lon=%{lon}<extra></extra>\",\"lat\":[45.4661508],\"legendgroup\":\"Multnomah\",\"lon\":[-122.7127865],\"marker\":{\"color\":\"#19d3f3\",\"size\":[140.7],\"sizemode\":\"area\",\"sizeref\":5.96},\"mode\":\"markers\",\"name\":\"Multnomah\",\"showlegend\":true,\"subplot\":\"mapbox\",\"type\":\"scattermapbox\"},{\"hovertemplate\":\"County=Will<br>Rank=%{marker.size}<br>Lat=%{lat}<br>Lon=%{lon}<extra></extra>\",\"lat\":[41.4194058],\"legendgroup\":\"Will\",\"lon\":[-87.9994754],\"marker\":{\"color\":\"#FF6692\",\"size\":[139.0],\"sizemode\":\"area\",\"sizeref\":5.96},\"mode\":\"markers\",\"name\":\"Will\",\"showlegend\":true,\"subplot\":\"mapbox\",\"type\":\"scattermapbox\"},{\"hovertemplate\":\"County=Spokane<br>Rank=%{marker.size}<br>Lat=%{lat}<br>Lon=%{lon}<extra></extra>\",\"lat\":[47.6571934],\"legendgroup\":\"Spokane\",\"lon\":[-117.4235106],\"marker\":{\"color\":\"#B6E880\",\"size\":[137.1],\"sizemode\":\"area\",\"sizeref\":5.96},\"mode\":\"markers\",\"name\":\"Spokane\",\"showlegend\":true,\"subplot\":\"mapbox\",\"type\":\"scattermapbox\"},{\"hovertemplate\":\"County=Ramsey<br>Rank=%{marker.size}<br>Lat=%{lat}<br>Lon=%{lon}<extra></extra>\",\"lat\":[45.0165728],\"legendgroup\":\"Ramsey\",\"lon\":[-93.0949501],\"marker\":{\"color\":\"#FF97FF\",\"size\":[137.1],\"sizemode\":\"area\",\"sizeref\":5.96},\"mode\":\"markers\",\"name\":\"Ramsey\",\"showlegend\":true,\"subplot\":\"mapbox\",\"type\":\"scattermapbox\"},{\"hovertemplate\":\"County=Douglas<br>Rank=%{marker.size}<br>Lat=%{lat}<br>Lon=%{lon}<extra></extra>\",\"lat\":[41.2954112],\"legendgroup\":\"Douglas\",\"lon\":[-96.1415672],\"marker\":{\"color\":\"#FECB52\",\"size\":[136.9],\"sizemode\":\"area\",\"sizeref\":5.96},\"mode\":\"markers\",\"name\":\"Douglas\",\"showlegend\":true,\"subplot\":\"mapbox\",\"type\":\"scattermapbox\"},{\"hovertemplate\":\"County=DeKalb<br>Rank=%{marker.size}<br>Lat=%{lat}<br>Lon=%{lon}<extra></extra>\",\"lat\":[33.7575613],\"legendgroup\":\"DeKalb\",\"lon\":[-84.2186508],\"marker\":{\"color\":\"#636efa\",\"size\":[136.20000000000002],\"sizemode\":\"area\",\"sizeref\":5.96},\"mode\":\"markers\",\"name\":\"DeKalb\",\"showlegend\":true,\"subplot\":\"mapbox\",\"type\":\"scattermapbox\"},{\"hovertemplate\":\"County=Davidson<br>Rank=%{marker.size}<br>Lat=%{lat}<br>Lon=%{lon}<extra></extra>\",\"lat\":[36.5681234],\"legendgroup\":\"Davidson\",\"lon\":[-85.0224493],\"marker\":{\"color\":\"#EF553B\",\"size\":[135.8],\"sizemode\":\"area\",\"sizeref\":5.96},\"mode\":\"markers\",\"name\":\"Davidson\",\"showlegend\":true,\"subplot\":\"mapbox\",\"type\":\"scattermapbox\"},{\"hovertemplate\":\"County=Maricopa<br>Rank=%{marker.size}<br>Lat=%{lat}<br>Lon=%{lon}<extra></extra>\",\"lat\":[33.34883],\"legendgroup\":\"Maricopa\",\"lon\":[-112.49123],\"marker\":{\"color\":\"#00cc96\",\"size\":[135.8],\"sizemode\":\"area\",\"sizeref\":5.96},\"mode\":\"markers\",\"name\":\"Maricopa\",\"showlegend\":true,\"subplot\":\"mapbox\",\"type\":\"scattermapbox\"},{\"hovertemplate\":\"County=Kent<br>Rank=%{marker.size}<br>Lat=%{lat}<br>Lon=%{lon}<extra></extra>\",\"lat\":[43.0024013],\"legendgroup\":\"Kent\",\"lon\":[-85.5502718],\"marker\":{\"color\":\"#ab63fa\",\"size\":[135.1],\"sizemode\":\"area\",\"sizeref\":5.96},\"mode\":\"markers\",\"name\":\"Kent\",\"showlegend\":true,\"subplot\":\"mapbox\",\"type\":\"scattermapbox\"},{\"hovertemplate\":\"County=Jefferson<br>Rank=%{marker.size}<br>Lat=%{lat}<br>Lon=%{lon}<extra></extra>\",\"lat\":[33.5228184,34.19217],\"legendgroup\":\"Jefferson\",\"lon\":[-86.9164513,-91.992852],\"marker\":{\"color\":\"#FFA15A\",\"size\":[134.9,131.7],\"sizemode\":\"area\",\"sizeref\":5.96},\"mode\":\"markers\",\"name\":\"Jefferson\",\"showlegend\":true,\"subplot\":\"mapbox\",\"type\":\"scattermapbox\"},{\"hovertemplate\":\"County=Guilford<br>Rank=%{marker.size}<br>Lat=%{lat}<br>Lon=%{lon}<extra></extra>\",\"lat\":[36.0768027],\"legendgroup\":\"Guilford\",\"lon\":[-79.8980907],\"marker\":{\"color\":\"#19d3f3\",\"size\":[133.2],\"sizemode\":\"area\",\"sizeref\":5.96},\"mode\":\"markers\",\"name\":\"Guilford\",\"showlegend\":true,\"subplot\":\"mapbox\",\"type\":\"scattermapbox\"},{\"hovertemplate\":\"County=Sacramento<br>Rank=%{marker.size}<br>Lat=%{lat}<br>Lon=%{lon}<extra></extra>\",\"lat\":[38.5810606],\"legendgroup\":\"Sacramento\",\"lon\":[-121.493895],\"marker\":{\"color\":\"#FF6692\",\"size\":[132.9],\"sizemode\":\"area\",\"sizeref\":5.96},\"mode\":\"markers\",\"name\":\"Sacramento\",\"showlegend\":true,\"subplot\":\"mapbox\",\"type\":\"scattermapbox\"},{\"hovertemplate\":\"County=Adams<br>Rank=%{marker.size}<br>Lat=%{lat}<br>Lon=%{lon}<extra></extra>\",\"lat\":[39.8714085],\"legendgroup\":\"Adams\",\"lon\":[-104.2701374],\"marker\":{\"color\":\"#B6E880\",\"size\":[132.89999999999998],\"sizemode\":\"area\",\"sizeref\":5.96},\"mode\":\"markers\",\"name\":\"Adams\",\"showlegend\":true,\"subplot\":\"mapbox\",\"type\":\"scattermapbox\"},{\"hovertemplate\":\"County=Lancaster<br>Rank=%{marker.size}<br>Lat=%{lat}<br>Lon=%{lon}<extra></extra>\",\"lat\":[40.03813],\"legendgroup\":\"Lancaster\",\"lon\":[-76.3056686],\"marker\":{\"color\":\"#FF97FF\",\"size\":[132.8],\"sizemode\":\"area\",\"sizeref\":5.96},\"mode\":\"markers\",\"name\":\"Lancaster\",\"showlegend\":true,\"subplot\":\"mapbox\",\"type\":\"scattermapbox\"},{\"hovertemplate\":\"County=Tulsa<br>Rank=%{marker.size}<br>Lat=%{lat}<br>Lon=%{lon}<extra></extra>\",\"lat\":[36.1556805],\"legendgroup\":\"Tulsa\",\"lon\":[-95.9929113],\"marker\":{\"color\":\"#FECB52\",\"size\":[132.7],\"sizemode\":\"area\",\"sizeref\":5.96},\"mode\":\"markers\",\"name\":\"Tulsa\",\"showlegend\":true,\"subplot\":\"mapbox\",\"type\":\"scattermapbox\"},{\"hovertemplate\":\"County=Bernalillo<br>Rank=%{marker.size}<br>Lat=%{lat}<br>Lon=%{lon}<extra></extra>\",\"lat\":[35.0349239],\"legendgroup\":\"Bernalillo\",\"lon\":[-106.6870693],\"marker\":{\"color\":\"#636efa\",\"size\":[132.10000000000002],\"sizemode\":\"area\",\"sizeref\":5.96},\"mode\":\"markers\",\"name\":\"Bernalillo\",\"showlegend\":true,\"subplot\":\"mapbox\",\"type\":\"scattermapbox\"},{\"hovertemplate\":\"County=Pierce<br>Rank=%{marker.size}<br>Lat=%{lat}<br>Lon=%{lon}<extra></extra>\",\"lat\":[46.6343532],\"legendgroup\":\"Pierce\",\"lon\":[-119.4521747],\"marker\":{\"color\":\"#EF553B\",\"size\":[131.9],\"sizemode\":\"area\",\"sizeref\":5.96},\"mode\":\"markers\",\"name\":\"Pierce\",\"showlegend\":true,\"subplot\":\"mapbox\",\"type\":\"scattermapbox\"},{\"hovertemplate\":\"County=Franklin<br>Rank=%{marker.size}<br>Lat=%{lat}<br>Lon=%{lon}<extra></extra>\",\"lat\":[39.5589474],\"legendgroup\":\"Franklin\",\"lon\":[-84.3041074],\"marker\":{\"color\":\"#00cc96\",\"size\":[131.1],\"sizemode\":\"area\",\"sizeref\":5.96},\"mode\":\"markers\",\"name\":\"Franklin\",\"showlegend\":true,\"subplot\":\"mapbox\",\"type\":\"scattermapbox\"},{\"hovertemplate\":\"County=Miami-Dade<br>Rank=%{marker.size}<br>Lat=%{lat}<br>Lon=%{lon}<extra></extra>\",\"lat\":[25.6364246],\"legendgroup\":\"Miami-Dade\",\"lon\":[-80.4989467],\"marker\":{\"color\":\"#ab63fa\",\"size\":[131.1],\"sizemode\":\"area\",\"sizeref\":5.96},\"mode\":\"markers\",\"name\":\"Miami-Dade\",\"showlegend\":true,\"subplot\":\"mapbox\",\"type\":\"scattermapbox\"},{\"hovertemplate\":\"County=Bexar<br>Rank=%{marker.size}<br>Lat=%{lat}<br>Lon=%{lon}<extra></extra>\",\"lat\":[29.4263987],\"legendgroup\":\"Bexar\",\"lon\":[-98.5104781],\"marker\":{\"color\":\"#FFA15A\",\"size\":[130.5],\"sizemode\":\"area\",\"sizeref\":5.96},\"mode\":\"markers\",\"name\":\"Bexar\",\"showlegend\":true,\"subplot\":\"mapbox\",\"type\":\"scattermapbox\"},{\"hovertemplate\":\"County=Riverside<br>Rank=%{marker.size}<br>Lat=%{lat}<br>Lon=%{lon}<extra></extra>\",\"lat\":[33.9533546],\"legendgroup\":\"Riverside\",\"lon\":[-117.3961623],\"marker\":{\"color\":\"#19d3f3\",\"size\":[129.7],\"sizemode\":\"area\",\"sizeref\":5.96},\"mode\":\"markers\",\"name\":\"Riverside\",\"showlegend\":true,\"subplot\":\"mapbox\",\"type\":\"scattermapbox\"},{\"hovertemplate\":\"County=Monroe<br>Rank=%{marker.size}<br>Lat=%{lat}<br>Lon=%{lon}<extra></extra>\",\"lat\":[41.3304767],\"legendgroup\":\"Monroe\",\"lon\":[-74.1866348],\"marker\":{\"color\":\"#FF6692\",\"size\":[128.79999999999998],\"sizemode\":\"area\",\"sizeref\":5.96},\"mode\":\"markers\",\"name\":\"Monroe\",\"showlegend\":true,\"subplot\":\"mapbox\",\"type\":\"scattermapbox\"},{\"hovertemplate\":\"County=Bristol<br>Rank=%{marker.size}<br>Lat=%{lat}<br>Lon=%{lon}<extra></extra>\",\"lat\":[41.7425538],\"legendgroup\":\"Bristol\",\"lon\":[-71.0856545],\"marker\":{\"color\":\"#B6E880\",\"size\":[128.6],\"sizemode\":\"area\",\"sizeref\":5.96},\"mode\":\"markers\",\"name\":\"Bristol\",\"showlegend\":true,\"subplot\":\"mapbox\",\"type\":\"scattermapbox\"},{\"hovertemplate\":\"County=Hillsborough<br>Rank=%{marker.size}<br>Lat=%{lat}<br>Lon=%{lon}<extra></extra>\",\"lat\":[27.9184543],\"legendgroup\":\"Hillsborough\",\"lon\":[-82.3488057],\"marker\":{\"color\":\"#FF97FF\",\"size\":[128.5],\"sizemode\":\"area\",\"sizeref\":5.96},\"mode\":\"markers\",\"name\":\"Hillsborough\",\"showlegend\":true,\"subplot\":\"mapbox\",\"type\":\"scattermapbox\"},{\"hovertemplate\":\"County=Broward<br>Rank=%{marker.size}<br>Lat=%{lat}<br>Lon=%{lon}<extra></extra>\",\"lat\":[26.1598074],\"legendgroup\":\"Broward\",\"lon\":[-80.4623642],\"marker\":{\"color\":\"#FECB52\",\"size\":[127.4],\"sizemode\":\"area\",\"sizeref\":5.96},\"mode\":\"markers\",\"name\":\"Broward\",\"showlegend\":true,\"subplot\":\"mapbox\",\"type\":\"scattermapbox\"},{\"hovertemplate\":\"County=Lee<br>Rank=%{marker.size}<br>Lat=%{lat}<br>Lon=%{lon}<extra></extra>\",\"lat\":[26.5999265],\"legendgroup\":\"Lee\",\"lon\":[-81.8823135],\"marker\":{\"color\":\"#636efa\",\"size\":[127.0],\"sizemode\":\"area\",\"sizeref\":5.96},\"mode\":\"markers\",\"name\":\"Lee\",\"showlegend\":true,\"subplot\":\"mapbox\",\"type\":\"scattermapbox\"},{\"hovertemplate\":\"County=Summit<br>Rank=%{marker.size}<br>Lat=%{lat}<br>Lon=%{lon}<extra></extra>\",\"lat\":[39.1266104],\"legendgroup\":\"Summit\",\"lon\":[-84.6219297],\"marker\":{\"color\":\"#EF553B\",\"size\":[126.2],\"sizemode\":\"area\",\"sizeref\":5.96},\"mode\":\"markers\",\"name\":\"Summit\",\"showlegend\":true,\"subplot\":\"mapbox\",\"type\":\"scattermapbox\"},{\"hovertemplate\":\"County=Macomb<br>Rank=%{marker.size}<br>Lat=%{lat}<br>Lon=%{lon}<extra></extra>\",\"lat\":[42.6741189],\"legendgroup\":\"Macomb\",\"lon\":[-82.902901],\"marker\":{\"color\":\"#00cc96\",\"size\":[125.9],\"sizemode\":\"area\",\"sizeref\":5.96},\"mode\":\"markers\",\"name\":\"Macomb\",\"showlegend\":true,\"subplot\":\"mapbox\",\"type\":\"scattermapbox\"},{\"hovertemplate\":\"County=Hamilton<br>Rank=%{marker.size}<br>Lat=%{lat}<br>Lon=%{lon}<extra></extra>\",\"lat\":[39.3995067],\"legendgroup\":\"Hamilton\",\"lon\":[-84.5613428],\"marker\":{\"color\":\"#ab63fa\",\"size\":[125.80000000000001],\"sizemode\":\"area\",\"sizeref\":5.96},\"mode\":\"markers\",\"name\":\"Hamilton\",\"showlegend\":true,\"subplot\":\"mapbox\",\"type\":\"scattermapbox\"},{\"hovertemplate\":\"County=Jackson<br>Rank=%{marker.size}<br>Lat=%{lat}<br>Lon=%{lon}<extra></extra>\",\"lat\":[39.03540865],\"legendgroup\":\"Jackson\",\"lon\":[-94.35827545075793],\"marker\":{\"color\":\"#FFA15A\",\"size\":[125.60000000000001],\"sizemode\":\"area\",\"sizeref\":5.96},\"mode\":\"markers\",\"name\":\"Jackson\",\"showlegend\":true,\"subplot\":\"mapbox\",\"type\":\"scattermapbox\"},{\"hovertemplate\":\"County=Erie<br>Rank=%{marker.size}<br>Lat=%{lat}<br>Lon=%{lon}<extra></extra>\",\"lat\":[42.7164263],\"legendgroup\":\"Erie\",\"lon\":[-78.7620327],\"marker\":{\"color\":\"#19d3f3\",\"size\":[124.1],\"sizemode\":\"area\",\"sizeref\":5.96},\"mode\":\"markers\",\"name\":\"Erie\",\"showlegend\":true,\"subplot\":\"mapbox\",\"type\":\"scattermapbox\"},{\"hovertemplate\":\"County=Duval<br>Rank=%{marker.size}<br>Lat=%{lat}<br>Lon=%{lon}<extra></extra>\",\"lat\":[30.3540073],\"legendgroup\":\"Duval\",\"lon\":[-81.6632109],\"marker\":{\"color\":\"#FF6692\",\"size\":[124.00000000000001],\"sizemode\":\"area\",\"sizeref\":5.96},\"mode\":\"markers\",\"name\":\"Duval\",\"showlegend\":true,\"subplot\":\"mapbox\",\"type\":\"scattermapbox\"},{\"hovertemplate\":\"County=Ocean<br>Rank=%{marker.size}<br>Lat=%{lat}<br>Lon=%{lon}<extra></extra>\",\"lat\":[39.977818],\"legendgroup\":\"Ocean\",\"lon\":[-74.3319287],\"marker\":{\"color\":\"#B6E880\",\"size\":[123.6],\"sizemode\":\"area\",\"sizeref\":5.96},\"mode\":\"markers\",\"name\":\"Ocean\",\"showlegend\":true,\"subplot\":\"mapbox\",\"type\":\"scattermapbox\"},{\"hovertemplate\":\"County=Fresno<br>Rank=%{marker.size}<br>Lat=%{lat}<br>Lon=%{lon}<extra></extra>\",\"lat\":[36.7394421],\"legendgroup\":\"Fresno\",\"lon\":[-119.7848307],\"marker\":{\"color\":\"#FF97FF\",\"size\":[123.39999999999999],\"sizemode\":\"area\",\"sizeref\":5.96},\"mode\":\"markers\",\"name\":\"Fresno\",\"showlegend\":true,\"subplot\":\"mapbox\",\"type\":\"scattermapbox\"},{\"hovertemplate\":\"County=San<br>Rank=%{marker.size}<br>Lat=%{lat}<br>Lon=%{lon}<extra></extra>\",\"lat\":[32.73336075],\"legendgroup\":\"San\",\"lon\":[-117.19224641277626],\"marker\":{\"color\":\"#FECB52\",\"size\":[123.10000000000001],\"sizemode\":\"area\",\"sizeref\":5.96},\"mode\":\"markers\",\"name\":\"San\",\"showlegend\":true,\"subplot\":\"mapbox\",\"type\":\"scattermapbox\"},{\"hovertemplate\":\"County=Clark<br>Rank=%{marker.size}<br>Lat=%{lat}<br>Lon=%{lon}<extra></extra>\",\"lat\":[36.3467726],\"legendgroup\":\"Clark\",\"lon\":[-115.0907378],\"marker\":{\"color\":\"#636efa\",\"size\":[122.7],\"sizemode\":\"area\",\"sizeref\":5.96},\"mode\":\"markers\",\"name\":\"Clark\",\"showlegend\":true,\"subplot\":\"mapbox\",\"type\":\"scattermapbox\"},{\"hovertemplate\":\"County=Pinellas<br>Rank=%{marker.size}<br>Lat=%{lat}<br>Lon=%{lon}<extra></extra>\",\"lat\":[27.8778904],\"legendgroup\":\"Pinellas\",\"lon\":[-82.7329309],\"marker\":{\"color\":\"#EF553B\",\"size\":[122.69999999999999],\"sizemode\":\"area\",\"sizeref\":5.96},\"mode\":\"markers\",\"name\":\"Pinellas\",\"showlegend\":true,\"subplot\":\"mapbox\",\"type\":\"scattermapbox\"},{\"hovertemplate\":\"County=Providence<br>Rank=%{marker.size}<br>Lat=%{lat}<br>Lon=%{lon}<extra></extra>\",\"lat\":[41.8239891],\"legendgroup\":\"Providence\",\"lon\":[-71.4128343],\"marker\":{\"color\":\"#00cc96\",\"size\":[121.60000000000001],\"sizemode\":\"area\",\"sizeref\":5.96},\"mode\":\"markers\",\"name\":\"Providence\",\"showlegend\":true,\"subplot\":\"mapbox\",\"type\":\"scattermapbox\"},{\"hovertemplate\":\"County=Shelby<br>Rank=%{marker.size}<br>Lat=%{lat}<br>Lon=%{lon}<extra></extra>\",\"lat\":[31.9565572],\"legendgroup\":\"Shelby\",\"lon\":[-94.3182551],\"marker\":{\"color\":\"#ab63fa\",\"size\":[120.9],\"sizemode\":\"area\",\"sizeref\":5.96},\"mode\":\"markers\",\"name\":\"Shelby\",\"showlegend\":true,\"subplot\":\"mapbox\",\"type\":\"scattermapbox\"},{\"hovertemplate\":\"County=Volusia<br>Rank=%{marker.size}<br>Lat=%{lat}<br>Lon=%{lon}<extra></extra>\",\"lat\":[29.0533409],\"legendgroup\":\"Volusia\",\"lon\":[-81.1310761],\"marker\":{\"color\":\"#FFA15A\",\"size\":[119.6],\"sizemode\":\"area\",\"sizeref\":5.96},\"mode\":\"markers\",\"name\":\"Volusia\",\"showlegend\":true,\"subplot\":\"mapbox\",\"type\":\"scattermapbox\"},{\"hovertemplate\":\"County=Stanislaus<br>Rank=%{marker.size}<br>Lat=%{lat}<br>Lon=%{lon}<extra></extra>\",\"lat\":[37.5500871],\"legendgroup\":\"Stanislaus\",\"lon\":[-121.0501425],\"marker\":{\"color\":\"#19d3f3\",\"size\":[119.6],\"sizemode\":\"area\",\"sizeref\":5.96},\"mode\":\"markers\",\"name\":\"Stanislaus\",\"showlegend\":true,\"subplot\":\"mapbox\",\"type\":\"scattermapbox\"},{\"hovertemplate\":\"County=Kern<br>Rank=%{marker.size}<br>Lat=%{lat}<br>Lon=%{lon}<extra></extra>\",\"lat\":[35.3145701],\"legendgroup\":\"Kern\",\"lon\":[-118.7538222],\"marker\":{\"color\":\"#FF6692\",\"size\":[118.9],\"sizemode\":\"area\",\"sizeref\":5.96},\"mode\":\"markers\",\"name\":\"Kern\",\"showlegend\":true,\"subplot\":\"mapbox\",\"type\":\"scattermapbox\"},{\"hovertemplate\":\"County=Cuyahoga<br>Rank=%{marker.size}<br>Lat=%{lat}<br>Lon=%{lon}<extra></extra>\",\"lat\":[41.48741],\"legendgroup\":\"Cuyahoga\",\"lon\":[-81.684896],\"marker\":{\"color\":\"#B6E880\",\"size\":[118.4],\"sizemode\":\"area\",\"sizeref\":5.96},\"mode\":\"markers\",\"name\":\"Cuyahoga\",\"showlegend\":true,\"subplot\":\"mapbox\",\"type\":\"scattermapbox\"},{\"hovertemplate\":\"County=Marion<br>Rank=%{marker.size}<br>Lat=%{lat}<br>Lon=%{lon}<extra></extra>\",\"lat\":[40.5583739],\"legendgroup\":\"Marion\",\"lon\":[-85.6591442],\"marker\":{\"color\":\"#FF97FF\",\"size\":[114.2],\"sizemode\":\"area\",\"sizeref\":5.96},\"mode\":\"markers\",\"name\":\"Marion\",\"showlegend\":true,\"subplot\":\"mapbox\",\"type\":\"scattermapbox\"},{\"hovertemplate\":\"County=Baltimore<br>Rank=%{marker.size}<br>Lat=%{lat}<br>Lon=%{lon}<extra></extra>\",\"lat\":[39.2908816],\"legendgroup\":\"Baltimore\",\"lon\":[-76.610759],\"marker\":{\"color\":\"#FECB52\",\"size\":[113.0],\"sizemode\":\"area\",\"sizeref\":5.96},\"mode\":\"markers\",\"name\":\"Baltimore\",\"showlegend\":true,\"subplot\":\"mapbox\",\"type\":\"scattermapbox\"},{\"hovertemplate\":\"County=Philadelphia<br>Rank=%{marker.size}<br>Lat=%{lat}<br>Lon=%{lon}<extra></extra>\",\"lat\":[39.9527237],\"legendgroup\":\"Philadelphia\",\"lon\":[-75.1635262],\"marker\":{\"color\":\"#636efa\",\"size\":[110.3],\"sizemode\":\"area\",\"sizeref\":5.96},\"mode\":\"markers\",\"name\":\"Philadelphia\",\"showlegend\":true,\"subplot\":\"mapbox\",\"type\":\"scattermapbox\"},{\"hovertemplate\":\"County=Wayne<br>Rank=%{marker.size}<br>Lat=%{lat}<br>Lon=%{lon}<extra></extra>\",\"lat\":[42.2682408],\"legendgroup\":\"Wayne\",\"lon\":[-83.2844172],\"marker\":{\"color\":\"#EF553B\",\"size\":[107.0],\"sizemode\":\"area\",\"sizeref\":5.96},\"mode\":\"markers\",\"name\":\"Wayne\",\"showlegend\":true,\"subplot\":\"mapbox\",\"type\":\"scattermapbox\"},{\"hovertemplate\":\"County=Bronx<br>Rank=%{marker.size}<br>Lat=%{lat}<br>Lon=%{lon}<extra></extra>\",\"lat\":[40.8466508],\"legendgroup\":\"Bronx\",\"lon\":[-73.8785937],\"marker\":{\"color\":\"#00cc96\",\"size\":[96.9],\"sizemode\":\"area\",\"sizeref\":5.96},\"mode\":\"markers\",\"name\":\"Bronx\",\"showlegend\":true,\"subplot\":\"mapbox\",\"type\":\"scattermapbox\"}],                        {\"legend\":{\"itemsizing\":\"constant\",\"title\":{\"text\":\"County\"},\"tracegroupgap\":0},\"mapbox\":{\"accesstoken\":\"pk.eyJ1IjoiY2hpcmF0aGRldmluZGEiLCJhIjoiY2t0anlsbGc1MWdybzJ1cGF1dWNodWcwOCJ9.SsSKqiRycn7_xaVsjGIdBw\",\"center\":{\"lat\":37.1942849537037,\"lon\":-92.15600124747287},\"domain\":{\"x\":[0.0,1.0],\"y\":[0.0,1.0]},\"zoom\":3},\"template\":{\"data\":{\"bar\":[{\"error_x\":{\"color\":\"#2a3f5f\"},\"error_y\":{\"color\":\"#2a3f5f\"},\"marker\":{\"line\":{\"color\":\"#E5ECF6\",\"width\":0.5},\"pattern\":{\"fillmode\":\"overlay\",\"size\":10,\"solidity\":0.2}},\"type\":\"bar\"}],\"barpolar\":[{\"marker\":{\"line\":{\"color\":\"#E5ECF6\",\"width\":0.5},\"pattern\":{\"fillmode\":\"overlay\",\"size\":10,\"solidity\":0.2}},\"type\":\"barpolar\"}],\"carpet\":[{\"aaxis\":{\"endlinecolor\":\"#2a3f5f\",\"gridcolor\":\"white\",\"linecolor\":\"white\",\"minorgridcolor\":\"white\",\"startlinecolor\":\"#2a3f5f\"},\"baxis\":{\"endlinecolor\":\"#2a3f5f\",\"gridcolor\":\"white\",\"linecolor\":\"white\",\"minorgridcolor\":\"white\",\"startlinecolor\":\"#2a3f5f\"},\"type\":\"carpet\"}],\"choropleth\":[{\"colorbar\":{\"outlinewidth\":0,\"ticks\":\"\"},\"type\":\"choropleth\"}],\"contour\":[{\"colorbar\":{\"outlinewidth\":0,\"ticks\":\"\"},\"colorscale\":[[0.0,\"#0d0887\"],[0.1111111111111111,\"#46039f\"],[0.2222222222222222,\"#7201a8\"],[0.3333333333333333,\"#9c179e\"],[0.4444444444444444,\"#bd3786\"],[0.5555555555555556,\"#d8576b\"],[0.6666666666666666,\"#ed7953\"],[0.7777777777777778,\"#fb9f3a\"],[0.8888888888888888,\"#fdca26\"],[1.0,\"#f0f921\"]],\"type\":\"contour\"}],\"contourcarpet\":[{\"colorbar\":{\"outlinewidth\":0,\"ticks\":\"\"},\"type\":\"contourcarpet\"}],\"heatmap\":[{\"colorbar\":{\"outlinewidth\":0,\"ticks\":\"\"},\"colorscale\":[[0.0,\"#0d0887\"],[0.1111111111111111,\"#46039f\"],[0.2222222222222222,\"#7201a8\"],[0.3333333333333333,\"#9c179e\"],[0.4444444444444444,\"#bd3786\"],[0.5555555555555556,\"#d8576b\"],[0.6666666666666666,\"#ed7953\"],[0.7777777777777778,\"#fb9f3a\"],[0.8888888888888888,\"#fdca26\"],[1.0,\"#f0f921\"]],\"type\":\"heatmap\"}],\"heatmapgl\":[{\"colorbar\":{\"outlinewidth\":0,\"ticks\":\"\"},\"colorscale\":[[0.0,\"#0d0887\"],[0.1111111111111111,\"#46039f\"],[0.2222222222222222,\"#7201a8\"],[0.3333333333333333,\"#9c179e\"],[0.4444444444444444,\"#bd3786\"],[0.5555555555555556,\"#d8576b\"],[0.6666666666666666,\"#ed7953\"],[0.7777777777777778,\"#fb9f3a\"],[0.8888888888888888,\"#fdca26\"],[1.0,\"#f0f921\"]],\"type\":\"heatmapgl\"}],\"histogram\":[{\"marker\":{\"pattern\":{\"fillmode\":\"overlay\",\"size\":10,\"solidity\":0.2}},\"type\":\"histogram\"}],\"histogram2d\":[{\"colorbar\":{\"outlinewidth\":0,\"ticks\":\"\"},\"colorscale\":[[0.0,\"#0d0887\"],[0.1111111111111111,\"#46039f\"],[0.2222222222222222,\"#7201a8\"],[0.3333333333333333,\"#9c179e\"],[0.4444444444444444,\"#bd3786\"],[0.5555555555555556,\"#d8576b\"],[0.6666666666666666,\"#ed7953\"],[0.7777777777777778,\"#fb9f3a\"],[0.8888888888888888,\"#fdca26\"],[1.0,\"#f0f921\"]],\"type\":\"histogram2d\"}],\"histogram2dcontour\":[{\"colorbar\":{\"outlinewidth\":0,\"ticks\":\"\"},\"colorscale\":[[0.0,\"#0d0887\"],[0.1111111111111111,\"#46039f\"],[0.2222222222222222,\"#7201a8\"],[0.3333333333333333,\"#9c179e\"],[0.4444444444444444,\"#bd3786\"],[0.5555555555555556,\"#d8576b\"],[0.6666666666666666,\"#ed7953\"],[0.7777777777777778,\"#fb9f3a\"],[0.8888888888888888,\"#fdca26\"],[1.0,\"#f0f921\"]],\"type\":\"histogram2dcontour\"}],\"mesh3d\":[{\"colorbar\":{\"outlinewidth\":0,\"ticks\":\"\"},\"type\":\"mesh3d\"}],\"parcoords\":[{\"line\":{\"colorbar\":{\"outlinewidth\":0,\"ticks\":\"\"}},\"type\":\"parcoords\"}],\"pie\":[{\"automargin\":true,\"type\":\"pie\"}],\"scatter\":[{\"marker\":{\"colorbar\":{\"outlinewidth\":0,\"ticks\":\"\"}},\"type\":\"scatter\"}],\"scatter3d\":[{\"line\":{\"colorbar\":{\"outlinewidth\":0,\"ticks\":\"\"}},\"marker\":{\"colorbar\":{\"outlinewidth\":0,\"ticks\":\"\"}},\"type\":\"scatter3d\"}],\"scattercarpet\":[{\"marker\":{\"colorbar\":{\"outlinewidth\":0,\"ticks\":\"\"}},\"type\":\"scattercarpet\"}],\"scattergeo\":[{\"marker\":{\"colorbar\":{\"outlinewidth\":0,\"ticks\":\"\"}},\"type\":\"scattergeo\"}],\"scattergl\":[{\"marker\":{\"colorbar\":{\"outlinewidth\":0,\"ticks\":\"\"}},\"type\":\"scattergl\"}],\"scattermapbox\":[{\"marker\":{\"colorbar\":{\"outlinewidth\":0,\"ticks\":\"\"}},\"type\":\"scattermapbox\"}],\"scatterpolar\":[{\"marker\":{\"colorbar\":{\"outlinewidth\":0,\"ticks\":\"\"}},\"type\":\"scatterpolar\"}],\"scatterpolargl\":[{\"marker\":{\"colorbar\":{\"outlinewidth\":0,\"ticks\":\"\"}},\"type\":\"scatterpolargl\"}],\"scatterternary\":[{\"marker\":{\"colorbar\":{\"outlinewidth\":0,\"ticks\":\"\"}},\"type\":\"scatterternary\"}],\"surface\":[{\"colorbar\":{\"outlinewidth\":0,\"ticks\":\"\"},\"colorscale\":[[0.0,\"#0d0887\"],[0.1111111111111111,\"#46039f\"],[0.2222222222222222,\"#7201a8\"],[0.3333333333333333,\"#9c179e\"],[0.4444444444444444,\"#bd3786\"],[0.5555555555555556,\"#d8576b\"],[0.6666666666666666,\"#ed7953\"],[0.7777777777777778,\"#fb9f3a\"],[0.8888888888888888,\"#fdca26\"],[1.0,\"#f0f921\"]],\"type\":\"surface\"}],\"table\":[{\"cells\":{\"fill\":{\"color\":\"#EBF0F8\"},\"line\":{\"color\":\"white\"}},\"header\":{\"fill\":{\"color\":\"#C8D4E3\"},\"line\":{\"color\":\"white\"}},\"type\":\"table\"}]},\"layout\":{\"annotationdefaults\":{\"arrowcolor\":\"#2a3f5f\",\"arrowhead\":0,\"arrowwidth\":1},\"autotypenumbers\":\"strict\",\"coloraxis\":{\"colorbar\":{\"outlinewidth\":0,\"ticks\":\"\"}},\"colorscale\":{\"diverging\":[[0,\"#8e0152\"],[0.1,\"#c51b7d\"],[0.2,\"#de77ae\"],[0.3,\"#f1b6da\"],[0.4,\"#fde0ef\"],[0.5,\"#f7f7f7\"],[0.6,\"#e6f5d0\"],[0.7,\"#b8e186\"],[0.8,\"#7fbc41\"],[0.9,\"#4d9221\"],[1,\"#276419\"]],\"sequential\":[[0.0,\"#0d0887\"],[0.1111111111111111,\"#46039f\"],[0.2222222222222222,\"#7201a8\"],[0.3333333333333333,\"#9c179e\"],[0.4444444444444444,\"#bd3786\"],[0.5555555555555556,\"#d8576b\"],[0.6666666666666666,\"#ed7953\"],[0.7777777777777778,\"#fb9f3a\"],[0.8888888888888888,\"#fdca26\"],[1.0,\"#f0f921\"]],\"sequentialminus\":[[0.0,\"#0d0887\"],[0.1111111111111111,\"#46039f\"],[0.2222222222222222,\"#7201a8\"],[0.3333333333333333,\"#9c179e\"],[0.4444444444444444,\"#bd3786\"],[0.5555555555555556,\"#d8576b\"],[0.6666666666666666,\"#ed7953\"],[0.7777777777777778,\"#fb9f3a\"],[0.8888888888888888,\"#fdca26\"],[1.0,\"#f0f921\"]]},\"colorway\":[\"#636efa\",\"#EF553B\",\"#00cc96\",\"#ab63fa\",\"#FFA15A\",\"#19d3f3\",\"#FF6692\",\"#B6E880\",\"#FF97FF\",\"#FECB52\"],\"font\":{\"color\":\"#2a3f5f\"},\"geo\":{\"bgcolor\":\"white\",\"lakecolor\":\"white\",\"landcolor\":\"#E5ECF6\",\"showlakes\":true,\"showland\":true,\"subunitcolor\":\"white\"},\"hoverlabel\":{\"align\":\"left\"},\"hovermode\":\"closest\",\"mapbox\":{\"style\":\"light\"},\"paper_bgcolor\":\"white\",\"plot_bgcolor\":\"#E5ECF6\",\"polar\":{\"angularaxis\":{\"gridcolor\":\"white\",\"linecolor\":\"white\",\"ticks\":\"\"},\"bgcolor\":\"#E5ECF6\",\"radialaxis\":{\"gridcolor\":\"white\",\"linecolor\":\"white\",\"ticks\":\"\"}},\"scene\":{\"xaxis\":{\"backgroundcolor\":\"#E5ECF6\",\"gridcolor\":\"white\",\"gridwidth\":2,\"linecolor\":\"white\",\"showbackground\":true,\"ticks\":\"\",\"zerolinecolor\":\"white\"},\"yaxis\":{\"backgroundcolor\":\"#E5ECF6\",\"gridcolor\":\"white\",\"gridwidth\":2,\"linecolor\":\"white\",\"showbackground\":true,\"ticks\":\"\",\"zerolinecolor\":\"white\"},\"zaxis\":{\"backgroundcolor\":\"#E5ECF6\",\"gridcolor\":\"white\",\"gridwidth\":2,\"linecolor\":\"white\",\"showbackground\":true,\"ticks\":\"\",\"zerolinecolor\":\"white\"}},\"shapedefaults\":{\"line\":{\"color\":\"#2a3f5f\"}},\"ternary\":{\"aaxis\":{\"gridcolor\":\"white\",\"linecolor\":\"white\",\"ticks\":\"\"},\"baxis\":{\"gridcolor\":\"white\",\"linecolor\":\"white\",\"ticks\":\"\"},\"bgcolor\":\"#E5ECF6\",\"caxis\":{\"gridcolor\":\"white\",\"linecolor\":\"white\",\"ticks\":\"\"}},\"title\":{\"x\":0.05},\"xaxis\":{\"automargin\":true,\"gridcolor\":\"white\",\"linecolor\":\"white\",\"ticks\":\"\",\"title\":{\"standoff\":15},\"zerolinecolor\":\"white\",\"zerolinewidth\":2},\"yaxis\":{\"automargin\":true,\"gridcolor\":\"white\",\"linecolor\":\"white\",\"ticks\":\"\",\"title\":{\"standoff\":15},\"zerolinecolor\":\"white\",\"zerolinewidth\":2}}},\"title\":{\"text\":\"Top Wine Counties in US\"}},                        {\"responsive\": true}                    ).then(function(){\n",
       "                            \n",
       "var gd = document.getElementById('01e196c6-85e1-4954-8091-f89719c74691');\n",
       "var x = new MutationObserver(function (mutations, observer) {{\n",
       "        var display = window.getComputedStyle(gd).display;\n",
       "        if (!display || display === 'none') {{\n",
       "            console.log([gd, 'removed!']);\n",
       "            Plotly.purge(gd);\n",
       "            observer.disconnect();\n",
       "        }}\n",
       "}});\n",
       "\n",
       "// Listen for the removal of the full notebook cells\n",
       "var notebookContainer = gd.closest('#notebook-container');\n",
       "if (notebookContainer) {{\n",
       "    x.observe(notebookContainer, {childList: true});\n",
       "}}\n",
       "\n",
       "// Listen for the clearing of the current output cell\n",
       "var outputEl = gd.closest('.output');\n",
       "if (outputEl) {{\n",
       "    x.observe(outputEl, {childList: true});\n",
       "}}\n",
       "\n",
       "                        })                };                });            </script>        </div>"
      ]
     },
     "metadata": {},
     "output_type": "display_data"
    }
   ],
   "source": [
    "# Create a scatter mapbox to analyze wine countys info\n",
    "map_plot = px.scatter_mapbox(\n",
    "    df,\n",
    "    lat='Lat',\n",
    "    lon='Lon',\n",
    "    color='County',\n",
    "    size='Rank',\n",
    "    title='Top Wine Counties in US',\n",
    "    color_continuous_scale=px.colors.sequential.Rainbow,\n",
    "    size_max=5,\n",
    "    zoom=3\n",
    ")\n",
    "\n",
    "map_plot.show()"
   ]
  },
  {
   "cell_type": "code",
   "execution_count": null,
   "metadata": {},
   "outputs": [],
   "source": []
  }
 ],
 "metadata": {
  "kernelspec": {
   "display_name": "Python 3",
   "language": "python",
   "name": "python3"
  },
  "language_info": {
   "codemirror_mode": {
    "name": "ipython",
    "version": 3
   },
   "file_extension": ".py",
   "mimetype": "text/x-python",
   "name": "python",
   "nbconvert_exporter": "python",
   "pygments_lexer": "ipython3",
   "version": "3.8.3"
  }
 },
 "nbformat": 4,
 "nbformat_minor": 4
}
