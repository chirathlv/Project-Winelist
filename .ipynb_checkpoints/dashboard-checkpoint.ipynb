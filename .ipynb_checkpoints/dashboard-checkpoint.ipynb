{
 "cells": [
  {
   "cell_type": "markdown",
   "metadata": {},
   "source": [
    "# Nationwide Customer Profile Analysis"
   ]
  },
  {
   "cell_type": "code",
   "execution_count": 1,
   "metadata": {},
   "outputs": [],
   "source": [
    "# Imports\n",
    "import os\n",
    "import requests\n",
    "import json\n",
    "from dotenv import load_dotenv\n",
    "import pandas as pd\n",
    "import numpy as np\n",
    "from geopy.geocoders import Nominatim\n",
    "import plotly.express as px"
   ]
  },
  {
   "cell_type": "code",
   "execution_count": 2,
   "metadata": {},
   "outputs": [],
   "source": [
    "# Read the Census API Key\n",
    "load_dotenv()\n",
    "CENSUS_API_KEY = os.getenv(\"census\")\n",
    "map_box_api = os.getenv(\"mapbox\")"
   ]
  },
  {
   "cell_type": "raw",
   "metadata": {},
   "source": [
    "API Parameter Definition\n",
    "'''\n",
    "Marital Status CODE: S0102_C01_028E (Estimate!!Total!!MARITAL STATUS!!Now MARRIED, except separated)\n",
    "Income CODE: S0102_C02_076E (Estimate!!INDIVIDUALS' Mean income (dollars))\n",
    "Age CODE: S0601_C03_006E (Estimate!!Total population!!AGE!!Roughly 40 to 60 years)\n",
    "Education \n",
    "    CODE: S0601_C03_035E (Estimate!!Some college or associate's degree)\n",
    "    CODE: S0601_C03_036E (Estimate!!Bachelor's degree)\n",
    "    CODE: S0601_C03_037E (Estimate!!Graduate or professional degree)\n",
    "'''"
   ]
  },
  {
   "cell_type": "code",
   "execution_count": 3,
   "metadata": {},
   "outputs": [],
   "source": [
    "# Census URL\n",
    "census_url = 'https://api.census.gov/data/2019/acs/acs1/subject?get=NAME,S0102_C01_028E,S0102_C02_076E,S0601_C03_006E,S0601_C03_035E,S0601_C03_036E,S0601_C03_037E&for=county:*&key=' + CENSUS_API_KEY"
   ]
  },
  {
   "cell_type": "code",
   "execution_count": 10,
   "metadata": {},
   "outputs": [],
   "source": [
    "# Fetiching Required Census data from an API\n",
    "res_data = requests.get(census_url).json()"
   ]
  },
  {
   "cell_type": "code",
   "execution_count": 11,
   "metadata": {},
   "outputs": [
    {
     "data": {
      "text/html": [
       "<div>\n",
       "<style scoped>\n",
       "    .dataframe tbody tr th:only-of-type {\n",
       "        vertical-align: middle;\n",
       "    }\n",
       "\n",
       "    .dataframe tbody tr th {\n",
       "        vertical-align: top;\n",
       "    }\n",
       "\n",
       "    .dataframe thead th {\n",
       "        text-align: right;\n",
       "    }\n",
       "</style>\n",
       "<table border=\"1\" class=\"dataframe\">\n",
       "  <thead>\n",
       "    <tr style=\"text-align: right;\">\n",
       "      <th></th>\n",
       "      <th>NAME</th>\n",
       "      <th>S0102_C01_028E</th>\n",
       "      <th>S0102_C02_076E</th>\n",
       "      <th>S0601_C03_006E</th>\n",
       "      <th>S0601_C03_035E</th>\n",
       "      <th>S0601_C03_036E</th>\n",
       "      <th>S0601_C03_037E</th>\n",
       "      <th>state</th>\n",
       "      <th>county</th>\n",
       "    </tr>\n",
       "  </thead>\n",
       "  <tbody>\n",
       "    <tr>\n",
       "      <th>0</th>\n",
       "      <td>Jefferson County, Kentucky</td>\n",
       "      <td>44.1</td>\n",
       "      <td>64495</td>\n",
       "      <td>13.2</td>\n",
       "      <td>30.3</td>\n",
       "      <td>25.5</td>\n",
       "      <td>18.6</td>\n",
       "      <td>21</td>\n",
       "      <td>111</td>\n",
       "    </tr>\n",
       "    <tr>\n",
       "      <th>1</th>\n",
       "      <td>Hennepin County, Minnesota</td>\n",
       "      <td>47.1</td>\n",
       "      <td>85434</td>\n",
       "      <td>15.0</td>\n",
       "      <td>24.8</td>\n",
       "      <td>35.9</td>\n",
       "      <td>23.8</td>\n",
       "      <td>27</td>\n",
       "      <td>053</td>\n",
       "    </tr>\n",
       "    <tr>\n",
       "      <th>2</th>\n",
       "      <td>Olmsted County, Minnesota</td>\n",
       "      <td>None</td>\n",
       "      <td>None</td>\n",
       "      <td>12.8</td>\n",
       "      <td>23.8</td>\n",
       "      <td>29.0</td>\n",
       "      <td>30.7</td>\n",
       "      <td>27</td>\n",
       "      <td>109</td>\n",
       "    </tr>\n",
       "    <tr>\n",
       "      <th>3</th>\n",
       "      <td>Scott County, Minnesota</td>\n",
       "      <td>None</td>\n",
       "      <td>None</td>\n",
       "      <td>22.3</td>\n",
       "      <td>28.8</td>\n",
       "      <td>39.3</td>\n",
       "      <td>15.8</td>\n",
       "      <td>27</td>\n",
       "      <td>139</td>\n",
       "    </tr>\n",
       "    <tr>\n",
       "      <th>4</th>\n",
       "      <td>Faulkner County, Arkansas</td>\n",
       "      <td>None</td>\n",
       "      <td>None</td>\n",
       "      <td>14.8</td>\n",
       "      <td>35.1</td>\n",
       "      <td>21.0</td>\n",
       "      <td>9.5</td>\n",
       "      <td>05</td>\n",
       "      <td>045</td>\n",
       "    </tr>\n",
       "  </tbody>\n",
       "</table>\n",
       "</div>"
      ],
      "text/plain": [
       "                         NAME S0102_C01_028E S0102_C02_076E S0601_C03_006E  \\\n",
       "0  Jefferson County, Kentucky           44.1          64495           13.2   \n",
       "1  Hennepin County, Minnesota           47.1          85434           15.0   \n",
       "2   Olmsted County, Minnesota           None           None           12.8   \n",
       "3     Scott County, Minnesota           None           None           22.3   \n",
       "4   Faulkner County, Arkansas           None           None           14.8   \n",
       "\n",
       "  S0601_C03_035E S0601_C03_036E S0601_C03_037E state county  \n",
       "0           30.3           25.5           18.6    21    111  \n",
       "1           24.8           35.9           23.8    27    053  \n",
       "2           23.8           29.0           30.7    27    109  \n",
       "3           28.8           39.3           15.8    27    139  \n",
       "4           35.1           21.0            9.5    05    045  "
      ]
     },
     "execution_count": 11,
     "metadata": {},
     "output_type": "execute_result"
    }
   ],
   "source": [
    "# Convert the Census Data into a DataFrame\n",
    "census_data = pd.DataFrame(res_data[1:], columns=res_data[0])\n",
    "census_data.head()"
   ]
  },
  {
   "cell_type": "code",
   "execution_count": 12,
   "metadata": {},
   "outputs": [
    {
     "data": {
      "text/html": [
       "<div>\n",
       "<style scoped>\n",
       "    .dataframe tbody tr th:only-of-type {\n",
       "        vertical-align: middle;\n",
       "    }\n",
       "\n",
       "    .dataframe tbody tr th {\n",
       "        vertical-align: top;\n",
       "    }\n",
       "\n",
       "    .dataframe thead th {\n",
       "        text-align: right;\n",
       "    }\n",
       "</style>\n",
       "<table border=\"1\" class=\"dataframe\">\n",
       "  <thead>\n",
       "    <tr style=\"text-align: right;\">\n",
       "      <th></th>\n",
       "      <th>S0102_C01_028E</th>\n",
       "      <th>S0102_C02_076E</th>\n",
       "      <th>S0601_C03_006E</th>\n",
       "      <th>S0601_C03_035E</th>\n",
       "      <th>S0601_C03_036E</th>\n",
       "      <th>S0601_C03_037E</th>\n",
       "      <th>state</th>\n",
       "      <th>county</th>\n",
       "      <th>County</th>\n",
       "      <th>State</th>\n",
       "    </tr>\n",
       "  </thead>\n",
       "  <tbody>\n",
       "    <tr>\n",
       "      <th>0</th>\n",
       "      <td>44.1</td>\n",
       "      <td>64495</td>\n",
       "      <td>13.2</td>\n",
       "      <td>30.3</td>\n",
       "      <td>25.5</td>\n",
       "      <td>18.6</td>\n",
       "      <td>21</td>\n",
       "      <td>111</td>\n",
       "      <td>Jefferson</td>\n",
       "      <td>Kentucky</td>\n",
       "    </tr>\n",
       "    <tr>\n",
       "      <th>1</th>\n",
       "      <td>47.1</td>\n",
       "      <td>85434</td>\n",
       "      <td>15.0</td>\n",
       "      <td>24.8</td>\n",
       "      <td>35.9</td>\n",
       "      <td>23.8</td>\n",
       "      <td>27</td>\n",
       "      <td>053</td>\n",
       "      <td>Hennepin</td>\n",
       "      <td>Minnesota</td>\n",
       "    </tr>\n",
       "    <tr>\n",
       "      <th>2</th>\n",
       "      <td>None</td>\n",
       "      <td>None</td>\n",
       "      <td>12.8</td>\n",
       "      <td>23.8</td>\n",
       "      <td>29.0</td>\n",
       "      <td>30.7</td>\n",
       "      <td>27</td>\n",
       "      <td>109</td>\n",
       "      <td>Olmsted</td>\n",
       "      <td>Minnesota</td>\n",
       "    </tr>\n",
       "    <tr>\n",
       "      <th>3</th>\n",
       "      <td>None</td>\n",
       "      <td>None</td>\n",
       "      <td>22.3</td>\n",
       "      <td>28.8</td>\n",
       "      <td>39.3</td>\n",
       "      <td>15.8</td>\n",
       "      <td>27</td>\n",
       "      <td>139</td>\n",
       "      <td>Scott</td>\n",
       "      <td>Minnesota</td>\n",
       "    </tr>\n",
       "    <tr>\n",
       "      <th>4</th>\n",
       "      <td>None</td>\n",
       "      <td>None</td>\n",
       "      <td>14.8</td>\n",
       "      <td>35.1</td>\n",
       "      <td>21.0</td>\n",
       "      <td>9.5</td>\n",
       "      <td>05</td>\n",
       "      <td>045</td>\n",
       "      <td>Faulkner</td>\n",
       "      <td>Arkansas</td>\n",
       "    </tr>\n",
       "  </tbody>\n",
       "</table>\n",
       "</div>"
      ],
      "text/plain": [
       "  S0102_C01_028E S0102_C02_076E S0601_C03_006E S0601_C03_035E S0601_C03_036E  \\\n",
       "0           44.1          64495           13.2           30.3           25.5   \n",
       "1           47.1          85434           15.0           24.8           35.9   \n",
       "2           None           None           12.8           23.8           29.0   \n",
       "3           None           None           22.3           28.8           39.3   \n",
       "4           None           None           14.8           35.1           21.0   \n",
       "\n",
       "  S0601_C03_037E state county     County       State  \n",
       "0           18.6    21    111  Jefferson    Kentucky  \n",
       "1           23.8    27    053   Hennepin   Minnesota  \n",
       "2           30.7    27    109    Olmsted   Minnesota  \n",
       "3           15.8    27    139      Scott   Minnesota  \n",
       "4            9.5    05    045   Faulkner    Arkansas  "
      ]
     },
     "execution_count": 12,
     "metadata": {},
     "output_type": "execute_result"
    }
   ],
   "source": [
    "# Split the NAME column into County and State\n",
    "census_data[['County', 'State']] = census_data['NAME'].str.split(',', 1, expand=True)\n",
    "census_data['County'] = census_data['County'].str.split(expand=True)\n",
    "\n",
    "# Drop the NAME Column\n",
    "census_data.drop(columns='NAME', inplace=True)\n",
    "census_data.head()"
   ]
  },
  {
   "cell_type": "code",
   "execution_count": 13,
   "metadata": {},
   "outputs": [],
   "source": [
    "# Drop state code and county code columns\n",
    "census_data.drop(columns=['state','county'], inplace=True)"
   ]
  },
  {
   "cell_type": "code",
   "execution_count": 14,
   "metadata": {},
   "outputs": [
    {
     "data": {
      "text/html": [
       "<div>\n",
       "<style scoped>\n",
       "    .dataframe tbody tr th:only-of-type {\n",
       "        vertical-align: middle;\n",
       "    }\n",
       "\n",
       "    .dataframe tbody tr th {\n",
       "        vertical-align: top;\n",
       "    }\n",
       "\n",
       "    .dataframe thead th {\n",
       "        text-align: right;\n",
       "    }\n",
       "</style>\n",
       "<table border=\"1\" class=\"dataframe\">\n",
       "  <thead>\n",
       "    <tr style=\"text-align: right;\">\n",
       "      <th></th>\n",
       "      <th>S0102_C01_028E</th>\n",
       "      <th>S0102_C02_076E</th>\n",
       "      <th>S0601_C03_006E</th>\n",
       "      <th>County</th>\n",
       "      <th>State</th>\n",
       "      <th>Education_Pop</th>\n",
       "    </tr>\n",
       "  </thead>\n",
       "  <tbody>\n",
       "    <tr>\n",
       "      <th>0</th>\n",
       "      <td>44.1</td>\n",
       "      <td>64495</td>\n",
       "      <td>13.2</td>\n",
       "      <td>Jefferson</td>\n",
       "      <td>Kentucky</td>\n",
       "      <td>74.4</td>\n",
       "    </tr>\n",
       "    <tr>\n",
       "      <th>1</th>\n",
       "      <td>47.1</td>\n",
       "      <td>85434</td>\n",
       "      <td>15.0</td>\n",
       "      <td>Hennepin</td>\n",
       "      <td>Minnesota</td>\n",
       "      <td>84.5</td>\n",
       "    </tr>\n",
       "    <tr>\n",
       "      <th>2</th>\n",
       "      <td>None</td>\n",
       "      <td>None</td>\n",
       "      <td>12.8</td>\n",
       "      <td>Olmsted</td>\n",
       "      <td>Minnesota</td>\n",
       "      <td>83.5</td>\n",
       "    </tr>\n",
       "    <tr>\n",
       "      <th>3</th>\n",
       "      <td>None</td>\n",
       "      <td>None</td>\n",
       "      <td>22.3</td>\n",
       "      <td>Scott</td>\n",
       "      <td>Minnesota</td>\n",
       "      <td>83.9</td>\n",
       "    </tr>\n",
       "    <tr>\n",
       "      <th>4</th>\n",
       "      <td>None</td>\n",
       "      <td>None</td>\n",
       "      <td>14.8</td>\n",
       "      <td>Faulkner</td>\n",
       "      <td>Arkansas</td>\n",
       "      <td>65.6</td>\n",
       "    </tr>\n",
       "  </tbody>\n",
       "</table>\n",
       "</div>"
      ],
      "text/plain": [
       "  S0102_C01_028E S0102_C02_076E S0601_C03_006E     County       State  \\\n",
       "0           44.1          64495           13.2  Jefferson    Kentucky   \n",
       "1           47.1          85434           15.0   Hennepin   Minnesota   \n",
       "2           None           None           12.8    Olmsted   Minnesota   \n",
       "3           None           None           22.3      Scott   Minnesota   \n",
       "4           None           None           14.8   Faulkner    Arkansas   \n",
       "\n",
       "   Education_Pop  \n",
       "0           74.4  \n",
       "1           84.5  \n",
       "2           83.5  \n",
       "3           83.9  \n",
       "4           65.6  "
      ]
     },
     "execution_count": 14,
     "metadata": {},
     "output_type": "execute_result"
    }
   ],
   "source": [
    "# Education Count Column = All the College Degree +  Bachelor Degree + professional Degree Population\n",
    "census_data['Education_Pop'] = census_data['S0601_C03_035E'].astype(np.float) + census_data['S0601_C03_036E'].astype(np.float) + census_data['S0601_C03_037E'].astype(np.float)\n",
    "census_data.drop(columns=['S0601_C03_035E','S0601_C03_036E','S0601_C03_037E'], inplace=True)\n",
    "census_data.head()"
   ]
  },
  {
   "cell_type": "code",
   "execution_count": 15,
   "metadata": {},
   "outputs": [
    {
     "data": {
      "text/html": [
       "<div>\n",
       "<style scoped>\n",
       "    .dataframe tbody tr th:only-of-type {\n",
       "        vertical-align: middle;\n",
       "    }\n",
       "\n",
       "    .dataframe tbody tr th {\n",
       "        vertical-align: top;\n",
       "    }\n",
       "\n",
       "    .dataframe thead th {\n",
       "        text-align: right;\n",
       "    }\n",
       "</style>\n",
       "<table border=\"1\" class=\"dataframe\">\n",
       "  <thead>\n",
       "    <tr style=\"text-align: right;\">\n",
       "      <th></th>\n",
       "      <th>Marital_Pop</th>\n",
       "      <th>Income</th>\n",
       "      <th>Age_Pop</th>\n",
       "      <th>County</th>\n",
       "      <th>State</th>\n",
       "      <th>Education_Pop</th>\n",
       "    </tr>\n",
       "  </thead>\n",
       "  <tbody>\n",
       "    <tr>\n",
       "      <th>0</th>\n",
       "      <td>44.1</td>\n",
       "      <td>64495</td>\n",
       "      <td>13.2</td>\n",
       "      <td>Jefferson</td>\n",
       "      <td>Kentucky</td>\n",
       "      <td>74.4</td>\n",
       "    </tr>\n",
       "    <tr>\n",
       "      <th>1</th>\n",
       "      <td>47.1</td>\n",
       "      <td>85434</td>\n",
       "      <td>15.0</td>\n",
       "      <td>Hennepin</td>\n",
       "      <td>Minnesota</td>\n",
       "      <td>84.5</td>\n",
       "    </tr>\n",
       "    <tr>\n",
       "      <th>2</th>\n",
       "      <td>None</td>\n",
       "      <td>None</td>\n",
       "      <td>12.8</td>\n",
       "      <td>Olmsted</td>\n",
       "      <td>Minnesota</td>\n",
       "      <td>83.5</td>\n",
       "    </tr>\n",
       "    <tr>\n",
       "      <th>3</th>\n",
       "      <td>None</td>\n",
       "      <td>None</td>\n",
       "      <td>22.3</td>\n",
       "      <td>Scott</td>\n",
       "      <td>Minnesota</td>\n",
       "      <td>83.9</td>\n",
       "    </tr>\n",
       "    <tr>\n",
       "      <th>4</th>\n",
       "      <td>None</td>\n",
       "      <td>None</td>\n",
       "      <td>14.8</td>\n",
       "      <td>Faulkner</td>\n",
       "      <td>Arkansas</td>\n",
       "      <td>65.6</td>\n",
       "    </tr>\n",
       "  </tbody>\n",
       "</table>\n",
       "</div>"
      ],
      "text/plain": [
       "  Marital_Pop Income Age_Pop     County       State  Education_Pop\n",
       "0        44.1  64495    13.2  Jefferson    Kentucky           74.4\n",
       "1        47.1  85434    15.0   Hennepin   Minnesota           84.5\n",
       "2        None   None    12.8    Olmsted   Minnesota           83.5\n",
       "3        None   None    22.3      Scott   Minnesota           83.9\n",
       "4        None   None    14.8   Faulkner    Arkansas           65.6"
      ]
     },
     "execution_count": 15,
     "metadata": {},
     "output_type": "execute_result"
    }
   ],
   "source": [
    "# Defining each column with Meaningfull data definition\n",
    "census_data.rename(columns={\n",
    "    'S0102_C01_028E': 'Marital_Pop',\n",
    "    'S0102_C02_076E': 'Income',\n",
    "    'S0601_C03_006E': 'Age_Pop'\n",
    "}, inplace=True)\n",
    "census_data.head()"
   ]
  },
  {
   "cell_type": "code",
   "execution_count": 16,
   "metadata": {},
   "outputs": [],
   "source": [
    "# dropping all the None values\n",
    "census_data.dropna(inplace=True)"
   ]
  },
  {
   "cell_type": "code",
   "execution_count": 17,
   "metadata": {},
   "outputs": [],
   "source": [
    "# Remove all the duplicates\n",
    "census_data.drop_duplicates(inplace=True)"
   ]
  },
  {
   "cell_type": "code",
   "execution_count": 18,
   "metadata": {},
   "outputs": [
    {
     "data": {
      "text/plain": [
       "Marital_Pop       object\n",
       "Income            object\n",
       "Age_Pop           object\n",
       "County            object\n",
       "State             object\n",
       "Education_Pop    float64\n",
       "dtype: object"
      ]
     },
     "execution_count": 18,
     "metadata": {},
     "output_type": "execute_result"
    }
   ],
   "source": [
    "# inspecting Data Types\n",
    "census_data.dtypes"
   ]
  },
  {
   "cell_type": "code",
   "execution_count": 20,
   "metadata": {},
   "outputs": [],
   "source": [
    "# Converting String Numeric columns to Numeric\n",
    "census_data['Marital_Pop'] = census_data['Marital_Pop'].astype(np.float)\n",
    "census_data['Income'] = census_data['Income'].astype(np.int)\n",
    "census_data['Age_Pop'] = census_data['Age_Pop'].astype(np.float)\n",
    "census_data['Education_Pop'] = census_data['Education_Pop'].astype(np.float)"
   ]
  },
  {
   "cell_type": "code",
   "execution_count": 21,
   "metadata": {},
   "outputs": [
    {
     "data": {
      "text/html": [
       "<div>\n",
       "<style scoped>\n",
       "    .dataframe tbody tr th:only-of-type {\n",
       "        vertical-align: middle;\n",
       "    }\n",
       "\n",
       "    .dataframe tbody tr th {\n",
       "        vertical-align: top;\n",
       "    }\n",
       "\n",
       "    .dataframe thead th {\n",
       "        text-align: right;\n",
       "    }\n",
       "</style>\n",
       "<table border=\"1\" class=\"dataframe\">\n",
       "  <thead>\n",
       "    <tr style=\"text-align: right;\">\n",
       "      <th></th>\n",
       "      <th>Marital_Pop</th>\n",
       "      <th>Income</th>\n",
       "      <th>Age_Pop</th>\n",
       "      <th>County</th>\n",
       "      <th>State</th>\n",
       "      <th>Education_Pop</th>\n",
       "    </tr>\n",
       "  </thead>\n",
       "  <tbody>\n",
       "    <tr>\n",
       "      <th>0</th>\n",
       "      <td>44.1</td>\n",
       "      <td>64495</td>\n",
       "      <td>13.2</td>\n",
       "      <td>Jefferson</td>\n",
       "      <td>Kentucky</td>\n",
       "      <td>74.4</td>\n",
       "    </tr>\n",
       "    <tr>\n",
       "      <th>1</th>\n",
       "      <td>47.1</td>\n",
       "      <td>85434</td>\n",
       "      <td>15.0</td>\n",
       "      <td>Hennepin</td>\n",
       "      <td>Minnesota</td>\n",
       "      <td>84.5</td>\n",
       "    </tr>\n",
       "    <tr>\n",
       "      <th>6</th>\n",
       "      <td>48.6</td>\n",
       "      <td>57972</td>\n",
       "      <td>13.7</td>\n",
       "      <td>Sedgwick</td>\n",
       "      <td>Kansas</td>\n",
       "      <td>68.0</td>\n",
       "    </tr>\n",
       "    <tr>\n",
       "      <th>9</th>\n",
       "      <td>45.7</td>\n",
       "      <td>80766</td>\n",
       "      <td>11.4</td>\n",
       "      <td>Allegheny</td>\n",
       "      <td>Pennsylvania</td>\n",
       "      <td>82.0</td>\n",
       "    </tr>\n",
       "    <tr>\n",
       "      <th>14</th>\n",
       "      <td>54.8</td>\n",
       "      <td>104728</td>\n",
       "      <td>16.0</td>\n",
       "      <td>Chester</td>\n",
       "      <td>Pennsylvania</td>\n",
       "      <td>84.0</td>\n",
       "    </tr>\n",
       "  </tbody>\n",
       "</table>\n",
       "</div>"
      ],
      "text/plain": [
       "    Marital_Pop  Income  Age_Pop     County          State  Education_Pop\n",
       "0          44.1   64495     13.2  Jefferson       Kentucky           74.4\n",
       "1          47.1   85434     15.0   Hennepin      Minnesota           84.5\n",
       "6          48.6   57972     13.7   Sedgwick         Kansas           68.0\n",
       "9          45.7   80766     11.4  Allegheny   Pennsylvania           82.0\n",
       "14         54.8  104728     16.0    Chester   Pennsylvania           84.0"
      ]
     },
     "execution_count": 21,
     "metadata": {},
     "output_type": "execute_result"
    }
   ],
   "source": [
    "# Checking a sample of census_data\n",
    "census_data.head()"
   ]
  },
  {
   "cell_type": "markdown",
   "metadata": {},
   "source": [
    "- - -"
   ]
  },
  {
   "cell_type": "markdown",
   "metadata": {},
   "source": [
    "## States and Countys which are (60K-80K) Income, (40 - 60) Age, Educated and Married"
   ]
  },
  {
   "cell_type": "code",
   "execution_count": 22,
   "metadata": {},
   "outputs": [],
   "source": [
    "# Fetch Geo Codes and append to the existing DataFrame\n",
    "def geo_coordinates(df):\n",
    "    # Geolocator object\n",
    "    geolocator = Nominatim(user_agent=\"http\")\n",
    "    Lat_list, Long_list = [], []\n",
    "    \n",
    "    # Iterate eah rows and get County and State and passing to geolocator\n",
    "    for i, row in df[['County','State']].iterrows():\n",
    "        coordinates = geolocator.geocode(f\"{row['County']}, {row['State']}\")\n",
    "        \n",
    "        # Append the latitude to Lat_list\n",
    "        Lat_list.append(coordinates.latitude)\n",
    "        \n",
    "        # Append the latitude to Long_list\n",
    "        Long_list.append(coordinates.longitude)\n",
    "    \n",
    "    new_data = pd.DataFrame({\n",
    "        'Lat': Lat_list,\n",
    "        'Lon': Long_list\n",
    "    })\n",
    "    \n",
    "    # Reset the index before joining\n",
    "    df.reset_index(drop=True, inplace=True)\n",
    "    \n",
    "    # Concat the existing df with the new data and return\n",
    "    return pd.concat([df,new_data], axis='columns', join='inner')"
   ]
  },
  {
   "cell_type": "code",
   "execution_count": 23,
   "metadata": {},
   "outputs": [
    {
     "data": {
      "text/html": [
       "<div>\n",
       "<style scoped>\n",
       "    .dataframe tbody tr th:only-of-type {\n",
       "        vertical-align: middle;\n",
       "    }\n",
       "\n",
       "    .dataframe tbody tr th {\n",
       "        vertical-align: top;\n",
       "    }\n",
       "\n",
       "    .dataframe thead th {\n",
       "        text-align: right;\n",
       "    }\n",
       "</style>\n",
       "<table border=\"1\" class=\"dataframe\">\n",
       "  <thead>\n",
       "    <tr style=\"text-align: right;\">\n",
       "      <th></th>\n",
       "      <th>Marital_Pop</th>\n",
       "      <th>Income</th>\n",
       "      <th>Age_Pop</th>\n",
       "      <th>County</th>\n",
       "      <th>State</th>\n",
       "      <th>Education_Pop</th>\n",
       "    </tr>\n",
       "  </thead>\n",
       "  <tbody>\n",
       "    <tr>\n",
       "      <th>0</th>\n",
       "      <td>44.1</td>\n",
       "      <td>64495</td>\n",
       "      <td>13.2</td>\n",
       "      <td>Jefferson</td>\n",
       "      <td>Kentucky</td>\n",
       "      <td>74.4</td>\n",
       "    </tr>\n",
       "    <tr>\n",
       "      <th>21</th>\n",
       "      <td>44.7</td>\n",
       "      <td>60722</td>\n",
       "      <td>12.2</td>\n",
       "      <td>Jackson</td>\n",
       "      <td>Missouri</td>\n",
       "      <td>68.7</td>\n",
       "    </tr>\n",
       "    <tr>\n",
       "      <th>31</th>\n",
       "      <td>51.5</td>\n",
       "      <td>76660</td>\n",
       "      <td>15.9</td>\n",
       "      <td>Williamson</td>\n",
       "      <td>Texas</td>\n",
       "      <td>78.1</td>\n",
       "    </tr>\n",
       "    <tr>\n",
       "      <th>43</th>\n",
       "      <td>51.7</td>\n",
       "      <td>75104</td>\n",
       "      <td>16.0</td>\n",
       "      <td>Will</td>\n",
       "      <td>Illinois</td>\n",
       "      <td>71.3</td>\n",
       "    </tr>\n",
       "    <tr>\n",
       "      <th>73</th>\n",
       "      <td>42.1</td>\n",
       "      <td>71318</td>\n",
       "      <td>15.1</td>\n",
       "      <td>Duval</td>\n",
       "      <td>Florida</td>\n",
       "      <td>66.8</td>\n",
       "    </tr>\n",
       "  </tbody>\n",
       "</table>\n",
       "</div>"
      ],
      "text/plain": [
       "    Marital_Pop  Income  Age_Pop      County      State  Education_Pop\n",
       "0          44.1   64495     13.2   Jefferson   Kentucky           74.4\n",
       "21         44.7   60722     12.2     Jackson   Missouri           68.7\n",
       "31         51.5   76660     15.9  Williamson      Texas           78.1\n",
       "43         51.7   75104     16.0        Will   Illinois           71.3\n",
       "73         42.1   71318     15.1       Duval    Florida           66.8"
      ]
     },
     "execution_count": 23,
     "metadata": {},
     "output_type": "execute_result"
    }
   ],
   "source": [
    "# Records which has income 60K to 80K\n",
    "top_income_df = census_data.loc[(census_data['Income']>=60000) & (census_data['Income']<=80000)]\n",
    "top_income_df.head()"
   ]
  },
  {
   "cell_type": "code",
   "execution_count": 35,
   "metadata": {},
   "outputs": [],
   "source": [
    "# Group them by State and County\n",
    "df = top_income_df.groupby(['State', 'County']).sum()"
   ]
  },
  {
   "cell_type": "code",
   "execution_count": 36,
   "metadata": {},
   "outputs": [
    {
     "data": {
      "text/html": [
       "<div>\n",
       "<style scoped>\n",
       "    .dataframe tbody tr th:only-of-type {\n",
       "        vertical-align: middle;\n",
       "    }\n",
       "\n",
       "    .dataframe tbody tr th {\n",
       "        vertical-align: top;\n",
       "    }\n",
       "\n",
       "    .dataframe thead th {\n",
       "        text-align: right;\n",
       "    }\n",
       "</style>\n",
       "<table border=\"1\" class=\"dataframe\">\n",
       "  <thead>\n",
       "    <tr style=\"text-align: right;\">\n",
       "      <th></th>\n",
       "      <th></th>\n",
       "      <th>Marital_Pop</th>\n",
       "      <th>Income</th>\n",
       "      <th>Age_Pop</th>\n",
       "      <th>Education_Pop</th>\n",
       "      <th>Rank</th>\n",
       "    </tr>\n",
       "    <tr>\n",
       "      <th>State</th>\n",
       "      <th>County</th>\n",
       "      <th></th>\n",
       "      <th></th>\n",
       "      <th></th>\n",
       "      <th></th>\n",
       "      <th></th>\n",
       "    </tr>\n",
       "  </thead>\n",
       "  <tbody>\n",
       "    <tr>\n",
       "      <th>Alabama</th>\n",
       "      <th>Jefferson</th>\n",
       "      <td>44.3</td>\n",
       "      <td>65833</td>\n",
       "      <td>15.0</td>\n",
       "      <td>75.6</td>\n",
       "      <td>134.9</td>\n",
       "    </tr>\n",
       "    <tr>\n",
       "      <th>Arizona</th>\n",
       "      <th>Maricopa</th>\n",
       "      <td>46.7</td>\n",
       "      <td>77186</td>\n",
       "      <td>14.8</td>\n",
       "      <td>74.3</td>\n",
       "      <td>135.8</td>\n",
       "    </tr>\n",
       "    <tr>\n",
       "      <th rowspan=\"3\" valign=\"top\">California</th>\n",
       "      <th>Fresno</th>\n",
       "      <td>44.2</td>\n",
       "      <td>72806</td>\n",
       "      <td>12.3</td>\n",
       "      <td>66.9</td>\n",
       "      <td>123.4</td>\n",
       "    </tr>\n",
       "    <tr>\n",
       "      <th>Kern</th>\n",
       "      <td>45.2</td>\n",
       "      <td>78001</td>\n",
       "      <td>11.9</td>\n",
       "      <td>61.8</td>\n",
       "      <td>118.9</td>\n",
       "    </tr>\n",
       "    <tr>\n",
       "      <th>Riverside</th>\n",
       "      <td>47.3</td>\n",
       "      <td>77961</td>\n",
       "      <td>11.7</td>\n",
       "      <td>70.7</td>\n",
       "      <td>129.7</td>\n",
       "    </tr>\n",
       "  </tbody>\n",
       "</table>\n",
       "</div>"
      ],
      "text/plain": [
       "                       Marital_Pop  Income  Age_Pop  Education_Pop   Rank\n",
       "State       County                                                       \n",
       " Alabama    Jefferson         44.3   65833     15.0           75.6  134.9\n",
       " Arizona    Maricopa          46.7   77186     14.8           74.3  135.8\n",
       " California Fresno            44.2   72806     12.3           66.9  123.4\n",
       "            Kern              45.2   78001     11.9           61.8  118.9\n",
       "            Riverside         47.3   77961     11.7           70.7  129.7"
      ]
     },
     "execution_count": 36,
     "metadata": {},
     "output_type": "execute_result"
    }
   ],
   "source": [
    "# Rank column which has total of Marital_Pop, Age_Pop and Education_Pop\n",
    "df['Rank'] = df[['Marital_Pop', 'Age_Pop', 'Education_Pop']].sum(axis=1)\n",
    "df.head()"
   ]
  },
  {
   "cell_type": "code",
   "execution_count": 37,
   "metadata": {},
   "outputs": [
    {
     "data": {
      "text/html": [
       "<div>\n",
       "<style scoped>\n",
       "    .dataframe tbody tr th:only-of-type {\n",
       "        vertical-align: middle;\n",
       "    }\n",
       "\n",
       "    .dataframe tbody tr th {\n",
       "        vertical-align: top;\n",
       "    }\n",
       "\n",
       "    .dataframe thead th {\n",
       "        text-align: right;\n",
       "    }\n",
       "</style>\n",
       "<table border=\"1\" class=\"dataframe\">\n",
       "  <thead>\n",
       "    <tr style=\"text-align: right;\">\n",
       "      <th></th>\n",
       "      <th>State</th>\n",
       "      <th>County</th>\n",
       "      <th>Marital_Pop</th>\n",
       "      <th>Income</th>\n",
       "      <th>Age_Pop</th>\n",
       "      <th>Education_Pop</th>\n",
       "      <th>Rank</th>\n",
       "    </tr>\n",
       "  </thead>\n",
       "  <tbody>\n",
       "    <tr>\n",
       "      <th>0</th>\n",
       "      <td>Georgia</td>\n",
       "      <td>Gwinnett</td>\n",
       "      <td>52.8</td>\n",
       "      <td>79612</td>\n",
       "      <td>17.5</td>\n",
       "      <td>78.7</td>\n",
       "      <td>149.0</td>\n",
       "    </tr>\n",
       "    <tr>\n",
       "      <th>1</th>\n",
       "      <td>Wisconsin</td>\n",
       "      <td>Dane</td>\n",
       "      <td>46.4</td>\n",
       "      <td>77379</td>\n",
       "      <td>13.1</td>\n",
       "      <td>86.7</td>\n",
       "      <td>146.2</td>\n",
       "    </tr>\n",
       "    <tr>\n",
       "      <th>2</th>\n",
       "      <td>Texas</td>\n",
       "      <td>Williamson</td>\n",
       "      <td>51.5</td>\n",
       "      <td>76660</td>\n",
       "      <td>15.9</td>\n",
       "      <td>78.1</td>\n",
       "      <td>145.5</td>\n",
       "    </tr>\n",
       "    <tr>\n",
       "      <th>3</th>\n",
       "      <td>Colorado</td>\n",
       "      <td>El</td>\n",
       "      <td>52.8</td>\n",
       "      <td>76095</td>\n",
       "      <td>12.9</td>\n",
       "      <td>78.2</td>\n",
       "      <td>143.9</td>\n",
       "    </tr>\n",
       "    <tr>\n",
       "      <th>4</th>\n",
       "      <td>South Carolina</td>\n",
       "      <td>Greenville</td>\n",
       "      <td>49.8</td>\n",
       "      <td>66334</td>\n",
       "      <td>15.0</td>\n",
       "      <td>79.1</td>\n",
       "      <td>143.9</td>\n",
       "    </tr>\n",
       "    <tr>\n",
       "      <th>5</th>\n",
       "      <td>Oregon</td>\n",
       "      <td>Multnomah</td>\n",
       "      <td>41.3</td>\n",
       "      <td>72965</td>\n",
       "      <td>14.9</td>\n",
       "      <td>84.5</td>\n",
       "      <td>140.7</td>\n",
       "    </tr>\n",
       "    <tr>\n",
       "      <th>6</th>\n",
       "      <td>Illinois</td>\n",
       "      <td>Will</td>\n",
       "      <td>51.7</td>\n",
       "      <td>75104</td>\n",
       "      <td>16.0</td>\n",
       "      <td>71.3</td>\n",
       "      <td>139.0</td>\n",
       "    </tr>\n",
       "    <tr>\n",
       "      <th>7</th>\n",
       "      <td>Washington</td>\n",
       "      <td>Spokane</td>\n",
       "      <td>48.9</td>\n",
       "      <td>74279</td>\n",
       "      <td>14.1</td>\n",
       "      <td>74.1</td>\n",
       "      <td>137.1</td>\n",
       "    </tr>\n",
       "    <tr>\n",
       "      <th>8</th>\n",
       "      <td>Minnesota</td>\n",
       "      <td>Ramsey</td>\n",
       "      <td>42.8</td>\n",
       "      <td>72572</td>\n",
       "      <td>13.9</td>\n",
       "      <td>80.4</td>\n",
       "      <td>137.1</td>\n",
       "    </tr>\n",
       "    <tr>\n",
       "      <th>9</th>\n",
       "      <td>Nebraska</td>\n",
       "      <td>Douglas</td>\n",
       "      <td>48.1</td>\n",
       "      <td>78910</td>\n",
       "      <td>14.0</td>\n",
       "      <td>74.8</td>\n",
       "      <td>136.9</td>\n",
       "    </tr>\n",
       "  </tbody>\n",
       "</table>\n",
       "</div>"
      ],
      "text/plain": [
       "             State      County  Marital_Pop  Income  Age_Pop  Education_Pop  \\\n",
       "0          Georgia    Gwinnett         52.8   79612     17.5           78.7   \n",
       "1        Wisconsin        Dane         46.4   77379     13.1           86.7   \n",
       "2            Texas  Williamson         51.5   76660     15.9           78.1   \n",
       "3         Colorado          El         52.8   76095     12.9           78.2   \n",
       "4   South Carolina  Greenville         49.8   66334     15.0           79.1   \n",
       "5           Oregon   Multnomah         41.3   72965     14.9           84.5   \n",
       "6         Illinois        Will         51.7   75104     16.0           71.3   \n",
       "7       Washington     Spokane         48.9   74279     14.1           74.1   \n",
       "8        Minnesota      Ramsey         42.8   72572     13.9           80.4   \n",
       "9         Nebraska     Douglas         48.1   78910     14.0           74.8   \n",
       "\n",
       "    Rank  \n",
       "0  149.0  \n",
       "1  146.2  \n",
       "2  145.5  \n",
       "3  143.9  \n",
       "4  143.9  \n",
       "5  140.7  \n",
       "6  139.0  \n",
       "7  137.1  \n",
       "8  137.1  \n",
       "9  136.9  "
      ]
     },
     "execution_count": 37,
     "metadata": {},
     "output_type": "execute_result"
    }
   ],
   "source": [
    "# Top 10 States and its countys which has highest Marital Population, Age (40-60) Population and Most Educated\n",
    "df = df.sort_values('Rank', ascending=False).iloc[:10].reset_index()\n",
    "df"
   ]
  },
  {
   "cell_type": "code",
   "execution_count": 38,
   "metadata": {},
   "outputs": [
    {
     "data": {
      "text/html": [
       "<div>\n",
       "<style scoped>\n",
       "    .dataframe tbody tr th:only-of-type {\n",
       "        vertical-align: middle;\n",
       "    }\n",
       "\n",
       "    .dataframe tbody tr th {\n",
       "        vertical-align: top;\n",
       "    }\n",
       "\n",
       "    .dataframe thead th {\n",
       "        text-align: right;\n",
       "    }\n",
       "</style>\n",
       "<table border=\"1\" class=\"dataframe\">\n",
       "  <thead>\n",
       "    <tr style=\"text-align: right;\">\n",
       "      <th></th>\n",
       "      <th>State</th>\n",
       "      <th>County</th>\n",
       "      <th>Marital_Pop</th>\n",
       "      <th>Income</th>\n",
       "      <th>Age_Pop</th>\n",
       "      <th>Education_Pop</th>\n",
       "      <th>Rank</th>\n",
       "      <th>Lat</th>\n",
       "      <th>Lon</th>\n",
       "    </tr>\n",
       "  </thead>\n",
       "  <tbody>\n",
       "    <tr>\n",
       "      <th>0</th>\n",
       "      <td>Georgia</td>\n",
       "      <td>Gwinnett</td>\n",
       "      <td>52.8</td>\n",
       "      <td>79612</td>\n",
       "      <td>17.5</td>\n",
       "      <td>78.7</td>\n",
       "      <td>149.0</td>\n",
       "      <td>33.956687</td>\n",
       "      <td>-84.022747</td>\n",
       "    </tr>\n",
       "    <tr>\n",
       "      <th>1</th>\n",
       "      <td>Wisconsin</td>\n",
       "      <td>Dane</td>\n",
       "      <td>46.4</td>\n",
       "      <td>77379</td>\n",
       "      <td>13.1</td>\n",
       "      <td>86.7</td>\n",
       "      <td>146.2</td>\n",
       "      <td>43.250547</td>\n",
       "      <td>-89.501509</td>\n",
       "    </tr>\n",
       "    <tr>\n",
       "      <th>2</th>\n",
       "      <td>Texas</td>\n",
       "      <td>Williamson</td>\n",
       "      <td>51.5</td>\n",
       "      <td>76660</td>\n",
       "      <td>15.9</td>\n",
       "      <td>78.1</td>\n",
       "      <td>145.5</td>\n",
       "      <td>30.658093</td>\n",
       "      <td>-97.604165</td>\n",
       "    </tr>\n",
       "    <tr>\n",
       "      <th>3</th>\n",
       "      <td>Colorado</td>\n",
       "      <td>El</td>\n",
       "      <td>52.8</td>\n",
       "      <td>76095</td>\n",
       "      <td>12.9</td>\n",
       "      <td>78.2</td>\n",
       "      <td>143.9</td>\n",
       "      <td>38.725178</td>\n",
       "      <td>-105.607716</td>\n",
       "    </tr>\n",
       "    <tr>\n",
       "      <th>4</th>\n",
       "      <td>South Carolina</td>\n",
       "      <td>Greenville</td>\n",
       "      <td>49.8</td>\n",
       "      <td>66334</td>\n",
       "      <td>15.0</td>\n",
       "      <td>79.1</td>\n",
       "      <td>143.9</td>\n",
       "      <td>34.851354</td>\n",
       "      <td>-82.398488</td>\n",
       "    </tr>\n",
       "    <tr>\n",
       "      <th>5</th>\n",
       "      <td>Oregon</td>\n",
       "      <td>Multnomah</td>\n",
       "      <td>41.3</td>\n",
       "      <td>72965</td>\n",
       "      <td>14.9</td>\n",
       "      <td>84.5</td>\n",
       "      <td>140.7</td>\n",
       "      <td>45.466151</td>\n",
       "      <td>-122.712787</td>\n",
       "    </tr>\n",
       "    <tr>\n",
       "      <th>6</th>\n",
       "      <td>Illinois</td>\n",
       "      <td>Will</td>\n",
       "      <td>51.7</td>\n",
       "      <td>75104</td>\n",
       "      <td>16.0</td>\n",
       "      <td>71.3</td>\n",
       "      <td>139.0</td>\n",
       "      <td>41.419406</td>\n",
       "      <td>-87.999475</td>\n",
       "    </tr>\n",
       "    <tr>\n",
       "      <th>7</th>\n",
       "      <td>Washington</td>\n",
       "      <td>Spokane</td>\n",
       "      <td>48.9</td>\n",
       "      <td>74279</td>\n",
       "      <td>14.1</td>\n",
       "      <td>74.1</td>\n",
       "      <td>137.1</td>\n",
       "      <td>47.657193</td>\n",
       "      <td>-117.423511</td>\n",
       "    </tr>\n",
       "    <tr>\n",
       "      <th>8</th>\n",
       "      <td>Minnesota</td>\n",
       "      <td>Ramsey</td>\n",
       "      <td>42.8</td>\n",
       "      <td>72572</td>\n",
       "      <td>13.9</td>\n",
       "      <td>80.4</td>\n",
       "      <td>137.1</td>\n",
       "      <td>45.016573</td>\n",
       "      <td>-93.094950</td>\n",
       "    </tr>\n",
       "    <tr>\n",
       "      <th>9</th>\n",
       "      <td>Nebraska</td>\n",
       "      <td>Douglas</td>\n",
       "      <td>48.1</td>\n",
       "      <td>78910</td>\n",
       "      <td>14.0</td>\n",
       "      <td>74.8</td>\n",
       "      <td>136.9</td>\n",
       "      <td>41.295411</td>\n",
       "      <td>-96.141567</td>\n",
       "    </tr>\n",
       "  </tbody>\n",
       "</table>\n",
       "</div>"
      ],
      "text/plain": [
       "             State      County  Marital_Pop  Income  Age_Pop  Education_Pop  \\\n",
       "0          Georgia    Gwinnett         52.8   79612     17.5           78.7   \n",
       "1        Wisconsin        Dane         46.4   77379     13.1           86.7   \n",
       "2            Texas  Williamson         51.5   76660     15.9           78.1   \n",
       "3         Colorado          El         52.8   76095     12.9           78.2   \n",
       "4   South Carolina  Greenville         49.8   66334     15.0           79.1   \n",
       "5           Oregon   Multnomah         41.3   72965     14.9           84.5   \n",
       "6         Illinois        Will         51.7   75104     16.0           71.3   \n",
       "7       Washington     Spokane         48.9   74279     14.1           74.1   \n",
       "8        Minnesota      Ramsey         42.8   72572     13.9           80.4   \n",
       "9         Nebraska     Douglas         48.1   78910     14.0           74.8   \n",
       "\n",
       "    Rank        Lat         Lon  \n",
       "0  149.0  33.956687  -84.022747  \n",
       "1  146.2  43.250547  -89.501509  \n",
       "2  145.5  30.658093  -97.604165  \n",
       "3  143.9  38.725178 -105.607716  \n",
       "4  143.9  34.851354  -82.398488  \n",
       "5  140.7  45.466151 -122.712787  \n",
       "6  139.0  41.419406  -87.999475  \n",
       "7  137.1  47.657193 -117.423511  \n",
       "8  137.1  45.016573  -93.094950  \n",
       "9  136.9  41.295411  -96.141567  "
      ]
     },
     "execution_count": 38,
     "metadata": {},
     "output_type": "execute_result"
    }
   ],
   "source": [
    "# Get the Latitude and Longitude coordinates\n",
    "df = geo_coordinates(df)\n",
    "df"
   ]
  },
  {
   "cell_type": "code",
   "execution_count": 45,
   "metadata": {},
   "outputs": [
    {
     "data": {
      "application/vnd.plotly.v1+json": {
       "config": {
        "plotlyServerURL": "https://plot.ly"
       },
       "data": [
        {
         "hovertemplate": "State= Georgia<br>Rank=%{marker.size}<br>Lat=%{lat}<br>Lon=%{lon}<extra></extra>",
         "lat": [
          33.9566869
         ],
         "legendgroup": " Georgia",
         "lon": [
          -84.0227467
         ],
         "marker": {
          "color": "#636efa",
          "size": [
           149
          ],
          "sizemode": "area",
          "sizeref": 0.3725
         },
         "mode": "markers",
         "name": " Georgia",
         "showlegend": true,
         "subplot": "mapbox",
         "type": "scattermapbox"
        },
        {
         "hovertemplate": "State= Wisconsin<br>Rank=%{marker.size}<br>Lat=%{lat}<br>Lon=%{lon}<extra></extra>",
         "lat": [
          43.2505472
         ],
         "legendgroup": " Wisconsin",
         "lon": [
          -89.5015088
         ],
         "marker": {
          "color": "#EF553B",
          "size": [
           146.2
          ],
          "sizemode": "area",
          "sizeref": 0.3725
         },
         "mode": "markers",
         "name": " Wisconsin",
         "showlegend": true,
         "subplot": "mapbox",
         "type": "scattermapbox"
        },
        {
         "hovertemplate": "State= Texas<br>Rank=%{marker.size}<br>Lat=%{lat}<br>Lon=%{lon}<extra></extra>",
         "lat": [
          30.6580927
         ],
         "legendgroup": " Texas",
         "lon": [
          -97.6041649
         ],
         "marker": {
          "color": "#00cc96",
          "size": [
           145.5
          ],
          "sizemode": "area",
          "sizeref": 0.3725
         },
         "mode": "markers",
         "name": " Texas",
         "showlegend": true,
         "subplot": "mapbox",
         "type": "scattermapbox"
        },
        {
         "hovertemplate": "State= Colorado<br>Rank=%{marker.size}<br>Lat=%{lat}<br>Lon=%{lon}<extra></extra>",
         "lat": [
          38.7251776
         ],
         "legendgroup": " Colorado",
         "lon": [
          -105.607716
         ],
         "marker": {
          "color": "#ab63fa",
          "size": [
           143.9
          ],
          "sizemode": "area",
          "sizeref": 0.3725
         },
         "mode": "markers",
         "name": " Colorado",
         "showlegend": true,
         "subplot": "mapbox",
         "type": "scattermapbox"
        },
        {
         "hovertemplate": "State= South Carolina<br>Rank=%{marker.size}<br>Lat=%{lat}<br>Lon=%{lon}<extra></extra>",
         "lat": [
          34.851354
         ],
         "legendgroup": " South Carolina",
         "lon": [
          -82.3984882
         ],
         "marker": {
          "color": "#FFA15A",
          "size": [
           143.89999999999998
          ],
          "sizemode": "area",
          "sizeref": 0.3725
         },
         "mode": "markers",
         "name": " South Carolina",
         "showlegend": true,
         "subplot": "mapbox",
         "type": "scattermapbox"
        },
        {
         "hovertemplate": "State= Oregon<br>Rank=%{marker.size}<br>Lat=%{lat}<br>Lon=%{lon}<extra></extra>",
         "lat": [
          45.4661508
         ],
         "legendgroup": " Oregon",
         "lon": [
          -122.7127865
         ],
         "marker": {
          "color": "#19d3f3",
          "size": [
           140.7
          ],
          "sizemode": "area",
          "sizeref": 0.3725
         },
         "mode": "markers",
         "name": " Oregon",
         "showlegend": true,
         "subplot": "mapbox",
         "type": "scattermapbox"
        },
        {
         "hovertemplate": "State= Illinois<br>Rank=%{marker.size}<br>Lat=%{lat}<br>Lon=%{lon}<extra></extra>",
         "lat": [
          41.4194058
         ],
         "legendgroup": " Illinois",
         "lon": [
          -87.9994754
         ],
         "marker": {
          "color": "#FF6692",
          "size": [
           139
          ],
          "sizemode": "area",
          "sizeref": 0.3725
         },
         "mode": "markers",
         "name": " Illinois",
         "showlegend": true,
         "subplot": "mapbox",
         "type": "scattermapbox"
        },
        {
         "hovertemplate": "State= Washington<br>Rank=%{marker.size}<br>Lat=%{lat}<br>Lon=%{lon}<extra></extra>",
         "lat": [
          47.6571934
         ],
         "legendgroup": " Washington",
         "lon": [
          -117.4235106
         ],
         "marker": {
          "color": "#B6E880",
          "size": [
           137.1
          ],
          "sizemode": "area",
          "sizeref": 0.3725
         },
         "mode": "markers",
         "name": " Washington",
         "showlegend": true,
         "subplot": "mapbox",
         "type": "scattermapbox"
        },
        {
         "hovertemplate": "State= Minnesota<br>Rank=%{marker.size}<br>Lat=%{lat}<br>Lon=%{lon}<extra></extra>",
         "lat": [
          45.0165728
         ],
         "legendgroup": " Minnesota",
         "lon": [
          -93.0949501
         ],
         "marker": {
          "color": "#FF97FF",
          "size": [
           137.1
          ],
          "sizemode": "area",
          "sizeref": 0.3725
         },
         "mode": "markers",
         "name": " Minnesota",
         "showlegend": true,
         "subplot": "mapbox",
         "type": "scattermapbox"
        },
        {
         "hovertemplate": "State= Nebraska<br>Rank=%{marker.size}<br>Lat=%{lat}<br>Lon=%{lon}<extra></extra>",
         "lat": [
          41.2954112
         ],
         "legendgroup": " Nebraska",
         "lon": [
          -96.1415672
         ],
         "marker": {
          "color": "#FECB52",
          "size": [
           136.9
          ],
          "sizemode": "area",
          "sizeref": 0.3725
         },
         "mode": "markers",
         "name": " Nebraska",
         "showlegend": true,
         "subplot": "mapbox",
         "type": "scattermapbox"
        }
       ],
       "layout": {
        "autosize": true,
        "legend": {
         "itemsizing": "constant",
         "title": {
          "text": "State"
         },
         "tracegroupgap": 0
        },
        "mapbox": {
         "accesstoken": "pk.eyJ1IjoiY2hpcmF0aGRldmluZGEiLCJhIjoiY2t0anlsbGc1MWdybzJ1cGF1dWNodWcwOCJ9.SsSKqiRycn7_xaVsjGIdBw",
         "center": {
          "lat": 40.229659240000004,
          "lon": -97.65069143999999
         },
         "domain": {
          "x": [
           0,
           1
          ],
          "y": [
           0,
           1
          ]
         },
         "zoom": 3
        },
        "template": {
         "data": {
          "bar": [
           {
            "error_x": {
             "color": "#2a3f5f"
            },
            "error_y": {
             "color": "#2a3f5f"
            },
            "marker": {
             "line": {
              "color": "#E5ECF6",
              "width": 0.5
             },
             "pattern": {
              "fillmode": "overlay",
              "size": 10,
              "solidity": 0.2
             }
            },
            "type": "bar"
           }
          ],
          "barpolar": [
           {
            "marker": {
             "line": {
              "color": "#E5ECF6",
              "width": 0.5
             },
             "pattern": {
              "fillmode": "overlay",
              "size": 10,
              "solidity": 0.2
             }
            },
            "type": "barpolar"
           }
          ],
          "carpet": [
           {
            "aaxis": {
             "endlinecolor": "#2a3f5f",
             "gridcolor": "white",
             "linecolor": "white",
             "minorgridcolor": "white",
             "startlinecolor": "#2a3f5f"
            },
            "baxis": {
             "endlinecolor": "#2a3f5f",
             "gridcolor": "white",
             "linecolor": "white",
             "minorgridcolor": "white",
             "startlinecolor": "#2a3f5f"
            },
            "type": "carpet"
           }
          ],
          "choropleth": [
           {
            "colorbar": {
             "outlinewidth": 0,
             "ticks": ""
            },
            "type": "choropleth"
           }
          ],
          "contour": [
           {
            "colorbar": {
             "outlinewidth": 0,
             "ticks": ""
            },
            "colorscale": [
             [
              0,
              "#0d0887"
             ],
             [
              0.1111111111111111,
              "#46039f"
             ],
             [
              0.2222222222222222,
              "#7201a8"
             ],
             [
              0.3333333333333333,
              "#9c179e"
             ],
             [
              0.4444444444444444,
              "#bd3786"
             ],
             [
              0.5555555555555556,
              "#d8576b"
             ],
             [
              0.6666666666666666,
              "#ed7953"
             ],
             [
              0.7777777777777778,
              "#fb9f3a"
             ],
             [
              0.8888888888888888,
              "#fdca26"
             ],
             [
              1,
              "#f0f921"
             ]
            ],
            "type": "contour"
           }
          ],
          "contourcarpet": [
           {
            "colorbar": {
             "outlinewidth": 0,
             "ticks": ""
            },
            "type": "contourcarpet"
           }
          ],
          "heatmap": [
           {
            "colorbar": {
             "outlinewidth": 0,
             "ticks": ""
            },
            "colorscale": [
             [
              0,
              "#0d0887"
             ],
             [
              0.1111111111111111,
              "#46039f"
             ],
             [
              0.2222222222222222,
              "#7201a8"
             ],
             [
              0.3333333333333333,
              "#9c179e"
             ],
             [
              0.4444444444444444,
              "#bd3786"
             ],
             [
              0.5555555555555556,
              "#d8576b"
             ],
             [
              0.6666666666666666,
              "#ed7953"
             ],
             [
              0.7777777777777778,
              "#fb9f3a"
             ],
             [
              0.8888888888888888,
              "#fdca26"
             ],
             [
              1,
              "#f0f921"
             ]
            ],
            "type": "heatmap"
           }
          ],
          "heatmapgl": [
           {
            "colorbar": {
             "outlinewidth": 0,
             "ticks": ""
            },
            "colorscale": [
             [
              0,
              "#0d0887"
             ],
             [
              0.1111111111111111,
              "#46039f"
             ],
             [
              0.2222222222222222,
              "#7201a8"
             ],
             [
              0.3333333333333333,
              "#9c179e"
             ],
             [
              0.4444444444444444,
              "#bd3786"
             ],
             [
              0.5555555555555556,
              "#d8576b"
             ],
             [
              0.6666666666666666,
              "#ed7953"
             ],
             [
              0.7777777777777778,
              "#fb9f3a"
             ],
             [
              0.8888888888888888,
              "#fdca26"
             ],
             [
              1,
              "#f0f921"
             ]
            ],
            "type": "heatmapgl"
           }
          ],
          "histogram": [
           {
            "marker": {
             "pattern": {
              "fillmode": "overlay",
              "size": 10,
              "solidity": 0.2
             }
            },
            "type": "histogram"
           }
          ],
          "histogram2d": [
           {
            "colorbar": {
             "outlinewidth": 0,
             "ticks": ""
            },
            "colorscale": [
             [
              0,
              "#0d0887"
             ],
             [
              0.1111111111111111,
              "#46039f"
             ],
             [
              0.2222222222222222,
              "#7201a8"
             ],
             [
              0.3333333333333333,
              "#9c179e"
             ],
             [
              0.4444444444444444,
              "#bd3786"
             ],
             [
              0.5555555555555556,
              "#d8576b"
             ],
             [
              0.6666666666666666,
              "#ed7953"
             ],
             [
              0.7777777777777778,
              "#fb9f3a"
             ],
             [
              0.8888888888888888,
              "#fdca26"
             ],
             [
              1,
              "#f0f921"
             ]
            ],
            "type": "histogram2d"
           }
          ],
          "histogram2dcontour": [
           {
            "colorbar": {
             "outlinewidth": 0,
             "ticks": ""
            },
            "colorscale": [
             [
              0,
              "#0d0887"
             ],
             [
              0.1111111111111111,
              "#46039f"
             ],
             [
              0.2222222222222222,
              "#7201a8"
             ],
             [
              0.3333333333333333,
              "#9c179e"
             ],
             [
              0.4444444444444444,
              "#bd3786"
             ],
             [
              0.5555555555555556,
              "#d8576b"
             ],
             [
              0.6666666666666666,
              "#ed7953"
             ],
             [
              0.7777777777777778,
              "#fb9f3a"
             ],
             [
              0.8888888888888888,
              "#fdca26"
             ],
             [
              1,
              "#f0f921"
             ]
            ],
            "type": "histogram2dcontour"
           }
          ],
          "mesh3d": [
           {
            "colorbar": {
             "outlinewidth": 0,
             "ticks": ""
            },
            "type": "mesh3d"
           }
          ],
          "parcoords": [
           {
            "line": {
             "colorbar": {
              "outlinewidth": 0,
              "ticks": ""
             }
            },
            "type": "parcoords"
           }
          ],
          "pie": [
           {
            "automargin": true,
            "type": "pie"
           }
          ],
          "scatter": [
           {
            "marker": {
             "colorbar": {
              "outlinewidth": 0,
              "ticks": ""
             }
            },
            "type": "scatter"
           }
          ],
          "scatter3d": [
           {
            "line": {
             "colorbar": {
              "outlinewidth": 0,
              "ticks": ""
             }
            },
            "marker": {
             "colorbar": {
              "outlinewidth": 0,
              "ticks": ""
             }
            },
            "type": "scatter3d"
           }
          ],
          "scattercarpet": [
           {
            "marker": {
             "colorbar": {
              "outlinewidth": 0,
              "ticks": ""
             }
            },
            "type": "scattercarpet"
           }
          ],
          "scattergeo": [
           {
            "marker": {
             "colorbar": {
              "outlinewidth": 0,
              "ticks": ""
             }
            },
            "type": "scattergeo"
           }
          ],
          "scattergl": [
           {
            "marker": {
             "colorbar": {
              "outlinewidth": 0,
              "ticks": ""
             }
            },
            "type": "scattergl"
           }
          ],
          "scattermapbox": [
           {
            "marker": {
             "colorbar": {
              "outlinewidth": 0,
              "ticks": ""
             }
            },
            "type": "scattermapbox"
           }
          ],
          "scatterpolar": [
           {
            "marker": {
             "colorbar": {
              "outlinewidth": 0,
              "ticks": ""
             }
            },
            "type": "scatterpolar"
           }
          ],
          "scatterpolargl": [
           {
            "marker": {
             "colorbar": {
              "outlinewidth": 0,
              "ticks": ""
             }
            },
            "type": "scatterpolargl"
           }
          ],
          "scatterternary": [
           {
            "marker": {
             "colorbar": {
              "outlinewidth": 0,
              "ticks": ""
             }
            },
            "type": "scatterternary"
           }
          ],
          "surface": [
           {
            "colorbar": {
             "outlinewidth": 0,
             "ticks": ""
            },
            "colorscale": [
             [
              0,
              "#0d0887"
             ],
             [
              0.1111111111111111,
              "#46039f"
             ],
             [
              0.2222222222222222,
              "#7201a8"
             ],
             [
              0.3333333333333333,
              "#9c179e"
             ],
             [
              0.4444444444444444,
              "#bd3786"
             ],
             [
              0.5555555555555556,
              "#d8576b"
             ],
             [
              0.6666666666666666,
              "#ed7953"
             ],
             [
              0.7777777777777778,
              "#fb9f3a"
             ],
             [
              0.8888888888888888,
              "#fdca26"
             ],
             [
              1,
              "#f0f921"
             ]
            ],
            "type": "surface"
           }
          ],
          "table": [
           {
            "cells": {
             "fill": {
              "color": "#EBF0F8"
             },
             "line": {
              "color": "white"
             }
            },
            "header": {
             "fill": {
              "color": "#C8D4E3"
             },
             "line": {
              "color": "white"
             }
            },
            "type": "table"
           }
          ]
         },
         "layout": {
          "annotationdefaults": {
           "arrowcolor": "#2a3f5f",
           "arrowhead": 0,
           "arrowwidth": 1
          },
          "autotypenumbers": "strict",
          "coloraxis": {
           "colorbar": {
            "outlinewidth": 0,
            "ticks": ""
           }
          },
          "colorscale": {
           "diverging": [
            [
             0,
             "#8e0152"
            ],
            [
             0.1,
             "#c51b7d"
            ],
            [
             0.2,
             "#de77ae"
            ],
            [
             0.3,
             "#f1b6da"
            ],
            [
             0.4,
             "#fde0ef"
            ],
            [
             0.5,
             "#f7f7f7"
            ],
            [
             0.6,
             "#e6f5d0"
            ],
            [
             0.7,
             "#b8e186"
            ],
            [
             0.8,
             "#7fbc41"
            ],
            [
             0.9,
             "#4d9221"
            ],
            [
             1,
             "#276419"
            ]
           ],
           "sequential": [
            [
             0,
             "#0d0887"
            ],
            [
             0.1111111111111111,
             "#46039f"
            ],
            [
             0.2222222222222222,
             "#7201a8"
            ],
            [
             0.3333333333333333,
             "#9c179e"
            ],
            [
             0.4444444444444444,
             "#bd3786"
            ],
            [
             0.5555555555555556,
             "#d8576b"
            ],
            [
             0.6666666666666666,
             "#ed7953"
            ],
            [
             0.7777777777777778,
             "#fb9f3a"
            ],
            [
             0.8888888888888888,
             "#fdca26"
            ],
            [
             1,
             "#f0f921"
            ]
           ],
           "sequentialminus": [
            [
             0,
             "#0d0887"
            ],
            [
             0.1111111111111111,
             "#46039f"
            ],
            [
             0.2222222222222222,
             "#7201a8"
            ],
            [
             0.3333333333333333,
             "#9c179e"
            ],
            [
             0.4444444444444444,
             "#bd3786"
            ],
            [
             0.5555555555555556,
             "#d8576b"
            ],
            [
             0.6666666666666666,
             "#ed7953"
            ],
            [
             0.7777777777777778,
             "#fb9f3a"
            ],
            [
             0.8888888888888888,
             "#fdca26"
            ],
            [
             1,
             "#f0f921"
            ]
           ]
          },
          "colorway": [
           "#636efa",
           "#EF553B",
           "#00cc96",
           "#ab63fa",
           "#FFA15A",
           "#19d3f3",
           "#FF6692",
           "#B6E880",
           "#FF97FF",
           "#FECB52"
          ],
          "font": {
           "color": "#2a3f5f"
          },
          "geo": {
           "bgcolor": "white",
           "lakecolor": "white",
           "landcolor": "#E5ECF6",
           "showlakes": true,
           "showland": true,
           "subunitcolor": "white"
          },
          "hoverlabel": {
           "align": "left"
          },
          "hovermode": "closest",
          "mapbox": {
           "style": "light"
          },
          "paper_bgcolor": "white",
          "plot_bgcolor": "#E5ECF6",
          "polar": {
           "angularaxis": {
            "gridcolor": "white",
            "linecolor": "white",
            "ticks": ""
           },
           "bgcolor": "#E5ECF6",
           "radialaxis": {
            "gridcolor": "white",
            "linecolor": "white",
            "ticks": ""
           }
          },
          "scene": {
           "xaxis": {
            "backgroundcolor": "#E5ECF6",
            "gridcolor": "white",
            "gridwidth": 2,
            "linecolor": "white",
            "showbackground": true,
            "ticks": "",
            "zerolinecolor": "white"
           },
           "yaxis": {
            "backgroundcolor": "#E5ECF6",
            "gridcolor": "white",
            "gridwidth": 2,
            "linecolor": "white",
            "showbackground": true,
            "ticks": "",
            "zerolinecolor": "white"
           },
           "zaxis": {
            "backgroundcolor": "#E5ECF6",
            "gridcolor": "white",
            "gridwidth": 2,
            "linecolor": "white",
            "showbackground": true,
            "ticks": "",
            "zerolinecolor": "white"
           }
          },
          "shapedefaults": {
           "line": {
            "color": "#2a3f5f"
           }
          },
          "ternary": {
           "aaxis": {
            "gridcolor": "white",
            "linecolor": "white",
            "ticks": ""
           },
           "baxis": {
            "gridcolor": "white",
            "linecolor": "white",
            "ticks": ""
           },
           "bgcolor": "#E5ECF6",
           "caxis": {
            "gridcolor": "white",
            "linecolor": "white",
            "ticks": ""
           }
          },
          "title": {
           "x": 0.05
          },
          "xaxis": {
           "automargin": true,
           "gridcolor": "white",
           "linecolor": "white",
           "ticks": "",
           "title": {
            "standoff": 15
           },
           "zerolinecolor": "white",
           "zerolinewidth": 2
          },
          "yaxis": {
           "automargin": true,
           "gridcolor": "white",
           "linecolor": "white",
           "ticks": "",
           "title": {
            "standoff": 15
           },
           "zerolinecolor": "white",
           "zerolinewidth": 2
          }
         }
        },
        "title": {
         "text": "Top 10 Wine States in US"
        }
       }
      },
      "image/png": "[encoded data removed]",
      "text/html": [
       "<div>                            <div id=\"795fe66a-a596-435b-89f5-f378818f288c\" class=\"plotly-graph-div\" style=\"height:525px; width:100%;\"></div>            <script type=\"text/javascript\">                require([\"plotly\"], function(Plotly) {                    window.PLOTLYENV=window.PLOTLYENV || {};                                    if (document.getElementById(\"795fe66a-a596-435b-89f5-f378818f288c\")) {                    Plotly.newPlot(                        \"795fe66a-a596-435b-89f5-f378818f288c\",                        [{\"hovertemplate\":\"State= Georgia<br>Rank=%{marker.size}<br>Lat=%{lat}<br>Lon=%{lon}<extra></extra>\",\"lat\":[33.9566869],\"legendgroup\":\" Georgia\",\"lon\":[-84.0227467],\"marker\":{\"color\":\"#636efa\",\"size\":[149.0],\"sizemode\":\"area\",\"sizeref\":0.3725},\"mode\":\"markers\",\"name\":\" Georgia\",\"showlegend\":true,\"subplot\":\"mapbox\",\"type\":\"scattermapbox\"},{\"hovertemplate\":\"State= Wisconsin<br>Rank=%{marker.size}<br>Lat=%{lat}<br>Lon=%{lon}<extra></extra>\",\"lat\":[43.2505472],\"legendgroup\":\" Wisconsin\",\"lon\":[-89.5015088],\"marker\":{\"color\":\"#EF553B\",\"size\":[146.2],\"sizemode\":\"area\",\"sizeref\":0.3725},\"mode\":\"markers\",\"name\":\" Wisconsin\",\"showlegend\":true,\"subplot\":\"mapbox\",\"type\":\"scattermapbox\"},{\"hovertemplate\":\"State= Texas<br>Rank=%{marker.size}<br>Lat=%{lat}<br>Lon=%{lon}<extra></extra>\",\"lat\":[30.6580927],\"legendgroup\":\" Texas\",\"lon\":[-97.6041649],\"marker\":{\"color\":\"#00cc96\",\"size\":[145.5],\"sizemode\":\"area\",\"sizeref\":0.3725},\"mode\":\"markers\",\"name\":\" Texas\",\"showlegend\":true,\"subplot\":\"mapbox\",\"type\":\"scattermapbox\"},{\"hovertemplate\":\"State= Colorado<br>Rank=%{marker.size}<br>Lat=%{lat}<br>Lon=%{lon}<extra></extra>\",\"lat\":[38.7251776],\"legendgroup\":\" Colorado\",\"lon\":[-105.607716],\"marker\":{\"color\":\"#ab63fa\",\"size\":[143.9],\"sizemode\":\"area\",\"sizeref\":0.3725},\"mode\":\"markers\",\"name\":\" Colorado\",\"showlegend\":true,\"subplot\":\"mapbox\",\"type\":\"scattermapbox\"},{\"hovertemplate\":\"State= South Carolina<br>Rank=%{marker.size}<br>Lat=%{lat}<br>Lon=%{lon}<extra></extra>\",\"lat\":[34.851354],\"legendgroup\":\" South Carolina\",\"lon\":[-82.3984882],\"marker\":{\"color\":\"#FFA15A\",\"size\":[143.89999999999998],\"sizemode\":\"area\",\"sizeref\":0.3725},\"mode\":\"markers\",\"name\":\" South Carolina\",\"showlegend\":true,\"subplot\":\"mapbox\",\"type\":\"scattermapbox\"},{\"hovertemplate\":\"State= Oregon<br>Rank=%{marker.size}<br>Lat=%{lat}<br>Lon=%{lon}<extra></extra>\",\"lat\":[45.4661508],\"legendgroup\":\" Oregon\",\"lon\":[-122.7127865],\"marker\":{\"color\":\"#19d3f3\",\"size\":[140.7],\"sizemode\":\"area\",\"sizeref\":0.3725},\"mode\":\"markers\",\"name\":\" Oregon\",\"showlegend\":true,\"subplot\":\"mapbox\",\"type\":\"scattermapbox\"},{\"hovertemplate\":\"State= Illinois<br>Rank=%{marker.size}<br>Lat=%{lat}<br>Lon=%{lon}<extra></extra>\",\"lat\":[41.4194058],\"legendgroup\":\" Illinois\",\"lon\":[-87.9994754],\"marker\":{\"color\":\"#FF6692\",\"size\":[139.0],\"sizemode\":\"area\",\"sizeref\":0.3725},\"mode\":\"markers\",\"name\":\" Illinois\",\"showlegend\":true,\"subplot\":\"mapbox\",\"type\":\"scattermapbox\"},{\"hovertemplate\":\"State= Washington<br>Rank=%{marker.size}<br>Lat=%{lat}<br>Lon=%{lon}<extra></extra>\",\"lat\":[47.6571934],\"legendgroup\":\" Washington\",\"lon\":[-117.4235106],\"marker\":{\"color\":\"#B6E880\",\"size\":[137.1],\"sizemode\":\"area\",\"sizeref\":0.3725},\"mode\":\"markers\",\"name\":\" Washington\",\"showlegend\":true,\"subplot\":\"mapbox\",\"type\":\"scattermapbox\"},{\"hovertemplate\":\"State= Minnesota<br>Rank=%{marker.size}<br>Lat=%{lat}<br>Lon=%{lon}<extra></extra>\",\"lat\":[45.0165728],\"legendgroup\":\" Minnesota\",\"lon\":[-93.0949501],\"marker\":{\"color\":\"#FF97FF\",\"size\":[137.1],\"sizemode\":\"area\",\"sizeref\":0.3725},\"mode\":\"markers\",\"name\":\" Minnesota\",\"showlegend\":true,\"subplot\":\"mapbox\",\"type\":\"scattermapbox\"},{\"hovertemplate\":\"State= Nebraska<br>Rank=%{marker.size}<br>Lat=%{lat}<br>Lon=%{lon}<extra></extra>\",\"lat\":[41.2954112],\"legendgroup\":\" Nebraska\",\"lon\":[-96.1415672],\"marker\":{\"color\":\"#FECB52\",\"size\":[136.9],\"sizemode\":\"area\",\"sizeref\":0.3725},\"mode\":\"markers\",\"name\":\" Nebraska\",\"showlegend\":true,\"subplot\":\"mapbox\",\"type\":\"scattermapbox\"}],                        {\"legend\":{\"itemsizing\":\"constant\",\"title\":{\"text\":\"State\"},\"tracegroupgap\":0},\"mapbox\":{\"accesstoken\":\"pk.eyJ1IjoiY2hpcmF0aGRldmluZGEiLCJhIjoiY2t0anlsbGc1MWdybzJ1cGF1dWNodWcwOCJ9.SsSKqiRycn7_xaVsjGIdBw\",\"center\":{\"lat\":40.229659240000004,\"lon\":-97.65069143999999},\"domain\":{\"x\":[0.0,1.0],\"y\":[0.0,1.0]},\"zoom\":3},\"template\":{\"data\":{\"bar\":[{\"error_x\":{\"color\":\"#2a3f5f\"},\"error_y\":{\"color\":\"#2a3f5f\"},\"marker\":{\"line\":{\"color\":\"#E5ECF6\",\"width\":0.5},\"pattern\":{\"fillmode\":\"overlay\",\"size\":10,\"solidity\":0.2}},\"type\":\"bar\"}],\"barpolar\":[{\"marker\":{\"line\":{\"color\":\"#E5ECF6\",\"width\":0.5},\"pattern\":{\"fillmode\":\"overlay\",\"size\":10,\"solidity\":0.2}},\"type\":\"barpolar\"}],\"carpet\":[{\"aaxis\":{\"endlinecolor\":\"#2a3f5f\",\"gridcolor\":\"white\",\"linecolor\":\"white\",\"minorgridcolor\":\"white\",\"startlinecolor\":\"#2a3f5f\"},\"baxis\":{\"endlinecolor\":\"#2a3f5f\",\"gridcolor\":\"white\",\"linecolor\":\"white\",\"minorgridcolor\":\"white\",\"startlinecolor\":\"#2a3f5f\"},\"type\":\"carpet\"}],\"choropleth\":[{\"colorbar\":{\"outlinewidth\":0,\"ticks\":\"\"},\"type\":\"choropleth\"}],\"contour\":[{\"colorbar\":{\"outlinewidth\":0,\"ticks\":\"\"},\"colorscale\":[[0.0,\"#0d0887\"],[0.1111111111111111,\"#46039f\"],[0.2222222222222222,\"#7201a8\"],[0.3333333333333333,\"#9c179e\"],[0.4444444444444444,\"#bd3786\"],[0.5555555555555556,\"#d8576b\"],[0.6666666666666666,\"#ed7953\"],[0.7777777777777778,\"#fb9f3a\"],[0.8888888888888888,\"#fdca26\"],[1.0,\"#f0f921\"]],\"type\":\"contour\"}],\"contourcarpet\":[{\"colorbar\":{\"outlinewidth\":0,\"ticks\":\"\"},\"type\":\"contourcarpet\"}],\"heatmap\":[{\"colorbar\":{\"outlinewidth\":0,\"ticks\":\"\"},\"colorscale\":[[0.0,\"#0d0887\"],[0.1111111111111111,\"#46039f\"],[0.2222222222222222,\"#7201a8\"],[0.3333333333333333,\"#9c179e\"],[0.4444444444444444,\"#bd3786\"],[0.5555555555555556,\"#d8576b\"],[0.6666666666666666,\"#ed7953\"],[0.7777777777777778,\"#fb9f3a\"],[0.8888888888888888,\"#fdca26\"],[1.0,\"#f0f921\"]],\"type\":\"heatmap\"}],\"heatmapgl\":[{\"colorbar\":{\"outlinewidth\":0,\"ticks\":\"\"},\"colorscale\":[[0.0,\"#0d0887\"],[0.1111111111111111,\"#46039f\"],[0.2222222222222222,\"#7201a8\"],[0.3333333333333333,\"#9c179e\"],[0.4444444444444444,\"#bd3786\"],[0.5555555555555556,\"#d8576b\"],[0.6666666666666666,\"#ed7953\"],[0.7777777777777778,\"#fb9f3a\"],[0.8888888888888888,\"#fdca26\"],[1.0,\"#f0f921\"]],\"type\":\"heatmapgl\"}],\"histogram\":[{\"marker\":{\"pattern\":{\"fillmode\":\"overlay\",\"size\":10,\"solidity\":0.2}},\"type\":\"histogram\"}],\"histogram2d\":[{\"colorbar\":{\"outlinewidth\":0,\"ticks\":\"\"},\"colorscale\":[[0.0,\"#0d0887\"],[0.1111111111111111,\"#46039f\"],[0.2222222222222222,\"#7201a8\"],[0.3333333333333333,\"#9c179e\"],[0.4444444444444444,\"#bd3786\"],[0.5555555555555556,\"#d8576b\"],[0.6666666666666666,\"#ed7953\"],[0.7777777777777778,\"#fb9f3a\"],[0.8888888888888888,\"#fdca26\"],[1.0,\"#f0f921\"]],\"type\":\"histogram2d\"}],\"histogram2dcontour\":[{\"colorbar\":{\"outlinewidth\":0,\"ticks\":\"\"},\"colorscale\":[[0.0,\"#0d0887\"],[0.1111111111111111,\"#46039f\"],[0.2222222222222222,\"#7201a8\"],[0.3333333333333333,\"#9c179e\"],[0.4444444444444444,\"#bd3786\"],[0.5555555555555556,\"#d8576b\"],[0.6666666666666666,\"#ed7953\"],[0.7777777777777778,\"#fb9f3a\"],[0.8888888888888888,\"#fdca26\"],[1.0,\"#f0f921\"]],\"type\":\"histogram2dcontour\"}],\"mesh3d\":[{\"colorbar\":{\"outlinewidth\":0,\"ticks\":\"\"},\"type\":\"mesh3d\"}],\"parcoords\":[{\"line\":{\"colorbar\":{\"outlinewidth\":0,\"ticks\":\"\"}},\"type\":\"parcoords\"}],\"pie\":[{\"automargin\":true,\"type\":\"pie\"}],\"scatter\":[{\"marker\":{\"colorbar\":{\"outlinewidth\":0,\"ticks\":\"\"}},\"type\":\"scatter\"}],\"scatter3d\":[{\"line\":{\"colorbar\":{\"outlinewidth\":0,\"ticks\":\"\"}},\"marker\":{\"colorbar\":{\"outlinewidth\":0,\"ticks\":\"\"}},\"type\":\"scatter3d\"}],\"scattercarpet\":[{\"marker\":{\"colorbar\":{\"outlinewidth\":0,\"ticks\":\"\"}},\"type\":\"scattercarpet\"}],\"scattergeo\":[{\"marker\":{\"colorbar\":{\"outlinewidth\":0,\"ticks\":\"\"}},\"type\":\"scattergeo\"}],\"scattergl\":[{\"marker\":{\"colorbar\":{\"outlinewidth\":0,\"ticks\":\"\"}},\"type\":\"scattergl\"}],\"scattermapbox\":[{\"marker\":{\"colorbar\":{\"outlinewidth\":0,\"ticks\":\"\"}},\"type\":\"scattermapbox\"}],\"scatterpolar\":[{\"marker\":{\"colorbar\":{\"outlinewidth\":0,\"ticks\":\"\"}},\"type\":\"scatterpolar\"}],\"scatterpolargl\":[{\"marker\":{\"colorbar\":{\"outlinewidth\":0,\"ticks\":\"\"}},\"type\":\"scatterpolargl\"}],\"scatterternary\":[{\"marker\":{\"colorbar\":{\"outlinewidth\":0,\"ticks\":\"\"}},\"type\":\"scatterternary\"}],\"surface\":[{\"colorbar\":{\"outlinewidth\":0,\"ticks\":\"\"},\"colorscale\":[[0.0,\"#0d0887\"],[0.1111111111111111,\"#46039f\"],[0.2222222222222222,\"#7201a8\"],[0.3333333333333333,\"#9c179e\"],[0.4444444444444444,\"#bd3786\"],[0.5555555555555556,\"#d8576b\"],[0.6666666666666666,\"#ed7953\"],[0.7777777777777778,\"#fb9f3a\"],[0.8888888888888888,\"#fdca26\"],[1.0,\"#f0f921\"]],\"type\":\"surface\"}],\"table\":[{\"cells\":{\"fill\":{\"color\":\"#EBF0F8\"},\"line\":{\"color\":\"white\"}},\"header\":{\"fill\":{\"color\":\"#C8D4E3\"},\"line\":{\"color\":\"white\"}},\"type\":\"table\"}]},\"layout\":{\"annotationdefaults\":{\"arrowcolor\":\"#2a3f5f\",\"arrowhead\":0,\"arrowwidth\":1},\"autotypenumbers\":\"strict\",\"coloraxis\":{\"colorbar\":{\"outlinewidth\":0,\"ticks\":\"\"}},\"colorscale\":{\"diverging\":[[0,\"#8e0152\"],[0.1,\"#c51b7d\"],[0.2,\"#de77ae\"],[0.3,\"#f1b6da\"],[0.4,\"#fde0ef\"],[0.5,\"#f7f7f7\"],[0.6,\"#e6f5d0\"],[0.7,\"#b8e186\"],[0.8,\"#7fbc41\"],[0.9,\"#4d9221\"],[1,\"#276419\"]],\"sequential\":[[0.0,\"#0d0887\"],[0.1111111111111111,\"#46039f\"],[0.2222222222222222,\"#7201a8\"],[0.3333333333333333,\"#9c179e\"],[0.4444444444444444,\"#bd3786\"],[0.5555555555555556,\"#d8576b\"],[0.6666666666666666,\"#ed7953\"],[0.7777777777777778,\"#fb9f3a\"],[0.8888888888888888,\"#fdca26\"],[1.0,\"#f0f921\"]],\"sequentialminus\":[[0.0,\"#0d0887\"],[0.1111111111111111,\"#46039f\"],[0.2222222222222222,\"#7201a8\"],[0.3333333333333333,\"#9c179e\"],[0.4444444444444444,\"#bd3786\"],[0.5555555555555556,\"#d8576b\"],[0.6666666666666666,\"#ed7953\"],[0.7777777777777778,\"#fb9f3a\"],[0.8888888888888888,\"#fdca26\"],[1.0,\"#f0f921\"]]},\"colorway\":[\"#636efa\",\"#EF553B\",\"#00cc96\",\"#ab63fa\",\"#FFA15A\",\"#19d3f3\",\"#FF6692\",\"#B6E880\",\"#FF97FF\",\"#FECB52\"],\"font\":{\"color\":\"#2a3f5f\"},\"geo\":{\"bgcolor\":\"white\",\"lakecolor\":\"white\",\"landcolor\":\"#E5ECF6\",\"showlakes\":true,\"showland\":true,\"subunitcolor\":\"white\"},\"hoverlabel\":{\"align\":\"left\"},\"hovermode\":\"closest\",\"mapbox\":{\"style\":\"light\"},\"paper_bgcolor\":\"white\",\"plot_bgcolor\":\"#E5ECF6\",\"polar\":{\"angularaxis\":{\"gridcolor\":\"white\",\"linecolor\":\"white\",\"ticks\":\"\"},\"bgcolor\":\"#E5ECF6\",\"radialaxis\":{\"gridcolor\":\"white\",\"linecolor\":\"white\",\"ticks\":\"\"}},\"scene\":{\"xaxis\":{\"backgroundcolor\":\"#E5ECF6\",\"gridcolor\":\"white\",\"gridwidth\":2,\"linecolor\":\"white\",\"showbackground\":true,\"ticks\":\"\",\"zerolinecolor\":\"white\"},\"yaxis\":{\"backgroundcolor\":\"#E5ECF6\",\"gridcolor\":\"white\",\"gridwidth\":2,\"linecolor\":\"white\",\"showbackground\":true,\"ticks\":\"\",\"zerolinecolor\":\"white\"},\"zaxis\":{\"backgroundcolor\":\"#E5ECF6\",\"gridcolor\":\"white\",\"gridwidth\":2,\"linecolor\":\"white\",\"showbackground\":true,\"ticks\":\"\",\"zerolinecolor\":\"white\"}},\"shapedefaults\":{\"line\":{\"color\":\"#2a3f5f\"}},\"ternary\":{\"aaxis\":{\"gridcolor\":\"white\",\"linecolor\":\"white\",\"ticks\":\"\"},\"baxis\":{\"gridcolor\":\"white\",\"linecolor\":\"white\",\"ticks\":\"\"},\"bgcolor\":\"#E5ECF6\",\"caxis\":{\"gridcolor\":\"white\",\"linecolor\":\"white\",\"ticks\":\"\"}},\"title\":{\"x\":0.05},\"xaxis\":{\"automargin\":true,\"gridcolor\":\"white\",\"linecolor\":\"white\",\"ticks\":\"\",\"title\":{\"standoff\":15},\"zerolinecolor\":\"white\",\"zerolinewidth\":2},\"yaxis\":{\"automargin\":true,\"gridcolor\":\"white\",\"linecolor\":\"white\",\"ticks\":\"\",\"title\":{\"standoff\":15},\"zerolinecolor\":\"white\",\"zerolinewidth\":2}}},\"title\":{\"text\":\"Top 10 Wine States in US\"}},                        {\"responsive\": true}                    ).then(function(){\n",
       "                            \n",
       "var gd = document.getElementById('795fe66a-a596-435b-89f5-f378818f288c');\n",
       "var x = new MutationObserver(function (mutations, observer) {{\n",
       "        var display = window.getComputedStyle(gd).display;\n",
       "        if (!display || display === 'none') {{\n",
       "            console.log([gd, 'removed!']);\n",
       "            Plotly.purge(gd);\n",
       "            observer.disconnect();\n",
       "        }}\n",
       "}});\n",
       "\n",
       "// Listen for the removal of the full notebook cells\n",
       "var notebookContainer = gd.closest('#notebook-container');\n",
       "if (notebookContainer) {{\n",
       "    x.observe(notebookContainer, {childList: true});\n",
       "}}\n",
       "\n",
       "// Listen for the clearing of the current output cell\n",
       "var outputEl = gd.closest('.output');\n",
       "if (outputEl) {{\n",
       "    x.observe(outputEl, {childList: true});\n",
       "}}\n",
       "\n",
       "                        })                };                });            </script>        </div>"
      ]
     },
     "metadata": {},
     "output_type": "display_data"
    }
   ],
   "source": [
    "# Set the mapbox access token\n",
    "px.set_mapbox_access_token(map_box_api)\n",
    "\n",
    "# Create a scatter mapbox to analyze wine states info\n",
    "map_plot = px.scatter_mapbox(\n",
    "    df,\n",
    "    lat='Lat',\n",
    "    lon='Lon',\n",
    "    color='State',\n",
    "    size='Rank',\n",
    "    title='Top 10 Wine States in US',\n",
    "    color_continuous_scale=px.colors.sequential.Rainbow,\n",
    "    size_max=20,\n",
    "    zoom=3\n",
    ")\n",
    "#map_plot.update_traces(marker={'size': 12})\n",
    "map_plot.show()"
   ]
  },
  {
   "cell_type": "code",
   "execution_count": 47,
   "metadata": {},
   "outputs": [
    {
     "data": {
      "application/vnd.plotly.v1+json": {
       "config": {
        "plotlyServerURL": "https://plot.ly"
       },
       "data": [
        {
         "hovertemplate": "County=Gwinnett<br>Rank=%{marker.size}<br>Lat=%{lat}<br>Lon=%{lon}<extra></extra>",
         "lat": [
          33.9566869
         ],
         "legendgroup": "Gwinnett",
         "lon": [
          -84.0227467
         ],
         "marker": {
          "color": "#636efa",
          "size": [
           149
          ],
          "sizemode": "area",
          "sizeref": 0.3725
         },
         "mode": "markers",
         "name": "Gwinnett",
         "showlegend": true,
         "subplot": "mapbox",
         "type": "scattermapbox"
        },
        {
         "hovertemplate": "County=Dane<br>Rank=%{marker.size}<br>Lat=%{lat}<br>Lon=%{lon}<extra></extra>",
         "lat": [
          43.2505472
         ],
         "legendgroup": "Dane",
         "lon": [
          -89.5015088
         ],
         "marker": {
          "color": "#EF553B",
          "size": [
           146.2
          ],
          "sizemode": "area",
          "sizeref": 0.3725
         },
         "mode": "markers",
         "name": "Dane",
         "showlegend": true,
         "subplot": "mapbox",
         "type": "scattermapbox"
        },
        {
         "hovertemplate": "County=Williamson<br>Rank=%{marker.size}<br>Lat=%{lat}<br>Lon=%{lon}<extra></extra>",
         "lat": [
          30.6580927
         ],
         "legendgroup": "Williamson",
         "lon": [
          -97.6041649
         ],
         "marker": {
          "color": "#00cc96",
          "size": [
           145.5
          ],
          "sizemode": "area",
          "sizeref": 0.3725
         },
         "mode": "markers",
         "name": "Williamson",
         "showlegend": true,
         "subplot": "mapbox",
         "type": "scattermapbox"
        },
        {
         "hovertemplate": "County=El<br>Rank=%{marker.size}<br>Lat=%{lat}<br>Lon=%{lon}<extra></extra>",
         "lat": [
          38.7251776
         ],
         "legendgroup": "El",
         "lon": [
          -105.607716
         ],
         "marker": {
          "color": "#ab63fa",
          "size": [
           143.9
          ],
          "sizemode": "area",
          "sizeref": 0.3725
         },
         "mode": "markers",
         "name": "El",
         "showlegend": true,
         "subplot": "mapbox",
         "type": "scattermapbox"
        },
        {
         "hovertemplate": "County=Greenville<br>Rank=%{marker.size}<br>Lat=%{lat}<br>Lon=%{lon}<extra></extra>",
         "lat": [
          34.851354
         ],
         "legendgroup": "Greenville",
         "lon": [
          -82.3984882
         ],
         "marker": {
          "color": "#FFA15A",
          "size": [
           143.89999999999998
          ],
          "sizemode": "area",
          "sizeref": 0.3725
         },
         "mode": "markers",
         "name": "Greenville",
         "showlegend": true,
         "subplot": "mapbox",
         "type": "scattermapbox"
        },
        {
         "hovertemplate": "County=Multnomah<br>Rank=%{marker.size}<br>Lat=%{lat}<br>Lon=%{lon}<extra></extra>",
         "lat": [
          45.4661508
         ],
         "legendgroup": "Multnomah",
         "lon": [
          -122.7127865
         ],
         "marker": {
          "color": "#19d3f3",
          "size": [
           140.7
          ],
          "sizemode": "area",
          "sizeref": 0.3725
         },
         "mode": "markers",
         "name": "Multnomah",
         "showlegend": true,
         "subplot": "mapbox",
         "type": "scattermapbox"
        },
        {
         "hovertemplate": "County=Will<br>Rank=%{marker.size}<br>Lat=%{lat}<br>Lon=%{lon}<extra></extra>",
         "lat": [
          41.4194058
         ],
         "legendgroup": "Will",
         "lon": [
          -87.9994754
         ],
         "marker": {
          "color": "#FF6692",
          "size": [
           139
          ],
          "sizemode": "area",
          "sizeref": 0.3725
         },
         "mode": "markers",
         "name": "Will",
         "showlegend": true,
         "subplot": "mapbox",
         "type": "scattermapbox"
        },
        {
         "hovertemplate": "County=Spokane<br>Rank=%{marker.size}<br>Lat=%{lat}<br>Lon=%{lon}<extra></extra>",
         "lat": [
          47.6571934
         ],
         "legendgroup": "Spokane",
         "lon": [
          -117.4235106
         ],
         "marker": {
          "color": "#B6E880",
          "size": [
           137.1
          ],
          "sizemode": "area",
          "sizeref": 0.3725
         },
         "mode": "markers",
         "name": "Spokane",
         "showlegend": true,
         "subplot": "mapbox",
         "type": "scattermapbox"
        },
        {
         "hovertemplate": "County=Ramsey<br>Rank=%{marker.size}<br>Lat=%{lat}<br>Lon=%{lon}<extra></extra>",
         "lat": [
          45.0165728
         ],
         "legendgroup": "Ramsey",
         "lon": [
          -93.0949501
         ],
         "marker": {
          "color": "#FF97FF",
          "size": [
           137.1
          ],
          "sizemode": "area",
          "sizeref": 0.3725
         },
         "mode": "markers",
         "name": "Ramsey",
         "showlegend": true,
         "subplot": "mapbox",
         "type": "scattermapbox"
        },
        {
         "hovertemplate": "County=Douglas<br>Rank=%{marker.size}<br>Lat=%{lat}<br>Lon=%{lon}<extra></extra>",
         "lat": [
          41.2954112
         ],
         "legendgroup": "Douglas",
         "lon": [
          -96.1415672
         ],
         "marker": {
          "color": "#FECB52",
          "size": [
           136.9
          ],
          "sizemode": "area",
          "sizeref": 0.3725
         },
         "mode": "markers",
         "name": "Douglas",
         "showlegend": true,
         "subplot": "mapbox",
         "type": "scattermapbox"
        }
       ],
       "layout": {
        "autosize": true,
        "legend": {
         "itemsizing": "constant",
         "title": {
          "text": "County"
         },
         "tracegroupgap": 0
        },
        "mapbox": {
         "accesstoken": "pk.eyJ1IjoiY2hpcmF0aGRldmluZGEiLCJhIjoiY2t0anlsbGc1MWdybzJ1cGF1dWNodWcwOCJ9.SsSKqiRycn7_xaVsjGIdBw",
         "center": {
          "lat": 40.229659240000004,
          "lon": -97.65069143999999
         },
         "domain": {
          "x": [
           0,
           1
          ],
          "y": [
           0,
           1
          ]
         },
         "zoom": 3
        },
        "template": {
         "data": {
          "bar": [
           {
            "error_x": {
             "color": "#2a3f5f"
            },
            "error_y": {
             "color": "#2a3f5f"
            },
            "marker": {
             "line": {
              "color": "#E5ECF6",
              "width": 0.5
             },
             "pattern": {
              "fillmode": "overlay",
              "size": 10,
              "solidity": 0.2
             }
            },
            "type": "bar"
           }
          ],
          "barpolar": [
           {
            "marker": {
             "line": {
              "color": "#E5ECF6",
              "width": 0.5
             },
             "pattern": {
              "fillmode": "overlay",
              "size": 10,
              "solidity": 0.2
             }
            },
            "type": "barpolar"
           }
          ],
          "carpet": [
           {
            "aaxis": {
             "endlinecolor": "#2a3f5f",
             "gridcolor": "white",
             "linecolor": "white",
             "minorgridcolor": "white",
             "startlinecolor": "#2a3f5f"
            },
            "baxis": {
             "endlinecolor": "#2a3f5f",
             "gridcolor": "white",
             "linecolor": "white",
             "minorgridcolor": "white",
             "startlinecolor": "#2a3f5f"
            },
            "type": "carpet"
           }
          ],
          "choropleth": [
           {
            "colorbar": {
             "outlinewidth": 0,
             "ticks": ""
            },
            "type": "choropleth"
           }
          ],
          "contour": [
           {
            "colorbar": {
             "outlinewidth": 0,
             "ticks": ""
            },
            "colorscale": [
             [
              0,
              "#0d0887"
             ],
             [
              0.1111111111111111,
              "#46039f"
             ],
             [
              0.2222222222222222,
              "#7201a8"
             ],
             [
              0.3333333333333333,
              "#9c179e"
             ],
             [
              0.4444444444444444,
              "#bd3786"
             ],
             [
              0.5555555555555556,
              "#d8576b"
             ],
             [
              0.6666666666666666,
              "#ed7953"
             ],
             [
              0.7777777777777778,
              "#fb9f3a"
             ],
             [
              0.8888888888888888,
              "#fdca26"
             ],
             [
              1,
              "#f0f921"
             ]
            ],
            "type": "contour"
           }
          ],
          "contourcarpet": [
           {
            "colorbar": {
             "outlinewidth": 0,
             "ticks": ""
            },
            "type": "contourcarpet"
           }
          ],
          "heatmap": [
           {
            "colorbar": {
             "outlinewidth": 0,
             "ticks": ""
            },
            "colorscale": [
             [
              0,
              "#0d0887"
             ],
             [
              0.1111111111111111,
              "#46039f"
             ],
             [
              0.2222222222222222,
              "#7201a8"
             ],
             [
              0.3333333333333333,
              "#9c179e"
             ],
             [
              0.4444444444444444,
              "#bd3786"
             ],
             [
              0.5555555555555556,
              "#d8576b"
             ],
             [
              0.6666666666666666,
              "#ed7953"
             ],
             [
              0.7777777777777778,
              "#fb9f3a"
             ],
             [
              0.8888888888888888,
              "#fdca26"
             ],
             [
              1,
              "#f0f921"
             ]
            ],
            "type": "heatmap"
           }
          ],
          "heatmapgl": [
           {
            "colorbar": {
             "outlinewidth": 0,
             "ticks": ""
            },
            "colorscale": [
             [
              0,
              "#0d0887"
             ],
             [
              0.1111111111111111,
              "#46039f"
             ],
             [
              0.2222222222222222,
              "#7201a8"
             ],
             [
              0.3333333333333333,
              "#9c179e"
             ],
             [
              0.4444444444444444,
              "#bd3786"
             ],
             [
              0.5555555555555556,
              "#d8576b"
             ],
             [
              0.6666666666666666,
              "#ed7953"
             ],
             [
              0.7777777777777778,
              "#fb9f3a"
             ],
             [
              0.8888888888888888,
              "#fdca26"
             ],
             [
              1,
              "#f0f921"
             ]
            ],
            "type": "heatmapgl"
           }
          ],
          "histogram": [
           {
            "marker": {
             "pattern": {
              "fillmode": "overlay",
              "size": 10,
              "solidity": 0.2
             }
            },
            "type": "histogram"
           }
          ],
          "histogram2d": [
           {
            "colorbar": {
             "outlinewidth": 0,
             "ticks": ""
            },
            "colorscale": [
             [
              0,
              "#0d0887"
             ],
             [
              0.1111111111111111,
              "#46039f"
             ],
             [
              0.2222222222222222,
              "#7201a8"
             ],
             [
              0.3333333333333333,
              "#9c179e"
             ],
             [
              0.4444444444444444,
              "#bd3786"
             ],
             [
              0.5555555555555556,
              "#d8576b"
             ],
             [
              0.6666666666666666,
              "#ed7953"
             ],
             [
              0.7777777777777778,
              "#fb9f3a"
             ],
             [
              0.8888888888888888,
              "#fdca26"
             ],
             [
              1,
              "#f0f921"
             ]
            ],
            "type": "histogram2d"
           }
          ],
          "histogram2dcontour": [
           {
            "colorbar": {
             "outlinewidth": 0,
             "ticks": ""
            },
            "colorscale": [
             [
              0,
              "#0d0887"
             ],
             [
              0.1111111111111111,
              "#46039f"
             ],
             [
              0.2222222222222222,
              "#7201a8"
             ],
             [
              0.3333333333333333,
              "#9c179e"
             ],
             [
              0.4444444444444444,
              "#bd3786"
             ],
             [
              0.5555555555555556,
              "#d8576b"
             ],
             [
              0.6666666666666666,
              "#ed7953"
             ],
             [
              0.7777777777777778,
              "#fb9f3a"
             ],
             [
              0.8888888888888888,
              "#fdca26"
             ],
             [
              1,
              "#f0f921"
             ]
            ],
            "type": "histogram2dcontour"
           }
          ],
          "mesh3d": [
           {
            "colorbar": {
             "outlinewidth": 0,
             "ticks": ""
            },
            "type": "mesh3d"
           }
          ],
          "parcoords": [
           {
            "line": {
             "colorbar": {
              "outlinewidth": 0,
              "ticks": ""
             }
            },
            "type": "parcoords"
           }
          ],
          "pie": [
           {
            "automargin": true,
            "type": "pie"
           }
          ],
          "scatter": [
           {
            "marker": {
             "colorbar": {
              "outlinewidth": 0,
              "ticks": ""
             }
            },
            "type": "scatter"
           }
          ],
          "scatter3d": [
           {
            "line": {
             "colorbar": {
              "outlinewidth": 0,
              "ticks": ""
             }
            },
            "marker": {
             "colorbar": {
              "outlinewidth": 0,
              "ticks": ""
             }
            },
            "type": "scatter3d"
           }
          ],
          "scattercarpet": [
           {
            "marker": {
             "colorbar": {
              "outlinewidth": 0,
              "ticks": ""
             }
            },
            "type": "scattercarpet"
           }
          ],
          "scattergeo": [
           {
            "marker": {
             "colorbar": {
              "outlinewidth": 0,
              "ticks": ""
             }
            },
            "type": "scattergeo"
           }
          ],
          "scattergl": [
           {
            "marker": {
             "colorbar": {
              "outlinewidth": 0,
              "ticks": ""
             }
            },
            "type": "scattergl"
           }
          ],
          "scattermapbox": [
           {
            "marker": {
             "colorbar": {
              "outlinewidth": 0,
              "ticks": ""
             }
            },
            "type": "scattermapbox"
           }
          ],
          "scatterpolar": [
           {
            "marker": {
             "colorbar": {
              "outlinewidth": 0,
              "ticks": ""
             }
            },
            "type": "scatterpolar"
           }
          ],
          "scatterpolargl": [
           {
            "marker": {
             "colorbar": {
              "outlinewidth": 0,
              "ticks": ""
             }
            },
            "type": "scatterpolargl"
           }
          ],
          "scatterternary": [
           {
            "marker": {
             "colorbar": {
              "outlinewidth": 0,
              "ticks": ""
             }
            },
            "type": "scatterternary"
           }
          ],
          "surface": [
           {
            "colorbar": {
             "outlinewidth": 0,
             "ticks": ""
            },
            "colorscale": [
             [
              0,
              "#0d0887"
             ],
             [
              0.1111111111111111,
              "#46039f"
             ],
             [
              0.2222222222222222,
              "#7201a8"
             ],
             [
              0.3333333333333333,
              "#9c179e"
             ],
             [
              0.4444444444444444,
              "#bd3786"
             ],
             [
              0.5555555555555556,
              "#d8576b"
             ],
             [
              0.6666666666666666,
              "#ed7953"
             ],
             [
              0.7777777777777778,
              "#fb9f3a"
             ],
             [
              0.8888888888888888,
              "#fdca26"
             ],
             [
              1,
              "#f0f921"
             ]
            ],
            "type": "surface"
           }
          ],
          "table": [
           {
            "cells": {
             "fill": {
              "color": "#EBF0F8"
             },
             "line": {
              "color": "white"
             }
            },
            "header": {
             "fill": {
              "color": "#C8D4E3"
             },
             "line": {
              "color": "white"
             }
            },
            "type": "table"
           }
          ]
         },
         "layout": {
          "annotationdefaults": {
           "arrowcolor": "#2a3f5f",
           "arrowhead": 0,
           "arrowwidth": 1
          },
          "autotypenumbers": "strict",
          "coloraxis": {
           "colorbar": {
            "outlinewidth": 0,
            "ticks": ""
           }
          },
          "colorscale": {
           "diverging": [
            [
             0,
             "#8e0152"
            ],
            [
             0.1,
             "#c51b7d"
            ],
            [
             0.2,
             "#de77ae"
            ],
            [
             0.3,
             "#f1b6da"
            ],
            [
             0.4,
             "#fde0ef"
            ],
            [
             0.5,
             "#f7f7f7"
            ],
            [
             0.6,
             "#e6f5d0"
            ],
            [
             0.7,
             "#b8e186"
            ],
            [
             0.8,
             "#7fbc41"
            ],
            [
             0.9,
             "#4d9221"
            ],
            [
             1,
             "#276419"
            ]
           ],
           "sequential": [
            [
             0,
             "#0d0887"
            ],
            [
             0.1111111111111111,
             "#46039f"
            ],
            [
             0.2222222222222222,
             "#7201a8"
            ],
            [
             0.3333333333333333,
             "#9c179e"
            ],
            [
             0.4444444444444444,
             "#bd3786"
            ],
            [
             0.5555555555555556,
             "#d8576b"
            ],
            [
             0.6666666666666666,
             "#ed7953"
            ],
            [
             0.7777777777777778,
             "#fb9f3a"
            ],
            [
             0.8888888888888888,
             "#fdca26"
            ],
            [
             1,
             "#f0f921"
            ]
           ],
           "sequentialminus": [
            [
             0,
             "#0d0887"
            ],
            [
             0.1111111111111111,
             "#46039f"
            ],
            [
             0.2222222222222222,
             "#7201a8"
            ],
            [
             0.3333333333333333,
             "#9c179e"
            ],
            [
             0.4444444444444444,
             "#bd3786"
            ],
            [
             0.5555555555555556,
             "#d8576b"
            ],
            [
             0.6666666666666666,
             "#ed7953"
            ],
            [
             0.7777777777777778,
             "#fb9f3a"
            ],
            [
             0.8888888888888888,
             "#fdca26"
            ],
            [
             1,
             "#f0f921"
            ]
           ]
          },
          "colorway": [
           "#636efa",
           "#EF553B",
           "#00cc96",
           "#ab63fa",
           "#FFA15A",
           "#19d3f3",
           "#FF6692",
           "#B6E880",
           "#FF97FF",
           "#FECB52"
          ],
          "font": {
           "color": "#2a3f5f"
          },
          "geo": {
           "bgcolor": "white",
           "lakecolor": "white",
           "landcolor": "#E5ECF6",
           "showlakes": true,
           "showland": true,
           "subunitcolor": "white"
          },
          "hoverlabel": {
           "align": "left"
          },
          "hovermode": "closest",
          "mapbox": {
           "style": "light"
          },
          "paper_bgcolor": "white",
          "plot_bgcolor": "#E5ECF6",
          "polar": {
           "angularaxis": {
            "gridcolor": "white",
            "linecolor": "white",
            "ticks": ""
           },
           "bgcolor": "#E5ECF6",
           "radialaxis": {
            "gridcolor": "white",
            "linecolor": "white",
            "ticks": ""
           }
          },
          "scene": {
           "xaxis": {
            "backgroundcolor": "#E5ECF6",
            "gridcolor": "white",
            "gridwidth": 2,
            "linecolor": "white",
            "showbackground": true,
            "ticks": "",
            "zerolinecolor": "white"
           },
           "yaxis": {
            "backgroundcolor": "#E5ECF6",
            "gridcolor": "white",
            "gridwidth": 2,
            "linecolor": "white",
            "showbackground": true,
            "ticks": "",
            "zerolinecolor": "white"
           },
           "zaxis": {
            "backgroundcolor": "#E5ECF6",
            "gridcolor": "white",
            "gridwidth": 2,
            "linecolor": "white",
            "showbackground": true,
            "ticks": "",
            "zerolinecolor": "white"
           }
          },
          "shapedefaults": {
           "line": {
            "color": "#2a3f5f"
           }
          },
          "ternary": {
           "aaxis": {
            "gridcolor": "white",
            "linecolor": "white",
            "ticks": ""
           },
           "baxis": {
            "gridcolor": "white",
            "linecolor": "white",
            "ticks": ""
           },
           "bgcolor": "#E5ECF6",
           "caxis": {
            "gridcolor": "white",
            "linecolor": "white",
            "ticks": ""
           }
          },
          "title": {
           "x": 0.05
          },
          "xaxis": {
           "automargin": true,
           "gridcolor": "white",
           "linecolor": "white",
           "ticks": "",
           "title": {
            "standoff": 15
           },
           "zerolinecolor": "white",
           "zerolinewidth": 2
          },
          "yaxis": {
           "automargin": true,
           "gridcolor": "white",
           "linecolor": "white",
           "ticks": "",
           "title": {
            "standoff": 15
           },
           "zerolinecolor": "white",
           "zerolinewidth": 2
          }
         }
        },
        "title": {
         "text": "Top 10 Wine Counties in US"
        }
       }
      },
      "image/png": "[encoded data removed]",
      "text/html": [
       "<div>                            <div id=\"53c0c18e-87fa-4d4b-86f1-f294a865a4ca\" class=\"plotly-graph-div\" style=\"height:525px; width:100%;\"></div>            <script type=\"text/javascript\">                require([\"plotly\"], function(Plotly) {                    window.PLOTLYENV=window.PLOTLYENV || {};                                    if (document.getElementById(\"53c0c18e-87fa-4d4b-86f1-f294a865a4ca\")) {                    Plotly.newPlot(                        \"53c0c18e-87fa-4d4b-86f1-f294a865a4ca\",                        [{\"hovertemplate\":\"County=Gwinnett<br>Rank=%{marker.size}<br>Lat=%{lat}<br>Lon=%{lon}<extra></extra>\",\"lat\":[33.9566869],\"legendgroup\":\"Gwinnett\",\"lon\":[-84.0227467],\"marker\":{\"color\":\"#636efa\",\"size\":[149.0],\"sizemode\":\"area\",\"sizeref\":0.3725},\"mode\":\"markers\",\"name\":\"Gwinnett\",\"showlegend\":true,\"subplot\":\"mapbox\",\"type\":\"scattermapbox\"},{\"hovertemplate\":\"County=Dane<br>Rank=%{marker.size}<br>Lat=%{lat}<br>Lon=%{lon}<extra></extra>\",\"lat\":[43.2505472],\"legendgroup\":\"Dane\",\"lon\":[-89.5015088],\"marker\":{\"color\":\"#EF553B\",\"size\":[146.2],\"sizemode\":\"area\",\"sizeref\":0.3725},\"mode\":\"markers\",\"name\":\"Dane\",\"showlegend\":true,\"subplot\":\"mapbox\",\"type\":\"scattermapbox\"},{\"hovertemplate\":\"County=Williamson<br>Rank=%{marker.size}<br>Lat=%{lat}<br>Lon=%{lon}<extra></extra>\",\"lat\":[30.6580927],\"legendgroup\":\"Williamson\",\"lon\":[-97.6041649],\"marker\":{\"color\":\"#00cc96\",\"size\":[145.5],\"sizemode\":\"area\",\"sizeref\":0.3725},\"mode\":\"markers\",\"name\":\"Williamson\",\"showlegend\":true,\"subplot\":\"mapbox\",\"type\":\"scattermapbox\"},{\"hovertemplate\":\"County=El<br>Rank=%{marker.size}<br>Lat=%{lat}<br>Lon=%{lon}<extra></extra>\",\"lat\":[38.7251776],\"legendgroup\":\"El\",\"lon\":[-105.607716],\"marker\":{\"color\":\"#ab63fa\",\"size\":[143.9],\"sizemode\":\"area\",\"sizeref\":0.3725},\"mode\":\"markers\",\"name\":\"El\",\"showlegend\":true,\"subplot\":\"mapbox\",\"type\":\"scattermapbox\"},{\"hovertemplate\":\"County=Greenville<br>Rank=%{marker.size}<br>Lat=%{lat}<br>Lon=%{lon}<extra></extra>\",\"lat\":[34.851354],\"legendgroup\":\"Greenville\",\"lon\":[-82.3984882],\"marker\":{\"color\":\"#FFA15A\",\"size\":[143.89999999999998],\"sizemode\":\"area\",\"sizeref\":0.3725},\"mode\":\"markers\",\"name\":\"Greenville\",\"showlegend\":true,\"subplot\":\"mapbox\",\"type\":\"scattermapbox\"},{\"hovertemplate\":\"County=Multnomah<br>Rank=%{marker.size}<br>Lat=%{lat}<br>Lon=%{lon}<extra></extra>\",\"lat\":[45.4661508],\"legendgroup\":\"Multnomah\",\"lon\":[-122.7127865],\"marker\":{\"color\":\"#19d3f3\",\"size\":[140.7],\"sizemode\":\"area\",\"sizeref\":0.3725},\"mode\":\"markers\",\"name\":\"Multnomah\",\"showlegend\":true,\"subplot\":\"mapbox\",\"type\":\"scattermapbox\"},{\"hovertemplate\":\"County=Will<br>Rank=%{marker.size}<br>Lat=%{lat}<br>Lon=%{lon}<extra></extra>\",\"lat\":[41.4194058],\"legendgroup\":\"Will\",\"lon\":[-87.9994754],\"marker\":{\"color\":\"#FF6692\",\"size\":[139.0],\"sizemode\":\"area\",\"sizeref\":0.3725},\"mode\":\"markers\",\"name\":\"Will\",\"showlegend\":true,\"subplot\":\"mapbox\",\"type\":\"scattermapbox\"},{\"hovertemplate\":\"County=Spokane<br>Rank=%{marker.size}<br>Lat=%{lat}<br>Lon=%{lon}<extra></extra>\",\"lat\":[47.6571934],\"legendgroup\":\"Spokane\",\"lon\":[-117.4235106],\"marker\":{\"color\":\"#B6E880\",\"size\":[137.1],\"sizemode\":\"area\",\"sizeref\":0.3725},\"mode\":\"markers\",\"name\":\"Spokane\",\"showlegend\":true,\"subplot\":\"mapbox\",\"type\":\"scattermapbox\"},{\"hovertemplate\":\"County=Ramsey<br>Rank=%{marker.size}<br>Lat=%{lat}<br>Lon=%{lon}<extra></extra>\",\"lat\":[45.0165728],\"legendgroup\":\"Ramsey\",\"lon\":[-93.0949501],\"marker\":{\"color\":\"#FF97FF\",\"size\":[137.1],\"sizemode\":\"area\",\"sizeref\":0.3725},\"mode\":\"markers\",\"name\":\"Ramsey\",\"showlegend\":true,\"subplot\":\"mapbox\",\"type\":\"scattermapbox\"},{\"hovertemplate\":\"County=Douglas<br>Rank=%{marker.size}<br>Lat=%{lat}<br>Lon=%{lon}<extra></extra>\",\"lat\":[41.2954112],\"legendgroup\":\"Douglas\",\"lon\":[-96.1415672],\"marker\":{\"color\":\"#FECB52\",\"size\":[136.9],\"sizemode\":\"area\",\"sizeref\":0.3725},\"mode\":\"markers\",\"name\":\"Douglas\",\"showlegend\":true,\"subplot\":\"mapbox\",\"type\":\"scattermapbox\"}],                        {\"legend\":{\"itemsizing\":\"constant\",\"title\":{\"text\":\"County\"},\"tracegroupgap\":0},\"mapbox\":{\"accesstoken\":\"pk.eyJ1IjoiY2hpcmF0aGRldmluZGEiLCJhIjoiY2t0anlsbGc1MWdybzJ1cGF1dWNodWcwOCJ9.SsSKqiRycn7_xaVsjGIdBw\",\"center\":{\"lat\":40.229659240000004,\"lon\":-97.65069143999999},\"domain\":{\"x\":[0.0,1.0],\"y\":[0.0,1.0]},\"zoom\":3},\"template\":{\"data\":{\"bar\":[{\"error_x\":{\"color\":\"#2a3f5f\"},\"error_y\":{\"color\":\"#2a3f5f\"},\"marker\":{\"line\":{\"color\":\"#E5ECF6\",\"width\":0.5},\"pattern\":{\"fillmode\":\"overlay\",\"size\":10,\"solidity\":0.2}},\"type\":\"bar\"}],\"barpolar\":[{\"marker\":{\"line\":{\"color\":\"#E5ECF6\",\"width\":0.5},\"pattern\":{\"fillmode\":\"overlay\",\"size\":10,\"solidity\":0.2}},\"type\":\"barpolar\"}],\"carpet\":[{\"aaxis\":{\"endlinecolor\":\"#2a3f5f\",\"gridcolor\":\"white\",\"linecolor\":\"white\",\"minorgridcolor\":\"white\",\"startlinecolor\":\"#2a3f5f\"},\"baxis\":{\"endlinecolor\":\"#2a3f5f\",\"gridcolor\":\"white\",\"linecolor\":\"white\",\"minorgridcolor\":\"white\",\"startlinecolor\":\"#2a3f5f\"},\"type\":\"carpet\"}],\"choropleth\":[{\"colorbar\":{\"outlinewidth\":0,\"ticks\":\"\"},\"type\":\"choropleth\"}],\"contour\":[{\"colorbar\":{\"outlinewidth\":0,\"ticks\":\"\"},\"colorscale\":[[0.0,\"#0d0887\"],[0.1111111111111111,\"#46039f\"],[0.2222222222222222,\"#7201a8\"],[0.3333333333333333,\"#9c179e\"],[0.4444444444444444,\"#bd3786\"],[0.5555555555555556,\"#d8576b\"],[0.6666666666666666,\"#ed7953\"],[0.7777777777777778,\"#fb9f3a\"],[0.8888888888888888,\"#fdca26\"],[1.0,\"#f0f921\"]],\"type\":\"contour\"}],\"contourcarpet\":[{\"colorbar\":{\"outlinewidth\":0,\"ticks\":\"\"},\"type\":\"contourcarpet\"}],\"heatmap\":[{\"colorbar\":{\"outlinewidth\":0,\"ticks\":\"\"},\"colorscale\":[[0.0,\"#0d0887\"],[0.1111111111111111,\"#46039f\"],[0.2222222222222222,\"#7201a8\"],[0.3333333333333333,\"#9c179e\"],[0.4444444444444444,\"#bd3786\"],[0.5555555555555556,\"#d8576b\"],[0.6666666666666666,\"#ed7953\"],[0.7777777777777778,\"#fb9f3a\"],[0.8888888888888888,\"#fdca26\"],[1.0,\"#f0f921\"]],\"type\":\"heatmap\"}],\"heatmapgl\":[{\"colorbar\":{\"outlinewidth\":0,\"ticks\":\"\"},\"colorscale\":[[0.0,\"#0d0887\"],[0.1111111111111111,\"#46039f\"],[0.2222222222222222,\"#7201a8\"],[0.3333333333333333,\"#9c179e\"],[0.4444444444444444,\"#bd3786\"],[0.5555555555555556,\"#d8576b\"],[0.6666666666666666,\"#ed7953\"],[0.7777777777777778,\"#fb9f3a\"],[0.8888888888888888,\"#fdca26\"],[1.0,\"#f0f921\"]],\"type\":\"heatmapgl\"}],\"histogram\":[{\"marker\":{\"pattern\":{\"fillmode\":\"overlay\",\"size\":10,\"solidity\":0.2}},\"type\":\"histogram\"}],\"histogram2d\":[{\"colorbar\":{\"outlinewidth\":0,\"ticks\":\"\"},\"colorscale\":[[0.0,\"#0d0887\"],[0.1111111111111111,\"#46039f\"],[0.2222222222222222,\"#7201a8\"],[0.3333333333333333,\"#9c179e\"],[0.4444444444444444,\"#bd3786\"],[0.5555555555555556,\"#d8576b\"],[0.6666666666666666,\"#ed7953\"],[0.7777777777777778,\"#fb9f3a\"],[0.8888888888888888,\"#fdca26\"],[1.0,\"#f0f921\"]],\"type\":\"histogram2d\"}],\"histogram2dcontour\":[{\"colorbar\":{\"outlinewidth\":0,\"ticks\":\"\"},\"colorscale\":[[0.0,\"#0d0887\"],[0.1111111111111111,\"#46039f\"],[0.2222222222222222,\"#7201a8\"],[0.3333333333333333,\"#9c179e\"],[0.4444444444444444,\"#bd3786\"],[0.5555555555555556,\"#d8576b\"],[0.6666666666666666,\"#ed7953\"],[0.7777777777777778,\"#fb9f3a\"],[0.8888888888888888,\"#fdca26\"],[1.0,\"#f0f921\"]],\"type\":\"histogram2dcontour\"}],\"mesh3d\":[{\"colorbar\":{\"outlinewidth\":0,\"ticks\":\"\"},\"type\":\"mesh3d\"}],\"parcoords\":[{\"line\":{\"colorbar\":{\"outlinewidth\":0,\"ticks\":\"\"}},\"type\":\"parcoords\"}],\"pie\":[{\"automargin\":true,\"type\":\"pie\"}],\"scatter\":[{\"marker\":{\"colorbar\":{\"outlinewidth\":0,\"ticks\":\"\"}},\"type\":\"scatter\"}],\"scatter3d\":[{\"line\":{\"colorbar\":{\"outlinewidth\":0,\"ticks\":\"\"}},\"marker\":{\"colorbar\":{\"outlinewidth\":0,\"ticks\":\"\"}},\"type\":\"scatter3d\"}],\"scattercarpet\":[{\"marker\":{\"colorbar\":{\"outlinewidth\":0,\"ticks\":\"\"}},\"type\":\"scattercarpet\"}],\"scattergeo\":[{\"marker\":{\"colorbar\":{\"outlinewidth\":0,\"ticks\":\"\"}},\"type\":\"scattergeo\"}],\"scattergl\":[{\"marker\":{\"colorbar\":{\"outlinewidth\":0,\"ticks\":\"\"}},\"type\":\"scattergl\"}],\"scattermapbox\":[{\"marker\":{\"colorbar\":{\"outlinewidth\":0,\"ticks\":\"\"}},\"type\":\"scattermapbox\"}],\"scatterpolar\":[{\"marker\":{\"colorbar\":{\"outlinewidth\":0,\"ticks\":\"\"}},\"type\":\"scatterpolar\"}],\"scatterpolargl\":[{\"marker\":{\"colorbar\":{\"outlinewidth\":0,\"ticks\":\"\"}},\"type\":\"scatterpolargl\"}],\"scatterternary\":[{\"marker\":{\"colorbar\":{\"outlinewidth\":0,\"ticks\":\"\"}},\"type\":\"scatterternary\"}],\"surface\":[{\"colorbar\":{\"outlinewidth\":0,\"ticks\":\"\"},\"colorscale\":[[0.0,\"#0d0887\"],[0.1111111111111111,\"#46039f\"],[0.2222222222222222,\"#7201a8\"],[0.3333333333333333,\"#9c179e\"],[0.4444444444444444,\"#bd3786\"],[0.5555555555555556,\"#d8576b\"],[0.6666666666666666,\"#ed7953\"],[0.7777777777777778,\"#fb9f3a\"],[0.8888888888888888,\"#fdca26\"],[1.0,\"#f0f921\"]],\"type\":\"surface\"}],\"table\":[{\"cells\":{\"fill\":{\"color\":\"#EBF0F8\"},\"line\":{\"color\":\"white\"}},\"header\":{\"fill\":{\"color\":\"#C8D4E3\"},\"line\":{\"color\":\"white\"}},\"type\":\"table\"}]},\"layout\":{\"annotationdefaults\":{\"arrowcolor\":\"#2a3f5f\",\"arrowhead\":0,\"arrowwidth\":1},\"autotypenumbers\":\"strict\",\"coloraxis\":{\"colorbar\":{\"outlinewidth\":0,\"ticks\":\"\"}},\"colorscale\":{\"diverging\":[[0,\"#8e0152\"],[0.1,\"#c51b7d\"],[0.2,\"#de77ae\"],[0.3,\"#f1b6da\"],[0.4,\"#fde0ef\"],[0.5,\"#f7f7f7\"],[0.6,\"#e6f5d0\"],[0.7,\"#b8e186\"],[0.8,\"#7fbc41\"],[0.9,\"#4d9221\"],[1,\"#276419\"]],\"sequential\":[[0.0,\"#0d0887\"],[0.1111111111111111,\"#46039f\"],[0.2222222222222222,\"#7201a8\"],[0.3333333333333333,\"#9c179e\"],[0.4444444444444444,\"#bd3786\"],[0.5555555555555556,\"#d8576b\"],[0.6666666666666666,\"#ed7953\"],[0.7777777777777778,\"#fb9f3a\"],[0.8888888888888888,\"#fdca26\"],[1.0,\"#f0f921\"]],\"sequentialminus\":[[0.0,\"#0d0887\"],[0.1111111111111111,\"#46039f\"],[0.2222222222222222,\"#7201a8\"],[0.3333333333333333,\"#9c179e\"],[0.4444444444444444,\"#bd3786\"],[0.5555555555555556,\"#d8576b\"],[0.6666666666666666,\"#ed7953\"],[0.7777777777777778,\"#fb9f3a\"],[0.8888888888888888,\"#fdca26\"],[1.0,\"#f0f921\"]]},\"colorway\":[\"#636efa\",\"#EF553B\",\"#00cc96\",\"#ab63fa\",\"#FFA15A\",\"#19d3f3\",\"#FF6692\",\"#B6E880\",\"#FF97FF\",\"#FECB52\"],\"font\":{\"color\":\"#2a3f5f\"},\"geo\":{\"bgcolor\":\"white\",\"lakecolor\":\"white\",\"landcolor\":\"#E5ECF6\",\"showlakes\":true,\"showland\":true,\"subunitcolor\":\"white\"},\"hoverlabel\":{\"align\":\"left\"},\"hovermode\":\"closest\",\"mapbox\":{\"style\":\"light\"},\"paper_bgcolor\":\"white\",\"plot_bgcolor\":\"#E5ECF6\",\"polar\":{\"angularaxis\":{\"gridcolor\":\"white\",\"linecolor\":\"white\",\"ticks\":\"\"},\"bgcolor\":\"#E5ECF6\",\"radialaxis\":{\"gridcolor\":\"white\",\"linecolor\":\"white\",\"ticks\":\"\"}},\"scene\":{\"xaxis\":{\"backgroundcolor\":\"#E5ECF6\",\"gridcolor\":\"white\",\"gridwidth\":2,\"linecolor\":\"white\",\"showbackground\":true,\"ticks\":\"\",\"zerolinecolor\":\"white\"},\"yaxis\":{\"backgroundcolor\":\"#E5ECF6\",\"gridcolor\":\"white\",\"gridwidth\":2,\"linecolor\":\"white\",\"showbackground\":true,\"ticks\":\"\",\"zerolinecolor\":\"white\"},\"zaxis\":{\"backgroundcolor\":\"#E5ECF6\",\"gridcolor\":\"white\",\"gridwidth\":2,\"linecolor\":\"white\",\"showbackground\":true,\"ticks\":\"\",\"zerolinecolor\":\"white\"}},\"shapedefaults\":{\"line\":{\"color\":\"#2a3f5f\"}},\"ternary\":{\"aaxis\":{\"gridcolor\":\"white\",\"linecolor\":\"white\",\"ticks\":\"\"},\"baxis\":{\"gridcolor\":\"white\",\"linecolor\":\"white\",\"ticks\":\"\"},\"bgcolor\":\"#E5ECF6\",\"caxis\":{\"gridcolor\":\"white\",\"linecolor\":\"white\",\"ticks\":\"\"}},\"title\":{\"x\":0.05},\"xaxis\":{\"automargin\":true,\"gridcolor\":\"white\",\"linecolor\":\"white\",\"ticks\":\"\",\"title\":{\"standoff\":15},\"zerolinecolor\":\"white\",\"zerolinewidth\":2},\"yaxis\":{\"automargin\":true,\"gridcolor\":\"white\",\"linecolor\":\"white\",\"ticks\":\"\",\"title\":{\"standoff\":15},\"zerolinecolor\":\"white\",\"zerolinewidth\":2}}},\"title\":{\"text\":\"Top 10 Wine Counties in US\"}},                        {\"responsive\": true}                    ).then(function(){\n",
       "                            \n",
       "var gd = document.getElementById('53c0c18e-87fa-4d4b-86f1-f294a865a4ca');\n",
       "var x = new MutationObserver(function (mutations, observer) {{\n",
       "        var display = window.getComputedStyle(gd).display;\n",
       "        if (!display || display === 'none') {{\n",
       "            console.log([gd, 'removed!']);\n",
       "            Plotly.purge(gd);\n",
       "            observer.disconnect();\n",
       "        }}\n",
       "}});\n",
       "\n",
       "// Listen for the removal of the full notebook cells\n",
       "var notebookContainer = gd.closest('#notebook-container');\n",
       "if (notebookContainer) {{\n",
       "    x.observe(notebookContainer, {childList: true});\n",
       "}}\n",
       "\n",
       "// Listen for the clearing of the current output cell\n",
       "var outputEl = gd.closest('.output');\n",
       "if (outputEl) {{\n",
       "    x.observe(outputEl, {childList: true});\n",
       "}}\n",
       "\n",
       "                        })                };                });            </script>        </div>"
      ]
     },
     "metadata": {},
     "output_type": "display_data"
    }
   ],
   "source": [
    "# Create a scatter mapbox to analyze wine countys info\n",
    "map_plot = px.scatter_mapbox(\n",
    "    df,\n",
    "    lat='Lat',\n",
    "    lon='Lon',\n",
    "    color='County',\n",
    "    size='Rank',\n",
    "    title='Top 10 Wine Counties in US',\n",
    "    color_continuous_scale=px.colors.sequential.Rainbow,\n",
    "    size_max=20,\n",
    "    zoom=3\n",
    ")\n",
    "#map_plot.update_traces(marker={'size': 12})\n",
    "map_plot.show()"
   ]
  },
  {
   "cell_type": "code",
   "execution_count": null,
   "metadata": {},
   "outputs": [],
   "source": []
  }
 ],
 "metadata": {
  "kernelspec": {
   "display_name": "Python 3",
   "language": "python",
   "name": "python3"
  },
  "language_info": {
   "codemirror_mode": {
    "name": "ipython",
    "version": 3
   },
   "file_extension": ".py",
   "mimetype": "text/x-python",
   "name": "python",
   "nbconvert_exporter": "python",
   "pygments_lexer": "ipython3",
   "version": "3.8.3"
  }
 },
 "nbformat": 4,
 "nbformat_minor": 4
}
