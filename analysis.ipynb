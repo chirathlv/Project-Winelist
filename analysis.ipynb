{
 "cells": [
  {
   "cell_type": "markdown",
   "metadata": {},
   "source": [
    "# Wine List Analysis\n",
    "\n",
    "This analysis provide appropriate customer insights to enable Wine List Corporation develop a targeted marketing and sales strategy so as to maximize sales dollars and minimize marketing dollars"
   ]
  },
  {
   "cell_type": "code",
   "execution_count": 22,
   "metadata": {},
   "outputs": [],
   "source": [
    "# imports\n",
    "import panel as pn\n",
    "pn.extension('plotly')\n",
    "import plotly.express as px\n",
    "import pandas as pd\n",
    "import hvplot.pandas\n",
    "import matplotlib.pyplot as plt\n",
    "import numpy as np\n",
    "import os\n",
    "from pathlib import Path\n",
    "from dotenv import load_dotenv\n",
    "\n",
    "import warnings\n",
    "warnings.filterwarnings('ignore')"
   ]
  },
  {
   "cell_type": "code",
   "execution_count": 2,
   "metadata": {},
   "outputs": [],
   "source": [
    "# Read the Mapbox API key\n",
    "load_dotenv()\n",
    "map_box_api = os.getenv(\"mapbox\")"
   ]
  },
  {
   "cell_type": "markdown",
   "metadata": {},
   "source": [
    "- - -"
   ]
  },
  {
   "cell_type": "markdown",
   "metadata": {},
   "source": [
    "## Load Wine Marketing Data"
   ]
  },
  {
   "cell_type": "code",
   "execution_count": 3,
   "metadata": {},
   "outputs": [
    {
     "data": {
      "text/html": [
       "<div>\n",
       "<style scoped>\n",
       "    .dataframe tbody tr th:only-of-type {\n",
       "        vertical-align: middle;\n",
       "    }\n",
       "\n",
       "    .dataframe tbody tr th {\n",
       "        vertical-align: top;\n",
       "    }\n",
       "\n",
       "    .dataframe thead th {\n",
       "        text-align: right;\n",
       "    }\n",
       "</style>\n",
       "<table border=\"1\" class=\"dataframe\">\n",
       "  <thead>\n",
       "    <tr style=\"text-align: right;\">\n",
       "      <th></th>\n",
       "      <th>CustId</th>\n",
       "      <th>BirthYear</th>\n",
       "      <th>Education</th>\n",
       "      <th>MaritalStat</th>\n",
       "      <th>AnnualInc</th>\n",
       "      <th>NumKids</th>\n",
       "      <th>NumTeen</th>\n",
       "      <th>DateEnrol</th>\n",
       "      <th>Recency</th>\n",
       "      <th>MntWines</th>\n",
       "      <th>...</th>\n",
       "      <th>NumWebVisitsMonth</th>\n",
       "      <th>AcceptedCmp3</th>\n",
       "      <th>AcceptedCmp4</th>\n",
       "      <th>AcceptedCmp5</th>\n",
       "      <th>AcceptedCmp1</th>\n",
       "      <th>AcceptedCmp2</th>\n",
       "      <th>Complain</th>\n",
       "      <th>Z_CostContact</th>\n",
       "      <th>Z_Revenue</th>\n",
       "      <th>Response</th>\n",
       "    </tr>\n",
       "  </thead>\n",
       "  <tbody>\n",
       "    <tr>\n",
       "      <th>0</th>\n",
       "      <td>0</td>\n",
       "      <td>1985</td>\n",
       "      <td>Graduation</td>\n",
       "      <td>Married</td>\n",
       "      <td>70951.0</td>\n",
       "      <td>0</td>\n",
       "      <td>0</td>\n",
       "      <td>4/5/2013</td>\n",
       "      <td>66</td>\n",
       "      <td>239</td>\n",
       "      <td>...</td>\n",
       "      <td>1</td>\n",
       "      <td>0</td>\n",
       "      <td>0</td>\n",
       "      <td>0</td>\n",
       "      <td>0</td>\n",
       "      <td>0</td>\n",
       "      <td>0</td>\n",
       "      <td>3</td>\n",
       "      <td>11</td>\n",
       "      <td>0</td>\n",
       "    </tr>\n",
       "    <tr>\n",
       "      <th>1</th>\n",
       "      <td>1</td>\n",
       "      <td>1961</td>\n",
       "      <td>Graduation</td>\n",
       "      <td>Single</td>\n",
       "      <td>57091.0</td>\n",
       "      <td>0</td>\n",
       "      <td>0</td>\n",
       "      <td>15-06-2014</td>\n",
       "      <td>0</td>\n",
       "      <td>464</td>\n",
       "      <td>...</td>\n",
       "      <td>5</td>\n",
       "      <td>0</td>\n",
       "      <td>0</td>\n",
       "      <td>0</td>\n",
       "      <td>0</td>\n",
       "      <td>1</td>\n",
       "      <td>0</td>\n",
       "      <td>3</td>\n",
       "      <td>11</td>\n",
       "      <td>1</td>\n",
       "    </tr>\n",
       "    <tr>\n",
       "      <th>2</th>\n",
       "      <td>9</td>\n",
       "      <td>1975</td>\n",
       "      <td>Master</td>\n",
       "      <td>Single</td>\n",
       "      <td>46098.0</td>\n",
       "      <td>1</td>\n",
       "      <td>1</td>\n",
       "      <td>18-08-2012</td>\n",
       "      <td>86</td>\n",
       "      <td>57</td>\n",
       "      <td>...</td>\n",
       "      <td>8</td>\n",
       "      <td>0</td>\n",
       "      <td>0</td>\n",
       "      <td>0</td>\n",
       "      <td>0</td>\n",
       "      <td>0</td>\n",
       "      <td>0</td>\n",
       "      <td>3</td>\n",
       "      <td>11</td>\n",
       "      <td>0</td>\n",
       "    </tr>\n",
       "    <tr>\n",
       "      <th>3</th>\n",
       "      <td>13</td>\n",
       "      <td>1947</td>\n",
       "      <td>PhD</td>\n",
       "      <td>Widow</td>\n",
       "      <td>25358.0</td>\n",
       "      <td>0</td>\n",
       "      <td>1</td>\n",
       "      <td>22-07-2013</td>\n",
       "      <td>57</td>\n",
       "      <td>19</td>\n",
       "      <td>...</td>\n",
       "      <td>6</td>\n",
       "      <td>0</td>\n",
       "      <td>0</td>\n",
       "      <td>0</td>\n",
       "      <td>0</td>\n",
       "      <td>0</td>\n",
       "      <td>0</td>\n",
       "      <td>3</td>\n",
       "      <td>11</td>\n",
       "      <td>0</td>\n",
       "    </tr>\n",
       "    <tr>\n",
       "      <th>4</th>\n",
       "      <td>17</td>\n",
       "      <td>1971</td>\n",
       "      <td>PhD</td>\n",
       "      <td>Married</td>\n",
       "      <td>60491.0</td>\n",
       "      <td>0</td>\n",
       "      <td>1</td>\n",
       "      <td>6/9/2013</td>\n",
       "      <td>81</td>\n",
       "      <td>637</td>\n",
       "      <td>...</td>\n",
       "      <td>5</td>\n",
       "      <td>0</td>\n",
       "      <td>0</td>\n",
       "      <td>0</td>\n",
       "      <td>0</td>\n",
       "      <td>0</td>\n",
       "      <td>0</td>\n",
       "      <td>3</td>\n",
       "      <td>11</td>\n",
       "      <td>0</td>\n",
       "    </tr>\n",
       "  </tbody>\n",
       "</table>\n",
       "<p>5 rows × 29 columns</p>\n",
       "</div>"
      ],
      "text/plain": [
       "   CustId  BirthYear   Education MaritalStat  AnnualInc  NumKids  NumTeen  \\\n",
       "0       0       1985  Graduation     Married    70951.0        0        0   \n",
       "1       1       1961  Graduation      Single    57091.0        0        0   \n",
       "2       9       1975      Master      Single    46098.0        1        1   \n",
       "3      13       1947         PhD       Widow    25358.0        0        1   \n",
       "4      17       1971         PhD     Married    60491.0        0        1   \n",
       "\n",
       "    DateEnrol  Recency  MntWines  ...  NumWebVisitsMonth  AcceptedCmp3  \\\n",
       "0    4/5/2013       66       239  ...                  1             0   \n",
       "1  15-06-2014        0       464  ...                  5             0   \n",
       "2  18-08-2012       86        57  ...                  8             0   \n",
       "3  22-07-2013       57        19  ...                  6             0   \n",
       "4    6/9/2013       81       637  ...                  5             0   \n",
       "\n",
       "   AcceptedCmp4  AcceptedCmp5  AcceptedCmp1  AcceptedCmp2  Complain  \\\n",
       "0             0             0             0             0         0   \n",
       "1             0             0             0             1         0   \n",
       "2             0             0             0             0         0   \n",
       "3             0             0             0             0         0   \n",
       "4             0             0             0             0         0   \n",
       "\n",
       "   Z_CostContact  Z_Revenue  Response  \n",
       "0              3         11         0  \n",
       "1              3         11         1  \n",
       "2              3         11         0  \n",
       "3              3         11         0  \n",
       "4              3         11         0  \n",
       "\n",
       "[5 rows x 29 columns]"
      ]
     },
     "execution_count": 3,
     "metadata": {},
     "output_type": "execute_result"
    }
   ],
   "source": [
    "file_path = Path('./Data/marketing_data.csv')\n",
    "wine_data = pd.read_csv(file_path, encoding='UTF-8')\n",
    "wine_data.head()"
   ]
  },
  {
   "cell_type": "markdown",
   "metadata": {},
   "source": [
    "- - -"
   ]
  },
  {
   "cell_type": "markdown",
   "metadata": {},
   "source": [
    "## Data Pre-Processing"
   ]
  },
  {
   "cell_type": "code",
   "execution_count": 4,
   "metadata": {},
   "outputs": [
    {
     "data": {
      "text/plain": [
       "(2240, 29)"
      ]
     },
     "execution_count": 4,
     "metadata": {},
     "output_type": "execute_result"
    }
   ],
   "source": [
    "# Checking if the data has been correcly fully loaded (Rows x Columns)\n",
    "wine_data.shape"
   ]
  },
  {
   "cell_type": "code",
   "execution_count": 5,
   "metadata": {},
   "outputs": [
    {
     "data": {
      "text/plain": [
       "Index(['CustId', 'BirthYear', 'Education', 'MaritalStat', 'AnnualInc',\n",
       "       'NumKids', 'NumTeen', 'DateEnrol', 'Recency', 'MntWines', 'MntFruits',\n",
       "       'MntMeatProducts', 'MntFishProducts', 'MntSweetProducts',\n",
       "       'MntGoldProds', 'NumDealsPurchases', 'NumWebPurchases',\n",
       "       'NumCatalogPurchases', 'NumStorePurchases', 'NumWebVisitsMonth',\n",
       "       'AcceptedCmp3', 'AcceptedCmp4', 'AcceptedCmp5', 'AcceptedCmp1',\n",
       "       'AcceptedCmp2', 'Complain', 'Z_CostContact', 'Z_Revenue', 'Response'],\n",
       "      dtype='object')"
      ]
     },
     "execution_count": 5,
     "metadata": {},
     "output_type": "execute_result"
    }
   ],
   "source": [
    "# Checking all the columns in the data that we required for analysis\n",
    "wine_data.columns"
   ]
  },
  {
   "cell_type": "code",
   "execution_count": 6,
   "metadata": {},
   "outputs": [
    {
     "data": {
      "text/html": [
       "<div>\n",
       "<style scoped>\n",
       "    .dataframe tbody tr th:only-of-type {\n",
       "        vertical-align: middle;\n",
       "    }\n",
       "\n",
       "    .dataframe tbody tr th {\n",
       "        vertical-align: top;\n",
       "    }\n",
       "\n",
       "    .dataframe thead th {\n",
       "        text-align: right;\n",
       "    }\n",
       "</style>\n",
       "<table border=\"1\" class=\"dataframe\">\n",
       "  <thead>\n",
       "    <tr style=\"text-align: right;\">\n",
       "      <th></th>\n",
       "      <th>CustId</th>\n",
       "      <th>BirthYear</th>\n",
       "      <th>Education</th>\n",
       "      <th>MaritalStat</th>\n",
       "      <th>AnnualInc</th>\n",
       "      <th>NumKids</th>\n",
       "      <th>NumTeen</th>\n",
       "      <th>DateEnrol</th>\n",
       "      <th>Recency</th>\n",
       "      <th>MntWines</th>\n",
       "      <th>...</th>\n",
       "      <th>NumWebPurchases</th>\n",
       "      <th>NumCatalogPurchases</th>\n",
       "      <th>NumStorePurchases</th>\n",
       "      <th>NumWebVisitsMonth</th>\n",
       "      <th>AcceptedCmp3</th>\n",
       "      <th>AcceptedCmp4</th>\n",
       "      <th>AcceptedCmp5</th>\n",
       "      <th>AcceptedCmp1</th>\n",
       "      <th>AcceptedCmp2</th>\n",
       "      <th>Complain</th>\n",
       "    </tr>\n",
       "  </thead>\n",
       "  <tbody>\n",
       "    <tr>\n",
       "      <th>0</th>\n",
       "      <td>0</td>\n",
       "      <td>1985</td>\n",
       "      <td>Graduation</td>\n",
       "      <td>Married</td>\n",
       "      <td>70951.0</td>\n",
       "      <td>0</td>\n",
       "      <td>0</td>\n",
       "      <td>4/5/2013</td>\n",
       "      <td>66</td>\n",
       "      <td>239</td>\n",
       "      <td>...</td>\n",
       "      <td>3</td>\n",
       "      <td>4</td>\n",
       "      <td>9</td>\n",
       "      <td>1</td>\n",
       "      <td>0</td>\n",
       "      <td>0</td>\n",
       "      <td>0</td>\n",
       "      <td>0</td>\n",
       "      <td>0</td>\n",
       "      <td>0</td>\n",
       "    </tr>\n",
       "    <tr>\n",
       "      <th>1</th>\n",
       "      <td>1</td>\n",
       "      <td>1961</td>\n",
       "      <td>Graduation</td>\n",
       "      <td>Single</td>\n",
       "      <td>57091.0</td>\n",
       "      <td>0</td>\n",
       "      <td>0</td>\n",
       "      <td>15-06-2014</td>\n",
       "      <td>0</td>\n",
       "      <td>464</td>\n",
       "      <td>...</td>\n",
       "      <td>7</td>\n",
       "      <td>3</td>\n",
       "      <td>7</td>\n",
       "      <td>5</td>\n",
       "      <td>0</td>\n",
       "      <td>0</td>\n",
       "      <td>0</td>\n",
       "      <td>0</td>\n",
       "      <td>1</td>\n",
       "      <td>0</td>\n",
       "    </tr>\n",
       "    <tr>\n",
       "      <th>2</th>\n",
       "      <td>9</td>\n",
       "      <td>1975</td>\n",
       "      <td>Master</td>\n",
       "      <td>Single</td>\n",
       "      <td>46098.0</td>\n",
       "      <td>1</td>\n",
       "      <td>1</td>\n",
       "      <td>18-08-2012</td>\n",
       "      <td>86</td>\n",
       "      <td>57</td>\n",
       "      <td>...</td>\n",
       "      <td>3</td>\n",
       "      <td>2</td>\n",
       "      <td>2</td>\n",
       "      <td>8</td>\n",
       "      <td>0</td>\n",
       "      <td>0</td>\n",
       "      <td>0</td>\n",
       "      <td>0</td>\n",
       "      <td>0</td>\n",
       "      <td>0</td>\n",
       "    </tr>\n",
       "    <tr>\n",
       "      <th>3</th>\n",
       "      <td>13</td>\n",
       "      <td>1947</td>\n",
       "      <td>PhD</td>\n",
       "      <td>Widow</td>\n",
       "      <td>25358.0</td>\n",
       "      <td>0</td>\n",
       "      <td>1</td>\n",
       "      <td>22-07-2013</td>\n",
       "      <td>57</td>\n",
       "      <td>19</td>\n",
       "      <td>...</td>\n",
       "      <td>1</td>\n",
       "      <td>0</td>\n",
       "      <td>3</td>\n",
       "      <td>6</td>\n",
       "      <td>0</td>\n",
       "      <td>0</td>\n",
       "      <td>0</td>\n",
       "      <td>0</td>\n",
       "      <td>0</td>\n",
       "      <td>0</td>\n",
       "    </tr>\n",
       "    <tr>\n",
       "      <th>4</th>\n",
       "      <td>17</td>\n",
       "      <td>1971</td>\n",
       "      <td>PhD</td>\n",
       "      <td>Married</td>\n",
       "      <td>60491.0</td>\n",
       "      <td>0</td>\n",
       "      <td>1</td>\n",
       "      <td>6/9/2013</td>\n",
       "      <td>81</td>\n",
       "      <td>637</td>\n",
       "      <td>...</td>\n",
       "      <td>6</td>\n",
       "      <td>11</td>\n",
       "      <td>7</td>\n",
       "      <td>5</td>\n",
       "      <td>0</td>\n",
       "      <td>0</td>\n",
       "      <td>0</td>\n",
       "      <td>0</td>\n",
       "      <td>0</td>\n",
       "      <td>0</td>\n",
       "    </tr>\n",
       "  </tbody>\n",
       "</table>\n",
       "<p>5 rows × 25 columns</p>\n",
       "</div>"
      ],
      "text/plain": [
       "   CustId  BirthYear   Education MaritalStat  AnnualInc  NumKids  NumTeen  \\\n",
       "0       0       1985  Graduation     Married    70951.0        0        0   \n",
       "1       1       1961  Graduation      Single    57091.0        0        0   \n",
       "2       9       1975      Master      Single    46098.0        1        1   \n",
       "3      13       1947         PhD       Widow    25358.0        0        1   \n",
       "4      17       1971         PhD     Married    60491.0        0        1   \n",
       "\n",
       "    DateEnrol  Recency  MntWines  ...  NumWebPurchases  NumCatalogPurchases  \\\n",
       "0    4/5/2013       66       239  ...                3                    4   \n",
       "1  15-06-2014        0       464  ...                7                    3   \n",
       "2  18-08-2012       86        57  ...                3                    2   \n",
       "3  22-07-2013       57        19  ...                1                    0   \n",
       "4    6/9/2013       81       637  ...                6                   11   \n",
       "\n",
       "   NumStorePurchases  NumWebVisitsMonth  AcceptedCmp3  AcceptedCmp4  \\\n",
       "0                  9                  1             0             0   \n",
       "1                  7                  5             0             0   \n",
       "2                  2                  8             0             0   \n",
       "3                  3                  6             0             0   \n",
       "4                  7                  5             0             0   \n",
       "\n",
       "   AcceptedCmp5  AcceptedCmp1  AcceptedCmp2  Complain  \n",
       "0             0             0             0         0  \n",
       "1             0             0             1         0  \n",
       "2             0             0             0         0  \n",
       "3             0             0             0         0  \n",
       "4             0             0             0         0  \n",
       "\n",
       "[5 rows x 25 columns]"
      ]
     },
     "execution_count": 6,
     "metadata": {},
     "output_type": "execute_result"
    }
   ],
   "source": [
    "# Drop all the unwanted columns\n",
    "wine_data.drop(columns=['Z_CostContact', 'Z_Revenue', 'Response', 'MntGoldProds'], inplace=True)\n",
    "wine_data.head()"
   ]
  },
  {
   "cell_type": "code",
   "execution_count": 7,
   "metadata": {},
   "outputs": [
    {
     "data": {
      "text/plain": [
       "CustId                   int64\n",
       "BirthYear                int64\n",
       "Education               object\n",
       "MaritalStat             object\n",
       "AnnualInc              float64\n",
       "NumKids                  int64\n",
       "NumTeen                  int64\n",
       "DateEnrol               object\n",
       "Recency                  int64\n",
       "MntWines                 int64\n",
       "MntFruits                int64\n",
       "MntMeatProducts          int64\n",
       "MntFishProducts          int64\n",
       "MntSweetProducts         int64\n",
       "NumDealsPurchases        int64\n",
       "NumWebPurchases          int64\n",
       "NumCatalogPurchases      int64\n",
       "NumStorePurchases        int64\n",
       "NumWebVisitsMonth        int64\n",
       "AcceptedCmp3             int64\n",
       "AcceptedCmp4             int64\n",
       "AcceptedCmp5             int64\n",
       "AcceptedCmp1             int64\n",
       "AcceptedCmp2             int64\n",
       "Complain                 int64\n",
       "dtype: object"
      ]
     },
     "execution_count": 7,
     "metadata": {},
     "output_type": "execute_result"
    }
   ],
   "source": [
    "# Checking data types\n",
    "wine_data.dtypes"
   ]
  },
  {
   "cell_type": "code",
   "execution_count": 8,
   "metadata": {},
   "outputs": [
    {
     "name": "stdout",
     "output_type": "stream",
     "text": [
      "Number of Negative values in AnnualInc column:  0\n",
      "Number of Negative values in BirthYear column:  0\n",
      "Number of Negative values in NumKids column:  0\n",
      "Number of Negative values in NumTeen column:  0\n",
      "Number of Negative values in Recency column:  0\n",
      "Number of Negative values in MntWines column:  0\n",
      "Number of Negative values in MntFruits column:  0\n",
      "Number of Negative values in MntMeatProducts column:  0\n",
      "Number of Negative values in MntFishProducts column:  0\n",
      "Number of Negative values in MntSweetProducts column:  0\n",
      "Number of Negative values in NumDealsPurchases column:  0\n",
      "Number of Negative values in NumWebPurchases column:  0\n",
      "Number of Negative values in NumCatalogPurchases column:  0\n",
      "Number of Negative values in NumStorePurchases column:  0\n",
      "Number of Negative values in NumWebVisitsMonth column:  0\n"
     ]
    }
   ],
   "source": [
    "# Checking if there any negative values for all the numeric columns which are required for analysis\n",
    "print('Number of Negative values in AnnualInc column: ', len(wine_data.loc[wine_data['AnnualInc'] < 0]))\n",
    "print('Number of Negative values in BirthYear column: ', len(wine_data.loc[wine_data['BirthYear'] < 0]))\n",
    "print('Number of Negative values in NumKids column: ', len(wine_data.loc[wine_data['NumKids'] < 0]))\n",
    "print('Number of Negative values in NumTeen column: ', len(wine_data.loc[wine_data['NumTeen'] < 0]))\n",
    "print('Number of Negative values in Recency column: ', len(wine_data.loc[wine_data['Recency'] < 0]))\n",
    "print('Number of Negative values in MntWines column: ', len(wine_data.loc[wine_data['MntWines'] < 0]))\n",
    "print('Number of Negative values in MntFruits column: ', len(wine_data.loc[wine_data['MntFruits'] < 0]))\n",
    "print('Number of Negative values in MntMeatProducts column: ', len(wine_data.loc[wine_data['MntMeatProducts'] < 0]))\n",
    "print('Number of Negative values in MntFishProducts column: ', len(wine_data.loc[wine_data['MntFishProducts'] < 0]))\n",
    "print('Number of Negative values in MntSweetProducts column: ', len(wine_data.loc[wine_data['MntSweetProducts'] < 0]))\n",
    "print('Number of Negative values in NumDealsPurchases column: ', len(wine_data.loc[wine_data['NumDealsPurchases'] < 0]))\n",
    "print('Number of Negative values in NumWebPurchases column: ', len(wine_data.loc[wine_data['NumWebPurchases'] < 0]))\n",
    "print('Number of Negative values in NumCatalogPurchases column: ', len(wine_data.loc[wine_data['NumCatalogPurchases'] < 0]))\n",
    "print('Number of Negative values in NumStorePurchases column: ', len(wine_data.loc[wine_data['NumStorePurchases'] < 0]))\n",
    "print('Number of Negative values in NumWebVisitsMonth column: ', len(wine_data.loc[wine_data['NumWebVisitsMonth'] < 0]))"
   ]
  },
  {
   "cell_type": "code",
   "execution_count": 9,
   "metadata": {},
   "outputs": [
    {
     "data": {
      "text/plain": [
       "0   2013-04-05\n",
       "1   2014-06-15\n",
       "2   2012-08-18\n",
       "3   2013-07-22\n",
       "4   2013-06-09\n",
       "Name: DateEnrol, dtype: datetime64[ns]"
      ]
     },
     "execution_count": 9,
     "metadata": {},
     "output_type": "execute_result"
    }
   ],
   "source": [
    "# Formatting 'DateEnrol' column with correct and consistent date format\n",
    "wine_data['DateEnrol'] = pd.to_datetime(wine_data['DateEnrol'], infer_datetime_format=True)\n",
    "wine_data['DateEnrol'].head()"
   ]
  },
  {
   "cell_type": "code",
   "execution_count": 10,
   "metadata": {},
   "outputs": [
    {
     "data": {
      "text/html": [
       "<div>\n",
       "<style scoped>\n",
       "    .dataframe tbody tr th:only-of-type {\n",
       "        vertical-align: middle;\n",
       "    }\n",
       "\n",
       "    .dataframe tbody tr th {\n",
       "        vertical-align: top;\n",
       "    }\n",
       "\n",
       "    .dataframe thead th {\n",
       "        text-align: right;\n",
       "    }\n",
       "</style>\n",
       "<table border=\"1\" class=\"dataframe\">\n",
       "  <thead>\n",
       "    <tr style=\"text-align: right;\">\n",
       "      <th></th>\n",
       "      <th>CustId</th>\n",
       "      <th>Education</th>\n",
       "      <th>MaritalStat</th>\n",
       "      <th>AnnualInc</th>\n",
       "      <th>NumKids</th>\n",
       "      <th>NumTeen</th>\n",
       "      <th>DateEnrol</th>\n",
       "      <th>Recency</th>\n",
       "      <th>MntWines</th>\n",
       "      <th>MntFruits</th>\n",
       "      <th>...</th>\n",
       "      <th>NumCatalogPurchases</th>\n",
       "      <th>NumStorePurchases</th>\n",
       "      <th>NumWebVisitsMonth</th>\n",
       "      <th>AcceptedCmp3</th>\n",
       "      <th>AcceptedCmp4</th>\n",
       "      <th>AcceptedCmp5</th>\n",
       "      <th>AcceptedCmp1</th>\n",
       "      <th>AcceptedCmp2</th>\n",
       "      <th>Complain</th>\n",
       "      <th>Age</th>\n",
       "    </tr>\n",
       "  </thead>\n",
       "  <tbody>\n",
       "    <tr>\n",
       "      <th>0</th>\n",
       "      <td>0</td>\n",
       "      <td>Graduation</td>\n",
       "      <td>Married</td>\n",
       "      <td>70951.0</td>\n",
       "      <td>0</td>\n",
       "      <td>0</td>\n",
       "      <td>2013-04-05</td>\n",
       "      <td>66</td>\n",
       "      <td>239</td>\n",
       "      <td>10</td>\n",
       "      <td>...</td>\n",
       "      <td>4</td>\n",
       "      <td>9</td>\n",
       "      <td>1</td>\n",
       "      <td>0</td>\n",
       "      <td>0</td>\n",
       "      <td>0</td>\n",
       "      <td>0</td>\n",
       "      <td>0</td>\n",
       "      <td>0</td>\n",
       "      <td>36</td>\n",
       "    </tr>\n",
       "    <tr>\n",
       "      <th>1</th>\n",
       "      <td>1</td>\n",
       "      <td>Graduation</td>\n",
       "      <td>Single</td>\n",
       "      <td>57091.0</td>\n",
       "      <td>0</td>\n",
       "      <td>0</td>\n",
       "      <td>2014-06-15</td>\n",
       "      <td>0</td>\n",
       "      <td>464</td>\n",
       "      <td>5</td>\n",
       "      <td>...</td>\n",
       "      <td>3</td>\n",
       "      <td>7</td>\n",
       "      <td>5</td>\n",
       "      <td>0</td>\n",
       "      <td>0</td>\n",
       "      <td>0</td>\n",
       "      <td>0</td>\n",
       "      <td>1</td>\n",
       "      <td>0</td>\n",
       "      <td>60</td>\n",
       "    </tr>\n",
       "    <tr>\n",
       "      <th>2</th>\n",
       "      <td>9</td>\n",
       "      <td>Master</td>\n",
       "      <td>Single</td>\n",
       "      <td>46098.0</td>\n",
       "      <td>1</td>\n",
       "      <td>1</td>\n",
       "      <td>2012-08-18</td>\n",
       "      <td>86</td>\n",
       "      <td>57</td>\n",
       "      <td>0</td>\n",
       "      <td>...</td>\n",
       "      <td>2</td>\n",
       "      <td>2</td>\n",
       "      <td>8</td>\n",
       "      <td>0</td>\n",
       "      <td>0</td>\n",
       "      <td>0</td>\n",
       "      <td>0</td>\n",
       "      <td>0</td>\n",
       "      <td>0</td>\n",
       "      <td>46</td>\n",
       "    </tr>\n",
       "    <tr>\n",
       "      <th>3</th>\n",
       "      <td>13</td>\n",
       "      <td>PhD</td>\n",
       "      <td>Widow</td>\n",
       "      <td>25358.0</td>\n",
       "      <td>0</td>\n",
       "      <td>1</td>\n",
       "      <td>2013-07-22</td>\n",
       "      <td>57</td>\n",
       "      <td>19</td>\n",
       "      <td>0</td>\n",
       "      <td>...</td>\n",
       "      <td>0</td>\n",
       "      <td>3</td>\n",
       "      <td>6</td>\n",
       "      <td>0</td>\n",
       "      <td>0</td>\n",
       "      <td>0</td>\n",
       "      <td>0</td>\n",
       "      <td>0</td>\n",
       "      <td>0</td>\n",
       "      <td>74</td>\n",
       "    </tr>\n",
       "    <tr>\n",
       "      <th>4</th>\n",
       "      <td>17</td>\n",
       "      <td>PhD</td>\n",
       "      <td>Married</td>\n",
       "      <td>60491.0</td>\n",
       "      <td>0</td>\n",
       "      <td>1</td>\n",
       "      <td>2013-06-09</td>\n",
       "      <td>81</td>\n",
       "      <td>637</td>\n",
       "      <td>47</td>\n",
       "      <td>...</td>\n",
       "      <td>11</td>\n",
       "      <td>7</td>\n",
       "      <td>5</td>\n",
       "      <td>0</td>\n",
       "      <td>0</td>\n",
       "      <td>0</td>\n",
       "      <td>0</td>\n",
       "      <td>0</td>\n",
       "      <td>0</td>\n",
       "      <td>50</td>\n",
       "    </tr>\n",
       "  </tbody>\n",
       "</table>\n",
       "<p>5 rows × 25 columns</p>\n",
       "</div>"
      ],
      "text/plain": [
       "   CustId   Education MaritalStat  AnnualInc  NumKids  NumTeen  DateEnrol  \\\n",
       "0       0  Graduation     Married    70951.0        0        0 2013-04-05   \n",
       "1       1  Graduation      Single    57091.0        0        0 2014-06-15   \n",
       "2       9      Master      Single    46098.0        1        1 2012-08-18   \n",
       "3      13         PhD       Widow    25358.0        0        1 2013-07-22   \n",
       "4      17         PhD     Married    60491.0        0        1 2013-06-09   \n",
       "\n",
       "   Recency  MntWines  MntFruits  ...  NumCatalogPurchases  NumStorePurchases  \\\n",
       "0       66       239         10  ...                    4                  9   \n",
       "1        0       464          5  ...                    3                  7   \n",
       "2       86        57          0  ...                    2                  2   \n",
       "3       57        19          0  ...                    0                  3   \n",
       "4       81       637         47  ...                   11                  7   \n",
       "\n",
       "   NumWebVisitsMonth  AcceptedCmp3  AcceptedCmp4  AcceptedCmp5  AcceptedCmp1  \\\n",
       "0                  1             0             0             0             0   \n",
       "1                  5             0             0             0             0   \n",
       "2                  8             0             0             0             0   \n",
       "3                  6             0             0             0             0   \n",
       "4                  5             0             0             0             0   \n",
       "\n",
       "   AcceptedCmp2  Complain  Age  \n",
       "0             0         0   36  \n",
       "1             1         0   60  \n",
       "2             0         0   46  \n",
       "3             0         0   74  \n",
       "4             0         0   50  \n",
       "\n",
       "[5 rows x 25 columns]"
      ]
     },
     "execution_count": 10,
     "metadata": {},
     "output_type": "execute_result"
    }
   ],
   "source": [
    "# Create a new Age column based on BirthYear\n",
    "wine_data['Age'] = pd.Timestamp('now').year - wine_data['BirthYear']\n",
    "wine_data.drop(columns='BirthYear', inplace=True)\n",
    "wine_data.head()"
   ]
  },
  {
   "cell_type": "code",
   "execution_count": 11,
   "metadata": {},
   "outputs": [
    {
     "data": {
      "text/plain": [
       "0    30-40\n",
       "1    50-60\n",
       "2    40-50\n",
       "3    70-80\n",
       "4    40-50\n",
       "Name: Age Group, dtype: category\n",
       "Categories (7, object): ['20-30' < '30-40' < '40-50' < '50-60' < '60-70' < '70-80' < '80+']"
      ]
     },
     "execution_count": 11,
     "metadata": {},
     "output_type": "execute_result"
    }
   ],
   "source": [
    "# Create an Age Group column for market segment analysis\n",
    "labels = ['20-30', '30-40', '40-50', '50-60', '60-70', '70-80', '80+']\n",
    "wine_data['Age Group'] = pd.cut(wine_data['Age'], [20,30,40,50,60,70,80,130], labels=labels)\n",
    "wine_data['Age Group'].head()"
   ]
  },
  {
   "cell_type": "code",
   "execution_count": 12,
   "metadata": {},
   "outputs": [
    {
     "data": {
      "text/plain": [
       "0    70K-80K\n",
       "1    50K-60K\n",
       "2    40K-50K\n",
       "3    20K-30K\n",
       "4    60K-70K\n",
       "Name: Income Bracket, dtype: category\n",
       "Categories (12, object): ['Below 20K' < '20K-30K' < '30K-40K' < '40K-50K' ... '90K-100K' < '100K-150K' < '150K-200K' < 'Over 200K']"
      ]
     },
     "execution_count": 12,
     "metadata": {},
     "output_type": "execute_result"
    }
   ],
   "source": [
    "# Create an Income Bracket column for market segment analysis\n",
    "labels = ['Below 20K', '20K-30K', '30K-40K', '40K-50K','50K-60K', '60K-70K', '70K-80K', '80K-90K', '90K-100K', '100K-150K', '150K-200K', 'Over 200K']\n",
    "wine_data['Income Bracket'] = pd.cut(wine_data['AnnualInc'], [-np.inf,20000,30000,40000,50000,60000,70000,80000,90000,100000,150000,200000,np.inf], labels=labels)\n",
    "wine_data['Income Bracket'].head()"
   ]
  },
  {
   "cell_type": "code",
   "execution_count": 13,
   "metadata": {},
   "outputs": [],
   "source": [
    "# Dropping if there is any duplicate rows\n",
    "wine_data.drop_duplicates(inplace=True)"
   ]
  },
  {
   "cell_type": "code",
   "execution_count": 14,
   "metadata": {},
   "outputs": [
    {
     "data": {
      "text/plain": [
       "Graduation    1127\n",
       "PhD            486\n",
       "Master         370\n",
       "2n Cycle       203\n",
       "Basic           54\n",
       "Name: Education, dtype: int64"
      ]
     },
     "execution_count": 14,
     "metadata": {},
     "output_type": "execute_result"
    }
   ],
   "source": [
    "# Checking required Category columns value counts\n",
    "wine_data['Education'].value_counts()"
   ]
  },
  {
   "cell_type": "code",
   "execution_count": 15,
   "metadata": {},
   "outputs": [
    {
     "data": {
      "text/plain": [
       "Graduation       1127\n",
       "PhD               486\n",
       "Master            370\n",
       "Undergraduate     203\n",
       "Basic              54\n",
       "Name: Education, dtype: int64"
      ]
     },
     "execution_count": 15,
     "metadata": {},
     "output_type": "execute_result"
    }
   ],
   "source": [
    "# Rename 2n Cycle to 'Undergraduate'\n",
    "wine_data.loc[wine_data['Education'] == '2n Cycle', 'Education'] = 'Undergraduate'\n",
    "wine_data['Education'].value_counts()"
   ]
  },
  {
   "cell_type": "code",
   "execution_count": 16,
   "metadata": {},
   "outputs": [
    {
     "data": {
      "text/plain": [
       "Married     864\n",
       "Together    580\n",
       "Single      480\n",
       "Divorced    232\n",
       "Widow        77\n",
       "Alone         3\n",
       "Absurd        2\n",
       "YOLO          2\n",
       "Name: MaritalStat, dtype: int64"
      ]
     },
     "execution_count": 16,
     "metadata": {},
     "output_type": "execute_result"
    }
   ],
   "source": [
    "wine_data['MaritalStat'].value_counts()"
   ]
  },
  {
   "cell_type": "code",
   "execution_count": 17,
   "metadata": {},
   "outputs": [
    {
     "data": {
      "text/plain": [
       "Married     868\n",
       "Together    580\n",
       "Single      480\n",
       "Divorced    232\n",
       "Widow        77\n",
       "Alone         3\n",
       "Name: MaritalStat, dtype: int64"
      ]
     },
     "execution_count": 17,
     "metadata": {},
     "output_type": "execute_result"
    }
   ],
   "source": [
    "# 'Absurd' and 'YOLO' does not have a meaning full contibution to the analysis\n",
    "# So, replacing them with the most frequent value in MaritalStat column which is 'Married'\n",
    "# Removing those 4 rows NOT an option since there's limited number of data \n",
    "# and other attributes on those rows can impact on the analysis\n",
    "wine_data.loc[wine_data['MaritalStat']=='Absurd', 'MaritalStat'] = 'Married'\n",
    "wine_data.loc[wine_data['MaritalStat']=='YOLO', 'MaritalStat'] = 'Married'\n",
    "wine_data['MaritalStat'].value_counts()"
   ]
  },
  {
   "cell_type": "code",
   "execution_count": 53,
   "metadata": {},
   "outputs": [
    {
     "data": {
      "text/plain": [
       "CustId                  5592.159821\n",
       "AnnualInc              52247.251354\n",
       "NumKids                    0.444196\n",
       "NumTeen                    0.506250\n",
       "Recency                   49.109375\n",
       "MntWines                 303.935714\n",
       "MntFruits                 26.302232\n",
       "MntMeatProducts          166.950000\n",
       "MntFishProducts           37.525446\n",
       "MntSweetProducts          27.062946\n",
       "NumDealsPurchases          2.325000\n",
       "NumWebPurchases            4.084821\n",
       "NumCatalogPurchases        2.662054\n",
       "NumStorePurchases          5.790179\n",
       "NumWebVisitsMonth          5.316518\n",
       "AcceptedCmp3               0.072768\n",
       "AcceptedCmp4               0.074554\n",
       "AcceptedCmp5               0.072768\n",
       "AcceptedCmp1               0.064286\n",
       "AcceptedCmp2               0.013393\n",
       "Complain                   0.009375\n",
       "Age                       52.194196\n",
       "dtype: float64"
      ]
     },
     "execution_count": 53,
     "metadata": {},
     "output_type": "execute_result"
    }
   ],
   "source": [
    "# Averages for data set\n",
    "df_average = wine_data.mean()\n",
    "df_average"
   ]
  },
  {
   "cell_type": "markdown",
   "metadata": {},
   "source": [
    "- - -"
   ]
  },
  {
   "cell_type": "markdown",
   "metadata": {},
   "source": [
    "## Customer Segments Analysis"
   ]
  },
  {
   "cell_type": "code",
   "execution_count": 54,
   "metadata": {},
   "outputs": [
    {
     "data": {},
     "metadata": {},
     "output_type": "display_data"
    },
    {
     "data": {
      "application/vnd.holoviews_exec.v0+json": "",
      "text/html": [
       "<div id='2396'>\n",
       "\n",
       "\n",
       "\n",
       "\n",
       "\n",
       "  <div class=\"bk-root\" id=\"93f78cde-06e1-4994-ad4a-ff7130553807\" data-root-id=\"2396\"></div>\n",
       "</div>\n",
       "<script type=\"application/javascript\">(function(root) {\n",
       "  function embed_document(root) {\n",
       "    var docs_json = {\"75895a42-80cb-440c-9e5e-7ec6fc5f2051\":{\"defs\":[{\"extends\":null,\"module\":null,\"name\":\"ReactiveHTML1\",\"overrides\":[],\"properties\":[]},{\"extends\":null,\"module\":null,\"name\":\"FlexBox1\",\"overrides\":[],\"properties\":[{\"default\":\"flex-start\",\"kind\":null,\"name\":\"align_content\"},{\"default\":\"flex-start\",\"kind\":null,\"name\":\"align_items\"},{\"default\":\"row\",\"kind\":null,\"name\":\"flex_direction\"},{\"default\":\"wrap\",\"kind\":null,\"name\":\"flex_wrap\"},{\"default\":\"flex-start\",\"kind\":null,\"name\":\"justify_content\"}]},{\"extends\":null,\"module\":null,\"name\":\"TemplateActions1\",\"overrides\":[],\"properties\":[{\"default\":0,\"kind\":null,\"name\":\"open_modal\"},{\"default\":0,\"kind\":null,\"name\":\"close_modal\"}]},{\"extends\":null,\"module\":null,\"name\":\"MaterialTemplateActions1\",\"overrides\":[],\"properties\":[{\"default\":0,\"kind\":null,\"name\":\"open_modal\"},{\"default\":0,\"kind\":null,\"name\":\"close_modal\"}]}],\"roots\":{\"references\":[{\"attributes\":{\"axis\":{\"id\":\"2410\"},\"grid_line_color\":null,\"ticker\":null},\"id\":\"2412\",\"type\":\"Grid\"},{\"attributes\":{\"below\":[{\"id\":\"2410\"}],\"center\":[{\"id\":\"2412\"},{\"id\":\"2416\"}],\"height\":300,\"left\":[{\"id\":\"2413\"}],\"margin\":[5,5,5,5],\"min_border_bottom\":10,\"min_border_left\":10,\"min_border_right\":10,\"min_border_top\":10,\"renderers\":[{\"id\":\"2436\"}],\"sizing_mode\":\"fixed\",\"title\":{\"id\":\"2402\"},\"toolbar\":{\"id\":\"2423\"},\"width\":700,\"x_range\":{\"id\":\"2398\"},\"x_scale\":{\"id\":\"2406\"},\"y_range\":{\"id\":\"2399\"},\"y_scale\":{\"id\":\"2408\"}},\"id\":\"2401\",\"subtype\":\"Figure\",\"type\":\"Plot\"},{\"attributes\":{\"children\":[{\"id\":\"2397\"},{\"id\":\"2401\"},{\"id\":\"2465\"}],\"margin\":[0,0,0,0],\"name\":\"Row04359\",\"tags\":[\"embedded\"]},\"id\":\"2396\",\"type\":\"Row\"},{\"attributes\":{},\"id\":\"2421\",\"type\":\"ResetTool\"},{\"attributes\":{\"callback\":null,\"renderers\":[{\"id\":\"2436\"}],\"tags\":[\"hv_created\"],\"tooltips\":[[\"Age Group\",\"@{Age_Group}\"],[\"CustId\",\"@{CustId}\"]]},\"id\":\"2400\",\"type\":\"HoverTool\"},{\"attributes\":{\"bottom\":{\"value\":0},\"fill_alpha\":{\"value\":1.0},\"fill_color\":{\"value\":\"#30a2da\"},\"hatch_alpha\":{\"value\":1.0},\"hatch_color\":{\"value\":\"black\"},\"hatch_scale\":{\"value\":12.0},\"hatch_weight\":{\"value\":1.0},\"line_alpha\":{\"value\":1.0},\"line_cap\":{\"value\":\"butt\"},\"line_color\":{\"value\":\"black\"},\"line_dash\":{\"value\":[]},\"line_dash_offset\":{\"value\":0},\"line_join\":{\"value\":\"bevel\"},\"line_width\":{\"value\":1},\"top\":{\"field\":\"CustId\"},\"width\":{\"value\":0.8},\"x\":{\"field\":\"Age_Group\"}},\"id\":\"2438\",\"type\":\"VBar\"},{\"attributes\":{\"axis_label\":\"Number of Consumers\",\"formatter\":{\"id\":\"2444\"},\"major_label_policy\":{\"id\":\"2443\"},\"ticker\":{\"id\":\"2414\"}},\"id\":\"2413\",\"type\":\"LinearAxis\"},{\"attributes\":{\"margin\":[5,5,5,5],\"name\":\"HSpacer04363\",\"sizing_mode\":\"stretch_width\"},\"id\":\"2397\",\"type\":\"Spacer\"},{\"attributes\":{\"source\":{\"id\":\"2430\"}},\"id\":\"2437\",\"type\":\"CDSView\"},{\"attributes\":{},\"id\":\"2419\",\"type\":\"WheelZoomTool\"},{\"attributes\":{},\"id\":\"2440\",\"type\":\"CategoricalTickFormatter\"},{\"attributes\":{\"end\":771.8,\"reset_end\":771.8,\"reset_start\":0.0,\"tags\":[[[\"CustId\",\"CustId\",null]]]},\"id\":\"2399\",\"type\":\"Range1d\"},{\"attributes\":{\"margin\":[5,5,5,5],\"name\":\"HSpacer04364\",\"sizing_mode\":\"stretch_width\"},\"id\":\"2465\",\"type\":\"Spacer\"},{\"attributes\":{},\"id\":\"2417\",\"type\":\"SaveTool\"},{\"attributes\":{\"axis\":{\"id\":\"2413\"},\"dimension\":1,\"grid_line_color\":null,\"ticker\":null},\"id\":\"2416\",\"type\":\"Grid\"},{\"attributes\":{\"data\":{\"Age_Group\":[\"20-30\",\"30-40\",\"40-50\",\"50-60\",\"60-70\",\"70-80\",\"80+\"],\"CustId\":[43,342,702,534,480,135,4]},\"selected\":{\"id\":\"2431\"},\"selection_policy\":{\"id\":\"2454\"}},\"id\":\"2430\",\"type\":\"ColumnDataSource\"},{\"attributes\":{},\"id\":\"2443\",\"type\":\"AllLabels\"},{\"attributes\":{},\"id\":\"2444\",\"type\":\"BasicTickFormatter\"},{\"attributes\":{\"fill_color\":{\"value\":\"#30a2da\"},\"top\":{\"field\":\"CustId\"},\"width\":{\"value\":0.8},\"x\":{\"field\":\"Age_Group\"}},\"id\":\"2433\",\"type\":\"VBar\"},{\"attributes\":{},\"id\":\"2411\",\"type\":\"CategoricalTicker\"},{\"attributes\":{},\"id\":\"2414\",\"type\":\"BasicTicker\"},{\"attributes\":{\"text\":\"Wine consumption based on Age Groups\",\"text_color\":\"black\",\"text_font_size\":\"12pt\"},\"id\":\"2402\",\"type\":\"Title\"},{\"attributes\":{\"overlay\":{\"id\":\"2422\"}},\"id\":\"2420\",\"type\":\"BoxZoomTool\"},{\"attributes\":{},\"id\":\"2431\",\"type\":\"Selection\"},{\"attributes\":{\"active_multi\":null,\"tools\":[{\"id\":\"2400\"},{\"id\":\"2417\"},{\"id\":\"2418\"},{\"id\":\"2419\"},{\"id\":\"2420\"},{\"id\":\"2421\"}]},\"id\":\"2423\",\"type\":\"Toolbar\"},{\"attributes\":{},\"id\":\"2408\",\"type\":\"LinearScale\"},{\"attributes\":{},\"id\":\"2406\",\"type\":\"CategoricalScale\"},{\"attributes\":{\"bottom_units\":\"screen\",\"fill_alpha\":0.5,\"fill_color\":\"lightgrey\",\"left_units\":\"screen\",\"level\":\"overlay\",\"line_alpha\":1.0,\"line_color\":\"black\",\"line_dash\":[4,4],\"line_width\":2,\"right_units\":\"screen\",\"syncable\":false,\"top_units\":\"screen\"},\"id\":\"2422\",\"type\":\"BoxAnnotation\"},{\"attributes\":{\"factors\":[\"20-30\",\"30-40\",\"40-50\",\"50-60\",\"60-70\",\"70-80\",\"80+\"],\"tags\":[[[\"Age Group\",\"Age Group\",null]]]},\"id\":\"2398\",\"type\":\"FactorRange\"},{\"attributes\":{\"fill_alpha\":{\"value\":0.1},\"fill_color\":{\"value\":\"#30a2da\"},\"line_alpha\":{\"value\":0.1},\"top\":{\"field\":\"CustId\"},\"width\":{\"value\":0.8},\"x\":{\"field\":\"Age_Group\"}},\"id\":\"2434\",\"type\":\"VBar\"},{\"attributes\":{\"fill_alpha\":{\"value\":0.2},\"fill_color\":{\"value\":\"#30a2da\"},\"line_alpha\":{\"value\":0.2},\"top\":{\"field\":\"CustId\"},\"width\":{\"value\":0.8},\"x\":{\"field\":\"Age_Group\"}},\"id\":\"2435\",\"type\":\"VBar\"},{\"attributes\":{},\"id\":\"2454\",\"type\":\"UnionRenderers\"},{\"attributes\":{},\"id\":\"2418\",\"type\":\"PanTool\"},{\"attributes\":{\"axis_label\":\"Age Group\",\"formatter\":{\"id\":\"2440\"},\"major_label_policy\":{\"id\":\"2441\"},\"ticker\":{\"id\":\"2411\"}},\"id\":\"2410\",\"type\":\"CategoricalAxis\"},{\"attributes\":{},\"id\":\"2441\",\"type\":\"AllLabels\"},{\"attributes\":{\"data_source\":{\"id\":\"2430\"},\"glyph\":{\"id\":\"2433\"},\"hover_glyph\":null,\"muted_glyph\":{\"id\":\"2435\"},\"nonselection_glyph\":{\"id\":\"2434\"},\"selection_glyph\":{\"id\":\"2438\"},\"view\":{\"id\":\"2437\"}},\"id\":\"2436\",\"type\":\"GlyphRenderer\"}],\"root_ids\":[\"2396\"]},\"title\":\"Bokeh Application\",\"version\":\"2.3.2\"}};\n",
       "    var render_items = [{\"docid\":\"75895a42-80cb-440c-9e5e-7ec6fc5f2051\",\"root_ids\":[\"2396\"],\"roots\":{\"2396\":\"93f78cde-06e1-4994-ad4a-ff7130553807\"}}];\n",
       "    root.Bokeh.embed.embed_items_notebook(docs_json, render_items);\n",
       "  }\n",
       "  if (root.Bokeh !== undefined && root.Bokeh.Panel !== undefined && ( root['Plotly'] !== undefined)) {\n",
       "    embed_document(root);\n",
       "  } else {\n",
       "    var attempts = 0;\n",
       "    var timer = setInterval(function(root) {\n",
       "      if (root.Bokeh !== undefined && root.Bokeh.Panel !== undefined && (root['Plotly'] !== undefined)) {\n",
       "        clearInterval(timer);\n",
       "        embed_document(root);\n",
       "      } else if (document.readyState == \"complete\") {\n",
       "        attempts++;\n",
       "        if (attempts > 200) {\n",
       "          clearInterval(timer);\n",
       "          console.log(\"Bokeh: ERROR: Unable to run BokehJS code because BokehJS library is missing\");\n",
       "        }\n",
       "      }\n",
       "    }, 25, root)\n",
       "  }\n",
       "})(window);</script>"
      ],
      "text/plain": [
       ":Bars   [Age Group]   (CustId)"
      ]
     },
     "execution_count": 54,
     "metadata": {
      "application/vnd.holoviews_exec.v0+json": {
       "id": "2396"
      }
     },
     "output_type": "execute_result"
    }
   ],
   "source": [
    "# Wine consumption based on Age Groups. \n",
    "'''\n",
    "# Analysis: \n",
    "- It can be said that wine consumption is generally among people who are 30 years and above\n",
    "- Highest consumers are those in age group of 40-50 years\n",
    "- Target customer age group should be in the braod range of 30-70 years\n",
    "'''\n",
    "df = wine_data.groupby('Age Group').count()['CustId']\n",
    "df.hvplot.bar(x='Age Group', xlabel='Age Group', ylabel='Number of Consumers', title='Wine consumption based on Age Groups')"
   ]
  },
  {
   "cell_type": "code",
   "execution_count": 55,
   "metadata": {},
   "outputs": [
    {
     "data": {},
     "metadata": {},
     "output_type": "display_data"
    },
    {
     "data": {
      "application/vnd.holoviews_exec.v0+json": "",
      "text/html": [
       "<div id='2517'>\n",
       "\n",
       "\n",
       "\n",
       "\n",
       "\n",
       "  <div class=\"bk-root\" id=\"79c74dea-c524-4479-8530-0c6a09b89083\" data-root-id=\"2517\"></div>\n",
       "</div>\n",
       "<script type=\"application/javascript\">(function(root) {\n",
       "  function embed_document(root) {\n",
       "    var docs_json = {\"3e55b9ae-123f-416c-a797-f99360f3b3c9\":{\"defs\":[{\"extends\":null,\"module\":null,\"name\":\"ReactiveHTML1\",\"overrides\":[],\"properties\":[]},{\"extends\":null,\"module\":null,\"name\":\"FlexBox1\",\"overrides\":[],\"properties\":[{\"default\":\"flex-start\",\"kind\":null,\"name\":\"align_content\"},{\"default\":\"flex-start\",\"kind\":null,\"name\":\"align_items\"},{\"default\":\"row\",\"kind\":null,\"name\":\"flex_direction\"},{\"default\":\"wrap\",\"kind\":null,\"name\":\"flex_wrap\"},{\"default\":\"flex-start\",\"kind\":null,\"name\":\"justify_content\"}]},{\"extends\":null,\"module\":null,\"name\":\"TemplateActions1\",\"overrides\":[],\"properties\":[{\"default\":0,\"kind\":null,\"name\":\"open_modal\"},{\"default\":0,\"kind\":null,\"name\":\"close_modal\"}]},{\"extends\":null,\"module\":null,\"name\":\"MaterialTemplateActions1\",\"overrides\":[],\"properties\":[{\"default\":0,\"kind\":null,\"name\":\"open_modal\"},{\"default\":0,\"kind\":null,\"name\":\"close_modal\"}]}],\"roots\":{\"references\":[{\"attributes\":{\"axis\":{\"id\":\"2535\"},\"dimension\":1,\"grid_line_color\":null,\"ticker\":null},\"id\":\"2537\",\"type\":\"Grid\"},{\"attributes\":{\"callback\":null,\"renderers\":[{\"id\":\"2557\"}],\"tags\":[\"hv_created\"],\"tooltips\":[[\"Income Bracket\",\"@{Income_Bracket}\"],[\"MntWines\",\"@{MntWines}\"]]},\"id\":\"2521\",\"type\":\"HoverTool\"},{\"attributes\":{},\"id\":\"2568\",\"type\":\"AllLabels\"},{\"attributes\":{\"text\":\"Total Wine Sales per Income Bracket\",\"text_color\":\"black\",\"text_font_size\":\"12pt\"},\"id\":\"2523\",\"type\":\"Title\"},{\"attributes\":{\"factors\":[\"Below 20K\",\"20K-30K\",\"30K-40K\",\"40K-50K\",\"50K-60K\",\"60K-70K\",\"70K-80K\",\"80K-90K\",\"90K-100K\",\"100K-150K\",\"150K-200K\",\"Over 200K\"],\"tags\":[[[\"Income Bracket\",\"Income Bracket\",null]]]},\"id\":\"2520\",\"type\":\"FactorRange\"},{\"attributes\":{\"overlay\":{\"id\":\"2543\"}},\"id\":\"2541\",\"type\":\"BoxZoomTool\"},{\"attributes\":{\"active_multi\":null,\"tools\":[{\"id\":\"2521\"},{\"id\":\"2538\"},{\"id\":\"2539\"},{\"id\":\"2540\"},{\"id\":\"2541\"},{\"id\":\"2542\"}]},\"id\":\"2544\",\"type\":\"Toolbar\"},{\"attributes\":{\"children\":[{\"id\":\"2518\"},{\"id\":\"2522\"},{\"id\":\"2587\"}],\"margin\":[0,0,0,0],\"name\":\"Row04552\",\"tags\":[\"embedded\"]},\"id\":\"2517\",\"type\":\"Row\"},{\"attributes\":{\"data\":{\"Income_Bracket\":[\"Below 20K\",\"20K-30K\",\"30K-40K\",\"40K-50K\",\"50K-60K\",\"60K-70K\",\"70K-80K\",\"80K-90K\",\"90K-100K\",\"100K-150K\",\"150K-200K\",\"Over 200K\"],\"MntWines\":[1220,3879,16787,49819,104958,173743,176508,112035,34254,2668,203,9]},\"selected\":{\"id\":\"2552\"},\"selection_policy\":{\"id\":\"2577\"}},\"id\":\"2551\",\"type\":\"ColumnDataSource\"},{\"attributes\":{\"axis_label\":\"Total Wine Sales ($)\",\"formatter\":{\"id\":\"2560\"},\"major_label_policy\":{\"id\":\"2562\"},\"ticker\":{\"id\":\"2532\"}},\"id\":\"2531\",\"type\":\"LinearAxis\"},{\"attributes\":{\"end\":194157.9,\"reset_end\":194157.9,\"reset_start\":0.0,\"tags\":[[[\"MntWines\",\"MntWines\",null]]]},\"id\":\"2519\",\"type\":\"Range1d\"},{\"attributes\":{\"data_source\":{\"id\":\"2551\"},\"glyph\":{\"id\":\"2554\"},\"hover_glyph\":null,\"muted_glyph\":{\"id\":\"2556\"},\"nonselection_glyph\":{\"id\":\"2555\"},\"selection_glyph\":{\"id\":\"2559\"},\"view\":{\"id\":\"2558\"}},\"id\":\"2557\",\"type\":\"GlyphRenderer\"},{\"attributes\":{},\"id\":\"2542\",\"type\":\"ResetTool\"},{\"attributes\":{\"fill_alpha\":{\"value\":0.2},\"fill_color\":{\"value\":\"#30a2da\"},\"height\":{\"value\":0.8},\"line_alpha\":{\"value\":0.2},\"right\":{\"field\":\"MntWines\"},\"y\":{\"field\":\"Income_Bracket\"}},\"id\":\"2556\",\"type\":\"HBar\"},{\"attributes\":{},\"id\":\"2539\",\"type\":\"PanTool\"},{\"attributes\":{\"bottom_units\":\"screen\",\"fill_alpha\":0.5,\"fill_color\":\"lightgrey\",\"left_units\":\"screen\",\"level\":\"overlay\",\"line_alpha\":1.0,\"line_color\":\"black\",\"line_dash\":[4,4],\"line_width\":2,\"right_units\":\"screen\",\"syncable\":false,\"top_units\":\"screen\"},\"id\":\"2543\",\"type\":\"BoxAnnotation\"},{\"attributes\":{},\"id\":\"2538\",\"type\":\"SaveTool\"},{\"attributes\":{\"source\":{\"id\":\"2551\"}},\"id\":\"2558\",\"type\":\"CDSView\"},{\"attributes\":{\"below\":[{\"id\":\"2531\"}],\"center\":[{\"id\":\"2534\"},{\"id\":\"2537\"}],\"height\":300,\"left\":[{\"id\":\"2535\"}],\"margin\":[5,5,5,5],\"min_border_bottom\":10,\"min_border_left\":10,\"min_border_right\":10,\"min_border_top\":10,\"renderers\":[{\"id\":\"2557\"}],\"sizing_mode\":\"fixed\",\"title\":{\"id\":\"2523\"},\"toolbar\":{\"id\":\"2544\"},\"width\":700,\"x_range\":{\"id\":\"2519\"},\"x_scale\":{\"id\":\"2527\"},\"y_range\":{\"id\":\"2520\"},\"y_scale\":{\"id\":\"2529\"}},\"id\":\"2522\",\"subtype\":\"Figure\",\"type\":\"Plot\"},{\"attributes\":{},\"id\":\"2529\",\"type\":\"CategoricalScale\"},{\"attributes\":{},\"id\":\"2567\",\"type\":\"CategoricalTickFormatter\"},{\"attributes\":{},\"id\":\"2536\",\"type\":\"CategoricalTicker\"},{\"attributes\":{\"margin\":[5,5,5,5],\"name\":\"HSpacer04557\",\"sizing_mode\":\"stretch_width\"},\"id\":\"2587\",\"type\":\"Spacer\"},{\"attributes\":{\"fill_alpha\":{\"value\":1.0},\"fill_color\":{\"value\":\"#30a2da\"},\"hatch_alpha\":{\"value\":1.0},\"hatch_color\":{\"value\":\"black\"},\"hatch_scale\":{\"value\":12.0},\"hatch_weight\":{\"value\":1.0},\"height\":{\"value\":0.8},\"left\":{\"value\":0},\"line_alpha\":{\"value\":1.0},\"line_cap\":{\"value\":\"butt\"},\"line_color\":{\"value\":\"black\"},\"line_dash\":{\"value\":[]},\"line_dash_offset\":{\"value\":0},\"line_join\":{\"value\":\"bevel\"},\"line_width\":{\"value\":1},\"right\":{\"field\":\"MntWines\"},\"y\":{\"field\":\"Income_Bracket\"}},\"id\":\"2559\",\"type\":\"HBar\"},{\"attributes\":{},\"id\":\"2562\",\"type\":\"AllLabels\"},{\"attributes\":{},\"id\":\"2577\",\"type\":\"UnionRenderers\"},{\"attributes\":{\"axis_label\":\"Income Bracket\",\"formatter\":{\"id\":\"2567\"},\"major_label_policy\":{\"id\":\"2568\"},\"ticker\":{\"id\":\"2536\"}},\"id\":\"2535\",\"type\":\"CategoricalAxis\"},{\"attributes\":{\"axis\":{\"id\":\"2531\"},\"grid_line_color\":null,\"ticker\":null},\"id\":\"2534\",\"type\":\"Grid\"},{\"attributes\":{\"format\":\"%.0f\"},\"id\":\"2560\",\"type\":\"PrintfTickFormatter\"},{\"attributes\":{\"margin\":[5,5,5,5],\"name\":\"HSpacer04556\",\"sizing_mode\":\"stretch_width\"},\"id\":\"2518\",\"type\":\"Spacer\"},{\"attributes\":{},\"id\":\"2527\",\"type\":\"LinearScale\"},{\"attributes\":{},\"id\":\"2532\",\"type\":\"BasicTicker\"},{\"attributes\":{\"fill_alpha\":{\"value\":0.1},\"fill_color\":{\"value\":\"#30a2da\"},\"height\":{\"value\":0.8},\"line_alpha\":{\"value\":0.1},\"right\":{\"field\":\"MntWines\"},\"y\":{\"field\":\"Income_Bracket\"}},\"id\":\"2555\",\"type\":\"HBar\"},{\"attributes\":{\"fill_color\":{\"value\":\"#30a2da\"},\"height\":{\"value\":0.8},\"right\":{\"field\":\"MntWines\"},\"y\":{\"field\":\"Income_Bracket\"}},\"id\":\"2554\",\"type\":\"HBar\"},{\"attributes\":{},\"id\":\"2540\",\"type\":\"WheelZoomTool\"},{\"attributes\":{},\"id\":\"2552\",\"type\":\"Selection\"}],\"root_ids\":[\"2517\"]},\"title\":\"Bokeh Application\",\"version\":\"2.3.2\"}};\n",
       "    var render_items = [{\"docid\":\"3e55b9ae-123f-416c-a797-f99360f3b3c9\",\"root_ids\":[\"2517\"],\"roots\":{\"2517\":\"79c74dea-c524-4479-8530-0c6a09b89083\"}}];\n",
       "    root.Bokeh.embed.embed_items_notebook(docs_json, render_items);\n",
       "  }\n",
       "  if (root.Bokeh !== undefined && root.Bokeh.Panel !== undefined && ( root['Plotly'] !== undefined)) {\n",
       "    embed_document(root);\n",
       "  } else {\n",
       "    var attempts = 0;\n",
       "    var timer = setInterval(function(root) {\n",
       "      if (root.Bokeh !== undefined && root.Bokeh.Panel !== undefined && (root['Plotly'] !== undefined)) {\n",
       "        clearInterval(timer);\n",
       "        embed_document(root);\n",
       "      } else if (document.readyState == \"complete\") {\n",
       "        attempts++;\n",
       "        if (attempts > 200) {\n",
       "          clearInterval(timer);\n",
       "          console.log(\"Bokeh: ERROR: Unable to run BokehJS code because BokehJS library is missing\");\n",
       "        }\n",
       "      }\n",
       "    }, 25, root)\n",
       "  }\n",
       "})(window);</script>"
      ],
      "text/plain": [
       ":Bars   [Income Bracket]   (MntWines)"
      ]
     },
     "execution_count": 55,
     "metadata": {
      "application/vnd.holoviews_exec.v0+json": {
       "id": "2517"
      }
     },
     "output_type": "execute_result"
    }
   ],
   "source": [
    "# Total Wine Sales per Income Bracket\n",
    "'''\n",
    "# Analysis: \n",
    "- It can be said that customers who buy wines are generally in the income range of $60-$80k\n",
    "- It also seems that Winelist does not have customers in the higher income range of $100k and above\n",
    "'''\n",
    "df = wine_data.groupby('Income Bracket').sum()['MntWines']\n",
    "df.hvplot.barh(x='Income Bracket', y='MntWines', xlabel='Income Bracket', ylabel='Total Wine Sales ($)', xformatter='%.0f', title='Total Wine Sales per Income Bracket')"
   ]
  },
  {
   "cell_type": "code",
   "execution_count": 56,
   "metadata": {},
   "outputs": [
    {
     "data": {
      "application/vnd.plotly.v1+json": {
       "config": {
        "plotlyServerURL": "https://plot.ly"
       },
       "data": [
        {
         "domain": {
          "x": [
           0,
           1
          ],
          "y": [
           0,
           1
          ]
         },
         "hovertemplate": "MaritalStat=%{label}<br>count=%{value}<extra></extra>",
         "labels": [
          "Alone",
          "Divorced",
          "Married",
          "Single",
          "Together",
          "Widow"
         ],
         "legendgroup": "",
         "name": "",
         "showlegend": true,
         "textinfo": "percent+label",
         "textposition": "inside",
         "type": "pie",
         "values": [
          3,
          232,
          868,
          480,
          580,
          77
         ]
        }
       ],
       "layout": {
        "autosize": true,
        "legend": {
         "tracegroupgap": 0
        },
        "template": {
         "data": {
          "bar": [
           {
            "error_x": {
             "color": "#2a3f5f"
            },
            "error_y": {
             "color": "#2a3f5f"
            },
            "marker": {
             "line": {
              "color": "#E5ECF6",
              "width": 0.5
             },
             "pattern": {
              "fillmode": "overlay",
              "size": 10,
              "solidity": 0.2
             }
            },
            "type": "bar"
           }
          ],
          "barpolar": [
           {
            "marker": {
             "line": {
              "color": "#E5ECF6",
              "width": 0.5
             },
             "pattern": {
              "fillmode": "overlay",
              "size": 10,
              "solidity": 0.2
             }
            },
            "type": "barpolar"
           }
          ],
          "carpet": [
           {
            "aaxis": {
             "endlinecolor": "#2a3f5f",
             "gridcolor": "white",
             "linecolor": "white",
             "minorgridcolor": "white",
             "startlinecolor": "#2a3f5f"
            },
            "baxis": {
             "endlinecolor": "#2a3f5f",
             "gridcolor": "white",
             "linecolor": "white",
             "minorgridcolor": "white",
             "startlinecolor": "#2a3f5f"
            },
            "type": "carpet"
           }
          ],
          "choropleth": [
           {
            "colorbar": {
             "outlinewidth": 0,
             "ticks": ""
            },
            "type": "choropleth"
           }
          ],
          "contour": [
           {
            "colorbar": {
             "outlinewidth": 0,
             "ticks": ""
            },
            "colorscale": [
             [
              0,
              "#0d0887"
             ],
             [
              0.1111111111111111,
              "#46039f"
             ],
             [
              0.2222222222222222,
              "#7201a8"
             ],
             [
              0.3333333333333333,
              "#9c179e"
             ],
             [
              0.4444444444444444,
              "#bd3786"
             ],
             [
              0.5555555555555556,
              "#d8576b"
             ],
             [
              0.6666666666666666,
              "#ed7953"
             ],
             [
              0.7777777777777778,
              "#fb9f3a"
             ],
             [
              0.8888888888888888,
              "#fdca26"
             ],
             [
              1,
              "#f0f921"
             ]
            ],
            "type": "contour"
           }
          ],
          "contourcarpet": [
           {
            "colorbar": {
             "outlinewidth": 0,
             "ticks": ""
            },
            "type": "contourcarpet"
           }
          ],
          "heatmap": [
           {
            "colorbar": {
             "outlinewidth": 0,
             "ticks": ""
            },
            "colorscale": [
             [
              0,
              "#0d0887"
             ],
             [
              0.1111111111111111,
              "#46039f"
             ],
             [
              0.2222222222222222,
              "#7201a8"
             ],
             [
              0.3333333333333333,
              "#9c179e"
             ],
             [
              0.4444444444444444,
              "#bd3786"
             ],
             [
              0.5555555555555556,
              "#d8576b"
             ],
             [
              0.6666666666666666,
              "#ed7953"
             ],
             [
              0.7777777777777778,
              "#fb9f3a"
             ],
             [
              0.8888888888888888,
              "#fdca26"
             ],
             [
              1,
              "#f0f921"
             ]
            ],
            "type": "heatmap"
           }
          ],
          "heatmapgl": [
           {
            "colorbar": {
             "outlinewidth": 0,
             "ticks": ""
            },
            "colorscale": [
             [
              0,
              "#0d0887"
             ],
             [
              0.1111111111111111,
              "#46039f"
             ],
             [
              0.2222222222222222,
              "#7201a8"
             ],
             [
              0.3333333333333333,
              "#9c179e"
             ],
             [
              0.4444444444444444,
              "#bd3786"
             ],
             [
              0.5555555555555556,
              "#d8576b"
             ],
             [
              0.6666666666666666,
              "#ed7953"
             ],
             [
              0.7777777777777778,
              "#fb9f3a"
             ],
             [
              0.8888888888888888,
              "#fdca26"
             ],
             [
              1,
              "#f0f921"
             ]
            ],
            "type": "heatmapgl"
           }
          ],
          "histogram": [
           {
            "marker": {
             "pattern": {
              "fillmode": "overlay",
              "size": 10,
              "solidity": 0.2
             }
            },
            "type": "histogram"
           }
          ],
          "histogram2d": [
           {
            "colorbar": {
             "outlinewidth": 0,
             "ticks": ""
            },
            "colorscale": [
             [
              0,
              "#0d0887"
             ],
             [
              0.1111111111111111,
              "#46039f"
             ],
             [
              0.2222222222222222,
              "#7201a8"
             ],
             [
              0.3333333333333333,
              "#9c179e"
             ],
             [
              0.4444444444444444,
              "#bd3786"
             ],
             [
              0.5555555555555556,
              "#d8576b"
             ],
             [
              0.6666666666666666,
              "#ed7953"
             ],
             [
              0.7777777777777778,
              "#fb9f3a"
             ],
             [
              0.8888888888888888,
              "#fdca26"
             ],
             [
              1,
              "#f0f921"
             ]
            ],
            "type": "histogram2d"
           }
          ],
          "histogram2dcontour": [
           {
            "colorbar": {
             "outlinewidth": 0,
             "ticks": ""
            },
            "colorscale": [
             [
              0,
              "#0d0887"
             ],
             [
              0.1111111111111111,
              "#46039f"
             ],
             [
              0.2222222222222222,
              "#7201a8"
             ],
             [
              0.3333333333333333,
              "#9c179e"
             ],
             [
              0.4444444444444444,
              "#bd3786"
             ],
             [
              0.5555555555555556,
              "#d8576b"
             ],
             [
              0.6666666666666666,
              "#ed7953"
             ],
             [
              0.7777777777777778,
              "#fb9f3a"
             ],
             [
              0.8888888888888888,
              "#fdca26"
             ],
             [
              1,
              "#f0f921"
             ]
            ],
            "type": "histogram2dcontour"
           }
          ],
          "mesh3d": [
           {
            "colorbar": {
             "outlinewidth": 0,
             "ticks": ""
            },
            "type": "mesh3d"
           }
          ],
          "parcoords": [
           {
            "line": {
             "colorbar": {
              "outlinewidth": 0,
              "ticks": ""
             }
            },
            "type": "parcoords"
           }
          ],
          "pie": [
           {
            "automargin": true,
            "type": "pie"
           }
          ],
          "scatter": [
           {
            "marker": {
             "colorbar": {
              "outlinewidth": 0,
              "ticks": ""
             }
            },
            "type": "scatter"
           }
          ],
          "scatter3d": [
           {
            "line": {
             "colorbar": {
              "outlinewidth": 0,
              "ticks": ""
             }
            },
            "marker": {
             "colorbar": {
              "outlinewidth": 0,
              "ticks": ""
             }
            },
            "type": "scatter3d"
           }
          ],
          "scattercarpet": [
           {
            "marker": {
             "colorbar": {
              "outlinewidth": 0,
              "ticks": ""
             }
            },
            "type": "scattercarpet"
           }
          ],
          "scattergeo": [
           {
            "marker": {
             "colorbar": {
              "outlinewidth": 0,
              "ticks": ""
             }
            },
            "type": "scattergeo"
           }
          ],
          "scattergl": [
           {
            "marker": {
             "colorbar": {
              "outlinewidth": 0,
              "ticks": ""
             }
            },
            "type": "scattergl"
           }
          ],
          "scattermapbox": [
           {
            "marker": {
             "colorbar": {
              "outlinewidth": 0,
              "ticks": ""
             }
            },
            "type": "scattermapbox"
           }
          ],
          "scatterpolar": [
           {
            "marker": {
             "colorbar": {
              "outlinewidth": 0,
              "ticks": ""
             }
            },
            "type": "scatterpolar"
           }
          ],
          "scatterpolargl": [
           {
            "marker": {
             "colorbar": {
              "outlinewidth": 0,
              "ticks": ""
             }
            },
            "type": "scatterpolargl"
           }
          ],
          "scatterternary": [
           {
            "marker": {
             "colorbar": {
              "outlinewidth": 0,
              "ticks": ""
             }
            },
            "type": "scatterternary"
           }
          ],
          "surface": [
           {
            "colorbar": {
             "outlinewidth": 0,
             "ticks": ""
            },
            "colorscale": [
             [
              0,
              "#0d0887"
             ],
             [
              0.1111111111111111,
              "#46039f"
             ],
             [
              0.2222222222222222,
              "#7201a8"
             ],
             [
              0.3333333333333333,
              "#9c179e"
             ],
             [
              0.4444444444444444,
              "#bd3786"
             ],
             [
              0.5555555555555556,
              "#d8576b"
             ],
             [
              0.6666666666666666,
              "#ed7953"
             ],
             [
              0.7777777777777778,
              "#fb9f3a"
             ],
             [
              0.8888888888888888,
              "#fdca26"
             ],
             [
              1,
              "#f0f921"
             ]
            ],
            "type": "surface"
           }
          ],
          "table": [
           {
            "cells": {
             "fill": {
              "color": "#EBF0F8"
             },
             "line": {
              "color": "white"
             }
            },
            "header": {
             "fill": {
              "color": "#C8D4E3"
             },
             "line": {
              "color": "white"
             }
            },
            "type": "table"
           }
          ]
         },
         "layout": {
          "annotationdefaults": {
           "arrowcolor": "#2a3f5f",
           "arrowhead": 0,
           "arrowwidth": 1
          },
          "autotypenumbers": "strict",
          "coloraxis": {
           "colorbar": {
            "outlinewidth": 0,
            "ticks": ""
           }
          },
          "colorscale": {
           "diverging": [
            [
             0,
             "#8e0152"
            ],
            [
             0.1,
             "#c51b7d"
            ],
            [
             0.2,
             "#de77ae"
            ],
            [
             0.3,
             "#f1b6da"
            ],
            [
             0.4,
             "#fde0ef"
            ],
            [
             0.5,
             "#f7f7f7"
            ],
            [
             0.6,
             "#e6f5d0"
            ],
            [
             0.7,
             "#b8e186"
            ],
            [
             0.8,
             "#7fbc41"
            ],
            [
             0.9,
             "#4d9221"
            ],
            [
             1,
             "#276419"
            ]
           ],
           "sequential": [
            [
             0,
             "#0d0887"
            ],
            [
             0.1111111111111111,
             "#46039f"
            ],
            [
             0.2222222222222222,
             "#7201a8"
            ],
            [
             0.3333333333333333,
             "#9c179e"
            ],
            [
             0.4444444444444444,
             "#bd3786"
            ],
            [
             0.5555555555555556,
             "#d8576b"
            ],
            [
             0.6666666666666666,
             "#ed7953"
            ],
            [
             0.7777777777777778,
             "#fb9f3a"
            ],
            [
             0.8888888888888888,
             "#fdca26"
            ],
            [
             1,
             "#f0f921"
            ]
           ],
           "sequentialminus": [
            [
             0,
             "#0d0887"
            ],
            [
             0.1111111111111111,
             "#46039f"
            ],
            [
             0.2222222222222222,
             "#7201a8"
            ],
            [
             0.3333333333333333,
             "#9c179e"
            ],
            [
             0.4444444444444444,
             "#bd3786"
            ],
            [
             0.5555555555555556,
             "#d8576b"
            ],
            [
             0.6666666666666666,
             "#ed7953"
            ],
            [
             0.7777777777777778,
             "#fb9f3a"
            ],
            [
             0.8888888888888888,
             "#fdca26"
            ],
            [
             1,
             "#f0f921"
            ]
           ]
          },
          "colorway": [
           "#636efa",
           "#EF553B",
           "#00cc96",
           "#ab63fa",
           "#FFA15A",
           "#19d3f3",
           "#FF6692",
           "#B6E880",
           "#FF97FF",
           "#FECB52"
          ],
          "font": {
           "color": "#2a3f5f"
          },
          "geo": {
           "bgcolor": "white",
           "lakecolor": "white",
           "landcolor": "#E5ECF6",
           "showlakes": true,
           "showland": true,
           "subunitcolor": "white"
          },
          "hoverlabel": {
           "align": "left"
          },
          "hovermode": "closest",
          "mapbox": {
           "style": "light"
          },
          "paper_bgcolor": "white",
          "plot_bgcolor": "#E5ECF6",
          "polar": {
           "angularaxis": {
            "gridcolor": "white",
            "linecolor": "white",
            "ticks": ""
           },
           "bgcolor": "#E5ECF6",
           "radialaxis": {
            "gridcolor": "white",
            "linecolor": "white",
            "ticks": ""
           }
          },
          "scene": {
           "xaxis": {
            "backgroundcolor": "#E5ECF6",
            "gridcolor": "white",
            "gridwidth": 2,
            "linecolor": "white",
            "showbackground": true,
            "ticks": "",
            "zerolinecolor": "white"
           },
           "yaxis": {
            "backgroundcolor": "#E5ECF6",
            "gridcolor": "white",
            "gridwidth": 2,
            "linecolor": "white",
            "showbackground": true,
            "ticks": "",
            "zerolinecolor": "white"
           },
           "zaxis": {
            "backgroundcolor": "#E5ECF6",
            "gridcolor": "white",
            "gridwidth": 2,
            "linecolor": "white",
            "showbackground": true,
            "ticks": "",
            "zerolinecolor": "white"
           }
          },
          "shapedefaults": {
           "line": {
            "color": "#2a3f5f"
           }
          },
          "ternary": {
           "aaxis": {
            "gridcolor": "white",
            "linecolor": "white",
            "ticks": ""
           },
           "baxis": {
            "gridcolor": "white",
            "linecolor": "white",
            "ticks": ""
           },
           "bgcolor": "#E5ECF6",
           "caxis": {
            "gridcolor": "white",
            "linecolor": "white",
            "ticks": ""
           }
          },
          "title": {
           "x": 0.05
          },
          "xaxis": {
           "automargin": true,
           "gridcolor": "white",
           "linecolor": "white",
           "ticks": "",
           "title": {
            "standoff": 15
           },
           "zerolinecolor": "white",
           "zerolinewidth": 2
          },
          "yaxis": {
           "automargin": true,
           "gridcolor": "white",
           "linecolor": "white",
           "ticks": "",
           "title": {
            "standoff": 15
           },
           "zerolinecolor": "white",
           "zerolinewidth": 2
          }
         }
        },
        "title": {
         "text": "Wine consumption based on Marital Stats"
        }
       }
      },
      "image/png": "[encoded data removed]",
      "text/html": [
       "<div>                            <div id=\"b4e96d6b-9dfc-4a2f-865f-0833d54cdd2c\" class=\"plotly-graph-div\" style=\"height:525px; width:100%;\"></div>            <script type=\"text/javascript\">                require([\"plotly\"], function(Plotly) {                    window.PLOTLYENV=window.PLOTLYENV || {};                                    if (document.getElementById(\"b4e96d6b-9dfc-4a2f-865f-0833d54cdd2c\")) {                    Plotly.newPlot(                        \"b4e96d6b-9dfc-4a2f-865f-0833d54cdd2c\",                        [{\"domain\":{\"x\":[0.0,1.0],\"y\":[0.0,1.0]},\"hovertemplate\":\"MaritalStat=%{label}<br>count=%{value}<extra></extra>\",\"labels\":[\"Alone\",\"Divorced\",\"Married\",\"Single\",\"Together\",\"Widow\"],\"legendgroup\":\"\",\"name\":\"\",\"showlegend\":true,\"textinfo\":\"percent+label\",\"textposition\":\"inside\",\"type\":\"pie\",\"values\":[3,232,868,480,580,77]}],                        {\"legend\":{\"tracegroupgap\":0},\"template\":{\"data\":{\"bar\":[{\"error_x\":{\"color\":\"#2a3f5f\"},\"error_y\":{\"color\":\"#2a3f5f\"},\"marker\":{\"line\":{\"color\":\"#E5ECF6\",\"width\":0.5},\"pattern\":{\"fillmode\":\"overlay\",\"size\":10,\"solidity\":0.2}},\"type\":\"bar\"}],\"barpolar\":[{\"marker\":{\"line\":{\"color\":\"#E5ECF6\",\"width\":0.5},\"pattern\":{\"fillmode\":\"overlay\",\"size\":10,\"solidity\":0.2}},\"type\":\"barpolar\"}],\"carpet\":[{\"aaxis\":{\"endlinecolor\":\"#2a3f5f\",\"gridcolor\":\"white\",\"linecolor\":\"white\",\"minorgridcolor\":\"white\",\"startlinecolor\":\"#2a3f5f\"},\"baxis\":{\"endlinecolor\":\"#2a3f5f\",\"gridcolor\":\"white\",\"linecolor\":\"white\",\"minorgridcolor\":\"white\",\"startlinecolor\":\"#2a3f5f\"},\"type\":\"carpet\"}],\"choropleth\":[{\"colorbar\":{\"outlinewidth\":0,\"ticks\":\"\"},\"type\":\"choropleth\"}],\"contour\":[{\"colorbar\":{\"outlinewidth\":0,\"ticks\":\"\"},\"colorscale\":[[0.0,\"#0d0887\"],[0.1111111111111111,\"#46039f\"],[0.2222222222222222,\"#7201a8\"],[0.3333333333333333,\"#9c179e\"],[0.4444444444444444,\"#bd3786\"],[0.5555555555555556,\"#d8576b\"],[0.6666666666666666,\"#ed7953\"],[0.7777777777777778,\"#fb9f3a\"],[0.8888888888888888,\"#fdca26\"],[1.0,\"#f0f921\"]],\"type\":\"contour\"}],\"contourcarpet\":[{\"colorbar\":{\"outlinewidth\":0,\"ticks\":\"\"},\"type\":\"contourcarpet\"}],\"heatmap\":[{\"colorbar\":{\"outlinewidth\":0,\"ticks\":\"\"},\"colorscale\":[[0.0,\"#0d0887\"],[0.1111111111111111,\"#46039f\"],[0.2222222222222222,\"#7201a8\"],[0.3333333333333333,\"#9c179e\"],[0.4444444444444444,\"#bd3786\"],[0.5555555555555556,\"#d8576b\"],[0.6666666666666666,\"#ed7953\"],[0.7777777777777778,\"#fb9f3a\"],[0.8888888888888888,\"#fdca26\"],[1.0,\"#f0f921\"]],\"type\":\"heatmap\"}],\"heatmapgl\":[{\"colorbar\":{\"outlinewidth\":0,\"ticks\":\"\"},\"colorscale\":[[0.0,\"#0d0887\"],[0.1111111111111111,\"#46039f\"],[0.2222222222222222,\"#7201a8\"],[0.3333333333333333,\"#9c179e\"],[0.4444444444444444,\"#bd3786\"],[0.5555555555555556,\"#d8576b\"],[0.6666666666666666,\"#ed7953\"],[0.7777777777777778,\"#fb9f3a\"],[0.8888888888888888,\"#fdca26\"],[1.0,\"#f0f921\"]],\"type\":\"heatmapgl\"}],\"histogram\":[{\"marker\":{\"pattern\":{\"fillmode\":\"overlay\",\"size\":10,\"solidity\":0.2}},\"type\":\"histogram\"}],\"histogram2d\":[{\"colorbar\":{\"outlinewidth\":0,\"ticks\":\"\"},\"colorscale\":[[0.0,\"#0d0887\"],[0.1111111111111111,\"#46039f\"],[0.2222222222222222,\"#7201a8\"],[0.3333333333333333,\"#9c179e\"],[0.4444444444444444,\"#bd3786\"],[0.5555555555555556,\"#d8576b\"],[0.6666666666666666,\"#ed7953\"],[0.7777777777777778,\"#fb9f3a\"],[0.8888888888888888,\"#fdca26\"],[1.0,\"#f0f921\"]],\"type\":\"histogram2d\"}],\"histogram2dcontour\":[{\"colorbar\":{\"outlinewidth\":0,\"ticks\":\"\"},\"colorscale\":[[0.0,\"#0d0887\"],[0.1111111111111111,\"#46039f\"],[0.2222222222222222,\"#7201a8\"],[0.3333333333333333,\"#9c179e\"],[0.4444444444444444,\"#bd3786\"],[0.5555555555555556,\"#d8576b\"],[0.6666666666666666,\"#ed7953\"],[0.7777777777777778,\"#fb9f3a\"],[0.8888888888888888,\"#fdca26\"],[1.0,\"#f0f921\"]],\"type\":\"histogram2dcontour\"}],\"mesh3d\":[{\"colorbar\":{\"outlinewidth\":0,\"ticks\":\"\"},\"type\":\"mesh3d\"}],\"parcoords\":[{\"line\":{\"colorbar\":{\"outlinewidth\":0,\"ticks\":\"\"}},\"type\":\"parcoords\"}],\"pie\":[{\"automargin\":true,\"type\":\"pie\"}],\"scatter\":[{\"marker\":{\"colorbar\":{\"outlinewidth\":0,\"ticks\":\"\"}},\"type\":\"scatter\"}],\"scatter3d\":[{\"line\":{\"colorbar\":{\"outlinewidth\":0,\"ticks\":\"\"}},\"marker\":{\"colorbar\":{\"outlinewidth\":0,\"ticks\":\"\"}},\"type\":\"scatter3d\"}],\"scattercarpet\":[{\"marker\":{\"colorbar\":{\"outlinewidth\":0,\"ticks\":\"\"}},\"type\":\"scattercarpet\"}],\"scattergeo\":[{\"marker\":{\"colorbar\":{\"outlinewidth\":0,\"ticks\":\"\"}},\"type\":\"scattergeo\"}],\"scattergl\":[{\"marker\":{\"colorbar\":{\"outlinewidth\":0,\"ticks\":\"\"}},\"type\":\"scattergl\"}],\"scattermapbox\":[{\"marker\":{\"colorbar\":{\"outlinewidth\":0,\"ticks\":\"\"}},\"type\":\"scattermapbox\"}],\"scatterpolar\":[{\"marker\":{\"colorbar\":{\"outlinewidth\":0,\"ticks\":\"\"}},\"type\":\"scatterpolar\"}],\"scatterpolargl\":[{\"marker\":{\"colorbar\":{\"outlinewidth\":0,\"ticks\":\"\"}},\"type\":\"scatterpolargl\"}],\"scatterternary\":[{\"marker\":{\"colorbar\":{\"outlinewidth\":0,\"ticks\":\"\"}},\"type\":\"scatterternary\"}],\"surface\":[{\"colorbar\":{\"outlinewidth\":0,\"ticks\":\"\"},\"colorscale\":[[0.0,\"#0d0887\"],[0.1111111111111111,\"#46039f\"],[0.2222222222222222,\"#7201a8\"],[0.3333333333333333,\"#9c179e\"],[0.4444444444444444,\"#bd3786\"],[0.5555555555555556,\"#d8576b\"],[0.6666666666666666,\"#ed7953\"],[0.7777777777777778,\"#fb9f3a\"],[0.8888888888888888,\"#fdca26\"],[1.0,\"#f0f921\"]],\"type\":\"surface\"}],\"table\":[{\"cells\":{\"fill\":{\"color\":\"#EBF0F8\"},\"line\":{\"color\":\"white\"}},\"header\":{\"fill\":{\"color\":\"#C8D4E3\"},\"line\":{\"color\":\"white\"}},\"type\":\"table\"}]},\"layout\":{\"annotationdefaults\":{\"arrowcolor\":\"#2a3f5f\",\"arrowhead\":0,\"arrowwidth\":1},\"autotypenumbers\":\"strict\",\"coloraxis\":{\"colorbar\":{\"outlinewidth\":0,\"ticks\":\"\"}},\"colorscale\":{\"diverging\":[[0,\"#8e0152\"],[0.1,\"#c51b7d\"],[0.2,\"#de77ae\"],[0.3,\"#f1b6da\"],[0.4,\"#fde0ef\"],[0.5,\"#f7f7f7\"],[0.6,\"#e6f5d0\"],[0.7,\"#b8e186\"],[0.8,\"#7fbc41\"],[0.9,\"#4d9221\"],[1,\"#276419\"]],\"sequential\":[[0.0,\"#0d0887\"],[0.1111111111111111,\"#46039f\"],[0.2222222222222222,\"#7201a8\"],[0.3333333333333333,\"#9c179e\"],[0.4444444444444444,\"#bd3786\"],[0.5555555555555556,\"#d8576b\"],[0.6666666666666666,\"#ed7953\"],[0.7777777777777778,\"#fb9f3a\"],[0.8888888888888888,\"#fdca26\"],[1.0,\"#f0f921\"]],\"sequentialminus\":[[0.0,\"#0d0887\"],[0.1111111111111111,\"#46039f\"],[0.2222222222222222,\"#7201a8\"],[0.3333333333333333,\"#9c179e\"],[0.4444444444444444,\"#bd3786\"],[0.5555555555555556,\"#d8576b\"],[0.6666666666666666,\"#ed7953\"],[0.7777777777777778,\"#fb9f3a\"],[0.8888888888888888,\"#fdca26\"],[1.0,\"#f0f921\"]]},\"colorway\":[\"#636efa\",\"#EF553B\",\"#00cc96\",\"#ab63fa\",\"#FFA15A\",\"#19d3f3\",\"#FF6692\",\"#B6E880\",\"#FF97FF\",\"#FECB52\"],\"font\":{\"color\":\"#2a3f5f\"},\"geo\":{\"bgcolor\":\"white\",\"lakecolor\":\"white\",\"landcolor\":\"#E5ECF6\",\"showlakes\":true,\"showland\":true,\"subunitcolor\":\"white\"},\"hoverlabel\":{\"align\":\"left\"},\"hovermode\":\"closest\",\"mapbox\":{\"style\":\"light\"},\"paper_bgcolor\":\"white\",\"plot_bgcolor\":\"#E5ECF6\",\"polar\":{\"angularaxis\":{\"gridcolor\":\"white\",\"linecolor\":\"white\",\"ticks\":\"\"},\"bgcolor\":\"#E5ECF6\",\"radialaxis\":{\"gridcolor\":\"white\",\"linecolor\":\"white\",\"ticks\":\"\"}},\"scene\":{\"xaxis\":{\"backgroundcolor\":\"#E5ECF6\",\"gridcolor\":\"white\",\"gridwidth\":2,\"linecolor\":\"white\",\"showbackground\":true,\"ticks\":\"\",\"zerolinecolor\":\"white\"},\"yaxis\":{\"backgroundcolor\":\"#E5ECF6\",\"gridcolor\":\"white\",\"gridwidth\":2,\"linecolor\":\"white\",\"showbackground\":true,\"ticks\":\"\",\"zerolinecolor\":\"white\"},\"zaxis\":{\"backgroundcolor\":\"#E5ECF6\",\"gridcolor\":\"white\",\"gridwidth\":2,\"linecolor\":\"white\",\"showbackground\":true,\"ticks\":\"\",\"zerolinecolor\":\"white\"}},\"shapedefaults\":{\"line\":{\"color\":\"#2a3f5f\"}},\"ternary\":{\"aaxis\":{\"gridcolor\":\"white\",\"linecolor\":\"white\",\"ticks\":\"\"},\"baxis\":{\"gridcolor\":\"white\",\"linecolor\":\"white\",\"ticks\":\"\"},\"bgcolor\":\"#E5ECF6\",\"caxis\":{\"gridcolor\":\"white\",\"linecolor\":\"white\",\"ticks\":\"\"}},\"title\":{\"x\":0.05},\"xaxis\":{\"automargin\":true,\"gridcolor\":\"white\",\"linecolor\":\"white\",\"ticks\":\"\",\"title\":{\"standoff\":15},\"zerolinecolor\":\"white\",\"zerolinewidth\":2},\"yaxis\":{\"automargin\":true,\"gridcolor\":\"white\",\"linecolor\":\"white\",\"ticks\":\"\",\"title\":{\"standoff\":15},\"zerolinecolor\":\"white\",\"zerolinewidth\":2}}},\"title\":{\"text\":\"Wine consumption based on Marital Stats\"}},                        {\"responsive\": true}                    ).then(function(){\n",
       "                            \n",
       "var gd = document.getElementById('b4e96d6b-9dfc-4a2f-865f-0833d54cdd2c');\n",
       "var x = new MutationObserver(function (mutations, observer) {{\n",
       "        var display = window.getComputedStyle(gd).display;\n",
       "        if (!display || display === 'none') {{\n",
       "            console.log([gd, 'removed!']);\n",
       "            Plotly.purge(gd);\n",
       "            observer.disconnect();\n",
       "        }}\n",
       "}});\n",
       "\n",
       "// Listen for the removal of the full notebook cells\n",
       "var notebookContainer = gd.closest('#notebook-container');\n",
       "if (notebookContainer) {{\n",
       "    x.observe(notebookContainer, {childList: true});\n",
       "}}\n",
       "\n",
       "// Listen for the clearing of the current output cell\n",
       "var outputEl = gd.closest('.output');\n",
       "if (outputEl) {{\n",
       "    x.observe(outputEl, {childList: true});\n",
       "}}\n",
       "\n",
       "                        })                };                });            </script>        </div>"
      ]
     },
     "metadata": {},
     "output_type": "display_data"
    }
   ],
   "source": [
    "# Wine consumption based on Marital Stats\n",
    "'''\n",
    "# Analysis: \n",
    "- Wine sales to married and together customers constitutes more than 60% of sales \n",
    "- The next highest customer segment in this category is \"Singles\"\n",
    "'''\n",
    "df = wine_data.groupby('MaritalStat').count()['CustId'].reset_index()\n",
    "df = df.rename(columns={'CustId':'count'})\n",
    "fig = px.pie(df, names='MaritalStat', values='count', title='Wine consumption based on Marital Stats')\n",
    "fig.update_traces(textposition='inside', textinfo='percent+label')"
   ]
  },
  {
   "cell_type": "code",
   "execution_count": 57,
   "metadata": {},
   "outputs": [
    {
     "data": {
      "application/vnd.plotly.v1+json": {
       "config": {
        "plotlyServerURL": "https://plot.ly"
       },
       "data": [
        {
         "branchvalues": "total",
         "customdata": [
          [
           null
          ],
          [
           null
          ],
          [
           9
          ],
          [
           25
          ],
          [
           9
          ],
          [
           null
          ],
          [
           1
          ],
          [
           12
          ],
          [
           144
          ],
          [
           106
          ],
          [
           79
          ],
          [
           null
          ],
          [
           1
          ],
          [
           77
          ],
          [
           307
          ],
          [
           132
          ],
          [
           174
          ],
          [
           11
          ],
          [
           null
          ],
          [
           75
          ],
          [
           194
          ],
          [
           115
          ],
          [
           131
          ],
          [
           19
          ],
          [
           1
          ],
          [
           56
          ],
          [
           167
          ],
          [
           86
          ],
          [
           144
          ],
          [
           26
          ],
          [
           null
          ],
          [
           11
          ],
          [
           47
          ],
          [
           14
          ],
          [
           42
          ],
          [
           21
          ],
          [
           null
          ],
          [
           1
          ],
          [
           null
          ],
          [
           2
          ],
          [
           1
          ],
          [
           null
          ],
          [
           1
          ],
          [
           64.46551724137932
          ],
          [
           210.59907834101384
          ],
          [
           104.3875
          ],
          [
           131.48275862068965
          ],
          [
           20.766233766233768
          ]
         ],
         "domain": {
          "x": [
           0,
           1
          ],
          "y": [
           0,
           1
          ]
         },
         "hovertemplate": "labels=%{label}<br>Number of consumers_sum=%{value}<br>parent=%{parent}<br>id=%{id}<br>Number of consumers=%{color}<extra></extra>",
         "ids": [
          "Alone/20-30",
          "Divorced/20-30",
          "Married/20-30",
          "Single/20-30",
          "Together/20-30",
          "Widow/20-30",
          "Alone/30-40",
          "Divorced/30-40",
          "Married/30-40",
          "Single/30-40",
          "Together/30-40",
          "Widow/30-40",
          "Alone/40-50",
          "Divorced/40-50",
          "Married/40-50",
          "Single/40-50",
          "Together/40-50",
          "Widow/40-50",
          "Alone/50-60",
          "Divorced/50-60",
          "Married/50-60",
          "Single/50-60",
          "Together/50-60",
          "Widow/50-60",
          "Alone/60-70",
          "Divorced/60-70",
          "Married/60-70",
          "Single/60-70",
          "Together/60-70",
          "Widow/60-70",
          "Alone/70-80",
          "Divorced/70-80",
          "Married/70-80",
          "Single/70-80",
          "Together/70-80",
          "Widow/70-80",
          "Alone/80+",
          "Divorced/80+",
          "Married/80+",
          "Single/80+",
          "Together/80+",
          "Widow/80+",
          "Alone",
          "Divorced",
          "Married",
          "Single",
          "Together",
          "Widow"
         ],
         "labels": [
          "20-30",
          "20-30",
          "20-30",
          "20-30",
          "20-30",
          "20-30",
          "30-40",
          "30-40",
          "30-40",
          "30-40",
          "30-40",
          "30-40",
          "40-50",
          "40-50",
          "40-50",
          "40-50",
          "40-50",
          "40-50",
          "50-60",
          "50-60",
          "50-60",
          "50-60",
          "50-60",
          "50-60",
          "60-70",
          "60-70",
          "60-70",
          "60-70",
          "60-70",
          "60-70",
          "70-80",
          "70-80",
          "70-80",
          "70-80",
          "70-80",
          "70-80",
          "80+",
          "80+",
          "80+",
          "80+",
          "80+",
          "80+",
          "Alone",
          "Divorced",
          "Married",
          "Single",
          "Together",
          "Widow"
         ],
         "marker": {
          "coloraxis": "coloraxis",
          "colors": [
           null,
           null,
           9,
           25,
           9,
           null,
           1,
           12,
           144,
           106,
           79,
           null,
           1,
           77,
           307,
           132,
           174,
           11,
           null,
           75,
           194,
           115,
           131,
           19,
           1,
           56,
           167,
           86,
           144,
           26,
           null,
           11,
           47,
           14,
           42,
           21,
           null,
           1,
           null,
           2,
           1,
           null,
           1,
           64.46551724137932,
           210.59907834101384,
           104.3875,
           131.48275862068965,
           20.766233766233768
          ]
         },
         "name": "",
         "parents": [
          "Alone",
          "Divorced",
          "Married",
          "Single",
          "Together",
          "Widow",
          "Alone",
          "Divorced",
          "Married",
          "Single",
          "Together",
          "Widow",
          "Alone",
          "Divorced",
          "Married",
          "Single",
          "Together",
          "Widow",
          "Alone",
          "Divorced",
          "Married",
          "Single",
          "Together",
          "Widow",
          "Alone",
          "Divorced",
          "Married",
          "Single",
          "Together",
          "Widow",
          "Alone",
          "Divorced",
          "Married",
          "Single",
          "Together",
          "Widow",
          "Alone",
          "Divorced",
          "Married",
          "Single",
          "Together",
          "Widow",
          "",
          "",
          "",
          "",
          "",
          ""
         ],
         "type": "sunburst",
         "values": [
          0,
          0,
          9,
          25,
          9,
          0,
          1,
          12,
          144,
          106,
          79,
          0,
          1,
          77,
          307,
          132,
          174,
          11,
          0,
          75,
          194,
          115,
          131,
          19,
          1,
          56,
          167,
          86,
          144,
          26,
          0,
          11,
          47,
          14,
          42,
          21,
          0,
          1,
          0,
          2,
          1,
          0,
          3,
          232,
          868,
          480,
          580,
          77
         ]
        }
       ],
       "layout": {
        "autosize": true,
        "coloraxis": {
         "colorbar": {
          "title": {
           "text": "Number of consumers"
          }
         },
         "colorscale": [
          [
           0,
           "#0d0887"
          ],
          [
           0.1111111111111111,
           "#46039f"
          ],
          [
           0.2222222222222222,
           "#7201a8"
          ],
          [
           0.3333333333333333,
           "#9c179e"
          ],
          [
           0.4444444444444444,
           "#bd3786"
          ],
          [
           0.5555555555555556,
           "#d8576b"
          ],
          [
           0.6666666666666666,
           "#ed7953"
          ],
          [
           0.7777777777777778,
           "#fb9f3a"
          ],
          [
           0.8888888888888888,
           "#fdca26"
          ],
          [
           1,
           "#f0f921"
          ]
         ]
        },
        "legend": {
         "tracegroupgap": 0
        },
        "template": {
         "data": {
          "bar": [
           {
            "error_x": {
             "color": "#2a3f5f"
            },
            "error_y": {
             "color": "#2a3f5f"
            },
            "marker": {
             "line": {
              "color": "#E5ECF6",
              "width": 0.5
             },
             "pattern": {
              "fillmode": "overlay",
              "size": 10,
              "solidity": 0.2
             }
            },
            "type": "bar"
           }
          ],
          "barpolar": [
           {
            "marker": {
             "line": {
              "color": "#E5ECF6",
              "width": 0.5
             },
             "pattern": {
              "fillmode": "overlay",
              "size": 10,
              "solidity": 0.2
             }
            },
            "type": "barpolar"
           }
          ],
          "carpet": [
           {
            "aaxis": {
             "endlinecolor": "#2a3f5f",
             "gridcolor": "white",
             "linecolor": "white",
             "minorgridcolor": "white",
             "startlinecolor": "#2a3f5f"
            },
            "baxis": {
             "endlinecolor": "#2a3f5f",
             "gridcolor": "white",
             "linecolor": "white",
             "minorgridcolor": "white",
             "startlinecolor": "#2a3f5f"
            },
            "type": "carpet"
           }
          ],
          "choropleth": [
           {
            "colorbar": {
             "outlinewidth": 0,
             "ticks": ""
            },
            "type": "choropleth"
           }
          ],
          "contour": [
           {
            "colorbar": {
             "outlinewidth": 0,
             "ticks": ""
            },
            "colorscale": [
             [
              0,
              "#0d0887"
             ],
             [
              0.1111111111111111,
              "#46039f"
             ],
             [
              0.2222222222222222,
              "#7201a8"
             ],
             [
              0.3333333333333333,
              "#9c179e"
             ],
             [
              0.4444444444444444,
              "#bd3786"
             ],
             [
              0.5555555555555556,
              "#d8576b"
             ],
             [
              0.6666666666666666,
              "#ed7953"
             ],
             [
              0.7777777777777778,
              "#fb9f3a"
             ],
             [
              0.8888888888888888,
              "#fdca26"
             ],
             [
              1,
              "#f0f921"
             ]
            ],
            "type": "contour"
           }
          ],
          "contourcarpet": [
           {
            "colorbar": {
             "outlinewidth": 0,
             "ticks": ""
            },
            "type": "contourcarpet"
           }
          ],
          "heatmap": [
           {
            "colorbar": {
             "outlinewidth": 0,
             "ticks": ""
            },
            "colorscale": [
             [
              0,
              "#0d0887"
             ],
             [
              0.1111111111111111,
              "#46039f"
             ],
             [
              0.2222222222222222,
              "#7201a8"
             ],
             [
              0.3333333333333333,
              "#9c179e"
             ],
             [
              0.4444444444444444,
              "#bd3786"
             ],
             [
              0.5555555555555556,
              "#d8576b"
             ],
             [
              0.6666666666666666,
              "#ed7953"
             ],
             [
              0.7777777777777778,
              "#fb9f3a"
             ],
             [
              0.8888888888888888,
              "#fdca26"
             ],
             [
              1,
              "#f0f921"
             ]
            ],
            "type": "heatmap"
           }
          ],
          "heatmapgl": [
           {
            "colorbar": {
             "outlinewidth": 0,
             "ticks": ""
            },
            "colorscale": [
             [
              0,
              "#0d0887"
             ],
             [
              0.1111111111111111,
              "#46039f"
             ],
             [
              0.2222222222222222,
              "#7201a8"
             ],
             [
              0.3333333333333333,
              "#9c179e"
             ],
             [
              0.4444444444444444,
              "#bd3786"
             ],
             [
              0.5555555555555556,
              "#d8576b"
             ],
             [
              0.6666666666666666,
              "#ed7953"
             ],
             [
              0.7777777777777778,
              "#fb9f3a"
             ],
             [
              0.8888888888888888,
              "#fdca26"
             ],
             [
              1,
              "#f0f921"
             ]
            ],
            "type": "heatmapgl"
           }
          ],
          "histogram": [
           {
            "marker": {
             "pattern": {
              "fillmode": "overlay",
              "size": 10,
              "solidity": 0.2
             }
            },
            "type": "histogram"
           }
          ],
          "histogram2d": [
           {
            "colorbar": {
             "outlinewidth": 0,
             "ticks": ""
            },
            "colorscale": [
             [
              0,
              "#0d0887"
             ],
             [
              0.1111111111111111,
              "#46039f"
             ],
             [
              0.2222222222222222,
              "#7201a8"
             ],
             [
              0.3333333333333333,
              "#9c179e"
             ],
             [
              0.4444444444444444,
              "#bd3786"
             ],
             [
              0.5555555555555556,
              "#d8576b"
             ],
             [
              0.6666666666666666,
              "#ed7953"
             ],
             [
              0.7777777777777778,
              "#fb9f3a"
             ],
             [
              0.8888888888888888,
              "#fdca26"
             ],
             [
              1,
              "#f0f921"
             ]
            ],
            "type": "histogram2d"
           }
          ],
          "histogram2dcontour": [
           {
            "colorbar": {
             "outlinewidth": 0,
             "ticks": ""
            },
            "colorscale": [
             [
              0,
              "#0d0887"
             ],
             [
              0.1111111111111111,
              "#46039f"
             ],
             [
              0.2222222222222222,
              "#7201a8"
             ],
             [
              0.3333333333333333,
              "#9c179e"
             ],
             [
              0.4444444444444444,
              "#bd3786"
             ],
             [
              0.5555555555555556,
              "#d8576b"
             ],
             [
              0.6666666666666666,
              "#ed7953"
             ],
             [
              0.7777777777777778,
              "#fb9f3a"
             ],
             [
              0.8888888888888888,
              "#fdca26"
             ],
             [
              1,
              "#f0f921"
             ]
            ],
            "type": "histogram2dcontour"
           }
          ],
          "mesh3d": [
           {
            "colorbar": {
             "outlinewidth": 0,
             "ticks": ""
            },
            "type": "mesh3d"
           }
          ],
          "parcoords": [
           {
            "line": {
             "colorbar": {
              "outlinewidth": 0,
              "ticks": ""
             }
            },
            "type": "parcoords"
           }
          ],
          "pie": [
           {
            "automargin": true,
            "type": "pie"
           }
          ],
          "scatter": [
           {
            "marker": {
             "colorbar": {
              "outlinewidth": 0,
              "ticks": ""
             }
            },
            "type": "scatter"
           }
          ],
          "scatter3d": [
           {
            "line": {
             "colorbar": {
              "outlinewidth": 0,
              "ticks": ""
             }
            },
            "marker": {
             "colorbar": {
              "outlinewidth": 0,
              "ticks": ""
             }
            },
            "type": "scatter3d"
           }
          ],
          "scattercarpet": [
           {
            "marker": {
             "colorbar": {
              "outlinewidth": 0,
              "ticks": ""
             }
            },
            "type": "scattercarpet"
           }
          ],
          "scattergeo": [
           {
            "marker": {
             "colorbar": {
              "outlinewidth": 0,
              "ticks": ""
             }
            },
            "type": "scattergeo"
           }
          ],
          "scattergl": [
           {
            "marker": {
             "colorbar": {
              "outlinewidth": 0,
              "ticks": ""
             }
            },
            "type": "scattergl"
           }
          ],
          "scattermapbox": [
           {
            "marker": {
             "colorbar": {
              "outlinewidth": 0,
              "ticks": ""
             }
            },
            "type": "scattermapbox"
           }
          ],
          "scatterpolar": [
           {
            "marker": {
             "colorbar": {
              "outlinewidth": 0,
              "ticks": ""
             }
            },
            "type": "scatterpolar"
           }
          ],
          "scatterpolargl": [
           {
            "marker": {
             "colorbar": {
              "outlinewidth": 0,
              "ticks": ""
             }
            },
            "type": "scatterpolargl"
           }
          ],
          "scatterternary": [
           {
            "marker": {
             "colorbar": {
              "outlinewidth": 0,
              "ticks": ""
             }
            },
            "type": "scatterternary"
           }
          ],
          "surface": [
           {
            "colorbar": {
             "outlinewidth": 0,
             "ticks": ""
            },
            "colorscale": [
             [
              0,
              "#0d0887"
             ],
             [
              0.1111111111111111,
              "#46039f"
             ],
             [
              0.2222222222222222,
              "#7201a8"
             ],
             [
              0.3333333333333333,
              "#9c179e"
             ],
             [
              0.4444444444444444,
              "#bd3786"
             ],
             [
              0.5555555555555556,
              "#d8576b"
             ],
             [
              0.6666666666666666,
              "#ed7953"
             ],
             [
              0.7777777777777778,
              "#fb9f3a"
             ],
             [
              0.8888888888888888,
              "#fdca26"
             ],
             [
              1,
              "#f0f921"
             ]
            ],
            "type": "surface"
           }
          ],
          "table": [
           {
            "cells": {
             "fill": {
              "color": "#EBF0F8"
             },
             "line": {
              "color": "white"
             }
            },
            "header": {
             "fill": {
              "color": "#C8D4E3"
             },
             "line": {
              "color": "white"
             }
            },
            "type": "table"
           }
          ]
         },
         "layout": {
          "annotationdefaults": {
           "arrowcolor": "#2a3f5f",
           "arrowhead": 0,
           "arrowwidth": 1
          },
          "autotypenumbers": "strict",
          "coloraxis": {
           "colorbar": {
            "outlinewidth": 0,
            "ticks": ""
           }
          },
          "colorscale": {
           "diverging": [
            [
             0,
             "#8e0152"
            ],
            [
             0.1,
             "#c51b7d"
            ],
            [
             0.2,
             "#de77ae"
            ],
            [
             0.3,
             "#f1b6da"
            ],
            [
             0.4,
             "#fde0ef"
            ],
            [
             0.5,
             "#f7f7f7"
            ],
            [
             0.6,
             "#e6f5d0"
            ],
            [
             0.7,
             "#b8e186"
            ],
            [
             0.8,
             "#7fbc41"
            ],
            [
             0.9,
             "#4d9221"
            ],
            [
             1,
             "#276419"
            ]
           ],
           "sequential": [
            [
             0,
             "#0d0887"
            ],
            [
             0.1111111111111111,
             "#46039f"
            ],
            [
             0.2222222222222222,
             "#7201a8"
            ],
            [
             0.3333333333333333,
             "#9c179e"
            ],
            [
             0.4444444444444444,
             "#bd3786"
            ],
            [
             0.5555555555555556,
             "#d8576b"
            ],
            [
             0.6666666666666666,
             "#ed7953"
            ],
            [
             0.7777777777777778,
             "#fb9f3a"
            ],
            [
             0.8888888888888888,
             "#fdca26"
            ],
            [
             1,
             "#f0f921"
            ]
           ],
           "sequentialminus": [
            [
             0,
             "#0d0887"
            ],
            [
             0.1111111111111111,
             "#46039f"
            ],
            [
             0.2222222222222222,
             "#7201a8"
            ],
            [
             0.3333333333333333,
             "#9c179e"
            ],
            [
             0.4444444444444444,
             "#bd3786"
            ],
            [
             0.5555555555555556,
             "#d8576b"
            ],
            [
             0.6666666666666666,
             "#ed7953"
            ],
            [
             0.7777777777777778,
             "#fb9f3a"
            ],
            [
             0.8888888888888888,
             "#fdca26"
            ],
            [
             1,
             "#f0f921"
            ]
           ]
          },
          "colorway": [
           "#636efa",
           "#EF553B",
           "#00cc96",
           "#ab63fa",
           "#FFA15A",
           "#19d3f3",
           "#FF6692",
           "#B6E880",
           "#FF97FF",
           "#FECB52"
          ],
          "font": {
           "color": "#2a3f5f"
          },
          "geo": {
           "bgcolor": "white",
           "lakecolor": "white",
           "landcolor": "#E5ECF6",
           "showlakes": true,
           "showland": true,
           "subunitcolor": "white"
          },
          "hoverlabel": {
           "align": "left"
          },
          "hovermode": "closest",
          "mapbox": {
           "style": "light"
          },
          "paper_bgcolor": "white",
          "plot_bgcolor": "#E5ECF6",
          "polar": {
           "angularaxis": {
            "gridcolor": "white",
            "linecolor": "white",
            "ticks": ""
           },
           "bgcolor": "#E5ECF6",
           "radialaxis": {
            "gridcolor": "white",
            "linecolor": "white",
            "ticks": ""
           }
          },
          "scene": {
           "xaxis": {
            "backgroundcolor": "#E5ECF6",
            "gridcolor": "white",
            "gridwidth": 2,
            "linecolor": "white",
            "showbackground": true,
            "ticks": "",
            "zerolinecolor": "white"
           },
           "yaxis": {
            "backgroundcolor": "#E5ECF6",
            "gridcolor": "white",
            "gridwidth": 2,
            "linecolor": "white",
            "showbackground": true,
            "ticks": "",
            "zerolinecolor": "white"
           },
           "zaxis": {
            "backgroundcolor": "#E5ECF6",
            "gridcolor": "white",
            "gridwidth": 2,
            "linecolor": "white",
            "showbackground": true,
            "ticks": "",
            "zerolinecolor": "white"
           }
          },
          "shapedefaults": {
           "line": {
            "color": "#2a3f5f"
           }
          },
          "ternary": {
           "aaxis": {
            "gridcolor": "white",
            "linecolor": "white",
            "ticks": ""
           },
           "baxis": {
            "gridcolor": "white",
            "linecolor": "white",
            "ticks": ""
           },
           "bgcolor": "#E5ECF6",
           "caxis": {
            "gridcolor": "white",
            "linecolor": "white",
            "ticks": ""
           }
          },
          "title": {
           "x": 0.05
          },
          "xaxis": {
           "automargin": true,
           "gridcolor": "white",
           "linecolor": "white",
           "ticks": "",
           "title": {
            "standoff": 15
           },
           "zerolinecolor": "white",
           "zerolinewidth": 2
          },
          "yaxis": {
           "automargin": true,
           "gridcolor": "white",
           "linecolor": "white",
           "ticks": "",
           "title": {
            "standoff": 15
           },
           "zerolinecolor": "white",
           "zerolinewidth": 2
          }
         }
        },
        "title": {
         "text": "Wine consumption based on Marital Status and Age Group"
        }
       }
      },
      "image/png": "[encoded data removed]",
      "text/html": [
       "<div>                            <div id=\"1d68ddf9-2fa5-4f90-b8fd-b49e25eb18c3\" class=\"plotly-graph-div\" style=\"height:525px; width:100%;\"></div>            <script type=\"text/javascript\">                require([\"plotly\"], function(Plotly) {                    window.PLOTLYENV=window.PLOTLYENV || {};                                    if (document.getElementById(\"1d68ddf9-2fa5-4f90-b8fd-b49e25eb18c3\")) {                    Plotly.newPlot(                        \"1d68ddf9-2fa5-4f90-b8fd-b49e25eb18c3\",                        [{\"branchvalues\":\"total\",\"customdata\":[[null],[null],[9.0],[25.0],[9.0],[null],[1.0],[12.0],[144.0],[106.0],[79.0],[null],[1.0],[77.0],[307.0],[132.0],[174.0],[11.0],[null],[75.0],[194.0],[115.0],[131.0],[19.0],[1.0],[56.0],[167.0],[86.0],[144.0],[26.0],[null],[11.0],[47.0],[14.0],[42.0],[21.0],[null],[1.0],[null],[2.0],[1.0],[null],[1.0],[64.46551724137932],[210.59907834101384],[104.3875],[131.48275862068965],[20.766233766233768]],\"domain\":{\"x\":[0.0,1.0],\"y\":[0.0,1.0]},\"hovertemplate\":\"labels=%{label}<br>Number of consumers_sum=%{value}<br>parent=%{parent}<br>id=%{id}<br>Number of consumers=%{color}<extra></extra>\",\"ids\":[\"Alone/20-30\",\"Divorced/20-30\",\"Married/20-30\",\"Single/20-30\",\"Together/20-30\",\"Widow/20-30\",\"Alone/30-40\",\"Divorced/30-40\",\"Married/30-40\",\"Single/30-40\",\"Together/30-40\",\"Widow/30-40\",\"Alone/40-50\",\"Divorced/40-50\",\"Married/40-50\",\"Single/40-50\",\"Together/40-50\",\"Widow/40-50\",\"Alone/50-60\",\"Divorced/50-60\",\"Married/50-60\",\"Single/50-60\",\"Together/50-60\",\"Widow/50-60\",\"Alone/60-70\",\"Divorced/60-70\",\"Married/60-70\",\"Single/60-70\",\"Together/60-70\",\"Widow/60-70\",\"Alone/70-80\",\"Divorced/70-80\",\"Married/70-80\",\"Single/70-80\",\"Together/70-80\",\"Widow/70-80\",\"Alone/80+\",\"Divorced/80+\",\"Married/80+\",\"Single/80+\",\"Together/80+\",\"Widow/80+\",\"Alone\",\"Divorced\",\"Married\",\"Single\",\"Together\",\"Widow\"],\"labels\":[\"20-30\",\"20-30\",\"20-30\",\"20-30\",\"20-30\",\"20-30\",\"30-40\",\"30-40\",\"30-40\",\"30-40\",\"30-40\",\"30-40\",\"40-50\",\"40-50\",\"40-50\",\"40-50\",\"40-50\",\"40-50\",\"50-60\",\"50-60\",\"50-60\",\"50-60\",\"50-60\",\"50-60\",\"60-70\",\"60-70\",\"60-70\",\"60-70\",\"60-70\",\"60-70\",\"70-80\",\"70-80\",\"70-80\",\"70-80\",\"70-80\",\"70-80\",\"80+\",\"80+\",\"80+\",\"80+\",\"80+\",\"80+\",\"Alone\",\"Divorced\",\"Married\",\"Single\",\"Together\",\"Widow\"],\"marker\":{\"coloraxis\":\"coloraxis\",\"colors\":[null,null,9.0,25.0,9.0,null,1.0,12.0,144.0,106.0,79.0,null,1.0,77.0,307.0,132.0,174.0,11.0,null,75.0,194.0,115.0,131.0,19.0,1.0,56.0,167.0,86.0,144.0,26.0,null,11.0,47.0,14.0,42.0,21.0,null,1.0,null,2.0,1.0,null,1.0,64.46551724137932,210.59907834101384,104.3875,131.48275862068965,20.766233766233768]},\"name\":\"\",\"parents\":[\"Alone\",\"Divorced\",\"Married\",\"Single\",\"Together\",\"Widow\",\"Alone\",\"Divorced\",\"Married\",\"Single\",\"Together\",\"Widow\",\"Alone\",\"Divorced\",\"Married\",\"Single\",\"Together\",\"Widow\",\"Alone\",\"Divorced\",\"Married\",\"Single\",\"Together\",\"Widow\",\"Alone\",\"Divorced\",\"Married\",\"Single\",\"Together\",\"Widow\",\"Alone\",\"Divorced\",\"Married\",\"Single\",\"Together\",\"Widow\",\"Alone\",\"Divorced\",\"Married\",\"Single\",\"Together\",\"Widow\",\"\",\"\",\"\",\"\",\"\",\"\"],\"type\":\"sunburst\",\"values\":[0,0,9,25,9,0,1,12,144,106,79,0,1,77,307,132,174,11,0,75,194,115,131,19,1,56,167,86,144,26,0,11,47,14,42,21,0,1,0,2,1,0,3,232,868,480,580,77]}],                        {\"coloraxis\":{\"colorbar\":{\"title\":{\"text\":\"Number of consumers\"}},\"colorscale\":[[0.0,\"#0d0887\"],[0.1111111111111111,\"#46039f\"],[0.2222222222222222,\"#7201a8\"],[0.3333333333333333,\"#9c179e\"],[0.4444444444444444,\"#bd3786\"],[0.5555555555555556,\"#d8576b\"],[0.6666666666666666,\"#ed7953\"],[0.7777777777777778,\"#fb9f3a\"],[0.8888888888888888,\"#fdca26\"],[1.0,\"#f0f921\"]]},\"legend\":{\"tracegroupgap\":0},\"template\":{\"data\":{\"bar\":[{\"error_x\":{\"color\":\"#2a3f5f\"},\"error_y\":{\"color\":\"#2a3f5f\"},\"marker\":{\"line\":{\"color\":\"#E5ECF6\",\"width\":0.5},\"pattern\":{\"fillmode\":\"overlay\",\"size\":10,\"solidity\":0.2}},\"type\":\"bar\"}],\"barpolar\":[{\"marker\":{\"line\":{\"color\":\"#E5ECF6\",\"width\":0.5},\"pattern\":{\"fillmode\":\"overlay\",\"size\":10,\"solidity\":0.2}},\"type\":\"barpolar\"}],\"carpet\":[{\"aaxis\":{\"endlinecolor\":\"#2a3f5f\",\"gridcolor\":\"white\",\"linecolor\":\"white\",\"minorgridcolor\":\"white\",\"startlinecolor\":\"#2a3f5f\"},\"baxis\":{\"endlinecolor\":\"#2a3f5f\",\"gridcolor\":\"white\",\"linecolor\":\"white\",\"minorgridcolor\":\"white\",\"startlinecolor\":\"#2a3f5f\"},\"type\":\"carpet\"}],\"choropleth\":[{\"colorbar\":{\"outlinewidth\":0,\"ticks\":\"\"},\"type\":\"choropleth\"}],\"contour\":[{\"colorbar\":{\"outlinewidth\":0,\"ticks\":\"\"},\"colorscale\":[[0.0,\"#0d0887\"],[0.1111111111111111,\"#46039f\"],[0.2222222222222222,\"#7201a8\"],[0.3333333333333333,\"#9c179e\"],[0.4444444444444444,\"#bd3786\"],[0.5555555555555556,\"#d8576b\"],[0.6666666666666666,\"#ed7953\"],[0.7777777777777778,\"#fb9f3a\"],[0.8888888888888888,\"#fdca26\"],[1.0,\"#f0f921\"]],\"type\":\"contour\"}],\"contourcarpet\":[{\"colorbar\":{\"outlinewidth\":0,\"ticks\":\"\"},\"type\":\"contourcarpet\"}],\"heatmap\":[{\"colorbar\":{\"outlinewidth\":0,\"ticks\":\"\"},\"colorscale\":[[0.0,\"#0d0887\"],[0.1111111111111111,\"#46039f\"],[0.2222222222222222,\"#7201a8\"],[0.3333333333333333,\"#9c179e\"],[0.4444444444444444,\"#bd3786\"],[0.5555555555555556,\"#d8576b\"],[0.6666666666666666,\"#ed7953\"],[0.7777777777777778,\"#fb9f3a\"],[0.8888888888888888,\"#fdca26\"],[1.0,\"#f0f921\"]],\"type\":\"heatmap\"}],\"heatmapgl\":[{\"colorbar\":{\"outlinewidth\":0,\"ticks\":\"\"},\"colorscale\":[[0.0,\"#0d0887\"],[0.1111111111111111,\"#46039f\"],[0.2222222222222222,\"#7201a8\"],[0.3333333333333333,\"#9c179e\"],[0.4444444444444444,\"#bd3786\"],[0.5555555555555556,\"#d8576b\"],[0.6666666666666666,\"#ed7953\"],[0.7777777777777778,\"#fb9f3a\"],[0.8888888888888888,\"#fdca26\"],[1.0,\"#f0f921\"]],\"type\":\"heatmapgl\"}],\"histogram\":[{\"marker\":{\"pattern\":{\"fillmode\":\"overlay\",\"size\":10,\"solidity\":0.2}},\"type\":\"histogram\"}],\"histogram2d\":[{\"colorbar\":{\"outlinewidth\":0,\"ticks\":\"\"},\"colorscale\":[[0.0,\"#0d0887\"],[0.1111111111111111,\"#46039f\"],[0.2222222222222222,\"#7201a8\"],[0.3333333333333333,\"#9c179e\"],[0.4444444444444444,\"#bd3786\"],[0.5555555555555556,\"#d8576b\"],[0.6666666666666666,\"#ed7953\"],[0.7777777777777778,\"#fb9f3a\"],[0.8888888888888888,\"#fdca26\"],[1.0,\"#f0f921\"]],\"type\":\"histogram2d\"}],\"histogram2dcontour\":[{\"colorbar\":{\"outlinewidth\":0,\"ticks\":\"\"},\"colorscale\":[[0.0,\"#0d0887\"],[0.1111111111111111,\"#46039f\"],[0.2222222222222222,\"#7201a8\"],[0.3333333333333333,\"#9c179e\"],[0.4444444444444444,\"#bd3786\"],[0.5555555555555556,\"#d8576b\"],[0.6666666666666666,\"#ed7953\"],[0.7777777777777778,\"#fb9f3a\"],[0.8888888888888888,\"#fdca26\"],[1.0,\"#f0f921\"]],\"type\":\"histogram2dcontour\"}],\"mesh3d\":[{\"colorbar\":{\"outlinewidth\":0,\"ticks\":\"\"},\"type\":\"mesh3d\"}],\"parcoords\":[{\"line\":{\"colorbar\":{\"outlinewidth\":0,\"ticks\":\"\"}},\"type\":\"parcoords\"}],\"pie\":[{\"automargin\":true,\"type\":\"pie\"}],\"scatter\":[{\"marker\":{\"colorbar\":{\"outlinewidth\":0,\"ticks\":\"\"}},\"type\":\"scatter\"}],\"scatter3d\":[{\"line\":{\"colorbar\":{\"outlinewidth\":0,\"ticks\":\"\"}},\"marker\":{\"colorbar\":{\"outlinewidth\":0,\"ticks\":\"\"}},\"type\":\"scatter3d\"}],\"scattercarpet\":[{\"marker\":{\"colorbar\":{\"outlinewidth\":0,\"ticks\":\"\"}},\"type\":\"scattercarpet\"}],\"scattergeo\":[{\"marker\":{\"colorbar\":{\"outlinewidth\":0,\"ticks\":\"\"}},\"type\":\"scattergeo\"}],\"scattergl\":[{\"marker\":{\"colorbar\":{\"outlinewidth\":0,\"ticks\":\"\"}},\"type\":\"scattergl\"}],\"scattermapbox\":[{\"marker\":{\"colorbar\":{\"outlinewidth\":0,\"ticks\":\"\"}},\"type\":\"scattermapbox\"}],\"scatterpolar\":[{\"marker\":{\"colorbar\":{\"outlinewidth\":0,\"ticks\":\"\"}},\"type\":\"scatterpolar\"}],\"scatterpolargl\":[{\"marker\":{\"colorbar\":{\"outlinewidth\":0,\"ticks\":\"\"}},\"type\":\"scatterpolargl\"}],\"scatterternary\":[{\"marker\":{\"colorbar\":{\"outlinewidth\":0,\"ticks\":\"\"}},\"type\":\"scatterternary\"}],\"surface\":[{\"colorbar\":{\"outlinewidth\":0,\"ticks\":\"\"},\"colorscale\":[[0.0,\"#0d0887\"],[0.1111111111111111,\"#46039f\"],[0.2222222222222222,\"#7201a8\"],[0.3333333333333333,\"#9c179e\"],[0.4444444444444444,\"#bd3786\"],[0.5555555555555556,\"#d8576b\"],[0.6666666666666666,\"#ed7953\"],[0.7777777777777778,\"#fb9f3a\"],[0.8888888888888888,\"#fdca26\"],[1.0,\"#f0f921\"]],\"type\":\"surface\"}],\"table\":[{\"cells\":{\"fill\":{\"color\":\"#EBF0F8\"},\"line\":{\"color\":\"white\"}},\"header\":{\"fill\":{\"color\":\"#C8D4E3\"},\"line\":{\"color\":\"white\"}},\"type\":\"table\"}]},\"layout\":{\"annotationdefaults\":{\"arrowcolor\":\"#2a3f5f\",\"arrowhead\":0,\"arrowwidth\":1},\"autotypenumbers\":\"strict\",\"coloraxis\":{\"colorbar\":{\"outlinewidth\":0,\"ticks\":\"\"}},\"colorscale\":{\"diverging\":[[0,\"#8e0152\"],[0.1,\"#c51b7d\"],[0.2,\"#de77ae\"],[0.3,\"#f1b6da\"],[0.4,\"#fde0ef\"],[0.5,\"#f7f7f7\"],[0.6,\"#e6f5d0\"],[0.7,\"#b8e186\"],[0.8,\"#7fbc41\"],[0.9,\"#4d9221\"],[1,\"#276419\"]],\"sequential\":[[0.0,\"#0d0887\"],[0.1111111111111111,\"#46039f\"],[0.2222222222222222,\"#7201a8\"],[0.3333333333333333,\"#9c179e\"],[0.4444444444444444,\"#bd3786\"],[0.5555555555555556,\"#d8576b\"],[0.6666666666666666,\"#ed7953\"],[0.7777777777777778,\"#fb9f3a\"],[0.8888888888888888,\"#fdca26\"],[1.0,\"#f0f921\"]],\"sequentialminus\":[[0.0,\"#0d0887\"],[0.1111111111111111,\"#46039f\"],[0.2222222222222222,\"#7201a8\"],[0.3333333333333333,\"#9c179e\"],[0.4444444444444444,\"#bd3786\"],[0.5555555555555556,\"#d8576b\"],[0.6666666666666666,\"#ed7953\"],[0.7777777777777778,\"#fb9f3a\"],[0.8888888888888888,\"#fdca26\"],[1.0,\"#f0f921\"]]},\"colorway\":[\"#636efa\",\"#EF553B\",\"#00cc96\",\"#ab63fa\",\"#FFA15A\",\"#19d3f3\",\"#FF6692\",\"#B6E880\",\"#FF97FF\",\"#FECB52\"],\"font\":{\"color\":\"#2a3f5f\"},\"geo\":{\"bgcolor\":\"white\",\"lakecolor\":\"white\",\"landcolor\":\"#E5ECF6\",\"showlakes\":true,\"showland\":true,\"subunitcolor\":\"white\"},\"hoverlabel\":{\"align\":\"left\"},\"hovermode\":\"closest\",\"mapbox\":{\"style\":\"light\"},\"paper_bgcolor\":\"white\",\"plot_bgcolor\":\"#E5ECF6\",\"polar\":{\"angularaxis\":{\"gridcolor\":\"white\",\"linecolor\":\"white\",\"ticks\":\"\"},\"bgcolor\":\"#E5ECF6\",\"radialaxis\":{\"gridcolor\":\"white\",\"linecolor\":\"white\",\"ticks\":\"\"}},\"scene\":{\"xaxis\":{\"backgroundcolor\":\"#E5ECF6\",\"gridcolor\":\"white\",\"gridwidth\":2,\"linecolor\":\"white\",\"showbackground\":true,\"ticks\":\"\",\"zerolinecolor\":\"white\"},\"yaxis\":{\"backgroundcolor\":\"#E5ECF6\",\"gridcolor\":\"white\",\"gridwidth\":2,\"linecolor\":\"white\",\"showbackground\":true,\"ticks\":\"\",\"zerolinecolor\":\"white\"},\"zaxis\":{\"backgroundcolor\":\"#E5ECF6\",\"gridcolor\":\"white\",\"gridwidth\":2,\"linecolor\":\"white\",\"showbackground\":true,\"ticks\":\"\",\"zerolinecolor\":\"white\"}},\"shapedefaults\":{\"line\":{\"color\":\"#2a3f5f\"}},\"ternary\":{\"aaxis\":{\"gridcolor\":\"white\",\"linecolor\":\"white\",\"ticks\":\"\"},\"baxis\":{\"gridcolor\":\"white\",\"linecolor\":\"white\",\"ticks\":\"\"},\"bgcolor\":\"#E5ECF6\",\"caxis\":{\"gridcolor\":\"white\",\"linecolor\":\"white\",\"ticks\":\"\"}},\"title\":{\"x\":0.05},\"xaxis\":{\"automargin\":true,\"gridcolor\":\"white\",\"linecolor\":\"white\",\"ticks\":\"\",\"title\":{\"standoff\":15},\"zerolinecolor\":\"white\",\"zerolinewidth\":2},\"yaxis\":{\"automargin\":true,\"gridcolor\":\"white\",\"linecolor\":\"white\",\"ticks\":\"\",\"title\":{\"standoff\":15},\"zerolinecolor\":\"white\",\"zerolinewidth\":2}}},\"title\":{\"text\":\"Wine consumption based on Marital Status and Age Group\"}},                        {\"responsive\": true}                    ).then(function(){\n",
       "                            \n",
       "var gd = document.getElementById('1d68ddf9-2fa5-4f90-b8fd-b49e25eb18c3');\n",
       "var x = new MutationObserver(function (mutations, observer) {{\n",
       "        var display = window.getComputedStyle(gd).display;\n",
       "        if (!display || display === 'none') {{\n",
       "            console.log([gd, 'removed!']);\n",
       "            Plotly.purge(gd);\n",
       "            observer.disconnect();\n",
       "        }}\n",
       "}});\n",
       "\n",
       "// Listen for the removal of the full notebook cells\n",
       "var notebookContainer = gd.closest('#notebook-container');\n",
       "if (notebookContainer) {{\n",
       "    x.observe(notebookContainer, {childList: true});\n",
       "}}\n",
       "\n",
       "// Listen for the clearing of the current output cell\n",
       "var outputEl = gd.closest('.output');\n",
       "if (outputEl) {{\n",
       "    x.observe(outputEl, {childList: true});\n",
       "}}\n",
       "\n",
       "                        })                };                });            </script>        </div>"
      ]
     },
     "metadata": {},
     "output_type": "display_data"
    }
   ],
   "source": [
    "# Customer analysis by marital status and age\n",
    "'''\n",
    "# Analysis: \n",
    "- This chart reconfirms that the majority of Winlist customers are married/together and in the age group 4-50 years.\n",
    "'''\n",
    "df = wine_data.groupby(['MaritalStat','Age Group']).count()['CustId'].reset_index()\n",
    "df = df.rename(columns={'CustId':'Number of consumers'})\n",
    "df = df.loc[df['Number of consumers']!= 0]\n",
    "px.sunburst(\n",
    "    df, \n",
    "    path=['MaritalStat','Age Group'],\n",
    "    values='Number of consumers',\n",
    "    color='Number of consumers',\n",
    "    title='Wine consumption based on Marital Status and Age Group')"
   ]
  },
  {
   "cell_type": "code",
   "execution_count": 58,
   "metadata": {},
   "outputs": [
    {
     "data": {},
     "metadata": {},
     "output_type": "display_data"
    },
    {
     "data": {
      "application/vnd.holoviews_exec.v0+json": "",
      "text/html": [
       "<div id='2634'>\n",
       "\n",
       "\n",
       "\n",
       "\n",
       "\n",
       "  <div class=\"bk-root\" id=\"02dae19b-2b11-4280-afbc-fa4342f81705\" data-root-id=\"2634\"></div>\n",
       "</div>\n",
       "<script type=\"application/javascript\">(function(root) {\n",
       "  function embed_document(root) {\n",
       "    var docs_json = {\"b535da7b-69fe-4297-b5e5-0e9d7b9ac779\":{\"defs\":[{\"extends\":null,\"module\":null,\"name\":\"ReactiveHTML1\",\"overrides\":[],\"properties\":[]},{\"extends\":null,\"module\":null,\"name\":\"FlexBox1\",\"overrides\":[],\"properties\":[{\"default\":\"flex-start\",\"kind\":null,\"name\":\"align_content\"},{\"default\":\"flex-start\",\"kind\":null,\"name\":\"align_items\"},{\"default\":\"row\",\"kind\":null,\"name\":\"flex_direction\"},{\"default\":\"wrap\",\"kind\":null,\"name\":\"flex_wrap\"},{\"default\":\"flex-start\",\"kind\":null,\"name\":\"justify_content\"}]},{\"extends\":null,\"module\":null,\"name\":\"TemplateActions1\",\"overrides\":[],\"properties\":[{\"default\":0,\"kind\":null,\"name\":\"open_modal\"},{\"default\":0,\"kind\":null,\"name\":\"close_modal\"}]},{\"extends\":null,\"module\":null,\"name\":\"MaterialTemplateActions1\",\"overrides\":[],\"properties\":[{\"default\":0,\"kind\":null,\"name\":\"open_modal\"},{\"default\":0,\"kind\":null,\"name\":\"close_modal\"}]}],\"roots\":{\"references\":[{\"attributes\":{},\"id\":\"2644\",\"type\":\"CategoricalScale\"},{\"attributes\":{\"end\":130342.3,\"reset_end\":130342.3,\"reset_start\":0.0,\"tags\":[[[\"MntWines\",\"MntWines\",null]]]},\"id\":\"2637\",\"type\":\"Range1d\"},{\"attributes\":{\"factors\":[[\"Basic\",\"Alone\"],[\"Basic\",\"Divorced\"],[\"Basic\",\"Married\"],[\"Basic\",\"Single\"],[\"Basic\",\"Together\"],[\"Basic\",\"Widow\"],[\"Graduation\",\"Alone\"],[\"Graduation\",\"Divorced\"],[\"Graduation\",\"Married\"],[\"Graduation\",\"Single\"],[\"Graduation\",\"Together\"],[\"Graduation\",\"Widow\"],[\"Master\",\"Alone\"],[\"Master\",\"Divorced\"],[\"Master\",\"Married\"],[\"Master\",\"Single\"],[\"Master\",\"Together\"],[\"Master\",\"Widow\"],[\"PhD\",\"Alone\"],[\"PhD\",\"Divorced\"],[\"PhD\",\"Married\"],[\"PhD\",\"Single\"],[\"PhD\",\"Together\"],[\"PhD\",\"Widow\"],[\"Undergraduate\",\"Alone\"],[\"Undergraduate\",\"Divorced\"],[\"Undergraduate\",\"Married\"],[\"Undergraduate\",\"Single\"],[\"Undergraduate\",\"Together\"],[\"Undergraduate\",\"Widow\"]],\"tags\":[[[\"Education\",\"Education\",null],[\"MaritalStat\",\"MaritalStat\",null]]]},\"id\":\"2636\",\"type\":\"FactorRange\"},{\"attributes\":{},\"id\":\"2657\",\"type\":\"WheelZoomTool\"},{\"attributes\":{},\"id\":\"2652\",\"type\":\"BasicTicker\"},{\"attributes\":{\"children\":[{\"id\":\"2635\"},{\"id\":\"2639\"},{\"id\":\"2705\"}],\"margin\":[0,0,0,0],\"name\":\"Row04703\",\"tags\":[\"embedded\"]},\"id\":\"2634\",\"type\":\"Row\"},{\"attributes\":{\"fill_color\":{\"field\":\"MaritalStat\",\"transform\":{\"id\":\"2668\"}},\"top\":{\"field\":\"MntWines\"},\"width\":{\"value\":0.8},\"x\":{\"field\":\"xoffsets\"}},\"id\":\"2672\",\"type\":\"VBar\"},{\"attributes\":{},\"id\":\"2646\",\"type\":\"LinearScale\"},{\"attributes\":{\"format\":\"%.0f\"},\"id\":\"2678\",\"type\":\"PrintfTickFormatter\"},{\"attributes\":{\"axis\":{\"id\":\"2648\"},\"grid_line_color\":null,\"ticker\":null},\"id\":\"2650\",\"type\":\"Grid\"},{\"attributes\":{},\"id\":\"2649\",\"type\":\"CategoricalTicker\"},{\"attributes\":{\"data_source\":{\"id\":\"2669\"},\"glyph\":{\"id\":\"2672\"},\"hover_glyph\":null,\"muted_glyph\":{\"id\":\"2674\"},\"nonselection_glyph\":{\"id\":\"2673\"},\"selection_glyph\":{\"id\":\"2677\"},\"view\":{\"id\":\"2676\"}},\"id\":\"2675\",\"type\":\"GlyphRenderer\"},{\"attributes\":{\"bottom\":{\"value\":0},\"fill_alpha\":{\"value\":1.0},\"fill_color\":{\"field\":\"MaritalStat\",\"transform\":{\"id\":\"2668\"}},\"hatch_alpha\":{\"value\":1.0},\"hatch_color\":{\"value\":\"black\"},\"hatch_scale\":{\"value\":12.0},\"hatch_weight\":{\"value\":1.0},\"line_alpha\":{\"value\":1.0},\"line_cap\":{\"value\":\"butt\"},\"line_color\":{\"value\":\"black\"},\"line_dash\":{\"value\":[]},\"line_dash_offset\":{\"value\":0},\"line_join\":{\"value\":\"bevel\"},\"line_width\":{\"value\":1},\"top\":{\"field\":\"MntWines\"},\"width\":{\"value\":0.8},\"x\":{\"field\":\"xoffsets\"}},\"id\":\"2677\",\"type\":\"VBar\"},{\"attributes\":{\"axis_label\":\"Total Sales ($)\",\"formatter\":{\"id\":\"2678\"},\"major_label_policy\":{\"id\":\"2683\"},\"ticker\":{\"id\":\"2652\"}},\"id\":\"2651\",\"type\":\"LinearAxis\"},{\"attributes\":{\"factors\":[\"Divorced\",\"Married\",\"Single\",\"Together\",\"Widow\",\"Alone\"],\"palette\":[\"#30a2da\",\"#fc4f30\",\"#e5ae38\",\"#6d904f\",\"#8b8b8b\",\"#17becf\"]},\"id\":\"2668\",\"type\":\"CategoricalColorMapper\"},{\"attributes\":{\"axis\":{\"id\":\"2651\"},\"dimension\":1,\"grid_line_color\":null,\"ticker\":null},\"id\":\"2654\",\"type\":\"Grid\"},{\"attributes\":{\"data\":{\"Education\":[\"Basic\",\"Graduation\",\"Master\",\"PhD\",\"Undergraduate\",\"Basic\",\"Graduation\",\"Master\",\"PhD\",\"Undergraduate\",\"Basic\",\"Graduation\",\"Master\",\"PhD\",\"Undergraduate\",\"Basic\",\"Graduation\",\"Master\",\"PhD\",\"Undergraduate\",\"Basic\",\"Graduation\",\"Master\",\"PhD\",\"Undergraduate\",\"Graduation\",\"Master\",\"PhD\"],\"MaritalStat\":[\"Divorced\",\"Divorced\",\"Divorced\",\"Divorced\",\"Divorced\",\"Married\",\"Married\",\"Married\",\"Married\",\"Married\",\"Single\",\"Single\",\"Single\",\"Single\",\"Single\",\"Together\",\"Together\",\"Together\",\"Together\",\"Together\",\"Widow\",\"Widow\",\"Widow\",\"Widow\",\"Widow\",\"Alone\",\"Alone\",\"Alone\"],\"MntWines\":[0,35769,11152,20366,8077,304,118493,45465,83307,12537,56,66342,28764,35469,7768,28,89309,32118,45764,10740,3,10453,5205,11664,1109,5,534,15],\"xoffsets\":[[\"Basic\",\"Divorced\"],[\"Graduation\",\"Divorced\"],[\"Master\",\"Divorced\"],[\"PhD\",\"Divorced\"],[\"Undergraduate\",\"Divorced\"],[\"Basic\",\"Married\"],[\"Graduation\",\"Married\"],[\"Master\",\"Married\"],[\"PhD\",\"Married\"],[\"Undergraduate\",\"Married\"],[\"Basic\",\"Single\"],[\"Graduation\",\"Single\"],[\"Master\",\"Single\"],[\"PhD\",\"Single\"],[\"Undergraduate\",\"Single\"],[\"Basic\",\"Together\"],[\"Graduation\",\"Together\"],[\"Master\",\"Together\"],[\"PhD\",\"Together\"],[\"Undergraduate\",\"Together\"],[\"Basic\",\"Widow\"],[\"Graduation\",\"Widow\"],[\"Master\",\"Widow\"],[\"PhD\",\"Widow\"],[\"Undergraduate\",\"Widow\"],[\"Graduation\",\"Alone\"],[\"Master\",\"Alone\"],[\"PhD\",\"Alone\"]]},\"selected\":{\"id\":\"2670\"},\"selection_policy\":{\"id\":\"2695\"}},\"id\":\"2669\",\"type\":\"ColumnDataSource\"},{\"attributes\":{\"callback\":null,\"renderers\":[{\"id\":\"2675\"}],\"tags\":[\"hv_created\"],\"tooltips\":[[\"Education\",\"@{Education}\"],[\"MaritalStat\",\"@{MaritalStat}\"],[\"MntWines\",\"@{MntWines}\"]]},\"id\":\"2638\",\"type\":\"HoverTool\"},{\"attributes\":{\"active_multi\":null,\"tools\":[{\"id\":\"2638\"},{\"id\":\"2655\"},{\"id\":\"2656\"},{\"id\":\"2657\"},{\"id\":\"2658\"},{\"id\":\"2659\"}]},\"id\":\"2661\",\"type\":\"Toolbar\"},{\"attributes\":{\"margin\":[5,5,5,5],\"name\":\"HSpacer04707\",\"sizing_mode\":\"stretch_width\"},\"id\":\"2635\",\"type\":\"Spacer\"},{\"attributes\":{\"overlay\":{\"id\":\"2660\"}},\"id\":\"2658\",\"type\":\"BoxZoomTool\"},{\"attributes\":{\"below\":[{\"id\":\"2648\"}],\"center\":[{\"id\":\"2650\"},{\"id\":\"2654\"}],\"height\":300,\"left\":[{\"id\":\"2651\"}],\"margin\":[5,5,5,5],\"min_border_bottom\":10,\"min_border_left\":10,\"min_border_right\":10,\"min_border_top\":10,\"renderers\":[{\"id\":\"2675\"}],\"sizing_mode\":\"fixed\",\"title\":{\"id\":\"2640\"},\"toolbar\":{\"id\":\"2661\"},\"width\":700,\"x_range\":{\"id\":\"2636\"},\"x_scale\":{\"id\":\"2644\"},\"y_range\":{\"id\":\"2637\"},\"y_scale\":{\"id\":\"2646\"}},\"id\":\"2639\",\"subtype\":\"Figure\",\"type\":\"Plot\"},{\"attributes\":{},\"id\":\"2659\",\"type\":\"ResetTool\"},{\"attributes\":{\"fill_alpha\":{\"value\":0.2},\"fill_color\":{\"field\":\"MaritalStat\",\"transform\":{\"id\":\"2668\"}},\"line_alpha\":{\"value\":0.2},\"top\":{\"field\":\"MntWines\"},\"width\":{\"value\":0.8},\"x\":{\"field\":\"xoffsets\"}},\"id\":\"2674\",\"type\":\"VBar\"},{\"attributes\":{\"margin\":[5,5,5,5],\"name\":\"HSpacer04708\",\"sizing_mode\":\"stretch_width\"},\"id\":\"2705\",\"type\":\"Spacer\"},{\"attributes\":{\"bottom_units\":\"screen\",\"fill_alpha\":0.5,\"fill_color\":\"lightgrey\",\"left_units\":\"screen\",\"level\":\"overlay\",\"line_alpha\":1.0,\"line_color\":\"black\",\"line_dash\":[4,4],\"line_width\":2,\"right_units\":\"screen\",\"syncable\":false,\"top_units\":\"screen\"},\"id\":\"2660\",\"type\":\"BoxAnnotation\"},{\"attributes\":{},\"id\":\"2670\",\"type\":\"Selection\"},{\"attributes\":{\"axis_label\":\"Education and Marital Stat\",\"formatter\":{\"id\":\"2680\"},\"major_label_orientation\":1.5707963267948966,\"major_label_policy\":{\"id\":\"2681\"},\"ticker\":{\"id\":\"2649\"}},\"id\":\"2648\",\"type\":\"CategoricalAxis\"},{\"attributes\":{\"source\":{\"id\":\"2669\"}},\"id\":\"2676\",\"type\":\"CDSView\"},{\"attributes\":{\"fill_alpha\":{\"value\":0.1},\"fill_color\":{\"field\":\"MaritalStat\",\"transform\":{\"id\":\"2668\"}},\"line_alpha\":{\"value\":0.1},\"top\":{\"field\":\"MntWines\"},\"width\":{\"value\":0.8},\"x\":{\"field\":\"xoffsets\"}},\"id\":\"2673\",\"type\":\"VBar\"},{\"attributes\":{},\"id\":\"2695\",\"type\":\"UnionRenderers\"},{\"attributes\":{\"text\":\"Total Sales based on Education and Marital Stat\",\"text_color\":\"black\",\"text_font_size\":\"12pt\"},\"id\":\"2640\",\"type\":\"Title\"},{\"attributes\":{},\"id\":\"2683\",\"type\":\"AllLabels\"},{\"attributes\":{},\"id\":\"2681\",\"type\":\"AllLabels\"},{\"attributes\":{},\"id\":\"2680\",\"type\":\"CategoricalTickFormatter\"},{\"attributes\":{},\"id\":\"2655\",\"type\":\"SaveTool\"},{\"attributes\":{},\"id\":\"2656\",\"type\":\"PanTool\"}],\"root_ids\":[\"2634\"]},\"title\":\"Bokeh Application\",\"version\":\"2.3.2\"}};\n",
       "    var render_items = [{\"docid\":\"b535da7b-69fe-4297-b5e5-0e9d7b9ac779\",\"root_ids\":[\"2634\"],\"roots\":{\"2634\":\"02dae19b-2b11-4280-afbc-fa4342f81705\"}}];\n",
       "    root.Bokeh.embed.embed_items_notebook(docs_json, render_items);\n",
       "  }\n",
       "  if (root.Bokeh !== undefined && root.Bokeh.Panel !== undefined && ( root['Plotly'] !== undefined)) {\n",
       "    embed_document(root);\n",
       "  } else {\n",
       "    var attempts = 0;\n",
       "    var timer = setInterval(function(root) {\n",
       "      if (root.Bokeh !== undefined && root.Bokeh.Panel !== undefined && (root['Plotly'] !== undefined)) {\n",
       "        clearInterval(timer);\n",
       "        embed_document(root);\n",
       "      } else if (document.readyState == \"complete\") {\n",
       "        attempts++;\n",
       "        if (attempts > 200) {\n",
       "          clearInterval(timer);\n",
       "          console.log(\"Bokeh: ERROR: Unable to run BokehJS code because BokehJS library is missing\");\n",
       "        }\n",
       "      }\n",
       "    }, 25, root)\n",
       "  }\n",
       "})(window);</script>"
      ],
      "text/plain": [
       ":Bars   [Education,MaritalStat]   (MntWines)"
      ]
     },
     "execution_count": 58,
     "metadata": {
      "application/vnd.holoviews_exec.v0+json": {
       "id": "2634"
      }
     },
     "output_type": "execute_result"
    }
   ],
   "source": [
    "# Analysis of sales based on marital status and education\n",
    "'''\n",
    "# Analysis: \n",
    "- Wine sales are significantly higher amongst the educated, particularly graduates\n",
    "- This chart also reinforces that \"married\" and \"together\" customers are the largest segment of wine customers\n",
    "'''\n",
    "df = wine_data.groupby(['Education', 'MaritalStat']).sum()['MntWines']\n",
    "df.hvplot.bar(xlabel='Education and Marital Stat', ylabel='Total Sales ($)', title='Total Sales based on Education and Marital Stat', rot=90, yformatter='%.0f')"
   ]
  },
  {
   "cell_type": "markdown",
   "metadata": {},
   "source": [
    "- - -"
   ]
  },
  {
   "cell_type": "markdown",
   "metadata": {},
   "source": [
    "## Sales Channels Analysis"
   ]
  },
  {
   "cell_type": "code",
   "execution_count": 59,
   "metadata": {},
   "outputs": [
    {
     "data": {
      "application/vnd.plotly.v1+json": {
       "config": {
        "plotlyServerURL": "https://plot.ly"
       },
       "data": [
        {
         "hovertemplate": "color=Total Web Purchases<br>x=%{x}<br>Sales=%{marker.size}<extra></extra>",
         "legendgroup": "Total Web Purchases",
         "marker": {
          "color": "#636efa",
          "size": [
           282161
          ],
          "sizemode": "area",
          "sizeref": 39.8547,
          "symbol": "circle"
         },
         "mode": "markers",
         "name": "Total Web Purchases",
         "orientation": "v",
         "showlegend": true,
         "type": "scatter",
         "x": [
          "Total Web Purchases"
         ],
         "xaxis": "x",
         "y": [
          282161
         ],
         "yaxis": "y"
        },
        {
         "hovertemplate": "color=Total Store Purchases<br>x=%{x}<br>Sales=%{marker.size}<extra></extra>",
         "legendgroup": "Total Store Purchases",
         "marker": {
          "color": "#EF553B",
          "size": [
           398547
          ],
          "sizemode": "area",
          "sizeref": 39.8547,
          "symbol": "circle"
         },
         "mode": "markers",
         "name": "Total Store Purchases",
         "orientation": "v",
         "showlegend": true,
         "type": "scatter",
         "x": [
          "Total Store Purchases"
         ],
         "xaxis": "x",
         "y": [
          398547
         ],
         "yaxis": "y"
        }
       ],
       "layout": {
        "autosize": true,
        "legend": {
         "itemsizing": "constant",
         "title": {
          "text": "color"
         },
         "tracegroupgap": 0
        },
        "margin": {
         "t": 60
        },
        "template": {
         "data": {
          "bar": [
           {
            "error_x": {
             "color": "#2a3f5f"
            },
            "error_y": {
             "color": "#2a3f5f"
            },
            "marker": {
             "line": {
              "color": "#E5ECF6",
              "width": 0.5
             },
             "pattern": {
              "fillmode": "overlay",
              "size": 10,
              "solidity": 0.2
             }
            },
            "type": "bar"
           }
          ],
          "barpolar": [
           {
            "marker": {
             "line": {
              "color": "#E5ECF6",
              "width": 0.5
             },
             "pattern": {
              "fillmode": "overlay",
              "size": 10,
              "solidity": 0.2
             }
            },
            "type": "barpolar"
           }
          ],
          "carpet": [
           {
            "aaxis": {
             "endlinecolor": "#2a3f5f",
             "gridcolor": "white",
             "linecolor": "white",
             "minorgridcolor": "white",
             "startlinecolor": "#2a3f5f"
            },
            "baxis": {
             "endlinecolor": "#2a3f5f",
             "gridcolor": "white",
             "linecolor": "white",
             "minorgridcolor": "white",
             "startlinecolor": "#2a3f5f"
            },
            "type": "carpet"
           }
          ],
          "choropleth": [
           {
            "colorbar": {
             "outlinewidth": 0,
             "ticks": ""
            },
            "type": "choropleth"
           }
          ],
          "contour": [
           {
            "colorbar": {
             "outlinewidth": 0,
             "ticks": ""
            },
            "colorscale": [
             [
              0,
              "#0d0887"
             ],
             [
              0.1111111111111111,
              "#46039f"
             ],
             [
              0.2222222222222222,
              "#7201a8"
             ],
             [
              0.3333333333333333,
              "#9c179e"
             ],
             [
              0.4444444444444444,
              "#bd3786"
             ],
             [
              0.5555555555555556,
              "#d8576b"
             ],
             [
              0.6666666666666666,
              "#ed7953"
             ],
             [
              0.7777777777777778,
              "#fb9f3a"
             ],
             [
              0.8888888888888888,
              "#fdca26"
             ],
             [
              1,
              "#f0f921"
             ]
            ],
            "type": "contour"
           }
          ],
          "contourcarpet": [
           {
            "colorbar": {
             "outlinewidth": 0,
             "ticks": ""
            },
            "type": "contourcarpet"
           }
          ],
          "heatmap": [
           {
            "colorbar": {
             "outlinewidth": 0,
             "ticks": ""
            },
            "colorscale": [
             [
              0,
              "#0d0887"
             ],
             [
              0.1111111111111111,
              "#46039f"
             ],
             [
              0.2222222222222222,
              "#7201a8"
             ],
             [
              0.3333333333333333,
              "#9c179e"
             ],
             [
              0.4444444444444444,
              "#bd3786"
             ],
             [
              0.5555555555555556,
              "#d8576b"
             ],
             [
              0.6666666666666666,
              "#ed7953"
             ],
             [
              0.7777777777777778,
              "#fb9f3a"
             ],
             [
              0.8888888888888888,
              "#fdca26"
             ],
             [
              1,
              "#f0f921"
             ]
            ],
            "type": "heatmap"
           }
          ],
          "heatmapgl": [
           {
            "colorbar": {
             "outlinewidth": 0,
             "ticks": ""
            },
            "colorscale": [
             [
              0,
              "#0d0887"
             ],
             [
              0.1111111111111111,
              "#46039f"
             ],
             [
              0.2222222222222222,
              "#7201a8"
             ],
             [
              0.3333333333333333,
              "#9c179e"
             ],
             [
              0.4444444444444444,
              "#bd3786"
             ],
             [
              0.5555555555555556,
              "#d8576b"
             ],
             [
              0.6666666666666666,
              "#ed7953"
             ],
             [
              0.7777777777777778,
              "#fb9f3a"
             ],
             [
              0.8888888888888888,
              "#fdca26"
             ],
             [
              1,
              "#f0f921"
             ]
            ],
            "type": "heatmapgl"
           }
          ],
          "histogram": [
           {
            "marker": {
             "pattern": {
              "fillmode": "overlay",
              "size": 10,
              "solidity": 0.2
             }
            },
            "type": "histogram"
           }
          ],
          "histogram2d": [
           {
            "colorbar": {
             "outlinewidth": 0,
             "ticks": ""
            },
            "colorscale": [
             [
              0,
              "#0d0887"
             ],
             [
              0.1111111111111111,
              "#46039f"
             ],
             [
              0.2222222222222222,
              "#7201a8"
             ],
             [
              0.3333333333333333,
              "#9c179e"
             ],
             [
              0.4444444444444444,
              "#bd3786"
             ],
             [
              0.5555555555555556,
              "#d8576b"
             ],
             [
              0.6666666666666666,
              "#ed7953"
             ],
             [
              0.7777777777777778,
              "#fb9f3a"
             ],
             [
              0.8888888888888888,
              "#fdca26"
             ],
             [
              1,
              "#f0f921"
             ]
            ],
            "type": "histogram2d"
           }
          ],
          "histogram2dcontour": [
           {
            "colorbar": {
             "outlinewidth": 0,
             "ticks": ""
            },
            "colorscale": [
             [
              0,
              "#0d0887"
             ],
             [
              0.1111111111111111,
              "#46039f"
             ],
             [
              0.2222222222222222,
              "#7201a8"
             ],
             [
              0.3333333333333333,
              "#9c179e"
             ],
             [
              0.4444444444444444,
              "#bd3786"
             ],
             [
              0.5555555555555556,
              "#d8576b"
             ],
             [
              0.6666666666666666,
              "#ed7953"
             ],
             [
              0.7777777777777778,
              "#fb9f3a"
             ],
             [
              0.8888888888888888,
              "#fdca26"
             ],
             [
              1,
              "#f0f921"
             ]
            ],
            "type": "histogram2dcontour"
           }
          ],
          "mesh3d": [
           {
            "colorbar": {
             "outlinewidth": 0,
             "ticks": ""
            },
            "type": "mesh3d"
           }
          ],
          "parcoords": [
           {
            "line": {
             "colorbar": {
              "outlinewidth": 0,
              "ticks": ""
             }
            },
            "type": "parcoords"
           }
          ],
          "pie": [
           {
            "automargin": true,
            "type": "pie"
           }
          ],
          "scatter": [
           {
            "marker": {
             "colorbar": {
              "outlinewidth": 0,
              "ticks": ""
             }
            },
            "type": "scatter"
           }
          ],
          "scatter3d": [
           {
            "line": {
             "colorbar": {
              "outlinewidth": 0,
              "ticks": ""
             }
            },
            "marker": {
             "colorbar": {
              "outlinewidth": 0,
              "ticks": ""
             }
            },
            "type": "scatter3d"
           }
          ],
          "scattercarpet": [
           {
            "marker": {
             "colorbar": {
              "outlinewidth": 0,
              "ticks": ""
             }
            },
            "type": "scattercarpet"
           }
          ],
          "scattergeo": [
           {
            "marker": {
             "colorbar": {
              "outlinewidth": 0,
              "ticks": ""
             }
            },
            "type": "scattergeo"
           }
          ],
          "scattergl": [
           {
            "marker": {
             "colorbar": {
              "outlinewidth": 0,
              "ticks": ""
             }
            },
            "type": "scattergl"
           }
          ],
          "scattermapbox": [
           {
            "marker": {
             "colorbar": {
              "outlinewidth": 0,
              "ticks": ""
             }
            },
            "type": "scattermapbox"
           }
          ],
          "scatterpolar": [
           {
            "marker": {
             "colorbar": {
              "outlinewidth": 0,
              "ticks": ""
             }
            },
            "type": "scatterpolar"
           }
          ],
          "scatterpolargl": [
           {
            "marker": {
             "colorbar": {
              "outlinewidth": 0,
              "ticks": ""
             }
            },
            "type": "scatterpolargl"
           }
          ],
          "scatterternary": [
           {
            "marker": {
             "colorbar": {
              "outlinewidth": 0,
              "ticks": ""
             }
            },
            "type": "scatterternary"
           }
          ],
          "surface": [
           {
            "colorbar": {
             "outlinewidth": 0,
             "ticks": ""
            },
            "colorscale": [
             [
              0,
              "#0d0887"
             ],
             [
              0.1111111111111111,
              "#46039f"
             ],
             [
              0.2222222222222222,
              "#7201a8"
             ],
             [
              0.3333333333333333,
              "#9c179e"
             ],
             [
              0.4444444444444444,
              "#bd3786"
             ],
             [
              0.5555555555555556,
              "#d8576b"
             ],
             [
              0.6666666666666666,
              "#ed7953"
             ],
             [
              0.7777777777777778,
              "#fb9f3a"
             ],
             [
              0.8888888888888888,
              "#fdca26"
             ],
             [
              1,
              "#f0f921"
             ]
            ],
            "type": "surface"
           }
          ],
          "table": [
           {
            "cells": {
             "fill": {
              "color": "#EBF0F8"
             },
             "line": {
              "color": "white"
             }
            },
            "header": {
             "fill": {
              "color": "#C8D4E3"
             },
             "line": {
              "color": "white"
             }
            },
            "type": "table"
           }
          ]
         },
         "layout": {
          "annotationdefaults": {
           "arrowcolor": "#2a3f5f",
           "arrowhead": 0,
           "arrowwidth": 1
          },
          "autotypenumbers": "strict",
          "coloraxis": {
           "colorbar": {
            "outlinewidth": 0,
            "ticks": ""
           }
          },
          "colorscale": {
           "diverging": [
            [
             0,
             "#8e0152"
            ],
            [
             0.1,
             "#c51b7d"
            ],
            [
             0.2,
             "#de77ae"
            ],
            [
             0.3,
             "#f1b6da"
            ],
            [
             0.4,
             "#fde0ef"
            ],
            [
             0.5,
             "#f7f7f7"
            ],
            [
             0.6,
             "#e6f5d0"
            ],
            [
             0.7,
             "#b8e186"
            ],
            [
             0.8,
             "#7fbc41"
            ],
            [
             0.9,
             "#4d9221"
            ],
            [
             1,
             "#276419"
            ]
           ],
           "sequential": [
            [
             0,
             "#0d0887"
            ],
            [
             0.1111111111111111,
             "#46039f"
            ],
            [
             0.2222222222222222,
             "#7201a8"
            ],
            [
             0.3333333333333333,
             "#9c179e"
            ],
            [
             0.4444444444444444,
             "#bd3786"
            ],
            [
             0.5555555555555556,
             "#d8576b"
            ],
            [
             0.6666666666666666,
             "#ed7953"
            ],
            [
             0.7777777777777778,
             "#fb9f3a"
            ],
            [
             0.8888888888888888,
             "#fdca26"
            ],
            [
             1,
             "#f0f921"
            ]
           ],
           "sequentialminus": [
            [
             0,
             "#0d0887"
            ],
            [
             0.1111111111111111,
             "#46039f"
            ],
            [
             0.2222222222222222,
             "#7201a8"
            ],
            [
             0.3333333333333333,
             "#9c179e"
            ],
            [
             0.4444444444444444,
             "#bd3786"
            ],
            [
             0.5555555555555556,
             "#d8576b"
            ],
            [
             0.6666666666666666,
             "#ed7953"
            ],
            [
             0.7777777777777778,
             "#fb9f3a"
            ],
            [
             0.8888888888888888,
             "#fdca26"
            ],
            [
             1,
             "#f0f921"
            ]
           ]
          },
          "colorway": [
           "#636efa",
           "#EF553B",
           "#00cc96",
           "#ab63fa",
           "#FFA15A",
           "#19d3f3",
           "#FF6692",
           "#B6E880",
           "#FF97FF",
           "#FECB52"
          ],
          "font": {
           "color": "#2a3f5f"
          },
          "geo": {
           "bgcolor": "white",
           "lakecolor": "white",
           "landcolor": "#E5ECF6",
           "showlakes": true,
           "showland": true,
           "subunitcolor": "white"
          },
          "hoverlabel": {
           "align": "left"
          },
          "hovermode": "closest",
          "mapbox": {
           "style": "light"
          },
          "paper_bgcolor": "white",
          "plot_bgcolor": "#E5ECF6",
          "polar": {
           "angularaxis": {
            "gridcolor": "white",
            "linecolor": "white",
            "ticks": ""
           },
           "bgcolor": "#E5ECF6",
           "radialaxis": {
            "gridcolor": "white",
            "linecolor": "white",
            "ticks": ""
           }
          },
          "scene": {
           "xaxis": {
            "backgroundcolor": "#E5ECF6",
            "gridcolor": "white",
            "gridwidth": 2,
            "linecolor": "white",
            "showbackground": true,
            "ticks": "",
            "zerolinecolor": "white"
           },
           "yaxis": {
            "backgroundcolor": "#E5ECF6",
            "gridcolor": "white",
            "gridwidth": 2,
            "linecolor": "white",
            "showbackground": true,
            "ticks": "",
            "zerolinecolor": "white"
           },
           "zaxis": {
            "backgroundcolor": "#E5ECF6",
            "gridcolor": "white",
            "gridwidth": 2,
            "linecolor": "white",
            "showbackground": true,
            "ticks": "",
            "zerolinecolor": "white"
           }
          },
          "shapedefaults": {
           "line": {
            "color": "#2a3f5f"
           }
          },
          "ternary": {
           "aaxis": {
            "gridcolor": "white",
            "linecolor": "white",
            "ticks": ""
           },
           "baxis": {
            "gridcolor": "white",
            "linecolor": "white",
            "ticks": ""
           },
           "bgcolor": "#E5ECF6",
           "caxis": {
            "gridcolor": "white",
            "linecolor": "white",
            "ticks": ""
           }
          },
          "title": {
           "x": 0.05
          },
          "xaxis": {
           "automargin": true,
           "gridcolor": "white",
           "linecolor": "white",
           "ticks": "",
           "title": {
            "standoff": 15
           },
           "zerolinecolor": "white",
           "zerolinewidth": 2
          },
          "yaxis": {
           "automargin": true,
           "gridcolor": "white",
           "linecolor": "white",
           "ticks": "",
           "title": {
            "standoff": 15
           },
           "zerolinecolor": "white",
           "zerolinewidth": 2
          }
         }
        },
        "xaxis": {
         "anchor": "y",
         "autorange": true,
         "domain": [
          0,
          1
         ],
         "range": [
          -0.2685216274377218,
          1.3043099084194152
         ],
         "title": {
          "text": "x"
         },
         "type": "category"
        },
        "yaxis": {
         "anchor": "x",
         "autorange": true,
         "domain": [
          0,
          1
         ],
         "range": [
          110059.48910142804,
          598483.058104476
         ],
         "title": {
          "text": "Sales"
         },
         "type": "linear"
        }
       }
      },
      "image/png": "[encoded data removed]",
      "text/html": [
       "<div>                            <div id=\"5b567ed1-ce53-4e85-9b2a-2fd2e0551ea4\" class=\"plotly-graph-div\" style=\"height:525px; width:100%;\"></div>            <script type=\"text/javascript\">                require([\"plotly\"], function(Plotly) {                    window.PLOTLYENV=window.PLOTLYENV || {};                                    if (document.getElementById(\"5b567ed1-ce53-4e85-9b2a-2fd2e0551ea4\")) {                    Plotly.newPlot(                        \"5b567ed1-ce53-4e85-9b2a-2fd2e0551ea4\",                        [{\"hovertemplate\":\"color=Total Web Purchases<br>x=%{x}<br>Sales=%{marker.size}<extra></extra>\",\"legendgroup\":\"Total Web Purchases\",\"marker\":{\"color\":\"#636efa\",\"size\":[282161.0],\"sizemode\":\"area\",\"sizeref\":39.8547,\"symbol\":\"circle\"},\"mode\":\"markers\",\"name\":\"Total Web Purchases\",\"orientation\":\"v\",\"showlegend\":true,\"type\":\"scatter\",\"x\":[\"Total Web Purchases\"],\"xaxis\":\"x\",\"y\":[282161.0],\"yaxis\":\"y\"},{\"hovertemplate\":\"color=Total Store Purchases<br>x=%{x}<br>Sales=%{marker.size}<extra></extra>\",\"legendgroup\":\"Total Store Purchases\",\"marker\":{\"color\":\"#EF553B\",\"size\":[398547.0],\"sizemode\":\"area\",\"sizeref\":39.8547,\"symbol\":\"circle\"},\"mode\":\"markers\",\"name\":\"Total Store Purchases\",\"orientation\":\"v\",\"showlegend\":true,\"type\":\"scatter\",\"x\":[\"Total Store Purchases\"],\"xaxis\":\"x\",\"y\":[398547.0],\"yaxis\":\"y\"}],                        {\"legend\":{\"itemsizing\":\"constant\",\"title\":{\"text\":\"color\"},\"tracegroupgap\":0},\"margin\":{\"t\":60},\"template\":{\"data\":{\"bar\":[{\"error_x\":{\"color\":\"#2a3f5f\"},\"error_y\":{\"color\":\"#2a3f5f\"},\"marker\":{\"line\":{\"color\":\"#E5ECF6\",\"width\":0.5},\"pattern\":{\"fillmode\":\"overlay\",\"size\":10,\"solidity\":0.2}},\"type\":\"bar\"}],\"barpolar\":[{\"marker\":{\"line\":{\"color\":\"#E5ECF6\",\"width\":0.5},\"pattern\":{\"fillmode\":\"overlay\",\"size\":10,\"solidity\":0.2}},\"type\":\"barpolar\"}],\"carpet\":[{\"aaxis\":{\"endlinecolor\":\"#2a3f5f\",\"gridcolor\":\"white\",\"linecolor\":\"white\",\"minorgridcolor\":\"white\",\"startlinecolor\":\"#2a3f5f\"},\"baxis\":{\"endlinecolor\":\"#2a3f5f\",\"gridcolor\":\"white\",\"linecolor\":\"white\",\"minorgridcolor\":\"white\",\"startlinecolor\":\"#2a3f5f\"},\"type\":\"carpet\"}],\"choropleth\":[{\"colorbar\":{\"outlinewidth\":0,\"ticks\":\"\"},\"type\":\"choropleth\"}],\"contour\":[{\"colorbar\":{\"outlinewidth\":0,\"ticks\":\"\"},\"colorscale\":[[0.0,\"#0d0887\"],[0.1111111111111111,\"#46039f\"],[0.2222222222222222,\"#7201a8\"],[0.3333333333333333,\"#9c179e\"],[0.4444444444444444,\"#bd3786\"],[0.5555555555555556,\"#d8576b\"],[0.6666666666666666,\"#ed7953\"],[0.7777777777777778,\"#fb9f3a\"],[0.8888888888888888,\"#fdca26\"],[1.0,\"#f0f921\"]],\"type\":\"contour\"}],\"contourcarpet\":[{\"colorbar\":{\"outlinewidth\":0,\"ticks\":\"\"},\"type\":\"contourcarpet\"}],\"heatmap\":[{\"colorbar\":{\"outlinewidth\":0,\"ticks\":\"\"},\"colorscale\":[[0.0,\"#0d0887\"],[0.1111111111111111,\"#46039f\"],[0.2222222222222222,\"#7201a8\"],[0.3333333333333333,\"#9c179e\"],[0.4444444444444444,\"#bd3786\"],[0.5555555555555556,\"#d8576b\"],[0.6666666666666666,\"#ed7953\"],[0.7777777777777778,\"#fb9f3a\"],[0.8888888888888888,\"#fdca26\"],[1.0,\"#f0f921\"]],\"type\":\"heatmap\"}],\"heatmapgl\":[{\"colorbar\":{\"outlinewidth\":0,\"ticks\":\"\"},\"colorscale\":[[0.0,\"#0d0887\"],[0.1111111111111111,\"#46039f\"],[0.2222222222222222,\"#7201a8\"],[0.3333333333333333,\"#9c179e\"],[0.4444444444444444,\"#bd3786\"],[0.5555555555555556,\"#d8576b\"],[0.6666666666666666,\"#ed7953\"],[0.7777777777777778,\"#fb9f3a\"],[0.8888888888888888,\"#fdca26\"],[1.0,\"#f0f921\"]],\"type\":\"heatmapgl\"}],\"histogram\":[{\"marker\":{\"pattern\":{\"fillmode\":\"overlay\",\"size\":10,\"solidity\":0.2}},\"type\":\"histogram\"}],\"histogram2d\":[{\"colorbar\":{\"outlinewidth\":0,\"ticks\":\"\"},\"colorscale\":[[0.0,\"#0d0887\"],[0.1111111111111111,\"#46039f\"],[0.2222222222222222,\"#7201a8\"],[0.3333333333333333,\"#9c179e\"],[0.4444444444444444,\"#bd3786\"],[0.5555555555555556,\"#d8576b\"],[0.6666666666666666,\"#ed7953\"],[0.7777777777777778,\"#fb9f3a\"],[0.8888888888888888,\"#fdca26\"],[1.0,\"#f0f921\"]],\"type\":\"histogram2d\"}],\"histogram2dcontour\":[{\"colorbar\":{\"outlinewidth\":0,\"ticks\":\"\"},\"colorscale\":[[0.0,\"#0d0887\"],[0.1111111111111111,\"#46039f\"],[0.2222222222222222,\"#7201a8\"],[0.3333333333333333,\"#9c179e\"],[0.4444444444444444,\"#bd3786\"],[0.5555555555555556,\"#d8576b\"],[0.6666666666666666,\"#ed7953\"],[0.7777777777777778,\"#fb9f3a\"],[0.8888888888888888,\"#fdca26\"],[1.0,\"#f0f921\"]],\"type\":\"histogram2dcontour\"}],\"mesh3d\":[{\"colorbar\":{\"outlinewidth\":0,\"ticks\":\"\"},\"type\":\"mesh3d\"}],\"parcoords\":[{\"line\":{\"colorbar\":{\"outlinewidth\":0,\"ticks\":\"\"}},\"type\":\"parcoords\"}],\"pie\":[{\"automargin\":true,\"type\":\"pie\"}],\"scatter\":[{\"marker\":{\"colorbar\":{\"outlinewidth\":0,\"ticks\":\"\"}},\"type\":\"scatter\"}],\"scatter3d\":[{\"line\":{\"colorbar\":{\"outlinewidth\":0,\"ticks\":\"\"}},\"marker\":{\"colorbar\":{\"outlinewidth\":0,\"ticks\":\"\"}},\"type\":\"scatter3d\"}],\"scattercarpet\":[{\"marker\":{\"colorbar\":{\"outlinewidth\":0,\"ticks\":\"\"}},\"type\":\"scattercarpet\"}],\"scattergeo\":[{\"marker\":{\"colorbar\":{\"outlinewidth\":0,\"ticks\":\"\"}},\"type\":\"scattergeo\"}],\"scattergl\":[{\"marker\":{\"colorbar\":{\"outlinewidth\":0,\"ticks\":\"\"}},\"type\":\"scattergl\"}],\"scattermapbox\":[{\"marker\":{\"colorbar\":{\"outlinewidth\":0,\"ticks\":\"\"}},\"type\":\"scattermapbox\"}],\"scatterpolar\":[{\"marker\":{\"colorbar\":{\"outlinewidth\":0,\"ticks\":\"\"}},\"type\":\"scatterpolar\"}],\"scatterpolargl\":[{\"marker\":{\"colorbar\":{\"outlinewidth\":0,\"ticks\":\"\"}},\"type\":\"scatterpolargl\"}],\"scatterternary\":[{\"marker\":{\"colorbar\":{\"outlinewidth\":0,\"ticks\":\"\"}},\"type\":\"scatterternary\"}],\"surface\":[{\"colorbar\":{\"outlinewidth\":0,\"ticks\":\"\"},\"colorscale\":[[0.0,\"#0d0887\"],[0.1111111111111111,\"#46039f\"],[0.2222222222222222,\"#7201a8\"],[0.3333333333333333,\"#9c179e\"],[0.4444444444444444,\"#bd3786\"],[0.5555555555555556,\"#d8576b\"],[0.6666666666666666,\"#ed7953\"],[0.7777777777777778,\"#fb9f3a\"],[0.8888888888888888,\"#fdca26\"],[1.0,\"#f0f921\"]],\"type\":\"surface\"}],\"table\":[{\"cells\":{\"fill\":{\"color\":\"#EBF0F8\"},\"line\":{\"color\":\"white\"}},\"header\":{\"fill\":{\"color\":\"#C8D4E3\"},\"line\":{\"color\":\"white\"}},\"type\":\"table\"}]},\"layout\":{\"annotationdefaults\":{\"arrowcolor\":\"#2a3f5f\",\"arrowhead\":0,\"arrowwidth\":1},\"autotypenumbers\":\"strict\",\"coloraxis\":{\"colorbar\":{\"outlinewidth\":0,\"ticks\":\"\"}},\"colorscale\":{\"diverging\":[[0,\"#8e0152\"],[0.1,\"#c51b7d\"],[0.2,\"#de77ae\"],[0.3,\"#f1b6da\"],[0.4,\"#fde0ef\"],[0.5,\"#f7f7f7\"],[0.6,\"#e6f5d0\"],[0.7,\"#b8e186\"],[0.8,\"#7fbc41\"],[0.9,\"#4d9221\"],[1,\"#276419\"]],\"sequential\":[[0.0,\"#0d0887\"],[0.1111111111111111,\"#46039f\"],[0.2222222222222222,\"#7201a8\"],[0.3333333333333333,\"#9c179e\"],[0.4444444444444444,\"#bd3786\"],[0.5555555555555556,\"#d8576b\"],[0.6666666666666666,\"#ed7953\"],[0.7777777777777778,\"#fb9f3a\"],[0.8888888888888888,\"#fdca26\"],[1.0,\"#f0f921\"]],\"sequentialminus\":[[0.0,\"#0d0887\"],[0.1111111111111111,\"#46039f\"],[0.2222222222222222,\"#7201a8\"],[0.3333333333333333,\"#9c179e\"],[0.4444444444444444,\"#bd3786\"],[0.5555555555555556,\"#d8576b\"],[0.6666666666666666,\"#ed7953\"],[0.7777777777777778,\"#fb9f3a\"],[0.8888888888888888,\"#fdca26\"],[1.0,\"#f0f921\"]]},\"colorway\":[\"#636efa\",\"#EF553B\",\"#00cc96\",\"#ab63fa\",\"#FFA15A\",\"#19d3f3\",\"#FF6692\",\"#B6E880\",\"#FF97FF\",\"#FECB52\"],\"font\":{\"color\":\"#2a3f5f\"},\"geo\":{\"bgcolor\":\"white\",\"lakecolor\":\"white\",\"landcolor\":\"#E5ECF6\",\"showlakes\":true,\"showland\":true,\"subunitcolor\":\"white\"},\"hoverlabel\":{\"align\":\"left\"},\"hovermode\":\"closest\",\"mapbox\":{\"style\":\"light\"},\"paper_bgcolor\":\"white\",\"plot_bgcolor\":\"#E5ECF6\",\"polar\":{\"angularaxis\":{\"gridcolor\":\"white\",\"linecolor\":\"white\",\"ticks\":\"\"},\"bgcolor\":\"#E5ECF6\",\"radialaxis\":{\"gridcolor\":\"white\",\"linecolor\":\"white\",\"ticks\":\"\"}},\"scene\":{\"xaxis\":{\"backgroundcolor\":\"#E5ECF6\",\"gridcolor\":\"white\",\"gridwidth\":2,\"linecolor\":\"white\",\"showbackground\":true,\"ticks\":\"\",\"zerolinecolor\":\"white\"},\"yaxis\":{\"backgroundcolor\":\"#E5ECF6\",\"gridcolor\":\"white\",\"gridwidth\":2,\"linecolor\":\"white\",\"showbackground\":true,\"ticks\":\"\",\"zerolinecolor\":\"white\"},\"zaxis\":{\"backgroundcolor\":\"#E5ECF6\",\"gridcolor\":\"white\",\"gridwidth\":2,\"linecolor\":\"white\",\"showbackground\":true,\"ticks\":\"\",\"zerolinecolor\":\"white\"}},\"shapedefaults\":{\"line\":{\"color\":\"#2a3f5f\"}},\"ternary\":{\"aaxis\":{\"gridcolor\":\"white\",\"linecolor\":\"white\",\"ticks\":\"\"},\"baxis\":{\"gridcolor\":\"white\",\"linecolor\":\"white\",\"ticks\":\"\"},\"bgcolor\":\"#E5ECF6\",\"caxis\":{\"gridcolor\":\"white\",\"linecolor\":\"white\",\"ticks\":\"\"}},\"title\":{\"x\":0.05},\"xaxis\":{\"automargin\":true,\"gridcolor\":\"white\",\"linecolor\":\"white\",\"ticks\":\"\",\"title\":{\"standoff\":15},\"zerolinecolor\":\"white\",\"zerolinewidth\":2},\"yaxis\":{\"automargin\":true,\"gridcolor\":\"white\",\"linecolor\":\"white\",\"ticks\":\"\",\"title\":{\"standoff\":15},\"zerolinecolor\":\"white\",\"zerolinewidth\":2}}},\"xaxis\":{\"anchor\":\"y\",\"domain\":[0.0,1.0],\"title\":{\"text\":\"x\"}},\"yaxis\":{\"anchor\":\"x\",\"domain\":[0.0,1.0],\"title\":{\"text\":\"Sales\"}}},                        {\"responsive\": true}                    ).then(function(){\n",
       "                            \n",
       "var gd = document.getElementById('5b567ed1-ce53-4e85-9b2a-2fd2e0551ea4');\n",
       "var x = new MutationObserver(function (mutations, observer) {{\n",
       "        var display = window.getComputedStyle(gd).display;\n",
       "        if (!display || display === 'none') {{\n",
       "            console.log([gd, 'removed!']);\n",
       "            Plotly.purge(gd);\n",
       "            observer.disconnect();\n",
       "        }}\n",
       "}});\n",
       "\n",
       "// Listen for the removal of the full notebook cells\n",
       "var notebookContainer = gd.closest('#notebook-container');\n",
       "if (notebookContainer) {{\n",
       "    x.observe(notebookContainer, {childList: true});\n",
       "}}\n",
       "\n",
       "// Listen for the clearing of the current output cell\n",
       "var outputEl = gd.closest('.output');\n",
       "if (outputEl) {{\n",
       "    x.observe(outputEl, {childList: true});\n",
       "}}\n",
       "\n",
       "                        })                };                });            </script>        </div>"
      ]
     },
     "metadata": {},
     "output_type": "display_data"
    },
    {
     "data": {
      "application/vnd.plotly.v1+json": {
       "config": {
        "plotlyServerURL": "https://plot.ly"
       },
       "data": [
        {
         "hovertemplate": "color=Total Deals Purchases<br>x=%{x}<br>Sales=%{marker.size}<extra></extra>",
         "legendgroup": "Total Deals Purchases",
         "marker": {
          "color": "#636efa",
          "size": [
           282161
          ],
          "sizemode": "area",
          "sizeref": 39.8547,
          "symbol": "circle"
         },
         "mode": "markers",
         "name": "Total Deals Purchases",
         "orientation": "v",
         "showlegend": true,
         "type": "scatter",
         "x": [
          "Total Deals Purchases"
         ],
         "xaxis": "x",
         "y": [
          282161
         ],
         "yaxis": "y"
        },
        {
         "hovertemplate": "color=Total Catalog Purchases<br>x=%{x}<br>Sales=%{marker.size}<extra></extra>",
         "legendgroup": "Total Catalog Purchases",
         "marker": {
          "color": "#EF553B",
          "size": [
           398547
          ],
          "sizemode": "area",
          "sizeref": 39.8547,
          "symbol": "circle"
         },
         "mode": "markers",
         "name": "Total Catalog Purchases",
         "orientation": "v",
         "showlegend": true,
         "type": "scatter",
         "x": [
          "Total Catalog Purchases"
         ],
         "xaxis": "x",
         "y": [
          398547
         ],
         "yaxis": "y"
        }
       ],
       "layout": {
        "autosize": true,
        "legend": {
         "itemsizing": "constant",
         "title": {
          "text": "color"
         },
         "tracegroupgap": 0
        },
        "margin": {
         "t": 60
        },
        "template": {
         "data": {
          "bar": [
           {
            "error_x": {
             "color": "#2a3f5f"
            },
            "error_y": {
             "color": "#2a3f5f"
            },
            "marker": {
             "line": {
              "color": "#E5ECF6",
              "width": 0.5
             },
             "pattern": {
              "fillmode": "overlay",
              "size": 10,
              "solidity": 0.2
             }
            },
            "type": "bar"
           }
          ],
          "barpolar": [
           {
            "marker": {
             "line": {
              "color": "#E5ECF6",
              "width": 0.5
             },
             "pattern": {
              "fillmode": "overlay",
              "size": 10,
              "solidity": 0.2
             }
            },
            "type": "barpolar"
           }
          ],
          "carpet": [
           {
            "aaxis": {
             "endlinecolor": "#2a3f5f",
             "gridcolor": "white",
             "linecolor": "white",
             "minorgridcolor": "white",
             "startlinecolor": "#2a3f5f"
            },
            "baxis": {
             "endlinecolor": "#2a3f5f",
             "gridcolor": "white",
             "linecolor": "white",
             "minorgridcolor": "white",
             "startlinecolor": "#2a3f5f"
            },
            "type": "carpet"
           }
          ],
          "choropleth": [
           {
            "colorbar": {
             "outlinewidth": 0,
             "ticks": ""
            },
            "type": "choropleth"
           }
          ],
          "contour": [
           {
            "colorbar": {
             "outlinewidth": 0,
             "ticks": ""
            },
            "colorscale": [
             [
              0,
              "#0d0887"
             ],
             [
              0.1111111111111111,
              "#46039f"
             ],
             [
              0.2222222222222222,
              "#7201a8"
             ],
             [
              0.3333333333333333,
              "#9c179e"
             ],
             [
              0.4444444444444444,
              "#bd3786"
             ],
             [
              0.5555555555555556,
              "#d8576b"
             ],
             [
              0.6666666666666666,
              "#ed7953"
             ],
             [
              0.7777777777777778,
              "#fb9f3a"
             ],
             [
              0.8888888888888888,
              "#fdca26"
             ],
             [
              1,
              "#f0f921"
             ]
            ],
            "type": "contour"
           }
          ],
          "contourcarpet": [
           {
            "colorbar": {
             "outlinewidth": 0,
             "ticks": ""
            },
            "type": "contourcarpet"
           }
          ],
          "heatmap": [
           {
            "colorbar": {
             "outlinewidth": 0,
             "ticks": ""
            },
            "colorscale": [
             [
              0,
              "#0d0887"
             ],
             [
              0.1111111111111111,
              "#46039f"
             ],
             [
              0.2222222222222222,
              "#7201a8"
             ],
             [
              0.3333333333333333,
              "#9c179e"
             ],
             [
              0.4444444444444444,
              "#bd3786"
             ],
             [
              0.5555555555555556,
              "#d8576b"
             ],
             [
              0.6666666666666666,
              "#ed7953"
             ],
             [
              0.7777777777777778,
              "#fb9f3a"
             ],
             [
              0.8888888888888888,
              "#fdca26"
             ],
             [
              1,
              "#f0f921"
             ]
            ],
            "type": "heatmap"
           }
          ],
          "heatmapgl": [
           {
            "colorbar": {
             "outlinewidth": 0,
             "ticks": ""
            },
            "colorscale": [
             [
              0,
              "#0d0887"
             ],
             [
              0.1111111111111111,
              "#46039f"
             ],
             [
              0.2222222222222222,
              "#7201a8"
             ],
             [
              0.3333333333333333,
              "#9c179e"
             ],
             [
              0.4444444444444444,
              "#bd3786"
             ],
             [
              0.5555555555555556,
              "#d8576b"
             ],
             [
              0.6666666666666666,
              "#ed7953"
             ],
             [
              0.7777777777777778,
              "#fb9f3a"
             ],
             [
              0.8888888888888888,
              "#fdca26"
             ],
             [
              1,
              "#f0f921"
             ]
            ],
            "type": "heatmapgl"
           }
          ],
          "histogram": [
           {
            "marker": {
             "pattern": {
              "fillmode": "overlay",
              "size": 10,
              "solidity": 0.2
             }
            },
            "type": "histogram"
           }
          ],
          "histogram2d": [
           {
            "colorbar": {
             "outlinewidth": 0,
             "ticks": ""
            },
            "colorscale": [
             [
              0,
              "#0d0887"
             ],
             [
              0.1111111111111111,
              "#46039f"
             ],
             [
              0.2222222222222222,
              "#7201a8"
             ],
             [
              0.3333333333333333,
              "#9c179e"
             ],
             [
              0.4444444444444444,
              "#bd3786"
             ],
             [
              0.5555555555555556,
              "#d8576b"
             ],
             [
              0.6666666666666666,
              "#ed7953"
             ],
             [
              0.7777777777777778,
              "#fb9f3a"
             ],
             [
              0.8888888888888888,
              "#fdca26"
             ],
             [
              1,
              "#f0f921"
             ]
            ],
            "type": "histogram2d"
           }
          ],
          "histogram2dcontour": [
           {
            "colorbar": {
             "outlinewidth": 0,
             "ticks": ""
            },
            "colorscale": [
             [
              0,
              "#0d0887"
             ],
             [
              0.1111111111111111,
              "#46039f"
             ],
             [
              0.2222222222222222,
              "#7201a8"
             ],
             [
              0.3333333333333333,
              "#9c179e"
             ],
             [
              0.4444444444444444,
              "#bd3786"
             ],
             [
              0.5555555555555556,
              "#d8576b"
             ],
             [
              0.6666666666666666,
              "#ed7953"
             ],
             [
              0.7777777777777778,
              "#fb9f3a"
             ],
             [
              0.8888888888888888,
              "#fdca26"
             ],
             [
              1,
              "#f0f921"
             ]
            ],
            "type": "histogram2dcontour"
           }
          ],
          "mesh3d": [
           {
            "colorbar": {
             "outlinewidth": 0,
             "ticks": ""
            },
            "type": "mesh3d"
           }
          ],
          "parcoords": [
           {
            "line": {
             "colorbar": {
              "outlinewidth": 0,
              "ticks": ""
             }
            },
            "type": "parcoords"
           }
          ],
          "pie": [
           {
            "automargin": true,
            "type": "pie"
           }
          ],
          "scatter": [
           {
            "marker": {
             "colorbar": {
              "outlinewidth": 0,
              "ticks": ""
             }
            },
            "type": "scatter"
           }
          ],
          "scatter3d": [
           {
            "line": {
             "colorbar": {
              "outlinewidth": 0,
              "ticks": ""
             }
            },
            "marker": {
             "colorbar": {
              "outlinewidth": 0,
              "ticks": ""
             }
            },
            "type": "scatter3d"
           }
          ],
          "scattercarpet": [
           {
            "marker": {
             "colorbar": {
              "outlinewidth": 0,
              "ticks": ""
             }
            },
            "type": "scattercarpet"
           }
          ],
          "scattergeo": [
           {
            "marker": {
             "colorbar": {
              "outlinewidth": 0,
              "ticks": ""
             }
            },
            "type": "scattergeo"
           }
          ],
          "scattergl": [
           {
            "marker": {
             "colorbar": {
              "outlinewidth": 0,
              "ticks": ""
             }
            },
            "type": "scattergl"
           }
          ],
          "scattermapbox": [
           {
            "marker": {
             "colorbar": {
              "outlinewidth": 0,
              "ticks": ""
             }
            },
            "type": "scattermapbox"
           }
          ],
          "scatterpolar": [
           {
            "marker": {
             "colorbar": {
              "outlinewidth": 0,
              "ticks": ""
             }
            },
            "type": "scatterpolar"
           }
          ],
          "scatterpolargl": [
           {
            "marker": {
             "colorbar": {
              "outlinewidth": 0,
              "ticks": ""
             }
            },
            "type": "scatterpolargl"
           }
          ],
          "scatterternary": [
           {
            "marker": {
             "colorbar": {
              "outlinewidth": 0,
              "ticks": ""
             }
            },
            "type": "scatterternary"
           }
          ],
          "surface": [
           {
            "colorbar": {
             "outlinewidth": 0,
             "ticks": ""
            },
            "colorscale": [
             [
              0,
              "#0d0887"
             ],
             [
              0.1111111111111111,
              "#46039f"
             ],
             [
              0.2222222222222222,
              "#7201a8"
             ],
             [
              0.3333333333333333,
              "#9c179e"
             ],
             [
              0.4444444444444444,
              "#bd3786"
             ],
             [
              0.5555555555555556,
              "#d8576b"
             ],
             [
              0.6666666666666666,
              "#ed7953"
             ],
             [
              0.7777777777777778,
              "#fb9f3a"
             ],
             [
              0.8888888888888888,
              "#fdca26"
             ],
             [
              1,
              "#f0f921"
             ]
            ],
            "type": "surface"
           }
          ],
          "table": [
           {
            "cells": {
             "fill": {
              "color": "#EBF0F8"
             },
             "line": {
              "color": "white"
             }
            },
            "header": {
             "fill": {
              "color": "#C8D4E3"
             },
             "line": {
              "color": "white"
             }
            },
            "type": "table"
           }
          ]
         },
         "layout": {
          "annotationdefaults": {
           "arrowcolor": "#2a3f5f",
           "arrowhead": 0,
           "arrowwidth": 1
          },
          "autotypenumbers": "strict",
          "coloraxis": {
           "colorbar": {
            "outlinewidth": 0,
            "ticks": ""
           }
          },
          "colorscale": {
           "diverging": [
            [
             0,
             "#8e0152"
            ],
            [
             0.1,
             "#c51b7d"
            ],
            [
             0.2,
             "#de77ae"
            ],
            [
             0.3,
             "#f1b6da"
            ],
            [
             0.4,
             "#fde0ef"
            ],
            [
             0.5,
             "#f7f7f7"
            ],
            [
             0.6,
             "#e6f5d0"
            ],
            [
             0.7,
             "#b8e186"
            ],
            [
             0.8,
             "#7fbc41"
            ],
            [
             0.9,
             "#4d9221"
            ],
            [
             1,
             "#276419"
            ]
           ],
           "sequential": [
            [
             0,
             "#0d0887"
            ],
            [
             0.1111111111111111,
             "#46039f"
            ],
            [
             0.2222222222222222,
             "#7201a8"
            ],
            [
             0.3333333333333333,
             "#9c179e"
            ],
            [
             0.4444444444444444,
             "#bd3786"
            ],
            [
             0.5555555555555556,
             "#d8576b"
            ],
            [
             0.6666666666666666,
             "#ed7953"
            ],
            [
             0.7777777777777778,
             "#fb9f3a"
            ],
            [
             0.8888888888888888,
             "#fdca26"
            ],
            [
             1,
             "#f0f921"
            ]
           ],
           "sequentialminus": [
            [
             0,
             "#0d0887"
            ],
            [
             0.1111111111111111,
             "#46039f"
            ],
            [
             0.2222222222222222,
             "#7201a8"
            ],
            [
             0.3333333333333333,
             "#9c179e"
            ],
            [
             0.4444444444444444,
             "#bd3786"
            ],
            [
             0.5555555555555556,
             "#d8576b"
            ],
            [
             0.6666666666666666,
             "#ed7953"
            ],
            [
             0.7777777777777778,
             "#fb9f3a"
            ],
            [
             0.8888888888888888,
             "#fdca26"
            ],
            [
             1,
             "#f0f921"
            ]
           ]
          },
          "colorway": [
           "#636efa",
           "#EF553B",
           "#00cc96",
           "#ab63fa",
           "#FFA15A",
           "#19d3f3",
           "#FF6692",
           "#B6E880",
           "#FF97FF",
           "#FECB52"
          ],
          "font": {
           "color": "#2a3f5f"
          },
          "geo": {
           "bgcolor": "white",
           "lakecolor": "white",
           "landcolor": "#E5ECF6",
           "showlakes": true,
           "showland": true,
           "subunitcolor": "white"
          },
          "hoverlabel": {
           "align": "left"
          },
          "hovermode": "closest",
          "mapbox": {
           "style": "light"
          },
          "paper_bgcolor": "white",
          "plot_bgcolor": "#E5ECF6",
          "polar": {
           "angularaxis": {
            "gridcolor": "white",
            "linecolor": "white",
            "ticks": ""
           },
           "bgcolor": "#E5ECF6",
           "radialaxis": {
            "gridcolor": "white",
            "linecolor": "white",
            "ticks": ""
           }
          },
          "scene": {
           "xaxis": {
            "backgroundcolor": "#E5ECF6",
            "gridcolor": "white",
            "gridwidth": 2,
            "linecolor": "white",
            "showbackground": true,
            "ticks": "",
            "zerolinecolor": "white"
           },
           "yaxis": {
            "backgroundcolor": "#E5ECF6",
            "gridcolor": "white",
            "gridwidth": 2,
            "linecolor": "white",
            "showbackground": true,
            "ticks": "",
            "zerolinecolor": "white"
           },
           "zaxis": {
            "backgroundcolor": "#E5ECF6",
            "gridcolor": "white",
            "gridwidth": 2,
            "linecolor": "white",
            "showbackground": true,
            "ticks": "",
            "zerolinecolor": "white"
           }
          },
          "shapedefaults": {
           "line": {
            "color": "#2a3f5f"
           }
          },
          "ternary": {
           "aaxis": {
            "gridcolor": "white",
            "linecolor": "white",
            "ticks": ""
           },
           "baxis": {
            "gridcolor": "white",
            "linecolor": "white",
            "ticks": ""
           },
           "bgcolor": "#E5ECF6",
           "caxis": {
            "gridcolor": "white",
            "linecolor": "white",
            "ticks": ""
           }
          },
          "title": {
           "x": 0.05
          },
          "xaxis": {
           "automargin": true,
           "gridcolor": "white",
           "linecolor": "white",
           "ticks": "",
           "title": {
            "standoff": 15
           },
           "zerolinecolor": "white",
           "zerolinewidth": 2
          },
          "yaxis": {
           "automargin": true,
           "gridcolor": "white",
           "linecolor": "white",
           "ticks": "",
           "title": {
            "standoff": 15
           },
           "zerolinecolor": "white",
           "zerolinewidth": 2
          }
         }
        },
        "xaxis": {
         "anchor": "y",
         "autorange": true,
         "domain": [
          0,
          1
         ],
         "range": [
          -0.27587995411170374,
          1.3129047788312618
         ],
         "title": {
          "text": "x"
         },
         "type": "category"
        },
        "yaxis": {
         "anchor": "x",
         "autorange": true,
         "domain": [
          0,
          1
         ],
         "range": [
          110059.48910142804,
          598483.058104476
         ],
         "title": {
          "text": "Sales"
         },
         "type": "linear"
        }
       }
      },
      "image/png": "[encoded data removed]",
      "text/html": [
       "<div>                            <div id=\"f60417a7-06d8-4346-9b95-a90050f0d300\" class=\"plotly-graph-div\" style=\"height:525px; width:100%;\"></div>            <script type=\"text/javascript\">                require([\"plotly\"], function(Plotly) {                    window.PLOTLYENV=window.PLOTLYENV || {};                                    if (document.getElementById(\"f60417a7-06d8-4346-9b95-a90050f0d300\")) {                    Plotly.newPlot(                        \"f60417a7-06d8-4346-9b95-a90050f0d300\",                        [{\"hovertemplate\":\"color=Total Deals Purchases<br>x=%{x}<br>Sales=%{marker.size}<extra></extra>\",\"legendgroup\":\"Total Deals Purchases\",\"marker\":{\"color\":\"#636efa\",\"size\":[282161.0],\"sizemode\":\"area\",\"sizeref\":39.8547,\"symbol\":\"circle\"},\"mode\":\"markers\",\"name\":\"Total Deals Purchases\",\"orientation\":\"v\",\"showlegend\":true,\"type\":\"scatter\",\"x\":[\"Total Deals Purchases\"],\"xaxis\":\"x\",\"y\":[282161.0],\"yaxis\":\"y\"},{\"hovertemplate\":\"color=Total Catalog Purchases<br>x=%{x}<br>Sales=%{marker.size}<extra></extra>\",\"legendgroup\":\"Total Catalog Purchases\",\"marker\":{\"color\":\"#EF553B\",\"size\":[398547.0],\"sizemode\":\"area\",\"sizeref\":39.8547,\"symbol\":\"circle\"},\"mode\":\"markers\",\"name\":\"Total Catalog Purchases\",\"orientation\":\"v\",\"showlegend\":true,\"type\":\"scatter\",\"x\":[\"Total Catalog Purchases\"],\"xaxis\":\"x\",\"y\":[398547.0],\"yaxis\":\"y\"}],                        {\"legend\":{\"itemsizing\":\"constant\",\"title\":{\"text\":\"color\"},\"tracegroupgap\":0},\"margin\":{\"t\":60},\"template\":{\"data\":{\"bar\":[{\"error_x\":{\"color\":\"#2a3f5f\"},\"error_y\":{\"color\":\"#2a3f5f\"},\"marker\":{\"line\":{\"color\":\"#E5ECF6\",\"width\":0.5},\"pattern\":{\"fillmode\":\"overlay\",\"size\":10,\"solidity\":0.2}},\"type\":\"bar\"}],\"barpolar\":[{\"marker\":{\"line\":{\"color\":\"#E5ECF6\",\"width\":0.5},\"pattern\":{\"fillmode\":\"overlay\",\"size\":10,\"solidity\":0.2}},\"type\":\"barpolar\"}],\"carpet\":[{\"aaxis\":{\"endlinecolor\":\"#2a3f5f\",\"gridcolor\":\"white\",\"linecolor\":\"white\",\"minorgridcolor\":\"white\",\"startlinecolor\":\"#2a3f5f\"},\"baxis\":{\"endlinecolor\":\"#2a3f5f\",\"gridcolor\":\"white\",\"linecolor\":\"white\",\"minorgridcolor\":\"white\",\"startlinecolor\":\"#2a3f5f\"},\"type\":\"carpet\"}],\"choropleth\":[{\"colorbar\":{\"outlinewidth\":0,\"ticks\":\"\"},\"type\":\"choropleth\"}],\"contour\":[{\"colorbar\":{\"outlinewidth\":0,\"ticks\":\"\"},\"colorscale\":[[0.0,\"#0d0887\"],[0.1111111111111111,\"#46039f\"],[0.2222222222222222,\"#7201a8\"],[0.3333333333333333,\"#9c179e\"],[0.4444444444444444,\"#bd3786\"],[0.5555555555555556,\"#d8576b\"],[0.6666666666666666,\"#ed7953\"],[0.7777777777777778,\"#fb9f3a\"],[0.8888888888888888,\"#fdca26\"],[1.0,\"#f0f921\"]],\"type\":\"contour\"}],\"contourcarpet\":[{\"colorbar\":{\"outlinewidth\":0,\"ticks\":\"\"},\"type\":\"contourcarpet\"}],\"heatmap\":[{\"colorbar\":{\"outlinewidth\":0,\"ticks\":\"\"},\"colorscale\":[[0.0,\"#0d0887\"],[0.1111111111111111,\"#46039f\"],[0.2222222222222222,\"#7201a8\"],[0.3333333333333333,\"#9c179e\"],[0.4444444444444444,\"#bd3786\"],[0.5555555555555556,\"#d8576b\"],[0.6666666666666666,\"#ed7953\"],[0.7777777777777778,\"#fb9f3a\"],[0.8888888888888888,\"#fdca26\"],[1.0,\"#f0f921\"]],\"type\":\"heatmap\"}],\"heatmapgl\":[{\"colorbar\":{\"outlinewidth\":0,\"ticks\":\"\"},\"colorscale\":[[0.0,\"#0d0887\"],[0.1111111111111111,\"#46039f\"],[0.2222222222222222,\"#7201a8\"],[0.3333333333333333,\"#9c179e\"],[0.4444444444444444,\"#bd3786\"],[0.5555555555555556,\"#d8576b\"],[0.6666666666666666,\"#ed7953\"],[0.7777777777777778,\"#fb9f3a\"],[0.8888888888888888,\"#fdca26\"],[1.0,\"#f0f921\"]],\"type\":\"heatmapgl\"}],\"histogram\":[{\"marker\":{\"pattern\":{\"fillmode\":\"overlay\",\"size\":10,\"solidity\":0.2}},\"type\":\"histogram\"}],\"histogram2d\":[{\"colorbar\":{\"outlinewidth\":0,\"ticks\":\"\"},\"colorscale\":[[0.0,\"#0d0887\"],[0.1111111111111111,\"#46039f\"],[0.2222222222222222,\"#7201a8\"],[0.3333333333333333,\"#9c179e\"],[0.4444444444444444,\"#bd3786\"],[0.5555555555555556,\"#d8576b\"],[0.6666666666666666,\"#ed7953\"],[0.7777777777777778,\"#fb9f3a\"],[0.8888888888888888,\"#fdca26\"],[1.0,\"#f0f921\"]],\"type\":\"histogram2d\"}],\"histogram2dcontour\":[{\"colorbar\":{\"outlinewidth\":0,\"ticks\":\"\"},\"colorscale\":[[0.0,\"#0d0887\"],[0.1111111111111111,\"#46039f\"],[0.2222222222222222,\"#7201a8\"],[0.3333333333333333,\"#9c179e\"],[0.4444444444444444,\"#bd3786\"],[0.5555555555555556,\"#d8576b\"],[0.6666666666666666,\"#ed7953\"],[0.7777777777777778,\"#fb9f3a\"],[0.8888888888888888,\"#fdca26\"],[1.0,\"#f0f921\"]],\"type\":\"histogram2dcontour\"}],\"mesh3d\":[{\"colorbar\":{\"outlinewidth\":0,\"ticks\":\"\"},\"type\":\"mesh3d\"}],\"parcoords\":[{\"line\":{\"colorbar\":{\"outlinewidth\":0,\"ticks\":\"\"}},\"type\":\"parcoords\"}],\"pie\":[{\"automargin\":true,\"type\":\"pie\"}],\"scatter\":[{\"marker\":{\"colorbar\":{\"outlinewidth\":0,\"ticks\":\"\"}},\"type\":\"scatter\"}],\"scatter3d\":[{\"line\":{\"colorbar\":{\"outlinewidth\":0,\"ticks\":\"\"}},\"marker\":{\"colorbar\":{\"outlinewidth\":0,\"ticks\":\"\"}},\"type\":\"scatter3d\"}],\"scattercarpet\":[{\"marker\":{\"colorbar\":{\"outlinewidth\":0,\"ticks\":\"\"}},\"type\":\"scattercarpet\"}],\"scattergeo\":[{\"marker\":{\"colorbar\":{\"outlinewidth\":0,\"ticks\":\"\"}},\"type\":\"scattergeo\"}],\"scattergl\":[{\"marker\":{\"colorbar\":{\"outlinewidth\":0,\"ticks\":\"\"}},\"type\":\"scattergl\"}],\"scattermapbox\":[{\"marker\":{\"colorbar\":{\"outlinewidth\":0,\"ticks\":\"\"}},\"type\":\"scattermapbox\"}],\"scatterpolar\":[{\"marker\":{\"colorbar\":{\"outlinewidth\":0,\"ticks\":\"\"}},\"type\":\"scatterpolar\"}],\"scatterpolargl\":[{\"marker\":{\"colorbar\":{\"outlinewidth\":0,\"ticks\":\"\"}},\"type\":\"scatterpolargl\"}],\"scatterternary\":[{\"marker\":{\"colorbar\":{\"outlinewidth\":0,\"ticks\":\"\"}},\"type\":\"scatterternary\"}],\"surface\":[{\"colorbar\":{\"outlinewidth\":0,\"ticks\":\"\"},\"colorscale\":[[0.0,\"#0d0887\"],[0.1111111111111111,\"#46039f\"],[0.2222222222222222,\"#7201a8\"],[0.3333333333333333,\"#9c179e\"],[0.4444444444444444,\"#bd3786\"],[0.5555555555555556,\"#d8576b\"],[0.6666666666666666,\"#ed7953\"],[0.7777777777777778,\"#fb9f3a\"],[0.8888888888888888,\"#fdca26\"],[1.0,\"#f0f921\"]],\"type\":\"surface\"}],\"table\":[{\"cells\":{\"fill\":{\"color\":\"#EBF0F8\"},\"line\":{\"color\":\"white\"}},\"header\":{\"fill\":{\"color\":\"#C8D4E3\"},\"line\":{\"color\":\"white\"}},\"type\":\"table\"}]},\"layout\":{\"annotationdefaults\":{\"arrowcolor\":\"#2a3f5f\",\"arrowhead\":0,\"arrowwidth\":1},\"autotypenumbers\":\"strict\",\"coloraxis\":{\"colorbar\":{\"outlinewidth\":0,\"ticks\":\"\"}},\"colorscale\":{\"diverging\":[[0,\"#8e0152\"],[0.1,\"#c51b7d\"],[0.2,\"#de77ae\"],[0.3,\"#f1b6da\"],[0.4,\"#fde0ef\"],[0.5,\"#f7f7f7\"],[0.6,\"#e6f5d0\"],[0.7,\"#b8e186\"],[0.8,\"#7fbc41\"],[0.9,\"#4d9221\"],[1,\"#276419\"]],\"sequential\":[[0.0,\"#0d0887\"],[0.1111111111111111,\"#46039f\"],[0.2222222222222222,\"#7201a8\"],[0.3333333333333333,\"#9c179e\"],[0.4444444444444444,\"#bd3786\"],[0.5555555555555556,\"#d8576b\"],[0.6666666666666666,\"#ed7953\"],[0.7777777777777778,\"#fb9f3a\"],[0.8888888888888888,\"#fdca26\"],[1.0,\"#f0f921\"]],\"sequentialminus\":[[0.0,\"#0d0887\"],[0.1111111111111111,\"#46039f\"],[0.2222222222222222,\"#7201a8\"],[0.3333333333333333,\"#9c179e\"],[0.4444444444444444,\"#bd3786\"],[0.5555555555555556,\"#d8576b\"],[0.6666666666666666,\"#ed7953\"],[0.7777777777777778,\"#fb9f3a\"],[0.8888888888888888,\"#fdca26\"],[1.0,\"#f0f921\"]]},\"colorway\":[\"#636efa\",\"#EF553B\",\"#00cc96\",\"#ab63fa\",\"#FFA15A\",\"#19d3f3\",\"#FF6692\",\"#B6E880\",\"#FF97FF\",\"#FECB52\"],\"font\":{\"color\":\"#2a3f5f\"},\"geo\":{\"bgcolor\":\"white\",\"lakecolor\":\"white\",\"landcolor\":\"#E5ECF6\",\"showlakes\":true,\"showland\":true,\"subunitcolor\":\"white\"},\"hoverlabel\":{\"align\":\"left\"},\"hovermode\":\"closest\",\"mapbox\":{\"style\":\"light\"},\"paper_bgcolor\":\"white\",\"plot_bgcolor\":\"#E5ECF6\",\"polar\":{\"angularaxis\":{\"gridcolor\":\"white\",\"linecolor\":\"white\",\"ticks\":\"\"},\"bgcolor\":\"#E5ECF6\",\"radialaxis\":{\"gridcolor\":\"white\",\"linecolor\":\"white\",\"ticks\":\"\"}},\"scene\":{\"xaxis\":{\"backgroundcolor\":\"#E5ECF6\",\"gridcolor\":\"white\",\"gridwidth\":2,\"linecolor\":\"white\",\"showbackground\":true,\"ticks\":\"\",\"zerolinecolor\":\"white\"},\"yaxis\":{\"backgroundcolor\":\"#E5ECF6\",\"gridcolor\":\"white\",\"gridwidth\":2,\"linecolor\":\"white\",\"showbackground\":true,\"ticks\":\"\",\"zerolinecolor\":\"white\"},\"zaxis\":{\"backgroundcolor\":\"#E5ECF6\",\"gridcolor\":\"white\",\"gridwidth\":2,\"linecolor\":\"white\",\"showbackground\":true,\"ticks\":\"\",\"zerolinecolor\":\"white\"}},\"shapedefaults\":{\"line\":{\"color\":\"#2a3f5f\"}},\"ternary\":{\"aaxis\":{\"gridcolor\":\"white\",\"linecolor\":\"white\",\"ticks\":\"\"},\"baxis\":{\"gridcolor\":\"white\",\"linecolor\":\"white\",\"ticks\":\"\"},\"bgcolor\":\"#E5ECF6\",\"caxis\":{\"gridcolor\":\"white\",\"linecolor\":\"white\",\"ticks\":\"\"}},\"title\":{\"x\":0.05},\"xaxis\":{\"automargin\":true,\"gridcolor\":\"white\",\"linecolor\":\"white\",\"ticks\":\"\",\"title\":{\"standoff\":15},\"zerolinecolor\":\"white\",\"zerolinewidth\":2},\"yaxis\":{\"automargin\":true,\"gridcolor\":\"white\",\"linecolor\":\"white\",\"ticks\":\"\",\"title\":{\"standoff\":15},\"zerolinecolor\":\"white\",\"zerolinewidth\":2}}},\"xaxis\":{\"anchor\":\"y\",\"domain\":[0.0,1.0],\"title\":{\"text\":\"x\"}},\"yaxis\":{\"anchor\":\"x\",\"domain\":[0.0,1.0],\"title\":{\"text\":\"Sales\"}}},                        {\"responsive\": true}                    ).then(function(){\n",
       "                            \n",
       "var gd = document.getElementById('f60417a7-06d8-4346-9b95-a90050f0d300');\n",
       "var x = new MutationObserver(function (mutations, observer) {{\n",
       "        var display = window.getComputedStyle(gd).display;\n",
       "        if (!display || display === 'none') {{\n",
       "            console.log([gd, 'removed!']);\n",
       "            Plotly.purge(gd);\n",
       "            observer.disconnect();\n",
       "        }}\n",
       "}});\n",
       "\n",
       "// Listen for the removal of the full notebook cells\n",
       "var notebookContainer = gd.closest('#notebook-container');\n",
       "if (notebookContainer) {{\n",
       "    x.observe(notebookContainer, {childList: true});\n",
       "}}\n",
       "\n",
       "// Listen for the clearing of the current output cell\n",
       "var outputEl = gd.closest('.output');\n",
       "if (outputEl) {{\n",
       "    x.observe(outputEl, {childList: true});\n",
       "}}\n",
       "\n",
       "                        })                };                });            </script>        </div>"
      ]
     },
     "metadata": {},
     "output_type": "display_data"
    }
   ],
   "source": [
    "# Customer Purchasing channels and their effectiveness. \n",
    "'''\n",
    "# Analysis: \n",
    "- It can be said that instore sales are higher than sales through company website\n",
    "- Catalogs seem to be more effective in bringing in customers to stores\n",
    "\n",
    "Note that in the absence of breakdown of sales by channel,this analysis has used the ratio of web purchases \n",
    "to stores purchases to determine the sales.\n",
    "'''\n",
    "\n",
    "df = wine_data[['MntWines','NumWebPurchases','NumDealsPurchases','NumCatalogPurchases','NumStorePurchases']]\n",
    "web_store_total_purchases = df['NumWebPurchases'] + df['NumStorePurchases']\n",
    "deal_catalog_total_purchases = df['NumDealsPurchases'] + df['NumCatalogPurchases']\n",
    "\n",
    "df['WebSales'] = df['MntWines'] * df['NumWebPurchases'] / (web_store_total_purchases)\n",
    "df['StoreSales'] = df['MntWines'] * df['NumStorePurchases'] / (web_store_total_purchases)\n",
    "df['DealsSales'] = df['MntWines'] * df['NumDealsPurchases'] / (deal_catalog_total_purchases)\n",
    "df['CatalogSales'] = df['MntWines'] * df['NumCatalogPurchases'] / (deal_catalog_total_purchases)\n",
    "\n",
    "df_webstore = pd.DataFrame({\n",
    "    'Sales': [df['WebSales'].sum().round(), \n",
    "              df['StoreSales'].sum().round()]\n",
    "})\n",
    "\n",
    "df_dealcat = pd.DataFrame({\n",
    "    'Sales': [df['DealsSales'].sum().round(), \n",
    "              df['CatalogSales'].sum().round()]\n",
    "})\n",
    "'''\n",
    "# Pie chart code\n",
    "fig = px.pie(df_new, \n",
    "             names=['Total Web Purchases','Total Deals Purchases',\n",
    "                    'Total Catalog Purchases',\n",
    "                    'Total Store Purchases'], \n",
    "             values='Sales',\n",
    "             color_discrete_sequence=px.colors.sequential.Sunsetdark_r,\n",
    "             title='Customer Purchasing channels')\n",
    "\n",
    "fig.update_traces(textposition='inside', \n",
    "                  text=['$' + str(price) for price in df_new.Sales.values],\n",
    "                  textinfo='text+label+percent')\n",
    "'''\n",
    "fig = px.scatter(df_webstore, \n",
    "                 x=['Total Web Purchases','Total Store Purchases'], \n",
    "                 color=['Total Web Purchases','Total Store Purchases'], \n",
    "                 y='Sales', size='Sales', size_max=100)\n",
    "\n",
    "fig1 = px.scatter(df_webstore, \n",
    "                 x=['Total Deals Purchases','Total Catalog Purchases'], \n",
    "                 color=['Total Deals Purchases','Total Catalog Purchases'], \n",
    "                 y='Sales', size='Sales', size_max=100)\n",
    "fig.show()\n",
    "fig1.show()"
   ]
  },
  {
   "cell_type": "markdown",
   "metadata": {},
   "source": [
    "- - -"
   ]
  },
  {
   "cell_type": "markdown",
   "metadata": {},
   "source": [
    "## Campaign Performances Analysis"
   ]
  },
  {
   "cell_type": "code",
   "execution_count": 60,
   "metadata": {},
   "outputs": [
    {
     "data": {
      "application/vnd.plotly.v1+json": {
       "config": {
        "plotlyServerURL": "https://plot.ly"
       },
       "data": [
        {
         "hovertemplate": "Campaign=%{x}<br>Total Sales ($)=%{y}<extra></extra>",
         "legendgroup": "",
         "line": {
          "color": "#636efa",
          "dash": "solid"
         },
         "marker": {
          "symbol": "circle"
         },
         "mode": "lines",
         "name": "",
         "orientation": "v",
         "showlegend": false,
         "type": "scatter",
         "x": [
          "Campaign-1",
          "Campaign-2",
          "Campaign-3",
          "Campaign-4",
          "Campaign-5"
         ],
         "xaxis": "x",
         "y": [
          109239,
          26960,
          61721,
          124669,
          142082
         ],
         "yaxis": "y"
        },
        {
         "showlegend": false,
         "type": "bar",
         "x": [
          "Campaign-1",
          "Campaign-2",
          "Campaign-3",
          "Campaign-4",
          "Campaign-5"
         ],
         "y": [
          109239,
          26960,
          61721,
          124669,
          142082
         ]
        }
       ],
       "layout": {
        "autosize": true,
        "legend": {
         "tracegroupgap": 0
        },
        "template": {
         "data": {
          "bar": [
           {
            "error_x": {
             "color": "#2a3f5f"
            },
            "error_y": {
             "color": "#2a3f5f"
            },
            "marker": {
             "line": {
              "color": "#E5ECF6",
              "width": 0.5
             },
             "pattern": {
              "fillmode": "overlay",
              "size": 10,
              "solidity": 0.2
             }
            },
            "type": "bar"
           }
          ],
          "barpolar": [
           {
            "marker": {
             "line": {
              "color": "#E5ECF6",
              "width": 0.5
             },
             "pattern": {
              "fillmode": "overlay",
              "size": 10,
              "solidity": 0.2
             }
            },
            "type": "barpolar"
           }
          ],
          "carpet": [
           {
            "aaxis": {
             "endlinecolor": "#2a3f5f",
             "gridcolor": "white",
             "linecolor": "white",
             "minorgridcolor": "white",
             "startlinecolor": "#2a3f5f"
            },
            "baxis": {
             "endlinecolor": "#2a3f5f",
             "gridcolor": "white",
             "linecolor": "white",
             "minorgridcolor": "white",
             "startlinecolor": "#2a3f5f"
            },
            "type": "carpet"
           }
          ],
          "choropleth": [
           {
            "colorbar": {
             "outlinewidth": 0,
             "ticks": ""
            },
            "type": "choropleth"
           }
          ],
          "contour": [
           {
            "colorbar": {
             "outlinewidth": 0,
             "ticks": ""
            },
            "colorscale": [
             [
              0,
              "#0d0887"
             ],
             [
              0.1111111111111111,
              "#46039f"
             ],
             [
              0.2222222222222222,
              "#7201a8"
             ],
             [
              0.3333333333333333,
              "#9c179e"
             ],
             [
              0.4444444444444444,
              "#bd3786"
             ],
             [
              0.5555555555555556,
              "#d8576b"
             ],
             [
              0.6666666666666666,
              "#ed7953"
             ],
             [
              0.7777777777777778,
              "#fb9f3a"
             ],
             [
              0.8888888888888888,
              "#fdca26"
             ],
             [
              1,
              "#f0f921"
             ]
            ],
            "type": "contour"
           }
          ],
          "contourcarpet": [
           {
            "colorbar": {
             "outlinewidth": 0,
             "ticks": ""
            },
            "type": "contourcarpet"
           }
          ],
          "heatmap": [
           {
            "colorbar": {
             "outlinewidth": 0,
             "ticks": ""
            },
            "colorscale": [
             [
              0,
              "#0d0887"
             ],
             [
              0.1111111111111111,
              "#46039f"
             ],
             [
              0.2222222222222222,
              "#7201a8"
             ],
             [
              0.3333333333333333,
              "#9c179e"
             ],
             [
              0.4444444444444444,
              "#bd3786"
             ],
             [
              0.5555555555555556,
              "#d8576b"
             ],
             [
              0.6666666666666666,
              "#ed7953"
             ],
             [
              0.7777777777777778,
              "#fb9f3a"
             ],
             [
              0.8888888888888888,
              "#fdca26"
             ],
             [
              1,
              "#f0f921"
             ]
            ],
            "type": "heatmap"
           }
          ],
          "heatmapgl": [
           {
            "colorbar": {
             "outlinewidth": 0,
             "ticks": ""
            },
            "colorscale": [
             [
              0,
              "#0d0887"
             ],
             [
              0.1111111111111111,
              "#46039f"
             ],
             [
              0.2222222222222222,
              "#7201a8"
             ],
             [
              0.3333333333333333,
              "#9c179e"
             ],
             [
              0.4444444444444444,
              "#bd3786"
             ],
             [
              0.5555555555555556,
              "#d8576b"
             ],
             [
              0.6666666666666666,
              "#ed7953"
             ],
             [
              0.7777777777777778,
              "#fb9f3a"
             ],
             [
              0.8888888888888888,
              "#fdca26"
             ],
             [
              1,
              "#f0f921"
             ]
            ],
            "type": "heatmapgl"
           }
          ],
          "histogram": [
           {
            "marker": {
             "pattern": {
              "fillmode": "overlay",
              "size": 10,
              "solidity": 0.2
             }
            },
            "type": "histogram"
           }
          ],
          "histogram2d": [
           {
            "colorbar": {
             "outlinewidth": 0,
             "ticks": ""
            },
            "colorscale": [
             [
              0,
              "#0d0887"
             ],
             [
              0.1111111111111111,
              "#46039f"
             ],
             [
              0.2222222222222222,
              "#7201a8"
             ],
             [
              0.3333333333333333,
              "#9c179e"
             ],
             [
              0.4444444444444444,
              "#bd3786"
             ],
             [
              0.5555555555555556,
              "#d8576b"
             ],
             [
              0.6666666666666666,
              "#ed7953"
             ],
             [
              0.7777777777777778,
              "#fb9f3a"
             ],
             [
              0.8888888888888888,
              "#fdca26"
             ],
             [
              1,
              "#f0f921"
             ]
            ],
            "type": "histogram2d"
           }
          ],
          "histogram2dcontour": [
           {
            "colorbar": {
             "outlinewidth": 0,
             "ticks": ""
            },
            "colorscale": [
             [
              0,
              "#0d0887"
             ],
             [
              0.1111111111111111,
              "#46039f"
             ],
             [
              0.2222222222222222,
              "#7201a8"
             ],
             [
              0.3333333333333333,
              "#9c179e"
             ],
             [
              0.4444444444444444,
              "#bd3786"
             ],
             [
              0.5555555555555556,
              "#d8576b"
             ],
             [
              0.6666666666666666,
              "#ed7953"
             ],
             [
              0.7777777777777778,
              "#fb9f3a"
             ],
             [
              0.8888888888888888,
              "#fdca26"
             ],
             [
              1,
              "#f0f921"
             ]
            ],
            "type": "histogram2dcontour"
           }
          ],
          "mesh3d": [
           {
            "colorbar": {
             "outlinewidth": 0,
             "ticks": ""
            },
            "type": "mesh3d"
           }
          ],
          "parcoords": [
           {
            "line": {
             "colorbar": {
              "outlinewidth": 0,
              "ticks": ""
             }
            },
            "type": "parcoords"
           }
          ],
          "pie": [
           {
            "automargin": true,
            "type": "pie"
           }
          ],
          "scatter": [
           {
            "marker": {
             "colorbar": {
              "outlinewidth": 0,
              "ticks": ""
             }
            },
            "type": "scatter"
           }
          ],
          "scatter3d": [
           {
            "line": {
             "colorbar": {
              "outlinewidth": 0,
              "ticks": ""
             }
            },
            "marker": {
             "colorbar": {
              "outlinewidth": 0,
              "ticks": ""
             }
            },
            "type": "scatter3d"
           }
          ],
          "scattercarpet": [
           {
            "marker": {
             "colorbar": {
              "outlinewidth": 0,
              "ticks": ""
             }
            },
            "type": "scattercarpet"
           }
          ],
          "scattergeo": [
           {
            "marker": {
             "colorbar": {
              "outlinewidth": 0,
              "ticks": ""
             }
            },
            "type": "scattergeo"
           }
          ],
          "scattergl": [
           {
            "marker": {
             "colorbar": {
              "outlinewidth": 0,
              "ticks": ""
             }
            },
            "type": "scattergl"
           }
          ],
          "scattermapbox": [
           {
            "marker": {
             "colorbar": {
              "outlinewidth": 0,
              "ticks": ""
             }
            },
            "type": "scattermapbox"
           }
          ],
          "scatterpolar": [
           {
            "marker": {
             "colorbar": {
              "outlinewidth": 0,
              "ticks": ""
             }
            },
            "type": "scatterpolar"
           }
          ],
          "scatterpolargl": [
           {
            "marker": {
             "colorbar": {
              "outlinewidth": 0,
              "ticks": ""
             }
            },
            "type": "scatterpolargl"
           }
          ],
          "scatterternary": [
           {
            "marker": {
             "colorbar": {
              "outlinewidth": 0,
              "ticks": ""
             }
            },
            "type": "scatterternary"
           }
          ],
          "surface": [
           {
            "colorbar": {
             "outlinewidth": 0,
             "ticks": ""
            },
            "colorscale": [
             [
              0,
              "#0d0887"
             ],
             [
              0.1111111111111111,
              "#46039f"
             ],
             [
              0.2222222222222222,
              "#7201a8"
             ],
             [
              0.3333333333333333,
              "#9c179e"
             ],
             [
              0.4444444444444444,
              "#bd3786"
             ],
             [
              0.5555555555555556,
              "#d8576b"
             ],
             [
              0.6666666666666666,
              "#ed7953"
             ],
             [
              0.7777777777777778,
              "#fb9f3a"
             ],
             [
              0.8888888888888888,
              "#fdca26"
             ],
             [
              1,
              "#f0f921"
             ]
            ],
            "type": "surface"
           }
          ],
          "table": [
           {
            "cells": {
             "fill": {
              "color": "#EBF0F8"
             },
             "line": {
              "color": "white"
             }
            },
            "header": {
             "fill": {
              "color": "#C8D4E3"
             },
             "line": {
              "color": "white"
             }
            },
            "type": "table"
           }
          ]
         },
         "layout": {
          "annotationdefaults": {
           "arrowcolor": "#2a3f5f",
           "arrowhead": 0,
           "arrowwidth": 1
          },
          "autotypenumbers": "strict",
          "coloraxis": {
           "colorbar": {
            "outlinewidth": 0,
            "ticks": ""
           }
          },
          "colorscale": {
           "diverging": [
            [
             0,
             "#8e0152"
            ],
            [
             0.1,
             "#c51b7d"
            ],
            [
             0.2,
             "#de77ae"
            ],
            [
             0.3,
             "#f1b6da"
            ],
            [
             0.4,
             "#fde0ef"
            ],
            [
             0.5,
             "#f7f7f7"
            ],
            [
             0.6,
             "#e6f5d0"
            ],
            [
             0.7,
             "#b8e186"
            ],
            [
             0.8,
             "#7fbc41"
            ],
            [
             0.9,
             "#4d9221"
            ],
            [
             1,
             "#276419"
            ]
           ],
           "sequential": [
            [
             0,
             "#0d0887"
            ],
            [
             0.1111111111111111,
             "#46039f"
            ],
            [
             0.2222222222222222,
             "#7201a8"
            ],
            [
             0.3333333333333333,
             "#9c179e"
            ],
            [
             0.4444444444444444,
             "#bd3786"
            ],
            [
             0.5555555555555556,
             "#d8576b"
            ],
            [
             0.6666666666666666,
             "#ed7953"
            ],
            [
             0.7777777777777778,
             "#fb9f3a"
            ],
            [
             0.8888888888888888,
             "#fdca26"
            ],
            [
             1,
             "#f0f921"
            ]
           ],
           "sequentialminus": [
            [
             0,
             "#0d0887"
            ],
            [
             0.1111111111111111,
             "#46039f"
            ],
            [
             0.2222222222222222,
             "#7201a8"
            ],
            [
             0.3333333333333333,
             "#9c179e"
            ],
            [
             0.4444444444444444,
             "#bd3786"
            ],
            [
             0.5555555555555556,
             "#d8576b"
            ],
            [
             0.6666666666666666,
             "#ed7953"
            ],
            [
             0.7777777777777778,
             "#fb9f3a"
            ],
            [
             0.8888888888888888,
             "#fdca26"
            ],
            [
             1,
             "#f0f921"
            ]
           ]
          },
          "colorway": [
           "#636efa",
           "#EF553B",
           "#00cc96",
           "#ab63fa",
           "#FFA15A",
           "#19d3f3",
           "#FF6692",
           "#B6E880",
           "#FF97FF",
           "#FECB52"
          ],
          "font": {
           "color": "#2a3f5f"
          },
          "geo": {
           "bgcolor": "white",
           "lakecolor": "white",
           "landcolor": "#E5ECF6",
           "showlakes": true,
           "showland": true,
           "subunitcolor": "white"
          },
          "hoverlabel": {
           "align": "left"
          },
          "hovermode": "closest",
          "mapbox": {
           "style": "light"
          },
          "paper_bgcolor": "white",
          "plot_bgcolor": "#E5ECF6",
          "polar": {
           "angularaxis": {
            "gridcolor": "white",
            "linecolor": "white",
            "ticks": ""
           },
           "bgcolor": "#E5ECF6",
           "radialaxis": {
            "gridcolor": "white",
            "linecolor": "white",
            "ticks": ""
           }
          },
          "scene": {
           "xaxis": {
            "backgroundcolor": "#E5ECF6",
            "gridcolor": "white",
            "gridwidth": 2,
            "linecolor": "white",
            "showbackground": true,
            "ticks": "",
            "zerolinecolor": "white"
           },
           "yaxis": {
            "backgroundcolor": "#E5ECF6",
            "gridcolor": "white",
            "gridwidth": 2,
            "linecolor": "white",
            "showbackground": true,
            "ticks": "",
            "zerolinecolor": "white"
           },
           "zaxis": {
            "backgroundcolor": "#E5ECF6",
            "gridcolor": "white",
            "gridwidth": 2,
            "linecolor": "white",
            "showbackground": true,
            "ticks": "",
            "zerolinecolor": "white"
           }
          },
          "shapedefaults": {
           "line": {
            "color": "#2a3f5f"
           }
          },
          "ternary": {
           "aaxis": {
            "gridcolor": "white",
            "linecolor": "white",
            "ticks": ""
           },
           "baxis": {
            "gridcolor": "white",
            "linecolor": "white",
            "ticks": ""
           },
           "bgcolor": "#E5ECF6",
           "caxis": {
            "gridcolor": "white",
            "linecolor": "white",
            "ticks": ""
           }
          },
          "title": {
           "x": 0.05
          },
          "xaxis": {
           "automargin": true,
           "gridcolor": "white",
           "linecolor": "white",
           "ticks": "",
           "title": {
            "standoff": 15
           },
           "zerolinecolor": "white",
           "zerolinewidth": 2
          },
          "yaxis": {
           "automargin": true,
           "gridcolor": "white",
           "linecolor": "white",
           "ticks": "",
           "title": {
            "standoff": 15
           },
           "zerolinecolor": "white",
           "zerolinewidth": 2
          }
         }
        },
        "title": {
         "text": "Total Sales generated for past Marketing Campaigns"
        },
        "xaxis": {
         "anchor": "y",
         "autorange": true,
         "domain": [
          0,
          1
         ],
         "range": [
          -0.5,
          4.5
         ],
         "title": {
          "text": "Campaign"
         },
         "type": "category"
        },
        "yaxis": {
         "anchor": "x",
         "autorange": true,
         "domain": [
          0,
          1
         ],
         "range": [
          0,
          149560
         ],
         "title": {
          "text": "Total Sales ($)"
         },
         "type": "linear"
        }
       }
      },
      "image/png": "[encoded data removed]",
      "text/html": [
       "<div>                            <div id=\"4683139f-1cea-4fc5-b22c-2e746d94d1ed\" class=\"plotly-graph-div\" style=\"height:525px; width:100%;\"></div>            <script type=\"text/javascript\">                require([\"plotly\"], function(Plotly) {                    window.PLOTLYENV=window.PLOTLYENV || {};                                    if (document.getElementById(\"4683139f-1cea-4fc5-b22c-2e746d94d1ed\")) {                    Plotly.newPlot(                        \"4683139f-1cea-4fc5-b22c-2e746d94d1ed\",                        [{\"hovertemplate\":\"Campaign=%{x}<br>Total Sales ($)=%{y}<extra></extra>\",\"legendgroup\":\"\",\"line\":{\"color\":\"#636efa\",\"dash\":\"solid\"},\"marker\":{\"symbol\":\"circle\"},\"mode\":\"lines\",\"name\":\"\",\"orientation\":\"v\",\"showlegend\":false,\"type\":\"scatter\",\"x\":[\"Campaign-1\",\"Campaign-2\",\"Campaign-3\",\"Campaign-4\",\"Campaign-5\"],\"xaxis\":\"x\",\"y\":[109239,26960,61721,124669,142082],\"yaxis\":\"y\"},{\"showlegend\":false,\"type\":\"bar\",\"x\":[\"Campaign-1\",\"Campaign-2\",\"Campaign-3\",\"Campaign-4\",\"Campaign-5\"],\"y\":[109239,26960,61721,124669,142082]}],                        {\"legend\":{\"tracegroupgap\":0},\"template\":{\"data\":{\"bar\":[{\"error_x\":{\"color\":\"#2a3f5f\"},\"error_y\":{\"color\":\"#2a3f5f\"},\"marker\":{\"line\":{\"color\":\"#E5ECF6\",\"width\":0.5},\"pattern\":{\"fillmode\":\"overlay\",\"size\":10,\"solidity\":0.2}},\"type\":\"bar\"}],\"barpolar\":[{\"marker\":{\"line\":{\"color\":\"#E5ECF6\",\"width\":0.5},\"pattern\":{\"fillmode\":\"overlay\",\"size\":10,\"solidity\":0.2}},\"type\":\"barpolar\"}],\"carpet\":[{\"aaxis\":{\"endlinecolor\":\"#2a3f5f\",\"gridcolor\":\"white\",\"linecolor\":\"white\",\"minorgridcolor\":\"white\",\"startlinecolor\":\"#2a3f5f\"},\"baxis\":{\"endlinecolor\":\"#2a3f5f\",\"gridcolor\":\"white\",\"linecolor\":\"white\",\"minorgridcolor\":\"white\",\"startlinecolor\":\"#2a3f5f\"},\"type\":\"carpet\"}],\"choropleth\":[{\"colorbar\":{\"outlinewidth\":0,\"ticks\":\"\"},\"type\":\"choropleth\"}],\"contour\":[{\"colorbar\":{\"outlinewidth\":0,\"ticks\":\"\"},\"colorscale\":[[0.0,\"#0d0887\"],[0.1111111111111111,\"#46039f\"],[0.2222222222222222,\"#7201a8\"],[0.3333333333333333,\"#9c179e\"],[0.4444444444444444,\"#bd3786\"],[0.5555555555555556,\"#d8576b\"],[0.6666666666666666,\"#ed7953\"],[0.7777777777777778,\"#fb9f3a\"],[0.8888888888888888,\"#fdca26\"],[1.0,\"#f0f921\"]],\"type\":\"contour\"}],\"contourcarpet\":[{\"colorbar\":{\"outlinewidth\":0,\"ticks\":\"\"},\"type\":\"contourcarpet\"}],\"heatmap\":[{\"colorbar\":{\"outlinewidth\":0,\"ticks\":\"\"},\"colorscale\":[[0.0,\"#0d0887\"],[0.1111111111111111,\"#46039f\"],[0.2222222222222222,\"#7201a8\"],[0.3333333333333333,\"#9c179e\"],[0.4444444444444444,\"#bd3786\"],[0.5555555555555556,\"#d8576b\"],[0.6666666666666666,\"#ed7953\"],[0.7777777777777778,\"#fb9f3a\"],[0.8888888888888888,\"#fdca26\"],[1.0,\"#f0f921\"]],\"type\":\"heatmap\"}],\"heatmapgl\":[{\"colorbar\":{\"outlinewidth\":0,\"ticks\":\"\"},\"colorscale\":[[0.0,\"#0d0887\"],[0.1111111111111111,\"#46039f\"],[0.2222222222222222,\"#7201a8\"],[0.3333333333333333,\"#9c179e\"],[0.4444444444444444,\"#bd3786\"],[0.5555555555555556,\"#d8576b\"],[0.6666666666666666,\"#ed7953\"],[0.7777777777777778,\"#fb9f3a\"],[0.8888888888888888,\"#fdca26\"],[1.0,\"#f0f921\"]],\"type\":\"heatmapgl\"}],\"histogram\":[{\"marker\":{\"pattern\":{\"fillmode\":\"overlay\",\"size\":10,\"solidity\":0.2}},\"type\":\"histogram\"}],\"histogram2d\":[{\"colorbar\":{\"outlinewidth\":0,\"ticks\":\"\"},\"colorscale\":[[0.0,\"#0d0887\"],[0.1111111111111111,\"#46039f\"],[0.2222222222222222,\"#7201a8\"],[0.3333333333333333,\"#9c179e\"],[0.4444444444444444,\"#bd3786\"],[0.5555555555555556,\"#d8576b\"],[0.6666666666666666,\"#ed7953\"],[0.7777777777777778,\"#fb9f3a\"],[0.8888888888888888,\"#fdca26\"],[1.0,\"#f0f921\"]],\"type\":\"histogram2d\"}],\"histogram2dcontour\":[{\"colorbar\":{\"outlinewidth\":0,\"ticks\":\"\"},\"colorscale\":[[0.0,\"#0d0887\"],[0.1111111111111111,\"#46039f\"],[0.2222222222222222,\"#7201a8\"],[0.3333333333333333,\"#9c179e\"],[0.4444444444444444,\"#bd3786\"],[0.5555555555555556,\"#d8576b\"],[0.6666666666666666,\"#ed7953\"],[0.7777777777777778,\"#fb9f3a\"],[0.8888888888888888,\"#fdca26\"],[1.0,\"#f0f921\"]],\"type\":\"histogram2dcontour\"}],\"mesh3d\":[{\"colorbar\":{\"outlinewidth\":0,\"ticks\":\"\"},\"type\":\"mesh3d\"}],\"parcoords\":[{\"line\":{\"colorbar\":{\"outlinewidth\":0,\"ticks\":\"\"}},\"type\":\"parcoords\"}],\"pie\":[{\"automargin\":true,\"type\":\"pie\"}],\"scatter\":[{\"marker\":{\"colorbar\":{\"outlinewidth\":0,\"ticks\":\"\"}},\"type\":\"scatter\"}],\"scatter3d\":[{\"line\":{\"colorbar\":{\"outlinewidth\":0,\"ticks\":\"\"}},\"marker\":{\"colorbar\":{\"outlinewidth\":0,\"ticks\":\"\"}},\"type\":\"scatter3d\"}],\"scattercarpet\":[{\"marker\":{\"colorbar\":{\"outlinewidth\":0,\"ticks\":\"\"}},\"type\":\"scattercarpet\"}],\"scattergeo\":[{\"marker\":{\"colorbar\":{\"outlinewidth\":0,\"ticks\":\"\"}},\"type\":\"scattergeo\"}],\"scattergl\":[{\"marker\":{\"colorbar\":{\"outlinewidth\":0,\"ticks\":\"\"}},\"type\":\"scattergl\"}],\"scattermapbox\":[{\"marker\":{\"colorbar\":{\"outlinewidth\":0,\"ticks\":\"\"}},\"type\":\"scattermapbox\"}],\"scatterpolar\":[{\"marker\":{\"colorbar\":{\"outlinewidth\":0,\"ticks\":\"\"}},\"type\":\"scatterpolar\"}],\"scatterpolargl\":[{\"marker\":{\"colorbar\":{\"outlinewidth\":0,\"ticks\":\"\"}},\"type\":\"scatterpolargl\"}],\"scatterternary\":[{\"marker\":{\"colorbar\":{\"outlinewidth\":0,\"ticks\":\"\"}},\"type\":\"scatterternary\"}],\"surface\":[{\"colorbar\":{\"outlinewidth\":0,\"ticks\":\"\"},\"colorscale\":[[0.0,\"#0d0887\"],[0.1111111111111111,\"#46039f\"],[0.2222222222222222,\"#7201a8\"],[0.3333333333333333,\"#9c179e\"],[0.4444444444444444,\"#bd3786\"],[0.5555555555555556,\"#d8576b\"],[0.6666666666666666,\"#ed7953\"],[0.7777777777777778,\"#fb9f3a\"],[0.8888888888888888,\"#fdca26\"],[1.0,\"#f0f921\"]],\"type\":\"surface\"}],\"table\":[{\"cells\":{\"fill\":{\"color\":\"#EBF0F8\"},\"line\":{\"color\":\"white\"}},\"header\":{\"fill\":{\"color\":\"#C8D4E3\"},\"line\":{\"color\":\"white\"}},\"type\":\"table\"}]},\"layout\":{\"annotationdefaults\":{\"arrowcolor\":\"#2a3f5f\",\"arrowhead\":0,\"arrowwidth\":1},\"autotypenumbers\":\"strict\",\"coloraxis\":{\"colorbar\":{\"outlinewidth\":0,\"ticks\":\"\"}},\"colorscale\":{\"diverging\":[[0,\"#8e0152\"],[0.1,\"#c51b7d\"],[0.2,\"#de77ae\"],[0.3,\"#f1b6da\"],[0.4,\"#fde0ef\"],[0.5,\"#f7f7f7\"],[0.6,\"#e6f5d0\"],[0.7,\"#b8e186\"],[0.8,\"#7fbc41\"],[0.9,\"#4d9221\"],[1,\"#276419\"]],\"sequential\":[[0.0,\"#0d0887\"],[0.1111111111111111,\"#46039f\"],[0.2222222222222222,\"#7201a8\"],[0.3333333333333333,\"#9c179e\"],[0.4444444444444444,\"#bd3786\"],[0.5555555555555556,\"#d8576b\"],[0.6666666666666666,\"#ed7953\"],[0.7777777777777778,\"#fb9f3a\"],[0.8888888888888888,\"#fdca26\"],[1.0,\"#f0f921\"]],\"sequentialminus\":[[0.0,\"#0d0887\"],[0.1111111111111111,\"#46039f\"],[0.2222222222222222,\"#7201a8\"],[0.3333333333333333,\"#9c179e\"],[0.4444444444444444,\"#bd3786\"],[0.5555555555555556,\"#d8576b\"],[0.6666666666666666,\"#ed7953\"],[0.7777777777777778,\"#fb9f3a\"],[0.8888888888888888,\"#fdca26\"],[1.0,\"#f0f921\"]]},\"colorway\":[\"#636efa\",\"#EF553B\",\"#00cc96\",\"#ab63fa\",\"#FFA15A\",\"#19d3f3\",\"#FF6692\",\"#B6E880\",\"#FF97FF\",\"#FECB52\"],\"font\":{\"color\":\"#2a3f5f\"},\"geo\":{\"bgcolor\":\"white\",\"lakecolor\":\"white\",\"landcolor\":\"#E5ECF6\",\"showlakes\":true,\"showland\":true,\"subunitcolor\":\"white\"},\"hoverlabel\":{\"align\":\"left\"},\"hovermode\":\"closest\",\"mapbox\":{\"style\":\"light\"},\"paper_bgcolor\":\"white\",\"plot_bgcolor\":\"#E5ECF6\",\"polar\":{\"angularaxis\":{\"gridcolor\":\"white\",\"linecolor\":\"white\",\"ticks\":\"\"},\"bgcolor\":\"#E5ECF6\",\"radialaxis\":{\"gridcolor\":\"white\",\"linecolor\":\"white\",\"ticks\":\"\"}},\"scene\":{\"xaxis\":{\"backgroundcolor\":\"#E5ECF6\",\"gridcolor\":\"white\",\"gridwidth\":2,\"linecolor\":\"white\",\"showbackground\":true,\"ticks\":\"\",\"zerolinecolor\":\"white\"},\"yaxis\":{\"backgroundcolor\":\"#E5ECF6\",\"gridcolor\":\"white\",\"gridwidth\":2,\"linecolor\":\"white\",\"showbackground\":true,\"ticks\":\"\",\"zerolinecolor\":\"white\"},\"zaxis\":{\"backgroundcolor\":\"#E5ECF6\",\"gridcolor\":\"white\",\"gridwidth\":2,\"linecolor\":\"white\",\"showbackground\":true,\"ticks\":\"\",\"zerolinecolor\":\"white\"}},\"shapedefaults\":{\"line\":{\"color\":\"#2a3f5f\"}},\"ternary\":{\"aaxis\":{\"gridcolor\":\"white\",\"linecolor\":\"white\",\"ticks\":\"\"},\"baxis\":{\"gridcolor\":\"white\",\"linecolor\":\"white\",\"ticks\":\"\"},\"bgcolor\":\"#E5ECF6\",\"caxis\":{\"gridcolor\":\"white\",\"linecolor\":\"white\",\"ticks\":\"\"}},\"title\":{\"x\":0.05},\"xaxis\":{\"automargin\":true,\"gridcolor\":\"white\",\"linecolor\":\"white\",\"ticks\":\"\",\"title\":{\"standoff\":15},\"zerolinecolor\":\"white\",\"zerolinewidth\":2},\"yaxis\":{\"automargin\":true,\"gridcolor\":\"white\",\"linecolor\":\"white\",\"ticks\":\"\",\"title\":{\"standoff\":15},\"zerolinecolor\":\"white\",\"zerolinewidth\":2}}},\"title\":{\"text\":\"Total Sales generated for past Marketing Campaigns\"},\"xaxis\":{\"anchor\":\"y\",\"domain\":[0.0,1.0],\"title\":{\"text\":\"Campaign\"}},\"yaxis\":{\"anchor\":\"x\",\"domain\":[0.0,1.0],\"title\":{\"text\":\"Total Sales ($)\"}}},                        {\"responsive\": true}                    ).then(function(){\n",
       "                            \n",
       "var gd = document.getElementById('4683139f-1cea-4fc5-b22c-2e746d94d1ed');\n",
       "var x = new MutationObserver(function (mutations, observer) {{\n",
       "        var display = window.getComputedStyle(gd).display;\n",
       "        if (!display || display === 'none') {{\n",
       "            console.log([gd, 'removed!']);\n",
       "            Plotly.purge(gd);\n",
       "            observer.disconnect();\n",
       "        }}\n",
       "}});\n",
       "\n",
       "// Listen for the removal of the full notebook cells\n",
       "var notebookContainer = gd.closest('#notebook-container');\n",
       "if (notebookContainer) {{\n",
       "    x.observe(notebookContainer, {childList: true});\n",
       "}}\n",
       "\n",
       "// Listen for the clearing of the current output cell\n",
       "var outputEl = gd.closest('.output');\n",
       "if (outputEl) {{\n",
       "    x.observe(outputEl, {childList: true});\n",
       "}}\n",
       "\n",
       "                        })                };                });            </script>        </div>"
      ]
     },
     "metadata": {},
     "output_type": "display_data"
    }
   ],
   "source": [
    "# Determine which campaign was the most effective\n",
    "'''\n",
    "# Analysis: \n",
    "- Campaign 5 was the most effective in successfully concluding with a sale on either channel.\n",
    "Note: In the absence of channel specific sales data, the overall sales per customer is used to indicate the sales trend.\n",
    "'''\n",
    "# Calculating each Marketing Campaign sales figues based on Customer Acceptance\n",
    "campaign_1_total_sales = wine_data.loc[wine_data['AcceptedCmp1'] == 1].sum()['MntWines']\n",
    "campaign_2_total_sales = wine_data.loc[wine_data['AcceptedCmp2'] == 1].sum()['MntWines']\n",
    "campaign_3_total_sales = wine_data.loc[wine_data['AcceptedCmp3'] == 1].sum()['MntWines']\n",
    "campaign_4_total_sales = wine_data.loc[wine_data['AcceptedCmp4'] == 1].sum()['MntWines']\n",
    "campaign_5_total_sales = wine_data.loc[wine_data['AcceptedCmp5'] == 1].sum()['MntWines']\n",
    "\n",
    "# Create a new DataFrame based on these data\n",
    "df = pd.DataFrame({\n",
    "    'Campaign':['Campaign-1', 'Campaign-2', 'Campaign-3', 'Campaign-4', 'Campaign-5'],\n",
    "    'Total Sales ($)': [campaign_1_total_sales, \n",
    "                        campaign_2_total_sales, \n",
    "                        campaign_3_total_sales, \n",
    "                        campaign_4_total_sales, \n",
    "                        campaign_5_total_sales]\n",
    "})\n",
    "\n",
    "# Added a Trend line over the bar\n",
    "fig = px.line(df, x='Campaign', y='Total Sales ($)', title='Total Sales generated for past Marketing Campaigns')\n",
    "\n",
    "# Plotting a bar graph\n",
    "fig.add_bar(x=['Campaign-1', 'Campaign-2', 'Campaign-3', 'Campaign-4', 'Campaign-5'], \n",
    "            y=[campaign_1_total_sales, \n",
    "               campaign_2_total_sales, \n",
    "               campaign_3_total_sales, \n",
    "               campaign_4_total_sales, \n",
    "               campaign_5_total_sales], \n",
    "            showlegend=False)"
   ]
  },
  {
   "cell_type": "code",
   "execution_count": 47,
   "metadata": {},
   "outputs": [
    {
     "data": {},
     "metadata": {},
     "output_type": "display_data"
    },
    {
     "data": {
      "application/vnd.holoviews_exec.v0+json": "",
      "text/html": [
       "<div id='1358'>\n",
       "\n",
       "\n",
       "\n",
       "\n",
       "\n",
       "  <div class=\"bk-root\" id=\"690515bb-b43b-46ea-9d76-8ff2544e9eaa\" data-root-id=\"1358\"></div>\n",
       "</div>\n",
       "<script type=\"application/javascript\">(function(root) {\n",
       "  function embed_document(root) {\n",
       "    var docs_json = {\"c76db1a5-1d07-41f9-af1c-dbad11b693c0\":{\"defs\":[{\"extends\":null,\"module\":null,\"name\":\"ReactiveHTML1\",\"overrides\":[],\"properties\":[]},{\"extends\":null,\"module\":null,\"name\":\"FlexBox1\",\"overrides\":[],\"properties\":[{\"default\":\"flex-start\",\"kind\":null,\"name\":\"align_content\"},{\"default\":\"flex-start\",\"kind\":null,\"name\":\"align_items\"},{\"default\":\"row\",\"kind\":null,\"name\":\"flex_direction\"},{\"default\":\"wrap\",\"kind\":null,\"name\":\"flex_wrap\"},{\"default\":\"flex-start\",\"kind\":null,\"name\":\"justify_content\"}]},{\"extends\":null,\"module\":null,\"name\":\"TemplateActions1\",\"overrides\":[],\"properties\":[{\"default\":0,\"kind\":null,\"name\":\"open_modal\"},{\"default\":0,\"kind\":null,\"name\":\"close_modal\"}]},{\"extends\":null,\"module\":null,\"name\":\"MaterialTemplateActions1\",\"overrides\":[],\"properties\":[{\"default\":0,\"kind\":null,\"name\":\"open_modal\"},{\"default\":0,\"kind\":null,\"name\":\"close_modal\"}]}],\"roots\":{\"references\":[{\"attributes\":{},\"id\":\"1385\",\"type\":\"PanTool\"},{\"attributes\":{\"label\":{\"value\":\"MntFruits\"},\"renderers\":[{\"id\":\"1430\"}]},\"id\":\"1444\",\"type\":\"LegendItem\"},{\"attributes\":{},\"id\":\"1388\",\"type\":\"ResetTool\"},{\"attributes\":{},\"id\":\"1399\",\"type\":\"BasicTickFormatter\"},{\"attributes\":{},\"id\":\"1386\",\"type\":\"WheelZoomTool\"},{\"attributes\":{\"data\":{\"Variable\":[\"MntFruits\",\"MntFruits\",\"MntFruits\",\"MntFruits\",\"MntFruits\",\"MntFruits\",\"MntFruits\",\"MntFruits\",\"MntFruits\",\"MntFruits\",\"MntFruits\",\"MntFruits\",\"MntFruits\",\"MntFruits\",\"MntFruits\",\"MntFruits\",\"MntFruits\",\"MntFruits\",\"MntFruits\",\"MntFruits\",\"MntFruits\",\"MntFruits\",\"MntFruits\",\"MntFruits\",\"MntFruits\",\"MntFruits\",\"MntFruits\",\"MntFruits\",\"MntFruits\",\"MntFruits\",\"MntFruits\",\"MntFruits\",\"MntFruits\",\"MntFruits\",\"MntFruits\",\"MntFruits\",\"MntFruits\",\"MntFruits\",\"MntFruits\",\"MntFruits\",\"MntFruits\",\"MntFruits\",\"MntFruits\",\"MntFruits\",\"MntFruits\",\"MntFruits\",\"MntFruits\",\"MntFruits\",\"MntFruits\",\"MntFruits\",\"MntFruits\",\"MntFruits\",\"MntFruits\",\"MntFruits\",\"MntFruits\",\"MntFruits\",\"MntFruits\",\"MntFruits\",\"MntFruits\",\"MntFruits\",\"MntFruits\",\"MntFruits\",\"MntFruits\",\"MntFruits\",\"MntFruits\",\"MntFruits\",\"MntFruits\",\"MntFruits\",\"MntFruits\",\"MntFruits\",\"MntFruits\",\"MntFruits\",\"MntFruits\",\"MntFruits\",\"MntFruits\",\"MntFruits\",\"MntFruits\",\"MntFruits\",\"MntFruits\",\"MntFruits\",\"MntFruits\",\"MntFruits\",\"MntFruits\",\"MntFruits\",\"MntFruits\",\"MntFruits\",\"MntFruits\",\"MntFruits\",\"MntFruits\",\"MntFruits\",\"MntFruits\",\"MntFruits\",\"MntFruits\",\"MntFruits\",\"MntFruits\",\"MntFruits\",\"MntFruits\",\"MntFruits\",\"MntFruits\",\"MntFruits\",\"MntFruits\",\"MntFruits\",\"MntFruits\",\"MntFruits\",\"MntFruits\",\"MntFruits\",\"MntFruits\",\"MntFruits\",\"MntFruits\",\"MntFruits\",\"MntFruits\",\"MntFruits\",\"MntFruits\",\"MntFruits\",\"MntFruits\",\"MntFruits\",\"MntFruits\",\"MntFruits\",\"MntFruits\",\"MntFruits\",\"MntFruits\",\"MntFruits\",\"MntFruits\",\"MntFruits\",\"MntFruits\",\"MntFruits\",\"MntFruits\",\"MntFruits\",\"MntFruits\",\"MntFruits\",\"MntFruits\",\"MntFruits\",\"MntFruits\",\"MntFruits\",\"MntFruits\",\"MntFruits\",\"MntFruits\",\"MntFruits\",\"MntFruits\",\"MntFruits\",\"MntFruits\",\"MntFruits\",\"MntFruits\",\"MntFruits\",\"MntFruits\",\"MntFruits\",\"MntFruits\",\"MntFruits\",\"MntFruits\",\"MntFruits\",\"MntFruits\",\"MntFruits\",\"MntFruits\",\"MntFruits\",\"MntFruits\",\"MntFruits\",\"MntFruits\",\"MntFruits\",\"MntFruits\",\"MntFruits\",\"MntFruits\",\"MntFruits\",\"MntFruits\",\"MntFruits\",\"MntFruits\",\"MntFruits\",\"MntFruits\",\"MntFruits\",\"MntFruits\",\"MntFruits\",\"MntFruits\",\"MntFruits\",\"MntFruits\",\"MntFruits\",\"MntFruits\",\"MntFruits\",\"MntFruits\",\"MntFruits\",\"MntFruits\",\"MntFruits\",\"MntFruits\",\"MntFruits\",\"MntFruits\",\"MntFruits\",\"MntFruits\",\"MntFruits\",\"MntFruits\",\"MntFruits\",\"MntFruits\",\"MntFruits\",\"MntFruits\",\"MntFruits\",\"MntFruits\",\"MntFruits\",\"MntFruits\",\"MntFruits\",\"MntFruits\",\"MntFruits\",\"MntFruits\",\"MntFruits\",\"MntFruits\",\"MntFruits\",\"MntFruits\",\"MntFruits\",\"MntFruits\",\"MntFruits\",\"MntFruits\",\"MntFruits\",\"MntFruits\",\"MntFruits\",\"MntFruits\",\"MntFruits\",\"MntFruits\",\"MntFruits\",\"MntFruits\",\"MntFruits\",\"MntFruits\",\"MntFruits\",\"MntFruits\",\"MntFruits\",\"MntFruits\",\"MntFruits\",\"MntFruits\",\"MntFruits\",\"MntFruits\",\"MntFruits\",\"MntFruits\",\"MntFruits\",\"MntFruits\",\"MntFruits\",\"MntFruits\",\"MntFruits\",\"MntFruits\",\"MntFruits\",\"MntFruits\",\"MntFruits\",\"MntFruits\",\"MntFruits\",\"MntFruits\",\"MntFruits\",\"MntFruits\",\"MntFruits\",\"MntFruits\",\"MntFruits\",\"MntFruits\",\"MntFruits\",\"MntFruits\",\"MntFruits\",\"MntFruits\",\"MntFruits\",\"MntFruits\",\"MntFruits\",\"MntFruits\",\"MntFruits\",\"MntFruits\",\"MntFruits\",\"MntFruits\",\"MntFruits\",\"MntFruits\",\"MntFruits\",\"MntFruits\",\"MntFruits\",\"MntFruits\",\"MntFruits\",\"MntFruits\",\"MntFruits\",\"MntFruits\",\"MntFruits\",\"MntFruits\",\"MntFruits\",\"MntFruits\",\"MntFruits\",\"MntFruits\",\"MntFruits\",\"MntFruits\",\"MntFruits\",\"MntFruits\",\"MntFruits\",\"MntFruits\",\"MntFruits\",\"MntFruits\",\"MntFruits\",\"MntFruits\",\"MntFruits\",\"MntFruits\",\"MntFruits\",\"MntFruits\",\"MntFruits\",\"MntFruits\",\"MntFruits\",\"MntFruits\",\"MntFruits\",\"MntFruits\",\"MntFruits\",\"MntFruits\",\"MntFruits\",\"MntFruits\",\"MntFruits\",\"MntFruits\",\"MntFruits\",\"MntFruits\",\"MntFruits\",\"MntFruits\",\"MntFruits\",\"MntFruits\",\"MntFruits\",\"MntFruits\",\"MntFruits\",\"MntFruits\",\"MntFruits\",\"MntFruits\",\"MntFruits\",\"MntFruits\",\"MntFruits\",\"MntFruits\",\"MntFruits\",\"MntFruits\",\"MntFruits\",\"MntFruits\",\"MntFruits\",\"MntFruits\",\"MntFruits\",\"MntFruits\",\"MntFruits\",\"MntFruits\",\"MntFruits\",\"MntFruits\",\"MntFruits\",\"MntFruits\",\"MntFruits\",\"MntFruits\",\"MntFruits\",\"MntFruits\",\"MntFruits\",\"MntFruits\",\"MntFruits\",\"MntFruits\",\"MntFruits\",\"MntFruits\",\"MntFruits\",\"MntFruits\",\"MntFruits\",\"MntFruits\",\"MntFruits\",\"MntFruits\",\"MntFruits\",\"MntFruits\",\"MntFruits\",\"MntFruits\",\"MntFruits\",\"MntFruits\",\"MntFruits\",\"MntFruits\",\"MntFruits\",\"MntFruits\",\"MntFruits\",\"MntFruits\",\"MntFruits\",\"MntFruits\",\"MntFruits\",\"MntFruits\",\"MntFruits\",\"MntFruits\",\"MntFruits\",\"MntFruits\",\"MntFruits\",\"MntFruits\",\"MntFruits\",\"MntFruits\",\"MntFruits\",\"MntFruits\",\"MntFruits\",\"MntFruits\",\"MntFruits\",\"MntFruits\",\"MntFruits\",\"MntFruits\",\"MntFruits\",\"MntFruits\",\"MntFruits\",\"MntFruits\",\"MntFruits\",\"MntFruits\",\"MntFruits\",\"MntFruits\",\"MntFruits\",\"MntFruits\",\"MntFruits\",\"MntFruits\",\"MntFruits\",\"MntFruits\",\"MntFruits\",\"MntFruits\",\"MntFruits\",\"MntFruits\",\"MntFruits\",\"MntFruits\",\"MntFruits\",\"MntFruits\",\"MntFruits\",\"MntFruits\",\"MntFruits\",\"MntFruits\",\"MntFruits\",\"MntFruits\",\"MntFruits\",\"MntFruits\",\"MntFruits\",\"MntFruits\",\"MntFruits\",\"MntFruits\",\"MntFruits\",\"MntFruits\",\"MntFruits\",\"MntFruits\",\"MntFruits\",\"MntFruits\",\"MntFruits\",\"MntFruits\",\"MntFruits\",\"MntFruits\",\"MntFruits\",\"MntFruits\",\"MntFruits\",\"MntFruits\",\"MntFruits\",\"MntFruits\",\"MntFruits\",\"MntFruits\",\"MntFruits\",\"MntFruits\",\"MntFruits\",\"MntFruits\",\"MntFruits\",\"MntFruits\",\"MntFruits\",\"MntFruits\",\"MntFruits\",\"MntFruits\",\"MntFruits\",\"MntFruits\",\"MntFruits\",\"MntFruits\",\"MntFruits\",\"MntFruits\",\"MntFruits\",\"MntFruits\",\"MntFruits\",\"MntFruits\",\"MntFruits\",\"MntFruits\",\"MntFruits\",\"MntFruits\",\"MntFruits\",\"MntFruits\",\"MntFruits\",\"MntFruits\",\"MntFruits\",\"MntFruits\",\"MntFruits\",\"MntFruits\",\"MntFruits\",\"MntFruits\",\"MntFruits\",\"MntFruits\",\"MntFruits\",\"MntFruits\",\"MntFruits\",\"MntFruits\",\"MntFruits\",\"MntFruits\",\"MntFruits\",\"MntFruits\",\"MntFruits\",\"MntFruits\",\"MntFruits\",\"MntFruits\",\"MntFruits\",\"MntFruits\",\"MntFruits\",\"MntFruits\",\"MntFruits\",\"MntFruits\",\"MntFruits\",\"MntFruits\",\"MntFruits\",\"MntFruits\",\"MntFruits\",\"MntFruits\",\"MntFruits\",\"MntFruits\",\"MntFruits\",\"MntFruits\",\"MntFruits\",\"MntFruits\",\"MntFruits\",\"MntFruits\",\"MntFruits\",\"MntFruits\",\"MntFruits\",\"MntFruits\",\"MntFruits\",\"MntFruits\",\"MntFruits\",\"MntFruits\",\"MntFruits\",\"MntFruits\",\"MntFruits\",\"MntFruits\",\"MntFruits\",\"MntFruits\",\"MntFruits\",\"MntFruits\",\"MntFruits\",\"MntFruits\",\"MntFruits\",\"MntFruits\",\"MntFruits\",\"MntFruits\",\"MntFruits\",\"MntFruits\",\"MntFruits\",\"MntFruits\",\"MntFruits\",\"MntFruits\",\"MntFruits\",\"MntFruits\",\"MntFruits\",\"MntFruits\",\"MntFruits\",\"MntFruits\",\"MntFruits\",\"MntFruits\",\"MntFruits\",\"MntFruits\",\"MntFruits\",\"MntFruits\",\"MntFruits\",\"MntFruits\",\"MntFruits\",\"MntFruits\",\"MntFruits\",\"MntFruits\",\"MntFruits\",\"MntFruits\",\"MntFruits\",\"MntFruits\",\"MntFruits\",\"MntFruits\",\"MntFruits\",\"MntFruits\",\"MntFruits\",\"MntFruits\",\"MntFruits\",\"MntFruits\",\"MntFruits\",\"MntFruits\",\"MntFruits\",\"MntFruits\",\"MntFruits\",\"MntFruits\",\"MntFruits\",\"MntFruits\",\"MntFruits\",\"MntFruits\",\"MntFruits\",\"MntFruits\",\"MntFruits\",\"MntFruits\",\"MntFruits\",\"MntFruits\",\"MntFruits\",\"MntFruits\",\"MntFruits\",\"MntFruits\",\"MntFruits\",\"MntFruits\",\"MntFruits\",\"MntFruits\",\"MntFruits\",\"MntFruits\",\"MntFruits\",\"MntFruits\",\"MntFruits\",\"MntFruits\",\"MntFruits\",\"MntFruits\",\"MntFruits\",\"MntFruits\",\"MntFruits\",\"MntFruits\",\"MntFruits\",\"MntFruits\",\"MntFruits\",\"MntFruits\",\"MntFruits\",\"MntFruits\",\"MntFruits\",\"MntFruits\",\"MntFruits\",\"MntFruits\",\"MntFruits\",\"MntFruits\",\"MntFruits\",\"MntFruits\",\"MntFruits\",\"MntFruits\",\"MntFruits\",\"MntFruits\",\"MntFruits\",\"MntFruits\",\"MntFruits\",\"MntFruits\",\"MntFruits\",\"MntFruits\",\"MntFruits\",\"MntFruits\",\"MntFruits\",\"MntFruits\",\"MntFruits\",\"MntFruits\",\"MntFruits\",\"MntFruits\",\"MntFruits\",\"MntFruits\",\"MntFruits\",\"MntFruits\",\"MntFruits\",\"MntFruits\",\"MntFruits\",\"MntFruits\",\"MntFruits\",\"MntFruits\",\"MntFruits\",\"MntFruits\",\"MntFruits\",\"MntFruits\",\"MntFruits\",\"MntFruits\",\"MntFruits\",\"MntFruits\",\"MntFruits\",\"MntFruits\",\"MntFruits\",\"MntFruits\",\"MntFruits\",\"MntFruits\",\"MntFruits\",\"MntFruits\",\"MntFruits\",\"MntFruits\",\"MntFruits\",\"MntFruits\",\"MntFruits\",\"MntFruits\",\"MntFruits\",\"MntFruits\",\"MntFruits\",\"MntFruits\",\"MntFruits\",\"MntFruits\",\"MntFruits\",\"MntFruits\",\"MntFruits\",\"MntFruits\",\"MntFruits\",\"MntFruits\",\"MntFruits\",\"MntFruits\",\"MntFruits\",\"MntFruits\",\"MntFruits\",\"MntFruits\",\"MntFruits\",\"MntFruits\",\"MntFruits\",\"MntFruits\",\"MntFruits\",\"MntFruits\",\"MntFruits\",\"MntFruits\",\"MntFruits\",\"MntFruits\",\"MntFruits\",\"MntFruits\",\"MntFruits\",\"MntFruits\",\"MntFruits\",\"MntFruits\",\"MntFruits\",\"MntFruits\",\"MntFruits\",\"MntFruits\",\"MntFruits\",\"MntFruits\",\"MntFruits\",\"MntFruits\",\"MntFruits\",\"MntFruits\",\"MntFruits\",\"MntFruits\",\"MntFruits\",\"MntFruits\",\"MntFruits\",\"MntFruits\",\"MntFruits\",\"MntFruits\",\"MntFruits\",\"MntFruits\",\"MntFruits\",\"MntFruits\",\"MntFruits\",\"MntFruits\",\"MntFruits\",\"MntFruits\",\"MntFruits\",\"MntFruits\",\"MntFruits\",\"MntFruits\",\"MntFruits\",\"MntFruits\",\"MntFruits\",\"MntFruits\",\"MntFruits\",\"MntFruits\",\"MntFruits\",\"MntFruits\",\"MntFruits\",\"MntFruits\",\"MntFruits\",\"MntFruits\",\"MntFruits\",\"MntFruits\",\"MntFruits\",\"MntFruits\",\"MntFruits\",\"MntFruits\",\"MntFruits\",\"MntFruits\",\"MntFruits\",\"MntFruits\",\"MntFruits\",\"MntFruits\",\"MntFruits\",\"MntFruits\",\"MntFruits\",\"MntFruits\",\"MntFruits\",\"MntFruits\",\"MntFruits\",\"MntFruits\",\"MntFruits\",\"MntFruits\",\"MntFruits\",\"MntFruits\",\"MntFruits\",\"MntFruits\",\"MntFruits\",\"MntFruits\",\"MntFruits\",\"MntFruits\",\"MntFruits\",\"MntFruits\",\"MntFruits\",\"MntFruits\",\"MntFruits\",\"MntFruits\",\"MntFruits\",\"MntFruits\",\"MntFruits\",\"MntFruits\",\"MntFruits\",\"MntFruits\",\"MntFruits\",\"MntFruits\",\"MntFruits\",\"MntFruits\",\"MntFruits\",\"MntFruits\",\"MntFruits\",\"MntFruits\",\"MntFruits\",\"MntFruits\",\"MntFruits\",\"MntFruits\",\"MntFruits\",\"MntFruits\",\"MntFruits\",\"MntFruits\",\"MntFruits\",\"MntFruits\",\"MntFruits\",\"MntFruits\",\"MntFruits\",\"MntFruits\",\"MntFruits\",\"MntFruits\",\"MntFruits\",\"MntFruits\",\"MntFruits\",\"MntFruits\",\"MntFruits\",\"MntFruits\",\"MntFruits\",\"MntFruits\",\"MntFruits\",\"MntFruits\",\"MntFruits\",\"MntFruits\",\"MntFruits\",\"MntFruits\",\"MntFruits\",\"MntFruits\",\"MntFruits\",\"MntFruits\",\"MntFruits\",\"MntFruits\",\"MntFruits\",\"MntFruits\",\"MntFruits\",\"MntFruits\",\"MntFruits\",\"MntFruits\",\"MntFruits\",\"MntFruits\",\"MntFruits\",\"MntFruits\",\"MntFruits\",\"MntFruits\",\"MntFruits\",\"MntFruits\",\"MntFruits\",\"MntFruits\",\"MntFruits\",\"MntFruits\",\"MntFruits\",\"MntFruits\",\"MntFruits\",\"MntFruits\",\"MntFruits\",\"MntFruits\",\"MntFruits\",\"MntFruits\",\"MntFruits\",\"MntFruits\",\"MntFruits\",\"MntFruits\",\"MntFruits\",\"MntFruits\",\"MntFruits\",\"MntFruits\",\"MntFruits\",\"MntFruits\",\"MntFruits\",\"MntFruits\",\"MntFruits\",\"MntFruits\",\"MntFruits\",\"MntFruits\",\"MntFruits\",\"MntFruits\",\"MntFruits\",\"MntFruits\",\"MntFruits\",\"MntFruits\",\"MntFruits\",\"MntFruits\",\"MntFruits\",\"MntFruits\",\"MntFruits\",\"MntFruits\",\"MntFruits\",\"MntFruits\",\"MntFruits\",\"MntFruits\",\"MntFruits\",\"MntFruits\",\"MntFruits\",\"MntFruits\",\"MntFruits\",\"MntFruits\",\"MntFruits\",\"MntFruits\",\"MntFruits\",\"MntFruits\",\"MntFruits\",\"MntFruits\",\"MntFruits\",\"MntFruits\",\"MntFruits\",\"MntFruits\",\"MntFruits\",\"MntFruits\",\"MntFruits\",\"MntFruits\",\"MntFruits\",\"MntFruits\",\"MntFruits\",\"MntFruits\",\"MntFruits\",\"MntFruits\",\"MntFruits\",\"MntFruits\",\"MntFruits\",\"MntFruits\",\"MntFruits\",\"MntFruits\",\"MntFruits\",\"MntFruits\",\"MntFruits\",\"MntFruits\",\"MntFruits\",\"MntFruits\",\"MntFruits\",\"MntFruits\",\"MntFruits\",\"MntFruits\",\"MntFruits\",\"MntFruits\",\"MntFruits\",\"MntFruits\",\"MntFruits\",\"MntFruits\",\"MntFruits\",\"MntFruits\",\"MntFruits\",\"MntFruits\",\"MntFruits\",\"MntFruits\",\"MntFruits\",\"MntFruits\",\"MntFruits\",\"MntFruits\",\"MntFruits\",\"MntFruits\",\"MntFruits\",\"MntFruits\",\"MntFruits\",\"MntFruits\",\"MntFruits\",\"MntFruits\",\"MntFruits\",\"MntFruits\",\"MntFruits\",\"MntFruits\",\"MntFruits\",\"MntFruits\",\"MntFruits\",\"MntFruits\",\"MntFruits\",\"MntFruits\",\"MntFruits\",\"MntFruits\",\"MntFruits\",\"MntFruits\",\"MntFruits\",\"MntFruits\",\"MntFruits\",\"MntFruits\",\"MntFruits\",\"MntFruits\",\"MntFruits\",\"MntFruits\",\"MntFruits\",\"MntFruits\",\"MntFruits\",\"MntFruits\",\"MntFruits\",\"MntFruits\",\"MntFruits\",\"MntFruits\",\"MntFruits\",\"MntFruits\",\"MntFruits\",\"MntFruits\",\"MntFruits\",\"MntFruits\",\"MntFruits\",\"MntFruits\",\"MntFruits\",\"MntFruits\",\"MntFruits\",\"MntFruits\",\"MntFruits\",\"MntFruits\",\"MntFruits\",\"MntFruits\",\"MntFruits\",\"MntFruits\",\"MntFruits\",\"MntFruits\",\"MntFruits\",\"MntFruits\",\"MntFruits\",\"MntFruits\",\"MntFruits\",\"MntFruits\",\"MntFruits\",\"MntFruits\",\"MntFruits\",\"MntFruits\",\"MntFruits\",\"MntFruits\",\"MntFruits\",\"MntFruits\",\"MntFruits\",\"MntFruits\",\"MntFruits\",\"MntFruits\",\"MntFruits\",\"MntFruits\",\"MntFruits\",\"MntFruits\",\"MntFruits\",\"MntFruits\",\"MntFruits\",\"MntFruits\",\"MntFruits\",\"MntFruits\",\"MntFruits\",\"MntFruits\",\"MntFruits\",\"MntFruits\",\"MntFruits\",\"MntFruits\",\"MntFruits\",\"MntFruits\",\"MntFruits\",\"MntFruits\",\"MntFruits\",\"MntFruits\",\"MntFruits\",\"MntFruits\",\"MntFruits\",\"MntFruits\",\"MntFruits\",\"MntFruits\",\"MntFruits\",\"MntFruits\",\"MntFruits\",\"MntFruits\",\"MntFruits\",\"MntFruits\",\"MntFruits\",\"MntFruits\",\"MntFruits\",\"MntFruits\",\"MntFruits\",\"MntFruits\",\"MntFruits\",\"MntFruits\",\"MntFruits\",\"MntFruits\",\"MntFruits\",\"MntFruits\",\"MntFruits\",\"MntFruits\",\"MntFruits\",\"MntFruits\",\"MntFruits\",\"MntFruits\",\"MntFruits\",\"MntFruits\",\"MntFruits\",\"MntFruits\",\"MntFruits\",\"MntFruits\",\"MntFruits\",\"MntFruits\",\"MntFruits\",\"MntFruits\",\"MntFruits\",\"MntFruits\",\"MntFruits\",\"MntFruits\",\"MntFruits\",\"MntFruits\",\"MntFruits\",\"MntFruits\",\"MntFruits\",\"MntFruits\",\"MntFruits\",\"MntFruits\",\"MntFruits\",\"MntFruits\",\"MntFruits\",\"MntFruits\",\"MntFruits\",\"MntFruits\",\"MntFruits\",\"MntFruits\",\"MntFruits\",\"MntFruits\",\"MntFruits\",\"MntFruits\",\"MntFruits\",\"MntFruits\",\"MntFruits\",\"MntFruits\",\"MntFruits\",\"MntFruits\",\"MntFruits\",\"MntFruits\",\"MntFruits\",\"MntFruits\",\"MntFruits\",\"MntFruits\",\"MntFruits\",\"MntFruits\",\"MntFruits\",\"MntFruits\",\"MntFruits\",\"MntFruits\",\"MntFruits\",\"MntFruits\",\"MntFruits\",\"MntFruits\",\"MntFruits\",\"MntFruits\",\"MntFruits\",\"MntFruits\",\"MntFruits\",\"MntFruits\",\"MntFruits\",\"MntFruits\",\"MntFruits\",\"MntFruits\",\"MntFruits\",\"MntFruits\",\"MntFruits\",\"MntFruits\",\"MntFruits\",\"MntFruits\",\"MntFruits\",\"MntFruits\",\"MntFruits\",\"MntFruits\",\"MntFruits\",\"MntFruits\",\"MntFruits\",\"MntFruits\",\"MntFruits\",\"MntFruits\",\"MntFruits\",\"MntFruits\",\"MntFruits\",\"MntFruits\",\"MntFruits\",\"MntFruits\",\"MntFruits\",\"MntFruits\",\"MntFruits\",\"MntFruits\",\"MntFruits\",\"MntFruits\",\"MntFruits\",\"MntFruits\",\"MntFruits\",\"MntFruits\",\"MntFruits\",\"MntFruits\",\"MntFruits\",\"MntFruits\",\"MntFruits\",\"MntFruits\",\"MntFruits\",\"MntFruits\",\"MntFruits\",\"MntFruits\",\"MntFruits\",\"MntFruits\",\"MntFruits\",\"MntFruits\",\"MntFruits\",\"MntFruits\",\"MntFruits\",\"MntFruits\",\"MntFruits\",\"MntFruits\",\"MntFruits\",\"MntFruits\",\"MntFruits\",\"MntFruits\",\"MntFruits\",\"MntFruits\",\"MntFruits\",\"MntFruits\",\"MntFruits\",\"MntFruits\",\"MntFruits\",\"MntFruits\",\"MntFruits\",\"MntFruits\",\"MntFruits\",\"MntFruits\",\"MntFruits\",\"MntFruits\",\"MntFruits\",\"MntFruits\",\"MntFruits\",\"MntFruits\",\"MntFruits\",\"MntFruits\",\"MntFruits\",\"MntFruits\",\"MntFruits\",\"MntFruits\",\"MntFruits\",\"MntFruits\",\"MntFruits\",\"MntFruits\",\"MntFruits\",\"MntFruits\",\"MntFruits\",\"MntFruits\",\"MntFruits\",\"MntFruits\",\"MntFruits\",\"MntFruits\",\"MntFruits\",\"MntFruits\",\"MntFruits\",\"MntFruits\",\"MntFruits\",\"MntFruits\",\"MntFruits\",\"MntFruits\",\"MntFruits\",\"MntFruits\",\"MntFruits\",\"MntFruits\",\"MntFruits\",\"MntFruits\",\"MntFruits\",\"MntFruits\",\"MntFruits\",\"MntFruits\",\"MntFruits\",\"MntFruits\",\"MntFruits\",\"MntFruits\",\"MntFruits\",\"MntFruits\",\"MntFruits\",\"MntFruits\",\"MntFruits\",\"MntFruits\",\"MntFruits\",\"MntFruits\",\"MntFruits\",\"MntFruits\",\"MntFruits\",\"MntFruits\",\"MntFruits\",\"MntFruits\",\"MntFruits\",\"MntFruits\",\"MntFruits\",\"MntFruits\",\"MntFruits\",\"MntFruits\",\"MntFruits\",\"MntFruits\",\"MntFruits\",\"MntFruits\",\"MntFruits\",\"MntFruits\",\"MntFruits\",\"MntFruits\",\"MntFruits\",\"MntFruits\",\"MntFruits\",\"MntFruits\",\"MntFruits\",\"MntFruits\",\"MntFruits\",\"MntFruits\",\"MntFruits\",\"MntFruits\",\"MntFruits\",\"MntFruits\",\"MntFruits\",\"MntFruits\",\"MntFruits\",\"MntFruits\",\"MntFruits\",\"MntFruits\",\"MntFruits\",\"MntFruits\",\"MntFruits\",\"MntFruits\",\"MntFruits\",\"MntFruits\",\"MntFruits\",\"MntFruits\",\"MntFruits\",\"MntFruits\",\"MntFruits\",\"MntFruits\",\"MntFruits\",\"MntFruits\",\"MntFruits\",\"MntFruits\",\"MntFruits\",\"MntFruits\",\"MntFruits\",\"MntFruits\",\"MntFruits\",\"MntFruits\",\"MntFruits\",\"MntFruits\",\"MntFruits\",\"MntFruits\",\"MntFruits\",\"MntFruits\",\"MntFruits\",\"MntFruits\",\"MntFruits\",\"MntFruits\",\"MntFruits\",\"MntFruits\",\"MntFruits\",\"MntFruits\",\"MntFruits\",\"MntFruits\",\"MntFruits\",\"MntFruits\",\"MntFruits\",\"MntFruits\",\"MntFruits\",\"MntFruits\",\"MntFruits\",\"MntFruits\",\"MntFruits\",\"MntFruits\",\"MntFruits\",\"MntFruits\",\"MntFruits\",\"MntFruits\",\"MntFruits\",\"MntFruits\",\"MntFruits\",\"MntFruits\",\"MntFruits\",\"MntFruits\",\"MntFruits\",\"MntFruits\",\"MntFruits\",\"MntFruits\",\"MntFruits\",\"MntFruits\",\"MntFruits\",\"MntFruits\",\"MntFruits\",\"MntFruits\",\"MntFruits\",\"MntFruits\",\"MntFruits\",\"MntFruits\",\"MntFruits\",\"MntFruits\",\"MntFruits\",\"MntFruits\",\"MntFruits\",\"MntFruits\",\"MntFruits\",\"MntFruits\",\"MntFruits\",\"MntFruits\",\"MntFruits\",\"MntFruits\",\"MntFruits\",\"MntFruits\",\"MntFruits\",\"MntFruits\",\"MntFruits\",\"MntFruits\",\"MntFruits\",\"MntFruits\",\"MntFruits\",\"MntFruits\",\"MntFruits\",\"MntFruits\",\"MntFruits\",\"MntFruits\",\"MntFruits\",\"MntFruits\",\"MntFruits\",\"MntFruits\",\"MntFruits\",\"MntFruits\",\"MntFruits\",\"MntFruits\",\"MntFruits\",\"MntFruits\",\"MntFruits\",\"MntFruits\",\"MntFruits\",\"MntFruits\",\"MntFruits\",\"MntFruits\",\"MntFruits\",\"MntFruits\",\"MntFruits\",\"MntFruits\",\"MntFruits\",\"MntFruits\",\"MntFruits\",\"MntFruits\",\"MntFruits\",\"MntFruits\",\"MntFruits\",\"MntFruits\",\"MntFruits\",\"MntFruits\",\"MntFruits\",\"MntFruits\",\"MntFruits\",\"MntFruits\",\"MntFruits\",\"MntFruits\",\"MntFruits\",\"MntFruits\",\"MntFruits\",\"MntFruits\",\"MntFruits\",\"MntFruits\",\"MntFruits\",\"MntFruits\",\"MntFruits\",\"MntFruits\",\"MntFruits\",\"MntFruits\",\"MntFruits\",\"MntFruits\",\"MntFruits\",\"MntFruits\",\"MntFruits\",\"MntFruits\",\"MntFruits\",\"MntFruits\",\"MntFruits\",\"MntFruits\",\"MntFruits\",\"MntFruits\",\"MntFruits\",\"MntFruits\",\"MntFruits\",\"MntFruits\",\"MntFruits\",\"MntFruits\",\"MntFruits\",\"MntFruits\",\"MntFruits\",\"MntFruits\",\"MntFruits\",\"MntFruits\",\"MntFruits\",\"MntFruits\",\"MntFruits\",\"MntFruits\",\"MntFruits\",\"MntFruits\",\"MntFruits\",\"MntFruits\",\"MntFruits\",\"MntFruits\",\"MntFruits\",\"MntFruits\",\"MntFruits\",\"MntFruits\",\"MntFruits\",\"MntFruits\",\"MntFruits\",\"MntFruits\",\"MntFruits\",\"MntFruits\",\"MntFruits\",\"MntFruits\",\"MntFruits\",\"MntFruits\",\"MntFruits\",\"MntFruits\",\"MntFruits\",\"MntFruits\",\"MntFruits\",\"MntFruits\",\"MntFruits\",\"MntFruits\",\"MntFruits\",\"MntFruits\",\"MntFruits\",\"MntFruits\",\"MntFruits\",\"MntFruits\",\"MntFruits\",\"MntFruits\",\"MntFruits\",\"MntFruits\",\"MntFruits\",\"MntFruits\",\"MntFruits\",\"MntFruits\",\"MntFruits\",\"MntFruits\",\"MntFruits\",\"MntFruits\",\"MntFruits\",\"MntFruits\",\"MntFruits\",\"MntFruits\",\"MntFruits\",\"MntFruits\",\"MntFruits\",\"MntFruits\",\"MntFruits\",\"MntFruits\",\"MntFruits\",\"MntFruits\",\"MntFruits\",\"MntFruits\",\"MntFruits\",\"MntFruits\",\"MntFruits\",\"MntFruits\",\"MntFruits\",\"MntFruits\",\"MntFruits\",\"MntFruits\",\"MntFruits\",\"MntFruits\",\"MntFruits\",\"MntFruits\",\"MntFruits\",\"MntFruits\",\"MntFruits\",\"MntFruits\",\"MntFruits\",\"MntFruits\",\"MntFruits\",\"MntFruits\",\"MntFruits\",\"MntFruits\",\"MntFruits\",\"MntFruits\",\"MntFruits\",\"MntFruits\",\"MntFruits\",\"MntFruits\",\"MntFruits\",\"MntFruits\",\"MntFruits\",\"MntFruits\",\"MntFruits\",\"MntFruits\",\"MntFruits\",\"MntFruits\",\"MntFruits\",\"MntFruits\",\"MntFruits\",\"MntFruits\",\"MntFruits\",\"MntFruits\",\"MntFruits\",\"MntFruits\",\"MntFruits\",\"MntFruits\",\"MntFruits\",\"MntFruits\",\"MntFruits\",\"MntFruits\",\"MntFruits\",\"MntFruits\",\"MntFruits\",\"MntFruits\",\"MntFruits\",\"MntFruits\",\"MntFruits\",\"MntFruits\",\"MntFruits\",\"MntFruits\",\"MntFruits\",\"MntFruits\",\"MntFruits\",\"MntFruits\",\"MntFruits\",\"MntFruits\",\"MntFruits\",\"MntFruits\",\"MntFruits\",\"MntFruits\",\"MntFruits\",\"MntFruits\",\"MntFruits\",\"MntFruits\",\"MntFruits\",\"MntFruits\",\"MntFruits\",\"MntFruits\",\"MntFruits\",\"MntFruits\",\"MntFruits\",\"MntFruits\",\"MntFruits\",\"MntFruits\",\"MntFruits\",\"MntFruits\",\"MntFruits\",\"MntFruits\",\"MntFruits\",\"MntFruits\",\"MntFruits\",\"MntFruits\",\"MntFruits\",\"MntFruits\",\"MntFruits\",\"MntFruits\",\"MntFruits\",\"MntFruits\",\"MntFruits\",\"MntFruits\",\"MntFruits\",\"MntFruits\",\"MntFruits\",\"MntFruits\",\"MntFruits\",\"MntFruits\",\"MntFruits\",\"MntFruits\",\"MntFruits\",\"MntFruits\",\"MntFruits\",\"MntFruits\",\"MntFruits\",\"MntFruits\",\"MntFruits\",\"MntFruits\",\"MntFruits\",\"MntFruits\",\"MntFruits\",\"MntFruits\",\"MntFruits\",\"MntFruits\",\"MntFruits\",\"MntFruits\",\"MntFruits\",\"MntFruits\",\"MntFruits\",\"MntFruits\",\"MntFruits\",\"MntFruits\",\"MntFruits\",\"MntFruits\",\"MntFruits\",\"MntFruits\",\"MntFruits\",\"MntFruits\",\"MntFruits\",\"MntFruits\",\"MntFruits\",\"MntFruits\",\"MntFruits\",\"MntFruits\",\"MntFruits\",\"MntFruits\",\"MntFruits\",\"MntFruits\",\"MntFruits\",\"MntFruits\",\"MntFruits\",\"MntFruits\",\"MntFruits\",\"MntFruits\",\"MntFruits\",\"MntFruits\",\"MntFruits\",\"MntFruits\",\"MntFruits\",\"MntFruits\",\"MntFruits\",\"MntFruits\",\"MntFruits\",\"MntFruits\",\"MntFruits\",\"MntFruits\",\"MntFruits\",\"MntFruits\",\"MntFruits\",\"MntFruits\",\"MntFruits\",\"MntFruits\",\"MntFruits\",\"MntFruits\",\"MntFruits\",\"MntFruits\",\"MntFruits\",\"MntFruits\",\"MntFruits\",\"MntFruits\",\"MntFruits\",\"MntFruits\",\"MntFruits\",\"MntFruits\",\"MntFruits\",\"MntFruits\",\"MntFruits\",\"MntFruits\",\"MntFruits\",\"MntFruits\",\"MntFruits\",\"MntFruits\",\"MntFruits\",\"MntFruits\",\"MntFruits\",\"MntFruits\",\"MntFruits\",\"MntFruits\",\"MntFruits\",\"MntFruits\",\"MntFruits\",\"MntFruits\",\"MntFruits\",\"MntFruits\",\"MntFruits\",\"MntFruits\",\"MntFruits\",\"MntFruits\",\"MntFruits\",\"MntFruits\",\"MntFruits\",\"MntFruits\",\"MntFruits\",\"MntFruits\",\"MntFruits\",\"MntFruits\",\"MntFruits\",\"MntFruits\",\"MntFruits\",\"MntFruits\",\"MntFruits\",\"MntFruits\",\"MntFruits\",\"MntFruits\",\"MntFruits\",\"MntFruits\",\"MntFruits\",\"MntFruits\",\"MntFruits\",\"MntFruits\",\"MntFruits\",\"MntFruits\",\"MntFruits\",\"MntFruits\",\"MntFruits\",\"MntFruits\",\"MntFruits\",\"MntFruits\",\"MntFruits\",\"MntFruits\",\"MntFruits\",\"MntFruits\",\"MntFruits\",\"MntFruits\",\"MntFruits\",\"MntFruits\",\"MntFruits\",\"MntFruits\",\"MntFruits\",\"MntFruits\",\"MntFruits\",\"MntFruits\",\"MntFruits\",\"MntFruits\",\"MntFruits\",\"MntFruits\",\"MntFruits\",\"MntFruits\",\"MntFruits\",\"MntFruits\",\"MntFruits\",\"MntFruits\",\"MntFruits\",\"MntFruits\",\"MntFruits\",\"MntFruits\",\"MntFruits\",\"MntFruits\",\"MntFruits\",\"MntFruits\",\"MntFruits\",\"MntFruits\",\"MntFruits\",\"MntFruits\",\"MntFruits\",\"MntFruits\",\"MntFruits\",\"MntFruits\",\"MntFruits\",\"MntFruits\",\"MntFruits\",\"MntFruits\",\"MntFruits\",\"MntFruits\",\"MntFruits\",\"MntFruits\",\"MntFruits\",\"MntFruits\",\"MntFruits\",\"MntFruits\",\"MntFruits\",\"MntFruits\",\"MntFruits\",\"MntFruits\",\"MntFruits\",\"MntFruits\",\"MntFruits\",\"MntFruits\",\"MntFruits\",\"MntFruits\",\"MntFruits\",\"MntFruits\",\"MntFruits\",\"MntFruits\",\"MntFruits\",\"MntFruits\",\"MntFruits\",\"MntFruits\",\"MntFruits\",\"MntFruits\",\"MntFruits\",\"MntFruits\",\"MntFruits\",\"MntFruits\",\"MntFruits\",\"MntFruits\",\"MntFruits\",\"MntFruits\",\"MntFruits\",\"MntFruits\",\"MntFruits\",\"MntFruits\",\"MntFruits\",\"MntFruits\",\"MntFruits\",\"MntFruits\",\"MntFruits\",\"MntFruits\",\"MntFruits\",\"MntFruits\",\"MntFruits\",\"MntFruits\",\"MntFruits\",\"MntFruits\",\"MntFruits\",\"MntFruits\",\"MntFruits\",\"MntFruits\",\"MntFruits\",\"MntFruits\",\"MntFruits\",\"MntFruits\",\"MntFruits\",\"MntFruits\",\"MntFruits\",\"MntFruits\",\"MntFruits\",\"MntFruits\",\"MntFruits\",\"MntFruits\",\"MntFruits\",\"MntFruits\",\"MntFruits\",\"MntFruits\",\"MntFruits\",\"MntFruits\",\"MntFruits\",\"MntFruits\",\"MntFruits\",\"MntFruits\",\"MntFruits\",\"MntFruits\",\"MntFruits\",\"MntFruits\",\"MntFruits\",\"MntFruits\",\"MntFruits\",\"MntFruits\",\"MntFruits\",\"MntFruits\",\"MntFruits\",\"MntFruits\",\"MntFruits\",\"MntFruits\",\"MntFruits\",\"MntFruits\",\"MntFruits\",\"MntFruits\",\"MntFruits\",\"MntFruits\",\"MntFruits\",\"MntFruits\",\"MntFruits\",\"MntFruits\",\"MntFruits\",\"MntFruits\",\"MntFruits\",\"MntFruits\",\"MntFruits\",\"MntFruits\",\"MntFruits\",\"MntFruits\",\"MntFruits\",\"MntFruits\",\"MntFruits\",\"MntFruits\",\"MntFruits\",\"MntFruits\",\"MntFruits\",\"MntFruits\",\"MntFruits\",\"MntFruits\",\"MntFruits\",\"MntFruits\",\"MntFruits\",\"MntFruits\",\"MntFruits\",\"MntFruits\",\"MntFruits\",\"MntFruits\",\"MntFruits\",\"MntFruits\",\"MntFruits\",\"MntFruits\",\"MntFruits\",\"MntFruits\",\"MntFruits\",\"MntFruits\",\"MntFruits\",\"MntFruits\",\"MntFruits\",\"MntFruits\",\"MntFruits\",\"MntFruits\",\"MntFruits\",\"MntFruits\",\"MntFruits\",\"MntFruits\",\"MntFruits\",\"MntFruits\",\"MntFruits\",\"MntFruits\",\"MntFruits\",\"MntFruits\",\"MntFruits\",\"MntFruits\",\"MntFruits\",\"MntFruits\",\"MntFruits\",\"MntFruits\",\"MntFruits\",\"MntFruits\",\"MntFruits\",\"MntFruits\",\"MntFruits\",\"MntFruits\",\"MntFruits\",\"MntFruits\",\"MntFruits\",\"MntFruits\",\"MntFruits\",\"MntFruits\",\"MntFruits\",\"MntFruits\",\"MntFruits\",\"MntFruits\",\"MntFruits\",\"MntFruits\",\"MntFruits\",\"MntFruits\",\"MntFruits\",\"MntFruits\",\"MntFruits\",\"MntFruits\",\"MntFruits\",\"MntFruits\",\"MntFruits\",\"MntFruits\",\"MntFruits\",\"MntFruits\",\"MntFruits\",\"MntFruits\",\"MntFruits\",\"MntFruits\",\"MntFruits\",\"MntFruits\",\"MntFruits\",\"MntFruits\",\"MntFruits\",\"MntFruits\",\"MntFruits\",\"MntFruits\",\"MntFruits\",\"MntFruits\",\"MntFruits\",\"MntFruits\",\"MntFruits\",\"MntFruits\",\"MntFruits\",\"MntFruits\",\"MntFruits\",\"MntFruits\",\"MntFruits\",\"MntFruits\",\"MntFruits\",\"MntFruits\",\"MntFruits\",\"MntFruits\",\"MntFruits\",\"MntFruits\",\"MntFruits\",\"MntFruits\",\"MntFruits\",\"MntFruits\",\"MntFruits\",\"MntFruits\",\"MntFruits\",\"MntFruits\",\"MntFruits\",\"MntFruits\",\"MntFruits\",\"MntFruits\",\"MntFruits\",\"MntFruits\",\"MntFruits\",\"MntFruits\",\"MntFruits\",\"MntFruits\",\"MntFruits\",\"MntFruits\",\"MntFruits\",\"MntFruits\",\"MntFruits\",\"MntFruits\",\"MntFruits\",\"MntFruits\",\"MntFruits\",\"MntFruits\",\"MntFruits\",\"MntFruits\",\"MntFruits\",\"MntFruits\",\"MntFruits\",\"MntFruits\",\"MntFruits\",\"MntFruits\",\"MntFruits\",\"MntFruits\",\"MntFruits\",\"MntFruits\",\"MntFruits\",\"MntFruits\",\"MntFruits\",\"MntFruits\",\"MntFruits\",\"MntFruits\",\"MntFruits\",\"MntFruits\",\"MntFruits\",\"MntFruits\",\"MntFruits\",\"MntFruits\",\"MntFruits\",\"MntFruits\",\"MntFruits\",\"MntFruits\",\"MntFruits\",\"MntFruits\",\"MntFruits\",\"MntFruits\",\"MntFruits\",\"MntFruits\",\"MntFruits\",\"MntFruits\",\"MntFruits\",\"MntFruits\",\"MntFruits\",\"MntFruits\",\"MntFruits\",\"MntFruits\",\"MntFruits\",\"MntFruits\",\"MntFruits\",\"MntFruits\",\"MntFruits\",\"MntFruits\",\"MntFruits\",\"MntFruits\",\"MntFruits\",\"MntFruits\",\"MntFruits\",\"MntFruits\",\"MntFruits\",\"MntFruits\",\"MntFruits\",\"MntFruits\",\"MntFruits\",\"MntFruits\",\"MntFruits\",\"MntFruits\",\"MntFruits\",\"MntFruits\",\"MntFruits\",\"MntFruits\",\"MntFruits\",\"MntFruits\",\"MntFruits\",\"MntFruits\",\"MntFruits\",\"MntFruits\",\"MntFruits\",\"MntFruits\",\"MntFruits\",\"MntFruits\",\"MntFruits\",\"MntFruits\",\"MntFruits\",\"MntFruits\",\"MntFruits\",\"MntFruits\",\"MntFruits\",\"MntFruits\",\"MntFruits\",\"MntFruits\",\"MntFruits\",\"MntFruits\",\"MntFruits\",\"MntFruits\",\"MntFruits\",\"MntFruits\",\"MntFruits\",\"MntFruits\",\"MntFruits\",\"MntFruits\",\"MntFruits\",\"MntFruits\",\"MntFruits\",\"MntFruits\",\"MntFruits\",\"MntFruits\",\"MntFruits\",\"MntFruits\",\"MntFruits\",\"MntFruits\",\"MntFruits\",\"MntFruits\",\"MntFruits\",\"MntFruits\",\"MntFruits\",\"MntFruits\",\"MntFruits\",\"MntFruits\",\"MntFruits\",\"MntFruits\",\"MntFruits\",\"MntFruits\",\"MntFruits\",\"MntFruits\",\"MntFruits\",\"MntFruits\",\"MntFruits\",\"MntFruits\",\"MntFruits\",\"MntFruits\",\"MntFruits\",\"MntFruits\",\"MntFruits\",\"MntFruits\",\"MntFruits\",\"MntFruits\",\"MntFruits\",\"MntFruits\",\"MntFruits\",\"MntFruits\",\"MntFruits\",\"MntFruits\",\"MntFruits\",\"MntFruits\",\"MntFruits\",\"MntFruits\",\"MntFruits\",\"MntFruits\",\"MntFruits\",\"MntFruits\",\"MntFruits\",\"MntFruits\",\"MntFruits\",\"MntFruits\",\"MntFruits\",\"MntFruits\",\"MntFruits\",\"MntFruits\",\"MntFruits\",\"MntFruits\",\"MntFruits\",\"MntFruits\",\"MntFruits\",\"MntFruits\",\"MntFruits\",\"MntFruits\",\"MntFruits\",\"MntFruits\",\"MntFruits\",\"MntFruits\",\"MntFruits\",\"MntFruits\",\"MntFruits\",\"MntFruits\",\"MntFruits\",\"MntFruits\",\"MntFruits\",\"MntFruits\",\"MntFruits\",\"MntFruits\",\"MntFruits\",\"MntFruits\",\"MntFruits\",\"MntFruits\",\"MntFruits\",\"MntFruits\",\"MntFruits\",\"MntFruits\",\"MntFruits\",\"MntFruits\",\"MntFruits\",\"MntFruits\",\"MntFruits\",\"MntFruits\",\"MntFruits\",\"MntFruits\",\"MntFruits\"],\"index\":[0,1,2,3,4,5,6,7,8,9,10,11,12,13,14,15,16,17,18,19,20,21,22,23,24,25,26,27,28,29,30,31,32,33,34,35,36,37,38,39,40,41,42,43,44,45,46,47,48,49,50,51,52,53,54,55,56,57,58,59,60,61,62,63,64,65,66,67,68,69,70,71,72,73,74,75,76,77,78,79,80,81,82,83,84,85,86,87,88,89,90,91,92,93,94,95,96,97,98,99,100,101,102,103,104,105,106,107,108,109,110,111,112,113,114,115,116,117,118,119,120,121,122,123,124,125,126,127,128,129,130,131,132,133,134,135,136,137,138,139,140,141,142,143,144,145,146,147,148,149,150,151,152,153,154,155,156,157,158,159,160,161,162,163,164,165,166,167,168,169,170,171,172,173,174,175,176,177,178,179,180,181,182,183,184,185,186,187,188,189,190,191,192,193,194,195,196,197,198,199,200,201,202,203,204,205,206,207,208,209,210,211,212,213,214,215,216,217,218,219,220,221,222,223,224,225,226,227,228,229,230,231,232,233,234,235,236,237,238,239,240,241,242,243,244,245,246,247,248,249,250,251,252,253,254,255,256,257,258,259,260,261,262,263,264,265,266,267,268,269,270,271,272,273,274,275,276,277,278,279,280,281,282,283,284,285,286,287,288,289,290,291,292,293,294,295,296,297,298,299,300,301,302,303,304,305,306,307,308,309,310,311,312,313,314,315,316,317,318,319,320,321,322,323,324,325,326,327,328,329,330,331,332,333,334,335,336,337,338,339,340,341,342,343,344,345,346,347,348,349,350,351,352,353,354,355,356,357,358,359,360,361,362,363,364,365,366,367,368,369,370,371,372,373,374,375,376,377,378,379,380,381,382,383,384,385,386,387,388,389,390,391,392,393,394,395,396,397,398,399,400,401,402,403,404,405,406,407,408,409,410,411,412,413,414,415,416,417,418,419,420,421,422,423,424,425,426,427,428,429,430,431,432,433,434,435,436,437,438,439,440,441,442,443,444,445,446,447,448,449,450,451,452,453,454,455,456,457,458,459,460,461,462,463,464,465,466,467,468,469,470,471,472,473,474,475,476,477,478,479,480,481,482,483,484,485,486,487,488,489,490,491,492,493,494,495,496,497,498,499,500,501,502,503,504,505,506,507,508,509,510,511,512,513,514,515,516,517,518,519,520,521,522,523,524,525,526,527,528,529,530,531,532,533,534,535,536,537,538,539,540,541,542,543,544,545,546,547,548,549,550,551,552,553,554,555,556,557,558,559,560,561,562,563,564,565,566,567,568,569,570,571,572,573,574,575,576,577,578,579,580,581,582,583,584,585,586,587,588,589,590,591,592,593,594,595,596,597,598,599,600,601,602,603,604,605,606,607,608,609,610,611,612,613,614,615,616,617,618,619,620,621,622,623,624,625,626,627,628,629,630,631,632,633,634,635,636,637,638,639,640,641,642,643,644,645,646,647,648,649,650,651,652,653,654,655,656,657,658,659,660,661,662,663,664,665,666,667,668,669,670,671,672,673,674,675,676,677,678,679,680,681,682,683,684,685,686,687,688,689,690,691,692,693,694,695,696,697,698,699,700,701,702,703,704,705,706,707,708,709,710,711,712,713,714,715,716,717,718,719,720,721,722,723,724,725,726,727,728,729,730,731,732,733,734,735,736,737,738,739,740,741,742,743,744,745,746,747,748,749,750,751,752,753,754,755,756,757,758,759,760,761,762,763,764,765,766,767,768,769,770,771,772,773,774,775,776,777,778,779,780,781,782,783,784,785,786,787,788,789,790,791,792,793,794,795,796,797,798,799,800,801,802,803,804,805,806,807,808,809,810,811,812,813,814,815,816,817,818,819,820,821,822,823,824,825,826,827,828,829,830,831,832,833,834,835,836,837,838,839,840,841,842,843,844,845,846,847,848,849,850,851,852,853,854,855,856,857,858,859,860,861,862,863,864,865,866,867,868,869,870,871,872,873,874,875,876,877,878,879,880,881,882,883,884,885,886,887,888,889,890,891,892,893,894,895,896,897,898,899,900,901,902,903,904,905,906,907,908,909,910,911,912,913,914,915,916,917,918,919,920,921,922,923,924,925,926,927,928,929,930,931,932,933,934,935,936,937,938,939,940,941,942,943,944,945,946,947,948,949,950,951,952,953,954,955,956,957,958,959,960,961,962,963,964,965,966,967,968,969,970,971,972,973,974,975,976,977,978,979,980,981,982,983,984,985,986,987,988,989,990,991,992,993,994,995,996,997,998,999,1000,1001,1002,1003,1004,1005,1006,1007,1008,1009,1010,1011,1012,1013,1014,1015,1016,1017,1018,1019,1020,1021,1022,1023,1024,1025,1026,1027,1028,1029,1030,1031,1032,1033,1034,1035,1036,1037,1038,1039,1040,1041,1042,1043,1044,1045,1046,1047,1048,1049,1050,1051,1052,1053,1054,1055,1056,1057,1058,1059,1060,1061,1062,1063,1064,1065,1066,1067,1068,1069,1070,1071,1072,1073,1074,1075,1076,1077,1078,1079,1080,1081,1082,1083,1084,1085,1086,1087,1088,1089,1090,1091,1092,1093,1094,1095,1096,1097,1098,1099,1100,1101,1102,1103,1104,1105,1106,1107,1108,1109,1110,1111,1112,1113,1114,1115,1116,1117,1118,1119,1120,1121,1122,1123,1124,1125,1126,1127,1128,1129,1130,1131,1132,1133,1134,1135,1136,1137,1138,1139,1140,1141,1142,1143,1144,1145,1146,1147,1148,1149,1150,1151,1152,1153,1154,1155,1156,1157,1158,1159,1160,1161,1162,1163,1164,1165,1166,1167,1168,1169,1170,1171,1172,1173,1174,1175,1176,1177,1178,1179,1180,1181,1182,1183,1184,1185,1186,1187,1188,1189,1190,1191,1192,1193,1194,1195,1196,1197,1198,1199,1200,1201,1202,1203,1204,1205,1206,1207,1208,1209,1210,1211,1212,1213,1214,1215,1216,1217,1218,1219,1220,1221,1222,1223,1224,1225,1226,1227,1228,1229,1230,1231,1232,1233,1234,1235,1236,1237,1238,1239,1240,1241,1242,1243,1244,1245,1246,1247,1248,1249,1250,1251,1252,1253,1254,1255,1256,1257,1258,1259,1260,1261,1262,1263,1264,1265,1266,1267,1268,1269,1270,1271,1272,1273,1274,1275,1276,1277,1278,1279,1280,1281,1282,1283,1284,1285,1286,1287,1288,1289,1290,1291,1292,1293,1294,1295,1296,1297,1298,1299,1300,1301,1302,1303,1304,1305,1306,1307,1308,1309,1310,1311,1312,1313,1314,1315,1316,1317,1318,1319,1320,1321,1322,1323,1324,1325,1326,1327,1328,1329,1330,1331,1332,1333,1334,1335,1336,1337,1338,1339,1340,1341,1342,1343,1344,1345,1346,1347,1348,1349,1350,1351,1352,1353,1354,1355,1356,1357,1358,1359,1360,1361,1362,1363,1364,1365,1366,1367,1368,1369,1370,1371,1372,1373,1374,1375,1376,1377,1378,1379,1380,1381,1382,1383,1384,1385,1386,1387,1388,1389,1390,1391,1392,1393,1394,1395,1396,1397,1398,1399,1400,1401,1402,1403,1404,1405,1406,1407,1408,1409,1410,1411,1412,1413,1414,1415,1416,1417,1418,1419,1420,1421,1422,1423,1424,1425,1426,1427,1428,1429,1430,1431,1432,1433,1434,1435,1436,1437,1438,1439,1440,1441,1442,1443,1444,1445,1446,1447,1448,1449,1450,1451,1452,1453,1454,1455,1456,1457,1458,1459,1460,1461,1462,1463,1464,1465,1466,1467,1468,1469,1470,1471,1472,1473,1474,1475,1476,1477,1478,1479,1480,1481,1482,1483,1484,1485,1486,1487,1488,1489,1490,1491,1492,1493,1494,1495,1496,1497,1498,1499,1500,1501,1502,1503,1504,1505,1506,1507,1508,1509,1510,1511,1512,1513,1514,1515,1516,1517,1518,1519,1520,1521,1522,1523,1524,1525,1526,1527,1528,1529,1530,1531,1532,1533,1534,1535,1536,1537,1538,1539,1540,1541,1542,1543,1544,1545,1546,1547,1548,1549,1550,1551,1552,1553,1554,1555,1556,1557,1558,1559,1560,1561,1562,1563,1564,1565,1566,1567,1568,1569,1570,1571,1572,1573,1574,1575,1576,1577,1578,1579,1580,1581,1582,1583,1584,1585,1586,1587,1588,1589,1590,1591,1592,1593,1594,1595,1596,1597,1598,1599,1600,1601,1602,1603,1604,1605,1606,1607,1608,1609,1610,1611,1612,1613,1614,1615,1616,1617,1618,1619,1620,1621,1622,1623,1624,1625,1626,1627,1628,1629,1630,1631,1632,1633,1634,1635,1636,1637,1638,1639,1640,1641,1642,1643,1644,1645,1646,1647,1648,1649,1650,1651,1652,1653,1654,1655,1656,1657,1658,1659,1660,1661,1662,1663,1664,1665,1666,1667,1668,1669,1670,1671,1672,1673,1674,1675,1676,1677,1678,1679,1680,1681,1682,1683,1684,1685,1686,1687,1688,1689,1690,1691,1692,1693,1694,1695,1696,1697,1698,1699,1700,1701,1702,1703,1704,1705,1706,1707,1708,1709,1710,1711,1712,1713,1714,1715,1716,1717,1718,1719,1720,1721,1722,1723,1724,1725,1726,1727,1728,1729,1730,1731,1732,1733,1734,1735,1736,1737,1738,1739,1740,1741,1742,1743,1744,1745,1746,1747,1748,1749,1750,1751,1752,1753,1754,1755,1756,1757,1758,1759,1760,1761,1762,1763,1764,1765,1766,1767,1768,1769,1770,1771,1772,1773,1774,1775,1776,1777,1778,1779,1780,1781,1782,1783,1784,1785,1786,1787,1788,1789,1790,1791,1792,1793,1794,1795,1796,1797,1798,1799,1800,1801,1802,1803,1804,1805,1806,1807,1808,1809,1810,1811,1812,1813,1814,1815,1816,1817,1818,1819,1820,1821,1822,1823,1824,1825,1826,1827,1828,1829,1830,1831,1832,1833,1834,1835,1836,1837,1838,1839,1840,1841,1842,1843,1844,1845,1846,1847,1848,1849,1850,1851,1852,1853,1854,1855,1856,1857,1858,1859,1860,1861,1862,1863,1864,1865,1866,1867,1868,1869,1870,1871,1872,1873,1874,1875,1876,1877,1878,1879,1880,1881,1882,1883,1884,1885,1886,1887,1888,1889,1890,1891,1892,1893,1894,1895,1896,1897,1898,1899,1900,1901,1902,1903,1904,1905,1906,1907,1908,1909,1910,1911,1912,1913,1914,1915,1916,1917,1918,1919,1920,1921,1922,1923,1924,1925,1926,1927,1928,1929,1930,1931,1932,1933,1934,1935,1936,1937,1938,1939,1940,1941,1942,1943,1944,1945,1946,1947,1948,1949,1950,1951,1952,1953,1954,1955,1956,1957,1958,1959,1960,1961,1962,1963,1964,1965,1966,1967,1968,1969,1970,1971,1972,1973,1974,1975,1976,1977,1978,1979,1980,1981,1982,1983,1984,1985,1986,1987,1988,1989,1990,1991,1992,1993,1994,1995,1996,1997,1998,1999,2000,2001,2002,2003,2004,2005,2006,2007,2008,2009,2010,2011,2012,2013,2014,2015,2016,2017,2018,2019,2020,2021,2022,2023,2024,2025,2026,2027,2028,2029,2030,2031,2032,2033,2034,2035,2036,2037,2038,2039,2040,2041,2042,2043,2044,2045,2046,2047,2048,2049,2050,2051,2052,2053,2054,2055,2056,2057,2058,2059,2060,2061,2062,2063,2064,2065,2066,2067,2068,2069,2070,2071,2072,2073,2074,2075,2076,2077,2078,2079,2080,2081,2082,2083,2084,2085,2086,2087,2088,2089,2090,2091,2092,2093,2094,2095,2096,2097,2098,2099,2100,2101,2102,2103,2104,2105,2106,2107,2108,2109,2110,2111,2112,2113,2114,2115,2116,2117,2118,2119,2120,2121,2122,2123,2124,2125,2126,2127,2128,2129,2130,2131,2132,2133,2134,2135,2136,2137,2138,2139,2140,2141,2142,2143,2144,2145,2146,2147,2148,2149,2150,2151,2152,2153,2154,2155,2156,2157,2158,2159,2160,2161,2162,2163,2164,2165,2166,2167,2168,2169,2170,2171,2172,2173,2174,2175,2176,2177,2178,2179,2180,2181,2182,2183,2184,2185,2186,2187,2188,2189,2190,2191,2192,2193,2194,2195,2196,2197,2198,2199,2200,2201,2202,2203,2204,2205,2206,2207,2208,2209,2210,2211,2212,2213,2214,2215,2216,2217,2218,2219,2220,2221,2222,2223,2224,2225,2226,2227,2228,2229,2230,2231,2232,2233,2234,2235,2236,2237,2238,2239],\"value\":[10,5,0,0,47,12,2,2,35,1,1,3,0,0,0,11,0,7,9,7,0,11,35,7,0,53,3,53,0,80,38,0,0,0,0,17,3,194,20,0,14,3,0,83,2,23,47,31,9,10,133,4,0,12,19,30,0,0,3,11,74,70,3,21,5,61,1,6,2,0,35,27,14,1,90,65,56,112,48,16,0,64,5,142,85,15,0,0,32,9,11,86,14,61,137,3,0,43,1,3,77,0,23,38,14,23,9,61,131,8,129,36,1,66,35,1,29,4,36,7,4,2,5,80,0,3,2,0,4,2,59,21,61,20,15,0,3,86,13,7,7,21,9,4,3,44,0,1,0,2,81,124,61,48,14,0,6,4,0,48,28,5,0,0,0,23,0,16,15,12,17,6,3,2,0,1,11,13,103,3,47,7,3,2,27,65,13,9,19,4,19,10,29,0,44,72,17,0,7,1,60,5,0,20,3,5,10,3,10,38,0,1,129,88,0,105,0,9,14,129,4,55,0,13,19,0,2,190,14,7,10,8,144,1,4,83,13,53,15,44,105,39,6,3,1,41,0,25,117,84,54,3,12,6,58,22,9,65,5,2,3,42,6,137,24,7,12,59,68,87,164,4,16,2,3,4,0,10,114,36,4,23,7,12,3,34,6,17,68,12,40,199,3,35,1,2,1,0,33,11,16,3,1,9,27,21,2,9,6,4,2,45,0,68,19,168,9,79,0,7,99,3,2,1,0,0,51,0,61,21,50,63,0,9,86,3,2,0,7,2,14,20,4,15,9,24,0,38,86,7,76,11,172,2,37,6,2,5,0,104,0,8,5,7,0,111,48,0,6,0,1,50,69,97,115,3,4,1,27,3,3,36,122,0,107,100,1,0,10,34,0,0,0,5,6,51,54,3,23,76,11,0,0,0,10,10,26,15,0,6,71,22,0,75,61,3,89,5,1,63,28,0,0,8,34,1,6,1,16,61,142,2,1,33,120,47,2,2,12,0,120,0,4,1,5,16,17,3,9,1,4,30,2,7,5,0,11,38,0,1,54,53,1,0,44,2,4,4,4,25,0,40,17,25,74,18,69,4,138,1,12,33,28,4,4,1,58,2,1,0,38,97,2,4,1,64,73,1,0,7,1,4,0,0,1,12,9,3,12,14,7,12,33,0,3,35,17,55,160,6,0,29,108,0,7,5,1,4,50,152,10,24,12,22,106,1,0,7,1,178,3,0,21,11,124,1,134,34,0,88,0,20,29,25,0,38,0,1,5,0,0,38,1,199,51,1,20,1,0,4,44,0,31,28,0,23,138,1,4,24,5,0,0,0,42,60,21,0,16,127,3,0,12,3,3,10,93,10,8,42,0,2,10,117,0,2,16,153,12,6,34,17,46,0,43,0,12,107,30,18,2,13,21,5,3,59,24,4,0,1,3,4,25,27,111,10,0,3,66,38,153,1,12,59,0,12,11,4,21,70,112,1,36,0,23,12,3,10,193,2,0,9,3,7,5,4,143,0,15,6,6,0,4,26,53,19,33,8,8,15,12,61,0,0,22,72,0,6,162,62,18,42,8,43,60,61,47,161,13,4,1,28,34,1,0,0,108,11,3,7,1,11,31,0,2,21,21,26,6,43,35,80,3,25,0,8,3,0,2,8,3,1,51,9,178,17,23,102,1,8,185,8,0,134,5,24,1,16,1,0,36,91,19,0,71,0,1,0,1,2,35,21,10,3,21,161,12,5,3,72,3,50,112,12,112,35,4,2,17,1,14,161,8,0,1,0,36,0,44,1,197,10,4,6,17,0,96,12,17,1,3,0,16,10,15,0,5,24,80,155,1,1,9,2,37,19,3,2,1,15,37,17,39,23,59,12,17,40,106,49,24,66,7,1,9,2,6,5,1,2,7,44,12,114,0,0,9,11,19,5,0,22,0,35,111,4,6,3,2,0,17,1,2,93,83,38,0,1,0,26,0,0,17,1,2,28,7,67,1,24,10,2,0,15,15,29,81,7,84,4,47,4,27,3,42,6,0,19,0,6,4,1,0,22,49,5,3,26,20,0,0,127,28,35,172,19,6,129,2,4,0,2,45,7,22,25,55,0,32,23,23,0,181,2,64,85,26,26,0,12,32,19,12,91,0,27,31,92,10,0,3,46,155,0,8,0,2,32,8,24,11,29,12,114,4,7,82,22,8,1,10,2,2,22,99,5,43,1,35,0,54,2,7,7,0,0,5,134,72,3,0,2,5,33,23,10,24,27,0,11,0,1,3,89,6,0,4,33,30,8,23,4,6,17,1,35,3,23,138,6,0,47,0,5,26,1,0,115,1,0,0,53,0,3,0,100,9,151,96,5,12,0,7,1,0,70,4,59,3,129,0,6,7,0,4,2,66,7,98,6,5,8,8,1,2,12,5,0,1,0,126,12,13,1,10,2,8,0,26,1,1,2,4,0,8,107,7,27,0,0,0,3,4,7,43,0,51,50,1,76,1,5,120,3,16,1,24,17,0,9,12,17,0,12,1,0,6,108,0,0,80,7,12,0,6,0,2,0,58,88,12,0,1,38,161,7,40,8,19,18,1,31,12,133,0,2,0,14,22,3,57,4,4,154,47,12,4,4,3,4,30,0,4,10,0,50,4,0,168,76,1,7,0,4,120,2,27,3,0,0,17,35,10,6,0,21,37,7,0,0,0,102,50,183,2,8,7,1,21,74,0,3,4,28,90,120,3,6,7,0,0,10,0,3,7,5,6,14,33,2,0,4,0,2,0,1,2,122,2,3,35,3,24,92,51,43,72,36,70,57,25,8,15,13,0,70,9,17,2,0,115,10,21,4,1,64,0,108,2,50,149,3,0,10,0,4,0,5,19,4,14,102,24,15,39,43,51,31,42,9,0,16,0,15,0,0,0,8,48,73,8,107,12,44,32,2,3,73,1,73,2,0,35,12,2,56,1,0,0,12,0,10,7,107,140,138,178,189,6,10,1,8,0,101,24,4,49,0,2,0,6,5,11,2,0,0,22,2,0,168,0,80,50,0,48,22,13,34,26,7,3,1,3,162,5,0,151,0,51,80,0,6,4,3,8,4,66,1,19,11,19,28,0,19,1,2,47,1,13,7,98,21,0,0,26,0,4,1,4,0,2,3,13,12,0,16,7,45,48,30,4,7,0,151,42,26,1,8,20,1,0,1,11,13,42,0,30,2,80,6,16,172,48,3,35,3,114,2,18,107,2,0,7,55,3,28,0,84,79,23,6,53,0,0,20,80,15,4,0,17,10,162,0,35,0,0,42,73,0,0,0,27,0,0,0,32,5,5,0,35,0,33,0,48,163,1,86,11,0,6,44,3,4,22,73,30,0,1,5,142,130,17,28,26,6,12,7,5,153,61,0,5,51,5,2,2,0,1,3,44,16,132,17,4,0,159,0,42,19,43,2,0,63,4,15,0,28,16,105,1,10,3,31,6,4,2,1,15,1,0,9,3,0,5,5,11,183,5,3,58,63,0,3,35,8,3,0,104,17,51,93,26,0,102,7,3,11,7,28,0,100,1,7,20,107,0,18,129,6,44,7,2,19,0,57,21,11,0,26,4,33,1,15,105,0,13,7,8,0,0,80,22,21,137,32,17,1,8,17,0,76,0,58,32,1,71,12,1,1,3,0,184,8,0,6,4,14,2,0,0,28,36,0,1,93,4,2,12,3,35,0,3,15,4,0,2,5,6,30,0,0,0,83,1,2,126,9,129,2,134,1,0,15,16,19,2,97,3,3,0,8,37,0,35,25,0,6,10,4,14,0,0,26,0,10,0,4,2,1,0,0,60,0,1,3,7,28,80,4,17,0,3,16,4,0,0,53,2,0,0,76,172,0,19,0,33,1,1,98,6,5,71,0,15,23,62,28,17,7,1,42,71,2,54,3,8,43,0,1,0,2,0,34,0,0,4,14,13,7,40,6,8,10,3,14,5,0,126,0,134,12,0,7,44,5,76,2,53,1,40,22,53,99,28,3,138,0,46,0,0,86,0,31,22,3,3,80,42,147,1,44,21,25,1,4,1,15,8,17,10,16,2,4,26,0,61,84,71,20,0,159,48,138,0,1,2,0,2,172,8,0,4,0,185,3,26,16,6,42,64,147,1,16,28,1,2,132,0,4,26,61,0,8,0,0,21,47,2,5,0,14,81,9,9,0,1,0,26,3,2,3,0,14,5,76,3,56,2,0,64,9,59,9,1,53,108,15,104,33,28,23,54,0,153,3,6,2,0,61,4,1,194,2,169,32,106,29,8,4,45,2,138,4,1,3,16,3,3,174,42,35,34,2,1,0,7,142,0,24,10,4,5,4,0,89,60,15,0,20,25,72,19,21,48,10,102,4,15,6,0,0,6,81,123,1,28,18,1,0,1,148,0,81,17,114,16,32,8,14,0,50,15,11,19,0,9,6,11,16,0,25,105,17,2,0,2,5,3,152,27,17,4,0,7,2,148,20,0,12,115,183,0,6,11,16,147,68,0,1,18,7,1,28,46,63,15,81,0,50,33,19,0,0,69,123,7,1,4,2,18,3,26,0,0,80,5,0,5,2,2,5,0,60,8,91,1,9,4,4,66,12,7,0,12,28,91,0,4,0,0,6,9,1,0,35,7,144,45,6,0,1,13,83,14,138,28,0,23,41,1,2,71,2,19,5,11,0,0,40,75,21,64,0,1,19,7,0,169,6,23,0,82,0,4,17,54,13,1,26,16,7,32,162,73,10,6,1,12,0,1,4,29,0,3,67,0,5,5,4,83,96,67,8,7,4,21,80,11,193,17,0,129,0,0,0,0,8,0,0,6,2,77,8,107,1,0,0,12,21,18,3,2,19,40,161,5,1,1,0,3,1,0,23,4,1,3,10,19,1,5,22,9,0,14,0,30,8,45,43,0,53,11,80,2,15,24,2,1,31,4,166,37,0,46,20,6,21,8,35,137,98,194,28,5,5,0,0,3,28,0,0,1,33,19,91,133,92,2,0,6,0,2,1,4,2,22,1,114,4,14,3,1,5,3,9,2,1,8,10,32]},\"selected\":{\"id\":\"1425\"},\"selection_policy\":{\"id\":\"1443\"}},\"id\":\"1424\",\"type\":\"ColumnDataSource\"},{\"attributes\":{\"label\":{\"value\":\"MntWines\"},\"renderers\":[{\"id\":\"1409\"}]},\"id\":\"1422\",\"type\":\"LegendItem\"},{\"attributes\":{\"overlay\":{\"id\":\"1389\"}},\"id\":\"1387\",\"type\":\"BoxZoomTool\"},{\"attributes\":{\"line_color\":\"#30a2da\",\"line_width\":2,\"x\":{\"field\":\"index\"},\"y\":{\"field\":\"value\"}},\"id\":\"1423\",\"type\":\"Line\"},{\"attributes\":{\"line_color\":\"#fc4f30\",\"line_width\":2,\"x\":{\"field\":\"index\"},\"y\":{\"field\":\"value\"}},\"id\":\"1445\",\"type\":\"Line\"},{\"attributes\":{\"line_alpha\":0.1,\"line_color\":\"#6d904f\",\"line_width\":2,\"x\":{\"field\":\"index\"},\"y\":{\"field\":\"value\"}},\"id\":\"1474\",\"type\":\"Line\"},{\"attributes\":{\"line_alpha\":0.1,\"line_color\":\"#8b8b8b\",\"line_width\":2,\"x\":{\"field\":\"index\"},\"y\":{\"field\":\"value\"}},\"id\":\"1500\",\"type\":\"Line\"},{\"attributes\":{\"data\":{\"Variable\":[\"MntSweetProducts\",\"MntSweetProducts\",\"MntSweetProducts\",\"MntSweetProducts\",\"MntSweetProducts\",\"MntSweetProducts\",\"MntSweetProducts\",\"MntSweetProducts\",\"MntSweetProducts\",\"MntSweetProducts\",\"MntSweetProducts\",\"MntSweetProducts\",\"MntSweetProducts\",\"MntSweetProducts\",\"MntSweetProducts\",\"MntSweetProducts\",\"MntSweetProducts\",\"MntSweetProducts\",\"MntSweetProducts\",\"MntSweetProducts\",\"MntSweetProducts\",\"MntSweetProducts\",\"MntSweetProducts\",\"MntSweetProducts\",\"MntSweetProducts\",\"MntSweetProducts\",\"MntSweetProducts\",\"MntSweetProducts\",\"MntSweetProducts\",\"MntSweetProducts\",\"MntSweetProducts\",\"MntSweetProducts\",\"MntSweetProducts\",\"MntSweetProducts\",\"MntSweetProducts\",\"MntSweetProducts\",\"MntSweetProducts\",\"MntSweetProducts\",\"MntSweetProducts\",\"MntSweetProducts\",\"MntSweetProducts\",\"MntSweetProducts\",\"MntSweetProducts\",\"MntSweetProducts\",\"MntSweetProducts\",\"MntSweetProducts\",\"MntSweetProducts\",\"MntSweetProducts\",\"MntSweetProducts\",\"MntSweetProducts\",\"MntSweetProducts\",\"MntSweetProducts\",\"MntSweetProducts\",\"MntSweetProducts\",\"MntSweetProducts\",\"MntSweetProducts\",\"MntSweetProducts\",\"MntSweetProducts\",\"MntSweetProducts\",\"MntSweetProducts\",\"MntSweetProducts\",\"MntSweetProducts\",\"MntSweetProducts\",\"MntSweetProducts\",\"MntSweetProducts\",\"MntSweetProducts\",\"MntSweetProducts\",\"MntSweetProducts\",\"MntSweetProducts\",\"MntSweetProducts\",\"MntSweetProducts\",\"MntSweetProducts\",\"MntSweetProducts\",\"MntSweetProducts\",\"MntSweetProducts\",\"MntSweetProducts\",\"MntSweetProducts\",\"MntSweetProducts\",\"MntSweetProducts\",\"MntSweetProducts\",\"MntSweetProducts\",\"MntSweetProducts\",\"MntSweetProducts\",\"MntSweetProducts\",\"MntSweetProducts\",\"MntSweetProducts\",\"MntSweetProducts\",\"MntSweetProducts\",\"MntSweetProducts\",\"MntSweetProducts\",\"MntSweetProducts\",\"MntSweetProducts\",\"MntSweetProducts\",\"MntSweetProducts\",\"MntSweetProducts\",\"MntSweetProducts\",\"MntSweetProducts\",\"MntSweetProducts\",\"MntSweetProducts\",\"MntSweetProducts\",\"MntSweetProducts\",\"MntSweetProducts\",\"MntSweetProducts\",\"MntSweetProducts\",\"MntSweetProducts\",\"MntSweetProducts\",\"MntSweetProducts\",\"MntSweetProducts\",\"MntSweetProducts\",\"MntSweetProducts\",\"MntSweetProducts\",\"MntSweetProducts\",\"MntSweetProducts\",\"MntSweetProducts\",\"MntSweetProducts\",\"MntSweetProducts\",\"MntSweetProducts\",\"MntSweetProducts\",\"MntSweetProducts\",\"MntSweetProducts\",\"MntSweetProducts\",\"MntSweetProducts\",\"MntSweetProducts\",\"MntSweetProducts\",\"MntSweetProducts\",\"MntSweetProducts\",\"MntSweetProducts\",\"MntSweetProducts\",\"MntSweetProducts\",\"MntSweetProducts\",\"MntSweetProducts\",\"MntSweetProducts\",\"MntSweetProducts\",\"MntSweetProducts\",\"MntSweetProducts\",\"MntSweetProducts\",\"MntSweetProducts\",\"MntSweetProducts\",\"MntSweetProducts\",\"MntSweetProducts\",\"MntSweetProducts\",\"MntSweetProducts\",\"MntSweetProducts\",\"MntSweetProducts\",\"MntSweetProducts\",\"MntSweetProducts\",\"MntSweetProducts\",\"MntSweetProducts\",\"MntSweetProducts\",\"MntSweetProducts\",\"MntSweetProducts\",\"MntSweetProducts\",\"MntSweetProducts\",\"MntSweetProducts\",\"MntSweetProducts\",\"MntSweetProducts\",\"MntSweetProducts\",\"MntSweetProducts\",\"MntSweetProducts\",\"MntSweetProducts\",\"MntSweetProducts\",\"MntSweetProducts\",\"MntSweetProducts\",\"MntSweetProducts\",\"MntSweetProducts\",\"MntSweetProducts\",\"MntSweetProducts\",\"MntSweetProducts\",\"MntSweetProducts\",\"MntSweetProducts\",\"MntSweetProducts\",\"MntSweetProducts\",\"MntSweetProducts\",\"MntSweetProducts\",\"MntSweetProducts\",\"MntSweetProducts\",\"MntSweetProducts\",\"MntSweetProducts\",\"MntSweetProducts\",\"MntSweetProducts\",\"MntSweetProducts\",\"MntSweetProducts\",\"MntSweetProducts\",\"MntSweetProducts\",\"MntSweetProducts\",\"MntSweetProducts\",\"MntSweetProducts\",\"MntSweetProducts\",\"MntSweetProducts\",\"MntSweetProducts\",\"MntSweetProducts\",\"MntSweetProducts\",\"MntSweetProducts\",\"MntSweetProducts\",\"MntSweetProducts\",\"MntSweetProducts\",\"MntSweetProducts\",\"MntSweetProducts\",\"MntSweetProducts\",\"MntSweetProducts\",\"MntSweetProducts\",\"MntSweetProducts\",\"MntSweetProducts\",\"MntSweetProducts\",\"MntSweetProducts\",\"MntSweetProducts\",\"MntSweetProducts\",\"MntSweetProducts\",\"MntSweetProducts\",\"MntSweetProducts\",\"MntSweetProducts\",\"MntSweetProducts\",\"MntSweetProducts\",\"MntSweetProducts\",\"MntSweetProducts\",\"MntSweetProducts\",\"MntSweetProducts\",\"MntSweetProducts\",\"MntSweetProducts\",\"MntSweetProducts\",\"MntSweetProducts\",\"MntSweetProducts\",\"MntSweetProducts\",\"MntSweetProducts\",\"MntSweetProducts\",\"MntSweetProducts\",\"MntSweetProducts\",\"MntSweetProducts\",\"MntSweetProducts\",\"MntSweetProducts\",\"MntSweetProducts\",\"MntSweetProducts\",\"MntSweetProducts\",\"MntSweetProducts\",\"MntSweetProducts\",\"MntSweetProducts\",\"MntSweetProducts\",\"MntSweetProducts\",\"MntSweetProducts\",\"MntSweetProducts\",\"MntSweetProducts\",\"MntSweetProducts\",\"MntSweetProducts\",\"MntSweetProducts\",\"MntSweetProducts\",\"MntSweetProducts\",\"MntSweetProducts\",\"MntSweetProducts\",\"MntSweetProducts\",\"MntSweetProducts\",\"MntSweetProducts\",\"MntSweetProducts\",\"MntSweetProducts\",\"MntSweetProducts\",\"MntSweetProducts\",\"MntSweetProducts\",\"MntSweetProducts\",\"MntSweetProducts\",\"MntSweetProducts\",\"MntSweetProducts\",\"MntSweetProducts\",\"MntSweetProducts\",\"MntSweetProducts\",\"MntSweetProducts\",\"MntSweetProducts\",\"MntSweetProducts\",\"MntSweetProducts\",\"MntSweetProducts\",\"MntSweetProducts\",\"MntSweetProducts\",\"MntSweetProducts\",\"MntSweetProducts\",\"MntSweetProducts\",\"MntSweetProducts\",\"MntSweetProducts\",\"MntSweetProducts\",\"MntSweetProducts\",\"MntSweetProducts\",\"MntSweetProducts\",\"MntSweetProducts\",\"MntSweetProducts\",\"MntSweetProducts\",\"MntSweetProducts\",\"MntSweetProducts\",\"MntSweetProducts\",\"MntSweetProducts\",\"MntSweetProducts\",\"MntSweetProducts\",\"MntSweetProducts\",\"MntSweetProducts\",\"MntSweetProducts\",\"MntSweetProducts\",\"MntSweetProducts\",\"MntSweetProducts\",\"MntSweetProducts\",\"MntSweetProducts\",\"MntSweetProducts\",\"MntSweetProducts\",\"MntSweetProducts\",\"MntSweetProducts\",\"MntSweetProducts\",\"MntSweetProducts\",\"MntSweetProducts\",\"MntSweetProducts\",\"MntSweetProducts\",\"MntSweetProducts\",\"MntSweetProducts\",\"MntSweetProducts\",\"MntSweetProducts\",\"MntSweetProducts\",\"MntSweetProducts\",\"MntSweetProducts\",\"MntSweetProducts\",\"MntSweetProducts\",\"MntSweetProducts\",\"MntSweetProducts\",\"MntSweetProducts\",\"MntSweetProducts\",\"MntSweetProducts\",\"MntSweetProducts\",\"MntSweetProducts\",\"MntSweetProducts\",\"MntSweetProducts\",\"MntSweetProducts\",\"MntSweetProducts\",\"MntSweetProducts\",\"MntSweetProducts\",\"MntSweetProducts\",\"MntSweetProducts\",\"MntSweetProducts\",\"MntSweetProducts\",\"MntSweetProducts\",\"MntSweetProducts\",\"MntSweetProducts\",\"MntSweetProducts\",\"MntSweetProducts\",\"MntSweetProducts\",\"MntSweetProducts\",\"MntSweetProducts\",\"MntSweetProducts\",\"MntSweetProducts\",\"MntSweetProducts\",\"MntSweetProducts\",\"MntSweetProducts\",\"MntSweetProducts\",\"MntSweetProducts\",\"MntSweetProducts\",\"MntSweetProducts\",\"MntSweetProducts\",\"MntSweetProducts\",\"MntSweetProducts\",\"MntSweetProducts\",\"MntSweetProducts\",\"MntSweetProducts\",\"MntSweetProducts\",\"MntSweetProducts\",\"MntSweetProducts\",\"MntSweetProducts\",\"MntSweetProducts\",\"MntSweetProducts\",\"MntSweetProducts\",\"MntSweetProducts\",\"MntSweetProducts\",\"MntSweetProducts\",\"MntSweetProducts\",\"MntSweetProducts\",\"MntSweetProducts\",\"MntSweetProducts\",\"MntSweetProducts\",\"MntSweetProducts\",\"MntSweetProducts\",\"MntSweetProducts\",\"MntSweetProducts\",\"MntSweetProducts\",\"MntSweetProducts\",\"MntSweetProducts\",\"MntSweetProducts\",\"MntSweetProducts\",\"MntSweetProducts\",\"MntSweetProducts\",\"MntSweetProducts\",\"MntSweetProducts\",\"MntSweetProducts\",\"MntSweetProducts\",\"MntSweetProducts\",\"MntSweetProducts\",\"MntSweetProducts\",\"MntSweetProducts\",\"MntSweetProducts\",\"MntSweetProducts\",\"MntSweetProducts\",\"MntSweetProducts\",\"MntSweetProducts\",\"MntSweetProducts\",\"MntSweetProducts\",\"MntSweetProducts\",\"MntSweetProducts\",\"MntSweetProducts\",\"MntSweetProducts\",\"MntSweetProducts\",\"MntSweetProducts\",\"MntSweetProducts\",\"MntSweetProducts\",\"MntSweetProducts\",\"MntSweetProducts\",\"MntSweetProducts\",\"MntSweetProducts\",\"MntSweetProducts\",\"MntSweetProducts\",\"MntSweetProducts\",\"MntSweetProducts\",\"MntSweetProducts\",\"MntSweetProducts\",\"MntSweetProducts\",\"MntSweetProducts\",\"MntSweetProducts\",\"MntSweetProducts\",\"MntSweetProducts\",\"MntSweetProducts\",\"MntSweetProducts\",\"MntSweetProducts\",\"MntSweetProducts\",\"MntSweetProducts\",\"MntSweetProducts\",\"MntSweetProducts\",\"MntSweetProducts\",\"MntSweetProducts\",\"MntSweetProducts\",\"MntSweetProducts\",\"MntSweetProducts\",\"MntSweetProducts\",\"MntSweetProducts\",\"MntSweetProducts\",\"MntSweetProducts\",\"MntSweetProducts\",\"MntSweetProducts\",\"MntSweetProducts\",\"MntSweetProducts\",\"MntSweetProducts\",\"MntSweetProducts\",\"MntSweetProducts\",\"MntSweetProducts\",\"MntSweetProducts\",\"MntSweetProducts\",\"MntSweetProducts\",\"MntSweetProducts\",\"MntSweetProducts\",\"MntSweetProducts\",\"MntSweetProducts\",\"MntSweetProducts\",\"MntSweetProducts\",\"MntSweetProducts\",\"MntSweetProducts\",\"MntSweetProducts\",\"MntSweetProducts\",\"MntSweetProducts\",\"MntSweetProducts\",\"MntSweetProducts\",\"MntSweetProducts\",\"MntSweetProducts\",\"MntSweetProducts\",\"MntSweetProducts\",\"MntSweetProducts\",\"MntSweetProducts\",\"MntSweetProducts\",\"MntSweetProducts\",\"MntSweetProducts\",\"MntSweetProducts\",\"MntSweetProducts\",\"MntSweetProducts\",\"MntSweetProducts\",\"MntSweetProducts\",\"MntSweetProducts\",\"MntSweetProducts\",\"MntSweetProducts\",\"MntSweetProducts\",\"MntSweetProducts\",\"MntSweetProducts\",\"MntSweetProducts\",\"MntSweetProducts\",\"MntSweetProducts\",\"MntSweetProducts\",\"MntSweetProducts\",\"MntSweetProducts\",\"MntSweetProducts\",\"MntSweetProducts\",\"MntSweetProducts\",\"MntSweetProducts\",\"MntSweetProducts\",\"MntSweetProducts\",\"MntSweetProducts\",\"MntSweetProducts\",\"MntSweetProducts\",\"MntSweetProducts\",\"MntSweetProducts\",\"MntSweetProducts\",\"MntSweetProducts\",\"MntSweetProducts\",\"MntSweetProducts\",\"MntSweetProducts\",\"MntSweetProducts\",\"MntSweetProducts\",\"MntSweetProducts\",\"MntSweetProducts\",\"MntSweetProducts\",\"MntSweetProducts\",\"MntSweetProducts\",\"MntSweetProducts\",\"MntSweetProducts\",\"MntSweetProducts\",\"MntSweetProducts\",\"MntSweetProducts\",\"MntSweetProducts\",\"MntSweetProducts\",\"MntSweetProducts\",\"MntSweetProducts\",\"MntSweetProducts\",\"MntSweetProducts\",\"MntSweetProducts\",\"MntSweetProducts\",\"MntSweetProducts\",\"MntSweetProducts\",\"MntSweetProducts\",\"MntSweetProducts\",\"MntSweetProducts\",\"MntSweetProducts\",\"MntSweetProducts\",\"MntSweetProducts\",\"MntSweetProducts\",\"MntSweetProducts\",\"MntSweetProducts\",\"MntSweetProducts\",\"MntSweetProducts\",\"MntSweetProducts\",\"MntSweetProducts\",\"MntSweetProducts\",\"MntSweetProducts\",\"MntSweetProducts\",\"MntSweetProducts\",\"MntSweetProducts\",\"MntSweetProducts\",\"MntSweetProducts\",\"MntSweetProducts\",\"MntSweetProducts\",\"MntSweetProducts\",\"MntSweetProducts\",\"MntSweetProducts\",\"MntSweetProducts\",\"MntSweetProducts\",\"MntSweetProducts\",\"MntSweetProducts\",\"MntSweetProducts\",\"MntSweetProducts\",\"MntSweetProducts\",\"MntSweetProducts\",\"MntSweetProducts\",\"MntSweetProducts\",\"MntSweetProducts\",\"MntSweetProducts\",\"MntSweetProducts\",\"MntSweetProducts\",\"MntSweetProducts\",\"MntSweetProducts\",\"MntSweetProducts\",\"MntSweetProducts\",\"MntSweetProducts\",\"MntSweetProducts\",\"MntSweetProducts\",\"MntSweetProducts\",\"MntSweetProducts\",\"MntSweetProducts\",\"MntSweetProducts\",\"MntSweetProducts\",\"MntSweetProducts\",\"MntSweetProducts\",\"MntSweetProducts\",\"MntSweetProducts\",\"MntSweetProducts\",\"MntSweetProducts\",\"MntSweetProducts\",\"MntSweetProducts\",\"MntSweetProducts\",\"MntSweetProducts\",\"MntSweetProducts\",\"MntSweetProducts\",\"MntSweetProducts\",\"MntSweetProducts\",\"MntSweetProducts\",\"MntSweetProducts\",\"MntSweetProducts\",\"MntSweetProducts\",\"MntSweetProducts\",\"MntSweetProducts\",\"MntSweetProducts\",\"MntSweetProducts\",\"MntSweetProducts\",\"MntSweetProducts\",\"MntSweetProducts\",\"MntSweetProducts\",\"MntSweetProducts\",\"MntSweetProducts\",\"MntSweetProducts\",\"MntSweetProducts\",\"MntSweetProducts\",\"MntSweetProducts\",\"MntSweetProducts\",\"MntSweetProducts\",\"MntSweetProducts\",\"MntSweetProducts\",\"MntSweetProducts\",\"MntSweetProducts\",\"MntSweetProducts\",\"MntSweetProducts\",\"MntSweetProducts\",\"MntSweetProducts\",\"MntSweetProducts\",\"MntSweetProducts\",\"MntSweetProducts\",\"MntSweetProducts\",\"MntSweetProducts\",\"MntSweetProducts\",\"MntSweetProducts\",\"MntSweetProducts\",\"MntSweetProducts\",\"MntSweetProducts\",\"MntSweetProducts\",\"MntSweetProducts\",\"MntSweetProducts\",\"MntSweetProducts\",\"MntSweetProducts\",\"MntSweetProducts\",\"MntSweetProducts\",\"MntSweetProducts\",\"MntSweetProducts\",\"MntSweetProducts\",\"MntSweetProducts\",\"MntSweetProducts\",\"MntSweetProducts\",\"MntSweetProducts\",\"MntSweetProducts\",\"MntSweetProducts\",\"MntSweetProducts\",\"MntSweetProducts\",\"MntSweetProducts\",\"MntSweetProducts\",\"MntSweetProducts\",\"MntSweetProducts\",\"MntSweetProducts\",\"MntSweetProducts\",\"MntSweetProducts\",\"MntSweetProducts\",\"MntSweetProducts\",\"MntSweetProducts\",\"MntSweetProducts\",\"MntSweetProducts\",\"MntSweetProducts\",\"MntSweetProducts\",\"MntSweetProducts\",\"MntSweetProducts\",\"MntSweetProducts\",\"MntSweetProducts\",\"MntSweetProducts\",\"MntSweetProducts\",\"MntSweetProducts\",\"MntSweetProducts\",\"MntSweetProducts\",\"MntSweetProducts\",\"MntSweetProducts\",\"MntSweetProducts\",\"MntSweetProducts\",\"MntSweetProducts\",\"MntSweetProducts\",\"MntSweetProducts\",\"MntSweetProducts\",\"MntSweetProducts\",\"MntSweetProducts\",\"MntSweetProducts\",\"MntSweetProducts\",\"MntSweetProducts\",\"MntSweetProducts\",\"MntSweetProducts\",\"MntSweetProducts\",\"MntSweetProducts\",\"MntSweetProducts\",\"MntSweetProducts\",\"MntSweetProducts\",\"MntSweetProducts\",\"MntSweetProducts\",\"MntSweetProducts\",\"MntSweetProducts\",\"MntSweetProducts\",\"MntSweetProducts\",\"MntSweetProducts\",\"MntSweetProducts\",\"MntSweetProducts\",\"MntSweetProducts\",\"MntSweetProducts\",\"MntSweetProducts\",\"MntSweetProducts\",\"MntSweetProducts\",\"MntSweetProducts\",\"MntSweetProducts\",\"MntSweetProducts\",\"MntSweetProducts\",\"MntSweetProducts\",\"MntSweetProducts\",\"MntSweetProducts\",\"MntSweetProducts\",\"MntSweetProducts\",\"MntSweetProducts\",\"MntSweetProducts\",\"MntSweetProducts\",\"MntSweetProducts\",\"MntSweetProducts\",\"MntSweetProducts\",\"MntSweetProducts\",\"MntSweetProducts\",\"MntSweetProducts\",\"MntSweetProducts\",\"MntSweetProducts\",\"MntSweetProducts\",\"MntSweetProducts\",\"MntSweetProducts\",\"MntSweetProducts\",\"MntSweetProducts\",\"MntSweetProducts\",\"MntSweetProducts\",\"MntSweetProducts\",\"MntSweetProducts\",\"MntSweetProducts\",\"MntSweetProducts\",\"MntSweetProducts\",\"MntSweetProducts\",\"MntSweetProducts\",\"MntSweetProducts\",\"MntSweetProducts\",\"MntSweetProducts\",\"MntSweetProducts\",\"MntSweetProducts\",\"MntSweetProducts\",\"MntSweetProducts\",\"MntSweetProducts\",\"MntSweetProducts\",\"MntSweetProducts\",\"MntSweetProducts\",\"MntSweetProducts\",\"MntSweetProducts\",\"MntSweetProducts\",\"MntSweetProducts\",\"MntSweetProducts\",\"MntSweetProducts\",\"MntSweetProducts\",\"MntSweetProducts\",\"MntSweetProducts\",\"MntSweetProducts\",\"MntSweetProducts\",\"MntSweetProducts\",\"MntSweetProducts\",\"MntSweetProducts\",\"MntSweetProducts\",\"MntSweetProducts\",\"MntSweetProducts\",\"MntSweetProducts\",\"MntSweetProducts\",\"MntSweetProducts\",\"MntSweetProducts\",\"MntSweetProducts\",\"MntSweetProducts\",\"MntSweetProducts\",\"MntSweetProducts\",\"MntSweetProducts\",\"MntSweetProducts\",\"MntSweetProducts\",\"MntSweetProducts\",\"MntSweetProducts\",\"MntSweetProducts\",\"MntSweetProducts\",\"MntSweetProducts\",\"MntSweetProducts\",\"MntSweetProducts\",\"MntSweetProducts\",\"MntSweetProducts\",\"MntSweetProducts\",\"MntSweetProducts\",\"MntSweetProducts\",\"MntSweetProducts\",\"MntSweetProducts\",\"MntSweetProducts\",\"MntSweetProducts\",\"MntSweetProducts\",\"MntSweetProducts\",\"MntSweetProducts\",\"MntSweetProducts\",\"MntSweetProducts\",\"MntSweetProducts\",\"MntSweetProducts\",\"MntSweetProducts\",\"MntSweetProducts\",\"MntSweetProducts\",\"MntSweetProducts\",\"MntSweetProducts\",\"MntSweetProducts\",\"MntSweetProducts\",\"MntSweetProducts\",\"MntSweetProducts\",\"MntSweetProducts\",\"MntSweetProducts\",\"MntSweetProducts\",\"MntSweetProducts\",\"MntSweetProducts\",\"MntSweetProducts\",\"MntSweetProducts\",\"MntSweetProducts\",\"MntSweetProducts\",\"MntSweetProducts\",\"MntSweetProducts\",\"MntSweetProducts\",\"MntSweetProducts\",\"MntSweetProducts\",\"MntSweetProducts\",\"MntSweetProducts\",\"MntSweetProducts\",\"MntSweetProducts\",\"MntSweetProducts\",\"MntSweetProducts\",\"MntSweetProducts\",\"MntSweetProducts\",\"MntSweetProducts\",\"MntSweetProducts\",\"MntSweetProducts\",\"MntSweetProducts\",\"MntSweetProducts\",\"MntSweetProducts\",\"MntSweetProducts\",\"MntSweetProducts\",\"MntSweetProducts\",\"MntSweetProducts\",\"MntSweetProducts\",\"MntSweetProducts\",\"MntSweetProducts\",\"MntSweetProducts\",\"MntSweetProducts\",\"MntSweetProducts\",\"MntSweetProducts\",\"MntSweetProducts\",\"MntSweetProducts\",\"MntSweetProducts\",\"MntSweetProducts\",\"MntSweetProducts\",\"MntSweetProducts\",\"MntSweetProducts\",\"MntSweetProducts\",\"MntSweetProducts\",\"MntSweetProducts\",\"MntSweetProducts\",\"MntSweetProducts\",\"MntSweetProducts\",\"MntSweetProducts\",\"MntSweetProducts\",\"MntSweetProducts\",\"MntSweetProducts\",\"MntSweetProducts\",\"MntSweetProducts\",\"MntSweetProducts\",\"MntSweetProducts\",\"MntSweetProducts\",\"MntSweetProducts\",\"MntSweetProducts\",\"MntSweetProducts\",\"MntSweetProducts\",\"MntSweetProducts\",\"MntSweetProducts\",\"MntSweetProducts\",\"MntSweetProducts\",\"MntSweetProducts\",\"MntSweetProducts\",\"MntSweetProducts\",\"MntSweetProducts\",\"MntSweetProducts\",\"MntSweetProducts\",\"MntSweetProducts\",\"MntSweetProducts\",\"MntSweetProducts\",\"MntSweetProducts\",\"MntSweetProducts\",\"MntSweetProducts\",\"MntSweetProducts\",\"MntSweetProducts\",\"MntSweetProducts\",\"MntSweetProducts\",\"MntSweetProducts\",\"MntSweetProducts\",\"MntSweetProducts\",\"MntSweetProducts\",\"MntSweetProducts\",\"MntSweetProducts\",\"MntSweetProducts\",\"MntSweetProducts\",\"MntSweetProducts\",\"MntSweetProducts\",\"MntSweetProducts\",\"MntSweetProducts\",\"MntSweetProducts\",\"MntSweetProducts\",\"MntSweetProducts\",\"MntSweetProducts\",\"MntSweetProducts\",\"MntSweetProducts\",\"MntSweetProducts\",\"MntSweetProducts\",\"MntSweetProducts\",\"MntSweetProducts\",\"MntSweetProducts\",\"MntSweetProducts\",\"MntSweetProducts\",\"MntSweetProducts\",\"MntSweetProducts\",\"MntSweetProducts\",\"MntSweetProducts\",\"MntSweetProducts\",\"MntSweetProducts\",\"MntSweetProducts\",\"MntSweetProducts\",\"MntSweetProducts\",\"MntSweetProducts\",\"MntSweetProducts\",\"MntSweetProducts\",\"MntSweetProducts\",\"MntSweetProducts\",\"MntSweetProducts\",\"MntSweetProducts\",\"MntSweetProducts\",\"MntSweetProducts\",\"MntSweetProducts\",\"MntSweetProducts\",\"MntSweetProducts\",\"MntSweetProducts\",\"MntSweetProducts\",\"MntSweetProducts\",\"MntSweetProducts\",\"MntSweetProducts\",\"MntSweetProducts\",\"MntSweetProducts\",\"MntSweetProducts\",\"MntSweetProducts\",\"MntSweetProducts\",\"MntSweetProducts\",\"MntSweetProducts\",\"MntSweetProducts\",\"MntSweetProducts\",\"MntSweetProducts\",\"MntSweetProducts\",\"MntSweetProducts\",\"MntSweetProducts\",\"MntSweetProducts\",\"MntSweetProducts\",\"MntSweetProducts\",\"MntSweetProducts\",\"MntSweetProducts\",\"MntSweetProducts\",\"MntSweetProducts\",\"MntSweetProducts\",\"MntSweetProducts\",\"MntSweetProducts\",\"MntSweetProducts\",\"MntSweetProducts\",\"MntSweetProducts\",\"MntSweetProducts\",\"MntSweetProducts\",\"MntSweetProducts\",\"MntSweetProducts\",\"MntSweetProducts\",\"MntSweetProducts\",\"MntSweetProducts\",\"MntSweetProducts\",\"MntSweetProducts\",\"MntSweetProducts\",\"MntSweetProducts\",\"MntSweetProducts\",\"MntSweetProducts\",\"MntSweetProducts\",\"MntSweetProducts\",\"MntSweetProducts\",\"MntSweetProducts\",\"MntSweetProducts\",\"MntSweetProducts\",\"MntSweetProducts\",\"MntSweetProducts\",\"MntSweetProducts\",\"MntSweetProducts\",\"MntSweetProducts\",\"MntSweetProducts\",\"MntSweetProducts\",\"MntSweetProducts\",\"MntSweetProducts\",\"MntSweetProducts\",\"MntSweetProducts\",\"MntSweetProducts\",\"MntSweetProducts\",\"MntSweetProducts\",\"MntSweetProducts\",\"MntSweetProducts\",\"MntSweetProducts\",\"MntSweetProducts\",\"MntSweetProducts\",\"MntSweetProducts\",\"MntSweetProducts\",\"MntSweetProducts\",\"MntSweetProducts\",\"MntSweetProducts\",\"MntSweetProducts\",\"MntSweetProducts\",\"MntSweetProducts\",\"MntSweetProducts\",\"MntSweetProducts\",\"MntSweetProducts\",\"MntSweetProducts\",\"MntSweetProducts\",\"MntSweetProducts\",\"MntSweetProducts\",\"MntSweetProducts\",\"MntSweetProducts\",\"MntSweetProducts\",\"MntSweetProducts\",\"MntSweetProducts\",\"MntSweetProducts\",\"MntSweetProducts\",\"MntSweetProducts\",\"MntSweetProducts\",\"MntSweetProducts\",\"MntSweetProducts\",\"MntSweetProducts\",\"MntSweetProducts\",\"MntSweetProducts\",\"MntSweetProducts\",\"MntSweetProducts\",\"MntSweetProducts\",\"MntSweetProducts\",\"MntSweetProducts\",\"MntSweetProducts\",\"MntSweetProducts\",\"MntSweetProducts\",\"MntSweetProducts\",\"MntSweetProducts\",\"MntSweetProducts\",\"MntSweetProducts\",\"MntSweetProducts\",\"MntSweetProducts\",\"MntSweetProducts\",\"MntSweetProducts\",\"MntSweetProducts\",\"MntSweetProducts\",\"MntSweetProducts\",\"MntSweetProducts\",\"MntSweetProducts\",\"MntSweetProducts\",\"MntSweetProducts\",\"MntSweetProducts\",\"MntSweetProducts\",\"MntSweetProducts\",\"MntSweetProducts\",\"MntSweetProducts\",\"MntSweetProducts\",\"MntSweetProducts\",\"MntSweetProducts\",\"MntSweetProducts\",\"MntSweetProducts\",\"MntSweetProducts\",\"MntSweetProducts\",\"MntSweetProducts\",\"MntSweetProducts\",\"MntSweetProducts\",\"MntSweetProducts\",\"MntSweetProducts\",\"MntSweetProducts\",\"MntSweetProducts\",\"MntSweetProducts\",\"MntSweetProducts\",\"MntSweetProducts\",\"MntSweetProducts\",\"MntSweetProducts\",\"MntSweetProducts\",\"MntSweetProducts\",\"MntSweetProducts\",\"MntSweetProducts\",\"MntSweetProducts\",\"MntSweetProducts\",\"MntSweetProducts\",\"MntSweetProducts\",\"MntSweetProducts\",\"MntSweetProducts\",\"MntSweetProducts\",\"MntSweetProducts\",\"MntSweetProducts\",\"MntSweetProducts\",\"MntSweetProducts\",\"MntSweetProducts\",\"MntSweetProducts\",\"MntSweetProducts\",\"MntSweetProducts\",\"MntSweetProducts\",\"MntSweetProducts\",\"MntSweetProducts\",\"MntSweetProducts\",\"MntSweetProducts\",\"MntSweetProducts\",\"MntSweetProducts\",\"MntSweetProducts\",\"MntSweetProducts\",\"MntSweetProducts\",\"MntSweetProducts\",\"MntSweetProducts\",\"MntSweetProducts\",\"MntSweetProducts\",\"MntSweetProducts\",\"MntSweetProducts\",\"MntSweetProducts\",\"MntSweetProducts\",\"MntSweetProducts\",\"MntSweetProducts\",\"MntSweetProducts\",\"MntSweetProducts\",\"MntSweetProducts\",\"MntSweetProducts\",\"MntSweetProducts\",\"MntSweetProducts\",\"MntSweetProducts\",\"MntSweetProducts\",\"MntSweetProducts\",\"MntSweetProducts\",\"MntSweetProducts\",\"MntSweetProducts\",\"MntSweetProducts\",\"MntSweetProducts\",\"MntSweetProducts\",\"MntSweetProducts\",\"MntSweetProducts\",\"MntSweetProducts\",\"MntSweetProducts\",\"MntSweetProducts\",\"MntSweetProducts\",\"MntSweetProducts\",\"MntSweetProducts\",\"MntSweetProducts\",\"MntSweetProducts\",\"MntSweetProducts\",\"MntSweetProducts\",\"MntSweetProducts\",\"MntSweetProducts\",\"MntSweetProducts\",\"MntSweetProducts\",\"MntSweetProducts\",\"MntSweetProducts\",\"MntSweetProducts\",\"MntSweetProducts\",\"MntSweetProducts\",\"MntSweetProducts\",\"MntSweetProducts\",\"MntSweetProducts\",\"MntSweetProducts\",\"MntSweetProducts\",\"MntSweetProducts\",\"MntSweetProducts\",\"MntSweetProducts\",\"MntSweetProducts\",\"MntSweetProducts\",\"MntSweetProducts\",\"MntSweetProducts\",\"MntSweetProducts\",\"MntSweetProducts\",\"MntSweetProducts\",\"MntSweetProducts\",\"MntSweetProducts\",\"MntSweetProducts\",\"MntSweetProducts\",\"MntSweetProducts\",\"MntSweetProducts\",\"MntSweetProducts\",\"MntSweetProducts\",\"MntSweetProducts\",\"MntSweetProducts\",\"MntSweetProducts\",\"MntSweetProducts\",\"MntSweetProducts\",\"MntSweetProducts\",\"MntSweetProducts\",\"MntSweetProducts\",\"MntSweetProducts\",\"MntSweetProducts\",\"MntSweetProducts\",\"MntSweetProducts\",\"MntSweetProducts\",\"MntSweetProducts\",\"MntSweetProducts\",\"MntSweetProducts\",\"MntSweetProducts\",\"MntSweetProducts\",\"MntSweetProducts\",\"MntSweetProducts\",\"MntSweetProducts\",\"MntSweetProducts\",\"MntSweetProducts\",\"MntSweetProducts\",\"MntSweetProducts\",\"MntSweetProducts\",\"MntSweetProducts\",\"MntSweetProducts\",\"MntSweetProducts\",\"MntSweetProducts\",\"MntSweetProducts\",\"MntSweetProducts\",\"MntSweetProducts\",\"MntSweetProducts\",\"MntSweetProducts\",\"MntSweetProducts\",\"MntSweetProducts\",\"MntSweetProducts\",\"MntSweetProducts\",\"MntSweetProducts\",\"MntSweetProducts\",\"MntSweetProducts\",\"MntSweetProducts\",\"MntSweetProducts\",\"MntSweetProducts\",\"MntSweetProducts\",\"MntSweetProducts\",\"MntSweetProducts\",\"MntSweetProducts\",\"MntSweetProducts\",\"MntSweetProducts\",\"MntSweetProducts\",\"MntSweetProducts\",\"MntSweetProducts\",\"MntSweetProducts\",\"MntSweetProducts\",\"MntSweetProducts\",\"MntSweetProducts\",\"MntSweetProducts\",\"MntSweetProducts\",\"MntSweetProducts\",\"MntSweetProducts\",\"MntSweetProducts\",\"MntSweetProducts\",\"MntSweetProducts\",\"MntSweetProducts\",\"MntSweetProducts\",\"MntSweetProducts\",\"MntSweetProducts\",\"MntSweetProducts\",\"MntSweetProducts\",\"MntSweetProducts\",\"MntSweetProducts\",\"MntSweetProducts\",\"MntSweetProducts\",\"MntSweetProducts\",\"MntSweetProducts\",\"MntSweetProducts\",\"MntSweetProducts\",\"MntSweetProducts\",\"MntSweetProducts\",\"MntSweetProducts\",\"MntSweetProducts\",\"MntSweetProducts\",\"MntSweetProducts\",\"MntSweetProducts\",\"MntSweetProducts\",\"MntSweetProducts\",\"MntSweetProducts\",\"MntSweetProducts\",\"MntSweetProducts\",\"MntSweetProducts\",\"MntSweetProducts\",\"MntSweetProducts\",\"MntSweetProducts\",\"MntSweetProducts\",\"MntSweetProducts\",\"MntSweetProducts\",\"MntSweetProducts\",\"MntSweetProducts\",\"MntSweetProducts\",\"MntSweetProducts\",\"MntSweetProducts\",\"MntSweetProducts\",\"MntSweetProducts\",\"MntSweetProducts\",\"MntSweetProducts\",\"MntSweetProducts\",\"MntSweetProducts\",\"MntSweetProducts\",\"MntSweetProducts\",\"MntSweetProducts\",\"MntSweetProducts\",\"MntSweetProducts\",\"MntSweetProducts\",\"MntSweetProducts\",\"MntSweetProducts\",\"MntSweetProducts\",\"MntSweetProducts\",\"MntSweetProducts\",\"MntSweetProducts\",\"MntSweetProducts\",\"MntSweetProducts\",\"MntSweetProducts\",\"MntSweetProducts\",\"MntSweetProducts\",\"MntSweetProducts\",\"MntSweetProducts\",\"MntSweetProducts\",\"MntSweetProducts\",\"MntSweetProducts\",\"MntSweetProducts\",\"MntSweetProducts\",\"MntSweetProducts\",\"MntSweetProducts\",\"MntSweetProducts\",\"MntSweetProducts\",\"MntSweetProducts\",\"MntSweetProducts\",\"MntSweetProducts\",\"MntSweetProducts\",\"MntSweetProducts\",\"MntSweetProducts\",\"MntSweetProducts\",\"MntSweetProducts\",\"MntSweetProducts\",\"MntSweetProducts\",\"MntSweetProducts\",\"MntSweetProducts\",\"MntSweetProducts\",\"MntSweetProducts\",\"MntSweetProducts\",\"MntSweetProducts\",\"MntSweetProducts\",\"MntSweetProducts\",\"MntSweetProducts\",\"MntSweetProducts\",\"MntSweetProducts\",\"MntSweetProducts\",\"MntSweetProducts\",\"MntSweetProducts\",\"MntSweetProducts\",\"MntSweetProducts\",\"MntSweetProducts\",\"MntSweetProducts\",\"MntSweetProducts\",\"MntSweetProducts\",\"MntSweetProducts\",\"MntSweetProducts\",\"MntSweetProducts\",\"MntSweetProducts\",\"MntSweetProducts\",\"MntSweetProducts\",\"MntSweetProducts\",\"MntSweetProducts\",\"MntSweetProducts\",\"MntSweetProducts\",\"MntSweetProducts\",\"MntSweetProducts\",\"MntSweetProducts\",\"MntSweetProducts\",\"MntSweetProducts\",\"MntSweetProducts\",\"MntSweetProducts\",\"MntSweetProducts\",\"MntSweetProducts\",\"MntSweetProducts\",\"MntSweetProducts\",\"MntSweetProducts\",\"MntSweetProducts\",\"MntSweetProducts\",\"MntSweetProducts\",\"MntSweetProducts\",\"MntSweetProducts\",\"MntSweetProducts\",\"MntSweetProducts\",\"MntSweetProducts\",\"MntSweetProducts\",\"MntSweetProducts\",\"MntSweetProducts\",\"MntSweetProducts\",\"MntSweetProducts\",\"MntSweetProducts\",\"MntSweetProducts\",\"MntSweetProducts\",\"MntSweetProducts\",\"MntSweetProducts\",\"MntSweetProducts\",\"MntSweetProducts\",\"MntSweetProducts\",\"MntSweetProducts\",\"MntSweetProducts\",\"MntSweetProducts\",\"MntSweetProducts\",\"MntSweetProducts\",\"MntSweetProducts\",\"MntSweetProducts\",\"MntSweetProducts\",\"MntSweetProducts\",\"MntSweetProducts\",\"MntSweetProducts\",\"MntSweetProducts\",\"MntSweetProducts\",\"MntSweetProducts\",\"MntSweetProducts\",\"MntSweetProducts\",\"MntSweetProducts\",\"MntSweetProducts\",\"MntSweetProducts\",\"MntSweetProducts\",\"MntSweetProducts\",\"MntSweetProducts\",\"MntSweetProducts\",\"MntSweetProducts\",\"MntSweetProducts\",\"MntSweetProducts\",\"MntSweetProducts\",\"MntSweetProducts\",\"MntSweetProducts\",\"MntSweetProducts\",\"MntSweetProducts\",\"MntSweetProducts\",\"MntSweetProducts\",\"MntSweetProducts\",\"MntSweetProducts\",\"MntSweetProducts\",\"MntSweetProducts\",\"MntSweetProducts\",\"MntSweetProducts\",\"MntSweetProducts\",\"MntSweetProducts\",\"MntSweetProducts\",\"MntSweetProducts\",\"MntSweetProducts\",\"MntSweetProducts\",\"MntSweetProducts\",\"MntSweetProducts\",\"MntSweetProducts\",\"MntSweetProducts\",\"MntSweetProducts\",\"MntSweetProducts\",\"MntSweetProducts\",\"MntSweetProducts\",\"MntSweetProducts\",\"MntSweetProducts\",\"MntSweetProducts\",\"MntSweetProducts\",\"MntSweetProducts\",\"MntSweetProducts\",\"MntSweetProducts\",\"MntSweetProducts\",\"MntSweetProducts\",\"MntSweetProducts\",\"MntSweetProducts\",\"MntSweetProducts\",\"MntSweetProducts\",\"MntSweetProducts\",\"MntSweetProducts\",\"MntSweetProducts\",\"MntSweetProducts\",\"MntSweetProducts\",\"MntSweetProducts\",\"MntSweetProducts\",\"MntSweetProducts\",\"MntSweetProducts\",\"MntSweetProducts\",\"MntSweetProducts\",\"MntSweetProducts\",\"MntSweetProducts\",\"MntSweetProducts\",\"MntSweetProducts\",\"MntSweetProducts\",\"MntSweetProducts\",\"MntSweetProducts\",\"MntSweetProducts\",\"MntSweetProducts\",\"MntSweetProducts\",\"MntSweetProducts\",\"MntSweetProducts\",\"MntSweetProducts\",\"MntSweetProducts\",\"MntSweetProducts\",\"MntSweetProducts\",\"MntSweetProducts\",\"MntSweetProducts\",\"MntSweetProducts\",\"MntSweetProducts\",\"MntSweetProducts\",\"MntSweetProducts\",\"MntSweetProducts\",\"MntSweetProducts\",\"MntSweetProducts\",\"MntSweetProducts\",\"MntSweetProducts\",\"MntSweetProducts\",\"MntSweetProducts\",\"MntSweetProducts\",\"MntSweetProducts\",\"MntSweetProducts\",\"MntSweetProducts\",\"MntSweetProducts\",\"MntSweetProducts\",\"MntSweetProducts\",\"MntSweetProducts\",\"MntSweetProducts\",\"MntSweetProducts\",\"MntSweetProducts\",\"MntSweetProducts\",\"MntSweetProducts\",\"MntSweetProducts\",\"MntSweetProducts\",\"MntSweetProducts\",\"MntSweetProducts\",\"MntSweetProducts\",\"MntSweetProducts\",\"MntSweetProducts\",\"MntSweetProducts\",\"MntSweetProducts\",\"MntSweetProducts\",\"MntSweetProducts\",\"MntSweetProducts\",\"MntSweetProducts\",\"MntSweetProducts\",\"MntSweetProducts\",\"MntSweetProducts\",\"MntSweetProducts\",\"MntSweetProducts\",\"MntSweetProducts\",\"MntSweetProducts\",\"MntSweetProducts\",\"MntSweetProducts\",\"MntSweetProducts\",\"MntSweetProducts\",\"MntSweetProducts\",\"MntSweetProducts\",\"MntSweetProducts\",\"MntSweetProducts\",\"MntSweetProducts\",\"MntSweetProducts\",\"MntSweetProducts\",\"MntSweetProducts\",\"MntSweetProducts\",\"MntSweetProducts\",\"MntSweetProducts\",\"MntSweetProducts\",\"MntSweetProducts\",\"MntSweetProducts\",\"MntSweetProducts\",\"MntSweetProducts\",\"MntSweetProducts\",\"MntSweetProducts\",\"MntSweetProducts\",\"MntSweetProducts\",\"MntSweetProducts\",\"MntSweetProducts\",\"MntSweetProducts\",\"MntSweetProducts\",\"MntSweetProducts\",\"MntSweetProducts\",\"MntSweetProducts\",\"MntSweetProducts\",\"MntSweetProducts\",\"MntSweetProducts\",\"MntSweetProducts\",\"MntSweetProducts\",\"MntSweetProducts\",\"MntSweetProducts\",\"MntSweetProducts\",\"MntSweetProducts\",\"MntSweetProducts\",\"MntSweetProducts\",\"MntSweetProducts\",\"MntSweetProducts\",\"MntSweetProducts\",\"MntSweetProducts\",\"MntSweetProducts\",\"MntSweetProducts\",\"MntSweetProducts\",\"MntSweetProducts\",\"MntSweetProducts\",\"MntSweetProducts\",\"MntSweetProducts\",\"MntSweetProducts\",\"MntSweetProducts\",\"MntSweetProducts\",\"MntSweetProducts\",\"MntSweetProducts\",\"MntSweetProducts\",\"MntSweetProducts\",\"MntSweetProducts\",\"MntSweetProducts\",\"MntSweetProducts\",\"MntSweetProducts\",\"MntSweetProducts\",\"MntSweetProducts\",\"MntSweetProducts\",\"MntSweetProducts\",\"MntSweetProducts\",\"MntSweetProducts\",\"MntSweetProducts\",\"MntSweetProducts\",\"MntSweetProducts\",\"MntSweetProducts\",\"MntSweetProducts\",\"MntSweetProducts\",\"MntSweetProducts\",\"MntSweetProducts\",\"MntSweetProducts\",\"MntSweetProducts\",\"MntSweetProducts\",\"MntSweetProducts\",\"MntSweetProducts\",\"MntSweetProducts\",\"MntSweetProducts\",\"MntSweetProducts\",\"MntSweetProducts\",\"MntSweetProducts\",\"MntSweetProducts\",\"MntSweetProducts\",\"MntSweetProducts\",\"MntSweetProducts\",\"MntSweetProducts\",\"MntSweetProducts\",\"MntSweetProducts\",\"MntSweetProducts\",\"MntSweetProducts\",\"MntSweetProducts\",\"MntSweetProducts\",\"MntSweetProducts\",\"MntSweetProducts\",\"MntSweetProducts\",\"MntSweetProducts\",\"MntSweetProducts\",\"MntSweetProducts\",\"MntSweetProducts\",\"MntSweetProducts\",\"MntSweetProducts\",\"MntSweetProducts\",\"MntSweetProducts\",\"MntSweetProducts\",\"MntSweetProducts\",\"MntSweetProducts\",\"MntSweetProducts\",\"MntSweetProducts\",\"MntSweetProducts\",\"MntSweetProducts\",\"MntSweetProducts\",\"MntSweetProducts\",\"MntSweetProducts\",\"MntSweetProducts\",\"MntSweetProducts\",\"MntSweetProducts\",\"MntSweetProducts\",\"MntSweetProducts\",\"MntSweetProducts\",\"MntSweetProducts\",\"MntSweetProducts\",\"MntSweetProducts\",\"MntSweetProducts\",\"MntSweetProducts\",\"MntSweetProducts\",\"MntSweetProducts\",\"MntSweetProducts\",\"MntSweetProducts\",\"MntSweetProducts\",\"MntSweetProducts\",\"MntSweetProducts\",\"MntSweetProducts\",\"MntSweetProducts\",\"MntSweetProducts\",\"MntSweetProducts\",\"MntSweetProducts\",\"MntSweetProducts\",\"MntSweetProducts\",\"MntSweetProducts\",\"MntSweetProducts\",\"MntSweetProducts\",\"MntSweetProducts\",\"MntSweetProducts\",\"MntSweetProducts\",\"MntSweetProducts\",\"MntSweetProducts\",\"MntSweetProducts\",\"MntSweetProducts\",\"MntSweetProducts\",\"MntSweetProducts\",\"MntSweetProducts\",\"MntSweetProducts\",\"MntSweetProducts\",\"MntSweetProducts\",\"MntSweetProducts\",\"MntSweetProducts\",\"MntSweetProducts\",\"MntSweetProducts\",\"MntSweetProducts\",\"MntSweetProducts\",\"MntSweetProducts\",\"MntSweetProducts\",\"MntSweetProducts\",\"MntSweetProducts\",\"MntSweetProducts\",\"MntSweetProducts\",\"MntSweetProducts\",\"MntSweetProducts\",\"MntSweetProducts\",\"MntSweetProducts\",\"MntSweetProducts\",\"MntSweetProducts\",\"MntSweetProducts\",\"MntSweetProducts\",\"MntSweetProducts\",\"MntSweetProducts\",\"MntSweetProducts\",\"MntSweetProducts\",\"MntSweetProducts\",\"MntSweetProducts\",\"MntSweetProducts\",\"MntSweetProducts\",\"MntSweetProducts\",\"MntSweetProducts\",\"MntSweetProducts\",\"MntSweetProducts\",\"MntSweetProducts\",\"MntSweetProducts\",\"MntSweetProducts\",\"MntSweetProducts\",\"MntSweetProducts\",\"MntSweetProducts\",\"MntSweetProducts\",\"MntSweetProducts\",\"MntSweetProducts\",\"MntSweetProducts\",\"MntSweetProducts\",\"MntSweetProducts\",\"MntSweetProducts\",\"MntSweetProducts\",\"MntSweetProducts\",\"MntSweetProducts\",\"MntSweetProducts\",\"MntSweetProducts\",\"MntSweetProducts\",\"MntSweetProducts\",\"MntSweetProducts\",\"MntSweetProducts\",\"MntSweetProducts\",\"MntSweetProducts\",\"MntSweetProducts\",\"MntSweetProducts\",\"MntSweetProducts\",\"MntSweetProducts\",\"MntSweetProducts\",\"MntSweetProducts\",\"MntSweetProducts\",\"MntSweetProducts\",\"MntSweetProducts\",\"MntSweetProducts\",\"MntSweetProducts\",\"MntSweetProducts\",\"MntSweetProducts\",\"MntSweetProducts\",\"MntSweetProducts\",\"MntSweetProducts\",\"MntSweetProducts\",\"MntSweetProducts\",\"MntSweetProducts\",\"MntSweetProducts\",\"MntSweetProducts\",\"MntSweetProducts\",\"MntSweetProducts\",\"MntSweetProducts\",\"MntSweetProducts\",\"MntSweetProducts\",\"MntSweetProducts\",\"MntSweetProducts\",\"MntSweetProducts\",\"MntSweetProducts\",\"MntSweetProducts\",\"MntSweetProducts\",\"MntSweetProducts\",\"MntSweetProducts\",\"MntSweetProducts\",\"MntSweetProducts\",\"MntSweetProducts\",\"MntSweetProducts\",\"MntSweetProducts\",\"MntSweetProducts\",\"MntSweetProducts\",\"MntSweetProducts\",\"MntSweetProducts\",\"MntSweetProducts\",\"MntSweetProducts\",\"MntSweetProducts\",\"MntSweetProducts\",\"MntSweetProducts\",\"MntSweetProducts\",\"MntSweetProducts\",\"MntSweetProducts\",\"MntSweetProducts\",\"MntSweetProducts\",\"MntSweetProducts\",\"MntSweetProducts\",\"MntSweetProducts\",\"MntSweetProducts\",\"MntSweetProducts\",\"MntSweetProducts\",\"MntSweetProducts\",\"MntSweetProducts\",\"MntSweetProducts\",\"MntSweetProducts\",\"MntSweetProducts\",\"MntSweetProducts\",\"MntSweetProducts\",\"MntSweetProducts\",\"MntSweetProducts\",\"MntSweetProducts\",\"MntSweetProducts\",\"MntSweetProducts\",\"MntSweetProducts\",\"MntSweetProducts\",\"MntSweetProducts\",\"MntSweetProducts\",\"MntSweetProducts\",\"MntSweetProducts\",\"MntSweetProducts\",\"MntSweetProducts\",\"MntSweetProducts\",\"MntSweetProducts\",\"MntSweetProducts\",\"MntSweetProducts\",\"MntSweetProducts\",\"MntSweetProducts\",\"MntSweetProducts\",\"MntSweetProducts\",\"MntSweetProducts\",\"MntSweetProducts\",\"MntSweetProducts\",\"MntSweetProducts\",\"MntSweetProducts\",\"MntSweetProducts\",\"MntSweetProducts\",\"MntSweetProducts\",\"MntSweetProducts\",\"MntSweetProducts\",\"MntSweetProducts\",\"MntSweetProducts\",\"MntSweetProducts\",\"MntSweetProducts\",\"MntSweetProducts\",\"MntSweetProducts\",\"MntSweetProducts\",\"MntSweetProducts\",\"MntSweetProducts\",\"MntSweetProducts\",\"MntSweetProducts\",\"MntSweetProducts\",\"MntSweetProducts\",\"MntSweetProducts\",\"MntSweetProducts\",\"MntSweetProducts\",\"MntSweetProducts\",\"MntSweetProducts\",\"MntSweetProducts\",\"MntSweetProducts\",\"MntSweetProducts\",\"MntSweetProducts\",\"MntSweetProducts\",\"MntSweetProducts\",\"MntSweetProducts\",\"MntSweetProducts\",\"MntSweetProducts\",\"MntSweetProducts\",\"MntSweetProducts\",\"MntSweetProducts\",\"MntSweetProducts\",\"MntSweetProducts\",\"MntSweetProducts\",\"MntSweetProducts\",\"MntSweetProducts\",\"MntSweetProducts\",\"MntSweetProducts\",\"MntSweetProducts\",\"MntSweetProducts\",\"MntSweetProducts\",\"MntSweetProducts\",\"MntSweetProducts\",\"MntSweetProducts\",\"MntSweetProducts\",\"MntSweetProducts\",\"MntSweetProducts\",\"MntSweetProducts\",\"MntSweetProducts\",\"MntSweetProducts\",\"MntSweetProducts\",\"MntSweetProducts\",\"MntSweetProducts\",\"MntSweetProducts\",\"MntSweetProducts\",\"MntSweetProducts\",\"MntSweetProducts\",\"MntSweetProducts\",\"MntSweetProducts\",\"MntSweetProducts\",\"MntSweetProducts\",\"MntSweetProducts\",\"MntSweetProducts\",\"MntSweetProducts\",\"MntSweetProducts\",\"MntSweetProducts\",\"MntSweetProducts\",\"MntSweetProducts\",\"MntSweetProducts\",\"MntSweetProducts\",\"MntSweetProducts\",\"MntSweetProducts\",\"MntSweetProducts\",\"MntSweetProducts\",\"MntSweetProducts\",\"MntSweetProducts\",\"MntSweetProducts\",\"MntSweetProducts\",\"MntSweetProducts\",\"MntSweetProducts\",\"MntSweetProducts\",\"MntSweetProducts\",\"MntSweetProducts\",\"MntSweetProducts\",\"MntSweetProducts\",\"MntSweetProducts\",\"MntSweetProducts\",\"MntSweetProducts\",\"MntSweetProducts\",\"MntSweetProducts\",\"MntSweetProducts\",\"MntSweetProducts\",\"MntSweetProducts\",\"MntSweetProducts\",\"MntSweetProducts\",\"MntSweetProducts\",\"MntSweetProducts\",\"MntSweetProducts\",\"MntSweetProducts\",\"MntSweetProducts\",\"MntSweetProducts\",\"MntSweetProducts\",\"MntSweetProducts\",\"MntSweetProducts\",\"MntSweetProducts\",\"MntSweetProducts\",\"MntSweetProducts\",\"MntSweetProducts\",\"MntSweetProducts\",\"MntSweetProducts\",\"MntSweetProducts\",\"MntSweetProducts\",\"MntSweetProducts\",\"MntSweetProducts\",\"MntSweetProducts\",\"MntSweetProducts\",\"MntSweetProducts\",\"MntSweetProducts\",\"MntSweetProducts\",\"MntSweetProducts\",\"MntSweetProducts\",\"MntSweetProducts\",\"MntSweetProducts\",\"MntSweetProducts\",\"MntSweetProducts\",\"MntSweetProducts\",\"MntSweetProducts\",\"MntSweetProducts\",\"MntSweetProducts\",\"MntSweetProducts\",\"MntSweetProducts\",\"MntSweetProducts\",\"MntSweetProducts\",\"MntSweetProducts\",\"MntSweetProducts\",\"MntSweetProducts\",\"MntSweetProducts\",\"MntSweetProducts\",\"MntSweetProducts\",\"MntSweetProducts\",\"MntSweetProducts\",\"MntSweetProducts\",\"MntSweetProducts\",\"MntSweetProducts\",\"MntSweetProducts\",\"MntSweetProducts\",\"MntSweetProducts\",\"MntSweetProducts\",\"MntSweetProducts\",\"MntSweetProducts\",\"MntSweetProducts\",\"MntSweetProducts\",\"MntSweetProducts\",\"MntSweetProducts\",\"MntSweetProducts\",\"MntSweetProducts\",\"MntSweetProducts\",\"MntSweetProducts\",\"MntSweetProducts\",\"MntSweetProducts\",\"MntSweetProducts\",\"MntSweetProducts\",\"MntSweetProducts\",\"MntSweetProducts\",\"MntSweetProducts\",\"MntSweetProducts\",\"MntSweetProducts\",\"MntSweetProducts\",\"MntSweetProducts\",\"MntSweetProducts\",\"MntSweetProducts\",\"MntSweetProducts\",\"MntSweetProducts\",\"MntSweetProducts\",\"MntSweetProducts\",\"MntSweetProducts\",\"MntSweetProducts\",\"MntSweetProducts\",\"MntSweetProducts\",\"MntSweetProducts\",\"MntSweetProducts\",\"MntSweetProducts\",\"MntSweetProducts\",\"MntSweetProducts\",\"MntSweetProducts\",\"MntSweetProducts\",\"MntSweetProducts\",\"MntSweetProducts\",\"MntSweetProducts\",\"MntSweetProducts\",\"MntSweetProducts\",\"MntSweetProducts\",\"MntSweetProducts\",\"MntSweetProducts\",\"MntSweetProducts\",\"MntSweetProducts\",\"MntSweetProducts\",\"MntSweetProducts\",\"MntSweetProducts\",\"MntSweetProducts\",\"MntSweetProducts\",\"MntSweetProducts\",\"MntSweetProducts\",\"MntSweetProducts\",\"MntSweetProducts\",\"MntSweetProducts\",\"MntSweetProducts\",\"MntSweetProducts\",\"MntSweetProducts\",\"MntSweetProducts\",\"MntSweetProducts\",\"MntSweetProducts\",\"MntSweetProducts\",\"MntSweetProducts\",\"MntSweetProducts\",\"MntSweetProducts\",\"MntSweetProducts\",\"MntSweetProducts\",\"MntSweetProducts\",\"MntSweetProducts\",\"MntSweetProducts\",\"MntSweetProducts\",\"MntSweetProducts\",\"MntSweetProducts\",\"MntSweetProducts\",\"MntSweetProducts\",\"MntSweetProducts\",\"MntSweetProducts\",\"MntSweetProducts\",\"MntSweetProducts\",\"MntSweetProducts\",\"MntSweetProducts\",\"MntSweetProducts\",\"MntSweetProducts\",\"MntSweetProducts\",\"MntSweetProducts\",\"MntSweetProducts\",\"MntSweetProducts\",\"MntSweetProducts\",\"MntSweetProducts\",\"MntSweetProducts\",\"MntSweetProducts\",\"MntSweetProducts\",\"MntSweetProducts\",\"MntSweetProducts\",\"MntSweetProducts\",\"MntSweetProducts\",\"MntSweetProducts\",\"MntSweetProducts\",\"MntSweetProducts\",\"MntSweetProducts\",\"MntSweetProducts\",\"MntSweetProducts\",\"MntSweetProducts\",\"MntSweetProducts\",\"MntSweetProducts\",\"MntSweetProducts\",\"MntSweetProducts\",\"MntSweetProducts\",\"MntSweetProducts\",\"MntSweetProducts\",\"MntSweetProducts\",\"MntSweetProducts\",\"MntSweetProducts\",\"MntSweetProducts\",\"MntSweetProducts\",\"MntSweetProducts\",\"MntSweetProducts\",\"MntSweetProducts\",\"MntSweetProducts\",\"MntSweetProducts\",\"MntSweetProducts\",\"MntSweetProducts\",\"MntSweetProducts\",\"MntSweetProducts\",\"MntSweetProducts\",\"MntSweetProducts\",\"MntSweetProducts\",\"MntSweetProducts\",\"MntSweetProducts\",\"MntSweetProducts\",\"MntSweetProducts\",\"MntSweetProducts\",\"MntSweetProducts\",\"MntSweetProducts\",\"MntSweetProducts\",\"MntSweetProducts\",\"MntSweetProducts\",\"MntSweetProducts\",\"MntSweetProducts\",\"MntSweetProducts\",\"MntSweetProducts\",\"MntSweetProducts\",\"MntSweetProducts\",\"MntSweetProducts\",\"MntSweetProducts\",\"MntSweetProducts\",\"MntSweetProducts\",\"MntSweetProducts\",\"MntSweetProducts\",\"MntSweetProducts\",\"MntSweetProducts\",\"MntSweetProducts\",\"MntSweetProducts\",\"MntSweetProducts\",\"MntSweetProducts\",\"MntSweetProducts\",\"MntSweetProducts\",\"MntSweetProducts\",\"MntSweetProducts\",\"MntSweetProducts\",\"MntSweetProducts\",\"MntSweetProducts\",\"MntSweetProducts\",\"MntSweetProducts\",\"MntSweetProducts\",\"MntSweetProducts\",\"MntSweetProducts\",\"MntSweetProducts\",\"MntSweetProducts\",\"MntSweetProducts\",\"MntSweetProducts\",\"MntSweetProducts\",\"MntSweetProducts\",\"MntSweetProducts\",\"MntSweetProducts\",\"MntSweetProducts\",\"MntSweetProducts\",\"MntSweetProducts\",\"MntSweetProducts\",\"MntSweetProducts\",\"MntSweetProducts\",\"MntSweetProducts\",\"MntSweetProducts\",\"MntSweetProducts\",\"MntSweetProducts\",\"MntSweetProducts\",\"MntSweetProducts\",\"MntSweetProducts\",\"MntSweetProducts\",\"MntSweetProducts\",\"MntSweetProducts\",\"MntSweetProducts\",\"MntSweetProducts\",\"MntSweetProducts\",\"MntSweetProducts\",\"MntSweetProducts\",\"MntSweetProducts\",\"MntSweetProducts\",\"MntSweetProducts\",\"MntSweetProducts\",\"MntSweetProducts\",\"MntSweetProducts\",\"MntSweetProducts\",\"MntSweetProducts\",\"MntSweetProducts\",\"MntSweetProducts\",\"MntSweetProducts\",\"MntSweetProducts\",\"MntSweetProducts\",\"MntSweetProducts\",\"MntSweetProducts\",\"MntSweetProducts\",\"MntSweetProducts\",\"MntSweetProducts\",\"MntSweetProducts\",\"MntSweetProducts\",\"MntSweetProducts\",\"MntSweetProducts\",\"MntSweetProducts\",\"MntSweetProducts\",\"MntSweetProducts\",\"MntSweetProducts\",\"MntSweetProducts\",\"MntSweetProducts\",\"MntSweetProducts\",\"MntSweetProducts\",\"MntSweetProducts\",\"MntSweetProducts\",\"MntSweetProducts\",\"MntSweetProducts\",\"MntSweetProducts\",\"MntSweetProducts\",\"MntSweetProducts\",\"MntSweetProducts\",\"MntSweetProducts\",\"MntSweetProducts\",\"MntSweetProducts\",\"MntSweetProducts\",\"MntSweetProducts\",\"MntSweetProducts\",\"MntSweetProducts\",\"MntSweetProducts\",\"MntSweetProducts\",\"MntSweetProducts\",\"MntSweetProducts\",\"MntSweetProducts\",\"MntSweetProducts\",\"MntSweetProducts\"],\"index\":[0,1,2,3,4,5,6,7,8,9,10,11,12,13,14,15,16,17,18,19,20,21,22,23,24,25,26,27,28,29,30,31,32,33,34,35,36,37,38,39,40,41,42,43,44,45,46,47,48,49,50,51,52,53,54,55,56,57,58,59,60,61,62,63,64,65,66,67,68,69,70,71,72,73,74,75,76,77,78,79,80,81,82,83,84,85,86,87,88,89,90,91,92,93,94,95,96,97,98,99,100,101,102,103,104,105,106,107,108,109,110,111,112,113,114,115,116,117,118,119,120,121,122,123,124,125,126,127,128,129,130,131,132,133,134,135,136,137,138,139,140,141,142,143,144,145,146,147,148,149,150,151,152,153,154,155,156,157,158,159,160,161,162,163,164,165,166,167,168,169,170,171,172,173,174,175,176,177,178,179,180,181,182,183,184,185,186,187,188,189,190,191,192,193,194,195,196,197,198,199,200,201,202,203,204,205,206,207,208,209,210,211,212,213,214,215,216,217,218,219,220,221,222,223,224,225,226,227,228,229,230,231,232,233,234,235,236,237,238,239,240,241,242,243,244,245,246,247,248,249,250,251,252,253,254,255,256,257,258,259,260,261,262,263,264,265,266,267,268,269,270,271,272,273,274,275,276,277,278,279,280,281,282,283,284,285,286,287,288,289,290,291,292,293,294,295,296,297,298,299,300,301,302,303,304,305,306,307,308,309,310,311,312,313,314,315,316,317,318,319,320,321,322,323,324,325,326,327,328,329,330,331,332,333,334,335,336,337,338,339,340,341,342,343,344,345,346,347,348,349,350,351,352,353,354,355,356,357,358,359,360,361,362,363,364,365,366,367,368,369,370,371,372,373,374,375,376,377,378,379,380,381,382,383,384,385,386,387,388,389,390,391,392,393,394,395,396,397,398,399,400,401,402,403,404,405,406,407,408,409,410,411,412,413,414,415,416,417,418,419,420,421,422,423,424,425,426,427,428,429,430,431,432,433,434,435,436,437,438,439,440,441,442,443,444,445,446,447,448,449,450,451,452,453,454,455,456,457,458,459,460,461,462,463,464,465,466,467,468,469,470,471,472,473,474,475,476,477,478,479,480,481,482,483,484,485,486,487,488,489,490,491,492,493,494,495,496,497,498,499,500,501,502,503,504,505,506,507,508,509,510,511,512,513,514,515,516,517,518,519,520,521,522,523,524,525,526,527,528,529,530,531,532,533,534,535,536,537,538,539,540,541,542,543,544,545,546,547,548,549,550,551,552,553,554,555,556,557,558,559,560,561,562,563,564,565,566,567,568,569,570,571,572,573,574,575,576,577,578,579,580,581,582,583,584,585,586,587,588,589,590,591,592,593,594,595,596,597,598,599,600,601,602,603,604,605,606,607,608,609,610,611,612,613,614,615,616,617,618,619,620,621,622,623,624,625,626,627,628,629,630,631,632,633,634,635,636,637,638,639,640,641,642,643,644,645,646,647,648,649,650,651,652,653,654,655,656,657,658,659,660,661,662,663,664,665,666,667,668,669,670,671,672,673,674,675,676,677,678,679,680,681,682,683,684,685,686,687,688,689,690,691,692,693,694,695,696,697,698,699,700,701,702,703,704,705,706,707,708,709,710,711,712,713,714,715,716,717,718,719,720,721,722,723,724,725,726,727,728,729,730,731,732,733,734,735,736,737,738,739,740,741,742,743,744,745,746,747,748,749,750,751,752,753,754,755,756,757,758,759,760,761,762,763,764,765,766,767,768,769,770,771,772,773,774,775,776,777,778,779,780,781,782,783,784,785,786,787,788,789,790,791,792,793,794,795,796,797,798,799,800,801,802,803,804,805,806,807,808,809,810,811,812,813,814,815,816,817,818,819,820,821,822,823,824,825,826,827,828,829,830,831,832,833,834,835,836,837,838,839,840,841,842,843,844,845,846,847,848,849,850,851,852,853,854,855,856,857,858,859,860,861,862,863,864,865,866,867,868,869,870,871,872,873,874,875,876,877,878,879,880,881,882,883,884,885,886,887,888,889,890,891,892,893,894,895,896,897,898,899,900,901,902,903,904,905,906,907,908,909,910,911,912,913,914,915,916,917,918,919,920,921,922,923,924,925,926,927,928,929,930,931,932,933,934,935,936,937,938,939,940,941,942,943,944,945,946,947,948,949,950,951,952,953,954,955,956,957,958,959,960,961,962,963,964,965,966,967,968,969,970,971,972,973,974,975,976,977,978,979,980,981,982,983,984,985,986,987,988,989,990,991,992,993,994,995,996,997,998,999,1000,1001,1002,1003,1004,1005,1006,1007,1008,1009,1010,1011,1012,1013,1014,1015,1016,1017,1018,1019,1020,1021,1022,1023,1024,1025,1026,1027,1028,1029,1030,1031,1032,1033,1034,1035,1036,1037,1038,1039,1040,1041,1042,1043,1044,1045,1046,1047,1048,1049,1050,1051,1052,1053,1054,1055,1056,1057,1058,1059,1060,1061,1062,1063,1064,1065,1066,1067,1068,1069,1070,1071,1072,1073,1074,1075,1076,1077,1078,1079,1080,1081,1082,1083,1084,1085,1086,1087,1088,1089,1090,1091,1092,1093,1094,1095,1096,1097,1098,1099,1100,1101,1102,1103,1104,1105,1106,1107,1108,1109,1110,1111,1112,1113,1114,1115,1116,1117,1118,1119,1120,1121,1122,1123,1124,1125,1126,1127,1128,1129,1130,1131,1132,1133,1134,1135,1136,1137,1138,1139,1140,1141,1142,1143,1144,1145,1146,1147,1148,1149,1150,1151,1152,1153,1154,1155,1156,1157,1158,1159,1160,1161,1162,1163,1164,1165,1166,1167,1168,1169,1170,1171,1172,1173,1174,1175,1176,1177,1178,1179,1180,1181,1182,1183,1184,1185,1186,1187,1188,1189,1190,1191,1192,1193,1194,1195,1196,1197,1198,1199,1200,1201,1202,1203,1204,1205,1206,1207,1208,1209,1210,1211,1212,1213,1214,1215,1216,1217,1218,1219,1220,1221,1222,1223,1224,1225,1226,1227,1228,1229,1230,1231,1232,1233,1234,1235,1236,1237,1238,1239,1240,1241,1242,1243,1244,1245,1246,1247,1248,1249,1250,1251,1252,1253,1254,1255,1256,1257,1258,1259,1260,1261,1262,1263,1264,1265,1266,1267,1268,1269,1270,1271,1272,1273,1274,1275,1276,1277,1278,1279,1280,1281,1282,1283,1284,1285,1286,1287,1288,1289,1290,1291,1292,1293,1294,1295,1296,1297,1298,1299,1300,1301,1302,1303,1304,1305,1306,1307,1308,1309,1310,1311,1312,1313,1314,1315,1316,1317,1318,1319,1320,1321,1322,1323,1324,1325,1326,1327,1328,1329,1330,1331,1332,1333,1334,1335,1336,1337,1338,1339,1340,1341,1342,1343,1344,1345,1346,1347,1348,1349,1350,1351,1352,1353,1354,1355,1356,1357,1358,1359,1360,1361,1362,1363,1364,1365,1366,1367,1368,1369,1370,1371,1372,1373,1374,1375,1376,1377,1378,1379,1380,1381,1382,1383,1384,1385,1386,1387,1388,1389,1390,1391,1392,1393,1394,1395,1396,1397,1398,1399,1400,1401,1402,1403,1404,1405,1406,1407,1408,1409,1410,1411,1412,1413,1414,1415,1416,1417,1418,1419,1420,1421,1422,1423,1424,1425,1426,1427,1428,1429,1430,1431,1432,1433,1434,1435,1436,1437,1438,1439,1440,1441,1442,1443,1444,1445,1446,1447,1448,1449,1450,1451,1452,1453,1454,1455,1456,1457,1458,1459,1460,1461,1462,1463,1464,1465,1466,1467,1468,1469,1470,1471,1472,1473,1474,1475,1476,1477,1478,1479,1480,1481,1482,1483,1484,1485,1486,1487,1488,1489,1490,1491,1492,1493,1494,1495,1496,1497,1498,1499,1500,1501,1502,1503,1504,1505,1506,1507,1508,1509,1510,1511,1512,1513,1514,1515,1516,1517,1518,1519,1520,1521,1522,1523,1524,1525,1526,1527,1528,1529,1530,1531,1532,1533,1534,1535,1536,1537,1538,1539,1540,1541,1542,1543,1544,1545,1546,1547,1548,1549,1550,1551,1552,1553,1554,1555,1556,1557,1558,1559,1560,1561,1562,1563,1564,1565,1566,1567,1568,1569,1570,1571,1572,1573,1574,1575,1576,1577,1578,1579,1580,1581,1582,1583,1584,1585,1586,1587,1588,1589,1590,1591,1592,1593,1594,1595,1596,1597,1598,1599,1600,1601,1602,1603,1604,1605,1606,1607,1608,1609,1610,1611,1612,1613,1614,1615,1616,1617,1618,1619,1620,1621,1622,1623,1624,1625,1626,1627,1628,1629,1630,1631,1632,1633,1634,1635,1636,1637,1638,1639,1640,1641,1642,1643,1644,1645,1646,1647,1648,1649,1650,1651,1652,1653,1654,1655,1656,1657,1658,1659,1660,1661,1662,1663,1664,1665,1666,1667,1668,1669,1670,1671,1672,1673,1674,1675,1676,1677,1678,1679,1680,1681,1682,1683,1684,1685,1686,1687,1688,1689,1690,1691,1692,1693,1694,1695,1696,1697,1698,1699,1700,1701,1702,1703,1704,1705,1706,1707,1708,1709,1710,1711,1712,1713,1714,1715,1716,1717,1718,1719,1720,1721,1722,1723,1724,1725,1726,1727,1728,1729,1730,1731,1732,1733,1734,1735,1736,1737,1738,1739,1740,1741,1742,1743,1744,1745,1746,1747,1748,1749,1750,1751,1752,1753,1754,1755,1756,1757,1758,1759,1760,1761,1762,1763,1764,1765,1766,1767,1768,1769,1770,1771,1772,1773,1774,1775,1776,1777,1778,1779,1780,1781,1782,1783,1784,1785,1786,1787,1788,1789,1790,1791,1792,1793,1794,1795,1796,1797,1798,1799,1800,1801,1802,1803,1804,1805,1806,1807,1808,1809,1810,1811,1812,1813,1814,1815,1816,1817,1818,1819,1820,1821,1822,1823,1824,1825,1826,1827,1828,1829,1830,1831,1832,1833,1834,1835,1836,1837,1838,1839,1840,1841,1842,1843,1844,1845,1846,1847,1848,1849,1850,1851,1852,1853,1854,1855,1856,1857,1858,1859,1860,1861,1862,1863,1864,1865,1866,1867,1868,1869,1870,1871,1872,1873,1874,1875,1876,1877,1878,1879,1880,1881,1882,1883,1884,1885,1886,1887,1888,1889,1890,1891,1892,1893,1894,1895,1896,1897,1898,1899,1900,1901,1902,1903,1904,1905,1906,1907,1908,1909,1910,1911,1912,1913,1914,1915,1916,1917,1918,1919,1920,1921,1922,1923,1924,1925,1926,1927,1928,1929,1930,1931,1932,1933,1934,1935,1936,1937,1938,1939,1940,1941,1942,1943,1944,1945,1946,1947,1948,1949,1950,1951,1952,1953,1954,1955,1956,1957,1958,1959,1960,1961,1962,1963,1964,1965,1966,1967,1968,1969,1970,1971,1972,1973,1974,1975,1976,1977,1978,1979,1980,1981,1982,1983,1984,1985,1986,1987,1988,1989,1990,1991,1992,1993,1994,1995,1996,1997,1998,1999,2000,2001,2002,2003,2004,2005,2006,2007,2008,2009,2010,2011,2012,2013,2014,2015,2016,2017,2018,2019,2020,2021,2022,2023,2024,2025,2026,2027,2028,2029,2030,2031,2032,2033,2034,2035,2036,2037,2038,2039,2040,2041,2042,2043,2044,2045,2046,2047,2048,2049,2050,2051,2052,2053,2054,2055,2056,2057,2058,2059,2060,2061,2062,2063,2064,2065,2066,2067,2068,2069,2070,2071,2072,2073,2074,2075,2076,2077,2078,2079,2080,2081,2082,2083,2084,2085,2086,2087,2088,2089,2090,2091,2092,2093,2094,2095,2096,2097,2098,2099,2100,2101,2102,2103,2104,2105,2106,2107,2108,2109,2110,2111,2112,2113,2114,2115,2116,2117,2118,2119,2120,2121,2122,2123,2124,2125,2126,2127,2128,2129,2130,2131,2132,2133,2134,2135,2136,2137,2138,2139,2140,2141,2142,2143,2144,2145,2146,2147,2148,2149,2150,2151,2152,2153,2154,2155,2156,2157,2158,2159,2160,2161,2162,2163,2164,2165,2166,2167,2168,2169,2170,2171,2172,2173,2174,2175,2176,2177,2178,2179,2180,2181,2182,2183,2184,2185,2186,2187,2188,2189,2190,2191,2192,2193,2194,2195,2196,2197,2198,2199,2200,2201,2202,2203,2204,2205,2206,2207,2208,2209,2210,2211,2212,2213,2214,2215,2216,2217,2218,2219,2220,2221,2222,2223,2224,2225,2226,2227,2228,2229,2230,2231,2232,2233,2234,2235,2236,2237,2238,2239],\"value\":[87,0,0,0,19,15,5,2,12,12,3,1,11,0,0,61,2,2,8,14,1,7,151,0,49,93,2,75,2,107,36,75,6,3,2,19,9,125,61,0,0,0,0,14,3,14,95,31,21,13,44,4,0,12,14,51,11,0,3,4,149,40,5,10,27,163,0,9,12,0,0,3,9,1,103,44,33,72,32,1,0,25,5,58,45,11,0,1,32,9,6,51,14,20,137,3,3,194,0,2,24,15,6,165,58,65,9,61,6,8,74,26,3,66,59,0,0,0,20,46,2,2,0,17,0,30,0,13,0,0,19,43,57,0,31,28,3,43,15,4,15,14,0,9,0,8,6,0,0,0,91,38,61,176,14,0,13,1,147,72,28,109,0,0,0,6,0,5,8,12,10,0,0,0,1,1,11,13,44,2,20,4,7,2,195,49,6,14,14,4,15,14,10,22,20,27,8,1,14,0,133,10,0,30,3,21,0,9,15,47,0,5,37,44,0,172,0,19,22,43,2,0,0,6,95,0,2,156,14,66,11,49,64,0,2,59,4,40,15,25,42,28,1,2,2,0,71,41,102,84,54,4,12,4,0,22,12,71,3,2,19,48,1,103,0,3,24,29,91,16,30,0,16,4,0,8,0,14,165,60,5,0,0,16,6,153,8,188,45,3,20,9,3,8,1,0,1,7,28,3,3,3,1,15,54,150,2,12,91,3,2,160,3,68,19,105,19,175,2,19,82,3,8,3,2,0,23,2,122,75,30,25,6,2,69,1,0,15,15,2,44,12,5,13,2,24,2,9,14,2,0,1,148,7,92,7,7,29,1,189,0,8,1,2,2,18,84,4,3,0,0,83,41,133,0,3,0,0,8,1,2,96,129,0,196,66,0,0,3,86,0,16,0,2,4,34,54,5,12,192,3,2,0,8,10,30,98,30,0,6,17,68,0,107,112,8,12,41,2,189,56,3,0,5,29,0,3,1,0,46,81,3,1,116,40,20,0,2,15,4,80,0,6,0,5,24,24,3,3,1,0,46,2,22,23,29,5,34,4,1,54,17,4,3,73,2,0,6,9,29,28,60,35,38,37,8,138,6,30,0,7,3,21,17,2,1,66,13,8,9,85,118,4,2,2,64,14,2,126,0,7,5,0,0,1,12,14,6,12,1,0,0,33,0,5,53,23,18,32,13,0,32,97,0,4,3,4,6,0,91,143,4,36,89,98,1,0,0,5,39,2,0,3,91,78,2,38,51,0,44,0,60,176,17,0,47,0,5,15,0,7,38,0,9,20,0,50,3,8,3,8,9,17,18,12,23,19,9,2,24,4,9,13,9,20,36,63,0,33,15,3,0,12,2,8,6,80,16,49,30,2,1,10,44,3,0,0,95,15,12,14,22,61,2,87,2,14,143,34,18,0,17,14,5,5,79,15,4,6,1,5,6,19,108,55,17,0,5,57,57,134,1,182,101,0,1,17,2,10,88,48,3,26,0,18,5,0,27,185,2,9,11,1,14,16,5,143,0,15,6,4,0,10,67,107,76,24,11,0,7,12,46,0,30,35,12,1,13,92,26,1,42,2,58,101,53,32,44,6,10,4,28,22,6,0,0,92,4,8,16,11,12,31,0,2,10,10,13,6,76,29,93,5,138,4,12,4,0,1,8,9,12,55,3,27,24,0,40,0,7,55,12,4,38,0,24,0,16,0,69,10,91,0,130,94,172,0,1,0,8,7,21,174,0,13,30,6,5,4,27,21,50,82,13,82,116,8,0,1,1,7,161,8,38,29,0,72,9,17,0,152,0,6,6,34,0,53,12,21,0,1,32,20,9,7,0,8,0,34,93,4,1,9,5,34,14,4,2,1,19,167,22,13,28,59,6,26,122,115,21,3,0,15,0,5,2,8,0,4,13,0,44,16,137,1,2,0,3,115,7,0,68,1,41,74,4,0,5,1,0,125,2,2,40,58,25,4,14,1,26,0,0,8,0,0,14,12,0,3,1,10,11,2,23,7,29,50,0,56,3,111,4,107,11,20,9,0,14,6,3,4,5,2,0,82,17,3,12,7,0,30,127,14,17,132,26,6,21,1,2,0,26,10,2,91,0,92,0,58,21,65,4,21,262,0,123,9,0,1,60,32,25,12,107,50,48,95,0,10,7,3,61,17,1,11,1,1,32,8,0,6,33,22,152,0,0,61,143,16,0,5,0,4,30,121,24,10,0,17,3,133,2,1,3,0,0,1,134,21,1,1,2,12,33,21,10,194,7,2,0,0,1,1,102,5,28,10,66,33,1,23,0,6,20,3,137,3,49,169,5,3,47,0,3,26,1,0,35,0,64,6,98,0,7,2,83,28,19,96,17,11,42,15,2,38,187,10,59,10,121,20,6,0,1,11,0,174,7,112,6,16,0,10,0,2,15,9,178,0,1,126,1,2,263,8,1,4,4,31,4,7,1,4,0,4,30,1,24,21,0,0,6,2,3,27,0,0,35,0,138,6,0,144,7,0,1,45,10,2,8,89,0,1,1,1,19,3,151,0,1,80,25,0,0,10,4,0,2,51,88,13,0,0,57,161,21,53,35,19,13,1,63,6,24,1,1,7,0,113,1,15,0,8,61,42,10,1,13,3,4,46,0,6,21,0,31,9,0,42,45,1,8,0,2,144,5,146,2,0,0,0,77,7,0,0,44,28,12,0,0,2,102,50,23,2,8,0,1,92,55,26,7,5,24,6,126,1,2,7,1,0,0,0,1,7,6,8,5,133,2,0,3,0,5,0,1,6,153,2,24,35,4,45,129,69,14,145,0,40,38,76,4,6,7,0,19,6,0,2,0,35,1,108,3,5,128,0,38,1,50,49,4,1,7,1,0,0,1,47,2,14,58,29,0,18,14,120,48,56,7,0,48,47,7,0,4,89,0,18,161,8,37,89,44,32,7,2,73,9,48,2,3,57,1,2,8,2,0,1,12,0,0,7,67,12,92,138,33,2,54,0,3,28,40,24,8,8,1,2,0,6,6,0,8,4,6,102,1,5,76,28,16,38,5,32,35,0,0,23,14,66,0,0,76,9,0,54,11,10,80,0,17,2,0,7,2,38,5,6,3,38,14,3,118,0,1,47,1,5,15,70,101,10,0,13,5,9,1,2,3,13,7,13,40,1,43,0,26,72,22,0,9,0,60,0,0,1,15,54,1,0,3,45,8,56,37,76,1,107,6,16,8,45,1,7,4,152,9,26,80,5,29,6,0,21,28,0,84,136,11,2,98,0,0,2,26,54,0,1,26,3,162,0,86,0,0,66,78,0,0,45,72,1,0,0,48,8,10,0,23,8,3,0,12,163,4,9,2,0,5,0,7,4,7,102,33,1,7,1,151,32,16,3,13,0,22,11,5,97,26,3,0,35,0,0,7,0,3,2,78,9,192,51,5,1,0,0,42,115,56,3,157,12,2,38,2,0,43,105,0,10,5,31,15,2,0,1,23,1,4,9,1,23,8,8,8,163,3,2,16,35,2,1,7,8,5,11,151,70,0,80,71,97,61,2,0,8,5,21,0,66,1,30,20,59,10,108,22,4,88,2,0,142,191,0,21,14,50,17,12,33,1,20,21,0,18,3,4,3,1,13,25,20,22,75,13,2,0,34,1,0,5,89,16,2,112,12,2,4,6,0,97,62,0,6,0,2,2,0,0,114,62,0,2,55,10,5,24,4,160,0,7,13,36,7,4,5,1,30,0,0,0,99,1,0,112,14,185,0,134,4,1,11,9,19,3,194,2,0,0,0,163,0,35,25,0,5,6,8,0,1,19,44,4,15,0,0,2,5,3,58,133,1,2,7,15,48,94,7,69,0,2,5,6,0,0,53,5,1,0,178,105,0,67,1,103,5,1,70,5,12,10,0,15,18,20,40,6,16,3,83,71,4,133,2,10,87,14,0,34,6,0,68,0,8,1,14,13,0,40,3,49,13,0,24,8,3,45,0,38,39,0,7,0,26,26,0,77,0,0,198,179,149,70,7,26,1,38,0,0,86,0,112,0,1,3,11,37,42,0,58,0,29,1,3,1,0,2,17,40,0,0,7,161,0,51,35,35,30,0,106,105,92,14,0,17,0,1,115,0,0,3,4,25,24,80,16,9,197,12,147,0,24,74,3,0,118,35,3,37,61,7,49,0,0,147,66,38,5,0,24,40,24,24,6,0,1,18,1,21,3,0,1,35,137,21,98,0,32,3,10,5,3,3,71,97,0,78,26,123,23,98,0,13,1,2,1,0,25,4,0,125,0,0,110,41,29,8,0,18,3,46,9,1,0,17,1,4,30,5,28,16,1,0,0,0,9,0,1,43,0,13,4,1,35,12,30,0,15,0,36,11,21,72,10,102,10,0,0,0,1,5,50,123,1,9,22,0,0,1,148,1,43,173,124,41,43,7,7,3,30,11,28,0,0,9,5,26,5,2,67,42,14,1,0,1,12,2,91,139,8,8,0,15,0,172,81,14,12,69,141,0,6,7,24,107,114,0,3,48,11,0,18,46,31,42,122,0,38,100,118,0,0,138,64,1,0,4,6,6,1,13,2,0,39,4,0,5,10,3,5,0,54,35,49,4,14,4,2,89,12,2,0,39,30,45,0,3,0,12,12,14,3,0,120,4,192,6,2,3,1,5,141,9,23,28,6,23,6,4,2,27,4,0,20,2,0,6,160,151,24,0,0,14,9,7,0,169,13,41,0,20,1,4,106,9,3,0,17,21,0,32,36,29,19,4,1,1,1,2,2,27,0,4,43,30,12,4,4,59,96,0,8,0,0,21,13,0,26,26,1,121,0,2,0,80,56,0,27,4,0,23,4,30,1,120,1,0,20,12,7,0,0,40,85,4,0,0,0,1,0,3,26,2,4,1,10,0,11,0,31,4,0,10,1,138,11,11,118,0,150,83,80,0,19,19,1,1,56,31,166,37,0,107,50,7,8,2,17,137,74,22,42,7,18,0,0,1,54,3,0,0,30,12,0,0,11,2,20,6,35,0,2,54,1,28,0,76,8,3,3,1,2,3,4,1,1,14,17,3]},\"selected\":{\"id\":\"1497\"},\"selection_policy\":{\"id\":\"1521\"}},\"id\":\"1496\",\"type\":\"ColumnDataSource\"},{\"attributes\":{\"data_source\":{\"id\":\"1470\"},\"glyph\":{\"id\":\"1473\"},\"hover_glyph\":null,\"muted_glyph\":{\"id\":\"1475\"},\"nonselection_glyph\":{\"id\":\"1474\"},\"selection_glyph\":{\"id\":\"1495\"},\"view\":{\"id\":\"1477\"}},\"id\":\"1476\",\"type\":\"GlyphRenderer\"},{\"attributes\":{\"data_source\":{\"id\":\"1496\"},\"glyph\":{\"id\":\"1499\"},\"hover_glyph\":null,\"muted_glyph\":{\"id\":\"1501\"},\"nonselection_glyph\":{\"id\":\"1500\"},\"selection_glyph\":{\"id\":\"1523\"},\"view\":{\"id\":\"1503\"}},\"id\":\"1502\",\"type\":\"GlyphRenderer\"},{\"attributes\":{\"line_alpha\":0.2,\"line_color\":\"#8b8b8b\",\"line_width\":2,\"x\":{\"field\":\"index\"},\"y\":{\"field\":\"value\"}},\"id\":\"1501\",\"type\":\"Line\"},{\"attributes\":{\"data\":{\"Variable\":[\"MntFishProducts\",\"MntFishProducts\",\"MntFishProducts\",\"MntFishProducts\",\"MntFishProducts\",\"MntFishProducts\",\"MntFishProducts\",\"MntFishProducts\",\"MntFishProducts\",\"MntFishProducts\",\"MntFishProducts\",\"MntFishProducts\",\"MntFishProducts\",\"MntFishProducts\",\"MntFishProducts\",\"MntFishProducts\",\"MntFishProducts\",\"MntFishProducts\",\"MntFishProducts\",\"MntFishProducts\",\"MntFishProducts\",\"MntFishProducts\",\"MntFishProducts\",\"MntFishProducts\",\"MntFishProducts\",\"MntFishProducts\",\"MntFishProducts\",\"MntFishProducts\",\"MntFishProducts\",\"MntFishProducts\",\"MntFishProducts\",\"MntFishProducts\",\"MntFishProducts\",\"MntFishProducts\",\"MntFishProducts\",\"MntFishProducts\",\"MntFishProducts\",\"MntFishProducts\",\"MntFishProducts\",\"MntFishProducts\",\"MntFishProducts\",\"MntFishProducts\",\"MntFishProducts\",\"MntFishProducts\",\"MntFishProducts\",\"MntFishProducts\",\"MntFishProducts\",\"MntFishProducts\",\"MntFishProducts\",\"MntFishProducts\",\"MntFishProducts\",\"MntFishProducts\",\"MntFishProducts\",\"MntFishProducts\",\"MntFishProducts\",\"MntFishProducts\",\"MntFishProducts\",\"MntFishProducts\",\"MntFishProducts\",\"MntFishProducts\",\"MntFishProducts\",\"MntFishProducts\",\"MntFishProducts\",\"MntFishProducts\",\"MntFishProducts\",\"MntFishProducts\",\"MntFishProducts\",\"MntFishProducts\",\"MntFishProducts\",\"MntFishProducts\",\"MntFishProducts\",\"MntFishProducts\",\"MntFishProducts\",\"MntFishProducts\",\"MntFishProducts\",\"MntFishProducts\",\"MntFishProducts\",\"MntFishProducts\",\"MntFishProducts\",\"MntFishProducts\",\"MntFishProducts\",\"MntFishProducts\",\"MntFishProducts\",\"MntFishProducts\",\"MntFishProducts\",\"MntFishProducts\",\"MntFishProducts\",\"MntFishProducts\",\"MntFishProducts\",\"MntFishProducts\",\"MntFishProducts\",\"MntFishProducts\",\"MntFishProducts\",\"MntFishProducts\",\"MntFishProducts\",\"MntFishProducts\",\"MntFishProducts\",\"MntFishProducts\",\"MntFishProducts\",\"MntFishProducts\",\"MntFishProducts\",\"MntFishProducts\",\"MntFishProducts\",\"MntFishProducts\",\"MntFishProducts\",\"MntFishProducts\",\"MntFishProducts\",\"MntFishProducts\",\"MntFishProducts\",\"MntFishProducts\",\"MntFishProducts\",\"MntFishProducts\",\"MntFishProducts\",\"MntFishProducts\",\"MntFishProducts\",\"MntFishProducts\",\"MntFishProducts\",\"MntFishProducts\",\"MntFishProducts\",\"MntFishProducts\",\"MntFishProducts\",\"MntFishProducts\",\"MntFishProducts\",\"MntFishProducts\",\"MntFishProducts\",\"MntFishProducts\",\"MntFishProducts\",\"MntFishProducts\",\"MntFishProducts\",\"MntFishProducts\",\"MntFishProducts\",\"MntFishProducts\",\"MntFishProducts\",\"MntFishProducts\",\"MntFishProducts\",\"MntFishProducts\",\"MntFishProducts\",\"MntFishProducts\",\"MntFishProducts\",\"MntFishProducts\",\"MntFishProducts\",\"MntFishProducts\",\"MntFishProducts\",\"MntFishProducts\",\"MntFishProducts\",\"MntFishProducts\",\"MntFishProducts\",\"MntFishProducts\",\"MntFishProducts\",\"MntFishProducts\",\"MntFishProducts\",\"MntFishProducts\",\"MntFishProducts\",\"MntFishProducts\",\"MntFishProducts\",\"MntFishProducts\",\"MntFishProducts\",\"MntFishProducts\",\"MntFishProducts\",\"MntFishProducts\",\"MntFishProducts\",\"MntFishProducts\",\"MntFishProducts\",\"MntFishProducts\",\"MntFishProducts\",\"MntFishProducts\",\"MntFishProducts\",\"MntFishProducts\",\"MntFishProducts\",\"MntFishProducts\",\"MntFishProducts\",\"MntFishProducts\",\"MntFishProducts\",\"MntFishProducts\",\"MntFishProducts\",\"MntFishProducts\",\"MntFishProducts\",\"MntFishProducts\",\"MntFishProducts\",\"MntFishProducts\",\"MntFishProducts\",\"MntFishProducts\",\"MntFishProducts\",\"MntFishProducts\",\"MntFishProducts\",\"MntFishProducts\",\"MntFishProducts\",\"MntFishProducts\",\"MntFishProducts\",\"MntFishProducts\",\"MntFishProducts\",\"MntFishProducts\",\"MntFishProducts\",\"MntFishProducts\",\"MntFishProducts\",\"MntFishProducts\",\"MntFishProducts\",\"MntFishProducts\",\"MntFishProducts\",\"MntFishProducts\",\"MntFishProducts\",\"MntFishProducts\",\"MntFishProducts\",\"MntFishProducts\",\"MntFishProducts\",\"MntFishProducts\",\"MntFishProducts\",\"MntFishProducts\",\"MntFishProducts\",\"MntFishProducts\",\"MntFishProducts\",\"MntFishProducts\",\"MntFishProducts\",\"MntFishProducts\",\"MntFishProducts\",\"MntFishProducts\",\"MntFishProducts\",\"MntFishProducts\",\"MntFishProducts\",\"MntFishProducts\",\"MntFishProducts\",\"MntFishProducts\",\"MntFishProducts\",\"MntFishProducts\",\"MntFishProducts\",\"MntFishProducts\",\"MntFishProducts\",\"MntFishProducts\",\"MntFishProducts\",\"MntFishProducts\",\"MntFishProducts\",\"MntFishProducts\",\"MntFishProducts\",\"MntFishProducts\",\"MntFishProducts\",\"MntFishProducts\",\"MntFishProducts\",\"MntFishProducts\",\"MntFishProducts\",\"MntFishProducts\",\"MntFishProducts\",\"MntFishProducts\",\"MntFishProducts\",\"MntFishProducts\",\"MntFishProducts\",\"MntFishProducts\",\"MntFishProducts\",\"MntFishProducts\",\"MntFishProducts\",\"MntFishProducts\",\"MntFishProducts\",\"MntFishProducts\",\"MntFishProducts\",\"MntFishProducts\",\"MntFishProducts\",\"MntFishProducts\",\"MntFishProducts\",\"MntFishProducts\",\"MntFishProducts\",\"MntFishProducts\",\"MntFishProducts\",\"MntFishProducts\",\"MntFishProducts\",\"MntFishProducts\",\"MntFishProducts\",\"MntFishProducts\",\"MntFishProducts\",\"MntFishProducts\",\"MntFishProducts\",\"MntFishProducts\",\"MntFishProducts\",\"MntFishProducts\",\"MntFishProducts\",\"MntFishProducts\",\"MntFishProducts\",\"MntFishProducts\",\"MntFishProducts\",\"MntFishProducts\",\"MntFishProducts\",\"MntFishProducts\",\"MntFishProducts\",\"MntFishProducts\",\"MntFishProducts\",\"MntFishProducts\",\"MntFishProducts\",\"MntFishProducts\",\"MntFishProducts\",\"MntFishProducts\",\"MntFishProducts\",\"MntFishProducts\",\"MntFishProducts\",\"MntFishProducts\",\"MntFishProducts\",\"MntFishProducts\",\"MntFishProducts\",\"MntFishProducts\",\"MntFishProducts\",\"MntFishProducts\",\"MntFishProducts\",\"MntFishProducts\",\"MntFishProducts\",\"MntFishProducts\",\"MntFishProducts\",\"MntFishProducts\",\"MntFishProducts\",\"MntFishProducts\",\"MntFishProducts\",\"MntFishProducts\",\"MntFishProducts\",\"MntFishProducts\",\"MntFishProducts\",\"MntFishProducts\",\"MntFishProducts\",\"MntFishProducts\",\"MntFishProducts\",\"MntFishProducts\",\"MntFishProducts\",\"MntFishProducts\",\"MntFishProducts\",\"MntFishProducts\",\"MntFishProducts\",\"MntFishProducts\",\"MntFishProducts\",\"MntFishProducts\",\"MntFishProducts\",\"MntFishProducts\",\"MntFishProducts\",\"MntFishProducts\",\"MntFishProducts\",\"MntFishProducts\",\"MntFishProducts\",\"MntFishProducts\",\"MntFishProducts\",\"MntFishProducts\",\"MntFishProducts\",\"MntFishProducts\",\"MntFishProducts\",\"MntFishProducts\",\"MntFishProducts\",\"MntFishProducts\",\"MntFishProducts\",\"MntFishProducts\",\"MntFishProducts\",\"MntFishProducts\",\"MntFishProducts\",\"MntFishProducts\",\"MntFishProducts\",\"MntFishProducts\",\"MntFishProducts\",\"MntFishProducts\",\"MntFishProducts\",\"MntFishProducts\",\"MntFishProducts\",\"MntFishProducts\",\"MntFishProducts\",\"MntFishProducts\",\"MntFishProducts\",\"MntFishProducts\",\"MntFishProducts\",\"MntFishProducts\",\"MntFishProducts\",\"MntFishProducts\",\"MntFishProducts\",\"MntFishProducts\",\"MntFishProducts\",\"MntFishProducts\",\"MntFishProducts\",\"MntFishProducts\",\"MntFishProducts\",\"MntFishProducts\",\"MntFishProducts\",\"MntFishProducts\",\"MntFishProducts\",\"MntFishProducts\",\"MntFishProducts\",\"MntFishProducts\",\"MntFishProducts\",\"MntFishProducts\",\"MntFishProducts\",\"MntFishProducts\",\"MntFishProducts\",\"MntFishProducts\",\"MntFishProducts\",\"MntFishProducts\",\"MntFishProducts\",\"MntFishProducts\",\"MntFishProducts\",\"MntFishProducts\",\"MntFishProducts\",\"MntFishProducts\",\"MntFishProducts\",\"MntFishProducts\",\"MntFishProducts\",\"MntFishProducts\",\"MntFishProducts\",\"MntFishProducts\",\"MntFishProducts\",\"MntFishProducts\",\"MntFishProducts\",\"MntFishProducts\",\"MntFishProducts\",\"MntFishProducts\",\"MntFishProducts\",\"MntFishProducts\",\"MntFishProducts\",\"MntFishProducts\",\"MntFishProducts\",\"MntFishProducts\",\"MntFishProducts\",\"MntFishProducts\",\"MntFishProducts\",\"MntFishProducts\",\"MntFishProducts\",\"MntFishProducts\",\"MntFishProducts\",\"MntFishProducts\",\"MntFishProducts\",\"MntFishProducts\",\"MntFishProducts\",\"MntFishProducts\",\"MntFishProducts\",\"MntFishProducts\",\"MntFishProducts\",\"MntFishProducts\",\"MntFishProducts\",\"MntFishProducts\",\"MntFishProducts\",\"MntFishProducts\",\"MntFishProducts\",\"MntFishProducts\",\"MntFishProducts\",\"MntFishProducts\",\"MntFishProducts\",\"MntFishProducts\",\"MntFishProducts\",\"MntFishProducts\",\"MntFishProducts\",\"MntFishProducts\",\"MntFishProducts\",\"MntFishProducts\",\"MntFishProducts\",\"MntFishProducts\",\"MntFishProducts\",\"MntFishProducts\",\"MntFishProducts\",\"MntFishProducts\",\"MntFishProducts\",\"MntFishProducts\",\"MntFishProducts\",\"MntFishProducts\",\"MntFishProducts\",\"MntFishProducts\",\"MntFishProducts\",\"MntFishProducts\",\"MntFishProducts\",\"MntFishProducts\",\"MntFishProducts\",\"MntFishProducts\",\"MntFishProducts\",\"MntFishProducts\",\"MntFishProducts\",\"MntFishProducts\",\"MntFishProducts\",\"MntFishProducts\",\"MntFishProducts\",\"MntFishProducts\",\"MntFishProducts\",\"MntFishProducts\",\"MntFishProducts\",\"MntFishProducts\",\"MntFishProducts\",\"MntFishProducts\",\"MntFishProducts\",\"MntFishProducts\",\"MntFishProducts\",\"MntFishProducts\",\"MntFishProducts\",\"MntFishProducts\",\"MntFishProducts\",\"MntFishProducts\",\"MntFishProducts\",\"MntFishProducts\",\"MntFishProducts\",\"MntFishProducts\",\"MntFishProducts\",\"MntFishProducts\",\"MntFishProducts\",\"MntFishProducts\",\"MntFishProducts\",\"MntFishProducts\",\"MntFishProducts\",\"MntFishProducts\",\"MntFishProducts\",\"MntFishProducts\",\"MntFishProducts\",\"MntFishProducts\",\"MntFishProducts\",\"MntFishProducts\",\"MntFishProducts\",\"MntFishProducts\",\"MntFishProducts\",\"MntFishProducts\",\"MntFishProducts\",\"MntFishProducts\",\"MntFishProducts\",\"MntFishProducts\",\"MntFishProducts\",\"MntFishProducts\",\"MntFishProducts\",\"MntFishProducts\",\"MntFishProducts\",\"MntFishProducts\",\"MntFishProducts\",\"MntFishProducts\",\"MntFishProducts\",\"MntFishProducts\",\"MntFishProducts\",\"MntFishProducts\",\"MntFishProducts\",\"MntFishProducts\",\"MntFishProducts\",\"MntFishProducts\",\"MntFishProducts\",\"MntFishProducts\",\"MntFishProducts\",\"MntFishProducts\",\"MntFishProducts\",\"MntFishProducts\",\"MntFishProducts\",\"MntFishProducts\",\"MntFishProducts\",\"MntFishProducts\",\"MntFishProducts\",\"MntFishProducts\",\"MntFishProducts\",\"MntFishProducts\",\"MntFishProducts\",\"MntFishProducts\",\"MntFishProducts\",\"MntFishProducts\",\"MntFishProducts\",\"MntFishProducts\",\"MntFishProducts\",\"MntFishProducts\",\"MntFishProducts\",\"MntFishProducts\",\"MntFishProducts\",\"MntFishProducts\",\"MntFishProducts\",\"MntFishProducts\",\"MntFishProducts\",\"MntFishProducts\",\"MntFishProducts\",\"MntFishProducts\",\"MntFishProducts\",\"MntFishProducts\",\"MntFishProducts\",\"MntFishProducts\",\"MntFishProducts\",\"MntFishProducts\",\"MntFishProducts\",\"MntFishProducts\",\"MntFishProducts\",\"MntFishProducts\",\"MntFishProducts\",\"MntFishProducts\",\"MntFishProducts\",\"MntFishProducts\",\"MntFishProducts\",\"MntFishProducts\",\"MntFishProducts\",\"MntFishProducts\",\"MntFishProducts\",\"MntFishProducts\",\"MntFishProducts\",\"MntFishProducts\",\"MntFishProducts\",\"MntFishProducts\",\"MntFishProducts\",\"MntFishProducts\",\"MntFishProducts\",\"MntFishProducts\",\"MntFishProducts\",\"MntFishProducts\",\"MntFishProducts\",\"MntFishProducts\",\"MntFishProducts\",\"MntFishProducts\",\"MntFishProducts\",\"MntFishProducts\",\"MntFishProducts\",\"MntFishProducts\",\"MntFishProducts\",\"MntFishProducts\",\"MntFishProducts\",\"MntFishProducts\",\"MntFishProducts\",\"MntFishProducts\",\"MntFishProducts\",\"MntFishProducts\",\"MntFishProducts\",\"MntFishProducts\",\"MntFishProducts\",\"MntFishProducts\",\"MntFishProducts\",\"MntFishProducts\",\"MntFishProducts\",\"MntFishProducts\",\"MntFishProducts\",\"MntFishProducts\",\"MntFishProducts\",\"MntFishProducts\",\"MntFishProducts\",\"MntFishProducts\",\"MntFishProducts\",\"MntFishProducts\",\"MntFishProducts\",\"MntFishProducts\",\"MntFishProducts\",\"MntFishProducts\",\"MntFishProducts\",\"MntFishProducts\",\"MntFishProducts\",\"MntFishProducts\",\"MntFishProducts\",\"MntFishProducts\",\"MntFishProducts\",\"MntFishProducts\",\"MntFishProducts\",\"MntFishProducts\",\"MntFishProducts\",\"MntFishProducts\",\"MntFishProducts\",\"MntFishProducts\",\"MntFishProducts\",\"MntFishProducts\",\"MntFishProducts\",\"MntFishProducts\",\"MntFishProducts\",\"MntFishProducts\",\"MntFishProducts\",\"MntFishProducts\",\"MntFishProducts\",\"MntFishProducts\",\"MntFishProducts\",\"MntFishProducts\",\"MntFishProducts\",\"MntFishProducts\",\"MntFishProducts\",\"MntFishProducts\",\"MntFishProducts\",\"MntFishProducts\",\"MntFishProducts\",\"MntFishProducts\",\"MntFishProducts\",\"MntFishProducts\",\"MntFishProducts\",\"MntFishProducts\",\"MntFishProducts\",\"MntFishProducts\",\"MntFishProducts\",\"MntFishProducts\",\"MntFishProducts\",\"MntFishProducts\",\"MntFishProducts\",\"MntFishProducts\",\"MntFishProducts\",\"MntFishProducts\",\"MntFishProducts\",\"MntFishProducts\",\"MntFishProducts\",\"MntFishProducts\",\"MntFishProducts\",\"MntFishProducts\",\"MntFishProducts\",\"MntFishProducts\",\"MntFishProducts\",\"MntFishProducts\",\"MntFishProducts\",\"MntFishProducts\",\"MntFishProducts\",\"MntFishProducts\",\"MntFishProducts\",\"MntFishProducts\",\"MntFishProducts\",\"MntFishProducts\",\"MntFishProducts\",\"MntFishProducts\",\"MntFishProducts\",\"MntFishProducts\",\"MntFishProducts\",\"MntFishProducts\",\"MntFishProducts\",\"MntFishProducts\",\"MntFishProducts\",\"MntFishProducts\",\"MntFishProducts\",\"MntFishProducts\",\"MntFishProducts\",\"MntFishProducts\",\"MntFishProducts\",\"MntFishProducts\",\"MntFishProducts\",\"MntFishProducts\",\"MntFishProducts\",\"MntFishProducts\",\"MntFishProducts\",\"MntFishProducts\",\"MntFishProducts\",\"MntFishProducts\",\"MntFishProducts\",\"MntFishProducts\",\"MntFishProducts\",\"MntFishProducts\",\"MntFishProducts\",\"MntFishProducts\",\"MntFishProducts\",\"MntFishProducts\",\"MntFishProducts\",\"MntFishProducts\",\"MntFishProducts\",\"MntFishProducts\",\"MntFishProducts\",\"MntFishProducts\",\"MntFishProducts\",\"MntFishProducts\",\"MntFishProducts\",\"MntFishProducts\",\"MntFishProducts\",\"MntFishProducts\",\"MntFishProducts\",\"MntFishProducts\",\"MntFishProducts\",\"MntFishProducts\",\"MntFishProducts\",\"MntFishProducts\",\"MntFishProducts\",\"MntFishProducts\",\"MntFishProducts\",\"MntFishProducts\",\"MntFishProducts\",\"MntFishProducts\",\"MntFishProducts\",\"MntFishProducts\",\"MntFishProducts\",\"MntFishProducts\",\"MntFishProducts\",\"MntFishProducts\",\"MntFishProducts\",\"MntFishProducts\",\"MntFishProducts\",\"MntFishProducts\",\"MntFishProducts\",\"MntFishProducts\",\"MntFishProducts\",\"MntFishProducts\",\"MntFishProducts\",\"MntFishProducts\",\"MntFishProducts\",\"MntFishProducts\",\"MntFishProducts\",\"MntFishProducts\",\"MntFishProducts\",\"MntFishProducts\",\"MntFishProducts\",\"MntFishProducts\",\"MntFishProducts\",\"MntFishProducts\",\"MntFishProducts\",\"MntFishProducts\",\"MntFishProducts\",\"MntFishProducts\",\"MntFishProducts\",\"MntFishProducts\",\"MntFishProducts\",\"MntFishProducts\",\"MntFishProducts\",\"MntFishProducts\",\"MntFishProducts\",\"MntFishProducts\",\"MntFishProducts\",\"MntFishProducts\",\"MntFishProducts\",\"MntFishProducts\",\"MntFishProducts\",\"MntFishProducts\",\"MntFishProducts\",\"MntFishProducts\",\"MntFishProducts\",\"MntFishProducts\",\"MntFishProducts\",\"MntFishProducts\",\"MntFishProducts\",\"MntFishProducts\",\"MntFishProducts\",\"MntFishProducts\",\"MntFishProducts\",\"MntFishProducts\",\"MntFishProducts\",\"MntFishProducts\",\"MntFishProducts\",\"MntFishProducts\",\"MntFishProducts\",\"MntFishProducts\",\"MntFishProducts\",\"MntFishProducts\",\"MntFishProducts\",\"MntFishProducts\",\"MntFishProducts\",\"MntFishProducts\",\"MntFishProducts\",\"MntFishProducts\",\"MntFishProducts\",\"MntFishProducts\",\"MntFishProducts\",\"MntFishProducts\",\"MntFishProducts\",\"MntFishProducts\",\"MntFishProducts\",\"MntFishProducts\",\"MntFishProducts\",\"MntFishProducts\",\"MntFishProducts\",\"MntFishProducts\",\"MntFishProducts\",\"MntFishProducts\",\"MntFishProducts\",\"MntFishProducts\",\"MntFishProducts\",\"MntFishProducts\",\"MntFishProducts\",\"MntFishProducts\",\"MntFishProducts\",\"MntFishProducts\",\"MntFishProducts\",\"MntFishProducts\",\"MntFishProducts\",\"MntFishProducts\",\"MntFishProducts\",\"MntFishProducts\",\"MntFishProducts\",\"MntFishProducts\",\"MntFishProducts\",\"MntFishProducts\",\"MntFishProducts\",\"MntFishProducts\",\"MntFishProducts\",\"MntFishProducts\",\"MntFishProducts\",\"MntFishProducts\",\"MntFishProducts\",\"MntFishProducts\",\"MntFishProducts\",\"MntFishProducts\",\"MntFishProducts\",\"MntFishProducts\",\"MntFishProducts\",\"MntFishProducts\",\"MntFishProducts\",\"MntFishProducts\",\"MntFishProducts\",\"MntFishProducts\",\"MntFishProducts\",\"MntFishProducts\",\"MntFishProducts\",\"MntFishProducts\",\"MntFishProducts\",\"MntFishProducts\",\"MntFishProducts\",\"MntFishProducts\",\"MntFishProducts\",\"MntFishProducts\",\"MntFishProducts\",\"MntFishProducts\",\"MntFishProducts\",\"MntFishProducts\",\"MntFishProducts\",\"MntFishProducts\",\"MntFishProducts\",\"MntFishProducts\",\"MntFishProducts\",\"MntFishProducts\",\"MntFishProducts\",\"MntFishProducts\",\"MntFishProducts\",\"MntFishProducts\",\"MntFishProducts\",\"MntFishProducts\",\"MntFishProducts\",\"MntFishProducts\",\"MntFishProducts\",\"MntFishProducts\",\"MntFishProducts\",\"MntFishProducts\",\"MntFishProducts\",\"MntFishProducts\",\"MntFishProducts\",\"MntFishProducts\",\"MntFishProducts\",\"MntFishProducts\",\"MntFishProducts\",\"MntFishProducts\",\"MntFishProducts\",\"MntFishProducts\",\"MntFishProducts\",\"MntFishProducts\",\"MntFishProducts\",\"MntFishProducts\",\"MntFishProducts\",\"MntFishProducts\",\"MntFishProducts\",\"MntFishProducts\",\"MntFishProducts\",\"MntFishProducts\",\"MntFishProducts\",\"MntFishProducts\",\"MntFishProducts\",\"MntFishProducts\",\"MntFishProducts\",\"MntFishProducts\",\"MntFishProducts\",\"MntFishProducts\",\"MntFishProducts\",\"MntFishProducts\",\"MntFishProducts\",\"MntFishProducts\",\"MntFishProducts\",\"MntFishProducts\",\"MntFishProducts\",\"MntFishProducts\",\"MntFishProducts\",\"MntFishProducts\",\"MntFishProducts\",\"MntFishProducts\",\"MntFishProducts\",\"MntFishProducts\",\"MntFishProducts\",\"MntFishProducts\",\"MntFishProducts\",\"MntFishProducts\",\"MntFishProducts\",\"MntFishProducts\",\"MntFishProducts\",\"MntFishProducts\",\"MntFishProducts\",\"MntFishProducts\",\"MntFishProducts\",\"MntFishProducts\",\"MntFishProducts\",\"MntFishProducts\",\"MntFishProducts\",\"MntFishProducts\",\"MntFishProducts\",\"MntFishProducts\",\"MntFishProducts\",\"MntFishProducts\",\"MntFishProducts\",\"MntFishProducts\",\"MntFishProducts\",\"MntFishProducts\",\"MntFishProducts\",\"MntFishProducts\",\"MntFishProducts\",\"MntFishProducts\",\"MntFishProducts\",\"MntFishProducts\",\"MntFishProducts\",\"MntFishProducts\",\"MntFishProducts\",\"MntFishProducts\",\"MntFishProducts\",\"MntFishProducts\",\"MntFishProducts\",\"MntFishProducts\",\"MntFishProducts\",\"MntFishProducts\",\"MntFishProducts\",\"MntFishProducts\",\"MntFishProducts\",\"MntFishProducts\",\"MntFishProducts\",\"MntFishProducts\",\"MntFishProducts\",\"MntFishProducts\",\"MntFishProducts\",\"MntFishProducts\",\"MntFishProducts\",\"MntFishProducts\",\"MntFishProducts\",\"MntFishProducts\",\"MntFishProducts\",\"MntFishProducts\",\"MntFishProducts\",\"MntFishProducts\",\"MntFishProducts\",\"MntFishProducts\",\"MntFishProducts\",\"MntFishProducts\",\"MntFishProducts\",\"MntFishProducts\",\"MntFishProducts\",\"MntFishProducts\",\"MntFishProducts\",\"MntFishProducts\",\"MntFishProducts\",\"MntFishProducts\",\"MntFishProducts\",\"MntFishProducts\",\"MntFishProducts\",\"MntFishProducts\",\"MntFishProducts\",\"MntFishProducts\",\"MntFishProducts\",\"MntFishProducts\",\"MntFishProducts\",\"MntFishProducts\",\"MntFishProducts\",\"MntFishProducts\",\"MntFishProducts\",\"MntFishProducts\",\"MntFishProducts\",\"MntFishProducts\",\"MntFishProducts\",\"MntFishProducts\",\"MntFishProducts\",\"MntFishProducts\",\"MntFishProducts\",\"MntFishProducts\",\"MntFishProducts\",\"MntFishProducts\",\"MntFishProducts\",\"MntFishProducts\",\"MntFishProducts\",\"MntFishProducts\",\"MntFishProducts\",\"MntFishProducts\",\"MntFishProducts\",\"MntFishProducts\",\"MntFishProducts\",\"MntFishProducts\",\"MntFishProducts\",\"MntFishProducts\",\"MntFishProducts\",\"MntFishProducts\",\"MntFishProducts\",\"MntFishProducts\",\"MntFishProducts\",\"MntFishProducts\",\"MntFishProducts\",\"MntFishProducts\",\"MntFishProducts\",\"MntFishProducts\",\"MntFishProducts\",\"MntFishProducts\",\"MntFishProducts\",\"MntFishProducts\",\"MntFishProducts\",\"MntFishProducts\",\"MntFishProducts\",\"MntFishProducts\",\"MntFishProducts\",\"MntFishProducts\",\"MntFishProducts\",\"MntFishProducts\",\"MntFishProducts\",\"MntFishProducts\",\"MntFishProducts\",\"MntFishProducts\",\"MntFishProducts\",\"MntFishProducts\",\"MntFishProducts\",\"MntFishProducts\",\"MntFishProducts\",\"MntFishProducts\",\"MntFishProducts\",\"MntFishProducts\",\"MntFishProducts\",\"MntFishProducts\",\"MntFishProducts\",\"MntFishProducts\",\"MntFishProducts\",\"MntFishProducts\",\"MntFishProducts\",\"MntFishProducts\",\"MntFishProducts\",\"MntFishProducts\",\"MntFishProducts\",\"MntFishProducts\",\"MntFishProducts\",\"MntFishProducts\",\"MntFishProducts\",\"MntFishProducts\",\"MntFishProducts\",\"MntFishProducts\",\"MntFishProducts\",\"MntFishProducts\",\"MntFishProducts\",\"MntFishProducts\",\"MntFishProducts\",\"MntFishProducts\",\"MntFishProducts\",\"MntFishProducts\",\"MntFishProducts\",\"MntFishProducts\",\"MntFishProducts\",\"MntFishProducts\",\"MntFishProducts\",\"MntFishProducts\",\"MntFishProducts\",\"MntFishProducts\",\"MntFishProducts\",\"MntFishProducts\",\"MntFishProducts\",\"MntFishProducts\",\"MntFishProducts\",\"MntFishProducts\",\"MntFishProducts\",\"MntFishProducts\",\"MntFishProducts\",\"MntFishProducts\",\"MntFishProducts\",\"MntFishProducts\",\"MntFishProducts\",\"MntFishProducts\",\"MntFishProducts\",\"MntFishProducts\",\"MntFishProducts\",\"MntFishProducts\",\"MntFishProducts\",\"MntFishProducts\",\"MntFishProducts\",\"MntFishProducts\",\"MntFishProducts\",\"MntFishProducts\",\"MntFishProducts\",\"MntFishProducts\",\"MntFishProducts\",\"MntFishProducts\",\"MntFishProducts\",\"MntFishProducts\",\"MntFishProducts\",\"MntFishProducts\",\"MntFishProducts\",\"MntFishProducts\",\"MntFishProducts\",\"MntFishProducts\",\"MntFishProducts\",\"MntFishProducts\",\"MntFishProducts\",\"MntFishProducts\",\"MntFishProducts\",\"MntFishProducts\",\"MntFishProducts\",\"MntFishProducts\",\"MntFishProducts\",\"MntFishProducts\",\"MntFishProducts\",\"MntFishProducts\",\"MntFishProducts\",\"MntFishProducts\",\"MntFishProducts\",\"MntFishProducts\",\"MntFishProducts\",\"MntFishProducts\",\"MntFishProducts\",\"MntFishProducts\",\"MntFishProducts\",\"MntFishProducts\",\"MntFishProducts\",\"MntFishProducts\",\"MntFishProducts\",\"MntFishProducts\",\"MntFishProducts\",\"MntFishProducts\",\"MntFishProducts\",\"MntFishProducts\",\"MntFishProducts\",\"MntFishProducts\",\"MntFishProducts\",\"MntFishProducts\",\"MntFishProducts\",\"MntFishProducts\",\"MntFishProducts\",\"MntFishProducts\",\"MntFishProducts\",\"MntFishProducts\",\"MntFishProducts\",\"MntFishProducts\",\"MntFishProducts\",\"MntFishProducts\",\"MntFishProducts\",\"MntFishProducts\",\"MntFishProducts\",\"MntFishProducts\",\"MntFishProducts\",\"MntFishProducts\",\"MntFishProducts\",\"MntFishProducts\",\"MntFishProducts\",\"MntFishProducts\",\"MntFishProducts\",\"MntFishProducts\",\"MntFishProducts\",\"MntFishProducts\",\"MntFishProducts\",\"MntFishProducts\",\"MntFishProducts\",\"MntFishProducts\",\"MntFishProducts\",\"MntFishProducts\",\"MntFishProducts\",\"MntFishProducts\",\"MntFishProducts\",\"MntFishProducts\",\"MntFishProducts\",\"MntFishProducts\",\"MntFishProducts\",\"MntFishProducts\",\"MntFishProducts\",\"MntFishProducts\",\"MntFishProducts\",\"MntFishProducts\",\"MntFishProducts\",\"MntFishProducts\",\"MntFishProducts\",\"MntFishProducts\",\"MntFishProducts\",\"MntFishProducts\",\"MntFishProducts\",\"MntFishProducts\",\"MntFishProducts\",\"MntFishProducts\",\"MntFishProducts\",\"MntFishProducts\",\"MntFishProducts\",\"MntFishProducts\",\"MntFishProducts\",\"MntFishProducts\",\"MntFishProducts\",\"MntFishProducts\",\"MntFishProducts\",\"MntFishProducts\",\"MntFishProducts\",\"MntFishProducts\",\"MntFishProducts\",\"MntFishProducts\",\"MntFishProducts\",\"MntFishProducts\",\"MntFishProducts\",\"MntFishProducts\",\"MntFishProducts\",\"MntFishProducts\",\"MntFishProducts\",\"MntFishProducts\",\"MntFishProducts\",\"MntFishProducts\",\"MntFishProducts\",\"MntFishProducts\",\"MntFishProducts\",\"MntFishProducts\",\"MntFishProducts\",\"MntFishProducts\",\"MntFishProducts\",\"MntFishProducts\",\"MntFishProducts\",\"MntFishProducts\",\"MntFishProducts\",\"MntFishProducts\",\"MntFishProducts\",\"MntFishProducts\",\"MntFishProducts\",\"MntFishProducts\",\"MntFishProducts\",\"MntFishProducts\",\"MntFishProducts\",\"MntFishProducts\",\"MntFishProducts\",\"MntFishProducts\",\"MntFishProducts\",\"MntFishProducts\",\"MntFishProducts\",\"MntFishProducts\",\"MntFishProducts\",\"MntFishProducts\",\"MntFishProducts\",\"MntFishProducts\",\"MntFishProducts\",\"MntFishProducts\",\"MntFishProducts\",\"MntFishProducts\",\"MntFishProducts\",\"MntFishProducts\",\"MntFishProducts\",\"MntFishProducts\",\"MntFishProducts\",\"MntFishProducts\",\"MntFishProducts\",\"MntFishProducts\",\"MntFishProducts\",\"MntFishProducts\",\"MntFishProducts\",\"MntFishProducts\",\"MntFishProducts\",\"MntFishProducts\",\"MntFishProducts\",\"MntFishProducts\",\"MntFishProducts\",\"MntFishProducts\",\"MntFishProducts\",\"MntFishProducts\",\"MntFishProducts\",\"MntFishProducts\",\"MntFishProducts\",\"MntFishProducts\",\"MntFishProducts\",\"MntFishProducts\",\"MntFishProducts\",\"MntFishProducts\",\"MntFishProducts\",\"MntFishProducts\",\"MntFishProducts\",\"MntFishProducts\",\"MntFishProducts\",\"MntFishProducts\",\"MntFishProducts\",\"MntFishProducts\",\"MntFishProducts\",\"MntFishProducts\",\"MntFishProducts\",\"MntFishProducts\",\"MntFishProducts\",\"MntFishProducts\",\"MntFishProducts\",\"MntFishProducts\",\"MntFishProducts\",\"MntFishProducts\",\"MntFishProducts\",\"MntFishProducts\",\"MntFishProducts\",\"MntFishProducts\",\"MntFishProducts\",\"MntFishProducts\",\"MntFishProducts\",\"MntFishProducts\",\"MntFishProducts\",\"MntFishProducts\",\"MntFishProducts\",\"MntFishProducts\",\"MntFishProducts\",\"MntFishProducts\",\"MntFishProducts\",\"MntFishProducts\",\"MntFishProducts\",\"MntFishProducts\",\"MntFishProducts\",\"MntFishProducts\",\"MntFishProducts\",\"MntFishProducts\",\"MntFishProducts\",\"MntFishProducts\",\"MntFishProducts\",\"MntFishProducts\",\"MntFishProducts\",\"MntFishProducts\",\"MntFishProducts\",\"MntFishProducts\",\"MntFishProducts\",\"MntFishProducts\",\"MntFishProducts\",\"MntFishProducts\",\"MntFishProducts\",\"MntFishProducts\",\"MntFishProducts\",\"MntFishProducts\",\"MntFishProducts\",\"MntFishProducts\",\"MntFishProducts\",\"MntFishProducts\",\"MntFishProducts\",\"MntFishProducts\",\"MntFishProducts\",\"MntFishProducts\",\"MntFishProducts\",\"MntFishProducts\",\"MntFishProducts\",\"MntFishProducts\",\"MntFishProducts\",\"MntFishProducts\",\"MntFishProducts\",\"MntFishProducts\",\"MntFishProducts\",\"MntFishProducts\",\"MntFishProducts\",\"MntFishProducts\",\"MntFishProducts\",\"MntFishProducts\",\"MntFishProducts\",\"MntFishProducts\",\"MntFishProducts\",\"MntFishProducts\",\"MntFishProducts\",\"MntFishProducts\",\"MntFishProducts\",\"MntFishProducts\",\"MntFishProducts\",\"MntFishProducts\",\"MntFishProducts\",\"MntFishProducts\",\"MntFishProducts\",\"MntFishProducts\",\"MntFishProducts\",\"MntFishProducts\",\"MntFishProducts\",\"MntFishProducts\",\"MntFishProducts\",\"MntFishProducts\",\"MntFishProducts\",\"MntFishProducts\",\"MntFishProducts\",\"MntFishProducts\",\"MntFishProducts\",\"MntFishProducts\",\"MntFishProducts\",\"MntFishProducts\",\"MntFishProducts\",\"MntFishProducts\",\"MntFishProducts\",\"MntFishProducts\",\"MntFishProducts\",\"MntFishProducts\",\"MntFishProducts\",\"MntFishProducts\",\"MntFishProducts\",\"MntFishProducts\",\"MntFishProducts\",\"MntFishProducts\",\"MntFishProducts\",\"MntFishProducts\",\"MntFishProducts\",\"MntFishProducts\",\"MntFishProducts\",\"MntFishProducts\",\"MntFishProducts\",\"MntFishProducts\",\"MntFishProducts\",\"MntFishProducts\",\"MntFishProducts\",\"MntFishProducts\",\"MntFishProducts\",\"MntFishProducts\",\"MntFishProducts\",\"MntFishProducts\",\"MntFishProducts\",\"MntFishProducts\",\"MntFishProducts\",\"MntFishProducts\",\"MntFishProducts\",\"MntFishProducts\",\"MntFishProducts\",\"MntFishProducts\",\"MntFishProducts\",\"MntFishProducts\",\"MntFishProducts\",\"MntFishProducts\",\"MntFishProducts\",\"MntFishProducts\",\"MntFishProducts\",\"MntFishProducts\",\"MntFishProducts\",\"MntFishProducts\",\"MntFishProducts\",\"MntFishProducts\",\"MntFishProducts\",\"MntFishProducts\",\"MntFishProducts\",\"MntFishProducts\",\"MntFishProducts\",\"MntFishProducts\",\"MntFishProducts\",\"MntFishProducts\",\"MntFishProducts\",\"MntFishProducts\",\"MntFishProducts\",\"MntFishProducts\",\"MntFishProducts\",\"MntFishProducts\",\"MntFishProducts\",\"MntFishProducts\",\"MntFishProducts\",\"MntFishProducts\",\"MntFishProducts\",\"MntFishProducts\",\"MntFishProducts\",\"MntFishProducts\",\"MntFishProducts\",\"MntFishProducts\",\"MntFishProducts\",\"MntFishProducts\",\"MntFishProducts\",\"MntFishProducts\",\"MntFishProducts\",\"MntFishProducts\",\"MntFishProducts\",\"MntFishProducts\",\"MntFishProducts\",\"MntFishProducts\",\"MntFishProducts\",\"MntFishProducts\",\"MntFishProducts\",\"MntFishProducts\",\"MntFishProducts\",\"MntFishProducts\",\"MntFishProducts\",\"MntFishProducts\",\"MntFishProducts\",\"MntFishProducts\",\"MntFishProducts\",\"MntFishProducts\",\"MntFishProducts\",\"MntFishProducts\",\"MntFishProducts\",\"MntFishProducts\",\"MntFishProducts\",\"MntFishProducts\",\"MntFishProducts\",\"MntFishProducts\",\"MntFishProducts\",\"MntFishProducts\",\"MntFishProducts\",\"MntFishProducts\",\"MntFishProducts\",\"MntFishProducts\",\"MntFishProducts\",\"MntFishProducts\",\"MntFishProducts\",\"MntFishProducts\",\"MntFishProducts\",\"MntFishProducts\",\"MntFishProducts\",\"MntFishProducts\",\"MntFishProducts\",\"MntFishProducts\",\"MntFishProducts\",\"MntFishProducts\",\"MntFishProducts\",\"MntFishProducts\",\"MntFishProducts\",\"MntFishProducts\",\"MntFishProducts\",\"MntFishProducts\",\"MntFishProducts\",\"MntFishProducts\",\"MntFishProducts\",\"MntFishProducts\",\"MntFishProducts\",\"MntFishProducts\",\"MntFishProducts\",\"MntFishProducts\",\"MntFishProducts\",\"MntFishProducts\",\"MntFishProducts\",\"MntFishProducts\",\"MntFishProducts\",\"MntFishProducts\",\"MntFishProducts\",\"MntFishProducts\",\"MntFishProducts\",\"MntFishProducts\",\"MntFishProducts\",\"MntFishProducts\",\"MntFishProducts\",\"MntFishProducts\",\"MntFishProducts\",\"MntFishProducts\",\"MntFishProducts\",\"MntFishProducts\",\"MntFishProducts\",\"MntFishProducts\",\"MntFishProducts\",\"MntFishProducts\",\"MntFishProducts\",\"MntFishProducts\",\"MntFishProducts\",\"MntFishProducts\",\"MntFishProducts\",\"MntFishProducts\",\"MntFishProducts\",\"MntFishProducts\",\"MntFishProducts\",\"MntFishProducts\",\"MntFishProducts\",\"MntFishProducts\",\"MntFishProducts\",\"MntFishProducts\",\"MntFishProducts\",\"MntFishProducts\",\"MntFishProducts\",\"MntFishProducts\",\"MntFishProducts\",\"MntFishProducts\",\"MntFishProducts\",\"MntFishProducts\",\"MntFishProducts\",\"MntFishProducts\",\"MntFishProducts\",\"MntFishProducts\",\"MntFishProducts\",\"MntFishProducts\",\"MntFishProducts\",\"MntFishProducts\",\"MntFishProducts\",\"MntFishProducts\",\"MntFishProducts\",\"MntFishProducts\",\"MntFishProducts\",\"MntFishProducts\",\"MntFishProducts\",\"MntFishProducts\",\"MntFishProducts\",\"MntFishProducts\",\"MntFishProducts\",\"MntFishProducts\",\"MntFishProducts\",\"MntFishProducts\",\"MntFishProducts\",\"MntFishProducts\",\"MntFishProducts\",\"MntFishProducts\",\"MntFishProducts\",\"MntFishProducts\",\"MntFishProducts\",\"MntFishProducts\",\"MntFishProducts\",\"MntFishProducts\",\"MntFishProducts\",\"MntFishProducts\",\"MntFishProducts\",\"MntFishProducts\",\"MntFishProducts\",\"MntFishProducts\",\"MntFishProducts\",\"MntFishProducts\",\"MntFishProducts\",\"MntFishProducts\",\"MntFishProducts\",\"MntFishProducts\",\"MntFishProducts\",\"MntFishProducts\",\"MntFishProducts\",\"MntFishProducts\",\"MntFishProducts\",\"MntFishProducts\",\"MntFishProducts\",\"MntFishProducts\",\"MntFishProducts\",\"MntFishProducts\",\"MntFishProducts\",\"MntFishProducts\",\"MntFishProducts\",\"MntFishProducts\",\"MntFishProducts\",\"MntFishProducts\",\"MntFishProducts\",\"MntFishProducts\",\"MntFishProducts\",\"MntFishProducts\",\"MntFishProducts\",\"MntFishProducts\",\"MntFishProducts\",\"MntFishProducts\",\"MntFishProducts\",\"MntFishProducts\",\"MntFishProducts\",\"MntFishProducts\",\"MntFishProducts\",\"MntFishProducts\",\"MntFishProducts\",\"MntFishProducts\",\"MntFishProducts\",\"MntFishProducts\",\"MntFishProducts\",\"MntFishProducts\",\"MntFishProducts\",\"MntFishProducts\",\"MntFishProducts\",\"MntFishProducts\",\"MntFishProducts\",\"MntFishProducts\",\"MntFishProducts\",\"MntFishProducts\",\"MntFishProducts\",\"MntFishProducts\",\"MntFishProducts\",\"MntFishProducts\",\"MntFishProducts\",\"MntFishProducts\",\"MntFishProducts\",\"MntFishProducts\",\"MntFishProducts\",\"MntFishProducts\",\"MntFishProducts\",\"MntFishProducts\",\"MntFishProducts\",\"MntFishProducts\",\"MntFishProducts\",\"MntFishProducts\",\"MntFishProducts\",\"MntFishProducts\",\"MntFishProducts\",\"MntFishProducts\",\"MntFishProducts\",\"MntFishProducts\",\"MntFishProducts\",\"MntFishProducts\",\"MntFishProducts\",\"MntFishProducts\",\"MntFishProducts\",\"MntFishProducts\",\"MntFishProducts\",\"MntFishProducts\",\"MntFishProducts\",\"MntFishProducts\",\"MntFishProducts\",\"MntFishProducts\",\"MntFishProducts\",\"MntFishProducts\",\"MntFishProducts\",\"MntFishProducts\",\"MntFishProducts\",\"MntFishProducts\",\"MntFishProducts\",\"MntFishProducts\",\"MntFishProducts\",\"MntFishProducts\",\"MntFishProducts\",\"MntFishProducts\",\"MntFishProducts\",\"MntFishProducts\",\"MntFishProducts\",\"MntFishProducts\",\"MntFishProducts\",\"MntFishProducts\",\"MntFishProducts\",\"MntFishProducts\",\"MntFishProducts\",\"MntFishProducts\",\"MntFishProducts\",\"MntFishProducts\",\"MntFishProducts\",\"MntFishProducts\",\"MntFishProducts\",\"MntFishProducts\",\"MntFishProducts\",\"MntFishProducts\",\"MntFishProducts\",\"MntFishProducts\",\"MntFishProducts\",\"MntFishProducts\",\"MntFishProducts\",\"MntFishProducts\",\"MntFishProducts\",\"MntFishProducts\",\"MntFishProducts\",\"MntFishProducts\",\"MntFishProducts\",\"MntFishProducts\",\"MntFishProducts\",\"MntFishProducts\",\"MntFishProducts\",\"MntFishProducts\",\"MntFishProducts\",\"MntFishProducts\",\"MntFishProducts\",\"MntFishProducts\",\"MntFishProducts\",\"MntFishProducts\",\"MntFishProducts\",\"MntFishProducts\",\"MntFishProducts\",\"MntFishProducts\",\"MntFishProducts\",\"MntFishProducts\",\"MntFishProducts\",\"MntFishProducts\",\"MntFishProducts\",\"MntFishProducts\",\"MntFishProducts\",\"MntFishProducts\",\"MntFishProducts\",\"MntFishProducts\",\"MntFishProducts\",\"MntFishProducts\",\"MntFishProducts\",\"MntFishProducts\",\"MntFishProducts\",\"MntFishProducts\",\"MntFishProducts\",\"MntFishProducts\",\"MntFishProducts\",\"MntFishProducts\",\"MntFishProducts\",\"MntFishProducts\",\"MntFishProducts\",\"MntFishProducts\",\"MntFishProducts\",\"MntFishProducts\",\"MntFishProducts\",\"MntFishProducts\",\"MntFishProducts\",\"MntFishProducts\",\"MntFishProducts\",\"MntFishProducts\",\"MntFishProducts\",\"MntFishProducts\",\"MntFishProducts\",\"MntFishProducts\",\"MntFishProducts\",\"MntFishProducts\",\"MntFishProducts\",\"MntFishProducts\",\"MntFishProducts\",\"MntFishProducts\",\"MntFishProducts\",\"MntFishProducts\",\"MntFishProducts\",\"MntFishProducts\",\"MntFishProducts\",\"MntFishProducts\",\"MntFishProducts\",\"MntFishProducts\",\"MntFishProducts\",\"MntFishProducts\",\"MntFishProducts\",\"MntFishProducts\",\"MntFishProducts\",\"MntFishProducts\",\"MntFishProducts\",\"MntFishProducts\",\"MntFishProducts\",\"MntFishProducts\",\"MntFishProducts\",\"MntFishProducts\",\"MntFishProducts\",\"MntFishProducts\",\"MntFishProducts\",\"MntFishProducts\",\"MntFishProducts\",\"MntFishProducts\",\"MntFishProducts\",\"MntFishProducts\",\"MntFishProducts\",\"MntFishProducts\",\"MntFishProducts\",\"MntFishProducts\",\"MntFishProducts\",\"MntFishProducts\",\"MntFishProducts\",\"MntFishProducts\",\"MntFishProducts\",\"MntFishProducts\",\"MntFishProducts\",\"MntFishProducts\",\"MntFishProducts\",\"MntFishProducts\",\"MntFishProducts\",\"MntFishProducts\",\"MntFishProducts\",\"MntFishProducts\",\"MntFishProducts\",\"MntFishProducts\",\"MntFishProducts\",\"MntFishProducts\",\"MntFishProducts\",\"MntFishProducts\",\"MntFishProducts\",\"MntFishProducts\",\"MntFishProducts\",\"MntFishProducts\",\"MntFishProducts\",\"MntFishProducts\",\"MntFishProducts\",\"MntFishProducts\",\"MntFishProducts\",\"MntFishProducts\",\"MntFishProducts\",\"MntFishProducts\",\"MntFishProducts\",\"MntFishProducts\",\"MntFishProducts\",\"MntFishProducts\",\"MntFishProducts\",\"MntFishProducts\",\"MntFishProducts\",\"MntFishProducts\",\"MntFishProducts\",\"MntFishProducts\",\"MntFishProducts\",\"MntFishProducts\",\"MntFishProducts\",\"MntFishProducts\",\"MntFishProducts\",\"MntFishProducts\",\"MntFishProducts\",\"MntFishProducts\",\"MntFishProducts\",\"MntFishProducts\",\"MntFishProducts\",\"MntFishProducts\",\"MntFishProducts\",\"MntFishProducts\",\"MntFishProducts\",\"MntFishProducts\",\"MntFishProducts\",\"MntFishProducts\",\"MntFishProducts\",\"MntFishProducts\",\"MntFishProducts\",\"MntFishProducts\",\"MntFishProducts\",\"MntFishProducts\",\"MntFishProducts\",\"MntFishProducts\",\"MntFishProducts\",\"MntFishProducts\",\"MntFishProducts\",\"MntFishProducts\",\"MntFishProducts\",\"MntFishProducts\",\"MntFishProducts\",\"MntFishProducts\",\"MntFishProducts\",\"MntFishProducts\",\"MntFishProducts\",\"MntFishProducts\",\"MntFishProducts\",\"MntFishProducts\",\"MntFishProducts\",\"MntFishProducts\",\"MntFishProducts\",\"MntFishProducts\",\"MntFishProducts\",\"MntFishProducts\",\"MntFishProducts\",\"MntFishProducts\",\"MntFishProducts\",\"MntFishProducts\",\"MntFishProducts\",\"MntFishProducts\",\"MntFishProducts\",\"MntFishProducts\",\"MntFishProducts\",\"MntFishProducts\",\"MntFishProducts\",\"MntFishProducts\",\"MntFishProducts\",\"MntFishProducts\",\"MntFishProducts\",\"MntFishProducts\",\"MntFishProducts\",\"MntFishProducts\",\"MntFishProducts\",\"MntFishProducts\",\"MntFishProducts\",\"MntFishProducts\",\"MntFishProducts\",\"MntFishProducts\",\"MntFishProducts\",\"MntFishProducts\",\"MntFishProducts\",\"MntFishProducts\",\"MntFishProducts\",\"MntFishProducts\",\"MntFishProducts\",\"MntFishProducts\",\"MntFishProducts\",\"MntFishProducts\",\"MntFishProducts\",\"MntFishProducts\",\"MntFishProducts\",\"MntFishProducts\",\"MntFishProducts\",\"MntFishProducts\",\"MntFishProducts\",\"MntFishProducts\",\"MntFishProducts\",\"MntFishProducts\",\"MntFishProducts\",\"MntFishProducts\",\"MntFishProducts\",\"MntFishProducts\",\"MntFishProducts\",\"MntFishProducts\",\"MntFishProducts\",\"MntFishProducts\",\"MntFishProducts\",\"MntFishProducts\",\"MntFishProducts\",\"MntFishProducts\",\"MntFishProducts\",\"MntFishProducts\",\"MntFishProducts\",\"MntFishProducts\",\"MntFishProducts\",\"MntFishProducts\",\"MntFishProducts\",\"MntFishProducts\",\"MntFishProducts\",\"MntFishProducts\",\"MntFishProducts\",\"MntFishProducts\",\"MntFishProducts\",\"MntFishProducts\",\"MntFishProducts\",\"MntFishProducts\",\"MntFishProducts\",\"MntFishProducts\",\"MntFishProducts\",\"MntFishProducts\",\"MntFishProducts\",\"MntFishProducts\",\"MntFishProducts\",\"MntFishProducts\",\"MntFishProducts\",\"MntFishProducts\",\"MntFishProducts\",\"MntFishProducts\",\"MntFishProducts\",\"MntFishProducts\",\"MntFishProducts\",\"MntFishProducts\",\"MntFishProducts\",\"MntFishProducts\",\"MntFishProducts\",\"MntFishProducts\",\"MntFishProducts\",\"MntFishProducts\",\"MntFishProducts\",\"MntFishProducts\",\"MntFishProducts\",\"MntFishProducts\",\"MntFishProducts\",\"MntFishProducts\",\"MntFishProducts\",\"MntFishProducts\",\"MntFishProducts\",\"MntFishProducts\",\"MntFishProducts\",\"MntFishProducts\",\"MntFishProducts\",\"MntFishProducts\",\"MntFishProducts\",\"MntFishProducts\",\"MntFishProducts\",\"MntFishProducts\",\"MntFishProducts\",\"MntFishProducts\",\"MntFishProducts\",\"MntFishProducts\",\"MntFishProducts\",\"MntFishProducts\",\"MntFishProducts\",\"MntFishProducts\",\"MntFishProducts\",\"MntFishProducts\",\"MntFishProducts\",\"MntFishProducts\",\"MntFishProducts\",\"MntFishProducts\",\"MntFishProducts\",\"MntFishProducts\",\"MntFishProducts\",\"MntFishProducts\",\"MntFishProducts\",\"MntFishProducts\",\"MntFishProducts\",\"MntFishProducts\",\"MntFishProducts\",\"MntFishProducts\",\"MntFishProducts\",\"MntFishProducts\",\"MntFishProducts\",\"MntFishProducts\",\"MntFishProducts\",\"MntFishProducts\",\"MntFishProducts\",\"MntFishProducts\",\"MntFishProducts\",\"MntFishProducts\",\"MntFishProducts\",\"MntFishProducts\",\"MntFishProducts\",\"MntFishProducts\",\"MntFishProducts\",\"MntFishProducts\",\"MntFishProducts\",\"MntFishProducts\",\"MntFishProducts\",\"MntFishProducts\",\"MntFishProducts\",\"MntFishProducts\",\"MntFishProducts\",\"MntFishProducts\",\"MntFishProducts\",\"MntFishProducts\",\"MntFishProducts\",\"MntFishProducts\",\"MntFishProducts\",\"MntFishProducts\",\"MntFishProducts\",\"MntFishProducts\",\"MntFishProducts\",\"MntFishProducts\",\"MntFishProducts\",\"MntFishProducts\",\"MntFishProducts\",\"MntFishProducts\",\"MntFishProducts\",\"MntFishProducts\",\"MntFishProducts\",\"MntFishProducts\",\"MntFishProducts\",\"MntFishProducts\",\"MntFishProducts\",\"MntFishProducts\",\"MntFishProducts\",\"MntFishProducts\",\"MntFishProducts\",\"MntFishProducts\",\"MntFishProducts\",\"MntFishProducts\",\"MntFishProducts\",\"MntFishProducts\",\"MntFishProducts\",\"MntFishProducts\",\"MntFishProducts\",\"MntFishProducts\",\"MntFishProducts\",\"MntFishProducts\",\"MntFishProducts\",\"MntFishProducts\",\"MntFishProducts\",\"MntFishProducts\",\"MntFishProducts\",\"MntFishProducts\",\"MntFishProducts\",\"MntFishProducts\",\"MntFishProducts\",\"MntFishProducts\",\"MntFishProducts\",\"MntFishProducts\",\"MntFishProducts\",\"MntFishProducts\",\"MntFishProducts\",\"MntFishProducts\",\"MntFishProducts\",\"MntFishProducts\",\"MntFishProducts\",\"MntFishProducts\",\"MntFishProducts\",\"MntFishProducts\",\"MntFishProducts\",\"MntFishProducts\",\"MntFishProducts\",\"MntFishProducts\",\"MntFishProducts\",\"MntFishProducts\",\"MntFishProducts\",\"MntFishProducts\",\"MntFishProducts\",\"MntFishProducts\",\"MntFishProducts\",\"MntFishProducts\",\"MntFishProducts\",\"MntFishProducts\",\"MntFishProducts\",\"MntFishProducts\",\"MntFishProducts\",\"MntFishProducts\",\"MntFishProducts\",\"MntFishProducts\",\"MntFishProducts\",\"MntFishProducts\",\"MntFishProducts\",\"MntFishProducts\",\"MntFishProducts\",\"MntFishProducts\",\"MntFishProducts\",\"MntFishProducts\",\"MntFishProducts\",\"MntFishProducts\",\"MntFishProducts\",\"MntFishProducts\",\"MntFishProducts\",\"MntFishProducts\",\"MntFishProducts\",\"MntFishProducts\",\"MntFishProducts\",\"MntFishProducts\",\"MntFishProducts\",\"MntFishProducts\",\"MntFishProducts\",\"MntFishProducts\",\"MntFishProducts\",\"MntFishProducts\",\"MntFishProducts\",\"MntFishProducts\",\"MntFishProducts\",\"MntFishProducts\",\"MntFishProducts\",\"MntFishProducts\",\"MntFishProducts\",\"MntFishProducts\",\"MntFishProducts\",\"MntFishProducts\",\"MntFishProducts\",\"MntFishProducts\",\"MntFishProducts\",\"MntFishProducts\",\"MntFishProducts\",\"MntFishProducts\",\"MntFishProducts\",\"MntFishProducts\",\"MntFishProducts\",\"MntFishProducts\",\"MntFishProducts\",\"MntFishProducts\",\"MntFishProducts\",\"MntFishProducts\",\"MntFishProducts\",\"MntFishProducts\",\"MntFishProducts\",\"MntFishProducts\",\"MntFishProducts\",\"MntFishProducts\",\"MntFishProducts\",\"MntFishProducts\",\"MntFishProducts\",\"MntFishProducts\",\"MntFishProducts\",\"MntFishProducts\"],\"index\":[0,1,2,3,4,5,6,7,8,9,10,11,12,13,14,15,16,17,18,19,20,21,22,23,24,25,26,27,28,29,30,31,32,33,34,35,36,37,38,39,40,41,42,43,44,45,46,47,48,49,50,51,52,53,54,55,56,57,58,59,60,61,62,63,64,65,66,67,68,69,70,71,72,73,74,75,76,77,78,79,80,81,82,83,84,85,86,87,88,89,90,91,92,93,94,95,96,97,98,99,100,101,102,103,104,105,106,107,108,109,110,111,112,113,114,115,116,117,118,119,120,121,122,123,124,125,126,127,128,129,130,131,132,133,134,135,136,137,138,139,140,141,142,143,144,145,146,147,148,149,150,151,152,153,154,155,156,157,158,159,160,161,162,163,164,165,166,167,168,169,170,171,172,173,174,175,176,177,178,179,180,181,182,183,184,185,186,187,188,189,190,191,192,193,194,195,196,197,198,199,200,201,202,203,204,205,206,207,208,209,210,211,212,213,214,215,216,217,218,219,220,221,222,223,224,225,226,227,228,229,230,231,232,233,234,235,236,237,238,239,240,241,242,243,244,245,246,247,248,249,250,251,252,253,254,255,256,257,258,259,260,261,262,263,264,265,266,267,268,269,270,271,272,273,274,275,276,277,278,279,280,281,282,283,284,285,286,287,288,289,290,291,292,293,294,295,296,297,298,299,300,301,302,303,304,305,306,307,308,309,310,311,312,313,314,315,316,317,318,319,320,321,322,323,324,325,326,327,328,329,330,331,332,333,334,335,336,337,338,339,340,341,342,343,344,345,346,347,348,349,350,351,352,353,354,355,356,357,358,359,360,361,362,363,364,365,366,367,368,369,370,371,372,373,374,375,376,377,378,379,380,381,382,383,384,385,386,387,388,389,390,391,392,393,394,395,396,397,398,399,400,401,402,403,404,405,406,407,408,409,410,411,412,413,414,415,416,417,418,419,420,421,422,423,424,425,426,427,428,429,430,431,432,433,434,435,436,437,438,439,440,441,442,443,444,445,446,447,448,449,450,451,452,453,454,455,456,457,458,459,460,461,462,463,464,465,466,467,468,469,470,471,472,473,474,475,476,477,478,479,480,481,482,483,484,485,486,487,488,489,490,491,492,493,494,495,496,497,498,499,500,501,502,503,504,505,506,507,508,509,510,511,512,513,514,515,516,517,518,519,520,521,522,523,524,525,526,527,528,529,530,531,532,533,534,535,536,537,538,539,540,541,542,543,544,545,546,547,548,549,550,551,552,553,554,555,556,557,558,559,560,561,562,563,564,565,566,567,568,569,570,571,572,573,574,575,576,577,578,579,580,581,582,583,584,585,586,587,588,589,590,591,592,593,594,595,596,597,598,599,600,601,602,603,604,605,606,607,608,609,610,611,612,613,614,615,616,617,618,619,620,621,622,623,624,625,626,627,628,629,630,631,632,633,634,635,636,637,638,639,640,641,642,643,644,645,646,647,648,649,650,651,652,653,654,655,656,657,658,659,660,661,662,663,664,665,666,667,668,669,670,671,672,673,674,675,676,677,678,679,680,681,682,683,684,685,686,687,688,689,690,691,692,693,694,695,696,697,698,699,700,701,702,703,704,705,706,707,708,709,710,711,712,713,714,715,716,717,718,719,720,721,722,723,724,725,726,727,728,729,730,731,732,733,734,735,736,737,738,739,740,741,742,743,744,745,746,747,748,749,750,751,752,753,754,755,756,757,758,759,760,761,762,763,764,765,766,767,768,769,770,771,772,773,774,775,776,777,778,779,780,781,782,783,784,785,786,787,788,789,790,791,792,793,794,795,796,797,798,799,800,801,802,803,804,805,806,807,808,809,810,811,812,813,814,815,816,817,818,819,820,821,822,823,824,825,826,827,828,829,830,831,832,833,834,835,836,837,838,839,840,841,842,843,844,845,846,847,848,849,850,851,852,853,854,855,856,857,858,859,860,861,862,863,864,865,866,867,868,869,870,871,872,873,874,875,876,877,878,879,880,881,882,883,884,885,886,887,888,889,890,891,892,893,894,895,896,897,898,899,900,901,902,903,904,905,906,907,908,909,910,911,912,913,914,915,916,917,918,919,920,921,922,923,924,925,926,927,928,929,930,931,932,933,934,935,936,937,938,939,940,941,942,943,944,945,946,947,948,949,950,951,952,953,954,955,956,957,958,959,960,961,962,963,964,965,966,967,968,969,970,971,972,973,974,975,976,977,978,979,980,981,982,983,984,985,986,987,988,989,990,991,992,993,994,995,996,997,998,999,1000,1001,1002,1003,1004,1005,1006,1007,1008,1009,1010,1011,1012,1013,1014,1015,1016,1017,1018,1019,1020,1021,1022,1023,1024,1025,1026,1027,1028,1029,1030,1031,1032,1033,1034,1035,1036,1037,1038,1039,1040,1041,1042,1043,1044,1045,1046,1047,1048,1049,1050,1051,1052,1053,1054,1055,1056,1057,1058,1059,1060,1061,1062,1063,1064,1065,1066,1067,1068,1069,1070,1071,1072,1073,1074,1075,1076,1077,1078,1079,1080,1081,1082,1083,1084,1085,1086,1087,1088,1089,1090,1091,1092,1093,1094,1095,1096,1097,1098,1099,1100,1101,1102,1103,1104,1105,1106,1107,1108,1109,1110,1111,1112,1113,1114,1115,1116,1117,1118,1119,1120,1121,1122,1123,1124,1125,1126,1127,1128,1129,1130,1131,1132,1133,1134,1135,1136,1137,1138,1139,1140,1141,1142,1143,1144,1145,1146,1147,1148,1149,1150,1151,1152,1153,1154,1155,1156,1157,1158,1159,1160,1161,1162,1163,1164,1165,1166,1167,1168,1169,1170,1171,1172,1173,1174,1175,1176,1177,1178,1179,1180,1181,1182,1183,1184,1185,1186,1187,1188,1189,1190,1191,1192,1193,1194,1195,1196,1197,1198,1199,1200,1201,1202,1203,1204,1205,1206,1207,1208,1209,1210,1211,1212,1213,1214,1215,1216,1217,1218,1219,1220,1221,1222,1223,1224,1225,1226,1227,1228,1229,1230,1231,1232,1233,1234,1235,1236,1237,1238,1239,1240,1241,1242,1243,1244,1245,1246,1247,1248,1249,1250,1251,1252,1253,1254,1255,1256,1257,1258,1259,1260,1261,1262,1263,1264,1265,1266,1267,1268,1269,1270,1271,1272,1273,1274,1275,1276,1277,1278,1279,1280,1281,1282,1283,1284,1285,1286,1287,1288,1289,1290,1291,1292,1293,1294,1295,1296,1297,1298,1299,1300,1301,1302,1303,1304,1305,1306,1307,1308,1309,1310,1311,1312,1313,1314,1315,1316,1317,1318,1319,1320,1321,1322,1323,1324,1325,1326,1327,1328,1329,1330,1331,1332,1333,1334,1335,1336,1337,1338,1339,1340,1341,1342,1343,1344,1345,1346,1347,1348,1349,1350,1351,1352,1353,1354,1355,1356,1357,1358,1359,1360,1361,1362,1363,1364,1365,1366,1367,1368,1369,1370,1371,1372,1373,1374,1375,1376,1377,1378,1379,1380,1381,1382,1383,1384,1385,1386,1387,1388,1389,1390,1391,1392,1393,1394,1395,1396,1397,1398,1399,1400,1401,1402,1403,1404,1405,1406,1407,1408,1409,1410,1411,1412,1413,1414,1415,1416,1417,1418,1419,1420,1421,1422,1423,1424,1425,1426,1427,1428,1429,1430,1431,1432,1433,1434,1435,1436,1437,1438,1439,1440,1441,1442,1443,1444,1445,1446,1447,1448,1449,1450,1451,1452,1453,1454,1455,1456,1457,1458,1459,1460,1461,1462,1463,1464,1465,1466,1467,1468,1469,1470,1471,1472,1473,1474,1475,1476,1477,1478,1479,1480,1481,1482,1483,1484,1485,1486,1487,1488,1489,1490,1491,1492,1493,1494,1495,1496,1497,1498,1499,1500,1501,1502,1503,1504,1505,1506,1507,1508,1509,1510,1511,1512,1513,1514,1515,1516,1517,1518,1519,1520,1521,1522,1523,1524,1525,1526,1527,1528,1529,1530,1531,1532,1533,1534,1535,1536,1537,1538,1539,1540,1541,1542,1543,1544,1545,1546,1547,1548,1549,1550,1551,1552,1553,1554,1555,1556,1557,1558,1559,1560,1561,1562,1563,1564,1565,1566,1567,1568,1569,1570,1571,1572,1573,1574,1575,1576,1577,1578,1579,1580,1581,1582,1583,1584,1585,1586,1587,1588,1589,1590,1591,1592,1593,1594,1595,1596,1597,1598,1599,1600,1601,1602,1603,1604,1605,1606,1607,1608,1609,1610,1611,1612,1613,1614,1615,1616,1617,1618,1619,1620,1621,1622,1623,1624,1625,1626,1627,1628,1629,1630,1631,1632,1633,1634,1635,1636,1637,1638,1639,1640,1641,1642,1643,1644,1645,1646,1647,1648,1649,1650,1651,1652,1653,1654,1655,1656,1657,1658,1659,1660,1661,1662,1663,1664,1665,1666,1667,1668,1669,1670,1671,1672,1673,1674,1675,1676,1677,1678,1679,1680,1681,1682,1683,1684,1685,1686,1687,1688,1689,1690,1691,1692,1693,1694,1695,1696,1697,1698,1699,1700,1701,1702,1703,1704,1705,1706,1707,1708,1709,1710,1711,1712,1713,1714,1715,1716,1717,1718,1719,1720,1721,1722,1723,1724,1725,1726,1727,1728,1729,1730,1731,1732,1733,1734,1735,1736,1737,1738,1739,1740,1741,1742,1743,1744,1745,1746,1747,1748,1749,1750,1751,1752,1753,1754,1755,1756,1757,1758,1759,1760,1761,1762,1763,1764,1765,1766,1767,1768,1769,1770,1771,1772,1773,1774,1775,1776,1777,1778,1779,1780,1781,1782,1783,1784,1785,1786,1787,1788,1789,1790,1791,1792,1793,1794,1795,1796,1797,1798,1799,1800,1801,1802,1803,1804,1805,1806,1807,1808,1809,1810,1811,1812,1813,1814,1815,1816,1817,1818,1819,1820,1821,1822,1823,1824,1825,1826,1827,1828,1829,1830,1831,1832,1833,1834,1835,1836,1837,1838,1839,1840,1841,1842,1843,1844,1845,1846,1847,1848,1849,1850,1851,1852,1853,1854,1855,1856,1857,1858,1859,1860,1861,1862,1863,1864,1865,1866,1867,1868,1869,1870,1871,1872,1873,1874,1875,1876,1877,1878,1879,1880,1881,1882,1883,1884,1885,1886,1887,1888,1889,1890,1891,1892,1893,1894,1895,1896,1897,1898,1899,1900,1901,1902,1903,1904,1905,1906,1907,1908,1909,1910,1911,1912,1913,1914,1915,1916,1917,1918,1919,1920,1921,1922,1923,1924,1925,1926,1927,1928,1929,1930,1931,1932,1933,1934,1935,1936,1937,1938,1939,1940,1941,1942,1943,1944,1945,1946,1947,1948,1949,1950,1951,1952,1953,1954,1955,1956,1957,1958,1959,1960,1961,1962,1963,1964,1965,1966,1967,1968,1969,1970,1971,1972,1973,1974,1975,1976,1977,1978,1979,1980,1981,1982,1983,1984,1985,1986,1987,1988,1989,1990,1991,1992,1993,1994,1995,1996,1997,1998,1999,2000,2001,2002,2003,2004,2005,2006,2007,2008,2009,2010,2011,2012,2013,2014,2015,2016,2017,2018,2019,2020,2021,2022,2023,2024,2025,2026,2027,2028,2029,2030,2031,2032,2033,2034,2035,2036,2037,2038,2039,2040,2041,2042,2043,2044,2045,2046,2047,2048,2049,2050,2051,2052,2053,2054,2055,2056,2057,2058,2059,2060,2061,2062,2063,2064,2065,2066,2067,2068,2069,2070,2071,2072,2073,2074,2075,2076,2077,2078,2079,2080,2081,2082,2083,2084,2085,2086,2087,2088,2089,2090,2091,2092,2093,2094,2095,2096,2097,2098,2099,2100,2101,2102,2103,2104,2105,2106,2107,2108,2109,2110,2111,2112,2113,2114,2115,2116,2117,2118,2119,2120,2121,2122,2123,2124,2125,2126,2127,2128,2129,2130,2131,2132,2133,2134,2135,2136,2137,2138,2139,2140,2141,2142,2143,2144,2145,2146,2147,2148,2149,2150,2151,2152,2153,2154,2155,2156,2157,2158,2159,2160,2161,2162,2163,2164,2165,2166,2167,2168,2169,2170,2171,2172,2173,2174,2175,2176,2177,2178,2179,2180,2181,2182,2183,2184,2185,2186,2187,2188,2189,2190,2191,2192,2193,2194,2195,2196,2197,2198,2199,2200,2201,2202,2203,2204,2205,2206,2207,2208,2209,2210,2211,2212,2213,2214,2215,2216,2217,2218,2219,2220,2221,2222,2223,2224,2225,2226,2227,2228,2229,2230,2231,2232,2233,2234,2235,2236,2237,2238,2239],\"value\":[254,7,0,0,12,29,15,0,33,16,0,4,7,0,0,179,0,26,6,19,3,25,23,3,119,17,4,98,3,52,33,110,0,3,3,3,12,149,80,0,210,4,0,32,4,29,149,75,20,21,71,6,0,47,2,0,6,0,2,0,162,146,4,13,36,186,0,8,0,6,0,13,6,2,123,10,86,51,42,11,4,84,0,164,102,17,2,0,42,2,4,67,91,80,45,4,2,40,3,6,6,7,8,149,76,27,16,138,85,11,120,3,0,216,46,2,32,6,38,69,7,0,7,138,0,20,8,7,0,0,25,85,97,0,67,63,3,112,24,2,110,258,4,12,3,46,8,0,0,0,168,50,52,42,10,0,13,6,60,39,84,21,0,0,0,8,2,0,3,4,6,4,2,3,4,2,15,20,8,3,21,6,34,6,13,50,17,19,16,8,50,19,28,147,29,36,11,3,37,2,110,0,0,29,4,21,30,8,4,62,2,0,193,69,0,237,0,12,37,182,0,49,0,8,25,0,0,61,0,30,3,32,104,2,10,85,45,34,39,29,0,64,3,4,3,11,23,130,76,205,71,7,16,11,32,104,12,38,8,0,3,55,30,179,38,2,16,58,29,175,227,0,84,20,16,8,0,19,181,189,3,33,20,3,39,172,12,104,89,0,52,234,3,69,3,3,2,10,40,15,17,3,2,3,106,223,4,2,25,3,2,30,4,224,25,246,50,207,2,25,151,10,8,4,0,0,224,4,48,167,55,0,0,11,34,2,3,0,20,0,38,0,7,20,13,32,4,50,177,3,116,29,97,23,193,11,41,38,0,111,0,19,4,10,0,97,94,23,6,0,2,21,54,127,150,20,6,3,58,4,2,172,208,0,33,21,10,7,19,89,0,32,0,0,11,180,127,0,250,84,10,4,0,2,13,80,73,99,0,7,40,59,0,119,225,10,16,69,3,219,73,7,0,11,90,0,0,2,104,40,159,2,2,64,156,21,0,4,29,23,121,0,7,2,11,43,30,0,4,0,2,80,2,10,26,17,23,50,23,2,71,23,3,0,95,3,6,3,12,124,10,158,80,16,169,11,150,12,60,0,19,8,10,0,15,0,16,13,0,19,111,21,6,4,2,116,56,6,0,11,6,10,0,0,3,16,2,2,16,6,10,0,11,0,8,69,7,168,63,6,0,30,141,13,15,10,0,10,130,93,160,65,4,138,75,15,0,20,4,103,4,0,39,149,71,3,150,134,10,69,0,65,76,67,0,62,0,4,17,2,0,188,0,234,6,3,52,3,11,4,11,19,8,49,0,10,0,13,2,16,0,12,0,12,15,78,55,0,43,20,4,0,4,3,11,54,104,3,160,219,4,2,84,134,7,0,0,99,33,4,11,34,65,3,42,6,0,23,20,16,2,17,258,3,3,51,24,0,12,0,12,10,25,71,145,8,0,6,37,50,58,7,78,69,0,19,3,2,28,103,42,7,3,0,30,3,26,30,46,2,12,2,12,19,0,7,106,0,4,7,8,0,3,3,123,99,28,3,11,20,33,60,0,99,104,94,2,6,101,0,24,55,12,153,119,10,52,210,10,10,10,0,0,4,0,0,65,10,2,6,19,3,75,0,6,13,25,17,8,128,7,208,4,63,17,19,4,7,2,11,10,13,72,11,41,23,15,52,2,12,145,0,6,25,7,6,0,43,3,90,0,159,12,33,108,97,0,0,0,0,46,19,198,10,39,171,21,0,15,36,19,33,0,6,0,93,15,3,20,0,0,186,11,50,29,0,86,19,0,1,58,13,7,8,23,0,168,16,20,8,2,21,12,12,20,0,4,188,15,192,23,13,20,3,49,16,0,11,2,15,27,34,58,179,115,16,8,119,54,111,12,17,4,2,2,3,12,17,0,24,4,58,3,179,0,4,17,4,125,7,0,59,0,84,49,3,8,2,6,0,93,2,2,242,86,16,19,17,2,17,0,0,0,2,0,0,20,199,6,13,30,8,0,142,20,38,106,30,91,3,145,6,38,6,15,3,0,26,7,0,4,6,6,145,7,15,4,220,2,0,99,132,30,46,185,180,6,216,2,0,0,64,59,8,89,16,168,0,0,42,27,6,202,1,146,25,38,75,2,63,34,28,32,258,119,28,62,39,0,13,4,65,224,0,24,2,0,21,11,38,13,0,25,132,0,19,93,210,21,2,3,6,0,39,185,3,69,0,46,3,202,3,13,10,2,0,11,175,136,21,2,3,150,0,42,28,197,52,2,75,0,13,4,16,0,28,3,129,63,6,10,8,3,43,4,39,4,133,160,19,3,54,0,10,52,2,2,23,0,182,6,104,6,10,4,65,0,153,220,7,8,129,0,3,67,182,11,115,2,168,13,7,4,0,0,2,97,19,110,8,21,11,2,0,0,33,0,232,3,2,164,7,17,3,3,2,10,19,138,0,7,4,15,3,16,39,0,216,99,0,0,39,6,6,46,0,247,134,2,180,10,7,94,0,11,1,160,8,6,7,33,11,2,19,2,8,8,253,3,2,29,4,8,0,0,0,0,0,76,172,3,0,2,50,186,37,158,34,0,47,1,62,16,78,2,6,10,19,147,8,71,0,11,201,55,13,12,0,4,6,60,6,0,13,0,28,8,2,192,59,2,0,2,2,94,7,4,11,0,0,39,101,19,20,0,29,98,16,0,0,2,133,65,184,3,6,10,2,102,97,13,12,10,10,63,16,12,8,20,1,0,13,0,3,0,7,11,13,151,7,0,6,0,10,0,0,10,39,3,4,58,4,160,72,90,19,94,16,146,99,80,6,17,10,0,72,0,69,2,0,23,3,56,10,6,84,0,130,0,33,173,0,0,4,3,0,2,7,25,5,19,0,94,20,55,37,180,11,55,12,0,42,37,20,0,0,46,21,39,76,8,84,33,77,28,8,0,114,11,78,3,7,63,25,0,51,0,3,2,0,0,16,0,175,34,60,77,50,11,84,3,15,0,29,32,11,43,2,8,0,13,28,2,2,7,0,33,2,0,80,63,0,50,15,13,104,8,15,17,46,71,4,0,173,8,13,98,4,54,29,0,12,4,0,4,4,12,3,0,4,50,75,6,75,0,3,82,2,0,4,48,52,49,0,69,4,16,1,2,2,17,4,86,78,3,21,0,34,63,29,8,13,0,65,55,75,6,11,38,0,0,0,15,43,55,145,140,2,52,16,32,38,0,7,28,3,132,0,24,140,0,38,13,15,15,91,0,205,177,15,0,104,0,156,23,52,60,8,0,23,2,41,2,56,2,0,94,95,0,0,45,44,3,6,2,229,4,6,0,15,20,8,0,32,212,4,63,3,2,3,17,12,6,3,133,63,2,2,10,259,240,6,32,69,6,33,0,7,72,34,7,4,207,7,0,7,0,12,0,102,7,250,23,7,2,20,0,0,125,68,4,51,0,17,151,3,16,21,137,0,11,12,75,12,17,4,2,24,2,2,2,8,10,11,3,21,106,6,6,43,137,4,6,0,8,2,6,197,77,101,104,35,179,212,2,0,13,10,10,0,21,0,0,8,7,49,32,188,7,0,10,7,160,199,45,0,15,43,34,15,21,2,0,28,12,20,6,17,3,0,123,151,106,104,71,23,3,13,23,12,116,6,65,21,7,120,3,23,3,3,0,13,23,0,0,7,4,3,2,0,55,20,13,6,49,3,3,17,7,72,3,4,13,6,13,7,7,0,80,0,10,0,86,0,8,91,2,29,2,33,4,0,25,7,0,4,197,6,10,0,6,35,0,130,23,0,10,8,15,210,3,8,11,3,3,0,29,1,3,8,95,110,3,12,10,4,12,123,6,45,0,2,7,15,0,19,168,3,2,2,82,150,0,37,3,59,0,2,219,6,150,13,0,4,0,68,36,15,7,0,64,69,12,202,2,10,42,37,2,0,4,0,119,0,20,17,19,11,10,36,2,160,0,8,82,12,7,0,0,150,43,0,13,17,28,50,0,116,0,80,42,81,237,220,4,60,0,20,0,0,75,0,0,6,2,2,120,49,137,2,95,32,124,0,3,4,20,7,36,65,104,4,4,123,0,80,73,93,13,2,58,112,60,19,2,38,0,3,125,11,2,3,6,24,26,116,43,0,73,133,219,2,0,120,0,0,27,46,1,180,138,3,32,0,2,110,62,69,13,0,201,80,12,12,4,0,4,44,2,20,7,10,8,15,99,19,91,3,21,65,13,77,24,2,23,141,20,102,41,111,4,99,2,218,4,0,4,0,40,2,2,149,3,20,34,23,38,4,6,36,4,36,0,4,4,0,2,19,50,28,28,73,0,4,0,0,62,0,16,56,29,2,0,3,69,78,99,0,24,136,47,4,28,39,13,133,12,20,0,0,2,11,106,46,10,25,15,0,0,0,15,1,25,27,75,32,13,12,0,8,55,15,10,12,0,6,4,33,28,3,65,137,13,2,0,3,2,11,93,90,0,15,0,2,20,32,39,153,16,169,166,0,6,4,0,104,89,23,0,47,0,0,29,151,231,34,0,2,65,108,75,0,0,150,15,3,0,0,6,28,6,34,6,0,67,7,0,11,0,4,12,0,13,150,64,23,12,2,6,86,16,3,0,43,16,0,0,6,0,2,24,19,4,0,121,3,94,4,8,0,2,7,151,2,224,37,3,30,45,0,2,93,0,25,26,15,0,0,121,29,31,65,2,16,50,0,0,91,13,54,0,80,2,2,138,80,32,0,34,134,15,76,106,0,7,13,4,19,3,2,2,250,0,17,30,8,7,13,4,85,220,199,3,0,6,62,17,0,205,34,2,168,0,0,3,120,56,0,28,0,3,111,11,39,2,227,2,8,26,7,15,2,12,0,210,0,2,3,0,3,0,4,82,0,23,4,4,12,20,8,41,25,0,19,0,90,19,104,42,0,58,62,29,0,15,51,0,2,40,41,172,145,0,60,240,3,65,7,58,45,150,31,45,8,0,7,0,3,184,4,0,2,71,16,119,173,194,7,13,3,46,2,2,37,0,59,0,82,6,16,4,3,3,10,19,0,1,12,8,11]},\"selected\":{\"id\":\"1471\"},\"selection_policy\":{\"id\":\"1493\"}},\"id\":\"1470\",\"type\":\"ColumnDataSource\"},{\"attributes\":{\"data_source\":{\"id\":\"1446\"},\"glyph\":{\"id\":\"1449\"},\"hover_glyph\":null,\"muted_glyph\":{\"id\":\"1451\"},\"nonselection_glyph\":{\"id\":\"1450\"},\"selection_glyph\":{\"id\":\"1469\"},\"view\":{\"id\":\"1453\"}},\"id\":\"1452\",\"type\":\"GlyphRenderer\"},{\"attributes\":{},\"id\":\"1401\",\"type\":\"AllLabels\"},{\"attributes\":{\"line_color\":\"#8b8b8b\",\"line_width\":2,\"x\":{\"field\":\"index\"},\"y\":{\"field\":\"value\"}},\"id\":\"1499\",\"type\":\"Line\"},{\"attributes\":{\"line_alpha\":0.1,\"line_color\":\"#e5ae38\",\"line_width\":2,\"x\":{\"field\":\"index\"},\"y\":{\"field\":\"value\"}},\"id\":\"1450\",\"type\":\"Line\"},{\"attributes\":{\"line_alpha\":0.2,\"line_color\":\"#6d904f\",\"line_width\":2,\"x\":{\"field\":\"index\"},\"y\":{\"field\":\"value\"}},\"id\":\"1475\",\"type\":\"Line\"},{\"attributes\":{\"callback\":null,\"renderers\":[{\"id\":\"1409\"},{\"id\":\"1430\"},{\"id\":\"1452\"},{\"id\":\"1476\"},{\"id\":\"1502\"}],\"tags\":[\"hv_created\"],\"tooltips\":[[\"Variable\",\"@{Variable}\"],[\"index\",\"@{index}\"],[\"value\",\"@{value}\"]]},\"id\":\"1362\",\"type\":\"HoverTool\"},{\"attributes\":{\"line_color\":\"#6d904f\",\"line_width\":2,\"x\":{\"field\":\"index\"},\"y\":{\"field\":\"value\"}},\"id\":\"1473\",\"type\":\"Line\"},{\"attributes\":{\"axis\":{\"id\":\"1376\"},\"grid_line_color\":null,\"ticker\":null},\"id\":\"1379\",\"type\":\"Grid\"},{\"attributes\":{\"line_alpha\":0.2,\"line_color\":\"#e5ae38\",\"line_width\":2,\"x\":{\"field\":\"index\"},\"y\":{\"field\":\"value\"}},\"id\":\"1451\",\"type\":\"Line\"},{\"attributes\":{\"line_alpha\":0.1,\"line_color\":\"#fc4f30\",\"line_width\":2,\"x\":{\"field\":\"index\"},\"y\":{\"field\":\"value\"}},\"id\":\"1428\",\"type\":\"Line\"},{\"attributes\":{\"line_color\":\"#e5ae38\",\"line_width\":2,\"x\":{\"field\":\"index\"},\"y\":{\"field\":\"value\"}},\"id\":\"1449\",\"type\":\"Line\"},{\"attributes\":{},\"id\":\"1497\",\"type\":\"Selection\"},{\"attributes\":{\"data_source\":{\"id\":\"1424\"},\"glyph\":{\"id\":\"1427\"},\"hover_glyph\":null,\"muted_glyph\":{\"id\":\"1429\"},\"nonselection_glyph\":{\"id\":\"1428\"},\"selection_glyph\":{\"id\":\"1445\"},\"view\":{\"id\":\"1431\"}},\"id\":\"1430\",\"type\":\"GlyphRenderer\"},{\"attributes\":{\"source\":{\"id\":\"1496\"}},\"id\":\"1503\",\"type\":\"CDSView\"},{\"attributes\":{\"active_multi\":null,\"tools\":[{\"id\":\"1362\"},{\"id\":\"1384\"},{\"id\":\"1385\"},{\"id\":\"1386\"},{\"id\":\"1387\"},{\"id\":\"1388\"}]},\"id\":\"1390\",\"type\":\"Toolbar\"},{\"attributes\":{\"source\":{\"id\":\"1470\"}},\"id\":\"1477\",\"type\":\"CDSView\"},{\"attributes\":{},\"id\":\"1471\",\"type\":\"Selection\"},{\"attributes\":{},\"id\":\"1443\",\"type\":\"UnionRenderers\"},{\"attributes\":{\"line_alpha\":0.2,\"line_color\":\"#fc4f30\",\"line_width\":2,\"x\":{\"field\":\"index\"},\"y\":{\"field\":\"value\"}},\"id\":\"1429\",\"type\":\"Line\"},{\"attributes\":{\"line_color\":\"#fc4f30\",\"line_width\":2,\"x\":{\"field\":\"index\"},\"y\":{\"field\":\"value\"}},\"id\":\"1427\",\"type\":\"Line\"},{\"attributes\":{\"source\":{\"id\":\"1446\"}},\"id\":\"1453\",\"type\":\"CDSView\"},{\"attributes\":{\"bottom_units\":\"screen\",\"fill_alpha\":0.5,\"fill_color\":\"lightgrey\",\"left_units\":\"screen\",\"level\":\"overlay\",\"line_alpha\":1.0,\"line_color\":\"black\",\"line_dash\":[4,4],\"line_width\":2,\"right_units\":\"screen\",\"syncable\":false,\"top_units\":\"screen\"},\"id\":\"1389\",\"type\":\"BoxAnnotation\"},{\"attributes\":{},\"id\":\"1402\",\"type\":\"BasicTickFormatter\"},{\"attributes\":{\"source\":{\"id\":\"1403\"}},\"id\":\"1410\",\"type\":\"CDSView\"},{\"attributes\":{},\"id\":\"1447\",\"type\":\"Selection\"},{\"attributes\":{},\"id\":\"1404\",\"type\":\"Selection\"},{\"attributes\":{\"margin\":[5,5,5,5],\"name\":\"HSpacer02337\",\"sizing_mode\":\"stretch_width\"},\"id\":\"1686\",\"type\":\"Spacer\"},{\"attributes\":{\"source\":{\"id\":\"1424\"}},\"id\":\"1431\",\"type\":\"CDSView\"},{\"attributes\":{\"line_alpha\":0.2,\"line_color\":\"#30a2da\",\"line_width\":2,\"x\":{\"field\":\"index\"},\"y\":{\"field\":\"value\"}},\"id\":\"1408\",\"type\":\"Line\"},{\"attributes\":{\"data\":{\"Variable\":[\"MntMeatProducts\",\"MntMeatProducts\",\"MntMeatProducts\",\"MntMeatProducts\",\"MntMeatProducts\",\"MntMeatProducts\",\"MntMeatProducts\",\"MntMeatProducts\",\"MntMeatProducts\",\"MntMeatProducts\",\"MntMeatProducts\",\"MntMeatProducts\",\"MntMeatProducts\",\"MntMeatProducts\",\"MntMeatProducts\",\"MntMeatProducts\",\"MntMeatProducts\",\"MntMeatProducts\",\"MntMeatProducts\",\"MntMeatProducts\",\"MntMeatProducts\",\"MntMeatProducts\",\"MntMeatProducts\",\"MntMeatProducts\",\"MntMeatProducts\",\"MntMeatProducts\",\"MntMeatProducts\",\"MntMeatProducts\",\"MntMeatProducts\",\"MntMeatProducts\",\"MntMeatProducts\",\"MntMeatProducts\",\"MntMeatProducts\",\"MntMeatProducts\",\"MntMeatProducts\",\"MntMeatProducts\",\"MntMeatProducts\",\"MntMeatProducts\",\"MntMeatProducts\",\"MntMeatProducts\",\"MntMeatProducts\",\"MntMeatProducts\",\"MntMeatProducts\",\"MntMeatProducts\",\"MntMeatProducts\",\"MntMeatProducts\",\"MntMeatProducts\",\"MntMeatProducts\",\"MntMeatProducts\",\"MntMeatProducts\",\"MntMeatProducts\",\"MntMeatProducts\",\"MntMeatProducts\",\"MntMeatProducts\",\"MntMeatProducts\",\"MntMeatProducts\",\"MntMeatProducts\",\"MntMeatProducts\",\"MntMeatProducts\",\"MntMeatProducts\",\"MntMeatProducts\",\"MntMeatProducts\",\"MntMeatProducts\",\"MntMeatProducts\",\"MntMeatProducts\",\"MntMeatProducts\",\"MntMeatProducts\",\"MntMeatProducts\",\"MntMeatProducts\",\"MntMeatProducts\",\"MntMeatProducts\",\"MntMeatProducts\",\"MntMeatProducts\",\"MntMeatProducts\",\"MntMeatProducts\",\"MntMeatProducts\",\"MntMeatProducts\",\"MntMeatProducts\",\"MntMeatProducts\",\"MntMeatProducts\",\"MntMeatProducts\",\"MntMeatProducts\",\"MntMeatProducts\",\"MntMeatProducts\",\"MntMeatProducts\",\"MntMeatProducts\",\"MntMeatProducts\",\"MntMeatProducts\",\"MntMeatProducts\",\"MntMeatProducts\",\"MntMeatProducts\",\"MntMeatProducts\",\"MntMeatProducts\",\"MntMeatProducts\",\"MntMeatProducts\",\"MntMeatProducts\",\"MntMeatProducts\",\"MntMeatProducts\",\"MntMeatProducts\",\"MntMeatProducts\",\"MntMeatProducts\",\"MntMeatProducts\",\"MntMeatProducts\",\"MntMeatProducts\",\"MntMeatProducts\",\"MntMeatProducts\",\"MntMeatProducts\",\"MntMeatProducts\",\"MntMeatProducts\",\"MntMeatProducts\",\"MntMeatProducts\",\"MntMeatProducts\",\"MntMeatProducts\",\"MntMeatProducts\",\"MntMeatProducts\",\"MntMeatProducts\",\"MntMeatProducts\",\"MntMeatProducts\",\"MntMeatProducts\",\"MntMeatProducts\",\"MntMeatProducts\",\"MntMeatProducts\",\"MntMeatProducts\",\"MntMeatProducts\",\"MntMeatProducts\",\"MntMeatProducts\",\"MntMeatProducts\",\"MntMeatProducts\",\"MntMeatProducts\",\"MntMeatProducts\",\"MntMeatProducts\",\"MntMeatProducts\",\"MntMeatProducts\",\"MntMeatProducts\",\"MntMeatProducts\",\"MntMeatProducts\",\"MntMeatProducts\",\"MntMeatProducts\",\"MntMeatProducts\",\"MntMeatProducts\",\"MntMeatProducts\",\"MntMeatProducts\",\"MntMeatProducts\",\"MntMeatProducts\",\"MntMeatProducts\",\"MntMeatProducts\",\"MntMeatProducts\",\"MntMeatProducts\",\"MntMeatProducts\",\"MntMeatProducts\",\"MntMeatProducts\",\"MntMeatProducts\",\"MntMeatProducts\",\"MntMeatProducts\",\"MntMeatProducts\",\"MntMeatProducts\",\"MntMeatProducts\",\"MntMeatProducts\",\"MntMeatProducts\",\"MntMeatProducts\",\"MntMeatProducts\",\"MntMeatProducts\",\"MntMeatProducts\",\"MntMeatProducts\",\"MntMeatProducts\",\"MntMeatProducts\",\"MntMeatProducts\",\"MntMeatProducts\",\"MntMeatProducts\",\"MntMeatProducts\",\"MntMeatProducts\",\"MntMeatProducts\",\"MntMeatProducts\",\"MntMeatProducts\",\"MntMeatProducts\",\"MntMeatProducts\",\"MntMeatProducts\",\"MntMeatProducts\",\"MntMeatProducts\",\"MntMeatProducts\",\"MntMeatProducts\",\"MntMeatProducts\",\"MntMeatProducts\",\"MntMeatProducts\",\"MntMeatProducts\",\"MntMeatProducts\",\"MntMeatProducts\",\"MntMeatProducts\",\"MntMeatProducts\",\"MntMeatProducts\",\"MntMeatProducts\",\"MntMeatProducts\",\"MntMeatProducts\",\"MntMeatProducts\",\"MntMeatProducts\",\"MntMeatProducts\",\"MntMeatProducts\",\"MntMeatProducts\",\"MntMeatProducts\",\"MntMeatProducts\",\"MntMeatProducts\",\"MntMeatProducts\",\"MntMeatProducts\",\"MntMeatProducts\",\"MntMeatProducts\",\"MntMeatProducts\",\"MntMeatProducts\",\"MntMeatProducts\",\"MntMeatProducts\",\"MntMeatProducts\",\"MntMeatProducts\",\"MntMeatProducts\",\"MntMeatProducts\",\"MntMeatProducts\",\"MntMeatProducts\",\"MntMeatProducts\",\"MntMeatProducts\",\"MntMeatProducts\",\"MntMeatProducts\",\"MntMeatProducts\",\"MntMeatProducts\",\"MntMeatProducts\",\"MntMeatProducts\",\"MntMeatProducts\",\"MntMeatProducts\",\"MntMeatProducts\",\"MntMeatProducts\",\"MntMeatProducts\",\"MntMeatProducts\",\"MntMeatProducts\",\"MntMeatProducts\",\"MntMeatProducts\",\"MntMeatProducts\",\"MntMeatProducts\",\"MntMeatProducts\",\"MntMeatProducts\",\"MntMeatProducts\",\"MntMeatProducts\",\"MntMeatProducts\",\"MntMeatProducts\",\"MntMeatProducts\",\"MntMeatProducts\",\"MntMeatProducts\",\"MntMeatProducts\",\"MntMeatProducts\",\"MntMeatProducts\",\"MntMeatProducts\",\"MntMeatProducts\",\"MntMeatProducts\",\"MntMeatProducts\",\"MntMeatProducts\",\"MntMeatProducts\",\"MntMeatProducts\",\"MntMeatProducts\",\"MntMeatProducts\",\"MntMeatProducts\",\"MntMeatProducts\",\"MntMeatProducts\",\"MntMeatProducts\",\"MntMeatProducts\",\"MntMeatProducts\",\"MntMeatProducts\",\"MntMeatProducts\",\"MntMeatProducts\",\"MntMeatProducts\",\"MntMeatProducts\",\"MntMeatProducts\",\"MntMeatProducts\",\"MntMeatProducts\",\"MntMeatProducts\",\"MntMeatProducts\",\"MntMeatProducts\",\"MntMeatProducts\",\"MntMeatProducts\",\"MntMeatProducts\",\"MntMeatProducts\",\"MntMeatProducts\",\"MntMeatProducts\",\"MntMeatProducts\",\"MntMeatProducts\",\"MntMeatProducts\",\"MntMeatProducts\",\"MntMeatProducts\",\"MntMeatProducts\",\"MntMeatProducts\",\"MntMeatProducts\",\"MntMeatProducts\",\"MntMeatProducts\",\"MntMeatProducts\",\"MntMeatProducts\",\"MntMeatProducts\",\"MntMeatProducts\",\"MntMeatProducts\",\"MntMeatProducts\",\"MntMeatProducts\",\"MntMeatProducts\",\"MntMeatProducts\",\"MntMeatProducts\",\"MntMeatProducts\",\"MntMeatProducts\",\"MntMeatProducts\",\"MntMeatProducts\",\"MntMeatProducts\",\"MntMeatProducts\",\"MntMeatProducts\",\"MntMeatProducts\",\"MntMeatProducts\",\"MntMeatProducts\",\"MntMeatProducts\",\"MntMeatProducts\",\"MntMeatProducts\",\"MntMeatProducts\",\"MntMeatProducts\",\"MntMeatProducts\",\"MntMeatProducts\",\"MntMeatProducts\",\"MntMeatProducts\",\"MntMeatProducts\",\"MntMeatProducts\",\"MntMeatProducts\",\"MntMeatProducts\",\"MntMeatProducts\",\"MntMeatProducts\",\"MntMeatProducts\",\"MntMeatProducts\",\"MntMeatProducts\",\"MntMeatProducts\",\"MntMeatProducts\",\"MntMeatProducts\",\"MntMeatProducts\",\"MntMeatProducts\",\"MntMeatProducts\",\"MntMeatProducts\",\"MntMeatProducts\",\"MntMeatProducts\",\"MntMeatProducts\",\"MntMeatProducts\",\"MntMeatProducts\",\"MntMeatProducts\",\"MntMeatProducts\",\"MntMeatProducts\",\"MntMeatProducts\",\"MntMeatProducts\",\"MntMeatProducts\",\"MntMeatProducts\",\"MntMeatProducts\",\"MntMeatProducts\",\"MntMeatProducts\",\"MntMeatProducts\",\"MntMeatProducts\",\"MntMeatProducts\",\"MntMeatProducts\",\"MntMeatProducts\",\"MntMeatProducts\",\"MntMeatProducts\",\"MntMeatProducts\",\"MntMeatProducts\",\"MntMeatProducts\",\"MntMeatProducts\",\"MntMeatProducts\",\"MntMeatProducts\",\"MntMeatProducts\",\"MntMeatProducts\",\"MntMeatProducts\",\"MntMeatProducts\",\"MntMeatProducts\",\"MntMeatProducts\",\"MntMeatProducts\",\"MntMeatProducts\",\"MntMeatProducts\",\"MntMeatProducts\",\"MntMeatProducts\",\"MntMeatProducts\",\"MntMeatProducts\",\"MntMeatProducts\",\"MntMeatProducts\",\"MntMeatProducts\",\"MntMeatProducts\",\"MntMeatProducts\",\"MntMeatProducts\",\"MntMeatProducts\",\"MntMeatProducts\",\"MntMeatProducts\",\"MntMeatProducts\",\"MntMeatProducts\",\"MntMeatProducts\",\"MntMeatProducts\",\"MntMeatProducts\",\"MntMeatProducts\",\"MntMeatProducts\",\"MntMeatProducts\",\"MntMeatProducts\",\"MntMeatProducts\",\"MntMeatProducts\",\"MntMeatProducts\",\"MntMeatProducts\",\"MntMeatProducts\",\"MntMeatProducts\",\"MntMeatProducts\",\"MntMeatProducts\",\"MntMeatProducts\",\"MntMeatProducts\",\"MntMeatProducts\",\"MntMeatProducts\",\"MntMeatProducts\",\"MntMeatProducts\",\"MntMeatProducts\",\"MntMeatProducts\",\"MntMeatProducts\",\"MntMeatProducts\",\"MntMeatProducts\",\"MntMeatProducts\",\"MntMeatProducts\",\"MntMeatProducts\",\"MntMeatProducts\",\"MntMeatProducts\",\"MntMeatProducts\",\"MntMeatProducts\",\"MntMeatProducts\",\"MntMeatProducts\",\"MntMeatProducts\",\"MntMeatProducts\",\"MntMeatProducts\",\"MntMeatProducts\",\"MntMeatProducts\",\"MntMeatProducts\",\"MntMeatProducts\",\"MntMeatProducts\",\"MntMeatProducts\",\"MntMeatProducts\",\"MntMeatProducts\",\"MntMeatProducts\",\"MntMeatProducts\",\"MntMeatProducts\",\"MntMeatProducts\",\"MntMeatProducts\",\"MntMeatProducts\",\"MntMeatProducts\",\"MntMeatProducts\",\"MntMeatProducts\",\"MntMeatProducts\",\"MntMeatProducts\",\"MntMeatProducts\",\"MntMeatProducts\",\"MntMeatProducts\",\"MntMeatProducts\",\"MntMeatProducts\",\"MntMeatProducts\",\"MntMeatProducts\",\"MntMeatProducts\",\"MntMeatProducts\",\"MntMeatProducts\",\"MntMeatProducts\",\"MntMeatProducts\",\"MntMeatProducts\",\"MntMeatProducts\",\"MntMeatProducts\",\"MntMeatProducts\",\"MntMeatProducts\",\"MntMeatProducts\",\"MntMeatProducts\",\"MntMeatProducts\",\"MntMeatProducts\",\"MntMeatProducts\",\"MntMeatProducts\",\"MntMeatProducts\",\"MntMeatProducts\",\"MntMeatProducts\",\"MntMeatProducts\",\"MntMeatProducts\",\"MntMeatProducts\",\"MntMeatProducts\",\"MntMeatProducts\",\"MntMeatProducts\",\"MntMeatProducts\",\"MntMeatProducts\",\"MntMeatProducts\",\"MntMeatProducts\",\"MntMeatProducts\",\"MntMeatProducts\",\"MntMeatProducts\",\"MntMeatProducts\",\"MntMeatProducts\",\"MntMeatProducts\",\"MntMeatProducts\",\"MntMeatProducts\",\"MntMeatProducts\",\"MntMeatProducts\",\"MntMeatProducts\",\"MntMeatProducts\",\"MntMeatProducts\",\"MntMeatProducts\",\"MntMeatProducts\",\"MntMeatProducts\",\"MntMeatProducts\",\"MntMeatProducts\",\"MntMeatProducts\",\"MntMeatProducts\",\"MntMeatProducts\",\"MntMeatProducts\",\"MntMeatProducts\",\"MntMeatProducts\",\"MntMeatProducts\",\"MntMeatProducts\",\"MntMeatProducts\",\"MntMeatProducts\",\"MntMeatProducts\",\"MntMeatProducts\",\"MntMeatProducts\",\"MntMeatProducts\",\"MntMeatProducts\",\"MntMeatProducts\",\"MntMeatProducts\",\"MntMeatProducts\",\"MntMeatProducts\",\"MntMeatProducts\",\"MntMeatProducts\",\"MntMeatProducts\",\"MntMeatProducts\",\"MntMeatProducts\",\"MntMeatProducts\",\"MntMeatProducts\",\"MntMeatProducts\",\"MntMeatProducts\",\"MntMeatProducts\",\"MntMeatProducts\",\"MntMeatProducts\",\"MntMeatProducts\",\"MntMeatProducts\",\"MntMeatProducts\",\"MntMeatProducts\",\"MntMeatProducts\",\"MntMeatProducts\",\"MntMeatProducts\",\"MntMeatProducts\",\"MntMeatProducts\",\"MntMeatProducts\",\"MntMeatProducts\",\"MntMeatProducts\",\"MntMeatProducts\",\"MntMeatProducts\",\"MntMeatProducts\",\"MntMeatProducts\",\"MntMeatProducts\",\"MntMeatProducts\",\"MntMeatProducts\",\"MntMeatProducts\",\"MntMeatProducts\",\"MntMeatProducts\",\"MntMeatProducts\",\"MntMeatProducts\",\"MntMeatProducts\",\"MntMeatProducts\",\"MntMeatProducts\",\"MntMeatProducts\",\"MntMeatProducts\",\"MntMeatProducts\",\"MntMeatProducts\",\"MntMeatProducts\",\"MntMeatProducts\",\"MntMeatProducts\",\"MntMeatProducts\",\"MntMeatProducts\",\"MntMeatProducts\",\"MntMeatProducts\",\"MntMeatProducts\",\"MntMeatProducts\",\"MntMeatProducts\",\"MntMeatProducts\",\"MntMeatProducts\",\"MntMeatProducts\",\"MntMeatProducts\",\"MntMeatProducts\",\"MntMeatProducts\",\"MntMeatProducts\",\"MntMeatProducts\",\"MntMeatProducts\",\"MntMeatProducts\",\"MntMeatProducts\",\"MntMeatProducts\",\"MntMeatProducts\",\"MntMeatProducts\",\"MntMeatProducts\",\"MntMeatProducts\",\"MntMeatProducts\",\"MntMeatProducts\",\"MntMeatProducts\",\"MntMeatProducts\",\"MntMeatProducts\",\"MntMeatProducts\",\"MntMeatProducts\",\"MntMeatProducts\",\"MntMeatProducts\",\"MntMeatProducts\",\"MntMeatProducts\",\"MntMeatProducts\",\"MntMeatProducts\",\"MntMeatProducts\",\"MntMeatProducts\",\"MntMeatProducts\",\"MntMeatProducts\",\"MntMeatProducts\",\"MntMeatProducts\",\"MntMeatProducts\",\"MntMeatProducts\",\"MntMeatProducts\",\"MntMeatProducts\",\"MntMeatProducts\",\"MntMeatProducts\",\"MntMeatProducts\",\"MntMeatProducts\",\"MntMeatProducts\",\"MntMeatProducts\",\"MntMeatProducts\",\"MntMeatProducts\",\"MntMeatProducts\",\"MntMeatProducts\",\"MntMeatProducts\",\"MntMeatProducts\",\"MntMeatProducts\",\"MntMeatProducts\",\"MntMeatProducts\",\"MntMeatProducts\",\"MntMeatProducts\",\"MntMeatProducts\",\"MntMeatProducts\",\"MntMeatProducts\",\"MntMeatProducts\",\"MntMeatProducts\",\"MntMeatProducts\",\"MntMeatProducts\",\"MntMeatProducts\",\"MntMeatProducts\",\"MntMeatProducts\",\"MntMeatProducts\",\"MntMeatProducts\",\"MntMeatProducts\",\"MntMeatProducts\",\"MntMeatProducts\",\"MntMeatProducts\",\"MntMeatProducts\",\"MntMeatProducts\",\"MntMeatProducts\",\"MntMeatProducts\",\"MntMeatProducts\",\"MntMeatProducts\",\"MntMeatProducts\",\"MntMeatProducts\",\"MntMeatProducts\",\"MntMeatProducts\",\"MntMeatProducts\",\"MntMeatProducts\",\"MntMeatProducts\",\"MntMeatProducts\",\"MntMeatProducts\",\"MntMeatProducts\",\"MntMeatProducts\",\"MntMeatProducts\",\"MntMeatProducts\",\"MntMeatProducts\",\"MntMeatProducts\",\"MntMeatProducts\",\"MntMeatProducts\",\"MntMeatProducts\",\"MntMeatProducts\",\"MntMeatProducts\",\"MntMeatProducts\",\"MntMeatProducts\",\"MntMeatProducts\",\"MntMeatProducts\",\"MntMeatProducts\",\"MntMeatProducts\",\"MntMeatProducts\",\"MntMeatProducts\",\"MntMeatProducts\",\"MntMeatProducts\",\"MntMeatProducts\",\"MntMeatProducts\",\"MntMeatProducts\",\"MntMeatProducts\",\"MntMeatProducts\",\"MntMeatProducts\",\"MntMeatProducts\",\"MntMeatProducts\",\"MntMeatProducts\",\"MntMeatProducts\",\"MntMeatProducts\",\"MntMeatProducts\",\"MntMeatProducts\",\"MntMeatProducts\",\"MntMeatProducts\",\"MntMeatProducts\",\"MntMeatProducts\",\"MntMeatProducts\",\"MntMeatProducts\",\"MntMeatProducts\",\"MntMeatProducts\",\"MntMeatProducts\",\"MntMeatProducts\",\"MntMeatProducts\",\"MntMeatProducts\",\"MntMeatProducts\",\"MntMeatProducts\",\"MntMeatProducts\",\"MntMeatProducts\",\"MntMeatProducts\",\"MntMeatProducts\",\"MntMeatProducts\",\"MntMeatProducts\",\"MntMeatProducts\",\"MntMeatProducts\",\"MntMeatProducts\",\"MntMeatProducts\",\"MntMeatProducts\",\"MntMeatProducts\",\"MntMeatProducts\",\"MntMeatProducts\",\"MntMeatProducts\",\"MntMeatProducts\",\"MntMeatProducts\",\"MntMeatProducts\",\"MntMeatProducts\",\"MntMeatProducts\",\"MntMeatProducts\",\"MntMeatProducts\",\"MntMeatProducts\",\"MntMeatProducts\",\"MntMeatProducts\",\"MntMeatProducts\",\"MntMeatProducts\",\"MntMeatProducts\",\"MntMeatProducts\",\"MntMeatProducts\",\"MntMeatProducts\",\"MntMeatProducts\",\"MntMeatProducts\",\"MntMeatProducts\",\"MntMeatProducts\",\"MntMeatProducts\",\"MntMeatProducts\",\"MntMeatProducts\",\"MntMeatProducts\",\"MntMeatProducts\",\"MntMeatProducts\",\"MntMeatProducts\",\"MntMeatProducts\",\"MntMeatProducts\",\"MntMeatProducts\",\"MntMeatProducts\",\"MntMeatProducts\",\"MntMeatProducts\",\"MntMeatProducts\",\"MntMeatProducts\",\"MntMeatProducts\",\"MntMeatProducts\",\"MntMeatProducts\",\"MntMeatProducts\",\"MntMeatProducts\",\"MntMeatProducts\",\"MntMeatProducts\",\"MntMeatProducts\",\"MntMeatProducts\",\"MntMeatProducts\",\"MntMeatProducts\",\"MntMeatProducts\",\"MntMeatProducts\",\"MntMeatProducts\",\"MntMeatProducts\",\"MntMeatProducts\",\"MntMeatProducts\",\"MntMeatProducts\",\"MntMeatProducts\",\"MntMeatProducts\",\"MntMeatProducts\",\"MntMeatProducts\",\"MntMeatProducts\",\"MntMeatProducts\",\"MntMeatProducts\",\"MntMeatProducts\",\"MntMeatProducts\",\"MntMeatProducts\",\"MntMeatProducts\",\"MntMeatProducts\",\"MntMeatProducts\",\"MntMeatProducts\",\"MntMeatProducts\",\"MntMeatProducts\",\"MntMeatProducts\",\"MntMeatProducts\",\"MntMeatProducts\",\"MntMeatProducts\",\"MntMeatProducts\",\"MntMeatProducts\",\"MntMeatProducts\",\"MntMeatProducts\",\"MntMeatProducts\",\"MntMeatProducts\",\"MntMeatProducts\",\"MntMeatProducts\",\"MntMeatProducts\",\"MntMeatProducts\",\"MntMeatProducts\",\"MntMeatProducts\",\"MntMeatProducts\",\"MntMeatProducts\",\"MntMeatProducts\",\"MntMeatProducts\",\"MntMeatProducts\",\"MntMeatProducts\",\"MntMeatProducts\",\"MntMeatProducts\",\"MntMeatProducts\",\"MntMeatProducts\",\"MntMeatProducts\",\"MntMeatProducts\",\"MntMeatProducts\",\"MntMeatProducts\",\"MntMeatProducts\",\"MntMeatProducts\",\"MntMeatProducts\",\"MntMeatProducts\",\"MntMeatProducts\",\"MntMeatProducts\",\"MntMeatProducts\",\"MntMeatProducts\",\"MntMeatProducts\",\"MntMeatProducts\",\"MntMeatProducts\",\"MntMeatProducts\",\"MntMeatProducts\",\"MntMeatProducts\",\"MntMeatProducts\",\"MntMeatProducts\",\"MntMeatProducts\",\"MntMeatProducts\",\"MntMeatProducts\",\"MntMeatProducts\",\"MntMeatProducts\",\"MntMeatProducts\",\"MntMeatProducts\",\"MntMeatProducts\",\"MntMeatProducts\",\"MntMeatProducts\",\"MntMeatProducts\",\"MntMeatProducts\",\"MntMeatProducts\",\"MntMeatProducts\",\"MntMeatProducts\",\"MntMeatProducts\",\"MntMeatProducts\",\"MntMeatProducts\",\"MntMeatProducts\",\"MntMeatProducts\",\"MntMeatProducts\",\"MntMeatProducts\",\"MntMeatProducts\",\"MntMeatProducts\",\"MntMeatProducts\",\"MntMeatProducts\",\"MntMeatProducts\",\"MntMeatProducts\",\"MntMeatProducts\",\"MntMeatProducts\",\"MntMeatProducts\",\"MntMeatProducts\",\"MntMeatProducts\",\"MntMeatProducts\",\"MntMeatProducts\",\"MntMeatProducts\",\"MntMeatProducts\",\"MntMeatProducts\",\"MntMeatProducts\",\"MntMeatProducts\",\"MntMeatProducts\",\"MntMeatProducts\",\"MntMeatProducts\",\"MntMeatProducts\",\"MntMeatProducts\",\"MntMeatProducts\",\"MntMeatProducts\",\"MntMeatProducts\",\"MntMeatProducts\",\"MntMeatProducts\",\"MntMeatProducts\",\"MntMeatProducts\",\"MntMeatProducts\",\"MntMeatProducts\",\"MntMeatProducts\",\"MntMeatProducts\",\"MntMeatProducts\",\"MntMeatProducts\",\"MntMeatProducts\",\"MntMeatProducts\",\"MntMeatProducts\",\"MntMeatProducts\",\"MntMeatProducts\",\"MntMeatProducts\",\"MntMeatProducts\",\"MntMeatProducts\",\"MntMeatProducts\",\"MntMeatProducts\",\"MntMeatProducts\",\"MntMeatProducts\",\"MntMeatProducts\",\"MntMeatProducts\",\"MntMeatProducts\",\"MntMeatProducts\",\"MntMeatProducts\",\"MntMeatProducts\",\"MntMeatProducts\",\"MntMeatProducts\",\"MntMeatProducts\",\"MntMeatProducts\",\"MntMeatProducts\",\"MntMeatProducts\",\"MntMeatProducts\",\"MntMeatProducts\",\"MntMeatProducts\",\"MntMeatProducts\",\"MntMeatProducts\",\"MntMeatProducts\",\"MntMeatProducts\",\"MntMeatProducts\",\"MntMeatProducts\",\"MntMeatProducts\",\"MntMeatProducts\",\"MntMeatProducts\",\"MntMeatProducts\",\"MntMeatProducts\",\"MntMeatProducts\",\"MntMeatProducts\",\"MntMeatProducts\",\"MntMeatProducts\",\"MntMeatProducts\",\"MntMeatProducts\",\"MntMeatProducts\",\"MntMeatProducts\",\"MntMeatProducts\",\"MntMeatProducts\",\"MntMeatProducts\",\"MntMeatProducts\",\"MntMeatProducts\",\"MntMeatProducts\",\"MntMeatProducts\",\"MntMeatProducts\",\"MntMeatProducts\",\"MntMeatProducts\",\"MntMeatProducts\",\"MntMeatProducts\",\"MntMeatProducts\",\"MntMeatProducts\",\"MntMeatProducts\",\"MntMeatProducts\",\"MntMeatProducts\",\"MntMeatProducts\",\"MntMeatProducts\",\"MntMeatProducts\",\"MntMeatProducts\",\"MntMeatProducts\",\"MntMeatProducts\",\"MntMeatProducts\",\"MntMeatProducts\",\"MntMeatProducts\",\"MntMeatProducts\",\"MntMeatProducts\",\"MntMeatProducts\",\"MntMeatProducts\",\"MntMeatProducts\",\"MntMeatProducts\",\"MntMeatProducts\",\"MntMeatProducts\",\"MntMeatProducts\",\"MntMeatProducts\",\"MntMeatProducts\",\"MntMeatProducts\",\"MntMeatProducts\",\"MntMeatProducts\",\"MntMeatProducts\",\"MntMeatProducts\",\"MntMeatProducts\",\"MntMeatProducts\",\"MntMeatProducts\",\"MntMeatProducts\",\"MntMeatProducts\",\"MntMeatProducts\",\"MntMeatProducts\",\"MntMeatProducts\",\"MntMeatProducts\",\"MntMeatProducts\",\"MntMeatProducts\",\"MntMeatProducts\",\"MntMeatProducts\",\"MntMeatProducts\",\"MntMeatProducts\",\"MntMeatProducts\",\"MntMeatProducts\",\"MntMeatProducts\",\"MntMeatProducts\",\"MntMeatProducts\",\"MntMeatProducts\",\"MntMeatProducts\",\"MntMeatProducts\",\"MntMeatProducts\",\"MntMeatProducts\",\"MntMeatProducts\",\"MntMeatProducts\",\"MntMeatProducts\",\"MntMeatProducts\",\"MntMeatProducts\",\"MntMeatProducts\",\"MntMeatProducts\",\"MntMeatProducts\",\"MntMeatProducts\",\"MntMeatProducts\",\"MntMeatProducts\",\"MntMeatProducts\",\"MntMeatProducts\",\"MntMeatProducts\",\"MntMeatProducts\",\"MntMeatProducts\",\"MntMeatProducts\",\"MntMeatProducts\",\"MntMeatProducts\",\"MntMeatProducts\",\"MntMeatProducts\",\"MntMeatProducts\",\"MntMeatProducts\",\"MntMeatProducts\",\"MntMeatProducts\",\"MntMeatProducts\",\"MntMeatProducts\",\"MntMeatProducts\",\"MntMeatProducts\",\"MntMeatProducts\",\"MntMeatProducts\",\"MntMeatProducts\",\"MntMeatProducts\",\"MntMeatProducts\",\"MntMeatProducts\",\"MntMeatProducts\",\"MntMeatProducts\",\"MntMeatProducts\",\"MntMeatProducts\",\"MntMeatProducts\",\"MntMeatProducts\",\"MntMeatProducts\",\"MntMeatProducts\",\"MntMeatProducts\",\"MntMeatProducts\",\"MntMeatProducts\",\"MntMeatProducts\",\"MntMeatProducts\",\"MntMeatProducts\",\"MntMeatProducts\",\"MntMeatProducts\",\"MntMeatProducts\",\"MntMeatProducts\",\"MntMeatProducts\",\"MntMeatProducts\",\"MntMeatProducts\",\"MntMeatProducts\",\"MntMeatProducts\",\"MntMeatProducts\",\"MntMeatProducts\",\"MntMeatProducts\",\"MntMeatProducts\",\"MntMeatProducts\",\"MntMeatProducts\",\"MntMeatProducts\",\"MntMeatProducts\",\"MntMeatProducts\",\"MntMeatProducts\",\"MntMeatProducts\",\"MntMeatProducts\",\"MntMeatProducts\",\"MntMeatProducts\",\"MntMeatProducts\",\"MntMeatProducts\",\"MntMeatProducts\",\"MntMeatProducts\",\"MntMeatProducts\",\"MntMeatProducts\",\"MntMeatProducts\",\"MntMeatProducts\",\"MntMeatProducts\",\"MntMeatProducts\",\"MntMeatProducts\",\"MntMeatProducts\",\"MntMeatProducts\",\"MntMeatProducts\",\"MntMeatProducts\",\"MntMeatProducts\",\"MntMeatProducts\",\"MntMeatProducts\",\"MntMeatProducts\",\"MntMeatProducts\",\"MntMeatProducts\",\"MntMeatProducts\",\"MntMeatProducts\",\"MntMeatProducts\",\"MntMeatProducts\",\"MntMeatProducts\",\"MntMeatProducts\",\"MntMeatProducts\",\"MntMeatProducts\",\"MntMeatProducts\",\"MntMeatProducts\",\"MntMeatProducts\",\"MntMeatProducts\",\"MntMeatProducts\",\"MntMeatProducts\",\"MntMeatProducts\",\"MntMeatProducts\",\"MntMeatProducts\",\"MntMeatProducts\",\"MntMeatProducts\",\"MntMeatProducts\",\"MntMeatProducts\",\"MntMeatProducts\",\"MntMeatProducts\",\"MntMeatProducts\",\"MntMeatProducts\",\"MntMeatProducts\",\"MntMeatProducts\",\"MntMeatProducts\",\"MntMeatProducts\",\"MntMeatProducts\",\"MntMeatProducts\",\"MntMeatProducts\",\"MntMeatProducts\",\"MntMeatProducts\",\"MntMeatProducts\",\"MntMeatProducts\",\"MntMeatProducts\",\"MntMeatProducts\",\"MntMeatProducts\",\"MntMeatProducts\",\"MntMeatProducts\",\"MntMeatProducts\",\"MntMeatProducts\",\"MntMeatProducts\",\"MntMeatProducts\",\"MntMeatProducts\",\"MntMeatProducts\",\"MntMeatProducts\",\"MntMeatProducts\",\"MntMeatProducts\",\"MntMeatProducts\",\"MntMeatProducts\",\"MntMeatProducts\",\"MntMeatProducts\",\"MntMeatProducts\",\"MntMeatProducts\",\"MntMeatProducts\",\"MntMeatProducts\",\"MntMeatProducts\",\"MntMeatProducts\",\"MntMeatProducts\",\"MntMeatProducts\",\"MntMeatProducts\",\"MntMeatProducts\",\"MntMeatProducts\",\"MntMeatProducts\",\"MntMeatProducts\",\"MntMeatProducts\",\"MntMeatProducts\",\"MntMeatProducts\",\"MntMeatProducts\",\"MntMeatProducts\",\"MntMeatProducts\",\"MntMeatProducts\",\"MntMeatProducts\",\"MntMeatProducts\",\"MntMeatProducts\",\"MntMeatProducts\",\"MntMeatProducts\",\"MntMeatProducts\",\"MntMeatProducts\",\"MntMeatProducts\",\"MntMeatProducts\",\"MntMeatProducts\",\"MntMeatProducts\",\"MntMeatProducts\",\"MntMeatProducts\",\"MntMeatProducts\",\"MntMeatProducts\",\"MntMeatProducts\",\"MntMeatProducts\",\"MntMeatProducts\",\"MntMeatProducts\",\"MntMeatProducts\",\"MntMeatProducts\",\"MntMeatProducts\",\"MntMeatProducts\",\"MntMeatProducts\",\"MntMeatProducts\",\"MntMeatProducts\",\"MntMeatProducts\",\"MntMeatProducts\",\"MntMeatProducts\",\"MntMeatProducts\",\"MntMeatProducts\",\"MntMeatProducts\",\"MntMeatProducts\",\"MntMeatProducts\",\"MntMeatProducts\",\"MntMeatProducts\",\"MntMeatProducts\",\"MntMeatProducts\",\"MntMeatProducts\",\"MntMeatProducts\",\"MntMeatProducts\",\"MntMeatProducts\",\"MntMeatProducts\",\"MntMeatProducts\",\"MntMeatProducts\",\"MntMeatProducts\",\"MntMeatProducts\",\"MntMeatProducts\",\"MntMeatProducts\",\"MntMeatProducts\",\"MntMeatProducts\",\"MntMeatProducts\",\"MntMeatProducts\",\"MntMeatProducts\",\"MntMeatProducts\",\"MntMeatProducts\",\"MntMeatProducts\",\"MntMeatProducts\",\"MntMeatProducts\",\"MntMeatProducts\",\"MntMeatProducts\",\"MntMeatProducts\",\"MntMeatProducts\",\"MntMeatProducts\",\"MntMeatProducts\",\"MntMeatProducts\",\"MntMeatProducts\",\"MntMeatProducts\",\"MntMeatProducts\",\"MntMeatProducts\",\"MntMeatProducts\",\"MntMeatProducts\",\"MntMeatProducts\",\"MntMeatProducts\",\"MntMeatProducts\",\"MntMeatProducts\",\"MntMeatProducts\",\"MntMeatProducts\",\"MntMeatProducts\",\"MntMeatProducts\",\"MntMeatProducts\",\"MntMeatProducts\",\"MntMeatProducts\",\"MntMeatProducts\",\"MntMeatProducts\",\"MntMeatProducts\",\"MntMeatProducts\",\"MntMeatProducts\",\"MntMeatProducts\",\"MntMeatProducts\",\"MntMeatProducts\",\"MntMeatProducts\",\"MntMeatProducts\",\"MntMeatProducts\",\"MntMeatProducts\",\"MntMeatProducts\",\"MntMeatProducts\",\"MntMeatProducts\",\"MntMeatProducts\",\"MntMeatProducts\",\"MntMeatProducts\",\"MntMeatProducts\",\"MntMeatProducts\",\"MntMeatProducts\",\"MntMeatProducts\",\"MntMeatProducts\",\"MntMeatProducts\",\"MntMeatProducts\",\"MntMeatProducts\",\"MntMeatProducts\",\"MntMeatProducts\",\"MntMeatProducts\",\"MntMeatProducts\",\"MntMeatProducts\",\"MntMeatProducts\",\"MntMeatProducts\",\"MntMeatProducts\",\"MntMeatProducts\",\"MntMeatProducts\",\"MntMeatProducts\",\"MntMeatProducts\",\"MntMeatProducts\",\"MntMeatProducts\",\"MntMeatProducts\",\"MntMeatProducts\",\"MntMeatProducts\",\"MntMeatProducts\",\"MntMeatProducts\",\"MntMeatProducts\",\"MntMeatProducts\",\"MntMeatProducts\",\"MntMeatProducts\",\"MntMeatProducts\",\"MntMeatProducts\",\"MntMeatProducts\",\"MntMeatProducts\",\"MntMeatProducts\",\"MntMeatProducts\",\"MntMeatProducts\",\"MntMeatProducts\",\"MntMeatProducts\",\"MntMeatProducts\",\"MntMeatProducts\",\"MntMeatProducts\",\"MntMeatProducts\",\"MntMeatProducts\",\"MntMeatProducts\",\"MntMeatProducts\",\"MntMeatProducts\",\"MntMeatProducts\",\"MntMeatProducts\",\"MntMeatProducts\",\"MntMeatProducts\",\"MntMeatProducts\",\"MntMeatProducts\",\"MntMeatProducts\",\"MntMeatProducts\",\"MntMeatProducts\",\"MntMeatProducts\",\"MntMeatProducts\",\"MntMeatProducts\",\"MntMeatProducts\",\"MntMeatProducts\",\"MntMeatProducts\",\"MntMeatProducts\",\"MntMeatProducts\",\"MntMeatProducts\",\"MntMeatProducts\",\"MntMeatProducts\",\"MntMeatProducts\",\"MntMeatProducts\",\"MntMeatProducts\",\"MntMeatProducts\",\"MntMeatProducts\",\"MntMeatProducts\",\"MntMeatProducts\",\"MntMeatProducts\",\"MntMeatProducts\",\"MntMeatProducts\",\"MntMeatProducts\",\"MntMeatProducts\",\"MntMeatProducts\",\"MntMeatProducts\",\"MntMeatProducts\",\"MntMeatProducts\",\"MntMeatProducts\",\"MntMeatProducts\",\"MntMeatProducts\",\"MntMeatProducts\",\"MntMeatProducts\",\"MntMeatProducts\",\"MntMeatProducts\",\"MntMeatProducts\",\"MntMeatProducts\",\"MntMeatProducts\",\"MntMeatProducts\",\"MntMeatProducts\",\"MntMeatProducts\",\"MntMeatProducts\",\"MntMeatProducts\",\"MntMeatProducts\",\"MntMeatProducts\",\"MntMeatProducts\",\"MntMeatProducts\",\"MntMeatProducts\",\"MntMeatProducts\",\"MntMeatProducts\",\"MntMeatProducts\",\"MntMeatProducts\",\"MntMeatProducts\",\"MntMeatProducts\",\"MntMeatProducts\",\"MntMeatProducts\",\"MntMeatProducts\",\"MntMeatProducts\",\"MntMeatProducts\",\"MntMeatProducts\",\"MntMeatProducts\",\"MntMeatProducts\",\"MntMeatProducts\",\"MntMeatProducts\",\"MntMeatProducts\",\"MntMeatProducts\",\"MntMeatProducts\",\"MntMeatProducts\",\"MntMeatProducts\",\"MntMeatProducts\",\"MntMeatProducts\",\"MntMeatProducts\",\"MntMeatProducts\",\"MntMeatProducts\",\"MntMeatProducts\",\"MntMeatProducts\",\"MntMeatProducts\",\"MntMeatProducts\",\"MntMeatProducts\",\"MntMeatProducts\",\"MntMeatProducts\",\"MntMeatProducts\",\"MntMeatProducts\",\"MntMeatProducts\",\"MntMeatProducts\",\"MntMeatProducts\",\"MntMeatProducts\",\"MntMeatProducts\",\"MntMeatProducts\",\"MntMeatProducts\",\"MntMeatProducts\",\"MntMeatProducts\",\"MntMeatProducts\",\"MntMeatProducts\",\"MntMeatProducts\",\"MntMeatProducts\",\"MntMeatProducts\",\"MntMeatProducts\",\"MntMeatProducts\",\"MntMeatProducts\",\"MntMeatProducts\",\"MntMeatProducts\",\"MntMeatProducts\",\"MntMeatProducts\",\"MntMeatProducts\",\"MntMeatProducts\",\"MntMeatProducts\",\"MntMeatProducts\",\"MntMeatProducts\",\"MntMeatProducts\",\"MntMeatProducts\",\"MntMeatProducts\",\"MntMeatProducts\",\"MntMeatProducts\",\"MntMeatProducts\",\"MntMeatProducts\",\"MntMeatProducts\",\"MntMeatProducts\",\"MntMeatProducts\",\"MntMeatProducts\",\"MntMeatProducts\",\"MntMeatProducts\",\"MntMeatProducts\",\"MntMeatProducts\",\"MntMeatProducts\",\"MntMeatProducts\",\"MntMeatProducts\",\"MntMeatProducts\",\"MntMeatProducts\",\"MntMeatProducts\",\"MntMeatProducts\",\"MntMeatProducts\",\"MntMeatProducts\",\"MntMeatProducts\",\"MntMeatProducts\",\"MntMeatProducts\",\"MntMeatProducts\",\"MntMeatProducts\",\"MntMeatProducts\",\"MntMeatProducts\",\"MntMeatProducts\",\"MntMeatProducts\",\"MntMeatProducts\",\"MntMeatProducts\",\"MntMeatProducts\",\"MntMeatProducts\",\"MntMeatProducts\",\"MntMeatProducts\",\"MntMeatProducts\",\"MntMeatProducts\",\"MntMeatProducts\",\"MntMeatProducts\",\"MntMeatProducts\",\"MntMeatProducts\",\"MntMeatProducts\",\"MntMeatProducts\",\"MntMeatProducts\",\"MntMeatProducts\",\"MntMeatProducts\",\"MntMeatProducts\",\"MntMeatProducts\",\"MntMeatProducts\",\"MntMeatProducts\",\"MntMeatProducts\",\"MntMeatProducts\",\"MntMeatProducts\",\"MntMeatProducts\",\"MntMeatProducts\",\"MntMeatProducts\",\"MntMeatProducts\",\"MntMeatProducts\",\"MntMeatProducts\",\"MntMeatProducts\",\"MntMeatProducts\",\"MntMeatProducts\",\"MntMeatProducts\",\"MntMeatProducts\",\"MntMeatProducts\",\"MntMeatProducts\",\"MntMeatProducts\",\"MntMeatProducts\",\"MntMeatProducts\",\"MntMeatProducts\",\"MntMeatProducts\",\"MntMeatProducts\",\"MntMeatProducts\",\"MntMeatProducts\",\"MntMeatProducts\",\"MntMeatProducts\",\"MntMeatProducts\",\"MntMeatProducts\",\"MntMeatProducts\",\"MntMeatProducts\",\"MntMeatProducts\",\"MntMeatProducts\",\"MntMeatProducts\",\"MntMeatProducts\",\"MntMeatProducts\",\"MntMeatProducts\",\"MntMeatProducts\",\"MntMeatProducts\",\"MntMeatProducts\",\"MntMeatProducts\",\"MntMeatProducts\",\"MntMeatProducts\",\"MntMeatProducts\",\"MntMeatProducts\",\"MntMeatProducts\",\"MntMeatProducts\",\"MntMeatProducts\",\"MntMeatProducts\",\"MntMeatProducts\",\"MntMeatProducts\",\"MntMeatProducts\",\"MntMeatProducts\",\"MntMeatProducts\",\"MntMeatProducts\",\"MntMeatProducts\",\"MntMeatProducts\",\"MntMeatProducts\",\"MntMeatProducts\",\"MntMeatProducts\",\"MntMeatProducts\",\"MntMeatProducts\",\"MntMeatProducts\",\"MntMeatProducts\",\"MntMeatProducts\",\"MntMeatProducts\",\"MntMeatProducts\",\"MntMeatProducts\",\"MntMeatProducts\",\"MntMeatProducts\",\"MntMeatProducts\",\"MntMeatProducts\",\"MntMeatProducts\",\"MntMeatProducts\",\"MntMeatProducts\",\"MntMeatProducts\",\"MntMeatProducts\",\"MntMeatProducts\",\"MntMeatProducts\",\"MntMeatProducts\",\"MntMeatProducts\",\"MntMeatProducts\",\"MntMeatProducts\",\"MntMeatProducts\",\"MntMeatProducts\",\"MntMeatProducts\",\"MntMeatProducts\",\"MntMeatProducts\",\"MntMeatProducts\",\"MntMeatProducts\",\"MntMeatProducts\",\"MntMeatProducts\",\"MntMeatProducts\",\"MntMeatProducts\",\"MntMeatProducts\",\"MntMeatProducts\",\"MntMeatProducts\",\"MntMeatProducts\",\"MntMeatProducts\",\"MntMeatProducts\",\"MntMeatProducts\",\"MntMeatProducts\",\"MntMeatProducts\",\"MntMeatProducts\",\"MntMeatProducts\",\"MntMeatProducts\",\"MntMeatProducts\",\"MntMeatProducts\",\"MntMeatProducts\",\"MntMeatProducts\",\"MntMeatProducts\",\"MntMeatProducts\",\"MntMeatProducts\",\"MntMeatProducts\",\"MntMeatProducts\",\"MntMeatProducts\",\"MntMeatProducts\",\"MntMeatProducts\",\"MntMeatProducts\",\"MntMeatProducts\",\"MntMeatProducts\",\"MntMeatProducts\",\"MntMeatProducts\",\"MntMeatProducts\",\"MntMeatProducts\",\"MntMeatProducts\",\"MntMeatProducts\",\"MntMeatProducts\",\"MntMeatProducts\",\"MntMeatProducts\",\"MntMeatProducts\",\"MntMeatProducts\",\"MntMeatProducts\",\"MntMeatProducts\",\"MntMeatProducts\",\"MntMeatProducts\",\"MntMeatProducts\",\"MntMeatProducts\",\"MntMeatProducts\",\"MntMeatProducts\",\"MntMeatProducts\",\"MntMeatProducts\",\"MntMeatProducts\",\"MntMeatProducts\",\"MntMeatProducts\",\"MntMeatProducts\",\"MntMeatProducts\",\"MntMeatProducts\",\"MntMeatProducts\",\"MntMeatProducts\",\"MntMeatProducts\",\"MntMeatProducts\",\"MntMeatProducts\",\"MntMeatProducts\",\"MntMeatProducts\",\"MntMeatProducts\",\"MntMeatProducts\",\"MntMeatProducts\",\"MntMeatProducts\",\"MntMeatProducts\",\"MntMeatProducts\",\"MntMeatProducts\",\"MntMeatProducts\",\"MntMeatProducts\",\"MntMeatProducts\",\"MntMeatProducts\",\"MntMeatProducts\",\"MntMeatProducts\",\"MntMeatProducts\",\"MntMeatProducts\",\"MntMeatProducts\",\"MntMeatProducts\",\"MntMeatProducts\",\"MntMeatProducts\",\"MntMeatProducts\",\"MntMeatProducts\",\"MntMeatProducts\",\"MntMeatProducts\",\"MntMeatProducts\",\"MntMeatProducts\",\"MntMeatProducts\",\"MntMeatProducts\",\"MntMeatProducts\",\"MntMeatProducts\",\"MntMeatProducts\",\"MntMeatProducts\",\"MntMeatProducts\",\"MntMeatProducts\",\"MntMeatProducts\",\"MntMeatProducts\",\"MntMeatProducts\",\"MntMeatProducts\",\"MntMeatProducts\",\"MntMeatProducts\",\"MntMeatProducts\",\"MntMeatProducts\",\"MntMeatProducts\",\"MntMeatProducts\",\"MntMeatProducts\",\"MntMeatProducts\",\"MntMeatProducts\",\"MntMeatProducts\",\"MntMeatProducts\",\"MntMeatProducts\",\"MntMeatProducts\",\"MntMeatProducts\",\"MntMeatProducts\",\"MntMeatProducts\",\"MntMeatProducts\",\"MntMeatProducts\",\"MntMeatProducts\",\"MntMeatProducts\",\"MntMeatProducts\",\"MntMeatProducts\",\"MntMeatProducts\",\"MntMeatProducts\",\"MntMeatProducts\",\"MntMeatProducts\",\"MntMeatProducts\",\"MntMeatProducts\",\"MntMeatProducts\",\"MntMeatProducts\",\"MntMeatProducts\",\"MntMeatProducts\",\"MntMeatProducts\",\"MntMeatProducts\",\"MntMeatProducts\",\"MntMeatProducts\",\"MntMeatProducts\",\"MntMeatProducts\",\"MntMeatProducts\",\"MntMeatProducts\",\"MntMeatProducts\",\"MntMeatProducts\",\"MntMeatProducts\",\"MntMeatProducts\",\"MntMeatProducts\",\"MntMeatProducts\",\"MntMeatProducts\",\"MntMeatProducts\",\"MntMeatProducts\",\"MntMeatProducts\",\"MntMeatProducts\",\"MntMeatProducts\",\"MntMeatProducts\",\"MntMeatProducts\",\"MntMeatProducts\",\"MntMeatProducts\",\"MntMeatProducts\",\"MntMeatProducts\",\"MntMeatProducts\",\"MntMeatProducts\",\"MntMeatProducts\",\"MntMeatProducts\",\"MntMeatProducts\",\"MntMeatProducts\",\"MntMeatProducts\",\"MntMeatProducts\",\"MntMeatProducts\",\"MntMeatProducts\",\"MntMeatProducts\",\"MntMeatProducts\",\"MntMeatProducts\",\"MntMeatProducts\",\"MntMeatProducts\",\"MntMeatProducts\",\"MntMeatProducts\",\"MntMeatProducts\",\"MntMeatProducts\",\"MntMeatProducts\",\"MntMeatProducts\",\"MntMeatProducts\",\"MntMeatProducts\",\"MntMeatProducts\",\"MntMeatProducts\",\"MntMeatProducts\",\"MntMeatProducts\",\"MntMeatProducts\",\"MntMeatProducts\",\"MntMeatProducts\",\"MntMeatProducts\",\"MntMeatProducts\",\"MntMeatProducts\",\"MntMeatProducts\",\"MntMeatProducts\",\"MntMeatProducts\",\"MntMeatProducts\",\"MntMeatProducts\",\"MntMeatProducts\",\"MntMeatProducts\",\"MntMeatProducts\",\"MntMeatProducts\",\"MntMeatProducts\",\"MntMeatProducts\",\"MntMeatProducts\",\"MntMeatProducts\",\"MntMeatProducts\",\"MntMeatProducts\",\"MntMeatProducts\",\"MntMeatProducts\",\"MntMeatProducts\",\"MntMeatProducts\",\"MntMeatProducts\",\"MntMeatProducts\",\"MntMeatProducts\",\"MntMeatProducts\",\"MntMeatProducts\",\"MntMeatProducts\",\"MntMeatProducts\",\"MntMeatProducts\",\"MntMeatProducts\",\"MntMeatProducts\",\"MntMeatProducts\",\"MntMeatProducts\",\"MntMeatProducts\",\"MntMeatProducts\",\"MntMeatProducts\",\"MntMeatProducts\",\"MntMeatProducts\",\"MntMeatProducts\",\"MntMeatProducts\",\"MntMeatProducts\",\"MntMeatProducts\",\"MntMeatProducts\",\"MntMeatProducts\",\"MntMeatProducts\",\"MntMeatProducts\",\"MntMeatProducts\",\"MntMeatProducts\",\"MntMeatProducts\",\"MntMeatProducts\",\"MntMeatProducts\",\"MntMeatProducts\",\"MntMeatProducts\",\"MntMeatProducts\",\"MntMeatProducts\",\"MntMeatProducts\",\"MntMeatProducts\",\"MntMeatProducts\",\"MntMeatProducts\",\"MntMeatProducts\",\"MntMeatProducts\",\"MntMeatProducts\",\"MntMeatProducts\",\"MntMeatProducts\",\"MntMeatProducts\",\"MntMeatProducts\",\"MntMeatProducts\",\"MntMeatProducts\",\"MntMeatProducts\",\"MntMeatProducts\",\"MntMeatProducts\",\"MntMeatProducts\",\"MntMeatProducts\",\"MntMeatProducts\",\"MntMeatProducts\",\"MntMeatProducts\",\"MntMeatProducts\",\"MntMeatProducts\",\"MntMeatProducts\",\"MntMeatProducts\",\"MntMeatProducts\",\"MntMeatProducts\",\"MntMeatProducts\",\"MntMeatProducts\",\"MntMeatProducts\",\"MntMeatProducts\",\"MntMeatProducts\",\"MntMeatProducts\",\"MntMeatProducts\",\"MntMeatProducts\",\"MntMeatProducts\",\"MntMeatProducts\",\"MntMeatProducts\",\"MntMeatProducts\",\"MntMeatProducts\",\"MntMeatProducts\",\"MntMeatProducts\",\"MntMeatProducts\",\"MntMeatProducts\",\"MntMeatProducts\",\"MntMeatProducts\",\"MntMeatProducts\",\"MntMeatProducts\",\"MntMeatProducts\",\"MntMeatProducts\",\"MntMeatProducts\",\"MntMeatProducts\",\"MntMeatProducts\",\"MntMeatProducts\",\"MntMeatProducts\",\"MntMeatProducts\",\"MntMeatProducts\",\"MntMeatProducts\",\"MntMeatProducts\",\"MntMeatProducts\",\"MntMeatProducts\",\"MntMeatProducts\",\"MntMeatProducts\",\"MntMeatProducts\",\"MntMeatProducts\",\"MntMeatProducts\",\"MntMeatProducts\",\"MntMeatProducts\",\"MntMeatProducts\",\"MntMeatProducts\",\"MntMeatProducts\",\"MntMeatProducts\",\"MntMeatProducts\",\"MntMeatProducts\",\"MntMeatProducts\",\"MntMeatProducts\",\"MntMeatProducts\",\"MntMeatProducts\",\"MntMeatProducts\",\"MntMeatProducts\",\"MntMeatProducts\",\"MntMeatProducts\",\"MntMeatProducts\",\"MntMeatProducts\",\"MntMeatProducts\",\"MntMeatProducts\",\"MntMeatProducts\",\"MntMeatProducts\",\"MntMeatProducts\",\"MntMeatProducts\",\"MntMeatProducts\",\"MntMeatProducts\",\"MntMeatProducts\",\"MntMeatProducts\",\"MntMeatProducts\",\"MntMeatProducts\",\"MntMeatProducts\",\"MntMeatProducts\",\"MntMeatProducts\",\"MntMeatProducts\",\"MntMeatProducts\",\"MntMeatProducts\",\"MntMeatProducts\",\"MntMeatProducts\",\"MntMeatProducts\",\"MntMeatProducts\",\"MntMeatProducts\",\"MntMeatProducts\",\"MntMeatProducts\",\"MntMeatProducts\",\"MntMeatProducts\",\"MntMeatProducts\",\"MntMeatProducts\",\"MntMeatProducts\",\"MntMeatProducts\",\"MntMeatProducts\",\"MntMeatProducts\",\"MntMeatProducts\",\"MntMeatProducts\",\"MntMeatProducts\",\"MntMeatProducts\",\"MntMeatProducts\",\"MntMeatProducts\",\"MntMeatProducts\",\"MntMeatProducts\",\"MntMeatProducts\",\"MntMeatProducts\",\"MntMeatProducts\",\"MntMeatProducts\",\"MntMeatProducts\",\"MntMeatProducts\",\"MntMeatProducts\",\"MntMeatProducts\",\"MntMeatProducts\",\"MntMeatProducts\",\"MntMeatProducts\",\"MntMeatProducts\",\"MntMeatProducts\",\"MntMeatProducts\",\"MntMeatProducts\",\"MntMeatProducts\",\"MntMeatProducts\",\"MntMeatProducts\",\"MntMeatProducts\",\"MntMeatProducts\",\"MntMeatProducts\",\"MntMeatProducts\",\"MntMeatProducts\",\"MntMeatProducts\",\"MntMeatProducts\",\"MntMeatProducts\",\"MntMeatProducts\",\"MntMeatProducts\",\"MntMeatProducts\",\"MntMeatProducts\",\"MntMeatProducts\",\"MntMeatProducts\",\"MntMeatProducts\",\"MntMeatProducts\",\"MntMeatProducts\",\"MntMeatProducts\",\"MntMeatProducts\",\"MntMeatProducts\",\"MntMeatProducts\",\"MntMeatProducts\",\"MntMeatProducts\",\"MntMeatProducts\",\"MntMeatProducts\",\"MntMeatProducts\",\"MntMeatProducts\",\"MntMeatProducts\",\"MntMeatProducts\",\"MntMeatProducts\",\"MntMeatProducts\",\"MntMeatProducts\",\"MntMeatProducts\",\"MntMeatProducts\",\"MntMeatProducts\",\"MntMeatProducts\",\"MntMeatProducts\",\"MntMeatProducts\",\"MntMeatProducts\",\"MntMeatProducts\",\"MntMeatProducts\",\"MntMeatProducts\",\"MntMeatProducts\",\"MntMeatProducts\",\"MntMeatProducts\",\"MntMeatProducts\",\"MntMeatProducts\",\"MntMeatProducts\",\"MntMeatProducts\",\"MntMeatProducts\",\"MntMeatProducts\",\"MntMeatProducts\",\"MntMeatProducts\",\"MntMeatProducts\",\"MntMeatProducts\",\"MntMeatProducts\",\"MntMeatProducts\",\"MntMeatProducts\",\"MntMeatProducts\",\"MntMeatProducts\",\"MntMeatProducts\",\"MntMeatProducts\",\"MntMeatProducts\",\"MntMeatProducts\",\"MntMeatProducts\",\"MntMeatProducts\",\"MntMeatProducts\",\"MntMeatProducts\",\"MntMeatProducts\",\"MntMeatProducts\",\"MntMeatProducts\",\"MntMeatProducts\",\"MntMeatProducts\",\"MntMeatProducts\",\"MntMeatProducts\",\"MntMeatProducts\",\"MntMeatProducts\",\"MntMeatProducts\",\"MntMeatProducts\",\"MntMeatProducts\",\"MntMeatProducts\",\"MntMeatProducts\",\"MntMeatProducts\",\"MntMeatProducts\",\"MntMeatProducts\",\"MntMeatProducts\",\"MntMeatProducts\",\"MntMeatProducts\",\"MntMeatProducts\",\"MntMeatProducts\",\"MntMeatProducts\",\"MntMeatProducts\",\"MntMeatProducts\",\"MntMeatProducts\",\"MntMeatProducts\",\"MntMeatProducts\",\"MntMeatProducts\",\"MntMeatProducts\",\"MntMeatProducts\",\"MntMeatProducts\",\"MntMeatProducts\",\"MntMeatProducts\",\"MntMeatProducts\",\"MntMeatProducts\",\"MntMeatProducts\",\"MntMeatProducts\",\"MntMeatProducts\",\"MntMeatProducts\",\"MntMeatProducts\",\"MntMeatProducts\",\"MntMeatProducts\",\"MntMeatProducts\",\"MntMeatProducts\",\"MntMeatProducts\",\"MntMeatProducts\",\"MntMeatProducts\",\"MntMeatProducts\",\"MntMeatProducts\",\"MntMeatProducts\",\"MntMeatProducts\",\"MntMeatProducts\",\"MntMeatProducts\",\"MntMeatProducts\",\"MntMeatProducts\",\"MntMeatProducts\",\"MntMeatProducts\",\"MntMeatProducts\",\"MntMeatProducts\",\"MntMeatProducts\",\"MntMeatProducts\",\"MntMeatProducts\",\"MntMeatProducts\",\"MntMeatProducts\",\"MntMeatProducts\",\"MntMeatProducts\",\"MntMeatProducts\",\"MntMeatProducts\",\"MntMeatProducts\",\"MntMeatProducts\",\"MntMeatProducts\",\"MntMeatProducts\",\"MntMeatProducts\",\"MntMeatProducts\",\"MntMeatProducts\",\"MntMeatProducts\",\"MntMeatProducts\",\"MntMeatProducts\",\"MntMeatProducts\",\"MntMeatProducts\",\"MntMeatProducts\",\"MntMeatProducts\",\"MntMeatProducts\",\"MntMeatProducts\",\"MntMeatProducts\",\"MntMeatProducts\",\"MntMeatProducts\",\"MntMeatProducts\",\"MntMeatProducts\",\"MntMeatProducts\",\"MntMeatProducts\",\"MntMeatProducts\",\"MntMeatProducts\",\"MntMeatProducts\",\"MntMeatProducts\",\"MntMeatProducts\",\"MntMeatProducts\",\"MntMeatProducts\",\"MntMeatProducts\",\"MntMeatProducts\",\"MntMeatProducts\",\"MntMeatProducts\",\"MntMeatProducts\",\"MntMeatProducts\",\"MntMeatProducts\",\"MntMeatProducts\",\"MntMeatProducts\",\"MntMeatProducts\",\"MntMeatProducts\",\"MntMeatProducts\",\"MntMeatProducts\",\"MntMeatProducts\",\"MntMeatProducts\",\"MntMeatProducts\",\"MntMeatProducts\",\"MntMeatProducts\",\"MntMeatProducts\",\"MntMeatProducts\",\"MntMeatProducts\",\"MntMeatProducts\",\"MntMeatProducts\",\"MntMeatProducts\",\"MntMeatProducts\",\"MntMeatProducts\",\"MntMeatProducts\",\"MntMeatProducts\",\"MntMeatProducts\",\"MntMeatProducts\",\"MntMeatProducts\",\"MntMeatProducts\",\"MntMeatProducts\",\"MntMeatProducts\",\"MntMeatProducts\",\"MntMeatProducts\",\"MntMeatProducts\",\"MntMeatProducts\",\"MntMeatProducts\",\"MntMeatProducts\",\"MntMeatProducts\",\"MntMeatProducts\",\"MntMeatProducts\",\"MntMeatProducts\",\"MntMeatProducts\",\"MntMeatProducts\",\"MntMeatProducts\",\"MntMeatProducts\",\"MntMeatProducts\",\"MntMeatProducts\",\"MntMeatProducts\",\"MntMeatProducts\",\"MntMeatProducts\",\"MntMeatProducts\",\"MntMeatProducts\",\"MntMeatProducts\",\"MntMeatProducts\",\"MntMeatProducts\",\"MntMeatProducts\",\"MntMeatProducts\",\"MntMeatProducts\",\"MntMeatProducts\",\"MntMeatProducts\",\"MntMeatProducts\",\"MntMeatProducts\",\"MntMeatProducts\",\"MntMeatProducts\",\"MntMeatProducts\",\"MntMeatProducts\",\"MntMeatProducts\",\"MntMeatProducts\",\"MntMeatProducts\",\"MntMeatProducts\",\"MntMeatProducts\",\"MntMeatProducts\",\"MntMeatProducts\",\"MntMeatProducts\",\"MntMeatProducts\",\"MntMeatProducts\",\"MntMeatProducts\",\"MntMeatProducts\",\"MntMeatProducts\",\"MntMeatProducts\",\"MntMeatProducts\",\"MntMeatProducts\",\"MntMeatProducts\",\"MntMeatProducts\",\"MntMeatProducts\",\"MntMeatProducts\",\"MntMeatProducts\",\"MntMeatProducts\",\"MntMeatProducts\",\"MntMeatProducts\",\"MntMeatProducts\",\"MntMeatProducts\",\"MntMeatProducts\",\"MntMeatProducts\",\"MntMeatProducts\",\"MntMeatProducts\",\"MntMeatProducts\",\"MntMeatProducts\",\"MntMeatProducts\",\"MntMeatProducts\",\"MntMeatProducts\"],\"index\":[0,1,2,3,4,5,6,7,8,9,10,11,12,13,14,15,16,17,18,19,20,21,22,23,24,25,26,27,28,29,30,31,32,33,34,35,36,37,38,39,40,41,42,43,44,45,46,47,48,49,50,51,52,53,54,55,56,57,58,59,60,61,62,63,64,65,66,67,68,69,70,71,72,73,74,75,76,77,78,79,80,81,82,83,84,85,86,87,88,89,90,91,92,93,94,95,96,97,98,99,100,101,102,103,104,105,106,107,108,109,110,111,112,113,114,115,116,117,118,119,120,121,122,123,124,125,126,127,128,129,130,131,132,133,134,135,136,137,138,139,140,141,142,143,144,145,146,147,148,149,150,151,152,153,154,155,156,157,158,159,160,161,162,163,164,165,166,167,168,169,170,171,172,173,174,175,176,177,178,179,180,181,182,183,184,185,186,187,188,189,190,191,192,193,194,195,196,197,198,199,200,201,202,203,204,205,206,207,208,209,210,211,212,213,214,215,216,217,218,219,220,221,222,223,224,225,226,227,228,229,230,231,232,233,234,235,236,237,238,239,240,241,242,243,244,245,246,247,248,249,250,251,252,253,254,255,256,257,258,259,260,261,262,263,264,265,266,267,268,269,270,271,272,273,274,275,276,277,278,279,280,281,282,283,284,285,286,287,288,289,290,291,292,293,294,295,296,297,298,299,300,301,302,303,304,305,306,307,308,309,310,311,312,313,314,315,316,317,318,319,320,321,322,323,324,325,326,327,328,329,330,331,332,333,334,335,336,337,338,339,340,341,342,343,344,345,346,347,348,349,350,351,352,353,354,355,356,357,358,359,360,361,362,363,364,365,366,367,368,369,370,371,372,373,374,375,376,377,378,379,380,381,382,383,384,385,386,387,388,389,390,391,392,393,394,395,396,397,398,399,400,401,402,403,404,405,406,407,408,409,410,411,412,413,414,415,416,417,418,419,420,421,422,423,424,425,426,427,428,429,430,431,432,433,434,435,436,437,438,439,440,441,442,443,444,445,446,447,448,449,450,451,452,453,454,455,456,457,458,459,460,461,462,463,464,465,466,467,468,469,470,471,472,473,474,475,476,477,478,479,480,481,482,483,484,485,486,487,488,489,490,491,492,493,494,495,496,497,498,499,500,501,502,503,504,505,506,507,508,509,510,511,512,513,514,515,516,517,518,519,520,521,522,523,524,525,526,527,528,529,530,531,532,533,534,535,536,537,538,539,540,541,542,543,544,545,546,547,548,549,550,551,552,553,554,555,556,557,558,559,560,561,562,563,564,565,566,567,568,569,570,571,572,573,574,575,576,577,578,579,580,581,582,583,584,585,586,587,588,589,590,591,592,593,594,595,596,597,598,599,600,601,602,603,604,605,606,607,608,609,610,611,612,613,614,615,616,617,618,619,620,621,622,623,624,625,626,627,628,629,630,631,632,633,634,635,636,637,638,639,640,641,642,643,644,645,646,647,648,649,650,651,652,653,654,655,656,657,658,659,660,661,662,663,664,665,666,667,668,669,670,671,672,673,674,675,676,677,678,679,680,681,682,683,684,685,686,687,688,689,690,691,692,693,694,695,696,697,698,699,700,701,702,703,704,705,706,707,708,709,710,711,712,713,714,715,716,717,718,719,720,721,722,723,724,725,726,727,728,729,730,731,732,733,734,735,736,737,738,739,740,741,742,743,744,745,746,747,748,749,750,751,752,753,754,755,756,757,758,759,760,761,762,763,764,765,766,767,768,769,770,771,772,773,774,775,776,777,778,779,780,781,782,783,784,785,786,787,788,789,790,791,792,793,794,795,796,797,798,799,800,801,802,803,804,805,806,807,808,809,810,811,812,813,814,815,816,817,818,819,820,821,822,823,824,825,826,827,828,829,830,831,832,833,834,835,836,837,838,839,840,841,842,843,844,845,846,847,848,849,850,851,852,853,854,855,856,857,858,859,860,861,862,863,864,865,866,867,868,869,870,871,872,873,874,875,876,877,878,879,880,881,882,883,884,885,886,887,888,889,890,891,892,893,894,895,896,897,898,899,900,901,902,903,904,905,906,907,908,909,910,911,912,913,914,915,916,917,918,919,920,921,922,923,924,925,926,927,928,929,930,931,932,933,934,935,936,937,938,939,940,941,942,943,944,945,946,947,948,949,950,951,952,953,954,955,956,957,958,959,960,961,962,963,964,965,966,967,968,969,970,971,972,973,974,975,976,977,978,979,980,981,982,983,984,985,986,987,988,989,990,991,992,993,994,995,996,997,998,999,1000,1001,1002,1003,1004,1005,1006,1007,1008,1009,1010,1011,1012,1013,1014,1015,1016,1017,1018,1019,1020,1021,1022,1023,1024,1025,1026,1027,1028,1029,1030,1031,1032,1033,1034,1035,1036,1037,1038,1039,1040,1041,1042,1043,1044,1045,1046,1047,1048,1049,1050,1051,1052,1053,1054,1055,1056,1057,1058,1059,1060,1061,1062,1063,1064,1065,1066,1067,1068,1069,1070,1071,1072,1073,1074,1075,1076,1077,1078,1079,1080,1081,1082,1083,1084,1085,1086,1087,1088,1089,1090,1091,1092,1093,1094,1095,1096,1097,1098,1099,1100,1101,1102,1103,1104,1105,1106,1107,1108,1109,1110,1111,1112,1113,1114,1115,1116,1117,1118,1119,1120,1121,1122,1123,1124,1125,1126,1127,1128,1129,1130,1131,1132,1133,1134,1135,1136,1137,1138,1139,1140,1141,1142,1143,1144,1145,1146,1147,1148,1149,1150,1151,1152,1153,1154,1155,1156,1157,1158,1159,1160,1161,1162,1163,1164,1165,1166,1167,1168,1169,1170,1171,1172,1173,1174,1175,1176,1177,1178,1179,1180,1181,1182,1183,1184,1185,1186,1187,1188,1189,1190,1191,1192,1193,1194,1195,1196,1197,1198,1199,1200,1201,1202,1203,1204,1205,1206,1207,1208,1209,1210,1211,1212,1213,1214,1215,1216,1217,1218,1219,1220,1221,1222,1223,1224,1225,1226,1227,1228,1229,1230,1231,1232,1233,1234,1235,1236,1237,1238,1239,1240,1241,1242,1243,1244,1245,1246,1247,1248,1249,1250,1251,1252,1253,1254,1255,1256,1257,1258,1259,1260,1261,1262,1263,1264,1265,1266,1267,1268,1269,1270,1271,1272,1273,1274,1275,1276,1277,1278,1279,1280,1281,1282,1283,1284,1285,1286,1287,1288,1289,1290,1291,1292,1293,1294,1295,1296,1297,1298,1299,1300,1301,1302,1303,1304,1305,1306,1307,1308,1309,1310,1311,1312,1313,1314,1315,1316,1317,1318,1319,1320,1321,1322,1323,1324,1325,1326,1327,1328,1329,1330,1331,1332,1333,1334,1335,1336,1337,1338,1339,1340,1341,1342,1343,1344,1345,1346,1347,1348,1349,1350,1351,1352,1353,1354,1355,1356,1357,1358,1359,1360,1361,1362,1363,1364,1365,1366,1367,1368,1369,1370,1371,1372,1373,1374,1375,1376,1377,1378,1379,1380,1381,1382,1383,1384,1385,1386,1387,1388,1389,1390,1391,1392,1393,1394,1395,1396,1397,1398,1399,1400,1401,1402,1403,1404,1405,1406,1407,1408,1409,1410,1411,1412,1413,1414,1415,1416,1417,1418,1419,1420,1421,1422,1423,1424,1425,1426,1427,1428,1429,1430,1431,1432,1433,1434,1435,1436,1437,1438,1439,1440,1441,1442,1443,1444,1445,1446,1447,1448,1449,1450,1451,1452,1453,1454,1455,1456,1457,1458,1459,1460,1461,1462,1463,1464,1465,1466,1467,1468,1469,1470,1471,1472,1473,1474,1475,1476,1477,1478,1479,1480,1481,1482,1483,1484,1485,1486,1487,1488,1489,1490,1491,1492,1493,1494,1495,1496,1497,1498,1499,1500,1501,1502,1503,1504,1505,1506,1507,1508,1509,1510,1511,1512,1513,1514,1515,1516,1517,1518,1519,1520,1521,1522,1523,1524,1525,1526,1527,1528,1529,1530,1531,1532,1533,1534,1535,1536,1537,1538,1539,1540,1541,1542,1543,1544,1545,1546,1547,1548,1549,1550,1551,1552,1553,1554,1555,1556,1557,1558,1559,1560,1561,1562,1563,1564,1565,1566,1567,1568,1569,1570,1571,1572,1573,1574,1575,1576,1577,1578,1579,1580,1581,1582,1583,1584,1585,1586,1587,1588,1589,1590,1591,1592,1593,1594,1595,1596,1597,1598,1599,1600,1601,1602,1603,1604,1605,1606,1607,1608,1609,1610,1611,1612,1613,1614,1615,1616,1617,1618,1619,1620,1621,1622,1623,1624,1625,1626,1627,1628,1629,1630,1631,1632,1633,1634,1635,1636,1637,1638,1639,1640,1641,1642,1643,1644,1645,1646,1647,1648,1649,1650,1651,1652,1653,1654,1655,1656,1657,1658,1659,1660,1661,1662,1663,1664,1665,1666,1667,1668,1669,1670,1671,1672,1673,1674,1675,1676,1677,1678,1679,1680,1681,1682,1683,1684,1685,1686,1687,1688,1689,1690,1691,1692,1693,1694,1695,1696,1697,1698,1699,1700,1701,1702,1703,1704,1705,1706,1707,1708,1709,1710,1711,1712,1713,1714,1715,1716,1717,1718,1719,1720,1721,1722,1723,1724,1725,1726,1727,1728,1729,1730,1731,1732,1733,1734,1735,1736,1737,1738,1739,1740,1741,1742,1743,1744,1745,1746,1747,1748,1749,1750,1751,1752,1753,1754,1755,1756,1757,1758,1759,1760,1761,1762,1763,1764,1765,1766,1767,1768,1769,1770,1771,1772,1773,1774,1775,1776,1777,1778,1779,1780,1781,1782,1783,1784,1785,1786,1787,1788,1789,1790,1791,1792,1793,1794,1795,1796,1797,1798,1799,1800,1801,1802,1803,1804,1805,1806,1807,1808,1809,1810,1811,1812,1813,1814,1815,1816,1817,1818,1819,1820,1821,1822,1823,1824,1825,1826,1827,1828,1829,1830,1831,1832,1833,1834,1835,1836,1837,1838,1839,1840,1841,1842,1843,1844,1845,1846,1847,1848,1849,1850,1851,1852,1853,1854,1855,1856,1857,1858,1859,1860,1861,1862,1863,1864,1865,1866,1867,1868,1869,1870,1871,1872,1873,1874,1875,1876,1877,1878,1879,1880,1881,1882,1883,1884,1885,1886,1887,1888,1889,1890,1891,1892,1893,1894,1895,1896,1897,1898,1899,1900,1901,1902,1903,1904,1905,1906,1907,1908,1909,1910,1911,1912,1913,1914,1915,1916,1917,1918,1919,1920,1921,1922,1923,1924,1925,1926,1927,1928,1929,1930,1931,1932,1933,1934,1935,1936,1937,1938,1939,1940,1941,1942,1943,1944,1945,1946,1947,1948,1949,1950,1951,1952,1953,1954,1955,1956,1957,1958,1959,1960,1961,1962,1963,1964,1965,1966,1967,1968,1969,1970,1971,1972,1973,1974,1975,1976,1977,1978,1979,1980,1981,1982,1983,1984,1985,1986,1987,1988,1989,1990,1991,1992,1993,1994,1995,1996,1997,1998,1999,2000,2001,2002,2003,2004,2005,2006,2007,2008,2009,2010,2011,2012,2013,2014,2015,2016,2017,2018,2019,2020,2021,2022,2023,2024,2025,2026,2027,2028,2029,2030,2031,2032,2033,2034,2035,2036,2037,2038,2039,2040,2041,2042,2043,2044,2045,2046,2047,2048,2049,2050,2051,2052,2053,2054,2055,2056,2057,2058,2059,2060,2061,2062,2063,2064,2065,2066,2067,2068,2069,2070,2071,2072,2073,2074,2075,2076,2077,2078,2079,2080,2081,2082,2083,2084,2085,2086,2087,2088,2089,2090,2091,2092,2093,2094,2095,2096,2097,2098,2099,2100,2101,2102,2103,2104,2105,2106,2107,2108,2109,2110,2111,2112,2113,2114,2115,2116,2117,2118,2119,2120,2121,2122,2123,2124,2125,2126,2127,2128,2129,2130,2131,2132,2133,2134,2135,2136,2137,2138,2139,2140,2141,2142,2143,2144,2145,2146,2147,2148,2149,2150,2151,2152,2153,2154,2155,2156,2157,2158,2159,2160,2161,2162,2163,2164,2165,2166,2167,2168,2169,2170,2171,2172,2173,2174,2175,2176,2177,2178,2179,2180,2181,2182,2183,2184,2185,2186,2187,2188,2189,2190,2191,2192,2193,2194,2195,2196,2197,2198,2199,2200,2201,2202,2203,2204,2205,2206,2207,2208,2209,2210,2211,2212,2213,2214,2215,2216,2217,2218,2219,2220,2221,2222,2223,2224,2225,2226,2227,2228,2229,2230,2231,2232,2233,2234,2235,2236,2237,2238,2239],\"value\":[554,64,27,5,237,23,88,19,422,64,12,6,65,16,3,137,11,5,20,24,7,68,133,33,224,400,6,528,46,455,67,193,55,2,11,52,60,377,613,11,717,38,7,88,8,29,181,345,57,125,142,30,2,180,29,163,50,16,15,35,298,324,19,118,159,757,11,45,43,24,179,71,83,7,94,52,449,151,320,11,31,116,47,218,137,80,7,12,162,63,5,740,218,835,400,50,22,735,29,7,203,26,11,701,397,424,27,265,217,125,853,11,7,549,179,2,131,78,74,238,1,12,64,329,12,2,15,93,20,5,913,250,83,204,153,356,19,454,57,59,76,134,39,93,17,212,6,6,5,89,86,249,921,560,113,14,57,44,280,133,215,109,7,45,26,11,2,114,54,48,18,71,4,11,6,7,99,78,69,25,52,7,24,44,421,164,91,112,21,26,111,21,92,592,125,270,133,17,134,6,568,44,13,350,50,201,107,67,13,161,8,11,984,168,17,239,76,180,36,495,22,278,5,85,843,3,19,537,322,82,13,223,562,15,17,267,143,899,110,935,758,54,4,26,4,215,447,292,499,398,348,8,253,21,83,388,121,196,8,18,21,144,20,792,68,24,194,487,103,64,266,33,160,46,115,14,1,21,445,460,15,82,81,5,27,204,15,241,569,12,183,303,19,124,12,5,5,85,124,88,1622,19,16,45,103,128,7,13,157,22,15,115,35,689,206,672,240,622,8,171,812,77,19,8,15,64,981,8,109,311,100,292,16,12,537,15,14,61,149,44,590,66,18,93,15,97,11,104,208,13,395,25,815,128,518,15,11,119,8,379,60,18,23,48,12,925,350,8,8,6,4,850,279,291,243,180,21,12,159,20,4,217,122,65,768,801,5,21,11,586,11,257,86,6,21,932,260,30,384,384,119,8,11,11,101,540,535,414,5,3,951,115,10,96,480,67,102,233,10,946,409,12,10,16,103,3,7,6,272,753,754,11,2,249,550,52,14,51,23,8,414,3,15,5,74,322,19,7,76,21,8,92,11,99,137,11,59,242,8,24,348,178,22,5,499,71,21,30,94,459,184,425,398,420,114,26,300,19,461,24,15,60,135,46,5,11,68,4,25,107,350,97,10,5,13,123,351,41,480,11,27,5,9,26,6,253,7,28,215,17,61,144,255,6,16,214,118,445,625,37,2,56,413,38,31,12,7,2,167,335,205,68,50,112,271,4,3,108,5,178,37,1,69,387,156,16,768,536,27,168,3,171,138,607,27,161,9,5,39,8,70,279,7,303,87,6,172,28,38,7,382,59,127,142,72,123,750,54,12,230,19,142,80,142,24,207,106,4,132,687,27,2,48,30,10,110,374,8,206,864,13,4,689,678,14,10,128,612,75,69,62,44,92,28,337,43,9,304,168,102,6,87,134,65,12,968,124,9,21,10,11,2,265,119,704,19,4,6,408,287,940,79,546,107,48,59,72,10,464,239,417,9,11,21,38,35,100,67,100,15,76,12,90,24,90,68,797,45,108,3,73,16,66,67,363,594,87,129,53,100,128,338,70,505,323,567,5,39,224,134,33,309,11,204,364,184,573,426,34,44,18,818,309,60,4,5,334,3,31,9,57,10,345,14,51,118,43,120,91,239,83,428,29,501,16,11,31,37,15,125,26,33,631,8,689,238,71,673,12,26,687,29,35,670,33,29,8,349,9,239,7,597,181,512,243,189,13,10,5,23,322,176,217,6,78,215,3,53,3,270,47,142,420,10,420,314,7,18,26,11,49,430,166,883,108,80,234,107,215,1,170,129,17,51,672,30,333,375,19,3,52,102,29,11,106,73,8,553,252,155,7,28,57,43,64,21,16,16,2,69,780,44,78,117,265,54,18,367,147,127,103,653,137,19,9,29,15,39,3,62,137,107,5,108,13,13,16,26,711,28,4,115,21,69,724,10,58,8,18,4,572,13,12,520,300,319,235,7,6,376,10,9,151,9,10,140,43,500,32,15,44,40,15,171,100,249,356,115,352,4,655,51,590,20,24,92,27,35,16,37,14,44,8,780,159,106,15,473,25,45,505,635,491,305,183,595,82,573,9,10,3,101,73,19,708,53,685,26,189,389,424,53,104,3,464,171,46,447,16,523,230,9,145,520,152,102,558,736,75,12,81,92,379,5,22,42,25,70,167,68,33,818,52,254,24,154,257,500,216,17,3,5,7,202,278,17,226,8,305,24,845,8,58,140,18,7,28,384,98,22,1725,20,38,216,389,239,974,68,25,392,23,28,6,650,20,134,16,281,415,8,123,13,38,23,2,731,42,78,354,43,24,188,4,129,282,7,10,292,16,452,16,213,47,30,8,835,249,137,447,82,23,815,92,14,140,118,7,265,13,259,232,13,68,16,2,11,315,115,733,152,71,99,10,8,7,75,25,396,21,6,490,18,46,3,13,18,14,88,360,21,54,26,12,33,19,199,19,697,510,8,11,27,18,58,118,3,898,431,9,184,3,19,915,141,24,1725,790,68,6,4,385,133,5,59,33,171,54,649,7,15,217,99,112,2,61,39,10,11,161,546,11,30,26,287,430,114,175,259,403,113,1,430,109,497,9,17,115,154,432,10,100,13,89,323,197,84,50,61,24,10,399,24,7,86,9,774,3,5,108,749,31,23,13,36,915,12,44,10,7,69,171,106,92,16,21,442,359,11,2,1,12,838,500,352,28,160,155,6,206,929,134,66,9,217,216,204,90,45,80,6,8,101,6,19,140,28,52,74,549,99,23,20,10,19,17,37,11,476,39,147,160,9,790,408,415,219,376,168,324,842,706,104,15,18,3,106,97,177,8,5,292,56,238,20,44,785,17,185,14,142,815,29,9,29,10,29,8,59,364,33,68,601,746,30,63,134,432,88,450,37,8,417,199,100,16,10,359,158,186,747,12,291,385,561,435,14,7,380,4,414,16,14,75,12,31,139,20,11,15,278,17,13,89,391,599,430,555,482,2,345,18,20,133,405,230,6,157,9,30,7,23,9,15,18,1,48,319,2,29,706,356,498,317,36,214,323,131,137,25,133,85,13,18,305,22,5,573,87,154,217,7,27,24,3,1,22,400,13,132,53,286,136,17,832,14,1,494,8,14,137,606,125,106,3,538,23,24,3,10,14,49,84,180,96,12,223,56,604,602,91,13,15,30,292,716,447,39,12,713,16,4,5,400,66,742,629,537,17,455,42,106,74,90,26,179,18,254,27,16,309,55,204,9,134,14,674,57,398,341,207,5,213,71,591,47,363,263,12,5,142,46,209,13,172,13,2,48,93,3,7,275,102,10,24,6,849,12,48,26,178,56,60,4,217,818,31,559,50,7,15,534,10,34,11,614,415,11,19,3,113,411,16,136,538,25,96,79,136,293,204,14,24,936,82,6,30,5,42,19,54,37,445,311,68,8,447,9,98,711,127,25,226,254,32,186,40,31,223,779,9,34,11,345,29,32,11,32,60,9,13,63,3,86,107,61,16,797,24,9,168,282,8,12,113,12,22,50,189,259,270,374,255,124,125,12,39,24,59,135,3,801,6,84,57,227,106,252,396,8,396,34,25,456,253,242,273,114,617,195,25,332,5,27,653,72,76,25,66,6,8,483,350,449,401,519,48,2,17,413,30,395,19,73,352,13,153,31,8,6,6,2,368,232,12,65,23,29,46,8,11,242,21,22,11,651,66,53,49,49,553,9,17,27,9,76,31,21,7,214,2,27,3,547,17,15,196,7,761,11,786,31,6,35,37,403,7,259,7,6,28,76,265,5,222,51,12,15,17,13,717,6,171,70,7,12,1,10,1582,13,52,545,568,7,16,30,119,259,553,10,311,9,22,156,73,3,100,462,43,6,6,536,153,14,125,6,493,23,10,827,10,38,174,3,108,15,90,756,97,14,7,548,449,1607,845,22,44,337,70,9,297,9,3,471,18,56,76,68,104,74,111,69,206,38,8,156,56,12,342,21,768,141,16,80,534,91,690,56,172,5,469,732,98,431,183,23,65,11,288,5,4,249,8,422,39,21,4,161,192,842,16,603,530,459,25,22,6,47,32,76,161,272,21,24,470,9,428,141,250,514,5,194,231,430,235,5,64,101,11,961,53,8,18,24,575,129,206,249,5,706,179,112,7,165,100,17,4,693,465,7,640,265,7,223,83,7,118,267,73,32,217,309,276,124,124,21,11,6,611,61,42,17,69,18,124,428,47,253,10,102,128,11,177,49,21,804,413,287,169,130,520,73,239,8,503,4,5,3,60,570,56,34,377,9,816,117,189,514,6,5,207,40,168,56,14,30,20,21,9,256,127,271,41,35,20,45,62,217,3,11,253,10,19,16,22,161,353,414,71,101,132,170,130,151,133,143,838,17,47,7,101,22,7,356,274,41,152,14,14,16,56,228,1,149,813,276,141,639,26,49,1,100,196,57,69,2,92,20,309,144,23,142,125,17,16,4,23,14,10,335,419,143,13,4,5,8,444,367,250,240,215,565,2,82,61,165,509,731,396,6,126,79,13,873,247,507,89,368,7,420,417,832,2,120,300,177,9,8,16,15,81,25,269,0,11,369,3,5,74,15,8,22,2,241,407,248,7,87,12,45,119,96,41,22,141,39,399,5,28,2,1,97,122,40,3,482,4,133,3,2,5,9,6,216,64,553,211,9,446,86,3,20,860,23,288,65,59,18,108,294,162,925,79,5,20,154,69,16,565,57,95,8,441,15,34,372,109,131,2,195,98,84,348,387,573,83,28,16,59,13,16,10,890,4,43,165,27,71,4,14,267,447,500,11,35,35,64,466,218,459,170,16,259,4,10,40,264,133,27,92,11,3,373,124,199,7,522,19,112,127,66,14,5,69,480,295,14,10,18,5,19,6,46,751,33,7,21,30,133,18,5,133,125,14,77,6,177,83,654,182,45,221,178,217,56,69,694,12,7,446,62,597,592,18,925,389,40,300,107,169,400,230,106,353,30,7,5,6,18,282,46,3,10,54,110,410,951,391,64,232,2,322,9,21,32,7,132,1,279,9,28,50,4,56,77,83,10,2,10,19,38]},\"selected\":{\"id\":\"1447\"},\"selection_policy\":{\"id\":\"1467\"}},\"id\":\"1446\",\"type\":\"ColumnDataSource\"},{\"attributes\":{\"margin\":[5,5,5,5],\"name\":\"HSpacer02336\",\"sizing_mode\":\"stretch_width\"},\"id\":\"1359\",\"type\":\"Spacer\"},{\"attributes\":{\"data_source\":{\"id\":\"1403\"},\"glyph\":{\"id\":\"1406\"},\"hover_glyph\":null,\"muted_glyph\":{\"id\":\"1408\"},\"nonselection_glyph\":{\"id\":\"1407\"},\"selection_glyph\":{\"id\":\"1423\"},\"view\":{\"id\":\"1410\"}},\"id\":\"1409\",\"type\":\"GlyphRenderer\"},{\"attributes\":{},\"id\":\"1420\",\"type\":\"UnionRenderers\"},{\"attributes\":{},\"id\":\"1425\",\"type\":\"Selection\"},{\"attributes\":{\"end\":2239.0,\"reset_end\":2239.0,\"reset_start\":0.0,\"tags\":[[[\"index\",\"index\",null]]]},\"id\":\"1360\",\"type\":\"Range1d\"},{\"attributes\":{\"line_color\":\"#30a2da\",\"line_width\":2,\"x\":{\"field\":\"index\"},\"y\":{\"field\":\"value\"}},\"id\":\"1406\",\"type\":\"Line\"},{\"attributes\":{\"children\":[{\"id\":\"1359\"},{\"id\":\"1367\"},{\"id\":\"1686\"}],\"margin\":[0,0,0,0],\"name\":\"Row02332\",\"tags\":[\"embedded\"]},\"id\":\"1358\",\"type\":\"Row\"},{\"attributes\":{\"line_alpha\":0.1,\"line_color\":\"#30a2da\",\"line_width\":2,\"x\":{\"field\":\"index\"},\"y\":{\"field\":\"value\"}},\"id\":\"1407\",\"type\":\"Line\"},{\"attributes\":{},\"id\":\"1377\",\"type\":\"BasicTicker\"},{\"attributes\":{\"text_color\":\"black\",\"text_font_size\":\"12pt\"},\"id\":\"1368\",\"type\":\"Title\"},{\"attributes\":{},\"id\":\"1374\",\"type\":\"LinearScale\"},{\"attributes\":{\"click_policy\":\"mute\",\"items\":[{\"id\":\"1422\"},{\"id\":\"1444\"},{\"id\":\"1468\"},{\"id\":\"1494\"},{\"id\":\"1522\"}],\"location\":[0,0],\"title\":\"Variable\"},\"id\":\"1421\",\"type\":\"Legend\"},{\"attributes\":{\"axis\":{\"id\":\"1380\"},\"dimension\":1,\"grid_line_color\":null,\"ticker\":null},\"id\":\"1383\",\"type\":\"Grid\"},{\"attributes\":{\"axis_label\":\"\",\"formatter\":{\"id\":\"1402\"},\"major_label_policy\":{\"id\":\"1401\"},\"ticker\":{\"id\":\"1381\"}},\"id\":\"1380\",\"type\":\"LinearAxis\"},{\"attributes\":{},\"id\":\"1384\",\"type\":\"SaveTool\"},{\"attributes\":{\"axis_label\":\"\",\"formatter\":{\"id\":\"1399\"},\"major_label_policy\":{\"id\":\"1398\"},\"ticker\":{\"id\":\"1377\"}},\"id\":\"1376\",\"type\":\"LinearAxis\"},{\"attributes\":{},\"id\":\"1398\",\"type\":\"AllLabels\"},{\"attributes\":{},\"id\":\"1381\",\"type\":\"BasicTicker\"},{\"attributes\":{},\"id\":\"1493\",\"type\":\"UnionRenderers\"},{\"attributes\":{},\"id\":\"1521\",\"type\":\"UnionRenderers\"},{\"attributes\":{\"end\":1897.5,\"reset_end\":1897.5,\"reset_start\":-172.5,\"start\":-172.5,\"tags\":[[[\"value\",\"value\",null]]]},\"id\":\"1361\",\"type\":\"Range1d\"},{\"attributes\":{\"label\":{\"value\":\"MntSweetProducts\"},\"renderers\":[{\"id\":\"1502\"}]},\"id\":\"1522\",\"type\":\"LegendItem\"},{\"attributes\":{\"data\":{\"Variable\":[\"MntWines\",\"MntWines\",\"MntWines\",\"MntWines\",\"MntWines\",\"MntWines\",\"MntWines\",\"MntWines\",\"MntWines\",\"MntWines\",\"MntWines\",\"MntWines\",\"MntWines\",\"MntWines\",\"MntWines\",\"MntWines\",\"MntWines\",\"MntWines\",\"MntWines\",\"MntWines\",\"MntWines\",\"MntWines\",\"MntWines\",\"MntWines\",\"MntWines\",\"MntWines\",\"MntWines\",\"MntWines\",\"MntWines\",\"MntWines\",\"MntWines\",\"MntWines\",\"MntWines\",\"MntWines\",\"MntWines\",\"MntWines\",\"MntWines\",\"MntWines\",\"MntWines\",\"MntWines\",\"MntWines\",\"MntWines\",\"MntWines\",\"MntWines\",\"MntWines\",\"MntWines\",\"MntWines\",\"MntWines\",\"MntWines\",\"MntWines\",\"MntWines\",\"MntWines\",\"MntWines\",\"MntWines\",\"MntWines\",\"MntWines\",\"MntWines\",\"MntWines\",\"MntWines\",\"MntWines\",\"MntWines\",\"MntWines\",\"MntWines\",\"MntWines\",\"MntWines\",\"MntWines\",\"MntWines\",\"MntWines\",\"MntWines\",\"MntWines\",\"MntWines\",\"MntWines\",\"MntWines\",\"MntWines\",\"MntWines\",\"MntWines\",\"MntWines\",\"MntWines\",\"MntWines\",\"MntWines\",\"MntWines\",\"MntWines\",\"MntWines\",\"MntWines\",\"MntWines\",\"MntWines\",\"MntWines\",\"MntWines\",\"MntWines\",\"MntWines\",\"MntWines\",\"MntWines\",\"MntWines\",\"MntWines\",\"MntWines\",\"MntWines\",\"MntWines\",\"MntWines\",\"MntWines\",\"MntWines\",\"MntWines\",\"MntWines\",\"MntWines\",\"MntWines\",\"MntWines\",\"MntWines\",\"MntWines\",\"MntWines\",\"MntWines\",\"MntWines\",\"MntWines\",\"MntWines\",\"MntWines\",\"MntWines\",\"MntWines\",\"MntWines\",\"MntWines\",\"MntWines\",\"MntWines\",\"MntWines\",\"MntWines\",\"MntWines\",\"MntWines\",\"MntWines\",\"MntWines\",\"MntWines\",\"MntWines\",\"MntWines\",\"MntWines\",\"MntWines\",\"MntWines\",\"MntWines\",\"MntWines\",\"MntWines\",\"MntWines\",\"MntWines\",\"MntWines\",\"MntWines\",\"MntWines\",\"MntWines\",\"MntWines\",\"MntWines\",\"MntWines\",\"MntWines\",\"MntWines\",\"MntWines\",\"MntWines\",\"MntWines\",\"MntWines\",\"MntWines\",\"MntWines\",\"MntWines\",\"MntWines\",\"MntWines\",\"MntWines\",\"MntWines\",\"MntWines\",\"MntWines\",\"MntWines\",\"MntWines\",\"MntWines\",\"MntWines\",\"MntWines\",\"MntWines\",\"MntWines\",\"MntWines\",\"MntWines\",\"MntWines\",\"MntWines\",\"MntWines\",\"MntWines\",\"MntWines\",\"MntWines\",\"MntWines\",\"MntWines\",\"MntWines\",\"MntWines\",\"MntWines\",\"MntWines\",\"MntWines\",\"MntWines\",\"MntWines\",\"MntWines\",\"MntWines\",\"MntWines\",\"MntWines\",\"MntWines\",\"MntWines\",\"MntWines\",\"MntWines\",\"MntWines\",\"MntWines\",\"MntWines\",\"MntWines\",\"MntWines\",\"MntWines\",\"MntWines\",\"MntWines\",\"MntWines\",\"MntWines\",\"MntWines\",\"MntWines\",\"MntWines\",\"MntWines\",\"MntWines\",\"MntWines\",\"MntWines\",\"MntWines\",\"MntWines\",\"MntWines\",\"MntWines\",\"MntWines\",\"MntWines\",\"MntWines\",\"MntWines\",\"MntWines\",\"MntWines\",\"MntWines\",\"MntWines\",\"MntWines\",\"MntWines\",\"MntWines\",\"MntWines\",\"MntWines\",\"MntWines\",\"MntWines\",\"MntWines\",\"MntWines\",\"MntWines\",\"MntWines\",\"MntWines\",\"MntWines\",\"MntWines\",\"MntWines\",\"MntWines\",\"MntWines\",\"MntWines\",\"MntWines\",\"MntWines\",\"MntWines\",\"MntWines\",\"MntWines\",\"MntWines\",\"MntWines\",\"MntWines\",\"MntWines\",\"MntWines\",\"MntWines\",\"MntWines\",\"MntWines\",\"MntWines\",\"MntWines\",\"MntWines\",\"MntWines\",\"MntWines\",\"MntWines\",\"MntWines\",\"MntWines\",\"MntWines\",\"MntWines\",\"MntWines\",\"MntWines\",\"MntWines\",\"MntWines\",\"MntWines\",\"MntWines\",\"MntWines\",\"MntWines\",\"MntWines\",\"MntWines\",\"MntWines\",\"MntWines\",\"MntWines\",\"MntWines\",\"MntWines\",\"MntWines\",\"MntWines\",\"MntWines\",\"MntWines\",\"MntWines\",\"MntWines\",\"MntWines\",\"MntWines\",\"MntWines\",\"MntWines\",\"MntWines\",\"MntWines\",\"MntWines\",\"MntWines\",\"MntWines\",\"MntWines\",\"MntWines\",\"MntWines\",\"MntWines\",\"MntWines\",\"MntWines\",\"MntWines\",\"MntWines\",\"MntWines\",\"MntWines\",\"MntWines\",\"MntWines\",\"MntWines\",\"MntWines\",\"MntWines\",\"MntWines\",\"MntWines\",\"MntWines\",\"MntWines\",\"MntWines\",\"MntWines\",\"MntWines\",\"MntWines\",\"MntWines\",\"MntWines\",\"MntWines\",\"MntWines\",\"MntWines\",\"MntWines\",\"MntWines\",\"MntWines\",\"MntWines\",\"MntWines\",\"MntWines\",\"MntWines\",\"MntWines\",\"MntWines\",\"MntWines\",\"MntWines\",\"MntWines\",\"MntWines\",\"MntWines\",\"MntWines\",\"MntWines\",\"MntWines\",\"MntWines\",\"MntWines\",\"MntWines\",\"MntWines\",\"MntWines\",\"MntWines\",\"MntWines\",\"MntWines\",\"MntWines\",\"MntWines\",\"MntWines\",\"MntWines\",\"MntWines\",\"MntWines\",\"MntWines\",\"MntWines\",\"MntWines\",\"MntWines\",\"MntWines\",\"MntWines\",\"MntWines\",\"MntWines\",\"MntWines\",\"MntWines\",\"MntWines\",\"MntWines\",\"MntWines\",\"MntWines\",\"MntWines\",\"MntWines\",\"MntWines\",\"MntWines\",\"MntWines\",\"MntWines\",\"MntWines\",\"MntWines\",\"MntWines\",\"MntWines\",\"MntWines\",\"MntWines\",\"MntWines\",\"MntWines\",\"MntWines\",\"MntWines\",\"MntWines\",\"MntWines\",\"MntWines\",\"MntWines\",\"MntWines\",\"MntWines\",\"MntWines\",\"MntWines\",\"MntWines\",\"MntWines\",\"MntWines\",\"MntWines\",\"MntWines\",\"MntWines\",\"MntWines\",\"MntWines\",\"MntWines\",\"MntWines\",\"MntWines\",\"MntWines\",\"MntWines\",\"MntWines\",\"MntWines\",\"MntWines\",\"MntWines\",\"MntWines\",\"MntWines\",\"MntWines\",\"MntWines\",\"MntWines\",\"MntWines\",\"MntWines\",\"MntWines\",\"MntWines\",\"MntWines\",\"MntWines\",\"MntWines\",\"MntWines\",\"MntWines\",\"MntWines\",\"MntWines\",\"MntWines\",\"MntWines\",\"MntWines\",\"MntWines\",\"MntWines\",\"MntWines\",\"MntWines\",\"MntWines\",\"MntWines\",\"MntWines\",\"MntWines\",\"MntWines\",\"MntWines\",\"MntWines\",\"MntWines\",\"MntWines\",\"MntWines\",\"MntWines\",\"MntWines\",\"MntWines\",\"MntWines\",\"MntWines\",\"MntWines\",\"MntWines\",\"MntWines\",\"MntWines\",\"MntWines\",\"MntWines\",\"MntWines\",\"MntWines\",\"MntWines\",\"MntWines\",\"MntWines\",\"MntWines\",\"MntWines\",\"MntWines\",\"MntWines\",\"MntWines\",\"MntWines\",\"MntWines\",\"MntWines\",\"MntWines\",\"MntWines\",\"MntWines\",\"MntWines\",\"MntWines\",\"MntWines\",\"MntWines\",\"MntWines\",\"MntWines\",\"MntWines\",\"MntWines\",\"MntWines\",\"MntWines\",\"MntWines\",\"MntWines\",\"MntWines\",\"MntWines\",\"MntWines\",\"MntWines\",\"MntWines\",\"MntWines\",\"MntWines\",\"MntWines\",\"MntWines\",\"MntWines\",\"MntWines\",\"MntWines\",\"MntWines\",\"MntWines\",\"MntWines\",\"MntWines\",\"MntWines\",\"MntWines\",\"MntWines\",\"MntWines\",\"MntWines\",\"MntWines\",\"MntWines\",\"MntWines\",\"MntWines\",\"MntWines\",\"MntWines\",\"MntWines\",\"MntWines\",\"MntWines\",\"MntWines\",\"MntWines\",\"MntWines\",\"MntWines\",\"MntWines\",\"MntWines\",\"MntWines\",\"MntWines\",\"MntWines\",\"MntWines\",\"MntWines\",\"MntWines\",\"MntWines\",\"MntWines\",\"MntWines\",\"MntWines\",\"MntWines\",\"MntWines\",\"MntWines\",\"MntWines\",\"MntWines\",\"MntWines\",\"MntWines\",\"MntWines\",\"MntWines\",\"MntWines\",\"MntWines\",\"MntWines\",\"MntWines\",\"MntWines\",\"MntWines\",\"MntWines\",\"MntWines\",\"MntWines\",\"MntWines\",\"MntWines\",\"MntWines\",\"MntWines\",\"MntWines\",\"MntWines\",\"MntWines\",\"MntWines\",\"MntWines\",\"MntWines\",\"MntWines\",\"MntWines\",\"MntWines\",\"MntWines\",\"MntWines\",\"MntWines\",\"MntWines\",\"MntWines\",\"MntWines\",\"MntWines\",\"MntWines\",\"MntWines\",\"MntWines\",\"MntWines\",\"MntWines\",\"MntWines\",\"MntWines\",\"MntWines\",\"MntWines\",\"MntWines\",\"MntWines\",\"MntWines\",\"MntWines\",\"MntWines\",\"MntWines\",\"MntWines\",\"MntWines\",\"MntWines\",\"MntWines\",\"MntWines\",\"MntWines\",\"MntWines\",\"MntWines\",\"MntWines\",\"MntWines\",\"MntWines\",\"MntWines\",\"MntWines\",\"MntWines\",\"MntWines\",\"MntWines\",\"MntWines\",\"MntWines\",\"MntWines\",\"MntWines\",\"MntWines\",\"MntWines\",\"MntWines\",\"MntWines\",\"MntWines\",\"MntWines\",\"MntWines\",\"MntWines\",\"MntWines\",\"MntWines\",\"MntWines\",\"MntWines\",\"MntWines\",\"MntWines\",\"MntWines\",\"MntWines\",\"MntWines\",\"MntWines\",\"MntWines\",\"MntWines\",\"MntWines\",\"MntWines\",\"MntWines\",\"MntWines\",\"MntWines\",\"MntWines\",\"MntWines\",\"MntWines\",\"MntWines\",\"MntWines\",\"MntWines\",\"MntWines\",\"MntWines\",\"MntWines\",\"MntWines\",\"MntWines\",\"MntWines\",\"MntWines\",\"MntWines\",\"MntWines\",\"MntWines\",\"MntWines\",\"MntWines\",\"MntWines\",\"MntWines\",\"MntWines\",\"MntWines\",\"MntWines\",\"MntWines\",\"MntWines\",\"MntWines\",\"MntWines\",\"MntWines\",\"MntWines\",\"MntWines\",\"MntWines\",\"MntWines\",\"MntWines\",\"MntWines\",\"MntWines\",\"MntWines\",\"MntWines\",\"MntWines\",\"MntWines\",\"MntWines\",\"MntWines\",\"MntWines\",\"MntWines\",\"MntWines\",\"MntWines\",\"MntWines\",\"MntWines\",\"MntWines\",\"MntWines\",\"MntWines\",\"MntWines\",\"MntWines\",\"MntWines\",\"MntWines\",\"MntWines\",\"MntWines\",\"MntWines\",\"MntWines\",\"MntWines\",\"MntWines\",\"MntWines\",\"MntWines\",\"MntWines\",\"MntWines\",\"MntWines\",\"MntWines\",\"MntWines\",\"MntWines\",\"MntWines\",\"MntWines\",\"MntWines\",\"MntWines\",\"MntWines\",\"MntWines\",\"MntWines\",\"MntWines\",\"MntWines\",\"MntWines\",\"MntWines\",\"MntWines\",\"MntWines\",\"MntWines\",\"MntWines\",\"MntWines\",\"MntWines\",\"MntWines\",\"MntWines\",\"MntWines\",\"MntWines\",\"MntWines\",\"MntWines\",\"MntWines\",\"MntWines\",\"MntWines\",\"MntWines\",\"MntWines\",\"MntWines\",\"MntWines\",\"MntWines\",\"MntWines\",\"MntWines\",\"MntWines\",\"MntWines\",\"MntWines\",\"MntWines\",\"MntWines\",\"MntWines\",\"MntWines\",\"MntWines\",\"MntWines\",\"MntWines\",\"MntWines\",\"MntWines\",\"MntWines\",\"MntWines\",\"MntWines\",\"MntWines\",\"MntWines\",\"MntWines\",\"MntWines\",\"MntWines\",\"MntWines\",\"MntWines\",\"MntWines\",\"MntWines\",\"MntWines\",\"MntWines\",\"MntWines\",\"MntWines\",\"MntWines\",\"MntWines\",\"MntWines\",\"MntWines\",\"MntWines\",\"MntWines\",\"MntWines\",\"MntWines\",\"MntWines\",\"MntWines\",\"MntWines\",\"MntWines\",\"MntWines\",\"MntWines\",\"MntWines\",\"MntWines\",\"MntWines\",\"MntWines\",\"MntWines\",\"MntWines\",\"MntWines\",\"MntWines\",\"MntWines\",\"MntWines\",\"MntWines\",\"MntWines\",\"MntWines\",\"MntWines\",\"MntWines\",\"MntWines\",\"MntWines\",\"MntWines\",\"MntWines\",\"MntWines\",\"MntWines\",\"MntWines\",\"MntWines\",\"MntWines\",\"MntWines\",\"MntWines\",\"MntWines\",\"MntWines\",\"MntWines\",\"MntWines\",\"MntWines\",\"MntWines\",\"MntWines\",\"MntWines\",\"MntWines\",\"MntWines\",\"MntWines\",\"MntWines\",\"MntWines\",\"MntWines\",\"MntWines\",\"MntWines\",\"MntWines\",\"MntWines\",\"MntWines\",\"MntWines\",\"MntWines\",\"MntWines\",\"MntWines\",\"MntWines\",\"MntWines\",\"MntWines\",\"MntWines\",\"MntWines\",\"MntWines\",\"MntWines\",\"MntWines\",\"MntWines\",\"MntWines\",\"MntWines\",\"MntWines\",\"MntWines\",\"MntWines\",\"MntWines\",\"MntWines\",\"MntWines\",\"MntWines\",\"MntWines\",\"MntWines\",\"MntWines\",\"MntWines\",\"MntWines\",\"MntWines\",\"MntWines\",\"MntWines\",\"MntWines\",\"MntWines\",\"MntWines\",\"MntWines\",\"MntWines\",\"MntWines\",\"MntWines\",\"MntWines\",\"MntWines\",\"MntWines\",\"MntWines\",\"MntWines\",\"MntWines\",\"MntWines\",\"MntWines\",\"MntWines\",\"MntWines\",\"MntWines\",\"MntWines\",\"MntWines\",\"MntWines\",\"MntWines\",\"MntWines\",\"MntWines\",\"MntWines\",\"MntWines\",\"MntWines\",\"MntWines\",\"MntWines\",\"MntWines\",\"MntWines\",\"MntWines\",\"MntWines\",\"MntWines\",\"MntWines\",\"MntWines\",\"MntWines\",\"MntWines\",\"MntWines\",\"MntWines\",\"MntWines\",\"MntWines\",\"MntWines\",\"MntWines\",\"MntWines\",\"MntWines\",\"MntWines\",\"MntWines\",\"MntWines\",\"MntWines\",\"MntWines\",\"MntWines\",\"MntWines\",\"MntWines\",\"MntWines\",\"MntWines\",\"MntWines\",\"MntWines\",\"MntWines\",\"MntWines\",\"MntWines\",\"MntWines\",\"MntWines\",\"MntWines\",\"MntWines\",\"MntWines\",\"MntWines\",\"MntWines\",\"MntWines\",\"MntWines\",\"MntWines\",\"MntWines\",\"MntWines\",\"MntWines\",\"MntWines\",\"MntWines\",\"MntWines\",\"MntWines\",\"MntWines\",\"MntWines\",\"MntWines\",\"MntWines\",\"MntWines\",\"MntWines\",\"MntWines\",\"MntWines\",\"MntWines\",\"MntWines\",\"MntWines\",\"MntWines\",\"MntWines\",\"MntWines\",\"MntWines\",\"MntWines\",\"MntWines\",\"MntWines\",\"MntWines\",\"MntWines\",\"MntWines\",\"MntWines\",\"MntWines\",\"MntWines\",\"MntWines\",\"MntWines\",\"MntWines\",\"MntWines\",\"MntWines\",\"MntWines\",\"MntWines\",\"MntWines\",\"MntWines\",\"MntWines\",\"MntWines\",\"MntWines\",\"MntWines\",\"MntWines\",\"MntWines\",\"MntWines\",\"MntWines\",\"MntWines\",\"MntWines\",\"MntWines\",\"MntWines\",\"MntWines\",\"MntWines\",\"MntWines\",\"MntWines\",\"MntWines\",\"MntWines\",\"MntWines\",\"MntWines\",\"MntWines\",\"MntWines\",\"MntWines\",\"MntWines\",\"MntWines\",\"MntWines\",\"MntWines\",\"MntWines\",\"MntWines\",\"MntWines\",\"MntWines\",\"MntWines\",\"MntWines\",\"MntWines\",\"MntWines\",\"MntWines\",\"MntWines\",\"MntWines\",\"MntWines\",\"MntWines\",\"MntWines\",\"MntWines\",\"MntWines\",\"MntWines\",\"MntWines\",\"MntWines\",\"MntWines\",\"MntWines\",\"MntWines\",\"MntWines\",\"MntWines\",\"MntWines\",\"MntWines\",\"MntWines\",\"MntWines\",\"MntWines\",\"MntWines\",\"MntWines\",\"MntWines\",\"MntWines\",\"MntWines\",\"MntWines\",\"MntWines\",\"MntWines\",\"MntWines\",\"MntWines\",\"MntWines\",\"MntWines\",\"MntWines\",\"MntWines\",\"MntWines\",\"MntWines\",\"MntWines\",\"MntWines\",\"MntWines\",\"MntWines\",\"MntWines\",\"MntWines\",\"MntWines\",\"MntWines\",\"MntWines\",\"MntWines\",\"MntWines\",\"MntWines\",\"MntWines\",\"MntWines\",\"MntWines\",\"MntWines\",\"MntWines\",\"MntWines\",\"MntWines\",\"MntWines\",\"MntWines\",\"MntWines\",\"MntWines\",\"MntWines\",\"MntWines\",\"MntWines\",\"MntWines\",\"MntWines\",\"MntWines\",\"MntWines\",\"MntWines\",\"MntWines\",\"MntWines\",\"MntWines\",\"MntWines\",\"MntWines\",\"MntWines\",\"MntWines\",\"MntWines\",\"MntWines\",\"MntWines\",\"MntWines\",\"MntWines\",\"MntWines\",\"MntWines\",\"MntWines\",\"MntWines\",\"MntWines\",\"MntWines\",\"MntWines\",\"MntWines\",\"MntWines\",\"MntWines\",\"MntWines\",\"MntWines\",\"MntWines\",\"MntWines\",\"MntWines\",\"MntWines\",\"MntWines\",\"MntWines\",\"MntWines\",\"MntWines\",\"MntWines\",\"MntWines\",\"MntWines\",\"MntWines\",\"MntWines\",\"MntWines\",\"MntWines\",\"MntWines\",\"MntWines\",\"MntWines\",\"MntWines\",\"MntWines\",\"MntWines\",\"MntWines\",\"MntWines\",\"MntWines\",\"MntWines\",\"MntWines\",\"MntWines\",\"MntWines\",\"MntWines\",\"MntWines\",\"MntWines\",\"MntWines\",\"MntWines\",\"MntWines\",\"MntWines\",\"MntWines\",\"MntWines\",\"MntWines\",\"MntWines\",\"MntWines\",\"MntWines\",\"MntWines\",\"MntWines\",\"MntWines\",\"MntWines\",\"MntWines\",\"MntWines\",\"MntWines\",\"MntWines\",\"MntWines\",\"MntWines\",\"MntWines\",\"MntWines\",\"MntWines\",\"MntWines\",\"MntWines\",\"MntWines\",\"MntWines\",\"MntWines\",\"MntWines\",\"MntWines\",\"MntWines\",\"MntWines\",\"MntWines\",\"MntWines\",\"MntWines\",\"MntWines\",\"MntWines\",\"MntWines\",\"MntWines\",\"MntWines\",\"MntWines\",\"MntWines\",\"MntWines\",\"MntWines\",\"MntWines\",\"MntWines\",\"MntWines\",\"MntWines\",\"MntWines\",\"MntWines\",\"MntWines\",\"MntWines\",\"MntWines\",\"MntWines\",\"MntWines\",\"MntWines\",\"MntWines\",\"MntWines\",\"MntWines\",\"MntWines\",\"MntWines\",\"MntWines\",\"MntWines\",\"MntWines\",\"MntWines\",\"MntWines\",\"MntWines\",\"MntWines\",\"MntWines\",\"MntWines\",\"MntWines\",\"MntWines\",\"MntWines\",\"MntWines\",\"MntWines\",\"MntWines\",\"MntWines\",\"MntWines\",\"MntWines\",\"MntWines\",\"MntWines\",\"MntWines\",\"MntWines\",\"MntWines\",\"MntWines\",\"MntWines\",\"MntWines\",\"MntWines\",\"MntWines\",\"MntWines\",\"MntWines\",\"MntWines\",\"MntWines\",\"MntWines\",\"MntWines\",\"MntWines\",\"MntWines\",\"MntWines\",\"MntWines\",\"MntWines\",\"MntWines\",\"MntWines\",\"MntWines\",\"MntWines\",\"MntWines\",\"MntWines\",\"MntWines\",\"MntWines\",\"MntWines\",\"MntWines\",\"MntWines\",\"MntWines\",\"MntWines\",\"MntWines\",\"MntWines\",\"MntWines\",\"MntWines\",\"MntWines\",\"MntWines\",\"MntWines\",\"MntWines\",\"MntWines\",\"MntWines\",\"MntWines\",\"MntWines\",\"MntWines\",\"MntWines\",\"MntWines\",\"MntWines\",\"MntWines\",\"MntWines\",\"MntWines\",\"MntWines\",\"MntWines\",\"MntWines\",\"MntWines\",\"MntWines\",\"MntWines\",\"MntWines\",\"MntWines\",\"MntWines\",\"MntWines\",\"MntWines\",\"MntWines\",\"MntWines\",\"MntWines\",\"MntWines\",\"MntWines\",\"MntWines\",\"MntWines\",\"MntWines\",\"MntWines\",\"MntWines\",\"MntWines\",\"MntWines\",\"MntWines\",\"MntWines\",\"MntWines\",\"MntWines\",\"MntWines\",\"MntWines\",\"MntWines\",\"MntWines\",\"MntWines\",\"MntWines\",\"MntWines\",\"MntWines\",\"MntWines\",\"MntWines\",\"MntWines\",\"MntWines\",\"MntWines\",\"MntWines\",\"MntWines\",\"MntWines\",\"MntWines\",\"MntWines\",\"MntWines\",\"MntWines\",\"MntWines\",\"MntWines\",\"MntWines\",\"MntWines\",\"MntWines\",\"MntWines\",\"MntWines\",\"MntWines\",\"MntWines\",\"MntWines\",\"MntWines\",\"MntWines\",\"MntWines\",\"MntWines\",\"MntWines\",\"MntWines\",\"MntWines\",\"MntWines\",\"MntWines\",\"MntWines\",\"MntWines\",\"MntWines\",\"MntWines\",\"MntWines\",\"MntWines\",\"MntWines\",\"MntWines\",\"MntWines\",\"MntWines\",\"MntWines\",\"MntWines\",\"MntWines\",\"MntWines\",\"MntWines\",\"MntWines\",\"MntWines\",\"MntWines\",\"MntWines\",\"MntWines\",\"MntWines\",\"MntWines\",\"MntWines\",\"MntWines\",\"MntWines\",\"MntWines\",\"MntWines\",\"MntWines\",\"MntWines\",\"MntWines\",\"MntWines\",\"MntWines\",\"MntWines\",\"MntWines\",\"MntWines\",\"MntWines\",\"MntWines\",\"MntWines\",\"MntWines\",\"MntWines\",\"MntWines\",\"MntWines\",\"MntWines\",\"MntWines\",\"MntWines\",\"MntWines\",\"MntWines\",\"MntWines\",\"MntWines\",\"MntWines\",\"MntWines\",\"MntWines\",\"MntWines\",\"MntWines\",\"MntWines\",\"MntWines\",\"MntWines\",\"MntWines\",\"MntWines\",\"MntWines\",\"MntWines\",\"MntWines\",\"MntWines\",\"MntWines\",\"MntWines\",\"MntWines\",\"MntWines\",\"MntWines\",\"MntWines\",\"MntWines\",\"MntWines\",\"MntWines\",\"MntWines\",\"MntWines\",\"MntWines\",\"MntWines\",\"MntWines\",\"MntWines\",\"MntWines\",\"MntWines\",\"MntWines\",\"MntWines\",\"MntWines\",\"MntWines\",\"MntWines\",\"MntWines\",\"MntWines\",\"MntWines\",\"MntWines\",\"MntWines\",\"MntWines\",\"MntWines\",\"MntWines\",\"MntWines\",\"MntWines\",\"MntWines\",\"MntWines\",\"MntWines\",\"MntWines\",\"MntWines\",\"MntWines\",\"MntWines\",\"MntWines\",\"MntWines\",\"MntWines\",\"MntWines\",\"MntWines\",\"MntWines\",\"MntWines\",\"MntWines\",\"MntWines\",\"MntWines\",\"MntWines\",\"MntWines\",\"MntWines\",\"MntWines\",\"MntWines\",\"MntWines\",\"MntWines\",\"MntWines\",\"MntWines\",\"MntWines\",\"MntWines\",\"MntWines\",\"MntWines\",\"MntWines\",\"MntWines\",\"MntWines\",\"MntWines\",\"MntWines\",\"MntWines\",\"MntWines\",\"MntWines\",\"MntWines\",\"MntWines\",\"MntWines\",\"MntWines\",\"MntWines\",\"MntWines\",\"MntWines\",\"MntWines\",\"MntWines\",\"MntWines\",\"MntWines\",\"MntWines\",\"MntWines\",\"MntWines\",\"MntWines\",\"MntWines\",\"MntWines\",\"MntWines\",\"MntWines\",\"MntWines\",\"MntWines\",\"MntWines\",\"MntWines\",\"MntWines\",\"MntWines\",\"MntWines\",\"MntWines\",\"MntWines\",\"MntWines\",\"MntWines\",\"MntWines\",\"MntWines\",\"MntWines\",\"MntWines\",\"MntWines\",\"MntWines\",\"MntWines\",\"MntWines\",\"MntWines\",\"MntWines\",\"MntWines\",\"MntWines\",\"MntWines\",\"MntWines\",\"MntWines\",\"MntWines\",\"MntWines\",\"MntWines\",\"MntWines\",\"MntWines\",\"MntWines\",\"MntWines\",\"MntWines\",\"MntWines\",\"MntWines\",\"MntWines\",\"MntWines\",\"MntWines\",\"MntWines\",\"MntWines\",\"MntWines\",\"MntWines\",\"MntWines\",\"MntWines\",\"MntWines\",\"MntWines\",\"MntWines\",\"MntWines\",\"MntWines\",\"MntWines\",\"MntWines\",\"MntWines\",\"MntWines\",\"MntWines\",\"MntWines\",\"MntWines\",\"MntWines\",\"MntWines\",\"MntWines\",\"MntWines\",\"MntWines\",\"MntWines\",\"MntWines\",\"MntWines\",\"MntWines\",\"MntWines\",\"MntWines\",\"MntWines\",\"MntWines\",\"MntWines\",\"MntWines\",\"MntWines\",\"MntWines\",\"MntWines\",\"MntWines\",\"MntWines\",\"MntWines\",\"MntWines\",\"MntWines\",\"MntWines\",\"MntWines\",\"MntWines\",\"MntWines\",\"MntWines\",\"MntWines\",\"MntWines\",\"MntWines\",\"MntWines\",\"MntWines\",\"MntWines\",\"MntWines\",\"MntWines\",\"MntWines\",\"MntWines\",\"MntWines\",\"MntWines\",\"MntWines\",\"MntWines\",\"MntWines\",\"MntWines\",\"MntWines\",\"MntWines\",\"MntWines\",\"MntWines\",\"MntWines\",\"MntWines\",\"MntWines\",\"MntWines\",\"MntWines\",\"MntWines\",\"MntWines\",\"MntWines\",\"MntWines\",\"MntWines\",\"MntWines\",\"MntWines\",\"MntWines\",\"MntWines\",\"MntWines\",\"MntWines\",\"MntWines\",\"MntWines\",\"MntWines\",\"MntWines\",\"MntWines\",\"MntWines\",\"MntWines\",\"MntWines\",\"MntWines\",\"MntWines\",\"MntWines\",\"MntWines\",\"MntWines\",\"MntWines\",\"MntWines\",\"MntWines\",\"MntWines\",\"MntWines\",\"MntWines\",\"MntWines\",\"MntWines\",\"MntWines\",\"MntWines\",\"MntWines\",\"MntWines\",\"MntWines\",\"MntWines\",\"MntWines\",\"MntWines\",\"MntWines\",\"MntWines\",\"MntWines\",\"MntWines\",\"MntWines\",\"MntWines\",\"MntWines\",\"MntWines\",\"MntWines\",\"MntWines\",\"MntWines\",\"MntWines\",\"MntWines\",\"MntWines\",\"MntWines\",\"MntWines\",\"MntWines\",\"MntWines\",\"MntWines\",\"MntWines\",\"MntWines\",\"MntWines\",\"MntWines\",\"MntWines\",\"MntWines\",\"MntWines\",\"MntWines\",\"MntWines\",\"MntWines\",\"MntWines\",\"MntWines\",\"MntWines\",\"MntWines\",\"MntWines\",\"MntWines\",\"MntWines\",\"MntWines\",\"MntWines\",\"MntWines\",\"MntWines\",\"MntWines\",\"MntWines\",\"MntWines\",\"MntWines\",\"MntWines\",\"MntWines\",\"MntWines\",\"MntWines\",\"MntWines\",\"MntWines\",\"MntWines\",\"MntWines\",\"MntWines\",\"MntWines\",\"MntWines\",\"MntWines\",\"MntWines\",\"MntWines\",\"MntWines\",\"MntWines\",\"MntWines\",\"MntWines\",\"MntWines\",\"MntWines\",\"MntWines\",\"MntWines\",\"MntWines\",\"MntWines\",\"MntWines\",\"MntWines\",\"MntWines\",\"MntWines\",\"MntWines\",\"MntWines\",\"MntWines\",\"MntWines\",\"MntWines\",\"MntWines\",\"MntWines\",\"MntWines\",\"MntWines\",\"MntWines\",\"MntWines\",\"MntWines\",\"MntWines\",\"MntWines\",\"MntWines\",\"MntWines\",\"MntWines\",\"MntWines\",\"MntWines\",\"MntWines\",\"MntWines\",\"MntWines\",\"MntWines\",\"MntWines\",\"MntWines\",\"MntWines\",\"MntWines\",\"MntWines\",\"MntWines\",\"MntWines\",\"MntWines\",\"MntWines\",\"MntWines\",\"MntWines\",\"MntWines\",\"MntWines\",\"MntWines\",\"MntWines\",\"MntWines\",\"MntWines\",\"MntWines\",\"MntWines\",\"MntWines\",\"MntWines\",\"MntWines\",\"MntWines\",\"MntWines\",\"MntWines\",\"MntWines\",\"MntWines\",\"MntWines\",\"MntWines\",\"MntWines\",\"MntWines\",\"MntWines\",\"MntWines\",\"MntWines\",\"MntWines\",\"MntWines\",\"MntWines\",\"MntWines\",\"MntWines\",\"MntWines\",\"MntWines\",\"MntWines\",\"MntWines\",\"MntWines\",\"MntWines\",\"MntWines\",\"MntWines\",\"MntWines\",\"MntWines\",\"MntWines\",\"MntWines\",\"MntWines\",\"MntWines\",\"MntWines\",\"MntWines\",\"MntWines\",\"MntWines\",\"MntWines\",\"MntWines\",\"MntWines\",\"MntWines\",\"MntWines\",\"MntWines\",\"MntWines\",\"MntWines\",\"MntWines\",\"MntWines\",\"MntWines\",\"MntWines\",\"MntWines\",\"MntWines\",\"MntWines\",\"MntWines\",\"MntWines\",\"MntWines\",\"MntWines\",\"MntWines\",\"MntWines\",\"MntWines\",\"MntWines\",\"MntWines\",\"MntWines\",\"MntWines\",\"MntWines\",\"MntWines\",\"MntWines\",\"MntWines\",\"MntWines\",\"MntWines\",\"MntWines\",\"MntWines\",\"MntWines\",\"MntWines\",\"MntWines\",\"MntWines\",\"MntWines\",\"MntWines\",\"MntWines\",\"MntWines\",\"MntWines\",\"MntWines\",\"MntWines\",\"MntWines\",\"MntWines\",\"MntWines\",\"MntWines\",\"MntWines\",\"MntWines\",\"MntWines\",\"MntWines\",\"MntWines\",\"MntWines\",\"MntWines\",\"MntWines\",\"MntWines\",\"MntWines\",\"MntWines\",\"MntWines\",\"MntWines\",\"MntWines\",\"MntWines\",\"MntWines\",\"MntWines\",\"MntWines\",\"MntWines\",\"MntWines\",\"MntWines\",\"MntWines\",\"MntWines\",\"MntWines\",\"MntWines\",\"MntWines\",\"MntWines\",\"MntWines\",\"MntWines\",\"MntWines\",\"MntWines\",\"MntWines\",\"MntWines\",\"MntWines\",\"MntWines\",\"MntWines\",\"MntWines\",\"MntWines\",\"MntWines\",\"MntWines\",\"MntWines\",\"MntWines\",\"MntWines\",\"MntWines\",\"MntWines\",\"MntWines\",\"MntWines\",\"MntWines\",\"MntWines\",\"MntWines\",\"MntWines\",\"MntWines\",\"MntWines\",\"MntWines\",\"MntWines\",\"MntWines\",\"MntWines\",\"MntWines\",\"MntWines\",\"MntWines\",\"MntWines\",\"MntWines\",\"MntWines\",\"MntWines\",\"MntWines\",\"MntWines\",\"MntWines\",\"MntWines\",\"MntWines\",\"MntWines\",\"MntWines\",\"MntWines\",\"MntWines\",\"MntWines\",\"MntWines\",\"MntWines\",\"MntWines\",\"MntWines\",\"MntWines\",\"MntWines\",\"MntWines\",\"MntWines\",\"MntWines\",\"MntWines\",\"MntWines\",\"MntWines\",\"MntWines\",\"MntWines\",\"MntWines\",\"MntWines\",\"MntWines\",\"MntWines\",\"MntWines\",\"MntWines\",\"MntWines\",\"MntWines\",\"MntWines\",\"MntWines\",\"MntWines\",\"MntWines\",\"MntWines\",\"MntWines\",\"MntWines\",\"MntWines\",\"MntWines\",\"MntWines\",\"MntWines\",\"MntWines\",\"MntWines\",\"MntWines\",\"MntWines\",\"MntWines\",\"MntWines\",\"MntWines\",\"MntWines\",\"MntWines\",\"MntWines\",\"MntWines\",\"MntWines\",\"MntWines\",\"MntWines\",\"MntWines\",\"MntWines\",\"MntWines\",\"MntWines\",\"MntWines\",\"MntWines\",\"MntWines\",\"MntWines\",\"MntWines\",\"MntWines\",\"MntWines\",\"MntWines\",\"MntWines\",\"MntWines\",\"MntWines\",\"MntWines\",\"MntWines\",\"MntWines\",\"MntWines\",\"MntWines\",\"MntWines\",\"MntWines\",\"MntWines\",\"MntWines\",\"MntWines\",\"MntWines\",\"MntWines\",\"MntWines\",\"MntWines\",\"MntWines\",\"MntWines\",\"MntWines\",\"MntWines\",\"MntWines\",\"MntWines\",\"MntWines\",\"MntWines\",\"MntWines\",\"MntWines\",\"MntWines\",\"MntWines\",\"MntWines\",\"MntWines\",\"MntWines\",\"MntWines\",\"MntWines\",\"MntWines\",\"MntWines\",\"MntWines\",\"MntWines\",\"MntWines\",\"MntWines\",\"MntWines\",\"MntWines\",\"MntWines\",\"MntWines\",\"MntWines\",\"MntWines\",\"MntWines\",\"MntWines\",\"MntWines\",\"MntWines\",\"MntWines\",\"MntWines\",\"MntWines\",\"MntWines\",\"MntWines\",\"MntWines\",\"MntWines\",\"MntWines\",\"MntWines\",\"MntWines\",\"MntWines\",\"MntWines\",\"MntWines\",\"MntWines\",\"MntWines\",\"MntWines\",\"MntWines\",\"MntWines\",\"MntWines\",\"MntWines\",\"MntWines\",\"MntWines\",\"MntWines\",\"MntWines\",\"MntWines\",\"MntWines\",\"MntWines\",\"MntWines\",\"MntWines\",\"MntWines\",\"MntWines\",\"MntWines\",\"MntWines\",\"MntWines\",\"MntWines\",\"MntWines\",\"MntWines\",\"MntWines\",\"MntWines\",\"MntWines\",\"MntWines\",\"MntWines\",\"MntWines\",\"MntWines\",\"MntWines\",\"MntWines\",\"MntWines\",\"MntWines\",\"MntWines\",\"MntWines\",\"MntWines\",\"MntWines\",\"MntWines\",\"MntWines\",\"MntWines\",\"MntWines\",\"MntWines\",\"MntWines\",\"MntWines\",\"MntWines\",\"MntWines\",\"MntWines\",\"MntWines\",\"MntWines\",\"MntWines\",\"MntWines\",\"MntWines\",\"MntWines\",\"MntWines\",\"MntWines\",\"MntWines\",\"MntWines\",\"MntWines\",\"MntWines\",\"MntWines\",\"MntWines\",\"MntWines\",\"MntWines\",\"MntWines\",\"MntWines\",\"MntWines\",\"MntWines\",\"MntWines\",\"MntWines\",\"MntWines\",\"MntWines\",\"MntWines\",\"MntWines\",\"MntWines\",\"MntWines\",\"MntWines\",\"MntWines\",\"MntWines\",\"MntWines\",\"MntWines\",\"MntWines\",\"MntWines\",\"MntWines\",\"MntWines\",\"MntWines\",\"MntWines\",\"MntWines\",\"MntWines\",\"MntWines\",\"MntWines\",\"MntWines\",\"MntWines\",\"MntWines\",\"MntWines\",\"MntWines\",\"MntWines\",\"MntWines\",\"MntWines\",\"MntWines\",\"MntWines\",\"MntWines\",\"MntWines\",\"MntWines\",\"MntWines\",\"MntWines\",\"MntWines\",\"MntWines\",\"MntWines\",\"MntWines\",\"MntWines\",\"MntWines\",\"MntWines\",\"MntWines\",\"MntWines\",\"MntWines\",\"MntWines\",\"MntWines\",\"MntWines\",\"MntWines\",\"MntWines\",\"MntWines\",\"MntWines\",\"MntWines\",\"MntWines\",\"MntWines\",\"MntWines\",\"MntWines\",\"MntWines\",\"MntWines\",\"MntWines\",\"MntWines\",\"MntWines\",\"MntWines\",\"MntWines\",\"MntWines\",\"MntWines\",\"MntWines\",\"MntWines\",\"MntWines\",\"MntWines\",\"MntWines\",\"MntWines\",\"MntWines\",\"MntWines\",\"MntWines\",\"MntWines\",\"MntWines\",\"MntWines\",\"MntWines\",\"MntWines\",\"MntWines\",\"MntWines\",\"MntWines\",\"MntWines\",\"MntWines\",\"MntWines\",\"MntWines\",\"MntWines\",\"MntWines\",\"MntWines\",\"MntWines\",\"MntWines\",\"MntWines\",\"MntWines\",\"MntWines\",\"MntWines\",\"MntWines\",\"MntWines\",\"MntWines\",\"MntWines\",\"MntWines\",\"MntWines\",\"MntWines\",\"MntWines\",\"MntWines\",\"MntWines\",\"MntWines\",\"MntWines\",\"MntWines\",\"MntWines\",\"MntWines\",\"MntWines\",\"MntWines\",\"MntWines\",\"MntWines\",\"MntWines\",\"MntWines\",\"MntWines\",\"MntWines\",\"MntWines\",\"MntWines\",\"MntWines\",\"MntWines\",\"MntWines\",\"MntWines\",\"MntWines\",\"MntWines\",\"MntWines\",\"MntWines\",\"MntWines\",\"MntWines\",\"MntWines\",\"MntWines\",\"MntWines\",\"MntWines\",\"MntWines\",\"MntWines\",\"MntWines\",\"MntWines\",\"MntWines\",\"MntWines\",\"MntWines\",\"MntWines\",\"MntWines\",\"MntWines\",\"MntWines\",\"MntWines\",\"MntWines\",\"MntWines\",\"MntWines\",\"MntWines\",\"MntWines\",\"MntWines\",\"MntWines\",\"MntWines\",\"MntWines\",\"MntWines\",\"MntWines\",\"MntWines\",\"MntWines\",\"MntWines\",\"MntWines\",\"MntWines\",\"MntWines\"],\"index\":[0,1,2,3,4,5,6,7,8,9,10,11,12,13,14,15,16,17,18,19,20,21,22,23,24,25,26,27,28,29,30,31,32,33,34,35,36,37,38,39,40,41,42,43,44,45,46,47,48,49,50,51,52,53,54,55,56,57,58,59,60,61,62,63,64,65,66,67,68,69,70,71,72,73,74,75,76,77,78,79,80,81,82,83,84,85,86,87,88,89,90,91,92,93,94,95,96,97,98,99,100,101,102,103,104,105,106,107,108,109,110,111,112,113,114,115,116,117,118,119,120,121,122,123,124,125,126,127,128,129,130,131,132,133,134,135,136,137,138,139,140,141,142,143,144,145,146,147,148,149,150,151,152,153,154,155,156,157,158,159,160,161,162,163,164,165,166,167,168,169,170,171,172,173,174,175,176,177,178,179,180,181,182,183,184,185,186,187,188,189,190,191,192,193,194,195,196,197,198,199,200,201,202,203,204,205,206,207,208,209,210,211,212,213,214,215,216,217,218,219,220,221,222,223,224,225,226,227,228,229,230,231,232,233,234,235,236,237,238,239,240,241,242,243,244,245,246,247,248,249,250,251,252,253,254,255,256,257,258,259,260,261,262,263,264,265,266,267,268,269,270,271,272,273,274,275,276,277,278,279,280,281,282,283,284,285,286,287,288,289,290,291,292,293,294,295,296,297,298,299,300,301,302,303,304,305,306,307,308,309,310,311,312,313,314,315,316,317,318,319,320,321,322,323,324,325,326,327,328,329,330,331,332,333,334,335,336,337,338,339,340,341,342,343,344,345,346,347,348,349,350,351,352,353,354,355,356,357,358,359,360,361,362,363,364,365,366,367,368,369,370,371,372,373,374,375,376,377,378,379,380,381,382,383,384,385,386,387,388,389,390,391,392,393,394,395,396,397,398,399,400,401,402,403,404,405,406,407,408,409,410,411,412,413,414,415,416,417,418,419,420,421,422,423,424,425,426,427,428,429,430,431,432,433,434,435,436,437,438,439,440,441,442,443,444,445,446,447,448,449,450,451,452,453,454,455,456,457,458,459,460,461,462,463,464,465,466,467,468,469,470,471,472,473,474,475,476,477,478,479,480,481,482,483,484,485,486,487,488,489,490,491,492,493,494,495,496,497,498,499,500,501,502,503,504,505,506,507,508,509,510,511,512,513,514,515,516,517,518,519,520,521,522,523,524,525,526,527,528,529,530,531,532,533,534,535,536,537,538,539,540,541,542,543,544,545,546,547,548,549,550,551,552,553,554,555,556,557,558,559,560,561,562,563,564,565,566,567,568,569,570,571,572,573,574,575,576,577,578,579,580,581,582,583,584,585,586,587,588,589,590,591,592,593,594,595,596,597,598,599,600,601,602,603,604,605,606,607,608,609,610,611,612,613,614,615,616,617,618,619,620,621,622,623,624,625,626,627,628,629,630,631,632,633,634,635,636,637,638,639,640,641,642,643,644,645,646,647,648,649,650,651,652,653,654,655,656,657,658,659,660,661,662,663,664,665,666,667,668,669,670,671,672,673,674,675,676,677,678,679,680,681,682,683,684,685,686,687,688,689,690,691,692,693,694,695,696,697,698,699,700,701,702,703,704,705,706,707,708,709,710,711,712,713,714,715,716,717,718,719,720,721,722,723,724,725,726,727,728,729,730,731,732,733,734,735,736,737,738,739,740,741,742,743,744,745,746,747,748,749,750,751,752,753,754,755,756,757,758,759,760,761,762,763,764,765,766,767,768,769,770,771,772,773,774,775,776,777,778,779,780,781,782,783,784,785,786,787,788,789,790,791,792,793,794,795,796,797,798,799,800,801,802,803,804,805,806,807,808,809,810,811,812,813,814,815,816,817,818,819,820,821,822,823,824,825,826,827,828,829,830,831,832,833,834,835,836,837,838,839,840,841,842,843,844,845,846,847,848,849,850,851,852,853,854,855,856,857,858,859,860,861,862,863,864,865,866,867,868,869,870,871,872,873,874,875,876,877,878,879,880,881,882,883,884,885,886,887,888,889,890,891,892,893,894,895,896,897,898,899,900,901,902,903,904,905,906,907,908,909,910,911,912,913,914,915,916,917,918,919,920,921,922,923,924,925,926,927,928,929,930,931,932,933,934,935,936,937,938,939,940,941,942,943,944,945,946,947,948,949,950,951,952,953,954,955,956,957,958,959,960,961,962,963,964,965,966,967,968,969,970,971,972,973,974,975,976,977,978,979,980,981,982,983,984,985,986,987,988,989,990,991,992,993,994,995,996,997,998,999,1000,1001,1002,1003,1004,1005,1006,1007,1008,1009,1010,1011,1012,1013,1014,1015,1016,1017,1018,1019,1020,1021,1022,1023,1024,1025,1026,1027,1028,1029,1030,1031,1032,1033,1034,1035,1036,1037,1038,1039,1040,1041,1042,1043,1044,1045,1046,1047,1048,1049,1050,1051,1052,1053,1054,1055,1056,1057,1058,1059,1060,1061,1062,1063,1064,1065,1066,1067,1068,1069,1070,1071,1072,1073,1074,1075,1076,1077,1078,1079,1080,1081,1082,1083,1084,1085,1086,1087,1088,1089,1090,1091,1092,1093,1094,1095,1096,1097,1098,1099,1100,1101,1102,1103,1104,1105,1106,1107,1108,1109,1110,1111,1112,1113,1114,1115,1116,1117,1118,1119,1120,1121,1122,1123,1124,1125,1126,1127,1128,1129,1130,1131,1132,1133,1134,1135,1136,1137,1138,1139,1140,1141,1142,1143,1144,1145,1146,1147,1148,1149,1150,1151,1152,1153,1154,1155,1156,1157,1158,1159,1160,1161,1162,1163,1164,1165,1166,1167,1168,1169,1170,1171,1172,1173,1174,1175,1176,1177,1178,1179,1180,1181,1182,1183,1184,1185,1186,1187,1188,1189,1190,1191,1192,1193,1194,1195,1196,1197,1198,1199,1200,1201,1202,1203,1204,1205,1206,1207,1208,1209,1210,1211,1212,1213,1214,1215,1216,1217,1218,1219,1220,1221,1222,1223,1224,1225,1226,1227,1228,1229,1230,1231,1232,1233,1234,1235,1236,1237,1238,1239,1240,1241,1242,1243,1244,1245,1246,1247,1248,1249,1250,1251,1252,1253,1254,1255,1256,1257,1258,1259,1260,1261,1262,1263,1264,1265,1266,1267,1268,1269,1270,1271,1272,1273,1274,1275,1276,1277,1278,1279,1280,1281,1282,1283,1284,1285,1286,1287,1288,1289,1290,1291,1292,1293,1294,1295,1296,1297,1298,1299,1300,1301,1302,1303,1304,1305,1306,1307,1308,1309,1310,1311,1312,1313,1314,1315,1316,1317,1318,1319,1320,1321,1322,1323,1324,1325,1326,1327,1328,1329,1330,1331,1332,1333,1334,1335,1336,1337,1338,1339,1340,1341,1342,1343,1344,1345,1346,1347,1348,1349,1350,1351,1352,1353,1354,1355,1356,1357,1358,1359,1360,1361,1362,1363,1364,1365,1366,1367,1368,1369,1370,1371,1372,1373,1374,1375,1376,1377,1378,1379,1380,1381,1382,1383,1384,1385,1386,1387,1388,1389,1390,1391,1392,1393,1394,1395,1396,1397,1398,1399,1400,1401,1402,1403,1404,1405,1406,1407,1408,1409,1410,1411,1412,1413,1414,1415,1416,1417,1418,1419,1420,1421,1422,1423,1424,1425,1426,1427,1428,1429,1430,1431,1432,1433,1434,1435,1436,1437,1438,1439,1440,1441,1442,1443,1444,1445,1446,1447,1448,1449,1450,1451,1452,1453,1454,1455,1456,1457,1458,1459,1460,1461,1462,1463,1464,1465,1466,1467,1468,1469,1470,1471,1472,1473,1474,1475,1476,1477,1478,1479,1480,1481,1482,1483,1484,1485,1486,1487,1488,1489,1490,1491,1492,1493,1494,1495,1496,1497,1498,1499,1500,1501,1502,1503,1504,1505,1506,1507,1508,1509,1510,1511,1512,1513,1514,1515,1516,1517,1518,1519,1520,1521,1522,1523,1524,1525,1526,1527,1528,1529,1530,1531,1532,1533,1534,1535,1536,1537,1538,1539,1540,1541,1542,1543,1544,1545,1546,1547,1548,1549,1550,1551,1552,1553,1554,1555,1556,1557,1558,1559,1560,1561,1562,1563,1564,1565,1566,1567,1568,1569,1570,1571,1572,1573,1574,1575,1576,1577,1578,1579,1580,1581,1582,1583,1584,1585,1586,1587,1588,1589,1590,1591,1592,1593,1594,1595,1596,1597,1598,1599,1600,1601,1602,1603,1604,1605,1606,1607,1608,1609,1610,1611,1612,1613,1614,1615,1616,1617,1618,1619,1620,1621,1622,1623,1624,1625,1626,1627,1628,1629,1630,1631,1632,1633,1634,1635,1636,1637,1638,1639,1640,1641,1642,1643,1644,1645,1646,1647,1648,1649,1650,1651,1652,1653,1654,1655,1656,1657,1658,1659,1660,1661,1662,1663,1664,1665,1666,1667,1668,1669,1670,1671,1672,1673,1674,1675,1676,1677,1678,1679,1680,1681,1682,1683,1684,1685,1686,1687,1688,1689,1690,1691,1692,1693,1694,1695,1696,1697,1698,1699,1700,1701,1702,1703,1704,1705,1706,1707,1708,1709,1710,1711,1712,1713,1714,1715,1716,1717,1718,1719,1720,1721,1722,1723,1724,1725,1726,1727,1728,1729,1730,1731,1732,1733,1734,1735,1736,1737,1738,1739,1740,1741,1742,1743,1744,1745,1746,1747,1748,1749,1750,1751,1752,1753,1754,1755,1756,1757,1758,1759,1760,1761,1762,1763,1764,1765,1766,1767,1768,1769,1770,1771,1772,1773,1774,1775,1776,1777,1778,1779,1780,1781,1782,1783,1784,1785,1786,1787,1788,1789,1790,1791,1792,1793,1794,1795,1796,1797,1798,1799,1800,1801,1802,1803,1804,1805,1806,1807,1808,1809,1810,1811,1812,1813,1814,1815,1816,1817,1818,1819,1820,1821,1822,1823,1824,1825,1826,1827,1828,1829,1830,1831,1832,1833,1834,1835,1836,1837,1838,1839,1840,1841,1842,1843,1844,1845,1846,1847,1848,1849,1850,1851,1852,1853,1854,1855,1856,1857,1858,1859,1860,1861,1862,1863,1864,1865,1866,1867,1868,1869,1870,1871,1872,1873,1874,1875,1876,1877,1878,1879,1880,1881,1882,1883,1884,1885,1886,1887,1888,1889,1890,1891,1892,1893,1894,1895,1896,1897,1898,1899,1900,1901,1902,1903,1904,1905,1906,1907,1908,1909,1910,1911,1912,1913,1914,1915,1916,1917,1918,1919,1920,1921,1922,1923,1924,1925,1926,1927,1928,1929,1930,1931,1932,1933,1934,1935,1936,1937,1938,1939,1940,1941,1942,1943,1944,1945,1946,1947,1948,1949,1950,1951,1952,1953,1954,1955,1956,1957,1958,1959,1960,1961,1962,1963,1964,1965,1966,1967,1968,1969,1970,1971,1972,1973,1974,1975,1976,1977,1978,1979,1980,1981,1982,1983,1984,1985,1986,1987,1988,1989,1990,1991,1992,1993,1994,1995,1996,1997,1998,1999,2000,2001,2002,2003,2004,2005,2006,2007,2008,2009,2010,2011,2012,2013,2014,2015,2016,2017,2018,2019,2020,2021,2022,2023,2024,2025,2026,2027,2028,2029,2030,2031,2032,2033,2034,2035,2036,2037,2038,2039,2040,2041,2042,2043,2044,2045,2046,2047,2048,2049,2050,2051,2052,2053,2054,2055,2056,2057,2058,2059,2060,2061,2062,2063,2064,2065,2066,2067,2068,2069,2070,2071,2072,2073,2074,2075,2076,2077,2078,2079,2080,2081,2082,2083,2084,2085,2086,2087,2088,2089,2090,2091,2092,2093,2094,2095,2096,2097,2098,2099,2100,2101,2102,2103,2104,2105,2106,2107,2108,2109,2110,2111,2112,2113,2114,2115,2116,2117,2118,2119,2120,2121,2122,2123,2124,2125,2126,2127,2128,2129,2130,2131,2132,2133,2134,2135,2136,2137,2138,2139,2140,2141,2142,2143,2144,2145,2146,2147,2148,2149,2150,2151,2152,2153,2154,2155,2156,2157,2158,2159,2160,2161,2162,2163,2164,2165,2166,2167,2168,2169,2170,2171,2172,2173,2174,2175,2176,2177,2178,2179,2180,2181,2182,2183,2184,2185,2186,2187,2188,2189,2190,2191,2192,2193,2194,2195,2196,2197,2198,2199,2200,2201,2202,2203,2204,2205,2206,2207,2208,2209,2210,2211,2212,2213,2214,2215,2216,2217,2218,2219,2220,2221,2222,2223,2224,2225,2226,2227,2228,2229,2230,2231,2232,2233,2234,2235,2236,2237,2238,2239],\"value\":[239,464,57,19,637,43,185,18,460,32,136,2,509,68,14,34,15,0,5,5,11,275,544,215,466,760,19,345,206,656,90,478,284,0,23,125,219,332,1288,35,556,138,24,279,1,28,515,901,199,172,123,399,17,952,56,777,154,130,9,95,182,493,19,918,330,901,29,235,198,462,158,229,373,5,47,91,516,283,1170,6,315,374,534,294,308,67,9,27,824,102,1,792,388,1060,434,322,25,908,13,3,174,23,2,267,941,163,31,398,243,746,704,14,9,816,293,6,302,349,65,422,6,22,464,356,59,1,40,146,13,4,972,707,162,787,141,529,18,1493,48,46,588,340,135,379,18,584,2,23,12,167,151,508,962,784,561,56,63,97,303,320,381,306,54,1099,411,2,6,410,38,224,7,254,20,16,9,51,158,139,121,87,45,4,3,167,133,235,538,342,112,178,200,6,110,410,490,505,728,41,523,41,350,200,22,600,322,299,112,63,14,656,29,22,557,532,70,258,1000,733,16,269,24,1486,6,544,938,85,18,398,1050,208,7,520,755,102,9,124,239,322,50,979,1200,88,2,80,9,554,1253,384,690,483,587,13,977,34,664,434,152,231,27,22,23,261,12,551,368,85,962,856,1076,33,123,182,284,154,172,6,10,6,407,496,8,51,280,4,270,204,18,367,387,21,735,265,8,666,17,8,53,675,162,268,55,18,85,48,152,600,11,3,379,38,69,709,347,741,120,966,664,558,2,171,547,292,184,3,23,577,292,15,408,354,162,890,66,4,779,16,20,1459,204,213,796,154,9,80,3,1043,59,760,273,9,714,30,1259,100,1074,5,2,412,25,189,1148,68,30,56,46,721,652,32,4,81,11,667,965,595,794,188,44,46,399,35,1,711,228,582,446,684,5,63,1,965,78,522,867,5,34,587,619,22,372,563,243,15,78,70,896,377,450,997,11,0,448,1006,54,166,194,35,1063,263,3,736,860,15,27,15,256,12,13,11,1218,353,938,44,11,1215,510,45,27,57,43,32,627,17,8,4,202,430,4,4,213,64,5,539,3,625,110,10,508,625,32,9,587,623,39,8,778,177,44,173,376,823,490,364,362,789,483,3,531,12,861,38,4,199,526,80,8,26,48,2,23,356,217,204,22,5,23,153,982,97,163,14,50,23,17,416,7,977,1,111,1016,3,691,1050,495,14,25,526,424,1206,754,162,14,156,358,297,5,19,23,12,519,375,543,72,52,71,295,0,21,254,9,184,70,12,181,536,366,62,864,1003,352,532,5,707,763,196,57,656,52,9,7,25,626,453,10,265,60,9,738,20,376,6,444,410,162,711,1121,595,1067,104,19,934,44,789,1241,789,18,852,737,18,614,751,305,38,104,29,19,175,709,3,437,717,12,7,291,530,17,27,1462,957,86,212,28,112,135,185,587,167,1,1218,130,452,7,215,340,183,2,830,121,2,264,6,5,12,317,1324,871,15,11,13,389,1492,249,96,412,275,1166,29,116,5,562,407,995,21,14,527,12,11,219,206,200,13,856,30,73,5,421,64,879,712,244,0,125,70,34,129,726,1170,138,141,815,635,1115,1045,629,919,390,483,11,157,216,674,19,267,4,1039,384,462,255,676,87,50,10,162,583,80,12,32,251,7,31,14,62,12,901,56,159,918,122,1181,539,631,441,575,140,345,4,4,76,492,10,750,19,94,594,1,778,371,488,1184,27,69,817,19,19,1035,212,403,31,1248,4,393,5,627,743,196,100,378,25,105,8,24,315,473,533,1,295,231,6,192,3,505,30,571,410,2,410,359,3,16,3,22,642,897,639,960,24,801,186,356,618,2,331,918,35,266,982,406,463,799,16,3,91,384,42,2,618,308,1,169,769,224,6,108,216,201,167,112,20,10,11,269,650,112,88,504,1004,517,10,398,411,426,164,586,231,97,8,189,18,204,9,167,229,1001,4,822,73,28,4,67,1000,213,6,1006,129,46,910,15,580,1,13,5,1001,23,107,507,325,881,235,5,6,913,41,23,702,5,18,1224,42,240,18,10,254,163,23,459,635,1142,458,622,846,10,671,367,536,2,18,112,509,31,11,292,10,62,23,1315,247,457,365,315,15,1099,919,292,631,203,386,972,116,777,6,23,61,83,171,10,1394,162,889,411,371,227,163,383,1009,6,960,561,8,207,131,571,342,4,1004,612,721,99,861,674,443,7,248,135,1000,29,8,74,30,391,689,368,30,176,45,635,456,520,555,769,574,19,18,1,3,154,71,6,753,5,203,14,556,7,72,229,58,34,10,1132,176,8,1,12,84,1379,227,815,606,106,29,680,233,108,2,433,19,524,6,1193,292,2,595,5,68,23,3,777,252,7,756,20,14,264,35,41,966,14,30,425,71,420,9,445,380,40,15,584,670,63,398,479,37,333,654,19,1047,774,0,1004,26,129,738,7,298,128,2,4,199,576,380,489,443,714,33,30,27,86,12,1230,28,31,532,16,145,5,5,16,17,378,307,93,112,45,8,220,6,1181,19,298,471,24,30,270,36,79,173,8,587,362,39,983,0,25,1156,239,6,1,1111,238,22,3,758,729,6,29,145,454,267,1083,37,99,757,45,172,15,262,451,27,15,316,635,4,406,123,1492,897,545,957,572,1478,81,1,1020,502,509,8,12,631,513,466,7,73,15,338,848,202,97,51,140,309,20,1013,459,10,948,56,563,1,110,674,611,81,16,12,46,1156,4,115,2,46,1074,123,402,56,25,408,560,445,2,35,7,36,899,1017,493,21,247,606,2,312,724,359,97,2,73,240,138,73,158,272,28,8,895,210,19,547,43,143,76,833,144,158,8,203,26,37,80,2,752,173,165,614,45,1111,1168,1142,1171,546,986,493,918,445,313,40,19,10,141,191,629,5,33,425,76,488,11,62,561,37,340,22,571,499,34,18,14,10,457,25,110,507,81,378,703,1276,710,138,255,984,270,816,28,53,1076,673,635,14,135,1311,652,324,410,30,258,758,768,565,13,3,835,1,621,5,20,230,10,223,191,67,25,26,909,42,7,151,647,267,829,1050,344,12,605,42,21,789,243,527,12,581,105,14,76,293,2,16,6,0,546,613,2,29,521,529,1012,826,11,230,390,504,964,1,513,178,22,22,277,30,3,227,293,771,757,144,28,33,10,2,38,438,68,502,314,572,479,16,456,34,2,957,22,5,231,267,448,98,13,712,14,37,1,8,8,182,284,167,43,38,245,641,241,167,593,5,4,224,464,1285,207,100,17,387,35,14,1,675,99,518,1073,783,23,656,537,656,279,163,24,479,17,635,43,109,739,189,1200,8,194,3,604,888,483,432,897,3,445,953,483,205,833,395,43,4,686,88,209,12,381,35,24,375,172,9,54,792,722,10,459,55,496,2,48,505,344,39,199,12,908,736,79,260,81,10,13,347,5,448,4,570,292,23,34,21,341,336,6,161,712,25,96,297,393,797,113,17,56,342,494,216,211,11,96,8,85,111,240,1332,64,13,958,19,520,1000,157,39,68,928,67,420,209,77,245,1032,22,84,5,901,6,67,99,144,143,39,11,102,1,275,166,67,5,817,30,5,562,218,15,6,554,30,152,154,350,182,244,709,173,293,471,11,350,13,68,526,6,684,12,641,233,197,98,198,68,15,940,18,224,209,161,820,179,141,967,620,6,1245,9,8,1285,819,101,10,350,18,24,658,734,1285,505,400,346,9,53,1239,46,714,22,120,1184,31,595,199,3,5,1,48,423,572,241,565,7,10,202,30,28,285,16,117,4,1023,34,233,51,53,482,28,318,85,6,158,22,508,1,428,14,352,16,863,98,40,897,1,557,4,594,79,15,138,111,1478,1,378,3,1,447,134,980,18,329,135,56,6,7,7,556,9,454,734,9,6,14,1,20,5,284,795,350,8,24,40,239,615,526,8,1296,30,11,351,127,5,604,376,201,112,55,421,412,48,245,9,183,15,19,252,5,84,750,11,244,5,121,399,90,7,9,565,1149,32,556,11,77,587,1298,29,800,20,14,482,280,39,56,378,296,301,35,70,437,283,12,230,37,15,387,516,864,75,132,155,347,392,217,194,201,9,448,514,512,812,960,26,382,171,397,27,35,480,26,548,371,14,1,806,230,968,39,707,1060,823,155,38,4,313,244,208,747,1218,13,51,604,52,418,387,465,452,32,371,491,829,1205,4,179,378,23,576,825,7,92,458,836,171,493,1349,20,423,925,525,8,620,407,29,8,324,1252,12,311,398,2,520,512,31,693,515,86,492,1048,688,562,328,328,274,4,9,630,84,36,13,691,9,415,811,30,931,3,384,91,9,290,102,14,840,358,1279,221,39,179,261,620,5,559,5,3,0,944,856,86,53,332,11,539,365,236,882,1,0,603,66,920,153,27,267,4,14,8,184,335,357,32,77,62,1103,708,530,8,4,189,1,53,65,62,1449,731,997,953,104,465,912,228,866,320,853,899,22,313,3,899,159,1,458,336,135,742,3,34,68,127,606,5,187,519,382,598,368,69,642,0,162,160,42,397,38,370,15,321,349,16,553,610,5,100,12,20,3,2,375,503,724,7,4,2,3,168,520,1073,1001,238,395,4,116,301,620,482,1302,1308,7,372,297,25,464,317,215,89,440,31,712,1017,456,18,159,531,212,11,5,65,6,174,16,997,0,56,160,1,27,202,8,1,11,36,180,318,389,6,369,16,159,847,1090,205,161,75,68,605,33,50,29,0,170,327,40,14,295,6,675,1,1,1,25,2,274,95,265,1126,2,184,172,9,24,519,40,158,187,134,71,483,749,476,693,100,2,19,741,691,51,438,63,386,10,431,26,29,283,70,173,16,620,125,281,180,225,794,63,2,12,29,71,26,8,770,28,25,90,24,87,6,10,124,398,240,2,349,400,277,760,909,145,653,45,129,15,11,46,713,185,57,404,10,5,217,293,1181,14,522,40,172,532,73,6,4,397,760,247,15,24,42,9,19,47,37,303,182,6,88,288,790,2,6,226,327,29,234,31,355,179,344,709,1103,407,273,757,194,269,992,3,4,255,315,597,1092,279,416,983,33,266,173,625,434,304,454,650,16,2,8,26,19,336,65,9,26,82,492,546,450,494,183,738,1,1396,7,12,99,51,412,2,736,25,2,322,2,229,292,376,15,2,2,15,37]},\"selected\":{\"id\":\"1404\"},\"selection_policy\":{\"id\":\"1420\"}},\"id\":\"1403\",\"type\":\"ColumnDataSource\"},{\"attributes\":{\"label\":{\"value\":\"MntFishProducts\"},\"renderers\":[{\"id\":\"1476\"}]},\"id\":\"1494\",\"type\":\"LegendItem\"},{\"attributes\":{\"below\":[{\"id\":\"1376\"}],\"center\":[{\"id\":\"1379\"},{\"id\":\"1383\"}],\"height\":300,\"left\":[{\"id\":\"1380\"}],\"margin\":[5,5,5,5],\"min_border_bottom\":10,\"min_border_left\":10,\"min_border_right\":10,\"min_border_top\":10,\"renderers\":[{\"id\":\"1409\"},{\"id\":\"1430\"},{\"id\":\"1452\"},{\"id\":\"1476\"},{\"id\":\"1502\"}],\"right\":[{\"id\":\"1421\"}],\"sizing_mode\":\"fixed\",\"title\":{\"id\":\"1368\"},\"toolbar\":{\"id\":\"1390\"},\"width\":700,\"x_range\":{\"id\":\"1360\"},\"x_scale\":{\"id\":\"1372\"},\"y_range\":{\"id\":\"1361\"},\"y_scale\":{\"id\":\"1374\"}},\"id\":\"1367\",\"subtype\":\"Figure\",\"type\":\"Plot\"},{\"attributes\":{\"line_color\":\"#6d904f\",\"line_width\":2,\"x\":{\"field\":\"index\"},\"y\":{\"field\":\"value\"}},\"id\":\"1495\",\"type\":\"Line\"},{\"attributes\":{},\"id\":\"1467\",\"type\":\"UnionRenderers\"},{\"attributes\":{\"label\":{\"value\":\"MntMeatProducts\"},\"renderers\":[{\"id\":\"1452\"}]},\"id\":\"1468\",\"type\":\"LegendItem\"},{\"attributes\":{\"line_color\":\"#8b8b8b\",\"line_width\":2,\"x\":{\"field\":\"index\"},\"y\":{\"field\":\"value\"}},\"id\":\"1523\",\"type\":\"Line\"},{\"attributes\":{},\"id\":\"1372\",\"type\":\"LinearScale\"},{\"attributes\":{\"line_color\":\"#e5ae38\",\"line_width\":2,\"x\":{\"field\":\"index\"},\"y\":{\"field\":\"value\"}},\"id\":\"1469\",\"type\":\"Line\"}],\"root_ids\":[\"1358\"]},\"title\":\"Bokeh Application\",\"version\":\"2.3.2\"}};\n",
       "    var render_items = [{\"docid\":\"c76db1a5-1d07-41f9-af1c-dbad11b693c0\",\"root_ids\":[\"1358\"],\"roots\":{\"1358\":\"690515bb-b43b-46ea-9d76-8ff2544e9eaa\"}}];\n",
       "    root.Bokeh.embed.embed_items_notebook(docs_json, render_items);\n",
       "  }\n",
       "  if (root.Bokeh !== undefined && root.Bokeh.Panel !== undefined && ( root['Plotly'] !== undefined)) {\n",
       "    embed_document(root);\n",
       "  } else {\n",
       "    var attempts = 0;\n",
       "    var timer = setInterval(function(root) {\n",
       "      if (root.Bokeh !== undefined && root.Bokeh.Panel !== undefined && (root['Plotly'] !== undefined)) {\n",
       "        clearInterval(timer);\n",
       "        embed_document(root);\n",
       "      } else if (document.readyState == \"complete\") {\n",
       "        attempts++;\n",
       "        if (attempts > 200) {\n",
       "          clearInterval(timer);\n",
       "          console.log(\"Bokeh: ERROR: Unable to run BokehJS code because BokehJS library is missing\");\n",
       "        }\n",
       "      }\n",
       "    }, 25, root)\n",
       "  }\n",
       "})(window);</script>"
      ],
      "text/plain": [
       ":NdOverlay   [Variable]\n",
       "   :Curve   [index]   (value)"
      ]
     },
     "execution_count": 47,
     "metadata": {
      "application/vnd.holoviews_exec.v0+json": {
       "id": "1358"
      }
     },
     "output_type": "execute_result"
    }
   ],
   "source": [
    "# Determine the product within customer Food basket spend that aligns best to wine purchases. \n",
    "'''\n",
    "# Analysis: \n",
    "Based on below, customer who buys Wine generally purchases meat.\n",
    "'''\n",
    "df = wine_data[['MntWines','MntFruits', 'MntMeatProducts', 'MntFishProducts', 'MntSweetProducts']]\n",
    "df.hvplot()"
   ]
  },
  {
   "cell_type": "code",
   "execution_count": 49,
   "metadata": {},
   "outputs": [
    {
     "data": {},
     "metadata": {},
     "output_type": "display_data"
    },
    {
     "data": {
      "application/vnd.holoviews_exec.v0+json": "",
      "text/html": [
       "<div id='2141'>\n",
       "\n",
       "\n",
       "\n",
       "\n",
       "\n",
       "  <div class=\"bk-root\" id=\"f456f908-68fc-4dea-9c21-73e3b7f8eb14\" data-root-id=\"2141\"></div>\n",
       "</div>\n",
       "<script type=\"application/javascript\">(function(root) {\n",
       "  function embed_document(root) {\n",
       "    var docs_json = {\"0b692783-dd5f-4be5-a182-18110c890b63\":{\"defs\":[{\"extends\":null,\"module\":null,\"name\":\"ReactiveHTML1\",\"overrides\":[],\"properties\":[]},{\"extends\":null,\"module\":null,\"name\":\"FlexBox1\",\"overrides\":[],\"properties\":[{\"default\":\"flex-start\",\"kind\":null,\"name\":\"align_content\"},{\"default\":\"flex-start\",\"kind\":null,\"name\":\"align_items\"},{\"default\":\"row\",\"kind\":null,\"name\":\"flex_direction\"},{\"default\":\"wrap\",\"kind\":null,\"name\":\"flex_wrap\"},{\"default\":\"flex-start\",\"kind\":null,\"name\":\"justify_content\"}]},{\"extends\":null,\"module\":null,\"name\":\"TemplateActions1\",\"overrides\":[],\"properties\":[{\"default\":0,\"kind\":null,\"name\":\"open_modal\"},{\"default\":0,\"kind\":null,\"name\":\"close_modal\"}]},{\"extends\":null,\"module\":null,\"name\":\"MaterialTemplateActions1\",\"overrides\":[],\"properties\":[{\"default\":0,\"kind\":null,\"name\":\"open_modal\"},{\"default\":0,\"kind\":null,\"name\":\"close_modal\"}]}],\"roots\":{\"references\":[{\"attributes\":{\"data_source\":{\"id\":\"2204\"},\"glyph\":{\"id\":\"2207\"},\"hover_glyph\":null,\"muted_glyph\":{\"id\":\"2209\"},\"nonselection_glyph\":{\"id\":\"2208\"},\"selection_glyph\":{\"id\":\"2225\"},\"view\":{\"id\":\"2211\"}},\"id\":\"2210\",\"type\":\"GlyphRenderer\"},{\"attributes\":{\"children\":[{\"id\":\"2142\"},{\"id\":\"2147\"},{\"id\":\"2334\"}],\"margin\":[0,0,0,0],\"name\":\"Row03937\",\"tags\":[\"embedded\"]},\"id\":\"2141\",\"type\":\"Row\"},{\"attributes\":{\"active_multi\":null,\"tools\":[{\"id\":\"2145\"},{\"id\":\"2164\"},{\"id\":\"2165\"},{\"id\":\"2166\"},{\"id\":\"2167\"},{\"id\":\"2168\"}]},\"id\":\"2170\",\"type\":\"Toolbar\"},{\"attributes\":{\"angle\":{\"value\":0.0},\"fill_alpha\":{\"value\":1.0},\"fill_color\":{\"value\":\"#30a2da\"},\"hatch_alpha\":{\"value\":1.0},\"hatch_color\":{\"value\":\"black\"},\"hatch_scale\":{\"value\":12.0},\"hatch_weight\":{\"value\":1.0},\"line_alpha\":{\"value\":1.0},\"line_cap\":{\"value\":\"butt\"},\"line_color\":{\"value\":\"#30a2da\"},\"line_dash\":{\"value\":[]},\"line_dash_offset\":{\"value\":0},\"line_join\":{\"value\":\"bevel\"},\"line_width\":{\"value\":1},\"marker\":{\"value\":\"circle\"},\"size\":{\"value\":5.477225575051661},\"x\":{\"field\":\"MntWines\"},\"y\":{\"field\":\"value\"}},\"id\":\"2203\",\"type\":\"Scatter\"},{\"attributes\":{\"click_policy\":\"mute\",\"items\":[{\"id\":\"2202\"},{\"id\":\"2224\"}],\"location\":[0,0],\"title\":\"Variable\"},\"id\":\"2201\",\"type\":\"Legend\"},{\"attributes\":{},\"id\":\"2181\",\"type\":\"AllLabels\"},{\"attributes\":{},\"id\":\"2154\",\"type\":\"LinearScale\"},{\"attributes\":{\"callback\":null,\"renderers\":[{\"id\":\"2189\"},{\"id\":\"2210\"}],\"tags\":[\"hv_created\"],\"tooltips\":[[\"Variable\",\"@{Variable}\"],[\"MntWines\",\"@{MntWines}\"],[\"value\",\"@{value}\"]]},\"id\":\"2145\",\"type\":\"HoverTool\"},{\"attributes\":{},\"id\":\"2178\",\"type\":\"AllLabels\"},{\"attributes\":{\"bottom_units\":\"screen\",\"fill_alpha\":0.5,\"fill_color\":\"lightgrey\",\"left_units\":\"screen\",\"level\":\"overlay\",\"line_alpha\":1.0,\"line_color\":\"black\",\"line_dash\":[4,4],\"line_width\":2,\"right_units\":\"screen\",\"syncable\":false,\"top_units\":\"screen\"},\"id\":\"2169\",\"type\":\"BoxAnnotation\"},{\"attributes\":{},\"id\":\"2157\",\"type\":\"BasicTicker\"},{\"attributes\":{\"end\":29.7,\"reset_end\":29.7,\"reset_start\":-2.7,\"start\":-2.7,\"tags\":[[[\"value\",\"value\",null]]]},\"id\":\"2144\",\"type\":\"Range1d\"},{\"attributes\":{},\"id\":\"2152\",\"type\":\"LinearScale\"},{\"attributes\":{},\"id\":\"2168\",\"type\":\"ResetTool\"},{\"attributes\":{},\"id\":\"2184\",\"type\":\"Selection\"},{\"attributes\":{\"axis_label\":\"\",\"formatter\":{\"id\":\"2182\"},\"major_label_policy\":{\"id\":\"2181\"},\"ticker\":{\"id\":\"2161\"}},\"id\":\"2160\",\"type\":\"LinearAxis\"},{\"attributes\":{\"data\":{\"MntWines\":[239,464,57,19,637,43,185,18,460,32,136,2,509,68,14,34,15,0,5,5,11,275,544,215,466,760,19,345,206,656,90,478,284,0,23,125,219,332,1288,35,556,138,24,279,1,28,515,901,199,172,123,399,17,952,56,777,154,130,9,95,182,493,19,918,330,901,29,235,198,462,158,229,373,5,47,91,516,283,1170,6,315,374,534,294,308,67,9,27,824,102,1,792,388,1060,434,322,25,908,13,3,174,23,2,267,941,163,31,398,243,746,704,14,9,816,293,6,302,349,65,422,6,22,464,356,59,1,40,146,13,4,972,707,162,787,141,529,18,1493,48,46,588,340,135,379,18,584,2,23,12,167,151,508,962,784,561,56,63,97,303,320,381,306,54,1099,411,2,6,410,38,224,7,254,20,16,9,51,158,139,121,87,45,4,3,167,133,235,538,342,112,178,200,6,110,410,490,505,728,41,523,41,350,200,22,600,322,299,112,63,14,656,29,22,557,532,70,258,1000,733,16,269,24,1486,6,544,938,85,18,398,1050,208,7,520,755,102,9,124,239,322,50,979,1200,88,2,80,9,554,1253,384,690,483,587,13,977,34,664,434,152,231,27,22,23,261,12,551,368,85,962,856,1076,33,123,182,284,154,172,6,10,6,407,496,8,51,280,4,270,204,18,367,387,21,735,265,8,666,17,8,53,675,162,268,55,18,85,48,152,600,11,3,379,38,69,709,347,741,120,966,664,558,2,171,547,292,184,3,23,577,292,15,408,354,162,890,66,4,779,16,20,1459,204,213,796,154,9,80,3,1043,59,760,273,9,714,30,1259,100,1074,5,2,412,25,189,1148,68,30,56,46,721,652,32,4,81,11,667,965,595,794,188,44,46,399,35,1,711,228,582,446,684,5,63,1,965,78,522,867,5,34,587,619,22,372,563,243,15,78,70,896,377,450,997,11,0,448,1006,54,166,194,35,1063,263,3,736,860,15,27,15,256,12,13,11,1218,353,938,44,11,1215,510,45,27,57,43,32,627,17,8,4,202,430,4,4,213,64,5,539,3,625,110,10,508,625,32,9,587,623,39,8,778,177,44,173,376,823,490,364,362,789,483,3,531,12,861,38,4,199,526,80,8,26,48,2,23,356,217,204,22,5,23,153,982,97,163,14,50,23,17,416,7,977,1,111,1016,3,691,1050,495,14,25,526,424,1206,754,162,14,156,358,297,5,19,23,12,519,375,543,72,52,71,295,0,21,254,9,184,70,12,181,536,366,62,864,1003,352,532,5,707,763,196,57,656,52,9,7,25,626,453,10,265,60,9,738,20,376,6,444,410,162,711,1121,595,1067,104,19,934,44,789,1241,789,18,852,737,18,614,751,305,38,104,29,19,175,709,3,437,717,12,7,291,530,17,27,1462,957,86,212,28,112,135,185,587,167,1,1218,130,452,7,215,340,183,2,830,121,2,264,6,5,12,317,1324,871,15,11,13,389,1492,249,96,412,275,1166,29,116,5,562,407,995,21,14,527,12,11,219,206,200,13,856,30,73,5,421,64,879,712,244,0,125,70,34,129,726,1170,138,141,815,635,1115,1045,629,919,390,483,11,157,216,674,19,267,4,1039,384,462,255,676,87,50,10,162,583,80,12,32,251,7,31,14,62,12,901,56,159,918,122,1181,539,631,441,575,140,345,4,4,76,492,10,750,19,94,594,1,778,371,488,1184,27,69,817,19,19,1035,212,403,31,1248,4,393,5,627,743,196,100,378,25,105,8,24,315,473,533,1,295,231,6,192,3,505,30,571,410,2,410,359,3,16,3,22,642,897,639,960,24,801,186,356,618,2,331,918,35,266,982,406,463,799,16,3,91,384,42,2,618,308,1,169,769,224,6,108,216,201,167,112,20,10,11,269,650,112,88,504,1004,517,10,398,411,426,164,586,231,97,8,189,18,204,9,167,229,1001,4,822,73,28,4,67,1000,213,6,1006,129,46,910,15,580,1,13,5,1001,23,107,507,325,881,235,5,6,913,41,23,702,5,18,1224,42,240,18,10,254,163,23,459,635,1142,458,622,846,10,671,367,536,2,18,112,509,31,11,292,10,62,23,1315,247,457,365,315,15,1099,919,292,631,203,386,972,116,777,6,23,61,83,171,10,1394,162,889,411,371,227,163,383,1009,6,960,561,8,207,131,571,342,4,1004,612,721,99,861,674,443,7,248,135,1000,29,8,74,30,391,689,368,30,176,45,635,456,520,555,769,574,19,18,1,3,154,71,6,753,5,203,14,556,7,72,229,58,34,10,1132,176,8,1,12,84,1379,227,815,606,106,29,680,233,108,2,433,19,524,6,1193,292,2,595,5,68,23,3,777,252,7,756,20,14,264,35,41,966,14,30,425,71,420,9,445,380,40,15,584,670,63,398,479,37,333,654,19,1047,774,0,1004,26,129,738,7,298,128,2,4,199,576,380,489,443,714,33,30,27,86,12,1230,28,31,532,16,145,5,5,16,17,378,307,93,112,45,8,220,6,1181,19,298,471,24,30,270,36,79,173,8,587,362,39,983,0,25,1156,239,6,1,1111,238,22,3,758,729,6,29,145,454,267,1083,37,99,757,45,172,15,262,451,27,15,316,635,4,406,123,1492,897,545,957,572,1478,81,1,1020,502,509,8,12,631,513,466,7,73,15,338,848,202,97,51,140,309,20,1013,459,10,948,56,563,1,110,674,611,81,16,12,46,1156,4,115,2,46,1074,123,402,56,25,408,560,445,2,35,7,36,899,1017,493,21,247,606,2,312,724,359,97,2,73,240,138,73,158,272,28,8,895,210,19,547,43,143,76,833,144,158,8,203,26,37,80,2,752,173,165,614,45,1111,1168,1142,1171,546,986,493,918,445,313,40,19,10,141,191,629,5,33,425,76,488,11,62,561,37,340,22,571,499,34,18,14,10,457,25,110,507,81,378,703,1276,710,138,255,984,270,816,28,53,1076,673,635,14,135,1311,652,324,410,30,258,758,768,565,13,3,835,1,621,5,20,230,10,223,191,67,25,26,909,42,7,151,647,267,829,1050,344,12,605,42,21,789,243,527,12,581,105,14,76,293,2,16,6,0,546,613,2,29,521,529,1012,826,11,230,390,504,964,1,513,178,22,22,277,30,3,227,293,771,757,144,28,33,10,2,38,438,68,502,314,572,479,16,456,34,2,957,22,5,231,267,448,98,13,712,14,37,1,8,8,182,284,167,43,38,245,641,241,167,593,5,4,224,464,1285,207,100,17,387,35,14,1,675,99,518,1073,783,23,656,537,656,279,163,24,479,17,635,43,109,739,189,1200,8,194,3,604,888,483,432,897,3,445,953,483,205,833,395,43,4,686,88,209,12,381,35,24,375,172,9,54,792,722,10,459,55,496,2,48,505,344,39,199,12,908,736,79,260,81,10,13,347,5,448,4,570,292,23,34,21,341,336,6,161,712,25,96,297,393,797,113,17,56,342,494,216,211,11,96,8,85,111,240,1332,64,13,958,19,520,1000,157,39,68,928,67,420,209,77,245,1032,22,84,5,901,6,67,99,144,143,39,11,102,1,275,166,67,5,817,30,5,562,218,15,6,554,30,152,154,350,182,244,709,173,293,471,11,350,13,68,526,6,684,12,641,233,197,98,198,68,15,940,18,224,209,161,820,179,141,967,620,6,1245,9,8,1285,819,101,10,350,18,24,658,734,1285,505,400,346,9,53,1239,46,714,22,120,1184,31,595,199,3,5,1,48,423,572,241,565,7,10,202,30,28,285,16,117,4,1023,34,233,51,53,482,28,318,85,6,158,22,508,1,428,14,352,16,863,98,40,897,1,557,4,594,79,15,138,111,1478,1,378,3,1,447,134,980,18,329,135,56,6,7,7,556,9,454,734,9,6,14,1,20,5,284,795,350,8,24,40,239,615,526,8,1296,30,11,351,127,5,604,376,201,112,55,421,412,48,245,9,183,15,19,252,5,84,750,11,244,5,121,399,90,7,9,565,1149,32,556,11,77,587,1298,29,800,20,14,482,280,39,56,378,296,301,35,70,437,283,12,230,37,15,387,516,864,75,132,155,347,392,217,194,201,9,448,514,512,812,960,26,382,171,397,27,35,480,26,548,371,14,1,806,230,968,39,707,1060,823,155,38,4,313,244,208,747,1218,13,51,604,52,418,387,465,452,32,371,491,829,1205,4,179,378,23,576,825,7,92,458,836,171,493,1349,20,423,925,525,8,620,407,29,8,324,1252,12,311,398,2,520,512,31,693,515,86,492,1048,688,562,328,328,274,4,9,630,84,36,13,691,9,415,811,30,931,3,384,91,9,290,102,14,840,358,1279,221,39,179,261,620,5,559,5,3,0,944,856,86,53,332,11,539,365,236,882,1,0,603,66,920,153,27,267,4,14,8,184,335,357,32,77,62,1103,708,530,8,4,189,1,53,65,62,1449,731,997,953,104,465,912,228,866,320,853,899,22,313,3,899,159,1,458,336,135,742,3,34,68,127,606,5,187,519,382,598,368,69,642,0,162,160,42,397,38,370,15,321,349,16,553,610,5,100,12,20,3,2,375,503,724,7,4,2,3,168,520,1073,1001,238,395,4,116,301,620,482,1302,1308,7,372,297,25,464,317,215,89,440,31,712,1017,456,18,159,531,212,11,5,65,6,174,16,997,0,56,160,1,27,202,8,1,11,36,180,318,389,6,369,16,159,847,1090,205,161,75,68,605,33,50,29,0,170,327,40,14,295,6,675,1,1,1,25,2,274,95,265,1126,2,184,172,9,24,519,40,158,187,134,71,483,749,476,693,100,2,19,741,691,51,438,63,386,10,431,26,29,283,70,173,16,620,125,281,180,225,794,63,2,12,29,71,26,8,770,28,25,90,24,87,6,10,124,398,240,2,349,400,277,760,909,145,653,45,129,15,11,46,713,185,57,404,10,5,217,293,1181,14,522,40,172,532,73,6,4,397,760,247,15,24,42,9,19,47,37,303,182,6,88,288,790,2,6,226,327,29,234,31,355,179,344,709,1103,407,273,757,194,269,992,3,4,255,315,597,1092,279,416,983,33,266,173,625,434,304,454,650,16,2,8,26,19,336,65,9,26,82,492,546,450,494,183,738,1,1396,7,12,99,51,412,2,736,25,2,322,2,229,292,376,15,2,2,15,37],\"Variable\":[\"NumStorePurchases\",\"NumStorePurchases\",\"NumStorePurchases\",\"NumStorePurchases\",\"NumStorePurchases\",\"NumStorePurchases\",\"NumStorePurchases\",\"NumStorePurchases\",\"NumStorePurchases\",\"NumStorePurchases\",\"NumStorePurchases\",\"NumStorePurchases\",\"NumStorePurchases\",\"NumStorePurchases\",\"NumStorePurchases\",\"NumStorePurchases\",\"NumStorePurchases\",\"NumStorePurchases\",\"NumStorePurchases\",\"NumStorePurchases\",\"NumStorePurchases\",\"NumStorePurchases\",\"NumStorePurchases\",\"NumStorePurchases\",\"NumStorePurchases\",\"NumStorePurchases\",\"NumStorePurchases\",\"NumStorePurchases\",\"NumStorePurchases\",\"NumStorePurchases\",\"NumStorePurchases\",\"NumStorePurchases\",\"NumStorePurchases\",\"NumStorePurchases\",\"NumStorePurchases\",\"NumStorePurchases\",\"NumStorePurchases\",\"NumStorePurchases\",\"NumStorePurchases\",\"NumStorePurchases\",\"NumStorePurchases\",\"NumStorePurchases\",\"NumStorePurchases\",\"NumStorePurchases\",\"NumStorePurchases\",\"NumStorePurchases\",\"NumStorePurchases\",\"NumStorePurchases\",\"NumStorePurchases\",\"NumStorePurchases\",\"NumStorePurchases\",\"NumStorePurchases\",\"NumStorePurchases\",\"NumStorePurchases\",\"NumStorePurchases\",\"NumStorePurchases\",\"NumStorePurchases\",\"NumStorePurchases\",\"NumStorePurchases\",\"NumStorePurchases\",\"NumStorePurchases\",\"NumStorePurchases\",\"NumStorePurchases\",\"NumStorePurchases\",\"NumStorePurchases\",\"NumStorePurchases\",\"NumStorePurchases\",\"NumStorePurchases\",\"NumStorePurchases\",\"NumStorePurchases\",\"NumStorePurchases\",\"NumStorePurchases\",\"NumStorePurchases\",\"NumStorePurchases\",\"NumStorePurchases\",\"NumStorePurchases\",\"NumStorePurchases\",\"NumStorePurchases\",\"NumStorePurchases\",\"NumStorePurchases\",\"NumStorePurchases\",\"NumStorePurchases\",\"NumStorePurchases\",\"NumStorePurchases\",\"NumStorePurchases\",\"NumStorePurchases\",\"NumStorePurchases\",\"NumStorePurchases\",\"NumStorePurchases\",\"NumStorePurchases\",\"NumStorePurchases\",\"NumStorePurchases\",\"NumStorePurchases\",\"NumStorePurchases\",\"NumStorePurchases\",\"NumStorePurchases\",\"NumStorePurchases\",\"NumStorePurchases\",\"NumStorePurchases\",\"NumStorePurchases\",\"NumStorePurchases\",\"NumStorePurchases\",\"NumStorePurchases\",\"NumStorePurchases\",\"NumStorePurchases\",\"NumStorePurchases\",\"NumStorePurchases\",\"NumStorePurchases\",\"NumStorePurchases\",\"NumStorePurchases\",\"NumStorePurchases\",\"NumStorePurchases\",\"NumStorePurchases\",\"NumStorePurchases\",\"NumStorePurchases\",\"NumStorePurchases\",\"NumStorePurchases\",\"NumStorePurchases\",\"NumStorePurchases\",\"NumStorePurchases\",\"NumStorePurchases\",\"NumStorePurchases\",\"NumStorePurchases\",\"NumStorePurchases\",\"NumStorePurchases\",\"NumStorePurchases\",\"NumStorePurchases\",\"NumStorePurchases\",\"NumStorePurchases\",\"NumStorePurchases\",\"NumStorePurchases\",\"NumStorePurchases\",\"NumStorePurchases\",\"NumStorePurchases\",\"NumStorePurchases\",\"NumStorePurchases\",\"NumStorePurchases\",\"NumStorePurchases\",\"NumStorePurchases\",\"NumStorePurchases\",\"NumStorePurchases\",\"NumStorePurchases\",\"NumStorePurchases\",\"NumStorePurchases\",\"NumStorePurchases\",\"NumStorePurchases\",\"NumStorePurchases\",\"NumStorePurchases\",\"NumStorePurchases\",\"NumStorePurchases\",\"NumStorePurchases\",\"NumStorePurchases\",\"NumStorePurchases\",\"NumStorePurchases\",\"NumStorePurchases\",\"NumStorePurchases\",\"NumStorePurchases\",\"NumStorePurchases\",\"NumStorePurchases\",\"NumStorePurchases\",\"NumStorePurchases\",\"NumStorePurchases\",\"NumStorePurchases\",\"NumStorePurchases\",\"NumStorePurchases\",\"NumStorePurchases\",\"NumStorePurchases\",\"NumStorePurchases\",\"NumStorePurchases\",\"NumStorePurchases\",\"NumStorePurchases\",\"NumStorePurchases\",\"NumStorePurchases\",\"NumStorePurchases\",\"NumStorePurchases\",\"NumStorePurchases\",\"NumStorePurchases\",\"NumStorePurchases\",\"NumStorePurchases\",\"NumStorePurchases\",\"NumStorePurchases\",\"NumStorePurchases\",\"NumStorePurchases\",\"NumStorePurchases\",\"NumStorePurchases\",\"NumStorePurchases\",\"NumStorePurchases\",\"NumStorePurchases\",\"NumStorePurchases\",\"NumStorePurchases\",\"NumStorePurchases\",\"NumStorePurchases\",\"NumStorePurchases\",\"NumStorePurchases\",\"NumStorePurchases\",\"NumStorePurchases\",\"NumStorePurchases\",\"NumStorePurchases\",\"NumStorePurchases\",\"NumStorePurchases\",\"NumStorePurchases\",\"NumStorePurchases\",\"NumStorePurchases\",\"NumStorePurchases\",\"NumStorePurchases\",\"NumStorePurchases\",\"NumStorePurchases\",\"NumStorePurchases\",\"NumStorePurchases\",\"NumStorePurchases\",\"NumStorePurchases\",\"NumStorePurchases\",\"NumStorePurchases\",\"NumStorePurchases\",\"NumStorePurchases\",\"NumStorePurchases\",\"NumStorePurchases\",\"NumStorePurchases\",\"NumStorePurchases\",\"NumStorePurchases\",\"NumStorePurchases\",\"NumStorePurchases\",\"NumStorePurchases\",\"NumStorePurchases\",\"NumStorePurchases\",\"NumStorePurchases\",\"NumStorePurchases\",\"NumStorePurchases\",\"NumStorePurchases\",\"NumStorePurchases\",\"NumStorePurchases\",\"NumStorePurchases\",\"NumStorePurchases\",\"NumStorePurchases\",\"NumStorePurchases\",\"NumStorePurchases\",\"NumStorePurchases\",\"NumStorePurchases\",\"NumStorePurchases\",\"NumStorePurchases\",\"NumStorePurchases\",\"NumStorePurchases\",\"NumStorePurchases\",\"NumStorePurchases\",\"NumStorePurchases\",\"NumStorePurchases\",\"NumStorePurchases\",\"NumStorePurchases\",\"NumStorePurchases\",\"NumStorePurchases\",\"NumStorePurchases\",\"NumStorePurchases\",\"NumStorePurchases\",\"NumStorePurchases\",\"NumStorePurchases\",\"NumStorePurchases\",\"NumStorePurchases\",\"NumStorePurchases\",\"NumStorePurchases\",\"NumStorePurchases\",\"NumStorePurchases\",\"NumStorePurchases\",\"NumStorePurchases\",\"NumStorePurchases\",\"NumStorePurchases\",\"NumStorePurchases\",\"NumStorePurchases\",\"NumStorePurchases\",\"NumStorePurchases\",\"NumStorePurchases\",\"NumStorePurchases\",\"NumStorePurchases\",\"NumStorePurchases\",\"NumStorePurchases\",\"NumStorePurchases\",\"NumStorePurchases\",\"NumStorePurchases\",\"NumStorePurchases\",\"NumStorePurchases\",\"NumStorePurchases\",\"NumStorePurchases\",\"NumStorePurchases\",\"NumStorePurchases\",\"NumStorePurchases\",\"NumStorePurchases\",\"NumStorePurchases\",\"NumStorePurchases\",\"NumStorePurchases\",\"NumStorePurchases\",\"NumStorePurchases\",\"NumStorePurchases\",\"NumStorePurchases\",\"NumStorePurchases\",\"NumStorePurchases\",\"NumStorePurchases\",\"NumStorePurchases\",\"NumStorePurchases\",\"NumStorePurchases\",\"NumStorePurchases\",\"NumStorePurchases\",\"NumStorePurchases\",\"NumStorePurchases\",\"NumStorePurchases\",\"NumStorePurchases\",\"NumStorePurchases\",\"NumStorePurchases\",\"NumStorePurchases\",\"NumStorePurchases\",\"NumStorePurchases\",\"NumStorePurchases\",\"NumStorePurchases\",\"NumStorePurchases\",\"NumStorePurchases\",\"NumStorePurchases\",\"NumStorePurchases\",\"NumStorePurchases\",\"NumStorePurchases\",\"NumStorePurchases\",\"NumStorePurchases\",\"NumStorePurchases\",\"NumStorePurchases\",\"NumStorePurchases\",\"NumStorePurchases\",\"NumStorePurchases\",\"NumStorePurchases\",\"NumStorePurchases\",\"NumStorePurchases\",\"NumStorePurchases\",\"NumStorePurchases\",\"NumStorePurchases\",\"NumStorePurchases\",\"NumStorePurchases\",\"NumStorePurchases\",\"NumStorePurchases\",\"NumStorePurchases\",\"NumStorePurchases\",\"NumStorePurchases\",\"NumStorePurchases\",\"NumStorePurchases\",\"NumStorePurchases\",\"NumStorePurchases\",\"NumStorePurchases\",\"NumStorePurchases\",\"NumStorePurchases\",\"NumStorePurchases\",\"NumStorePurchases\",\"NumStorePurchases\",\"NumStorePurchases\",\"NumStorePurchases\",\"NumStorePurchases\",\"NumStorePurchases\",\"NumStorePurchases\",\"NumStorePurchases\",\"NumStorePurchases\",\"NumStorePurchases\",\"NumStorePurchases\",\"NumStorePurchases\",\"NumStorePurchases\",\"NumStorePurchases\",\"NumStorePurchases\",\"NumStorePurchases\",\"NumStorePurchases\",\"NumStorePurchases\",\"NumStorePurchases\",\"NumStorePurchases\",\"NumStorePurchases\",\"NumStorePurchases\",\"NumStorePurchases\",\"NumStorePurchases\",\"NumStorePurchases\",\"NumStorePurchases\",\"NumStorePurchases\",\"NumStorePurchases\",\"NumStorePurchases\",\"NumStorePurchases\",\"NumStorePurchases\",\"NumStorePurchases\",\"NumStorePurchases\",\"NumStorePurchases\",\"NumStorePurchases\",\"NumStorePurchases\",\"NumStorePurchases\",\"NumStorePurchases\",\"NumStorePurchases\",\"NumStorePurchases\",\"NumStorePurchases\",\"NumStorePurchases\",\"NumStorePurchases\",\"NumStorePurchases\",\"NumStorePurchases\",\"NumStorePurchases\",\"NumStorePurchases\",\"NumStorePurchases\",\"NumStorePurchases\",\"NumStorePurchases\",\"NumStorePurchases\",\"NumStorePurchases\",\"NumStorePurchases\",\"NumStorePurchases\",\"NumStorePurchases\",\"NumStorePurchases\",\"NumStorePurchases\",\"NumStorePurchases\",\"NumStorePurchases\",\"NumStorePurchases\",\"NumStorePurchases\",\"NumStorePurchases\",\"NumStorePurchases\",\"NumStorePurchases\",\"NumStorePurchases\",\"NumStorePurchases\",\"NumStorePurchases\",\"NumStorePurchases\",\"NumStorePurchases\",\"NumStorePurchases\",\"NumStorePurchases\",\"NumStorePurchases\",\"NumStorePurchases\",\"NumStorePurchases\",\"NumStorePurchases\",\"NumStorePurchases\",\"NumStorePurchases\",\"NumStorePurchases\",\"NumStorePurchases\",\"NumStorePurchases\",\"NumStorePurchases\",\"NumStorePurchases\",\"NumStorePurchases\",\"NumStorePurchases\",\"NumStorePurchases\",\"NumStorePurchases\",\"NumStorePurchases\",\"NumStorePurchases\",\"NumStorePurchases\",\"NumStorePurchases\",\"NumStorePurchases\",\"NumStorePurchases\",\"NumStorePurchases\",\"NumStorePurchases\",\"NumStorePurchases\",\"NumStorePurchases\",\"NumStorePurchases\",\"NumStorePurchases\",\"NumStorePurchases\",\"NumStorePurchases\",\"NumStorePurchases\",\"NumStorePurchases\",\"NumStorePurchases\",\"NumStorePurchases\",\"NumStorePurchases\",\"NumStorePurchases\",\"NumStorePurchases\",\"NumStorePurchases\",\"NumStorePurchases\",\"NumStorePurchases\",\"NumStorePurchases\",\"NumStorePurchases\",\"NumStorePurchases\",\"NumStorePurchases\",\"NumStorePurchases\",\"NumStorePurchases\",\"NumStorePurchases\",\"NumStorePurchases\",\"NumStorePurchases\",\"NumStorePurchases\",\"NumStorePurchases\",\"NumStorePurchases\",\"NumStorePurchases\",\"NumStorePurchases\",\"NumStorePurchases\",\"NumStorePurchases\",\"NumStorePurchases\",\"NumStorePurchases\",\"NumStorePurchases\",\"NumStorePurchases\",\"NumStorePurchases\",\"NumStorePurchases\",\"NumStorePurchases\",\"NumStorePurchases\",\"NumStorePurchases\",\"NumStorePurchases\",\"NumStorePurchases\",\"NumStorePurchases\",\"NumStorePurchases\",\"NumStorePurchases\",\"NumStorePurchases\",\"NumStorePurchases\",\"NumStorePurchases\",\"NumStorePurchases\",\"NumStorePurchases\",\"NumStorePurchases\",\"NumStorePurchases\",\"NumStorePurchases\",\"NumStorePurchases\",\"NumStorePurchases\",\"NumStorePurchases\",\"NumStorePurchases\",\"NumStorePurchases\",\"NumStorePurchases\",\"NumStorePurchases\",\"NumStorePurchases\",\"NumStorePurchases\",\"NumStorePurchases\",\"NumStorePurchases\",\"NumStorePurchases\",\"NumStorePurchases\",\"NumStorePurchases\",\"NumStorePurchases\",\"NumStorePurchases\",\"NumStorePurchases\",\"NumStorePurchases\",\"NumStorePurchases\",\"NumStorePurchases\",\"NumStorePurchases\",\"NumStorePurchases\",\"NumStorePurchases\",\"NumStorePurchases\",\"NumStorePurchases\",\"NumStorePurchases\",\"NumStorePurchases\",\"NumStorePurchases\",\"NumStorePurchases\",\"NumStorePurchases\",\"NumStorePurchases\",\"NumStorePurchases\",\"NumStorePurchases\",\"NumStorePurchases\",\"NumStorePurchases\",\"NumStorePurchases\",\"NumStorePurchases\",\"NumStorePurchases\",\"NumStorePurchases\",\"NumStorePurchases\",\"NumStorePurchases\",\"NumStorePurchases\",\"NumStorePurchases\",\"NumStorePurchases\",\"NumStorePurchases\",\"NumStorePurchases\",\"NumStorePurchases\",\"NumStorePurchases\",\"NumStorePurchases\",\"NumStorePurchases\",\"NumStorePurchases\",\"NumStorePurchases\",\"NumStorePurchases\",\"NumStorePurchases\",\"NumStorePurchases\",\"NumStorePurchases\",\"NumStorePurchases\",\"NumStorePurchases\",\"NumStorePurchases\",\"NumStorePurchases\",\"NumStorePurchases\",\"NumStorePurchases\",\"NumStorePurchases\",\"NumStorePurchases\",\"NumStorePurchases\",\"NumStorePurchases\",\"NumStorePurchases\",\"NumStorePurchases\",\"NumStorePurchases\",\"NumStorePurchases\",\"NumStorePurchases\",\"NumStorePurchases\",\"NumStorePurchases\",\"NumStorePurchases\",\"NumStorePurchases\",\"NumStorePurchases\",\"NumStorePurchases\",\"NumStorePurchases\",\"NumStorePurchases\",\"NumStorePurchases\",\"NumStorePurchases\",\"NumStorePurchases\",\"NumStorePurchases\",\"NumStorePurchases\",\"NumStorePurchases\",\"NumStorePurchases\",\"NumStorePurchases\",\"NumStorePurchases\",\"NumStorePurchases\",\"NumStorePurchases\",\"NumStorePurchases\",\"NumStorePurchases\",\"NumStorePurchases\",\"NumStorePurchases\",\"NumStorePurchases\",\"NumStorePurchases\",\"NumStorePurchases\",\"NumStorePurchases\",\"NumStorePurchases\",\"NumStorePurchases\",\"NumStorePurchases\",\"NumStorePurchases\",\"NumStorePurchases\",\"NumStorePurchases\",\"NumStorePurchases\",\"NumStorePurchases\",\"NumStorePurchases\",\"NumStorePurchases\",\"NumStorePurchases\",\"NumStorePurchases\",\"NumStorePurchases\",\"NumStorePurchases\",\"NumStorePurchases\",\"NumStorePurchases\",\"NumStorePurchases\",\"NumStorePurchases\",\"NumStorePurchases\",\"NumStorePurchases\",\"NumStorePurchases\",\"NumStorePurchases\",\"NumStorePurchases\",\"NumStorePurchases\",\"NumStorePurchases\",\"NumStorePurchases\",\"NumStorePurchases\",\"NumStorePurchases\",\"NumStorePurchases\",\"NumStorePurchases\",\"NumStorePurchases\",\"NumStorePurchases\",\"NumStorePurchases\",\"NumStorePurchases\",\"NumStorePurchases\",\"NumStorePurchases\",\"NumStorePurchases\",\"NumStorePurchases\",\"NumStorePurchases\",\"NumStorePurchases\",\"NumStorePurchases\",\"NumStorePurchases\",\"NumStorePurchases\",\"NumStorePurchases\",\"NumStorePurchases\",\"NumStorePurchases\",\"NumStorePurchases\",\"NumStorePurchases\",\"NumStorePurchases\",\"NumStorePurchases\",\"NumStorePurchases\",\"NumStorePurchases\",\"NumStorePurchases\",\"NumStorePurchases\",\"NumStorePurchases\",\"NumStorePurchases\",\"NumStorePurchases\",\"NumStorePurchases\",\"NumStorePurchases\",\"NumStorePurchases\",\"NumStorePurchases\",\"NumStorePurchases\",\"NumStorePurchases\",\"NumStorePurchases\",\"NumStorePurchases\",\"NumStorePurchases\",\"NumStorePurchases\",\"NumStorePurchases\",\"NumStorePurchases\",\"NumStorePurchases\",\"NumStorePurchases\",\"NumStorePurchases\",\"NumStorePurchases\",\"NumStorePurchases\",\"NumStorePurchases\",\"NumStorePurchases\",\"NumStorePurchases\",\"NumStorePurchases\",\"NumStorePurchases\",\"NumStorePurchases\",\"NumStorePurchases\",\"NumStorePurchases\",\"NumStorePurchases\",\"NumStorePurchases\",\"NumStorePurchases\",\"NumStorePurchases\",\"NumStorePurchases\",\"NumStorePurchases\",\"NumStorePurchases\",\"NumStorePurchases\",\"NumStorePurchases\",\"NumStorePurchases\",\"NumStorePurchases\",\"NumStorePurchases\",\"NumStorePurchases\",\"NumStorePurchases\",\"NumStorePurchases\",\"NumStorePurchases\",\"NumStorePurchases\",\"NumStorePurchases\",\"NumStorePurchases\",\"NumStorePurchases\",\"NumStorePurchases\",\"NumStorePurchases\",\"NumStorePurchases\",\"NumStorePurchases\",\"NumStorePurchases\",\"NumStorePurchases\",\"NumStorePurchases\",\"NumStorePurchases\",\"NumStorePurchases\",\"NumStorePurchases\",\"NumStorePurchases\",\"NumStorePurchases\",\"NumStorePurchases\",\"NumStorePurchases\",\"NumStorePurchases\",\"NumStorePurchases\",\"NumStorePurchases\",\"NumStorePurchases\",\"NumStorePurchases\",\"NumStorePurchases\",\"NumStorePurchases\",\"NumStorePurchases\",\"NumStorePurchases\",\"NumStorePurchases\",\"NumStorePurchases\",\"NumStorePurchases\",\"NumStorePurchases\",\"NumStorePurchases\",\"NumStorePurchases\",\"NumStorePurchases\",\"NumStorePurchases\",\"NumStorePurchases\",\"NumStorePurchases\",\"NumStorePurchases\",\"NumStorePurchases\",\"NumStorePurchases\",\"NumStorePurchases\",\"NumStorePurchases\",\"NumStorePurchases\",\"NumStorePurchases\",\"NumStorePurchases\",\"NumStorePurchases\",\"NumStorePurchases\",\"NumStorePurchases\",\"NumStorePurchases\",\"NumStorePurchases\",\"NumStorePurchases\",\"NumStorePurchases\",\"NumStorePurchases\",\"NumStorePurchases\",\"NumStorePurchases\",\"NumStorePurchases\",\"NumStorePurchases\",\"NumStorePurchases\",\"NumStorePurchases\",\"NumStorePurchases\",\"NumStorePurchases\",\"NumStorePurchases\",\"NumStorePurchases\",\"NumStorePurchases\",\"NumStorePurchases\",\"NumStorePurchases\",\"NumStorePurchases\",\"NumStorePurchases\",\"NumStorePurchases\",\"NumStorePurchases\",\"NumStorePurchases\",\"NumStorePurchases\",\"NumStorePurchases\",\"NumStorePurchases\",\"NumStorePurchases\",\"NumStorePurchases\",\"NumStorePurchases\",\"NumStorePurchases\",\"NumStorePurchases\",\"NumStorePurchases\",\"NumStorePurchases\",\"NumStorePurchases\",\"NumStorePurchases\",\"NumStorePurchases\",\"NumStorePurchases\",\"NumStorePurchases\",\"NumStorePurchases\",\"NumStorePurchases\",\"NumStorePurchases\",\"NumStorePurchases\",\"NumStorePurchases\",\"NumStorePurchases\",\"NumStorePurchases\",\"NumStorePurchases\",\"NumStorePurchases\",\"NumStorePurchases\",\"NumStorePurchases\",\"NumStorePurchases\",\"NumStorePurchases\",\"NumStorePurchases\",\"NumStorePurchases\",\"NumStorePurchases\",\"NumStorePurchases\",\"NumStorePurchases\",\"NumStorePurchases\",\"NumStorePurchases\",\"NumStorePurchases\",\"NumStorePurchases\",\"NumStorePurchases\",\"NumStorePurchases\",\"NumStorePurchases\",\"NumStorePurchases\",\"NumStorePurchases\",\"NumStorePurchases\",\"NumStorePurchases\",\"NumStorePurchases\",\"NumStorePurchases\",\"NumStorePurchases\",\"NumStorePurchases\",\"NumStorePurchases\",\"NumStorePurchases\",\"NumStorePurchases\",\"NumStorePurchases\",\"NumStorePurchases\",\"NumStorePurchases\",\"NumStorePurchases\",\"NumStorePurchases\",\"NumStorePurchases\",\"NumStorePurchases\",\"NumStorePurchases\",\"NumStorePurchases\",\"NumStorePurchases\",\"NumStorePurchases\",\"NumStorePurchases\",\"NumStorePurchases\",\"NumStorePurchases\",\"NumStorePurchases\",\"NumStorePurchases\",\"NumStorePurchases\",\"NumStorePurchases\",\"NumStorePurchases\",\"NumStorePurchases\",\"NumStorePurchases\",\"NumStorePurchases\",\"NumStorePurchases\",\"NumStorePurchases\",\"NumStorePurchases\",\"NumStorePurchases\",\"NumStorePurchases\",\"NumStorePurchases\",\"NumStorePurchases\",\"NumStorePurchases\",\"NumStorePurchases\",\"NumStorePurchases\",\"NumStorePurchases\",\"NumStorePurchases\",\"NumStorePurchases\",\"NumStorePurchases\",\"NumStorePurchases\",\"NumStorePurchases\",\"NumStorePurchases\",\"NumStorePurchases\",\"NumStorePurchases\",\"NumStorePurchases\",\"NumStorePurchases\",\"NumStorePurchases\",\"NumStorePurchases\",\"NumStorePurchases\",\"NumStorePurchases\",\"NumStorePurchases\",\"NumStorePurchases\",\"NumStorePurchases\",\"NumStorePurchases\",\"NumStorePurchases\",\"NumStorePurchases\",\"NumStorePurchases\",\"NumStorePurchases\",\"NumStorePurchases\",\"NumStorePurchases\",\"NumStorePurchases\",\"NumStorePurchases\",\"NumStorePurchases\",\"NumStorePurchases\",\"NumStorePurchases\",\"NumStorePurchases\",\"NumStorePurchases\",\"NumStorePurchases\",\"NumStorePurchases\",\"NumStorePurchases\",\"NumStorePurchases\",\"NumStorePurchases\",\"NumStorePurchases\",\"NumStorePurchases\",\"NumStorePurchases\",\"NumStorePurchases\",\"NumStorePurchases\",\"NumStorePurchases\",\"NumStorePurchases\",\"NumStorePurchases\",\"NumStorePurchases\",\"NumStorePurchases\",\"NumStorePurchases\",\"NumStorePurchases\",\"NumStorePurchases\",\"NumStorePurchases\",\"NumStorePurchases\",\"NumStorePurchases\",\"NumStorePurchases\",\"NumStorePurchases\",\"NumStorePurchases\",\"NumStorePurchases\",\"NumStorePurchases\",\"NumStorePurchases\",\"NumStorePurchases\",\"NumStorePurchases\",\"NumStorePurchases\",\"NumStorePurchases\",\"NumStorePurchases\",\"NumStorePurchases\",\"NumStorePurchases\",\"NumStorePurchases\",\"NumStorePurchases\",\"NumStorePurchases\",\"NumStorePurchases\",\"NumStorePurchases\",\"NumStorePurchases\",\"NumStorePurchases\",\"NumStorePurchases\",\"NumStorePurchases\",\"NumStorePurchases\",\"NumStorePurchases\",\"NumStorePurchases\",\"NumStorePurchases\",\"NumStorePurchases\",\"NumStorePurchases\",\"NumStorePurchases\",\"NumStorePurchases\",\"NumStorePurchases\",\"NumStorePurchases\",\"NumStorePurchases\",\"NumStorePurchases\",\"NumStorePurchases\",\"NumStorePurchases\",\"NumStorePurchases\",\"NumStorePurchases\",\"NumStorePurchases\",\"NumStorePurchases\",\"NumStorePurchases\",\"NumStorePurchases\",\"NumStorePurchases\",\"NumStorePurchases\",\"NumStorePurchases\",\"NumStorePurchases\",\"NumStorePurchases\",\"NumStorePurchases\",\"NumStorePurchases\",\"NumStorePurchases\",\"NumStorePurchases\",\"NumStorePurchases\",\"NumStorePurchases\",\"NumStorePurchases\",\"NumStorePurchases\",\"NumStorePurchases\",\"NumStorePurchases\",\"NumStorePurchases\",\"NumStorePurchases\",\"NumStorePurchases\",\"NumStorePurchases\",\"NumStorePurchases\",\"NumStorePurchases\",\"NumStorePurchases\",\"NumStorePurchases\",\"NumStorePurchases\",\"NumStorePurchases\",\"NumStorePurchases\",\"NumStorePurchases\",\"NumStorePurchases\",\"NumStorePurchases\",\"NumStorePurchases\",\"NumStorePurchases\",\"NumStorePurchases\",\"NumStorePurchases\",\"NumStorePurchases\",\"NumStorePurchases\",\"NumStorePurchases\",\"NumStorePurchases\",\"NumStorePurchases\",\"NumStorePurchases\",\"NumStorePurchases\",\"NumStorePurchases\",\"NumStorePurchases\",\"NumStorePurchases\",\"NumStorePurchases\",\"NumStorePurchases\",\"NumStorePurchases\",\"NumStorePurchases\",\"NumStorePurchases\",\"NumStorePurchases\",\"NumStorePurchases\",\"NumStorePurchases\",\"NumStorePurchases\",\"NumStorePurchases\",\"NumStorePurchases\",\"NumStorePurchases\",\"NumStorePurchases\",\"NumStorePurchases\",\"NumStorePurchases\",\"NumStorePurchases\",\"NumStorePurchases\",\"NumStorePurchases\",\"NumStorePurchases\",\"NumStorePurchases\",\"NumStorePurchases\",\"NumStorePurchases\",\"NumStorePurchases\",\"NumStorePurchases\",\"NumStorePurchases\",\"NumStorePurchases\",\"NumStorePurchases\",\"NumStorePurchases\",\"NumStorePurchases\",\"NumStorePurchases\",\"NumStorePurchases\",\"NumStorePurchases\",\"NumStorePurchases\",\"NumStorePurchases\",\"NumStorePurchases\",\"NumStorePurchases\",\"NumStorePurchases\",\"NumStorePurchases\",\"NumStorePurchases\",\"NumStorePurchases\",\"NumStorePurchases\",\"NumStorePurchases\",\"NumStorePurchases\",\"NumStorePurchases\",\"NumStorePurchases\",\"NumStorePurchases\",\"NumStorePurchases\",\"NumStorePurchases\",\"NumStorePurchases\",\"NumStorePurchases\",\"NumStorePurchases\",\"NumStorePurchases\",\"NumStorePurchases\",\"NumStorePurchases\",\"NumStorePurchases\",\"NumStorePurchases\",\"NumStorePurchases\",\"NumStorePurchases\",\"NumStorePurchases\",\"NumStorePurchases\",\"NumStorePurchases\",\"NumStorePurchases\",\"NumStorePurchases\",\"NumStorePurchases\",\"NumStorePurchases\",\"NumStorePurchases\",\"NumStorePurchases\",\"NumStorePurchases\",\"NumStorePurchases\",\"NumStorePurchases\",\"NumStorePurchases\",\"NumStorePurchases\",\"NumStorePurchases\",\"NumStorePurchases\",\"NumStorePurchases\",\"NumStorePurchases\",\"NumStorePurchases\",\"NumStorePurchases\",\"NumStorePurchases\",\"NumStorePurchases\",\"NumStorePurchases\",\"NumStorePurchases\",\"NumStorePurchases\",\"NumStorePurchases\",\"NumStorePurchases\",\"NumStorePurchases\",\"NumStorePurchases\",\"NumStorePurchases\",\"NumStorePurchases\",\"NumStorePurchases\",\"NumStorePurchases\",\"NumStorePurchases\",\"NumStorePurchases\",\"NumStorePurchases\",\"NumStorePurchases\",\"NumStorePurchases\",\"NumStorePurchases\",\"NumStorePurchases\",\"NumStorePurchases\",\"NumStorePurchases\",\"NumStorePurchases\",\"NumStorePurchases\",\"NumStorePurchases\",\"NumStorePurchases\",\"NumStorePurchases\",\"NumStorePurchases\",\"NumStorePurchases\",\"NumStorePurchases\",\"NumStorePurchases\",\"NumStorePurchases\",\"NumStorePurchases\",\"NumStorePurchases\",\"NumStorePurchases\",\"NumStorePurchases\",\"NumStorePurchases\",\"NumStorePurchases\",\"NumStorePurchases\",\"NumStorePurchases\",\"NumStorePurchases\",\"NumStorePurchases\",\"NumStorePurchases\",\"NumStorePurchases\",\"NumStorePurchases\",\"NumStorePurchases\",\"NumStorePurchases\",\"NumStorePurchases\",\"NumStorePurchases\",\"NumStorePurchases\",\"NumStorePurchases\",\"NumStorePurchases\",\"NumStorePurchases\",\"NumStorePurchases\",\"NumStorePurchases\",\"NumStorePurchases\",\"NumStorePurchases\",\"NumStorePurchases\",\"NumStorePurchases\",\"NumStorePurchases\",\"NumStorePurchases\",\"NumStorePurchases\",\"NumStorePurchases\",\"NumStorePurchases\",\"NumStorePurchases\",\"NumStorePurchases\",\"NumStorePurchases\",\"NumStorePurchases\",\"NumStorePurchases\",\"NumStorePurchases\",\"NumStorePurchases\",\"NumStorePurchases\",\"NumStorePurchases\",\"NumStorePurchases\",\"NumStorePurchases\",\"NumStorePurchases\",\"NumStorePurchases\",\"NumStorePurchases\",\"NumStorePurchases\",\"NumStorePurchases\",\"NumStorePurchases\",\"NumStorePurchases\",\"NumStorePurchases\",\"NumStorePurchases\",\"NumStorePurchases\",\"NumStorePurchases\",\"NumStorePurchases\",\"NumStorePurchases\",\"NumStorePurchases\",\"NumStorePurchases\",\"NumStorePurchases\",\"NumStorePurchases\",\"NumStorePurchases\",\"NumStorePurchases\",\"NumStorePurchases\",\"NumStorePurchases\",\"NumStorePurchases\",\"NumStorePurchases\",\"NumStorePurchases\",\"NumStorePurchases\",\"NumStorePurchases\",\"NumStorePurchases\",\"NumStorePurchases\",\"NumStorePurchases\",\"NumStorePurchases\",\"NumStorePurchases\",\"NumStorePurchases\",\"NumStorePurchases\",\"NumStorePurchases\",\"NumStorePurchases\",\"NumStorePurchases\",\"NumStorePurchases\",\"NumStorePurchases\",\"NumStorePurchases\",\"NumStorePurchases\",\"NumStorePurchases\",\"NumStorePurchases\",\"NumStorePurchases\",\"NumStorePurchases\",\"NumStorePurchases\",\"NumStorePurchases\",\"NumStorePurchases\",\"NumStorePurchases\",\"NumStorePurchases\",\"NumStorePurchases\",\"NumStorePurchases\",\"NumStorePurchases\",\"NumStorePurchases\",\"NumStorePurchases\",\"NumStorePurchases\",\"NumStorePurchases\",\"NumStorePurchases\",\"NumStorePurchases\",\"NumStorePurchases\",\"NumStorePurchases\",\"NumStorePurchases\",\"NumStorePurchases\",\"NumStorePurchases\",\"NumStorePurchases\",\"NumStorePurchases\",\"NumStorePurchases\",\"NumStorePurchases\",\"NumStorePurchases\",\"NumStorePurchases\",\"NumStorePurchases\",\"NumStorePurchases\",\"NumStorePurchases\",\"NumStorePurchases\",\"NumStorePurchases\",\"NumStorePurchases\",\"NumStorePurchases\",\"NumStorePurchases\",\"NumStorePurchases\",\"NumStorePurchases\",\"NumStorePurchases\",\"NumStorePurchases\",\"NumStorePurchases\",\"NumStorePurchases\",\"NumStorePurchases\",\"NumStorePurchases\",\"NumStorePurchases\",\"NumStorePurchases\",\"NumStorePurchases\",\"NumStorePurchases\",\"NumStorePurchases\",\"NumStorePurchases\",\"NumStorePurchases\",\"NumStorePurchases\",\"NumStorePurchases\",\"NumStorePurchases\",\"NumStorePurchases\",\"NumStorePurchases\",\"NumStorePurchases\",\"NumStorePurchases\",\"NumStorePurchases\",\"NumStorePurchases\",\"NumStorePurchases\",\"NumStorePurchases\",\"NumStorePurchases\",\"NumStorePurchases\",\"NumStorePurchases\",\"NumStorePurchases\",\"NumStorePurchases\",\"NumStorePurchases\",\"NumStorePurchases\",\"NumStorePurchases\",\"NumStorePurchases\",\"NumStorePurchases\",\"NumStorePurchases\",\"NumStorePurchases\",\"NumStorePurchases\",\"NumStorePurchases\",\"NumStorePurchases\",\"NumStorePurchases\",\"NumStorePurchases\",\"NumStorePurchases\",\"NumStorePurchases\",\"NumStorePurchases\",\"NumStorePurchases\",\"NumStorePurchases\",\"NumStorePurchases\",\"NumStorePurchases\",\"NumStorePurchases\",\"NumStorePurchases\",\"NumStorePurchases\",\"NumStorePurchases\",\"NumStorePurchases\",\"NumStorePurchases\",\"NumStorePurchases\",\"NumStorePurchases\",\"NumStorePurchases\",\"NumStorePurchases\",\"NumStorePurchases\",\"NumStorePurchases\",\"NumStorePurchases\",\"NumStorePurchases\",\"NumStorePurchases\",\"NumStorePurchases\",\"NumStorePurchases\",\"NumStorePurchases\",\"NumStorePurchases\",\"NumStorePurchases\",\"NumStorePurchases\",\"NumStorePurchases\",\"NumStorePurchases\",\"NumStorePurchases\",\"NumStorePurchases\",\"NumStorePurchases\",\"NumStorePurchases\",\"NumStorePurchases\",\"NumStorePurchases\",\"NumStorePurchases\",\"NumStorePurchases\",\"NumStorePurchases\",\"NumStorePurchases\",\"NumStorePurchases\",\"NumStorePurchases\",\"NumStorePurchases\",\"NumStorePurchases\",\"NumStorePurchases\",\"NumStorePurchases\",\"NumStorePurchases\",\"NumStorePurchases\",\"NumStorePurchases\",\"NumStorePurchases\",\"NumStorePurchases\",\"NumStorePurchases\",\"NumStorePurchases\",\"NumStorePurchases\",\"NumStorePurchases\",\"NumStorePurchases\",\"NumStorePurchases\",\"NumStorePurchases\",\"NumStorePurchases\",\"NumStorePurchases\",\"NumStorePurchases\",\"NumStorePurchases\",\"NumStorePurchases\",\"NumStorePurchases\",\"NumStorePurchases\",\"NumStorePurchases\",\"NumStorePurchases\",\"NumStorePurchases\",\"NumStorePurchases\",\"NumStorePurchases\",\"NumStorePurchases\",\"NumStorePurchases\",\"NumStorePurchases\",\"NumStorePurchases\",\"NumStorePurchases\",\"NumStorePurchases\",\"NumStorePurchases\",\"NumStorePurchases\",\"NumStorePurchases\",\"NumStorePurchases\",\"NumStorePurchases\",\"NumStorePurchases\",\"NumStorePurchases\",\"NumStorePurchases\",\"NumStorePurchases\",\"NumStorePurchases\",\"NumStorePurchases\",\"NumStorePurchases\",\"NumStorePurchases\",\"NumStorePurchases\",\"NumStorePurchases\",\"NumStorePurchases\",\"NumStorePurchases\",\"NumStorePurchases\",\"NumStorePurchases\",\"NumStorePurchases\",\"NumStorePurchases\",\"NumStorePurchases\",\"NumStorePurchases\",\"NumStorePurchases\",\"NumStorePurchases\",\"NumStorePurchases\",\"NumStorePurchases\",\"NumStorePurchases\",\"NumStorePurchases\",\"NumStorePurchases\",\"NumStorePurchases\",\"NumStorePurchases\",\"NumStorePurchases\",\"NumStorePurchases\",\"NumStorePurchases\",\"NumStorePurchases\",\"NumStorePurchases\",\"NumStorePurchases\",\"NumStorePurchases\",\"NumStorePurchases\",\"NumStorePurchases\",\"NumStorePurchases\",\"NumStorePurchases\",\"NumStorePurchases\",\"NumStorePurchases\",\"NumStorePurchases\",\"NumStorePurchases\",\"NumStorePurchases\",\"NumStorePurchases\",\"NumStorePurchases\",\"NumStorePurchases\",\"NumStorePurchases\",\"NumStorePurchases\",\"NumStorePurchases\",\"NumStorePurchases\",\"NumStorePurchases\",\"NumStorePurchases\",\"NumStorePurchases\",\"NumStorePurchases\",\"NumStorePurchases\",\"NumStorePurchases\",\"NumStorePurchases\",\"NumStorePurchases\",\"NumStorePurchases\",\"NumStorePurchases\",\"NumStorePurchases\",\"NumStorePurchases\",\"NumStorePurchases\",\"NumStorePurchases\",\"NumStorePurchases\",\"NumStorePurchases\",\"NumStorePurchases\",\"NumStorePurchases\",\"NumStorePurchases\",\"NumStorePurchases\",\"NumStorePurchases\",\"NumStorePurchases\",\"NumStorePurchases\",\"NumStorePurchases\",\"NumStorePurchases\",\"NumStorePurchases\",\"NumStorePurchases\",\"NumStorePurchases\",\"NumStorePurchases\",\"NumStorePurchases\",\"NumStorePurchases\",\"NumStorePurchases\",\"NumStorePurchases\",\"NumStorePurchases\",\"NumStorePurchases\",\"NumStorePurchases\",\"NumStorePurchases\",\"NumStorePurchases\",\"NumStorePurchases\",\"NumStorePurchases\",\"NumStorePurchases\",\"NumStorePurchases\",\"NumStorePurchases\",\"NumStorePurchases\",\"NumStorePurchases\",\"NumStorePurchases\",\"NumStorePurchases\",\"NumStorePurchases\",\"NumStorePurchases\",\"NumStorePurchases\",\"NumStorePurchases\",\"NumStorePurchases\",\"NumStorePurchases\",\"NumStorePurchases\",\"NumStorePurchases\",\"NumStorePurchases\",\"NumStorePurchases\",\"NumStorePurchases\",\"NumStorePurchases\",\"NumStorePurchases\",\"NumStorePurchases\",\"NumStorePurchases\",\"NumStorePurchases\",\"NumStorePurchases\",\"NumStorePurchases\",\"NumStorePurchases\",\"NumStorePurchases\",\"NumStorePurchases\",\"NumStorePurchases\",\"NumStorePurchases\",\"NumStorePurchases\",\"NumStorePurchases\",\"NumStorePurchases\",\"NumStorePurchases\",\"NumStorePurchases\",\"NumStorePurchases\",\"NumStorePurchases\",\"NumStorePurchases\",\"NumStorePurchases\",\"NumStorePurchases\",\"NumStorePurchases\",\"NumStorePurchases\",\"NumStorePurchases\",\"NumStorePurchases\",\"NumStorePurchases\",\"NumStorePurchases\",\"NumStorePurchases\",\"NumStorePurchases\",\"NumStorePurchases\",\"NumStorePurchases\",\"NumStorePurchases\",\"NumStorePurchases\",\"NumStorePurchases\",\"NumStorePurchases\",\"NumStorePurchases\",\"NumStorePurchases\",\"NumStorePurchases\",\"NumStorePurchases\",\"NumStorePurchases\",\"NumStorePurchases\",\"NumStorePurchases\",\"NumStorePurchases\",\"NumStorePurchases\",\"NumStorePurchases\",\"NumStorePurchases\",\"NumStorePurchases\",\"NumStorePurchases\",\"NumStorePurchases\",\"NumStorePurchases\",\"NumStorePurchases\",\"NumStorePurchases\",\"NumStorePurchases\",\"NumStorePurchases\",\"NumStorePurchases\",\"NumStorePurchases\",\"NumStorePurchases\",\"NumStorePurchases\",\"NumStorePurchases\",\"NumStorePurchases\",\"NumStorePurchases\",\"NumStorePurchases\",\"NumStorePurchases\",\"NumStorePurchases\",\"NumStorePurchases\",\"NumStorePurchases\",\"NumStorePurchases\",\"NumStorePurchases\",\"NumStorePurchases\",\"NumStorePurchases\",\"NumStorePurchases\",\"NumStorePurchases\",\"NumStorePurchases\",\"NumStorePurchases\",\"NumStorePurchases\",\"NumStorePurchases\",\"NumStorePurchases\",\"NumStorePurchases\",\"NumStorePurchases\",\"NumStorePurchases\",\"NumStorePurchases\",\"NumStorePurchases\",\"NumStorePurchases\",\"NumStorePurchases\",\"NumStorePurchases\",\"NumStorePurchases\",\"NumStorePurchases\",\"NumStorePurchases\",\"NumStorePurchases\",\"NumStorePurchases\",\"NumStorePurchases\",\"NumStorePurchases\",\"NumStorePurchases\",\"NumStorePurchases\",\"NumStorePurchases\",\"NumStorePurchases\",\"NumStorePurchases\",\"NumStorePurchases\",\"NumStorePurchases\",\"NumStorePurchases\",\"NumStorePurchases\",\"NumStorePurchases\",\"NumStorePurchases\",\"NumStorePurchases\",\"NumStorePurchases\",\"NumStorePurchases\",\"NumStorePurchases\",\"NumStorePurchases\",\"NumStorePurchases\",\"NumStorePurchases\",\"NumStorePurchases\",\"NumStorePurchases\",\"NumStorePurchases\",\"NumStorePurchases\",\"NumStorePurchases\",\"NumStorePurchases\",\"NumStorePurchases\",\"NumStorePurchases\",\"NumStorePurchases\",\"NumStorePurchases\",\"NumStorePurchases\",\"NumStorePurchases\",\"NumStorePurchases\",\"NumStorePurchases\",\"NumStorePurchases\",\"NumStorePurchases\",\"NumStorePurchases\",\"NumStorePurchases\",\"NumStorePurchases\",\"NumStorePurchases\",\"NumStorePurchases\",\"NumStorePurchases\",\"NumStorePurchases\",\"NumStorePurchases\",\"NumStorePurchases\",\"NumStorePurchases\",\"NumStorePurchases\",\"NumStorePurchases\",\"NumStorePurchases\",\"NumStorePurchases\",\"NumStorePurchases\",\"NumStorePurchases\",\"NumStorePurchases\",\"NumStorePurchases\",\"NumStorePurchases\",\"NumStorePurchases\",\"NumStorePurchases\",\"NumStorePurchases\",\"NumStorePurchases\",\"NumStorePurchases\",\"NumStorePurchases\",\"NumStorePurchases\",\"NumStorePurchases\",\"NumStorePurchases\",\"NumStorePurchases\",\"NumStorePurchases\",\"NumStorePurchases\",\"NumStorePurchases\",\"NumStorePurchases\",\"NumStorePurchases\",\"NumStorePurchases\",\"NumStorePurchases\",\"NumStorePurchases\",\"NumStorePurchases\",\"NumStorePurchases\",\"NumStorePurchases\",\"NumStorePurchases\",\"NumStorePurchases\",\"NumStorePurchases\",\"NumStorePurchases\",\"NumStorePurchases\",\"NumStorePurchases\",\"NumStorePurchases\",\"NumStorePurchases\",\"NumStorePurchases\",\"NumStorePurchases\",\"NumStorePurchases\",\"NumStorePurchases\",\"NumStorePurchases\",\"NumStorePurchases\",\"NumStorePurchases\",\"NumStorePurchases\",\"NumStorePurchases\",\"NumStorePurchases\",\"NumStorePurchases\",\"NumStorePurchases\",\"NumStorePurchases\",\"NumStorePurchases\",\"NumStorePurchases\",\"NumStorePurchases\",\"NumStorePurchases\",\"NumStorePurchases\",\"NumStorePurchases\",\"NumStorePurchases\",\"NumStorePurchases\",\"NumStorePurchases\",\"NumStorePurchases\",\"NumStorePurchases\",\"NumStorePurchases\",\"NumStorePurchases\",\"NumStorePurchases\",\"NumStorePurchases\",\"NumStorePurchases\",\"NumStorePurchases\",\"NumStorePurchases\",\"NumStorePurchases\",\"NumStorePurchases\",\"NumStorePurchases\",\"NumStorePurchases\",\"NumStorePurchases\",\"NumStorePurchases\",\"NumStorePurchases\",\"NumStorePurchases\",\"NumStorePurchases\",\"NumStorePurchases\",\"NumStorePurchases\",\"NumStorePurchases\",\"NumStorePurchases\",\"NumStorePurchases\",\"NumStorePurchases\",\"NumStorePurchases\",\"NumStorePurchases\",\"NumStorePurchases\",\"NumStorePurchases\",\"NumStorePurchases\",\"NumStorePurchases\",\"NumStorePurchases\",\"NumStorePurchases\",\"NumStorePurchases\",\"NumStorePurchases\",\"NumStorePurchases\",\"NumStorePurchases\",\"NumStorePurchases\",\"NumStorePurchases\",\"NumStorePurchases\",\"NumStorePurchases\",\"NumStorePurchases\",\"NumStorePurchases\",\"NumStorePurchases\",\"NumStorePurchases\",\"NumStorePurchases\",\"NumStorePurchases\",\"NumStorePurchases\",\"NumStorePurchases\",\"NumStorePurchases\",\"NumStorePurchases\",\"NumStorePurchases\",\"NumStorePurchases\",\"NumStorePurchases\",\"NumStorePurchases\",\"NumStorePurchases\",\"NumStorePurchases\",\"NumStorePurchases\",\"NumStorePurchases\",\"NumStorePurchases\",\"NumStorePurchases\",\"NumStorePurchases\",\"NumStorePurchases\",\"NumStorePurchases\",\"NumStorePurchases\",\"NumStorePurchases\",\"NumStorePurchases\",\"NumStorePurchases\",\"NumStorePurchases\",\"NumStorePurchases\",\"NumStorePurchases\",\"NumStorePurchases\",\"NumStorePurchases\",\"NumStorePurchases\",\"NumStorePurchases\",\"NumStorePurchases\",\"NumStorePurchases\",\"NumStorePurchases\",\"NumStorePurchases\",\"NumStorePurchases\",\"NumStorePurchases\",\"NumStorePurchases\",\"NumStorePurchases\",\"NumStorePurchases\",\"NumStorePurchases\",\"NumStorePurchases\",\"NumStorePurchases\",\"NumStorePurchases\",\"NumStorePurchases\",\"NumStorePurchases\",\"NumStorePurchases\",\"NumStorePurchases\",\"NumStorePurchases\",\"NumStorePurchases\",\"NumStorePurchases\",\"NumStorePurchases\",\"NumStorePurchases\",\"NumStorePurchases\",\"NumStorePurchases\",\"NumStorePurchases\",\"NumStorePurchases\",\"NumStorePurchases\",\"NumStorePurchases\",\"NumStorePurchases\",\"NumStorePurchases\",\"NumStorePurchases\",\"NumStorePurchases\",\"NumStorePurchases\",\"NumStorePurchases\",\"NumStorePurchases\",\"NumStorePurchases\",\"NumStorePurchases\",\"NumStorePurchases\",\"NumStorePurchases\",\"NumStorePurchases\",\"NumStorePurchases\",\"NumStorePurchases\",\"NumStorePurchases\",\"NumStorePurchases\",\"NumStorePurchases\",\"NumStorePurchases\",\"NumStorePurchases\",\"NumStorePurchases\",\"NumStorePurchases\",\"NumStorePurchases\",\"NumStorePurchases\",\"NumStorePurchases\",\"NumStorePurchases\",\"NumStorePurchases\",\"NumStorePurchases\",\"NumStorePurchases\",\"NumStorePurchases\",\"NumStorePurchases\",\"NumStorePurchases\",\"NumStorePurchases\",\"NumStorePurchases\",\"NumStorePurchases\",\"NumStorePurchases\",\"NumStorePurchases\",\"NumStorePurchases\",\"NumStorePurchases\",\"NumStorePurchases\",\"NumStorePurchases\",\"NumStorePurchases\",\"NumStorePurchases\",\"NumStorePurchases\",\"NumStorePurchases\",\"NumStorePurchases\",\"NumStorePurchases\",\"NumStorePurchases\",\"NumStorePurchases\",\"NumStorePurchases\",\"NumStorePurchases\",\"NumStorePurchases\",\"NumStorePurchases\",\"NumStorePurchases\",\"NumStorePurchases\",\"NumStorePurchases\",\"NumStorePurchases\",\"NumStorePurchases\",\"NumStorePurchases\",\"NumStorePurchases\",\"NumStorePurchases\",\"NumStorePurchases\",\"NumStorePurchases\",\"NumStorePurchases\",\"NumStorePurchases\",\"NumStorePurchases\",\"NumStorePurchases\",\"NumStorePurchases\",\"NumStorePurchases\",\"NumStorePurchases\",\"NumStorePurchases\",\"NumStorePurchases\",\"NumStorePurchases\",\"NumStorePurchases\",\"NumStorePurchases\",\"NumStorePurchases\",\"NumStorePurchases\",\"NumStorePurchases\",\"NumStorePurchases\",\"NumStorePurchases\",\"NumStorePurchases\",\"NumStorePurchases\",\"NumStorePurchases\",\"NumStorePurchases\",\"NumStorePurchases\",\"NumStorePurchases\",\"NumStorePurchases\",\"NumStorePurchases\",\"NumStorePurchases\",\"NumStorePurchases\",\"NumStorePurchases\",\"NumStorePurchases\",\"NumStorePurchases\",\"NumStorePurchases\",\"NumStorePurchases\",\"NumStorePurchases\",\"NumStorePurchases\",\"NumStorePurchases\",\"NumStorePurchases\",\"NumStorePurchases\",\"NumStorePurchases\",\"NumStorePurchases\",\"NumStorePurchases\",\"NumStorePurchases\",\"NumStorePurchases\",\"NumStorePurchases\",\"NumStorePurchases\",\"NumStorePurchases\",\"NumStorePurchases\",\"NumStorePurchases\",\"NumStorePurchases\",\"NumStorePurchases\",\"NumStorePurchases\",\"NumStorePurchases\",\"NumStorePurchases\",\"NumStorePurchases\",\"NumStorePurchases\",\"NumStorePurchases\",\"NumStorePurchases\",\"NumStorePurchases\",\"NumStorePurchases\",\"NumStorePurchases\",\"NumStorePurchases\",\"NumStorePurchases\",\"NumStorePurchases\",\"NumStorePurchases\",\"NumStorePurchases\",\"NumStorePurchases\",\"NumStorePurchases\",\"NumStorePurchases\",\"NumStorePurchases\",\"NumStorePurchases\",\"NumStorePurchases\",\"NumStorePurchases\",\"NumStorePurchases\",\"NumStorePurchases\",\"NumStorePurchases\",\"NumStorePurchases\",\"NumStorePurchases\",\"NumStorePurchases\",\"NumStorePurchases\",\"NumStorePurchases\",\"NumStorePurchases\",\"NumStorePurchases\",\"NumStorePurchases\",\"NumStorePurchases\",\"NumStorePurchases\",\"NumStorePurchases\",\"NumStorePurchases\",\"NumStorePurchases\",\"NumStorePurchases\",\"NumStorePurchases\",\"NumStorePurchases\",\"NumStorePurchases\",\"NumStorePurchases\",\"NumStorePurchases\",\"NumStorePurchases\",\"NumStorePurchases\",\"NumStorePurchases\",\"NumStorePurchases\",\"NumStorePurchases\",\"NumStorePurchases\",\"NumStorePurchases\",\"NumStorePurchases\",\"NumStorePurchases\",\"NumStorePurchases\",\"NumStorePurchases\",\"NumStorePurchases\",\"NumStorePurchases\",\"NumStorePurchases\",\"NumStorePurchases\",\"NumStorePurchases\",\"NumStorePurchases\",\"NumStorePurchases\",\"NumStorePurchases\",\"NumStorePurchases\",\"NumStorePurchases\",\"NumStorePurchases\",\"NumStorePurchases\",\"NumStorePurchases\",\"NumStorePurchases\",\"NumStorePurchases\",\"NumStorePurchases\",\"NumStorePurchases\",\"NumStorePurchases\",\"NumStorePurchases\",\"NumStorePurchases\",\"NumStorePurchases\",\"NumStorePurchases\",\"NumStorePurchases\",\"NumStorePurchases\",\"NumStorePurchases\",\"NumStorePurchases\",\"NumStorePurchases\",\"NumStorePurchases\",\"NumStorePurchases\",\"NumStorePurchases\",\"NumStorePurchases\",\"NumStorePurchases\",\"NumStorePurchases\",\"NumStorePurchases\",\"NumStorePurchases\",\"NumStorePurchases\",\"NumStorePurchases\",\"NumStorePurchases\",\"NumStorePurchases\",\"NumStorePurchases\",\"NumStorePurchases\",\"NumStorePurchases\",\"NumStorePurchases\",\"NumStorePurchases\",\"NumStorePurchases\",\"NumStorePurchases\",\"NumStorePurchases\",\"NumStorePurchases\",\"NumStorePurchases\",\"NumStorePurchases\",\"NumStorePurchases\",\"NumStorePurchases\",\"NumStorePurchases\",\"NumStorePurchases\",\"NumStorePurchases\",\"NumStorePurchases\",\"NumStorePurchases\",\"NumStorePurchases\",\"NumStorePurchases\",\"NumStorePurchases\",\"NumStorePurchases\",\"NumStorePurchases\",\"NumStorePurchases\",\"NumStorePurchases\",\"NumStorePurchases\",\"NumStorePurchases\",\"NumStorePurchases\",\"NumStorePurchases\",\"NumStorePurchases\",\"NumStorePurchases\",\"NumStorePurchases\",\"NumStorePurchases\",\"NumStorePurchases\",\"NumStorePurchases\",\"NumStorePurchases\",\"NumStorePurchases\",\"NumStorePurchases\",\"NumStorePurchases\",\"NumStorePurchases\",\"NumStorePurchases\",\"NumStorePurchases\",\"NumStorePurchases\",\"NumStorePurchases\",\"NumStorePurchases\",\"NumStorePurchases\",\"NumStorePurchases\",\"NumStorePurchases\",\"NumStorePurchases\",\"NumStorePurchases\",\"NumStorePurchases\",\"NumStorePurchases\",\"NumStorePurchases\",\"NumStorePurchases\",\"NumStorePurchases\",\"NumStorePurchases\",\"NumStorePurchases\",\"NumStorePurchases\",\"NumStorePurchases\",\"NumStorePurchases\",\"NumStorePurchases\",\"NumStorePurchases\",\"NumStorePurchases\",\"NumStorePurchases\",\"NumStorePurchases\",\"NumStorePurchases\",\"NumStorePurchases\",\"NumStorePurchases\",\"NumStorePurchases\",\"NumStorePurchases\",\"NumStorePurchases\",\"NumStorePurchases\",\"NumStorePurchases\",\"NumStorePurchases\",\"NumStorePurchases\",\"NumStorePurchases\",\"NumStorePurchases\",\"NumStorePurchases\",\"NumStorePurchases\",\"NumStorePurchases\",\"NumStorePurchases\",\"NumStorePurchases\",\"NumStorePurchases\",\"NumStorePurchases\",\"NumStorePurchases\",\"NumStorePurchases\",\"NumStorePurchases\",\"NumStorePurchases\",\"NumStorePurchases\",\"NumStorePurchases\",\"NumStorePurchases\",\"NumStorePurchases\",\"NumStorePurchases\",\"NumStorePurchases\",\"NumStorePurchases\",\"NumStorePurchases\",\"NumStorePurchases\",\"NumStorePurchases\",\"NumStorePurchases\",\"NumStorePurchases\",\"NumStorePurchases\",\"NumStorePurchases\",\"NumStorePurchases\",\"NumStorePurchases\",\"NumStorePurchases\",\"NumStorePurchases\",\"NumStorePurchases\",\"NumStorePurchases\",\"NumStorePurchases\",\"NumStorePurchases\",\"NumStorePurchases\",\"NumStorePurchases\",\"NumStorePurchases\",\"NumStorePurchases\",\"NumStorePurchases\",\"NumStorePurchases\",\"NumStorePurchases\",\"NumStorePurchases\",\"NumStorePurchases\",\"NumStorePurchases\",\"NumStorePurchases\",\"NumStorePurchases\",\"NumStorePurchases\",\"NumStorePurchases\",\"NumStorePurchases\",\"NumStorePurchases\",\"NumStorePurchases\",\"NumStorePurchases\",\"NumStorePurchases\",\"NumStorePurchases\",\"NumStorePurchases\",\"NumStorePurchases\",\"NumStorePurchases\",\"NumStorePurchases\",\"NumStorePurchases\",\"NumStorePurchases\",\"NumStorePurchases\",\"NumStorePurchases\",\"NumStorePurchases\",\"NumStorePurchases\",\"NumStorePurchases\",\"NumStorePurchases\",\"NumStorePurchases\",\"NumStorePurchases\",\"NumStorePurchases\",\"NumStorePurchases\",\"NumStorePurchases\",\"NumStorePurchases\",\"NumStorePurchases\",\"NumStorePurchases\",\"NumStorePurchases\",\"NumStorePurchases\",\"NumStorePurchases\",\"NumStorePurchases\",\"NumStorePurchases\",\"NumStorePurchases\",\"NumStorePurchases\",\"NumStorePurchases\",\"NumStorePurchases\",\"NumStorePurchases\",\"NumStorePurchases\",\"NumStorePurchases\",\"NumStorePurchases\",\"NumStorePurchases\",\"NumStorePurchases\",\"NumStorePurchases\",\"NumStorePurchases\",\"NumStorePurchases\",\"NumStorePurchases\",\"NumStorePurchases\",\"NumStorePurchases\",\"NumStorePurchases\",\"NumStorePurchases\",\"NumStorePurchases\",\"NumStorePurchases\",\"NumStorePurchases\",\"NumStorePurchases\",\"NumStorePurchases\",\"NumStorePurchases\",\"NumStorePurchases\",\"NumStorePurchases\",\"NumStorePurchases\",\"NumStorePurchases\",\"NumStorePurchases\",\"NumStorePurchases\",\"NumStorePurchases\",\"NumStorePurchases\",\"NumStorePurchases\",\"NumStorePurchases\",\"NumStorePurchases\",\"NumStorePurchases\",\"NumStorePurchases\",\"NumStorePurchases\",\"NumStorePurchases\",\"NumStorePurchases\",\"NumStorePurchases\",\"NumStorePurchases\",\"NumStorePurchases\",\"NumStorePurchases\",\"NumStorePurchases\",\"NumStorePurchases\",\"NumStorePurchases\",\"NumStorePurchases\",\"NumStorePurchases\",\"NumStorePurchases\",\"NumStorePurchases\",\"NumStorePurchases\",\"NumStorePurchases\",\"NumStorePurchases\",\"NumStorePurchases\",\"NumStorePurchases\",\"NumStorePurchases\",\"NumStorePurchases\",\"NumStorePurchases\",\"NumStorePurchases\",\"NumStorePurchases\",\"NumStorePurchases\",\"NumStorePurchases\",\"NumStorePurchases\",\"NumStorePurchases\",\"NumStorePurchases\",\"NumStorePurchases\",\"NumStorePurchases\",\"NumStorePurchases\",\"NumStorePurchases\",\"NumStorePurchases\",\"NumStorePurchases\",\"NumStorePurchases\",\"NumStorePurchases\",\"NumStorePurchases\",\"NumStorePurchases\",\"NumStorePurchases\",\"NumStorePurchases\",\"NumStorePurchases\",\"NumStorePurchases\",\"NumStorePurchases\",\"NumStorePurchases\",\"NumStorePurchases\",\"NumStorePurchases\",\"NumStorePurchases\",\"NumStorePurchases\",\"NumStorePurchases\",\"NumStorePurchases\",\"NumStorePurchases\",\"NumStorePurchases\",\"NumStorePurchases\",\"NumStorePurchases\",\"NumStorePurchases\",\"NumStorePurchases\",\"NumStorePurchases\",\"NumStorePurchases\",\"NumStorePurchases\",\"NumStorePurchases\",\"NumStorePurchases\",\"NumStorePurchases\",\"NumStorePurchases\",\"NumStorePurchases\",\"NumStorePurchases\",\"NumStorePurchases\",\"NumStorePurchases\",\"NumStorePurchases\",\"NumStorePurchases\",\"NumStorePurchases\",\"NumStorePurchases\",\"NumStorePurchases\",\"NumStorePurchases\",\"NumStorePurchases\",\"NumStorePurchases\",\"NumStorePurchases\",\"NumStorePurchases\",\"NumStorePurchases\",\"NumStorePurchases\",\"NumStorePurchases\",\"NumStorePurchases\",\"NumStorePurchases\",\"NumStorePurchases\",\"NumStorePurchases\",\"NumStorePurchases\",\"NumStorePurchases\",\"NumStorePurchases\",\"NumStorePurchases\",\"NumStorePurchases\",\"NumStorePurchases\",\"NumStorePurchases\",\"NumStorePurchases\",\"NumStorePurchases\",\"NumStorePurchases\",\"NumStorePurchases\",\"NumStorePurchases\",\"NumStorePurchases\",\"NumStorePurchases\",\"NumStorePurchases\",\"NumStorePurchases\"],\"value\":[9,7,2,3,7,4,5,4,7,3,3,2,9,4,3,5,2,3,4,4,3,8,4,5,4,11,3,5,5,8,6,11,5,2,3,4,7,7,9,3,10,4,3,10,2,4,9,11,7,4,8,7,3,9,3,7,3,4,3,5,6,11,3,5,9,10,3,6,6,5,8,5,6,2,5,6,11,10,9,3,3,11,6,11,11,4,2,3,11,4,3,8,13,10,10,6,4,9,3,2,7,4,2,10,9,13,4,6,13,9,7,4,3,4,7,2,7,6,4,12,2,3,7,10,2,2,3,5,3,2,6,8,8,11,6,11,3,5,4,3,9,8,5,4,3,8,3,3,2,4,11,13,12,4,10,3,5,4,11,10,9,10,3,10,7,2,2,10,4,4,3,7,3,2,2,2,7,3,7,4,5,2,3,4,5,7,11,9,4,5,8,3,3,7,11,12,13,3,10,3,7,5,3,10,6,8,4,4,4,7,3,3,5,13,3,4,9,5,2,4,3,10,2,5,7,4,4,7,5,9,3,7,4,4,3,11,7,10,4,12,6,3,2,3,2,10,11,6,7,8,8,3,12,3,10,10,4,7,4,3,3,9,3,13,6,3,13,5,8,6,9,5,6,4,5,2,2,3,9,6,3,3,5,3,5,4,3,9,12,4,13,12,3,5,3,2,3,8,7,5,1,3,1,4,4,12,3,3,7,3,4,5,8,10,5,10,10,4,2,5,5,5,6,2,3,8,6,2,9,4,8,7,4,3,12,3,2,6,8,5,13,4,3,4,2,10,4,4,5,2,9,4,10,5,7,3,3,12,2,6,4,4,3,4,2,5,6,4,3,3,2,5,9,12,6,6,3,3,5,3,2,7,8,9,6,10,2,3,3,8,3,8,9,2,3,5,5,4,9,13,8,2,4,3,9,7,10,12,2,3,10,12,4,8,8,3,6,8,3,11,4,3,4,4,10,2,3,2,6,7,6,4,3,8,7,5,3,4,4,4,5,3,3,2,5,11,3,2,5,3,3,13,2,12,5,2,6,11,4,3,8,8,4,3,5,4,3,4,8,7,9,8,5,9,13,4,8,3,12,3,3,5,12,5,3,3,6,4,3,8,10,10,2,2,2,9,6,3,8,3,4,4,3,6,2,12,3,4,10,3,7,8,9,3,3,4,8,12,12,6,2,7,6,4,3,2,2,4,11,6,6,6,3,13,12,2,3,5,3,10,2,2,6,10,11,4,5,6,7,13,2,9,10,7,2,7,4,3,3,3,8,10,2,12,4,2,10,3,6,3,13,8,7,9,10,4,8,5,3,6,4,8,11,8,4,10,9,3,9,4,4,3,5,3,4,4,6,2,5,9,3,2,9,8,3,3,6,8,5,5,4,3,7,6,9,4,3,4,7,12,2,5,8,4,3,12,7,3,5,2,3,4,11,6,10,3,2,3,6,4,7,3,10,8,10,4,5,3,11,4,13,3,4,8,3,3,5,8,12,3,9,4,4,4,7,4,9,5,6,3,6,4,4,5,13,12,7,4,9,9,4,13,7,10,6,10,3,5,10,13,3,9,3,12,8,9,6,5,4,3,2,7,8,2,2,3,5,3,4,3,5,3,11,3,5,5,6,5,9,12,12,8,4,8,3,2,3,8,3,6,4,4,8,3,11,11,7,10,3,4,8,2,2,10,6,6,3,9,2,9,3,12,11,8,8,12,3,4,2,3,11,9,13,3,7,11,3,4,3,12,2,13,13,2,13,13,3,2,3,3,9,6,12,8,4,12,6,8,4,0,13,12,2,5,8,5,12,5,2,2,4,9,4,3,8,8,2,4,7,11,2,4,5,5,6,4,4,3,3,4,13,3,4,4,11,7,2,4,7,10,6,6,8,4,3,5,3,4,3,6,8,11,3,9,3,3,2,1,9,6,2,12,4,6,6,3,6,2,3,2,5,2,1,5,12,10,7,3,3,11,3,3,12,2,2,5,4,6,4,3,3,6,3,12,9,12,7,12,8,3,12,6,12,3,4,5,6,5,3,6,3,4,3,9,10,6,5,6,4,10,10,9,8,5,11,10,6,9,3,3,3,3,8,2,9,7,13,7,10,7,13,6,13,0,9,13,4,12,4,5,4,4,5,8,12,8,13,9,8,2,5,7,4,3,4,4,4,9,11,6,4,11,4,7,6,11,12,5,5,3,3,2,2,9,5,2,13,2,5,2,10,3,3,8,4,3,3,13,12,3,0,3,6,9,7,12,9,5,4,4,5,4,2,9,4,8,2,13,4,3,4,3,3,4,3,11,3,5,7,2,2,10,2,4,11,2,3,11,3,4,3,13,7,3,2,5,5,8,6,5,3,11,8,3,12,13,3,11,3,12,7,3,6,4,2,2,5,9,5,6,7,5,3,3,3,5,3,8,3,4,11,3,4,0,3,3,4,3,5,4,4,3,2,5,4,13,2,5,9,3,4,5,4,4,6,3,7,7,1,4,3,3,10,6,2,0,5,5,3,4,13,7,2,4,4,8,6,12,3,4,12,4,5,2,6,8,3,2,4,4,3,5,3,4,6,11,5,5,6,5,0,4,10,6,2,3,10,9,12,3,5,2,9,10,8,6,3,6,7,3,4,7,3,11,3,12,3,4,6,6,5,4,3,4,10,2,6,3,3,13,5,9,4,3,7,13,8,4,4,2,3,10,5,13,4,6,8,2,10,7,8,4,3,6,10,7,4,5,6,0,2,8,5,3,8,3,5,4,8,4,5,3,6,3,3,4,4,11,4,5,10,2,5,7,11,13,8,4,11,6,12,6,3,3,2,8,5,5,2,2,11,4,11,4,4,8,3,9,3,13,12,3,3,3,2,7,3,4,10,1,8,8,11,8,7,7,13,10,8,4,3,6,5,9,2,4,10,5,4,12,4,13,13,10,6,4,3,7,3,6,2,4,7,3,4,8,2,3,3,11,3,3,6,10,7,13,9,5,3,7,3,3,8,6,12,3,11,4,4,2,5,3,4,3,2,8,9,2,3,4,11,9,12,3,7,6,6,10,3,8,8,3,3,7,4,3,9,5,12,12,4,3,4,3,3,3,13,4,11,4,5,7,3,11,3,2,6,3,2,8,6,8,5,2,11,3,3,0,3,3,7,8,5,6,3,8,6,10,4,12,3,3,5,4,5,12,3,2,11,3,2,2,10,5,5,13,9,3,8,6,12,10,8,2,12,2,7,4,5,13,4,12,3,8,2,8,11,8,4,12,3,13,10,10,5,6,6,4,2,13,2,10,3,10,3,2,4,10,3,3,5,13,2,7,3,6,4,4,6,9,3,5,2,13,10,4,4,4,2,2,12,3,7,3,11,4,3,3,4,12,5,3,6,11,3,6,4,6,6,7,3,3,12,9,4,6,3,4,3,7,5,8,5,4,4,12,3,10,9,4,3,4,10,4,13,4,5,8,9,2,4,3,11,3,4,4,4,8,2,3,4,3,5,6,5,2,5,4,3,10,12,2,3,12,4,4,3,5,10,5,6,7,10,7,2,4,4,4,12,3,10,3,7,5,11,5,8,5,2,7,3,3,13,11,6,6,7,13,13,3,4,3,2,8,10,6,3,10,3,3,5,13,4,11,9,6,3,2,5,4,9,3,5,7,4,10,5,3,3,2,3,6,6,5,8,3,4,5,2,3,12,3,3,3,7,4,5,3,4,9,3,8,4,3,3,3,7,2,10,2,7,2,5,4,3,7,3,7,2,8,4,2,2,5,6,2,6,2,3,6,5,12,2,8,5,4,3,3,4,10,3,8,4,3,2,2,2,0,3,4,10,7,3,3,3,6,13,7,4,10,3,3,7,7,2,8,7,5,3,3,5,11,3,10,3,10,3,3,12,3,6,11,2,6,3,8,10,5,3,3,4,8,1,10,3,4,9,10,3,10,2,2,9,6,3,3,8,9,7,7,4,5,4,3,5,4,3,11,7,5,5,4,5,12,7,5,6,9,3,12,7,10,10,6,4,12,4,10,3,2,5,3,11,7,2,3,10,8,10,3,12,5,7,4,3,2,3,8,7,9,6,2,4,6,4,10,12,12,5,3,6,12,13,13,2,6,6,3,5,5,2,4,8,9,6,12,9,3,9,6,9,3,12,4,2,3,7,8,0,13,6,3,7,10,3,11,4,5,7,5,10,6,10,10,6,2,2,6,4,4,4,3,3,11,9,2,7,3,9,6,3,8,6,3,8,6,7,8,5,13,5,10,3,9,2,3,3,13,8,4,2,7,3,4,13,9,6,3,3,6,3,10,4,3,5,4,2,3,6,8,12,3,2,3,11,7,13,2,4,7,2,3,3,2,8,5,12,10,5,13,4,8,12,10,12,10,4,3,3,13,4,3,7,12,3,10,3,3,4,3,13,0,12,6,4,6,5,4,9,2,8,7,6,8,3,8,2,5,4,2,13,9,3,2,2,4,3,3,6,9,12,4,2,2,2,13,6,5,10,13,5,2,6,4,12,12,12,4,3,11,4,3,7,12,7,6,9,3,7,5,11,3,8,8,8,3,2,3,3,7,3,6,2,4,8,2,3,5,3,2,3,3,7,13,13,2,8,0,4,5,11,5,4,5,5,8,3,2,3,2,5,9,3,2,10,3,5,3,2,3,3,3,12,3,9,4,3,7,5,3,4,9,3,9,6,5,2,6,5,8,9,4,3,4,7,7,3,6,5,5,2,6,3,3,12,7,6,3,13,4,4,12,8,10,4,3,3,4,4,4,3,7,3,3,8,3,4,3,3,11,6,6,2,4,5,10,5,5,7,10,3,12,2,2,3,12,7,2,9,3,2,12,3,13,2,5,3,5,5,0,2,2,8,12,13,3,3,3,2,3,3,3,13,5,2,4,6,13,3,3,8,8,3,8,3,7,9,10,4,11,6,6,12,6,4,5,2,3,11,7,4,8,8,4,13,4,6,3,6,10,13,4,11,4,3,2,3,3,6,3,2,3,4,10,10,6,10,5,7,3,4,3,3,7,3,8,0,8,3,3,6,2,4,5,7,3,0,3,3,4]},\"selected\":{\"id\":\"2205\"},\"selection_policy\":{\"id\":\"2223\"}},\"id\":\"2204\",\"type\":\"ColumnDataSource\"},{\"attributes\":{},\"id\":\"2179\",\"type\":\"BasicTickFormatter\"},{\"attributes\":{},\"id\":\"2205\",\"type\":\"Selection\"},{\"attributes\":{\"end\":1556.9857142857143,\"reset_end\":1556.9857142857143,\"reset_start\":-63.98571428571429,\"start\":-63.98571428571429,\"tags\":[[[\"MntWines\",\"MntWines\",null]]]},\"id\":\"2143\",\"type\":\"Range1d\"},{\"attributes\":{},\"id\":\"2166\",\"type\":\"WheelZoomTool\"},{\"attributes\":{},\"id\":\"2200\",\"type\":\"UnionRenderers\"},{\"attributes\":{\"axis_label\":\"MntWines\",\"formatter\":{\"id\":\"2179\"},\"major_label_policy\":{\"id\":\"2178\"},\"ticker\":{\"id\":\"2157\"}},\"id\":\"2156\",\"type\":\"LinearAxis\"},{\"attributes\":{},\"id\":\"2164\",\"type\":\"SaveTool\"},{\"attributes\":{\"fill_alpha\":{\"value\":0.1},\"fill_color\":{\"value\":\"#30a2da\"},\"line_alpha\":{\"value\":0.1},\"line_color\":{\"value\":\"#30a2da\"},\"size\":{\"value\":5.477225575051661},\"x\":{\"field\":\"MntWines\"},\"y\":{\"field\":\"value\"}},\"id\":\"2187\",\"type\":\"Scatter\"},{\"attributes\":{\"source\":{\"id\":\"2183\"}},\"id\":\"2190\",\"type\":\"CDSView\"},{\"attributes\":{\"fill_color\":{\"value\":\"#30a2da\"},\"line_color\":{\"value\":\"#30a2da\"},\"size\":{\"value\":5.477225575051661},\"x\":{\"field\":\"MntWines\"},\"y\":{\"field\":\"value\"}},\"id\":\"2186\",\"type\":\"Scatter\"},{\"attributes\":{\"fill_alpha\":{\"value\":0.2},\"fill_color\":{\"value\":\"#30a2da\"},\"line_alpha\":{\"value\":0.2},\"line_color\":{\"value\":\"#30a2da\"},\"size\":{\"value\":5.477225575051661},\"x\":{\"field\":\"MntWines\"},\"y\":{\"field\":\"value\"}},\"id\":\"2188\",\"type\":\"Scatter\"},{\"attributes\":{\"angle\":{\"value\":0.0},\"fill_alpha\":{\"value\":1.0},\"fill_color\":{\"value\":\"#fc4f30\"},\"hatch_alpha\":{\"value\":1.0},\"hatch_color\":{\"value\":\"black\"},\"hatch_scale\":{\"value\":12.0},\"hatch_weight\":{\"value\":1.0},\"line_alpha\":{\"value\":1.0},\"line_cap\":{\"value\":\"butt\"},\"line_color\":{\"value\":\"#fc4f30\"},\"line_dash\":{\"value\":[]},\"line_dash_offset\":{\"value\":0},\"line_join\":{\"value\":\"bevel\"},\"line_width\":{\"value\":1},\"marker\":{\"value\":\"circle\"},\"size\":{\"value\":5.477225575051661},\"x\":{\"field\":\"MntWines\"},\"y\":{\"field\":\"value\"}},\"id\":\"2225\",\"type\":\"Scatter\"},{\"attributes\":{\"margin\":[5,5,5,5],\"name\":\"HSpacer03941\",\"sizing_mode\":\"stretch_width\"},\"id\":\"2142\",\"type\":\"Spacer\"},{\"attributes\":{},\"id\":\"2165\",\"type\":\"PanTool\"},{\"attributes\":{\"label\":{\"value\":\"NumStorePurchases\"},\"renderers\":[{\"id\":\"2210\"}]},\"id\":\"2224\",\"type\":\"LegendItem\"},{\"attributes\":{},\"id\":\"2223\",\"type\":\"UnionRenderers\"},{\"attributes\":{\"axis\":{\"id\":\"2156\"},\"grid_line_color\":null,\"ticker\":null},\"id\":\"2159\",\"type\":\"Grid\"},{\"attributes\":{\"label\":{\"value\":\"NumWebPurchases\"},\"renderers\":[{\"id\":\"2189\"}]},\"id\":\"2202\",\"type\":\"LegendItem\"},{\"attributes\":{\"data\":{\"MntWines\":[239,464,57,19,637,43,185,18,460,32,136,2,509,68,14,34,15,0,5,5,11,275,544,215,466,760,19,345,206,656,90,478,284,0,23,125,219,332,1288,35,556,138,24,279,1,28,515,901,199,172,123,399,17,952,56,777,154,130,9,95,182,493,19,918,330,901,29,235,198,462,158,229,373,5,47,91,516,283,1170,6,315,374,534,294,308,67,9,27,824,102,1,792,388,1060,434,322,25,908,13,3,174,23,2,267,941,163,31,398,243,746,704,14,9,816,293,6,302,349,65,422,6,22,464,356,59,1,40,146,13,4,972,707,162,787,141,529,18,1493,48,46,588,340,135,379,18,584,2,23,12,167,151,508,962,784,561,56,63,97,303,320,381,306,54,1099,411,2,6,410,38,224,7,254,20,16,9,51,158,139,121,87,45,4,3,167,133,235,538,342,112,178,200,6,110,410,490,505,728,41,523,41,350,200,22,600,322,299,112,63,14,656,29,22,557,532,70,258,1000,733,16,269,24,1486,6,544,938,85,18,398,1050,208,7,520,755,102,9,124,239,322,50,979,1200,88,2,80,9,554,1253,384,690,483,587,13,977,34,664,434,152,231,27,22,23,261,12,551,368,85,962,856,1076,33,123,182,284,154,172,6,10,6,407,496,8,51,280,4,270,204,18,367,387,21,735,265,8,666,17,8,53,675,162,268,55,18,85,48,152,600,11,3,379,38,69,709,347,741,120,966,664,558,2,171,547,292,184,3,23,577,292,15,408,354,162,890,66,4,779,16,20,1459,204,213,796,154,9,80,3,1043,59,760,273,9,714,30,1259,100,1074,5,2,412,25,189,1148,68,30,56,46,721,652,32,4,81,11,667,965,595,794,188,44,46,399,35,1,711,228,582,446,684,5,63,1,965,78,522,867,5,34,587,619,22,372,563,243,15,78,70,896,377,450,997,11,0,448,1006,54,166,194,35,1063,263,3,736,860,15,27,15,256,12,13,11,1218,353,938,44,11,1215,510,45,27,57,43,32,627,17,8,4,202,430,4,4,213,64,5,539,3,625,110,10,508,625,32,9,587,623,39,8,778,177,44,173,376,823,490,364,362,789,483,3,531,12,861,38,4,199,526,80,8,26,48,2,23,356,217,204,22,5,23,153,982,97,163,14,50,23,17,416,7,977,1,111,1016,3,691,1050,495,14,25,526,424,1206,754,162,14,156,358,297,5,19,23,12,519,375,543,72,52,71,295,0,21,254,9,184,70,12,181,536,366,62,864,1003,352,532,5,707,763,196,57,656,52,9,7,25,626,453,10,265,60,9,738,20,376,6,444,410,162,711,1121,595,1067,104,19,934,44,789,1241,789,18,852,737,18,614,751,305,38,104,29,19,175,709,3,437,717,12,7,291,530,17,27,1462,957,86,212,28,112,135,185,587,167,1,1218,130,452,7,215,340,183,2,830,121,2,264,6,5,12,317,1324,871,15,11,13,389,1492,249,96,412,275,1166,29,116,5,562,407,995,21,14,527,12,11,219,206,200,13,856,30,73,5,421,64,879,712,244,0,125,70,34,129,726,1170,138,141,815,635,1115,1045,629,919,390,483,11,157,216,674,19,267,4,1039,384,462,255,676,87,50,10,162,583,80,12,32,251,7,31,14,62,12,901,56,159,918,122,1181,539,631,441,575,140,345,4,4,76,492,10,750,19,94,594,1,778,371,488,1184,27,69,817,19,19,1035,212,403,31,1248,4,393,5,627,743,196,100,378,25,105,8,24,315,473,533,1,295,231,6,192,3,505,30,571,410,2,410,359,3,16,3,22,642,897,639,960,24,801,186,356,618,2,331,918,35,266,982,406,463,799,16,3,91,384,42,2,618,308,1,169,769,224,6,108,216,201,167,112,20,10,11,269,650,112,88,504,1004,517,10,398,411,426,164,586,231,97,8,189,18,204,9,167,229,1001,4,822,73,28,4,67,1000,213,6,1006,129,46,910,15,580,1,13,5,1001,23,107,507,325,881,235,5,6,913,41,23,702,5,18,1224,42,240,18,10,254,163,23,459,635,1142,458,622,846,10,671,367,536,2,18,112,509,31,11,292,10,62,23,1315,247,457,365,315,15,1099,919,292,631,203,386,972,116,777,6,23,61,83,171,10,1394,162,889,411,371,227,163,383,1009,6,960,561,8,207,131,571,342,4,1004,612,721,99,861,674,443,7,248,135,1000,29,8,74,30,391,689,368,30,176,45,635,456,520,555,769,574,19,18,1,3,154,71,6,753,5,203,14,556,7,72,229,58,34,10,1132,176,8,1,12,84,1379,227,815,606,106,29,680,233,108,2,433,19,524,6,1193,292,2,595,5,68,23,3,777,252,7,756,20,14,264,35,41,966,14,30,425,71,420,9,445,380,40,15,584,670,63,398,479,37,333,654,19,1047,774,0,1004,26,129,738,7,298,128,2,4,199,576,380,489,443,714,33,30,27,86,12,1230,28,31,532,16,145,5,5,16,17,378,307,93,112,45,8,220,6,1181,19,298,471,24,30,270,36,79,173,8,587,362,39,983,0,25,1156,239,6,1,1111,238,22,3,758,729,6,29,145,454,267,1083,37,99,757,45,172,15,262,451,27,15,316,635,4,406,123,1492,897,545,957,572,1478,81,1,1020,502,509,8,12,631,513,466,7,73,15,338,848,202,97,51,140,309,20,1013,459,10,948,56,563,1,110,674,611,81,16,12,46,1156,4,115,2,46,1074,123,402,56,25,408,560,445,2,35,7,36,899,1017,493,21,247,606,2,312,724,359,97,2,73,240,138,73,158,272,28,8,895,210,19,547,43,143,76,833,144,158,8,203,26,37,80,2,752,173,165,614,45,1111,1168,1142,1171,546,986,493,918,445,313,40,19,10,141,191,629,5,33,425,76,488,11,62,561,37,340,22,571,499,34,18,14,10,457,25,110,507,81,378,703,1276,710,138,255,984,270,816,28,53,1076,673,635,14,135,1311,652,324,410,30,258,758,768,565,13,3,835,1,621,5,20,230,10,223,191,67,25,26,909,42,7,151,647,267,829,1050,344,12,605,42,21,789,243,527,12,581,105,14,76,293,2,16,6,0,546,613,2,29,521,529,1012,826,11,230,390,504,964,1,513,178,22,22,277,30,3,227,293,771,757,144,28,33,10,2,38,438,68,502,314,572,479,16,456,34,2,957,22,5,231,267,448,98,13,712,14,37,1,8,8,182,284,167,43,38,245,641,241,167,593,5,4,224,464,1285,207,100,17,387,35,14,1,675,99,518,1073,783,23,656,537,656,279,163,24,479,17,635,43,109,739,189,1200,8,194,3,604,888,483,432,897,3,445,953,483,205,833,395,43,4,686,88,209,12,381,35,24,375,172,9,54,792,722,10,459,55,496,2,48,505,344,39,199,12,908,736,79,260,81,10,13,347,5,448,4,570,292,23,34,21,341,336,6,161,712,25,96,297,393,797,113,17,56,342,494,216,211,11,96,8,85,111,240,1332,64,13,958,19,520,1000,157,39,68,928,67,420,209,77,245,1032,22,84,5,901,6,67,99,144,143,39,11,102,1,275,166,67,5,817,30,5,562,218,15,6,554,30,152,154,350,182,244,709,173,293,471,11,350,13,68,526,6,684,12,641,233,197,98,198,68,15,940,18,224,209,161,820,179,141,967,620,6,1245,9,8,1285,819,101,10,350,18,24,658,734,1285,505,400,346,9,53,1239,46,714,22,120,1184,31,595,199,3,5,1,48,423,572,241,565,7,10,202,30,28,285,16,117,4,1023,34,233,51,53,482,28,318,85,6,158,22,508,1,428,14,352,16,863,98,40,897,1,557,4,594,79,15,138,111,1478,1,378,3,1,447,134,980,18,329,135,56,6,7,7,556,9,454,734,9,6,14,1,20,5,284,795,350,8,24,40,239,615,526,8,1296,30,11,351,127,5,604,376,201,112,55,421,412,48,245,9,183,15,19,252,5,84,750,11,244,5,121,399,90,7,9,565,1149,32,556,11,77,587,1298,29,800,20,14,482,280,39,56,378,296,301,35,70,437,283,12,230,37,15,387,516,864,75,132,155,347,392,217,194,201,9,448,514,512,812,960,26,382,171,397,27,35,480,26,548,371,14,1,806,230,968,39,707,1060,823,155,38,4,313,244,208,747,1218,13,51,604,52,418,387,465,452,32,371,491,829,1205,4,179,378,23,576,825,7,92,458,836,171,493,1349,20,423,925,525,8,620,407,29,8,324,1252,12,311,398,2,520,512,31,693,515,86,492,1048,688,562,328,328,274,4,9,630,84,36,13,691,9,415,811,30,931,3,384,91,9,290,102,14,840,358,1279,221,39,179,261,620,5,559,5,3,0,944,856,86,53,332,11,539,365,236,882,1,0,603,66,920,153,27,267,4,14,8,184,335,357,32,77,62,1103,708,530,8,4,189,1,53,65,62,1449,731,997,953,104,465,912,228,866,320,853,899,22,313,3,899,159,1,458,336,135,742,3,34,68,127,606,5,187,519,382,598,368,69,642,0,162,160,42,397,38,370,15,321,349,16,553,610,5,100,12,20,3,2,375,503,724,7,4,2,3,168,520,1073,1001,238,395,4,116,301,620,482,1302,1308,7,372,297,25,464,317,215,89,440,31,712,1017,456,18,159,531,212,11,5,65,6,174,16,997,0,56,160,1,27,202,8,1,11,36,180,318,389,6,369,16,159,847,1090,205,161,75,68,605,33,50,29,0,170,327,40,14,295,6,675,1,1,1,25,2,274,95,265,1126,2,184,172,9,24,519,40,158,187,134,71,483,749,476,693,100,2,19,741,691,51,438,63,386,10,431,26,29,283,70,173,16,620,125,281,180,225,794,63,2,12,29,71,26,8,770,28,25,90,24,87,6,10,124,398,240,2,349,400,277,760,909,145,653,45,129,15,11,46,713,185,57,404,10,5,217,293,1181,14,522,40,172,532,73,6,4,397,760,247,15,24,42,9,19,47,37,303,182,6,88,288,790,2,6,226,327,29,234,31,355,179,344,709,1103,407,273,757,194,269,992,3,4,255,315,597,1092,279,416,983,33,266,173,625,434,304,454,650,16,2,8,26,19,336,65,9,26,82,492,546,450,494,183,738,1,1396,7,12,99,51,412,2,736,25,2,322,2,229,292,376,15,2,2,15,37],\"Variable\":[\"NumWebPurchases\",\"NumWebPurchases\",\"NumWebPurchases\",\"NumWebPurchases\",\"NumWebPurchases\",\"NumWebPurchases\",\"NumWebPurchases\",\"NumWebPurchases\",\"NumWebPurchases\",\"NumWebPurchases\",\"NumWebPurchases\",\"NumWebPurchases\",\"NumWebPurchases\",\"NumWebPurchases\",\"NumWebPurchases\",\"NumWebPurchases\",\"NumWebPurchases\",\"NumWebPurchases\",\"NumWebPurchases\",\"NumWebPurchases\",\"NumWebPurchases\",\"NumWebPurchases\",\"NumWebPurchases\",\"NumWebPurchases\",\"NumWebPurchases\",\"NumWebPurchases\",\"NumWebPurchases\",\"NumWebPurchases\",\"NumWebPurchases\",\"NumWebPurchases\",\"NumWebPurchases\",\"NumWebPurchases\",\"NumWebPurchases\",\"NumWebPurchases\",\"NumWebPurchases\",\"NumWebPurchases\",\"NumWebPurchases\",\"NumWebPurchases\",\"NumWebPurchases\",\"NumWebPurchases\",\"NumWebPurchases\",\"NumWebPurchases\",\"NumWebPurchases\",\"NumWebPurchases\",\"NumWebPurchases\",\"NumWebPurchases\",\"NumWebPurchases\",\"NumWebPurchases\",\"NumWebPurchases\",\"NumWebPurchases\",\"NumWebPurchases\",\"NumWebPurchases\",\"NumWebPurchases\",\"NumWebPurchases\",\"NumWebPurchases\",\"NumWebPurchases\",\"NumWebPurchases\",\"NumWebPurchases\",\"NumWebPurchases\",\"NumWebPurchases\",\"NumWebPurchases\",\"NumWebPurchases\",\"NumWebPurchases\",\"NumWebPurchases\",\"NumWebPurchases\",\"NumWebPurchases\",\"NumWebPurchases\",\"NumWebPurchases\",\"NumWebPurchases\",\"NumWebPurchases\",\"NumWebPurchases\",\"NumWebPurchases\",\"NumWebPurchases\",\"NumWebPurchases\",\"NumWebPurchases\",\"NumWebPurchases\",\"NumWebPurchases\",\"NumWebPurchases\",\"NumWebPurchases\",\"NumWebPurchases\",\"NumWebPurchases\",\"NumWebPurchases\",\"NumWebPurchases\",\"NumWebPurchases\",\"NumWebPurchases\",\"NumWebPurchases\",\"NumWebPurchases\",\"NumWebPurchases\",\"NumWebPurchases\",\"NumWebPurchases\",\"NumWebPurchases\",\"NumWebPurchases\",\"NumWebPurchases\",\"NumWebPurchases\",\"NumWebPurchases\",\"NumWebPurchases\",\"NumWebPurchases\",\"NumWebPurchases\",\"NumWebPurchases\",\"NumWebPurchases\",\"NumWebPurchases\",\"NumWebPurchases\",\"NumWebPurchases\",\"NumWebPurchases\",\"NumWebPurchases\",\"NumWebPurchases\",\"NumWebPurchases\",\"NumWebPurchases\",\"NumWebPurchases\",\"NumWebPurchases\",\"NumWebPurchases\",\"NumWebPurchases\",\"NumWebPurchases\",\"NumWebPurchases\",\"NumWebPurchases\",\"NumWebPurchases\",\"NumWebPurchases\",\"NumWebPurchases\",\"NumWebPurchases\",\"NumWebPurchases\",\"NumWebPurchases\",\"NumWebPurchases\",\"NumWebPurchases\",\"NumWebPurchases\",\"NumWebPurchases\",\"NumWebPurchases\",\"NumWebPurchases\",\"NumWebPurchases\",\"NumWebPurchases\",\"NumWebPurchases\",\"NumWebPurchases\",\"NumWebPurchases\",\"NumWebPurchases\",\"NumWebPurchases\",\"NumWebPurchases\",\"NumWebPurchases\",\"NumWebPurchases\",\"NumWebPurchases\",\"NumWebPurchases\",\"NumWebPurchases\",\"NumWebPurchases\",\"NumWebPurchases\",\"NumWebPurchases\",\"NumWebPurchases\",\"NumWebPurchases\",\"NumWebPurchases\",\"NumWebPurchases\",\"NumWebPurchases\",\"NumWebPurchases\",\"NumWebPurchases\",\"NumWebPurchases\",\"NumWebPurchases\",\"NumWebPurchases\",\"NumWebPurchases\",\"NumWebPurchases\",\"NumWebPurchases\",\"NumWebPurchases\",\"NumWebPurchases\",\"NumWebPurchases\",\"NumWebPurchases\",\"NumWebPurchases\",\"NumWebPurchases\",\"NumWebPurchases\",\"NumWebPurchases\",\"NumWebPurchases\",\"NumWebPurchases\",\"NumWebPurchases\",\"NumWebPurchases\",\"NumWebPurchases\",\"NumWebPurchases\",\"NumWebPurchases\",\"NumWebPurchases\",\"NumWebPurchases\",\"NumWebPurchases\",\"NumWebPurchases\",\"NumWebPurchases\",\"NumWebPurchases\",\"NumWebPurchases\",\"NumWebPurchases\",\"NumWebPurchases\",\"NumWebPurchases\",\"NumWebPurchases\",\"NumWebPurchases\",\"NumWebPurchases\",\"NumWebPurchases\",\"NumWebPurchases\",\"NumWebPurchases\",\"NumWebPurchases\",\"NumWebPurchases\",\"NumWebPurchases\",\"NumWebPurchases\",\"NumWebPurchases\",\"NumWebPurchases\",\"NumWebPurchases\",\"NumWebPurchases\",\"NumWebPurchases\",\"NumWebPurchases\",\"NumWebPurchases\",\"NumWebPurchases\",\"NumWebPurchases\",\"NumWebPurchases\",\"NumWebPurchases\",\"NumWebPurchases\",\"NumWebPurchases\",\"NumWebPurchases\",\"NumWebPurchases\",\"NumWebPurchases\",\"NumWebPurchases\",\"NumWebPurchases\",\"NumWebPurchases\",\"NumWebPurchases\",\"NumWebPurchases\",\"NumWebPurchases\",\"NumWebPurchases\",\"NumWebPurchases\",\"NumWebPurchases\",\"NumWebPurchases\",\"NumWebPurchases\",\"NumWebPurchases\",\"NumWebPurchases\",\"NumWebPurchases\",\"NumWebPurchases\",\"NumWebPurchases\",\"NumWebPurchases\",\"NumWebPurchases\",\"NumWebPurchases\",\"NumWebPurchases\",\"NumWebPurchases\",\"NumWebPurchases\",\"NumWebPurchases\",\"NumWebPurchases\",\"NumWebPurchases\",\"NumWebPurchases\",\"NumWebPurchases\",\"NumWebPurchases\",\"NumWebPurchases\",\"NumWebPurchases\",\"NumWebPurchases\",\"NumWebPurchases\",\"NumWebPurchases\",\"NumWebPurchases\",\"NumWebPurchases\",\"NumWebPurchases\",\"NumWebPurchases\",\"NumWebPurchases\",\"NumWebPurchases\",\"NumWebPurchases\",\"NumWebPurchases\",\"NumWebPurchases\",\"NumWebPurchases\",\"NumWebPurchases\",\"NumWebPurchases\",\"NumWebPurchases\",\"NumWebPurchases\",\"NumWebPurchases\",\"NumWebPurchases\",\"NumWebPurchases\",\"NumWebPurchases\",\"NumWebPurchases\",\"NumWebPurchases\",\"NumWebPurchases\",\"NumWebPurchases\",\"NumWebPurchases\",\"NumWebPurchases\",\"NumWebPurchases\",\"NumWebPurchases\",\"NumWebPurchases\",\"NumWebPurchases\",\"NumWebPurchases\",\"NumWebPurchases\",\"NumWebPurchases\",\"NumWebPurchases\",\"NumWebPurchases\",\"NumWebPurchases\",\"NumWebPurchases\",\"NumWebPurchases\",\"NumWebPurchases\",\"NumWebPurchases\",\"NumWebPurchases\",\"NumWebPurchases\",\"NumWebPurchases\",\"NumWebPurchases\",\"NumWebPurchases\",\"NumWebPurchases\",\"NumWebPurchases\",\"NumWebPurchases\",\"NumWebPurchases\",\"NumWebPurchases\",\"NumWebPurchases\",\"NumWebPurchases\",\"NumWebPurchases\",\"NumWebPurchases\",\"NumWebPurchases\",\"NumWebPurchases\",\"NumWebPurchases\",\"NumWebPurchases\",\"NumWebPurchases\",\"NumWebPurchases\",\"NumWebPurchases\",\"NumWebPurchases\",\"NumWebPurchases\",\"NumWebPurchases\",\"NumWebPurchases\",\"NumWebPurchases\",\"NumWebPurchases\",\"NumWebPurchases\",\"NumWebPurchases\",\"NumWebPurchases\",\"NumWebPurchases\",\"NumWebPurchases\",\"NumWebPurchases\",\"NumWebPurchases\",\"NumWebPurchases\",\"NumWebPurchases\",\"NumWebPurchases\",\"NumWebPurchases\",\"NumWebPurchases\",\"NumWebPurchases\",\"NumWebPurchases\",\"NumWebPurchases\",\"NumWebPurchases\",\"NumWebPurchases\",\"NumWebPurchases\",\"NumWebPurchases\",\"NumWebPurchases\",\"NumWebPurchases\",\"NumWebPurchases\",\"NumWebPurchases\",\"NumWebPurchases\",\"NumWebPurchases\",\"NumWebPurchases\",\"NumWebPurchases\",\"NumWebPurchases\",\"NumWebPurchases\",\"NumWebPurchases\",\"NumWebPurchases\",\"NumWebPurchases\",\"NumWebPurchases\",\"NumWebPurchases\",\"NumWebPurchases\",\"NumWebPurchases\",\"NumWebPurchases\",\"NumWebPurchases\",\"NumWebPurchases\",\"NumWebPurchases\",\"NumWebPurchases\",\"NumWebPurchases\",\"NumWebPurchases\",\"NumWebPurchases\",\"NumWebPurchases\",\"NumWebPurchases\",\"NumWebPurchases\",\"NumWebPurchases\",\"NumWebPurchases\",\"NumWebPurchases\",\"NumWebPurchases\",\"NumWebPurchases\",\"NumWebPurchases\",\"NumWebPurchases\",\"NumWebPurchases\",\"NumWebPurchases\",\"NumWebPurchases\",\"NumWebPurchases\",\"NumWebPurchases\",\"NumWebPurchases\",\"NumWebPurchases\",\"NumWebPurchases\",\"NumWebPurchases\",\"NumWebPurchases\",\"NumWebPurchases\",\"NumWebPurchases\",\"NumWebPurchases\",\"NumWebPurchases\",\"NumWebPurchases\",\"NumWebPurchases\",\"NumWebPurchases\",\"NumWebPurchases\",\"NumWebPurchases\",\"NumWebPurchases\",\"NumWebPurchases\",\"NumWebPurchases\",\"NumWebPurchases\",\"NumWebPurchases\",\"NumWebPurchases\",\"NumWebPurchases\",\"NumWebPurchases\",\"NumWebPurchases\",\"NumWebPurchases\",\"NumWebPurchases\",\"NumWebPurchases\",\"NumWebPurchases\",\"NumWebPurchases\",\"NumWebPurchases\",\"NumWebPurchases\",\"NumWebPurchases\",\"NumWebPurchases\",\"NumWebPurchases\",\"NumWebPurchases\",\"NumWebPurchases\",\"NumWebPurchases\",\"NumWebPurchases\",\"NumWebPurchases\",\"NumWebPurchases\",\"NumWebPurchases\",\"NumWebPurchases\",\"NumWebPurchases\",\"NumWebPurchases\",\"NumWebPurchases\",\"NumWebPurchases\",\"NumWebPurchases\",\"NumWebPurchases\",\"NumWebPurchases\",\"NumWebPurchases\",\"NumWebPurchases\",\"NumWebPurchases\",\"NumWebPurchases\",\"NumWebPurchases\",\"NumWebPurchases\",\"NumWebPurchases\",\"NumWebPurchases\",\"NumWebPurchases\",\"NumWebPurchases\",\"NumWebPurchases\",\"NumWebPurchases\",\"NumWebPurchases\",\"NumWebPurchases\",\"NumWebPurchases\",\"NumWebPurchases\",\"NumWebPurchases\",\"NumWebPurchases\",\"NumWebPurchases\",\"NumWebPurchases\",\"NumWebPurchases\",\"NumWebPurchases\",\"NumWebPurchases\",\"NumWebPurchases\",\"NumWebPurchases\",\"NumWebPurchases\",\"NumWebPurchases\",\"NumWebPurchases\",\"NumWebPurchases\",\"NumWebPurchases\",\"NumWebPurchases\",\"NumWebPurchases\",\"NumWebPurchases\",\"NumWebPurchases\",\"NumWebPurchases\",\"NumWebPurchases\",\"NumWebPurchases\",\"NumWebPurchases\",\"NumWebPurchases\",\"NumWebPurchases\",\"NumWebPurchases\",\"NumWebPurchases\",\"NumWebPurchases\",\"NumWebPurchases\",\"NumWebPurchases\",\"NumWebPurchases\",\"NumWebPurchases\",\"NumWebPurchases\",\"NumWebPurchases\",\"NumWebPurchases\",\"NumWebPurchases\",\"NumWebPurchases\",\"NumWebPurchases\",\"NumWebPurchases\",\"NumWebPurchases\",\"NumWebPurchases\",\"NumWebPurchases\",\"NumWebPurchases\",\"NumWebPurchases\",\"NumWebPurchases\",\"NumWebPurchases\",\"NumWebPurchases\",\"NumWebPurchases\",\"NumWebPurchases\",\"NumWebPurchases\",\"NumWebPurchases\",\"NumWebPurchases\",\"NumWebPurchases\",\"NumWebPurchases\",\"NumWebPurchases\",\"NumWebPurchases\",\"NumWebPurchases\",\"NumWebPurchases\",\"NumWebPurchases\",\"NumWebPurchases\",\"NumWebPurchases\",\"NumWebPurchases\",\"NumWebPurchases\",\"NumWebPurchases\",\"NumWebPurchases\",\"NumWebPurchases\",\"NumWebPurchases\",\"NumWebPurchases\",\"NumWebPurchases\",\"NumWebPurchases\",\"NumWebPurchases\",\"NumWebPurchases\",\"NumWebPurchases\",\"NumWebPurchases\",\"NumWebPurchases\",\"NumWebPurchases\",\"NumWebPurchases\",\"NumWebPurchases\",\"NumWebPurchases\",\"NumWebPurchases\",\"NumWebPurchases\",\"NumWebPurchases\",\"NumWebPurchases\",\"NumWebPurchases\",\"NumWebPurchases\",\"NumWebPurchases\",\"NumWebPurchases\",\"NumWebPurchases\",\"NumWebPurchases\",\"NumWebPurchases\",\"NumWebPurchases\",\"NumWebPurchases\",\"NumWebPurchases\",\"NumWebPurchases\",\"NumWebPurchases\",\"NumWebPurchases\",\"NumWebPurchases\",\"NumWebPurchases\",\"NumWebPurchases\",\"NumWebPurchases\",\"NumWebPurchases\",\"NumWebPurchases\",\"NumWebPurchases\",\"NumWebPurchases\",\"NumWebPurchases\",\"NumWebPurchases\",\"NumWebPurchases\",\"NumWebPurchases\",\"NumWebPurchases\",\"NumWebPurchases\",\"NumWebPurchases\",\"NumWebPurchases\",\"NumWebPurchases\",\"NumWebPurchases\",\"NumWebPurchases\",\"NumWebPurchases\",\"NumWebPurchases\",\"NumWebPurchases\",\"NumWebPurchases\",\"NumWebPurchases\",\"NumWebPurchases\",\"NumWebPurchases\",\"NumWebPurchases\",\"NumWebPurchases\",\"NumWebPurchases\",\"NumWebPurchases\",\"NumWebPurchases\",\"NumWebPurchases\",\"NumWebPurchases\",\"NumWebPurchases\",\"NumWebPurchases\",\"NumWebPurchases\",\"NumWebPurchases\",\"NumWebPurchases\",\"NumWebPurchases\",\"NumWebPurchases\",\"NumWebPurchases\",\"NumWebPurchases\",\"NumWebPurchases\",\"NumWebPurchases\",\"NumWebPurchases\",\"NumWebPurchases\",\"NumWebPurchases\",\"NumWebPurchases\",\"NumWebPurchases\",\"NumWebPurchases\",\"NumWebPurchases\",\"NumWebPurchases\",\"NumWebPurchases\",\"NumWebPurchases\",\"NumWebPurchases\",\"NumWebPurchases\",\"NumWebPurchases\",\"NumWebPurchases\",\"NumWebPurchases\",\"NumWebPurchases\",\"NumWebPurchases\",\"NumWebPurchases\",\"NumWebPurchases\",\"NumWebPurchases\",\"NumWebPurchases\",\"NumWebPurchases\",\"NumWebPurchases\",\"NumWebPurchases\",\"NumWebPurchases\",\"NumWebPurchases\",\"NumWebPurchases\",\"NumWebPurchases\",\"NumWebPurchases\",\"NumWebPurchases\",\"NumWebPurchases\",\"NumWebPurchases\",\"NumWebPurchases\",\"NumWebPurchases\",\"NumWebPurchases\",\"NumWebPurchases\",\"NumWebPurchases\",\"NumWebPurchases\",\"NumWebPurchases\",\"NumWebPurchases\",\"NumWebPurchases\",\"NumWebPurchases\",\"NumWebPurchases\",\"NumWebPurchases\",\"NumWebPurchases\",\"NumWebPurchases\",\"NumWebPurchases\",\"NumWebPurchases\",\"NumWebPurchases\",\"NumWebPurchases\",\"NumWebPurchases\",\"NumWebPurchases\",\"NumWebPurchases\",\"NumWebPurchases\",\"NumWebPurchases\",\"NumWebPurchases\",\"NumWebPurchases\",\"NumWebPurchases\",\"NumWebPurchases\",\"NumWebPurchases\",\"NumWebPurchases\",\"NumWebPurchases\",\"NumWebPurchases\",\"NumWebPurchases\",\"NumWebPurchases\",\"NumWebPurchases\",\"NumWebPurchases\",\"NumWebPurchases\",\"NumWebPurchases\",\"NumWebPurchases\",\"NumWebPurchases\",\"NumWebPurchases\",\"NumWebPurchases\",\"NumWebPurchases\",\"NumWebPurchases\",\"NumWebPurchases\",\"NumWebPurchases\",\"NumWebPurchases\",\"NumWebPurchases\",\"NumWebPurchases\",\"NumWebPurchases\",\"NumWebPurchases\",\"NumWebPurchases\",\"NumWebPurchases\",\"NumWebPurchases\",\"NumWebPurchases\",\"NumWebPurchases\",\"NumWebPurchases\",\"NumWebPurchases\",\"NumWebPurchases\",\"NumWebPurchases\",\"NumWebPurchases\",\"NumWebPurchases\",\"NumWebPurchases\",\"NumWebPurchases\",\"NumWebPurchases\",\"NumWebPurchases\",\"NumWebPurchases\",\"NumWebPurchases\",\"NumWebPurchases\",\"NumWebPurchases\",\"NumWebPurchases\",\"NumWebPurchases\",\"NumWebPurchases\",\"NumWebPurchases\",\"NumWebPurchases\",\"NumWebPurchases\",\"NumWebPurchases\",\"NumWebPurchases\",\"NumWebPurchases\",\"NumWebPurchases\",\"NumWebPurchases\",\"NumWebPurchases\",\"NumWebPurchases\",\"NumWebPurchases\",\"NumWebPurchases\",\"NumWebPurchases\",\"NumWebPurchases\",\"NumWebPurchases\",\"NumWebPurchases\",\"NumWebPurchases\",\"NumWebPurchases\",\"NumWebPurchases\",\"NumWebPurchases\",\"NumWebPurchases\",\"NumWebPurchases\",\"NumWebPurchases\",\"NumWebPurchases\",\"NumWebPurchases\",\"NumWebPurchases\",\"NumWebPurchases\",\"NumWebPurchases\",\"NumWebPurchases\",\"NumWebPurchases\",\"NumWebPurchases\",\"NumWebPurchases\",\"NumWebPurchases\",\"NumWebPurchases\",\"NumWebPurchases\",\"NumWebPurchases\",\"NumWebPurchases\",\"NumWebPurchases\",\"NumWebPurchases\",\"NumWebPurchases\",\"NumWebPurchases\",\"NumWebPurchases\",\"NumWebPurchases\",\"NumWebPurchases\",\"NumWebPurchases\",\"NumWebPurchases\",\"NumWebPurchases\",\"NumWebPurchases\",\"NumWebPurchases\",\"NumWebPurchases\",\"NumWebPurchases\",\"NumWebPurchases\",\"NumWebPurchases\",\"NumWebPurchases\",\"NumWebPurchases\",\"NumWebPurchases\",\"NumWebPurchases\",\"NumWebPurchases\",\"NumWebPurchases\",\"NumWebPurchases\",\"NumWebPurchases\",\"NumWebPurchases\",\"NumWebPurchases\",\"NumWebPurchases\",\"NumWebPurchases\",\"NumWebPurchases\",\"NumWebPurchases\",\"NumWebPurchases\",\"NumWebPurchases\",\"NumWebPurchases\",\"NumWebPurchases\",\"NumWebPurchases\",\"NumWebPurchases\",\"NumWebPurchases\",\"NumWebPurchases\",\"NumWebPurchases\",\"NumWebPurchases\",\"NumWebPurchases\",\"NumWebPurchases\",\"NumWebPurchases\",\"NumWebPurchases\",\"NumWebPurchases\",\"NumWebPurchases\",\"NumWebPurchases\",\"NumWebPurchases\",\"NumWebPurchases\",\"NumWebPurchases\",\"NumWebPurchases\",\"NumWebPurchases\",\"NumWebPurchases\",\"NumWebPurchases\",\"NumWebPurchases\",\"NumWebPurchases\",\"NumWebPurchases\",\"NumWebPurchases\",\"NumWebPurchases\",\"NumWebPurchases\",\"NumWebPurchases\",\"NumWebPurchases\",\"NumWebPurchases\",\"NumWebPurchases\",\"NumWebPurchases\",\"NumWebPurchases\",\"NumWebPurchases\",\"NumWebPurchases\",\"NumWebPurchases\",\"NumWebPurchases\",\"NumWebPurchases\",\"NumWebPurchases\",\"NumWebPurchases\",\"NumWebPurchases\",\"NumWebPurchases\",\"NumWebPurchases\",\"NumWebPurchases\",\"NumWebPurchases\",\"NumWebPurchases\",\"NumWebPurchases\",\"NumWebPurchases\",\"NumWebPurchases\",\"NumWebPurchases\",\"NumWebPurchases\",\"NumWebPurchases\",\"NumWebPurchases\",\"NumWebPurchases\",\"NumWebPurchases\",\"NumWebPurchases\",\"NumWebPurchases\",\"NumWebPurchases\",\"NumWebPurchases\",\"NumWebPurchases\",\"NumWebPurchases\",\"NumWebPurchases\",\"NumWebPurchases\",\"NumWebPurchases\",\"NumWebPurchases\",\"NumWebPurchases\",\"NumWebPurchases\",\"NumWebPurchases\",\"NumWebPurchases\",\"NumWebPurchases\",\"NumWebPurchases\",\"NumWebPurchases\",\"NumWebPurchases\",\"NumWebPurchases\",\"NumWebPurchases\",\"NumWebPurchases\",\"NumWebPurchases\",\"NumWebPurchases\",\"NumWebPurchases\",\"NumWebPurchases\",\"NumWebPurchases\",\"NumWebPurchases\",\"NumWebPurchases\",\"NumWebPurchases\",\"NumWebPurchases\",\"NumWebPurchases\",\"NumWebPurchases\",\"NumWebPurchases\",\"NumWebPurchases\",\"NumWebPurchases\",\"NumWebPurchases\",\"NumWebPurchases\",\"NumWebPurchases\",\"NumWebPurchases\",\"NumWebPurchases\",\"NumWebPurchases\",\"NumWebPurchases\",\"NumWebPurchases\",\"NumWebPurchases\",\"NumWebPurchases\",\"NumWebPurchases\",\"NumWebPurchases\",\"NumWebPurchases\",\"NumWebPurchases\",\"NumWebPurchases\",\"NumWebPurchases\",\"NumWebPurchases\",\"NumWebPurchases\",\"NumWebPurchases\",\"NumWebPurchases\",\"NumWebPurchases\",\"NumWebPurchases\",\"NumWebPurchases\",\"NumWebPurchases\",\"NumWebPurchases\",\"NumWebPurchases\",\"NumWebPurchases\",\"NumWebPurchases\",\"NumWebPurchases\",\"NumWebPurchases\",\"NumWebPurchases\",\"NumWebPurchases\",\"NumWebPurchases\",\"NumWebPurchases\",\"NumWebPurchases\",\"NumWebPurchases\",\"NumWebPurchases\",\"NumWebPurchases\",\"NumWebPurchases\",\"NumWebPurchases\",\"NumWebPurchases\",\"NumWebPurchases\",\"NumWebPurchases\",\"NumWebPurchases\",\"NumWebPurchases\",\"NumWebPurchases\",\"NumWebPurchases\",\"NumWebPurchases\",\"NumWebPurchases\",\"NumWebPurchases\",\"NumWebPurchases\",\"NumWebPurchases\",\"NumWebPurchases\",\"NumWebPurchases\",\"NumWebPurchases\",\"NumWebPurchases\",\"NumWebPurchases\",\"NumWebPurchases\",\"NumWebPurchases\",\"NumWebPurchases\",\"NumWebPurchases\",\"NumWebPurchases\",\"NumWebPurchases\",\"NumWebPurchases\",\"NumWebPurchases\",\"NumWebPurchases\",\"NumWebPurchases\",\"NumWebPurchases\",\"NumWebPurchases\",\"NumWebPurchases\",\"NumWebPurchases\",\"NumWebPurchases\",\"NumWebPurchases\",\"NumWebPurchases\",\"NumWebPurchases\",\"NumWebPurchases\",\"NumWebPurchases\",\"NumWebPurchases\",\"NumWebPurchases\",\"NumWebPurchases\",\"NumWebPurchases\",\"NumWebPurchases\",\"NumWebPurchases\",\"NumWebPurchases\",\"NumWebPurchases\",\"NumWebPurchases\",\"NumWebPurchases\",\"NumWebPurchases\",\"NumWebPurchases\",\"NumWebPurchases\",\"NumWebPurchases\",\"NumWebPurchases\",\"NumWebPurchases\",\"NumWebPurchases\",\"NumWebPurchases\",\"NumWebPurchases\",\"NumWebPurchases\",\"NumWebPurchases\",\"NumWebPurchases\",\"NumWebPurchases\",\"NumWebPurchases\",\"NumWebPurchases\",\"NumWebPurchases\",\"NumWebPurchases\",\"NumWebPurchases\",\"NumWebPurchases\",\"NumWebPurchases\",\"NumWebPurchases\",\"NumWebPurchases\",\"NumWebPurchases\",\"NumWebPurchases\",\"NumWebPurchases\",\"NumWebPurchases\",\"NumWebPurchases\",\"NumWebPurchases\",\"NumWebPurchases\",\"NumWebPurchases\",\"NumWebPurchases\",\"NumWebPurchases\",\"NumWebPurchases\",\"NumWebPurchases\",\"NumWebPurchases\",\"NumWebPurchases\",\"NumWebPurchases\",\"NumWebPurchases\",\"NumWebPurchases\",\"NumWebPurchases\",\"NumWebPurchases\",\"NumWebPurchases\",\"NumWebPurchases\",\"NumWebPurchases\",\"NumWebPurchases\",\"NumWebPurchases\",\"NumWebPurchases\",\"NumWebPurchases\",\"NumWebPurchases\",\"NumWebPurchases\",\"NumWebPurchases\",\"NumWebPurchases\",\"NumWebPurchases\",\"NumWebPurchases\",\"NumWebPurchases\",\"NumWebPurchases\",\"NumWebPurchases\",\"NumWebPurchases\",\"NumWebPurchases\",\"NumWebPurchases\",\"NumWebPurchases\",\"NumWebPurchases\",\"NumWebPurchases\",\"NumWebPurchases\",\"NumWebPurchases\",\"NumWebPurchases\",\"NumWebPurchases\",\"NumWebPurchases\",\"NumWebPurchases\",\"NumWebPurchases\",\"NumWebPurchases\",\"NumWebPurchases\",\"NumWebPurchases\",\"NumWebPurchases\",\"NumWebPurchases\",\"NumWebPurchases\",\"NumWebPurchases\",\"NumWebPurchases\",\"NumWebPurchases\",\"NumWebPurchases\",\"NumWebPurchases\",\"NumWebPurchases\",\"NumWebPurchases\",\"NumWebPurchases\",\"NumWebPurchases\",\"NumWebPurchases\",\"NumWebPurchases\",\"NumWebPurchases\",\"NumWebPurchases\",\"NumWebPurchases\",\"NumWebPurchases\",\"NumWebPurchases\",\"NumWebPurchases\",\"NumWebPurchases\",\"NumWebPurchases\",\"NumWebPurchases\",\"NumWebPurchases\",\"NumWebPurchases\",\"NumWebPurchases\",\"NumWebPurchases\",\"NumWebPurchases\",\"NumWebPurchases\",\"NumWebPurchases\",\"NumWebPurchases\",\"NumWebPurchases\",\"NumWebPurchases\",\"NumWebPurchases\",\"NumWebPurchases\",\"NumWebPurchases\",\"NumWebPurchases\",\"NumWebPurchases\",\"NumWebPurchases\",\"NumWebPurchases\",\"NumWebPurchases\",\"NumWebPurchases\",\"NumWebPurchases\",\"NumWebPurchases\",\"NumWebPurchases\",\"NumWebPurchases\",\"NumWebPurchases\",\"NumWebPurchases\",\"NumWebPurchases\",\"NumWebPurchases\",\"NumWebPurchases\",\"NumWebPurchases\",\"NumWebPurchases\",\"NumWebPurchases\",\"NumWebPurchases\",\"NumWebPurchases\",\"NumWebPurchases\",\"NumWebPurchases\",\"NumWebPurchases\",\"NumWebPurchases\",\"NumWebPurchases\",\"NumWebPurchases\",\"NumWebPurchases\",\"NumWebPurchases\",\"NumWebPurchases\",\"NumWebPurchases\",\"NumWebPurchases\",\"NumWebPurchases\",\"NumWebPurchases\",\"NumWebPurchases\",\"NumWebPurchases\",\"NumWebPurchases\",\"NumWebPurchases\",\"NumWebPurchases\",\"NumWebPurchases\",\"NumWebPurchases\",\"NumWebPurchases\",\"NumWebPurchases\",\"NumWebPurchases\",\"NumWebPurchases\",\"NumWebPurchases\",\"NumWebPurchases\",\"NumWebPurchases\",\"NumWebPurchases\",\"NumWebPurchases\",\"NumWebPurchases\",\"NumWebPurchases\",\"NumWebPurchases\",\"NumWebPurchases\",\"NumWebPurchases\",\"NumWebPurchases\",\"NumWebPurchases\",\"NumWebPurchases\",\"NumWebPurchases\",\"NumWebPurchases\",\"NumWebPurchases\",\"NumWebPurchases\",\"NumWebPurchases\",\"NumWebPurchases\",\"NumWebPurchases\",\"NumWebPurchases\",\"NumWebPurchases\",\"NumWebPurchases\",\"NumWebPurchases\",\"NumWebPurchases\",\"NumWebPurchases\",\"NumWebPurchases\",\"NumWebPurchases\",\"NumWebPurchases\",\"NumWebPurchases\",\"NumWebPurchases\",\"NumWebPurchases\",\"NumWebPurchases\",\"NumWebPurchases\",\"NumWebPurchases\",\"NumWebPurchases\",\"NumWebPurchases\",\"NumWebPurchases\",\"NumWebPurchases\",\"NumWebPurchases\",\"NumWebPurchases\",\"NumWebPurchases\",\"NumWebPurchases\",\"NumWebPurchases\",\"NumWebPurchases\",\"NumWebPurchases\",\"NumWebPurchases\",\"NumWebPurchases\",\"NumWebPurchases\",\"NumWebPurchases\",\"NumWebPurchases\",\"NumWebPurchases\",\"NumWebPurchases\",\"NumWebPurchases\",\"NumWebPurchases\",\"NumWebPurchases\",\"NumWebPurchases\",\"NumWebPurchases\",\"NumWebPurchases\",\"NumWebPurchases\",\"NumWebPurchases\",\"NumWebPurchases\",\"NumWebPurchases\",\"NumWebPurchases\",\"NumWebPurchases\",\"NumWebPurchases\",\"NumWebPurchases\",\"NumWebPurchases\",\"NumWebPurchases\",\"NumWebPurchases\",\"NumWebPurchases\",\"NumWebPurchases\",\"NumWebPurchases\",\"NumWebPurchases\",\"NumWebPurchases\",\"NumWebPurchases\",\"NumWebPurchases\",\"NumWebPurchases\",\"NumWebPurchases\",\"NumWebPurchases\",\"NumWebPurchases\",\"NumWebPurchases\",\"NumWebPurchases\",\"NumWebPurchases\",\"NumWebPurchases\",\"NumWebPurchases\",\"NumWebPurchases\",\"NumWebPurchases\",\"NumWebPurchases\",\"NumWebPurchases\",\"NumWebPurchases\",\"NumWebPurchases\",\"NumWebPurchases\",\"NumWebPurchases\",\"NumWebPurchases\",\"NumWebPurchases\",\"NumWebPurchases\",\"NumWebPurchases\",\"NumWebPurchases\",\"NumWebPurchases\",\"NumWebPurchases\",\"NumWebPurchases\",\"NumWebPurchases\",\"NumWebPurchases\",\"NumWebPurchases\",\"NumWebPurchases\",\"NumWebPurchases\",\"NumWebPurchases\",\"NumWebPurchases\",\"NumWebPurchases\",\"NumWebPurchases\",\"NumWebPurchases\",\"NumWebPurchases\",\"NumWebPurchases\",\"NumWebPurchases\",\"NumWebPurchases\",\"NumWebPurchases\",\"NumWebPurchases\",\"NumWebPurchases\",\"NumWebPurchases\",\"NumWebPurchases\",\"NumWebPurchases\",\"NumWebPurchases\",\"NumWebPurchases\",\"NumWebPurchases\",\"NumWebPurchases\",\"NumWebPurchases\",\"NumWebPurchases\",\"NumWebPurchases\",\"NumWebPurchases\",\"NumWebPurchases\",\"NumWebPurchases\",\"NumWebPurchases\",\"NumWebPurchases\",\"NumWebPurchases\",\"NumWebPurchases\",\"NumWebPurchases\",\"NumWebPurchases\",\"NumWebPurchases\",\"NumWebPurchases\",\"NumWebPurchases\",\"NumWebPurchases\",\"NumWebPurchases\",\"NumWebPurchases\",\"NumWebPurchases\",\"NumWebPurchases\",\"NumWebPurchases\",\"NumWebPurchases\",\"NumWebPurchases\",\"NumWebPurchases\",\"NumWebPurchases\",\"NumWebPurchases\",\"NumWebPurchases\",\"NumWebPurchases\",\"NumWebPurchases\",\"NumWebPurchases\",\"NumWebPurchases\",\"NumWebPurchases\",\"NumWebPurchases\",\"NumWebPurchases\",\"NumWebPurchases\",\"NumWebPurchases\",\"NumWebPurchases\",\"NumWebPurchases\",\"NumWebPurchases\",\"NumWebPurchases\",\"NumWebPurchases\",\"NumWebPurchases\",\"NumWebPurchases\",\"NumWebPurchases\",\"NumWebPurchases\",\"NumWebPurchases\",\"NumWebPurchases\",\"NumWebPurchases\",\"NumWebPurchases\",\"NumWebPurchases\",\"NumWebPurchases\",\"NumWebPurchases\",\"NumWebPurchases\",\"NumWebPurchases\",\"NumWebPurchases\",\"NumWebPurchases\",\"NumWebPurchases\",\"NumWebPurchases\",\"NumWebPurchases\",\"NumWebPurchases\",\"NumWebPurchases\",\"NumWebPurchases\",\"NumWebPurchases\",\"NumWebPurchases\",\"NumWebPurchases\",\"NumWebPurchases\",\"NumWebPurchases\",\"NumWebPurchases\",\"NumWebPurchases\",\"NumWebPurchases\",\"NumWebPurchases\",\"NumWebPurchases\",\"NumWebPurchases\",\"NumWebPurchases\",\"NumWebPurchases\",\"NumWebPurchases\",\"NumWebPurchases\",\"NumWebPurchases\",\"NumWebPurchases\",\"NumWebPurchases\",\"NumWebPurchases\",\"NumWebPurchases\",\"NumWebPurchases\",\"NumWebPurchases\",\"NumWebPurchases\",\"NumWebPurchases\",\"NumWebPurchases\",\"NumWebPurchases\",\"NumWebPurchases\",\"NumWebPurchases\",\"NumWebPurchases\",\"NumWebPurchases\",\"NumWebPurchases\",\"NumWebPurchases\",\"NumWebPurchases\",\"NumWebPurchases\",\"NumWebPurchases\",\"NumWebPurchases\",\"NumWebPurchases\",\"NumWebPurchases\",\"NumWebPurchases\",\"NumWebPurchases\",\"NumWebPurchases\",\"NumWebPurchases\",\"NumWebPurchases\",\"NumWebPurchases\",\"NumWebPurchases\",\"NumWebPurchases\",\"NumWebPurchases\",\"NumWebPurchases\",\"NumWebPurchases\",\"NumWebPurchases\",\"NumWebPurchases\",\"NumWebPurchases\",\"NumWebPurchases\",\"NumWebPurchases\",\"NumWebPurchases\",\"NumWebPurchases\",\"NumWebPurchases\",\"NumWebPurchases\",\"NumWebPurchases\",\"NumWebPurchases\",\"NumWebPurchases\",\"NumWebPurchases\",\"NumWebPurchases\",\"NumWebPurchases\",\"NumWebPurchases\",\"NumWebPurchases\",\"NumWebPurchases\",\"NumWebPurchases\",\"NumWebPurchases\",\"NumWebPurchases\",\"NumWebPurchases\",\"NumWebPurchases\",\"NumWebPurchases\",\"NumWebPurchases\",\"NumWebPurchases\",\"NumWebPurchases\",\"NumWebPurchases\",\"NumWebPurchases\",\"NumWebPurchases\",\"NumWebPurchases\",\"NumWebPurchases\",\"NumWebPurchases\",\"NumWebPurchases\",\"NumWebPurchases\",\"NumWebPurchases\",\"NumWebPurchases\",\"NumWebPurchases\",\"NumWebPurchases\",\"NumWebPurchases\",\"NumWebPurchases\",\"NumWebPurchases\",\"NumWebPurchases\",\"NumWebPurchases\",\"NumWebPurchases\",\"NumWebPurchases\",\"NumWebPurchases\",\"NumWebPurchases\",\"NumWebPurchases\",\"NumWebPurchases\",\"NumWebPurchases\",\"NumWebPurchases\",\"NumWebPurchases\",\"NumWebPurchases\",\"NumWebPurchases\",\"NumWebPurchases\",\"NumWebPurchases\",\"NumWebPurchases\",\"NumWebPurchases\",\"NumWebPurchases\",\"NumWebPurchases\",\"NumWebPurchases\",\"NumWebPurchases\",\"NumWebPurchases\",\"NumWebPurchases\",\"NumWebPurchases\",\"NumWebPurchases\",\"NumWebPurchases\",\"NumWebPurchases\",\"NumWebPurchases\",\"NumWebPurchases\",\"NumWebPurchases\",\"NumWebPurchases\",\"NumWebPurchases\",\"NumWebPurchases\",\"NumWebPurchases\",\"NumWebPurchases\",\"NumWebPurchases\",\"NumWebPurchases\",\"NumWebPurchases\",\"NumWebPurchases\",\"NumWebPurchases\",\"NumWebPurchases\",\"NumWebPurchases\",\"NumWebPurchases\",\"NumWebPurchases\",\"NumWebPurchases\",\"NumWebPurchases\",\"NumWebPurchases\",\"NumWebPurchases\",\"NumWebPurchases\",\"NumWebPurchases\",\"NumWebPurchases\",\"NumWebPurchases\",\"NumWebPurchases\",\"NumWebPurchases\",\"NumWebPurchases\",\"NumWebPurchases\",\"NumWebPurchases\",\"NumWebPurchases\",\"NumWebPurchases\",\"NumWebPurchases\",\"NumWebPurchases\",\"NumWebPurchases\",\"NumWebPurchases\",\"NumWebPurchases\",\"NumWebPurchases\",\"NumWebPurchases\",\"NumWebPurchases\",\"NumWebPurchases\",\"NumWebPurchases\",\"NumWebPurchases\",\"NumWebPurchases\",\"NumWebPurchases\",\"NumWebPurchases\",\"NumWebPurchases\",\"NumWebPurchases\",\"NumWebPurchases\",\"NumWebPurchases\",\"NumWebPurchases\",\"NumWebPurchases\",\"NumWebPurchases\",\"NumWebPurchases\",\"NumWebPurchases\",\"NumWebPurchases\",\"NumWebPurchases\",\"NumWebPurchases\",\"NumWebPurchases\",\"NumWebPurchases\",\"NumWebPurchases\",\"NumWebPurchases\",\"NumWebPurchases\",\"NumWebPurchases\",\"NumWebPurchases\",\"NumWebPurchases\",\"NumWebPurchases\",\"NumWebPurchases\",\"NumWebPurchases\",\"NumWebPurchases\",\"NumWebPurchases\",\"NumWebPurchases\",\"NumWebPurchases\",\"NumWebPurchases\",\"NumWebPurchases\",\"NumWebPurchases\",\"NumWebPurchases\",\"NumWebPurchases\",\"NumWebPurchases\",\"NumWebPurchases\",\"NumWebPurchases\",\"NumWebPurchases\",\"NumWebPurchases\",\"NumWebPurchases\",\"NumWebPurchases\",\"NumWebPurchases\",\"NumWebPurchases\",\"NumWebPurchases\",\"NumWebPurchases\",\"NumWebPurchases\",\"NumWebPurchases\",\"NumWebPurchases\",\"NumWebPurchases\",\"NumWebPurchases\",\"NumWebPurchases\",\"NumWebPurchases\",\"NumWebPurchases\",\"NumWebPurchases\",\"NumWebPurchases\",\"NumWebPurchases\",\"NumWebPurchases\",\"NumWebPurchases\",\"NumWebPurchases\",\"NumWebPurchases\",\"NumWebPurchases\",\"NumWebPurchases\",\"NumWebPurchases\",\"NumWebPurchases\",\"NumWebPurchases\",\"NumWebPurchases\",\"NumWebPurchases\",\"NumWebPurchases\",\"NumWebPurchases\",\"NumWebPurchases\",\"NumWebPurchases\",\"NumWebPurchases\",\"NumWebPurchases\",\"NumWebPurchases\",\"NumWebPurchases\",\"NumWebPurchases\",\"NumWebPurchases\",\"NumWebPurchases\",\"NumWebPurchases\",\"NumWebPurchases\",\"NumWebPurchases\",\"NumWebPurchases\",\"NumWebPurchases\",\"NumWebPurchases\",\"NumWebPurchases\",\"NumWebPurchases\",\"NumWebPurchases\",\"NumWebPurchases\",\"NumWebPurchases\",\"NumWebPurchases\",\"NumWebPurchases\",\"NumWebPurchases\",\"NumWebPurchases\",\"NumWebPurchases\",\"NumWebPurchases\",\"NumWebPurchases\",\"NumWebPurchases\",\"NumWebPurchases\",\"NumWebPurchases\",\"NumWebPurchases\",\"NumWebPurchases\",\"NumWebPurchases\",\"NumWebPurchases\",\"NumWebPurchases\",\"NumWebPurchases\",\"NumWebPurchases\",\"NumWebPurchases\",\"NumWebPurchases\",\"NumWebPurchases\",\"NumWebPurchases\",\"NumWebPurchases\",\"NumWebPurchases\",\"NumWebPurchases\",\"NumWebPurchases\",\"NumWebPurchases\",\"NumWebPurchases\",\"NumWebPurchases\",\"NumWebPurchases\",\"NumWebPurchases\",\"NumWebPurchases\",\"NumWebPurchases\",\"NumWebPurchases\",\"NumWebPurchases\",\"NumWebPurchases\",\"NumWebPurchases\",\"NumWebPurchases\",\"NumWebPurchases\",\"NumWebPurchases\",\"NumWebPurchases\",\"NumWebPurchases\",\"NumWebPurchases\",\"NumWebPurchases\",\"NumWebPurchases\",\"NumWebPurchases\",\"NumWebPurchases\",\"NumWebPurchases\",\"NumWebPurchases\",\"NumWebPurchases\",\"NumWebPurchases\",\"NumWebPurchases\",\"NumWebPurchases\",\"NumWebPurchases\",\"NumWebPurchases\",\"NumWebPurchases\",\"NumWebPurchases\",\"NumWebPurchases\",\"NumWebPurchases\",\"NumWebPurchases\",\"NumWebPurchases\",\"NumWebPurchases\",\"NumWebPurchases\",\"NumWebPurchases\",\"NumWebPurchases\",\"NumWebPurchases\",\"NumWebPurchases\",\"NumWebPurchases\",\"NumWebPurchases\",\"NumWebPurchases\",\"NumWebPurchases\",\"NumWebPurchases\",\"NumWebPurchases\",\"NumWebPurchases\",\"NumWebPurchases\",\"NumWebPurchases\",\"NumWebPurchases\",\"NumWebPurchases\",\"NumWebPurchases\",\"NumWebPurchases\",\"NumWebPurchases\",\"NumWebPurchases\",\"NumWebPurchases\",\"NumWebPurchases\",\"NumWebPurchases\",\"NumWebPurchases\",\"NumWebPurchases\",\"NumWebPurchases\",\"NumWebPurchases\",\"NumWebPurchases\",\"NumWebPurchases\",\"NumWebPurchases\",\"NumWebPurchases\",\"NumWebPurchases\",\"NumWebPurchases\",\"NumWebPurchases\",\"NumWebPurchases\",\"NumWebPurchases\",\"NumWebPurchases\",\"NumWebPurchases\",\"NumWebPurchases\",\"NumWebPurchases\",\"NumWebPurchases\",\"NumWebPurchases\",\"NumWebPurchases\",\"NumWebPurchases\",\"NumWebPurchases\",\"NumWebPurchases\",\"NumWebPurchases\",\"NumWebPurchases\",\"NumWebPurchases\",\"NumWebPurchases\",\"NumWebPurchases\",\"NumWebPurchases\",\"NumWebPurchases\",\"NumWebPurchases\",\"NumWebPurchases\",\"NumWebPurchases\",\"NumWebPurchases\",\"NumWebPurchases\",\"NumWebPurchases\",\"NumWebPurchases\",\"NumWebPurchases\",\"NumWebPurchases\",\"NumWebPurchases\",\"NumWebPurchases\",\"NumWebPurchases\",\"NumWebPurchases\",\"NumWebPurchases\",\"NumWebPurchases\",\"NumWebPurchases\",\"NumWebPurchases\",\"NumWebPurchases\",\"NumWebPurchases\",\"NumWebPurchases\",\"NumWebPurchases\",\"NumWebPurchases\",\"NumWebPurchases\",\"NumWebPurchases\",\"NumWebPurchases\",\"NumWebPurchases\",\"NumWebPurchases\",\"NumWebPurchases\",\"NumWebPurchases\",\"NumWebPurchases\",\"NumWebPurchases\",\"NumWebPurchases\",\"NumWebPurchases\",\"NumWebPurchases\",\"NumWebPurchases\",\"NumWebPurchases\",\"NumWebPurchases\",\"NumWebPurchases\",\"NumWebPurchases\",\"NumWebPurchases\",\"NumWebPurchases\",\"NumWebPurchases\",\"NumWebPurchases\",\"NumWebPurchases\",\"NumWebPurchases\",\"NumWebPurchases\",\"NumWebPurchases\",\"NumWebPurchases\",\"NumWebPurchases\",\"NumWebPurchases\",\"NumWebPurchases\",\"NumWebPurchases\",\"NumWebPurchases\",\"NumWebPurchases\",\"NumWebPurchases\",\"NumWebPurchases\",\"NumWebPurchases\",\"NumWebPurchases\",\"NumWebPurchases\",\"NumWebPurchases\",\"NumWebPurchases\",\"NumWebPurchases\",\"NumWebPurchases\",\"NumWebPurchases\",\"NumWebPurchases\",\"NumWebPurchases\",\"NumWebPurchases\",\"NumWebPurchases\",\"NumWebPurchases\",\"NumWebPurchases\",\"NumWebPurchases\",\"NumWebPurchases\",\"NumWebPurchases\",\"NumWebPurchases\",\"NumWebPurchases\",\"NumWebPurchases\",\"NumWebPurchases\",\"NumWebPurchases\",\"NumWebPurchases\",\"NumWebPurchases\",\"NumWebPurchases\",\"NumWebPurchases\",\"NumWebPurchases\",\"NumWebPurchases\",\"NumWebPurchases\",\"NumWebPurchases\",\"NumWebPurchases\",\"NumWebPurchases\",\"NumWebPurchases\",\"NumWebPurchases\",\"NumWebPurchases\",\"NumWebPurchases\",\"NumWebPurchases\",\"NumWebPurchases\",\"NumWebPurchases\",\"NumWebPurchases\",\"NumWebPurchases\",\"NumWebPurchases\",\"NumWebPurchases\",\"NumWebPurchases\",\"NumWebPurchases\",\"NumWebPurchases\",\"NumWebPurchases\",\"NumWebPurchases\",\"NumWebPurchases\",\"NumWebPurchases\",\"NumWebPurchases\",\"NumWebPurchases\",\"NumWebPurchases\",\"NumWebPurchases\",\"NumWebPurchases\",\"NumWebPurchases\",\"NumWebPurchases\",\"NumWebPurchases\",\"NumWebPurchases\",\"NumWebPurchases\",\"NumWebPurchases\",\"NumWebPurchases\",\"NumWebPurchases\",\"NumWebPurchases\",\"NumWebPurchases\",\"NumWebPurchases\",\"NumWebPurchases\",\"NumWebPurchases\",\"NumWebPurchases\",\"NumWebPurchases\",\"NumWebPurchases\",\"NumWebPurchases\",\"NumWebPurchases\",\"NumWebPurchases\",\"NumWebPurchases\",\"NumWebPurchases\",\"NumWebPurchases\",\"NumWebPurchases\",\"NumWebPurchases\",\"NumWebPurchases\",\"NumWebPurchases\",\"NumWebPurchases\",\"NumWebPurchases\",\"NumWebPurchases\",\"NumWebPurchases\",\"NumWebPurchases\",\"NumWebPurchases\",\"NumWebPurchases\",\"NumWebPurchases\",\"NumWebPurchases\",\"NumWebPurchases\",\"NumWebPurchases\",\"NumWebPurchases\",\"NumWebPurchases\",\"NumWebPurchases\",\"NumWebPurchases\",\"NumWebPurchases\",\"NumWebPurchases\",\"NumWebPurchases\",\"NumWebPurchases\",\"NumWebPurchases\",\"NumWebPurchases\",\"NumWebPurchases\",\"NumWebPurchases\",\"NumWebPurchases\",\"NumWebPurchases\",\"NumWebPurchases\",\"NumWebPurchases\",\"NumWebPurchases\",\"NumWebPurchases\",\"NumWebPurchases\",\"NumWebPurchases\",\"NumWebPurchases\",\"NumWebPurchases\",\"NumWebPurchases\",\"NumWebPurchases\",\"NumWebPurchases\",\"NumWebPurchases\",\"NumWebPurchases\",\"NumWebPurchases\",\"NumWebPurchases\",\"NumWebPurchases\",\"NumWebPurchases\",\"NumWebPurchases\",\"NumWebPurchases\",\"NumWebPurchases\",\"NumWebPurchases\",\"NumWebPurchases\",\"NumWebPurchases\",\"NumWebPurchases\",\"NumWebPurchases\",\"NumWebPurchases\",\"NumWebPurchases\",\"NumWebPurchases\",\"NumWebPurchases\",\"NumWebPurchases\",\"NumWebPurchases\",\"NumWebPurchases\",\"NumWebPurchases\",\"NumWebPurchases\",\"NumWebPurchases\",\"NumWebPurchases\",\"NumWebPurchases\",\"NumWebPurchases\",\"NumWebPurchases\",\"NumWebPurchases\",\"NumWebPurchases\",\"NumWebPurchases\",\"NumWebPurchases\",\"NumWebPurchases\",\"NumWebPurchases\",\"NumWebPurchases\",\"NumWebPurchases\",\"NumWebPurchases\",\"NumWebPurchases\",\"NumWebPurchases\",\"NumWebPurchases\",\"NumWebPurchases\",\"NumWebPurchases\",\"NumWebPurchases\",\"NumWebPurchases\",\"NumWebPurchases\",\"NumWebPurchases\",\"NumWebPurchases\",\"NumWebPurchases\",\"NumWebPurchases\",\"NumWebPurchases\",\"NumWebPurchases\",\"NumWebPurchases\",\"NumWebPurchases\",\"NumWebPurchases\",\"NumWebPurchases\",\"NumWebPurchases\",\"NumWebPurchases\",\"NumWebPurchases\",\"NumWebPurchases\",\"NumWebPurchases\",\"NumWebPurchases\",\"NumWebPurchases\",\"NumWebPurchases\",\"NumWebPurchases\",\"NumWebPurchases\",\"NumWebPurchases\",\"NumWebPurchases\",\"NumWebPurchases\",\"NumWebPurchases\",\"NumWebPurchases\",\"NumWebPurchases\",\"NumWebPurchases\",\"NumWebPurchases\",\"NumWebPurchases\",\"NumWebPurchases\",\"NumWebPurchases\",\"NumWebPurchases\",\"NumWebPurchases\",\"NumWebPurchases\",\"NumWebPurchases\",\"NumWebPurchases\",\"NumWebPurchases\",\"NumWebPurchases\",\"NumWebPurchases\",\"NumWebPurchases\",\"NumWebPurchases\",\"NumWebPurchases\",\"NumWebPurchases\",\"NumWebPurchases\",\"NumWebPurchases\",\"NumWebPurchases\",\"NumWebPurchases\",\"NumWebPurchases\",\"NumWebPurchases\",\"NumWebPurchases\",\"NumWebPurchases\",\"NumWebPurchases\",\"NumWebPurchases\",\"NumWebPurchases\",\"NumWebPurchases\",\"NumWebPurchases\",\"NumWebPurchases\",\"NumWebPurchases\",\"NumWebPurchases\",\"NumWebPurchases\",\"NumWebPurchases\",\"NumWebPurchases\",\"NumWebPurchases\",\"NumWebPurchases\",\"NumWebPurchases\",\"NumWebPurchases\",\"NumWebPurchases\",\"NumWebPurchases\",\"NumWebPurchases\",\"NumWebPurchases\",\"NumWebPurchases\",\"NumWebPurchases\",\"NumWebPurchases\",\"NumWebPurchases\",\"NumWebPurchases\",\"NumWebPurchases\",\"NumWebPurchases\",\"NumWebPurchases\",\"NumWebPurchases\",\"NumWebPurchases\",\"NumWebPurchases\",\"NumWebPurchases\",\"NumWebPurchases\",\"NumWebPurchases\",\"NumWebPurchases\",\"NumWebPurchases\",\"NumWebPurchases\",\"NumWebPurchases\",\"NumWebPurchases\",\"NumWebPurchases\",\"NumWebPurchases\",\"NumWebPurchases\",\"NumWebPurchases\",\"NumWebPurchases\",\"NumWebPurchases\",\"NumWebPurchases\",\"NumWebPurchases\",\"NumWebPurchases\",\"NumWebPurchases\",\"NumWebPurchases\",\"NumWebPurchases\",\"NumWebPurchases\",\"NumWebPurchases\",\"NumWebPurchases\",\"NumWebPurchases\",\"NumWebPurchases\",\"NumWebPurchases\",\"NumWebPurchases\",\"NumWebPurchases\",\"NumWebPurchases\",\"NumWebPurchases\",\"NumWebPurchases\",\"NumWebPurchases\",\"NumWebPurchases\",\"NumWebPurchases\",\"NumWebPurchases\",\"NumWebPurchases\",\"NumWebPurchases\",\"NumWebPurchases\",\"NumWebPurchases\",\"NumWebPurchases\",\"NumWebPurchases\",\"NumWebPurchases\",\"NumWebPurchases\",\"NumWebPurchases\",\"NumWebPurchases\",\"NumWebPurchases\",\"NumWebPurchases\",\"NumWebPurchases\",\"NumWebPurchases\",\"NumWebPurchases\",\"NumWebPurchases\",\"NumWebPurchases\",\"NumWebPurchases\",\"NumWebPurchases\",\"NumWebPurchases\",\"NumWebPurchases\",\"NumWebPurchases\",\"NumWebPurchases\",\"NumWebPurchases\",\"NumWebPurchases\",\"NumWebPurchases\",\"NumWebPurchases\",\"NumWebPurchases\",\"NumWebPurchases\",\"NumWebPurchases\",\"NumWebPurchases\",\"NumWebPurchases\",\"NumWebPurchases\",\"NumWebPurchases\",\"NumWebPurchases\",\"NumWebPurchases\",\"NumWebPurchases\",\"NumWebPurchases\",\"NumWebPurchases\",\"NumWebPurchases\",\"NumWebPurchases\",\"NumWebPurchases\",\"NumWebPurchases\",\"NumWebPurchases\",\"NumWebPurchases\",\"NumWebPurchases\",\"NumWebPurchases\",\"NumWebPurchases\",\"NumWebPurchases\",\"NumWebPurchases\",\"NumWebPurchases\",\"NumWebPurchases\",\"NumWebPurchases\",\"NumWebPurchases\",\"NumWebPurchases\",\"NumWebPurchases\",\"NumWebPurchases\",\"NumWebPurchases\",\"NumWebPurchases\",\"NumWebPurchases\",\"NumWebPurchases\",\"NumWebPurchases\",\"NumWebPurchases\",\"NumWebPurchases\",\"NumWebPurchases\",\"NumWebPurchases\",\"NumWebPurchases\",\"NumWebPurchases\",\"NumWebPurchases\",\"NumWebPurchases\",\"NumWebPurchases\",\"NumWebPurchases\",\"NumWebPurchases\",\"NumWebPurchases\",\"NumWebPurchases\",\"NumWebPurchases\",\"NumWebPurchases\",\"NumWebPurchases\",\"NumWebPurchases\",\"NumWebPurchases\",\"NumWebPurchases\",\"NumWebPurchases\",\"NumWebPurchases\",\"NumWebPurchases\",\"NumWebPurchases\",\"NumWebPurchases\",\"NumWebPurchases\",\"NumWebPurchases\",\"NumWebPurchases\",\"NumWebPurchases\",\"NumWebPurchases\",\"NumWebPurchases\",\"NumWebPurchases\",\"NumWebPurchases\",\"NumWebPurchases\",\"NumWebPurchases\",\"NumWebPurchases\",\"NumWebPurchases\",\"NumWebPurchases\",\"NumWebPurchases\",\"NumWebPurchases\",\"NumWebPurchases\",\"NumWebPurchases\",\"NumWebPurchases\",\"NumWebPurchases\",\"NumWebPurchases\",\"NumWebPurchases\",\"NumWebPurchases\",\"NumWebPurchases\",\"NumWebPurchases\",\"NumWebPurchases\",\"NumWebPurchases\",\"NumWebPurchases\",\"NumWebPurchases\",\"NumWebPurchases\",\"NumWebPurchases\",\"NumWebPurchases\",\"NumWebPurchases\",\"NumWebPurchases\",\"NumWebPurchases\",\"NumWebPurchases\",\"NumWebPurchases\",\"NumWebPurchases\",\"NumWebPurchases\",\"NumWebPurchases\",\"NumWebPurchases\",\"NumWebPurchases\",\"NumWebPurchases\",\"NumWebPurchases\",\"NumWebPurchases\",\"NumWebPurchases\",\"NumWebPurchases\",\"NumWebPurchases\",\"NumWebPurchases\",\"NumWebPurchases\",\"NumWebPurchases\",\"NumWebPurchases\",\"NumWebPurchases\",\"NumWebPurchases\",\"NumWebPurchases\",\"NumWebPurchases\",\"NumWebPurchases\",\"NumWebPurchases\",\"NumWebPurchases\",\"NumWebPurchases\",\"NumWebPurchases\",\"NumWebPurchases\",\"NumWebPurchases\",\"NumWebPurchases\",\"NumWebPurchases\",\"NumWebPurchases\",\"NumWebPurchases\",\"NumWebPurchases\",\"NumWebPurchases\",\"NumWebPurchases\",\"NumWebPurchases\",\"NumWebPurchases\",\"NumWebPurchases\",\"NumWebPurchases\",\"NumWebPurchases\",\"NumWebPurchases\",\"NumWebPurchases\",\"NumWebPurchases\",\"NumWebPurchases\",\"NumWebPurchases\",\"NumWebPurchases\",\"NumWebPurchases\",\"NumWebPurchases\",\"NumWebPurchases\",\"NumWebPurchases\",\"NumWebPurchases\",\"NumWebPurchases\",\"NumWebPurchases\",\"NumWebPurchases\",\"NumWebPurchases\",\"NumWebPurchases\",\"NumWebPurchases\",\"NumWebPurchases\",\"NumWebPurchases\",\"NumWebPurchases\",\"NumWebPurchases\",\"NumWebPurchases\",\"NumWebPurchases\",\"NumWebPurchases\",\"NumWebPurchases\",\"NumWebPurchases\",\"NumWebPurchases\",\"NumWebPurchases\",\"NumWebPurchases\",\"NumWebPurchases\",\"NumWebPurchases\",\"NumWebPurchases\",\"NumWebPurchases\",\"NumWebPurchases\",\"NumWebPurchases\",\"NumWebPurchases\",\"NumWebPurchases\",\"NumWebPurchases\",\"NumWebPurchases\",\"NumWebPurchases\",\"NumWebPurchases\",\"NumWebPurchases\",\"NumWebPurchases\",\"NumWebPurchases\",\"NumWebPurchases\",\"NumWebPurchases\",\"NumWebPurchases\",\"NumWebPurchases\",\"NumWebPurchases\",\"NumWebPurchases\",\"NumWebPurchases\",\"NumWebPurchases\",\"NumWebPurchases\",\"NumWebPurchases\",\"NumWebPurchases\",\"NumWebPurchases\",\"NumWebPurchases\",\"NumWebPurchases\",\"NumWebPurchases\",\"NumWebPurchases\",\"NumWebPurchases\",\"NumWebPurchases\",\"NumWebPurchases\",\"NumWebPurchases\",\"NumWebPurchases\",\"NumWebPurchases\",\"NumWebPurchases\",\"NumWebPurchases\",\"NumWebPurchases\",\"NumWebPurchases\",\"NumWebPurchases\",\"NumWebPurchases\",\"NumWebPurchases\",\"NumWebPurchases\",\"NumWebPurchases\",\"NumWebPurchases\",\"NumWebPurchases\",\"NumWebPurchases\",\"NumWebPurchases\",\"NumWebPurchases\",\"NumWebPurchases\",\"NumWebPurchases\",\"NumWebPurchases\",\"NumWebPurchases\",\"NumWebPurchases\",\"NumWebPurchases\",\"NumWebPurchases\",\"NumWebPurchases\",\"NumWebPurchases\",\"NumWebPurchases\",\"NumWebPurchases\",\"NumWebPurchases\",\"NumWebPurchases\",\"NumWebPurchases\",\"NumWebPurchases\",\"NumWebPurchases\",\"NumWebPurchases\",\"NumWebPurchases\",\"NumWebPurchases\",\"NumWebPurchases\",\"NumWebPurchases\",\"NumWebPurchases\",\"NumWebPurchases\",\"NumWebPurchases\",\"NumWebPurchases\",\"NumWebPurchases\",\"NumWebPurchases\",\"NumWebPurchases\",\"NumWebPurchases\",\"NumWebPurchases\",\"NumWebPurchases\",\"NumWebPurchases\",\"NumWebPurchases\",\"NumWebPurchases\",\"NumWebPurchases\",\"NumWebPurchases\",\"NumWebPurchases\",\"NumWebPurchases\",\"NumWebPurchases\",\"NumWebPurchases\",\"NumWebPurchases\",\"NumWebPurchases\"],\"value\":[3,7,3,1,6,2,6,3,6,2,4,1,7,2,0,8,1,2,2,3,1,5,4,5,5,4,1,8,5,8,4,8,6,1,1,5,4,4,5,2,7,3,2,4,1,2,9,4,4,7,6,7,1,5,3,4,3,3,2,2,3,3,3,8,4,6,2,5,4,9,7,7,8,1,9,3,2,7,11,2,5,6,11,3,6,1,1,2,11,4,2,3,4,4,3,7,1,7,2,1,8,2,2,5,8,3,1,3,3,8,5,1,1,5,8,1,8,7,5,7,0,1,9,7,2,2,1,4,1,1,5,6,4,2,4,6,2,4,3,3,8,7,2,6,2,11,1,1,0,6,4,6,5,4,8,3,2,3,8,6,6,5,2,3,7,2,1,5,3,6,4,5,1,1,1,2,3,7,4,3,3,1,2,4,7,7,6,5,4,4,5,2,6,6,6,9,7,1,8,2,5,5,1,6,7,5,5,3,2,8,1,1,5,7,2,7,3,6,4,9,3,4,1,10,6,2,3,4,5,3,2,10,4,3,3,5,6,4,5,7,4,3,1,3,1,10,11,8,5,3,4,1,4,2,7,10,6,6,3,3,3,4,2,6,8,3,7,2,3,6,2,4,7,4,6,2,1,2,3,4,1,5,6,2,7,2,2,9,6,2,9,10,3,5,2,1,2,10,3,6,0,2,0,2,9,2,1,1,9,3,2,8,4,4,7,7,7,4,1,8,4,6,2,1,3,10,4,1,5,9,4,8,1,1,5,1,2,2,5,4,4,6,2,5,1,3,3,7,2,1,4,1,7,5,5,2,2,3,2,4,9,2,2,3,2,7,9,1,2,2,1,4,8,11,8,7,3,2,4,2,1,7,11,8,5,6,1,3,2,3,2,2,2,1,2,5,4,2,4,6,4,1,2,2,4,3,5,5,1,1,6,7,1,7,3,3,9,5,2,4,8,2,2,2,3,0,1,1,5,3,5,1,0,8,4,3,3,2,2,1,9,1,1,1,6,4,2,1,5,2,1,5,1,6,6,1,11,7,1,3,4,3,2,0,3,5,3,5,6,6,7,3,5,2,5,2,5,2,6,2,2,5,5,2,1,1,3,1,2,7,4,5,1,0,1,5,2,4,6,2,1,1,1,6,1,4,2,3,4,1,10,6,6,2,2,6,8,2,7,1,1,3,2,5,2,3,1,2,8,5,6,3,5,2,6,1,1,6,1,6,3,0,3,3,5,2,4,4,6,7,1,9,7,4,3,8,1,1,4,2,9,7,1,10,4,1,2,2,6,1,3,7,4,3,10,8,7,3,1,8,2,2,3,2,2,2,6,1,8,4,5,1,2,3,2,6,8,1,7,6,3,1,3,4,1,1,5,4,4,6,4,2,5,3,11,4,2,5,3,4,1,6,7,5,1,5,4,1,6,1,2,2,5,7,4,2,1,1,4,5,6,5,4,6,4,3,4,1,7,5,2,1,1,8,3,3,7,4,6,2,9,2,4,3,7,3,5,2,7,1,3,2,2,6,8,2,3,7,2,9,2,5,11,4,6,4,1,4,7,7,3,7,2,2,11,7,5,2,4,3,1,4,5,5,1,1,4,1,3,2,2,2,4,3,4,8,3,5,8,6,4,8,3,5,4,2,3,6,2,4,2,4,4,3,8,7,8,7,2,3,4,2,2,6,3,5,2,2,1,5,3,6,7,3,9,5,1,2,1,2,7,9,7,1,4,8,2,6,1,9,3,4,9,3,9,7,1,1,2,1,9,4,7,5,4,8,10,7,11,0,2,11,2,7,6,8,7,7,3,1,4,6,2,3,11,5,2,8,10,6,1,3,4,5,4,4,2,1,0,4,6,2,6,6,11,7,3,7,5,8,5,5,5,2,1,3,2,5,0,4,4,6,2,7,2,2,2,1,4,4,1,7,3,4,10,1,7,1,2,1,11,1,0,5,6,4,8,2,1,3,2,1,5,1,1,3,3,3,2,2,7,3,3,5,9,5,4,6,9,1,7,7,5,2,2,3,8,1,2,6,1,2,1,7,5,11,7,2,2,3,4,3,6,2,9,3,3,2,1,1,1,3,3,2,9,3,3,7,5,4,3,8,9,27,6,4,3,5,3,3,10,3,10,9,7,2,6,3,8,4,7,5,4,1,1,2,1,6,8,8,2,7,3,6,8,6,10,4,4,1,1,1,1,4,5,2,8,1,2,3,7,1,4,5,3,1,2,11,5,3,0,1,4,2,4,10,7,4,2,2,5,3,1,4,1,11,3,7,4,1,8,1,2,2,0,5,4,4,10,3,3,4,2,4,2,2,1,6,2,6,1,6,7,3,1,5,5,4,5,7,2,4,9,1,4,4,2,11,2,6,3,1,6,4,1,1,4,7,8,9,8,10,2,1,1,4,1,10,2,1,5,2,4,27,1,1,1,8,6,2,3,3,1,5,3,7,2,4,6,1,2,7,2,3,5,0,3,3,1,6,1,3,3,7,3,0,5,6,1,1,9,10,1,3,4,9,5,4,2,2,9,4,6,1,5,7,1,1,6,8,2,8,3,5,4,7,7,3,7,4,0,4,7,7,1,2,9,9,8,1,6,1,4,10,5,3,4,3,5,2,9,4,1,6,2,7,1,2,5,7,1,3,1,2,3,1,5,1,2,10,6,9,3,2,7,4,2,2,1,1,3,5,5,3,2,6,10,1,7,5,6,4,1,6,4,7,4,3,4,1,1,3,4,2,7,3,4,5,4,6,3,1,3,2,2,2,1,10,5,6,5,1,5,5,7,6,5,11,3,5,6,8,2,1,1,4,6,5,0,1,6,4,8,2,2,3,3,6,2,4,6,2,1,2,1,8,2,5,9,23,3,3,9,11,4,7,3,3,3,2,2,8,6,9,1,3,4,11,6,5,2,10,9,6,2,2,1,6,1,8,1,2,7,2,5,4,2,1,3,5,2,3,4,6,7,4,4,5,1,1,2,2,11,4,6,2,5,2,2,3,6,2,1,2,1,7,4,1,2,3,6,11,5,2,9,6,9,5,3,8,3,1,2,3,2,1,3,7,11,9,3,3,3,0,1,3,8,2,6,7,6,10,1,4,2,1,5,1,2,5,3,7,5,1,3,3,4,0,3,1,3,4,7,4,2,8,10,6,3,6,1,2,5,8,7,5,3,2,9,2,1,1,2,4,6,10,4,2,8,9,7,2,3,3,5,3,6,3,3,2,6,11,2,4,2,3,8,3,8,9,0,6,10,3,5,9,2,2,1,6,5,4,1,8,2,1,4,2,0,2,4,6,1,4,1,5,2,2,7,7,3,5,1,2,4,2,4,1,1,2,3,3,8,3,6,4,1,1,1,6,4,3,3,3,2,4,8,10,11,7,1,2,5,7,5,4,1,3,2,5,3,3,7,3,1,2,1,6,4,3,3,10,5,2,5,6,2,8,5,1,3,2,4,2,2,3,4,2,2,2,4,1,6,5,2,2,5,2,2,5,5,1,1,5,2,4,3,11,6,1,8,4,7,4,2,9,3,3,5,0,6,1,10,7,5,5,4,3,2,8,3,5,2,3,8,6,4,4,6,2,4,0,3,10,11,3,3,3,1,1,3,3,4,11,3,8,0,2,5,2,4,2,5,3,2,3,3,2,0,1,2,6,4,5,9,1,2,4,1,2,6,4,4,1,5,2,6,4,3,4,1,4,3,2,4,2,7,1,6,1,6,1,8,3,1,10,2,5,1,5,2,1,6,3,7,0,7,1,1,8,4,3,1,7,4,2,2,2,2,7,0,9,6,1,3,1,1,0,1,9,8,5,1,4,3,6,6,3,2,2,1,2,6,2,1,10,2,5,3,1,8,7,2,4,0,4,3,1,4,1,4,6,1,7,2,2,5,4,2,1,5,11,0,7,2,3,11,7,2,2,1,1,3,5,3,4,3,4,6,3,3,7,7,2,9,3,2,8,8,4,6,3,5,3,7,3,4,5,0,11,6,8,11,9,2,5,4,6,1,1,6,2,5,6,3,0,10,7,5,3,2,5,6,4,3,1,7,3,3,4,5,1,2,5,1,7,4,9,4,2,4,5,4,6,1,5,6,2,8,8,1,2,6,6,6,8,10,1,4,9,6,0,5,5,2,0,4,4,1,4,3,1,10,6,1,6,5,4,9,11,11,6,4,4,5,1,1,6,3,2,2,2,3,5,10,3,9,1,6,4,3,4,2,3,5,2,3,9,5,3,6,9,0,3,1,0,0,7,7,4,2,4,2,4,3,7,4,1,1,3,3,9,5,2,5,2,3,1,5,7,6,4,3,2,4,11,7,1,2,8,1,3,3,2,11,10,5,10,5,8,11,3,2,6,9,5,2,7,0,6,4,2,4,6,3,6,3,2,2,4,6,0,2,4,6,3,4,3,9,1,4,6,1,4,1,7,3,9,8,4,6,9,2,3,1,3,3,1,5,5,9,2,1,2,2,6,6,7,5,5,5,1,3,8,5,3,6,5,0,5,8,1,7,4,8,4,11,1,8,5,4,1,4,5,8,1,1,3,1,3,2,10,1,2,3,1,1,6,3,1,3,1,5,2,6,1,6,25,5,9,3,4,4,6,2,3,1,3,1,1,6,5,3,1,5,1,4,3,1,0,1,3,4,4,4,4,1,5,5,0,1,6,2,6,4,3,3,11,3,4,6,6,0,3,3,2,3,2,2,2,1,3,3,3,3,4,6,1,6,6,7,5,5,4,4,2,2,3,1,3,3,7,1,3,4,3,4,2,1,5,5,3,3,8,9,3,6,9,3,11,3,6,1,1,3,7,7,3,6,1,1,3,6,7,2,6,2,6,4,0,3,1,4,3,4,1,2,2,1,2,1,2,6,4,1,3,6,8,2,1,4,7,2,4,1,9,1,3,9,4,4,8,9,4,4,5,1,1,3,7,5,5,3,3,3,2,8,7,4,3,6,5,4,3,2,1,1,3,2,3,1,1,5,6,3,3,3,3,3,1,4,1,2,2,2,11,0,5,2,4,7,1,6,6,5,1,0,2,2,2]},\"selected\":{\"id\":\"2184\"},\"selection_policy\":{\"id\":\"2200\"}},\"id\":\"2183\",\"type\":\"ColumnDataSource\"},{\"attributes\":{\"fill_color\":{\"value\":\"#fc4f30\"},\"line_color\":{\"value\":\"#fc4f30\"},\"size\":{\"value\":5.477225575051661},\"x\":{\"field\":\"MntWines\"},\"y\":{\"field\":\"value\"}},\"id\":\"2207\",\"type\":\"Scatter\"},{\"attributes\":{},\"id\":\"2182\",\"type\":\"BasicTickFormatter\"},{\"attributes\":{\"source\":{\"id\":\"2204\"}},\"id\":\"2211\",\"type\":\"CDSView\"},{\"attributes\":{\"fill_alpha\":{\"value\":0.1},\"fill_color\":{\"value\":\"#fc4f30\"},\"line_alpha\":{\"value\":0.1},\"line_color\":{\"value\":\"#fc4f30\"},\"size\":{\"value\":5.477225575051661},\"x\":{\"field\":\"MntWines\"},\"y\":{\"field\":\"value\"}},\"id\":\"2208\",\"type\":\"Scatter\"},{\"attributes\":{\"fill_alpha\":{\"value\":0.2},\"fill_color\":{\"value\":\"#fc4f30\"},\"line_alpha\":{\"value\":0.2},\"line_color\":{\"value\":\"#fc4f30\"},\"size\":{\"value\":5.477225575051661},\"x\":{\"field\":\"MntWines\"},\"y\":{\"field\":\"value\"}},\"id\":\"2209\",\"type\":\"Scatter\"},{\"attributes\":{\"margin\":[5,5,5,5],\"name\":\"HSpacer03942\",\"sizing_mode\":\"stretch_width\"},\"id\":\"2334\",\"type\":\"Spacer\"},{\"attributes\":{\"data_source\":{\"id\":\"2183\"},\"glyph\":{\"id\":\"2186\"},\"hover_glyph\":null,\"muted_glyph\":{\"id\":\"2188\"},\"nonselection_glyph\":{\"id\":\"2187\"},\"selection_glyph\":{\"id\":\"2203\"},\"view\":{\"id\":\"2190\"}},\"id\":\"2189\",\"type\":\"GlyphRenderer\"},{\"attributes\":{\"text_color\":\"black\",\"text_font_size\":\"12pt\"},\"id\":\"2148\",\"type\":\"Title\"},{\"attributes\":{\"below\":[{\"id\":\"2156\"}],\"center\":[{\"id\":\"2159\"},{\"id\":\"2163\"}],\"height\":300,\"left\":[{\"id\":\"2160\"}],\"margin\":[5,5,5,5],\"min_border_bottom\":10,\"min_border_left\":10,\"min_border_right\":10,\"min_border_top\":10,\"renderers\":[{\"id\":\"2189\"},{\"id\":\"2210\"}],\"right\":[{\"id\":\"2201\"}],\"sizing_mode\":\"fixed\",\"title\":{\"id\":\"2148\"},\"toolbar\":{\"id\":\"2170\"},\"width\":700,\"x_range\":{\"id\":\"2143\"},\"x_scale\":{\"id\":\"2152\"},\"y_range\":{\"id\":\"2144\"},\"y_scale\":{\"id\":\"2154\"}},\"id\":\"2147\",\"subtype\":\"Figure\",\"type\":\"Plot\"},{\"attributes\":{\"axis\":{\"id\":\"2160\"},\"dimension\":1,\"grid_line_color\":null,\"ticker\":null},\"id\":\"2163\",\"type\":\"Grid\"},{\"attributes\":{\"overlay\":{\"id\":\"2169\"}},\"id\":\"2167\",\"type\":\"BoxZoomTool\"},{\"attributes\":{},\"id\":\"2161\",\"type\":\"BasicTicker\"}],\"root_ids\":[\"2141\"]},\"title\":\"Bokeh Application\",\"version\":\"2.3.2\"}};\n",
       "    var render_items = [{\"docid\":\"0b692783-dd5f-4be5-a182-18110c890b63\",\"root_ids\":[\"2141\"],\"roots\":{\"2141\":\"f456f908-68fc-4dea-9c21-73e3b7f8eb14\"}}];\n",
       "    root.Bokeh.embed.embed_items_notebook(docs_json, render_items);\n",
       "  }\n",
       "  if (root.Bokeh !== undefined && root.Bokeh.Panel !== undefined && ( root['Plotly'] !== undefined)) {\n",
       "    embed_document(root);\n",
       "  } else {\n",
       "    var attempts = 0;\n",
       "    var timer = setInterval(function(root) {\n",
       "      if (root.Bokeh !== undefined && root.Bokeh.Panel !== undefined && (root['Plotly'] !== undefined)) {\n",
       "        clearInterval(timer);\n",
       "        embed_document(root);\n",
       "      } else if (document.readyState == \"complete\") {\n",
       "        attempts++;\n",
       "        if (attempts > 200) {\n",
       "          clearInterval(timer);\n",
       "          console.log(\"Bokeh: ERROR: Unable to run BokehJS code because BokehJS library is missing\");\n",
       "        }\n",
       "      }\n",
       "    }, 25, root)\n",
       "  }\n",
       "})(window);</script>"
      ],
      "text/plain": [
       ":NdOverlay   [Variable]\n",
       "   :Scatter   [MntWines]   (value)"
      ]
     },
     "execution_count": 49,
     "metadata": {
      "application/vnd.holoviews_exec.v0+json": {
       "id": "2141"
      }
     },
     "output_type": "execute_result"
    }
   ],
   "source": [
    "# Stores versus website with customer spend\n",
    "df = wine_data[['MntWines','NumWebPurchases','NumStorePurchases']]\n",
    "df.hvplot(kind='scatter', x='MntWines')"
   ]
  },
  {
   "cell_type": "code",
   "execution_count": null,
   "metadata": {},
   "outputs": [],
   "source": []
  }
 ],
 "metadata": {
  "kernelspec": {
   "display_name": "Python 3",
   "language": "python",
   "name": "python3"
  },
  "language_info": {
   "codemirror_mode": {
    "name": "ipython",
    "version": 3
   },
   "file_extension": ".py",
   "mimetype": "text/x-python",
   "name": "python",
   "nbconvert_exporter": "python",
   "pygments_lexer": "ipython3",
   "version": "3.7.10"
  }
 },
 "nbformat": 4,
 "nbformat_minor": 4
}
